{
 "cells": [
  {
   "cell_type": "code",
   "execution_count": 1,
   "metadata": {
    "collapsed": true
   },
   "outputs": [],
   "source": [
    "from sklearn.metrics import log_loss\n",
    "import numpy as np\n",
    "import pandas as pd"
   ]
  },
  {
   "cell_type": "code",
   "execution_count": 7,
   "metadata": {
    "collapsed": false
   },
   "outputs": [
    {
     "name": "stdout",
     "output_type": "stream",
     "text": [
      "(74659, 4)\n",
      "(74659, 4)\n"
     ]
    }
   ],
   "source": [
    "data_path = \"../output/\"\n",
    "sub_2ndxgb = pd.read_csv(data_path + 'sub_2ndXGB_BM_10bagging_2017-04-19-23-47_52469.csv')\n",
    "sub_2ndadet = pd.read_csv(data_path + 'sub_2ndADET_100bagging_0413_2017-04-14-18-16_52079.csv')\n",
    "\n",
    "\n",
    "print sub_2ndxgb.shape\n",
    "print sub_2ndadet.shape"
   ]
  },
  {
   "cell_type": "code",
   "execution_count": 12,
   "metadata": {
    "collapsed": false
   },
   "outputs": [],
   "source": [
    "tmp = (sub_2ndxgb[['low','medium','high']] + sub_2ndadet[['low','medium','high']])/2"
   ]
  },
  {
   "cell_type": "code",
   "execution_count": 14,
   "metadata": {
    "collapsed": false
   },
   "outputs": [],
   "source": [
    "tmp['listing_id'] = sub_2ndxgb.listing_id.values"
   ]
  },
  {
   "cell_type": "code",
   "execution_count": 16,
   "metadata": {
    "collapsed": false
   },
   "outputs": [
    {
     "data": {
      "text/html": [
       "<div>\n",
       "<table border=\"1\" class=\"dataframe\">\n",
       "  <thead>\n",
       "    <tr style=\"text-align: right;\">\n",
       "      <th></th>\n",
       "      <th>low</th>\n",
       "      <th>medium</th>\n",
       "      <th>high</th>\n",
       "      <th>listing_id</th>\n",
       "    </tr>\n",
       "  </thead>\n",
       "  <tbody>\n",
       "    <tr>\n",
       "      <th>0</th>\n",
       "      <td>0.399535</td>\n",
       "      <td>0.514874</td>\n",
       "      <td>0.085591</td>\n",
       "      <td>7142618</td>\n",
       "    </tr>\n",
       "    <tr>\n",
       "      <th>1</th>\n",
       "      <td>0.995371</td>\n",
       "      <td>0.003907</td>\n",
       "      <td>0.000723</td>\n",
       "      <td>7210040</td>\n",
       "    </tr>\n",
       "    <tr>\n",
       "      <th>2</th>\n",
       "      <td>0.955621</td>\n",
       "      <td>0.042762</td>\n",
       "      <td>0.001617</td>\n",
       "      <td>7174566</td>\n",
       "    </tr>\n",
       "    <tr>\n",
       "      <th>3</th>\n",
       "      <td>0.187095</td>\n",
       "      <td>0.553183</td>\n",
       "      <td>0.259722</td>\n",
       "      <td>7191391</td>\n",
       "    </tr>\n",
       "    <tr>\n",
       "      <th>4</th>\n",
       "      <td>0.819541</td>\n",
       "      <td>0.173078</td>\n",
       "      <td>0.007381</td>\n",
       "      <td>7171695</td>\n",
       "    </tr>\n",
       "  </tbody>\n",
       "</table>\n",
       "</div>"
      ],
      "text/plain": [
       "        low    medium      high  listing_id\n",
       "0  0.399535  0.514874  0.085591     7142618\n",
       "1  0.995371  0.003907  0.000723     7210040\n",
       "2  0.955621  0.042762  0.001617     7174566\n",
       "3  0.187095  0.553183  0.259722     7191391\n",
       "4  0.819541  0.173078  0.007381     7171695"
      ]
     },
     "execution_count": 16,
     "metadata": {},
     "output_type": "execute_result"
    }
   ],
   "source": [
    "sub_2ndxgb.head()"
   ]
  },
  {
   "cell_type": "code",
   "execution_count": 17,
   "metadata": {
    "collapsed": false
   },
   "outputs": [
    {
     "data": {
      "text/html": [
       "<div>\n",
       "<table border=\"1\" class=\"dataframe\">\n",
       "  <thead>\n",
       "    <tr style=\"text-align: right;\">\n",
       "      <th></th>\n",
       "      <th>low</th>\n",
       "      <th>medium</th>\n",
       "      <th>high</th>\n",
       "      <th>listing_id</th>\n",
       "    </tr>\n",
       "  </thead>\n",
       "  <tbody>\n",
       "    <tr>\n",
       "      <th>0</th>\n",
       "      <td>0.417988</td>\n",
       "      <td>0.496432</td>\n",
       "      <td>0.085579</td>\n",
       "      <td>7142618</td>\n",
       "    </tr>\n",
       "    <tr>\n",
       "      <th>1</th>\n",
       "      <td>0.990743</td>\n",
       "      <td>0.007498</td>\n",
       "      <td>0.001758</td>\n",
       "      <td>7210040</td>\n",
       "    </tr>\n",
       "    <tr>\n",
       "      <th>2</th>\n",
       "      <td>0.932036</td>\n",
       "      <td>0.067317</td>\n",
       "      <td>0.000647</td>\n",
       "      <td>7174566</td>\n",
       "    </tr>\n",
       "    <tr>\n",
       "      <th>3</th>\n",
       "      <td>0.192498</td>\n",
       "      <td>0.499786</td>\n",
       "      <td>0.307716</td>\n",
       "      <td>7191391</td>\n",
       "    </tr>\n",
       "    <tr>\n",
       "      <th>4</th>\n",
       "      <td>0.867332</td>\n",
       "      <td>0.130871</td>\n",
       "      <td>0.001798</td>\n",
       "      <td>7171695</td>\n",
       "    </tr>\n",
       "  </tbody>\n",
       "</table>\n",
       "</div>"
      ],
      "text/plain": [
       "        low    medium      high  listing_id\n",
       "0  0.417988  0.496432  0.085579     7142618\n",
       "1  0.990743  0.007498  0.001758     7210040\n",
       "2  0.932036  0.067317  0.000647     7174566\n",
       "3  0.192498  0.499786  0.307716     7191391\n",
       "4  0.867332  0.130871  0.001798     7171695"
      ]
     },
     "execution_count": 17,
     "metadata": {},
     "output_type": "execute_result"
    }
   ],
   "source": [
    "sub_2ndadet.head()"
   ]
  },
  {
   "cell_type": "code",
   "execution_count": 18,
   "metadata": {
    "collapsed": false
   },
   "outputs": [
    {
     "data": {
      "text/html": [
       "<div>\n",
       "<table border=\"1\" class=\"dataframe\">\n",
       "  <thead>\n",
       "    <tr style=\"text-align: right;\">\n",
       "      <th></th>\n",
       "      <th>low</th>\n",
       "      <th>medium</th>\n",
       "      <th>high</th>\n",
       "      <th>listing_id</th>\n",
       "    </tr>\n",
       "  </thead>\n",
       "  <tbody>\n",
       "    <tr>\n",
       "      <th>0</th>\n",
       "      <td>0.408762</td>\n",
       "      <td>0.505653</td>\n",
       "      <td>0.085585</td>\n",
       "      <td>7142618</td>\n",
       "    </tr>\n",
       "    <tr>\n",
       "      <th>1</th>\n",
       "      <td>0.993057</td>\n",
       "      <td>0.005702</td>\n",
       "      <td>0.001240</td>\n",
       "      <td>7210040</td>\n",
       "    </tr>\n",
       "    <tr>\n",
       "      <th>2</th>\n",
       "      <td>0.943828</td>\n",
       "      <td>0.055039</td>\n",
       "      <td>0.001132</td>\n",
       "      <td>7174566</td>\n",
       "    </tr>\n",
       "    <tr>\n",
       "      <th>3</th>\n",
       "      <td>0.189797</td>\n",
       "      <td>0.526485</td>\n",
       "      <td>0.283719</td>\n",
       "      <td>7191391</td>\n",
       "    </tr>\n",
       "    <tr>\n",
       "      <th>4</th>\n",
       "      <td>0.843436</td>\n",
       "      <td>0.151974</td>\n",
       "      <td>0.004589</td>\n",
       "      <td>7171695</td>\n",
       "    </tr>\n",
       "  </tbody>\n",
       "</table>\n",
       "</div>"
      ],
      "text/plain": [
       "        low    medium      high  listing_id\n",
       "0  0.408762  0.505653  0.085585     7142618\n",
       "1  0.993057  0.005702  0.001240     7210040\n",
       "2  0.943828  0.055039  0.001132     7174566\n",
       "3  0.189797  0.526485  0.283719     7191391\n",
       "4  0.843436  0.151974  0.004589     7171695"
      ]
     },
     "execution_count": 18,
     "metadata": {},
     "output_type": "execute_result"
    }
   ],
   "source": [
    "tmp.head()"
   ]
  },
  {
   "cell_type": "code",
   "execution_count": 19,
   "metadata": {
    "collapsed": true
   },
   "outputs": [],
   "source": [
    "tmp.to_csv('sub_2ndXGB_adet_xgb10bagging.csv', index=False)"
   ]
  },
  {
   "cell_type": "code",
   "execution_count": null,
   "metadata": {
    "collapsed": true
   },
   "outputs": [],
   "source": []
  }
 ],
 "metadata": {
  "anaconda-cloud": {},
  "kernelspec": {
   "display_name": "Python [conda root]",
   "language": "python",
   "name": "conda-root-py"
  },
  "language_info": {
   "codemirror_mode": {
    "name": "ipython",
    "version": 2
   },
   "file_extension": ".py",
   "mimetype": "text/x-python",
   "name": "python",
   "nbconvert_exporter": "python",
   "pygments_lexer": "ipython2",
   "version": "2.7.12"
  }
 },
 "nbformat": 4,
 "nbformat_minor": 1
}
