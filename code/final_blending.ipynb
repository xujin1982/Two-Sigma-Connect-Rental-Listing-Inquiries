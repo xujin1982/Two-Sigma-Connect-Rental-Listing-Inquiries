{
 "cells": [
  {
   "cell_type": "code",
   "execution_count": 1,
   "metadata": {
    "collapsed": true
   },
   "outputs": [],
   "source": [
    "import pandas as pd\n",
    "import time\n",
    "import numpy as np\n",
    "from sklearn.metrics import log_loss\n",
    "from scipy.optimize import minimize"
   ]
  },
  {
   "cell_type": "markdown",
   "metadata": {},
   "source": [
    "# Load Data"
   ]
  },
  {
   "cell_type": "code",
   "execution_count": 2,
   "metadata": {
    "collapsed": true
   },
   "outputs": [],
   "source": [
    "train_y = np.ravel(pd.read_csv('../input/' + 'labels_BrandenMurray.csv'))\n",
    "\n",
    "names = ['low_0','medium_0','high_0',\n",
    "        'low_1','medium_1','high_1',\n",
    "        'low_2','medium_2','high_2',\n",
    "        'low_3','medium_3','high_3',\n",
    "        'low_4','medium_4','high_4',\n",
    "        'low_5','medium_5','high_5',\n",
    "        'low_6','medium_6','high_6',\n",
    "        'low_7','medium_7','high_7',\n",
    "        'low_8','medium_8','high_8',\n",
    "        'low_9','medium_9','high_9']\n",
    "\n",
    "data_path = \"../final_sub/\"\n",
    "total_col = 0"
   ]
  },
  {
   "cell_type": "code",
   "execution_count": 3,
   "metadata": {
    "collapsed": false
   },
   "outputs": [
    {
     "name": "stdout",
     "output_type": "stream",
     "text": [
      "   nn_3rd_low_0  nn_3rd_medium_0  nn_3rd_high_0\n",
      "0      0.363043         0.579546       0.057411\n",
      "1      0.528957         0.426771       0.044272\n",
      "2      0.400082         0.549894       0.050024\n",
      "3      0.884255         0.112189       0.003556\n",
      "4      0.960281         0.038754       0.000966\n",
      "   nn_3rd_low_0  nn_3rd_medium_0  nn_3rd_high_0\n",
      "0      0.161497         0.579230       0.259273\n",
      "1      0.995040         0.004560       0.000400\n",
      "2      0.969870         0.028686       0.001444\n",
      "3      0.103304         0.478383       0.418313\n",
      "4      0.743763         0.248407       0.007830\n"
     ]
    }
   ],
   "source": [
    "# Keras final level \n",
    "\n",
    "file_train      = 'train_blend_3rdKeras_100bagging_2017-04-23-14-02' + '.csv'\n",
    "file_test_mean  = 'test_blend_3rdKeras_100bagging_2017-04-23-14-02' + '.csv'\n",
    "\n",
    "\n",
    "train_nn_2nd      = pd.read_csv(data_path + file_train, header = None)\n",
    "test_nn_mean_2nd  = pd.read_csv(data_path + file_test_mean, header = None)\n",
    "\n",
    "n_column = train_nn_2nd.shape[1]\n",
    "total_col += n_column\n",
    "\n",
    "train_nn_2nd.columns      = ['nn_3rd_' + x for x in names[:n_column]]\n",
    "test_nn_mean_2nd.columns  = ['nn_3rd_' + x for x in names[:n_column]]\n",
    "\n",
    "print train_nn_2nd.iloc[:5,:3]\n",
    "print test_nn_mean_2nd.iloc[:5,:3]"
   ]
  },
  {
   "cell_type": "code",
   "execution_count": 4,
   "metadata": {
    "collapsed": false
   },
   "outputs": [
    {
     "name": "stdout",
     "output_type": "stream",
     "text": [
      "   xgb_3rd_low_0  xgb_3rd_medium_0  xgb_3rd_high_0\n",
      "0       0.346271          0.619835        0.033895\n",
      "1       0.526219          0.418259        0.055523\n",
      "2       0.418339          0.539467        0.042194\n",
      "3       0.871000          0.124609        0.004391\n",
      "4       0.954981          0.043048        0.001971\n",
      "   xgb_3rd_low_0  xgb_3rd_medium_0  xgb_3rd_high_0\n",
      "0       0.124955          0.634827        0.240217\n",
      "1       0.996138          0.003115        0.000746\n",
      "2       0.960372          0.037904        0.001724\n",
      "3       0.105266          0.518225        0.376509\n",
      "4       0.762781          0.228698        0.008521\n"
     ]
    }
   ],
   "source": [
    "# XGB 3rd level\n",
    "\n",
    "file_train     = 'train_blend_3rdXGB_BM_200bagging_2017-04-23-08-08' + '.csv'\n",
    "file_test_mean = 'test_blend_3rdXGB_BM_200bagging_2017-04-23-08-08' + '.csv'\n",
    "\n",
    "\n",
    "train_xgb_2nd      = pd.read_csv(data_path + file_train, header = None)\n",
    "test_xgb_mean_2nd  = pd.read_csv(data_path + file_test_mean, header = None)\n",
    "\n",
    "n_column = train_xgb_2nd.shape[1]\n",
    "total_col += n_column\n",
    "\n",
    "train_xgb_2nd.columns = ['xgb_3rd_' + x for x in names[:n_column]]\n",
    "test_xgb_mean_2nd.columns = ['xgb_3rd_' + x for x in names[:n_column]]\n",
    "\n",
    "print train_xgb_2nd.iloc[:5,:3]\n",
    "print test_xgb_mean_2nd.iloc[:5,:3]"
   ]
  },
  {
   "cell_type": "code",
   "execution_count": 5,
   "metadata": {
    "collapsed": false
   },
   "outputs": [
    {
     "name": "stdout",
     "output_type": "stream",
     "text": [
      "   ADET_3rd_low_0  ADET_3rd_medium_0  ADET_3rd_high_0\n",
      "0        0.350119           0.613581         0.036300\n",
      "1        0.455561           0.492156         0.052283\n",
      "2        0.391325           0.557150         0.051525\n",
      "3        0.781089           0.216103         0.002808\n",
      "4        0.931792           0.066592         0.001617\n",
      "   ADET_3rd_low_0  ADET_3rd_medium_0  ADET_3rd_high_0\n",
      "0        0.101042           0.656203         0.242754\n",
      "1        0.987466           0.012196         0.000338\n",
      "2        0.933457           0.066180         0.000363\n",
      "3        0.121048           0.438958         0.439994\n",
      "4        0.754410           0.228334         0.017256\n"
     ]
    }
   ],
   "source": [
    "# ADET 3rd level\n",
    "\n",
    "file_train     = 'train_blend_3rdADET_300bagging_last_2017-04-23-16-04' + '.csv'\n",
    "file_test_mean = 'test_blend_3rdADET_300bagging_last_2017-04-23-16-04' + '.csv'\n",
    "\n",
    "\n",
    "train_ADET_2nd      = pd.read_csv(data_path + file_train, header = None)\n",
    "test_ADET_mean_2nd  = pd.read_csv(data_path + file_test_mean, header = None)\n",
    "\n",
    "n_column = train_ADET_2nd.shape[1]\n",
    "total_col += n_column\n",
    "\n",
    "train_ADET_2nd.columns = ['ADET_3rd_' + x for x in names[:n_column]]\n",
    "test_ADET_mean_2nd.columns = ['ADET_3rd_' + x for x in names[:n_column]]\n",
    "\n",
    "print train_ADET_2nd.iloc[:5,:3]\n",
    "print test_ADET_mean_2nd.iloc[:5,:3]"
   ]
  },
  {
   "cell_type": "code",
   "execution_count": 6,
   "metadata": {
    "collapsed": false
   },
   "outputs": [
    {
     "data": {
      "text/plain": [
       "(74659, 3)"
      ]
     },
     "execution_count": 6,
     "metadata": {},
     "output_type": "execute_result"
    }
   ],
   "source": [
    "test_ADET_mean_2nd.shape"
   ]
  },
  {
   "cell_type": "code",
   "execution_count": 7,
   "metadata": {
    "collapsed": true
   },
   "outputs": [],
   "source": [
    "def myfunc(x):\n",
    "    tmp1 = x[0]*(np.power(train_xgb_2nd.values,x[1]) * np.power(train_nn_2nd.values,1-x[1])) + (1-x[0])*train_ADET_2nd.values\n",
    "    tmp = log_loss(train_y,tmp1)\n",
    "#     print x,tmp\n",
    "    return tmp"
   ]
  },
  {
   "cell_type": "code",
   "execution_count": 8,
   "metadata": {
    "collapsed": false,
    "scrolled": true
   },
   "outputs": [
    {
     "data": {
      "text/plain": [
       "0.48551083242414655"
      ]
     },
     "execution_count": 8,
     "metadata": {},
     "output_type": "execute_result"
    }
   ],
   "source": [
    "myfunc([0.5,0.5])"
   ]
  },
  {
   "cell_type": "code",
   "execution_count": 9,
   "metadata": {
    "collapsed": false
   },
   "outputs": [],
   "source": [
    "def myfunc2(x):\n",
    "    tmp1 = x[0]*(np.power(train_ADET_2nd.values,x[1]) * np.power(train_nn_2nd.values,1-x[1])) + (1-x[0])*train_xgb_2nd.values\n",
    "    tmp = log_loss(train_y,tmp1)\n",
    "#     print x,tmp\n",
    "    return tmp"
   ]
  },
  {
   "cell_type": "code",
   "execution_count": 10,
   "metadata": {
    "collapsed": false,
    "scrolled": true
   },
   "outputs": [
    {
     "data": {
      "text/plain": [
       "0.48520119088480584"
      ]
     },
     "execution_count": 10,
     "metadata": {},
     "output_type": "execute_result"
    }
   ],
   "source": [
    "myfunc2([0.5,0.5])"
   ]
  },
  {
   "cell_type": "code",
   "execution_count": 11,
   "metadata": {
    "collapsed": true
   },
   "outputs": [],
   "source": [
    "def myfunc3(x):\n",
    "    tmp1 = x[0]*(np.power(train_ADET_2nd.values,x[1]) * np.power(train_xgb_2nd.values,1-x[1])) + (1-x[0])*train_nn_2nd.values\n",
    "    tmp = log_loss(train_y,tmp1)\n",
    "#     print x,tmp\n",
    "    return tmp"
   ]
  },
  {
   "cell_type": "code",
   "execution_count": 12,
   "metadata": {
    "collapsed": false
   },
   "outputs": [
    {
     "data": {
      "text/plain": [
       "0.4853608724329862"
      ]
     },
     "execution_count": 12,
     "metadata": {},
     "output_type": "execute_result"
    }
   ],
   "source": [
    "myfunc3([0.5,0.5])"
   ]
  },
  {
   "cell_type": "code",
   "execution_count": 13,
   "metadata": {
    "collapsed": true
   },
   "outputs": [],
   "source": [
    "def myfunc4(x):\n",
    "    tmp1 = np.power(train_ADET_2nd.values,x[0])\\\n",
    "                * np.power(train_xgb_2nd.values,x[1])\\\n",
    "                * np.power(train_nn_2nd.values,1-x[0]-x[1])\n",
    "    tmp = log_loss(train_y,tmp1)\n",
    "#     print x,tmp\n",
    "    return tmp"
   ]
  },
  {
   "cell_type": "code",
   "execution_count": 14,
   "metadata": {
    "collapsed": false
   },
   "outputs": [
    {
     "data": {
      "text/plain": [
       "0.4850967845639092"
      ]
     },
     "execution_count": 14,
     "metadata": {},
     "output_type": "execute_result"
    }
   ],
   "source": [
    "myfunc4([0.33,0.33])"
   ]
  },
  {
   "cell_type": "code",
   "execution_count": 15,
   "metadata": {
    "collapsed": true
   },
   "outputs": [],
   "source": [
    "def myfunc5(x):\n",
    "    tmp1 = x[0]*(train_ADET_2nd.values)\\\n",
    "            + x[1] * (train_xgb_2nd.values)\\\n",
    "            + (1-x[0]-x[1]) * (train_nn_2nd.values)\n",
    "    tmp = log_loss(train_y,tmp1)\n",
    "#     print x,tmp\n",
    "    return tmp"
   ]
  },
  {
   "cell_type": "code",
   "execution_count": 16,
   "metadata": {
    "collapsed": false
   },
   "outputs": [
    {
     "data": {
      "text/plain": [
       "0.48535020906318477"
      ]
     },
     "execution_count": 16,
     "metadata": {},
     "output_type": "execute_result"
    }
   ],
   "source": [
    "myfunc5([0.33,0.33])"
   ]
  },
  {
   "cell_type": "code",
   "execution_count": 17,
   "metadata": {
    "collapsed": true
   },
   "outputs": [],
   "source": [
    "def myfunc6(x):\n",
    "    tmp1 = np.power(x[0]*(train_ADET_2nd.values) + (1-x[0]) * (train_xgb_2nd.values),x[1]) * np.power(train_nn_2nd.values,1-x[1])\n",
    "    tmp = log_loss(train_y,tmp1)\n",
    "#     print x,tmp\n",
    "    return tmp"
   ]
  },
  {
   "cell_type": "code",
   "execution_count": 18,
   "metadata": {
    "collapsed": false
   },
   "outputs": [
    {
     "data": {
      "text/plain": [
       "0.48522642154673329"
      ]
     },
     "execution_count": 18,
     "metadata": {},
     "output_type": "execute_result"
    }
   ],
   "source": [
    "myfunc6([0.5,0.5])"
   ]
  },
  {
   "cell_type": "code",
   "execution_count": 19,
   "metadata": {
    "collapsed": true
   },
   "outputs": [],
   "source": [
    "def myfunc7(x):\n",
    "    tmp1 = np.power(x[0]*(train_nn_2nd.values) + (1-x[0]) * (train_xgb_2nd.values),x[1]) * np.power(train_ADET_2nd.values,1-x[1])\n",
    "    tmp = log_loss(train_y,tmp1)\n",
    "#     print x,tmp\n",
    "    return tmp"
   ]
  },
  {
   "cell_type": "code",
   "execution_count": 20,
   "metadata": {
    "collapsed": false
   },
   "outputs": [
    {
     "data": {
      "text/plain": [
       "0.48534579230178421"
      ]
     },
     "execution_count": 20,
     "metadata": {},
     "output_type": "execute_result"
    }
   ],
   "source": [
    "myfunc7([0.5,0.5])"
   ]
  },
  {
   "cell_type": "code",
   "execution_count": 21,
   "metadata": {
    "collapsed": true
   },
   "outputs": [],
   "source": [
    "def myfunc8(x):\n",
    "    tmp1 = np.power(x[0]*(train_ADET_2nd.values) + (1-x[0]) * (train_nn_2nd.values),x[1]) * np.power(train_xgb_2nd.values,1-x[1])\n",
    "    tmp = log_loss(train_y,tmp1)\n",
    "#     print x,tmp\n",
    "    return tmp "
   ]
  },
  {
   "cell_type": "code",
   "execution_count": 22,
   "metadata": {
    "collapsed": false
   },
   "outputs": [
    {
     "data": {
      "text/plain": [
       "0.48531249916828989"
      ]
     },
     "execution_count": 22,
     "metadata": {},
     "output_type": "execute_result"
    }
   ],
   "source": [
    "myfunc8([0.5,0.5])"
   ]
  },
  {
   "cell_type": "code",
   "execution_count": 51,
   "metadata": {
    "collapsed": false
   },
   "outputs": [
    {
     "name": "stdout",
     "output_type": "stream",
     "text": [
      "[0.45, 0.6]\n",
      "0.485279888496\n"
     ]
    }
   ],
   "source": [
    "best  = 1\n",
    "for i in range(0,100,5):\n",
    "    for j in range(0,100,5):\n",
    "        score = myfunc8([i/100.0,j/100.0])\n",
    "        if score < best:\n",
    "            eff = [i/100.0,j/100.0]\n",
    "            best = score\n",
    "print eff\n",
    "print best"
   ]
  },
  {
   "cell_type": "code",
   "execution_count": 47,
   "metadata": {
    "collapsed": false
   },
   "outputs": [
    {
     "data": {
      "text/plain": [
       "0.48509164243712427"
      ]
     },
     "execution_count": 47,
     "metadata": {},
     "output_type": "execute_result"
    }
   ],
   "source": [
    "myfunc4([0.32, 0.3])"
   ]
  },
  {
   "cell_type": "code",
   "execution_count": 45,
   "metadata": {
    "collapsed": false
   },
   "outputs": [
    {
     "data": {
      "text/plain": [
       "0.48516555272599171"
      ]
     },
     "execution_count": 45,
     "metadata": {},
     "output_type": "execute_result"
    }
   ],
   "source": [
    "myfunc6([0.54, 0.6])"
   ]
  },
  {
   "cell_type": "code",
   "execution_count": 50,
   "metadata": {
    "collapsed": false
   },
   "outputs": [
    {
     "data": {
      "text/plain": [
       "0.48515013760833797"
      ]
     },
     "execution_count": 50,
     "metadata": {},
     "output_type": "execute_result"
    }
   ],
   "source": [
    "myfunc7([0.58, 0.66])"
   ]
  },
  {
   "cell_type": "code",
   "execution_count": 23,
   "metadata": {
    "collapsed": false
   },
   "outputs": [],
   "source": [
    "x = [0.32, 0.3]\n",
    "\n",
    "sub = np.power(test_ADET_mean_2nd.values,x[0])\\\n",
    "                * np.power(test_xgb_mean_2nd.values,x[1])\\\n",
    "                * np.power(test_nn_mean_2nd.values,1-x[0]-x[1])\n",
    "sub = pd.DataFrame(sub)\n",
    "sub.columns = [\"low\", \"medium\", \"high\"]\n",
    "\n",
    "sum_sub = sub.sum(axis=1)\n",
    "for col in [\"low\", \"medium\", \"high\"]:\n",
    "    sub[col] = sub[col] / sum_sub\n",
    "    \n",
    "    \n",
    "# test_ADET_mean_2nd\n",
    "# test_nn_mean_2nd\n",
    "# test_xgb_mean_2nd"
   ]
  },
  {
   "cell_type": "code",
   "execution_count": 25,
   "metadata": {
    "collapsed": true
   },
   "outputs": [],
   "source": [
    "data_path = \"../input/\"\n",
    "test_X = pd.read_csv(data_path + 'test_BM_MB_add03052240.csv')\n",
    "sub_id = test_X.listing_id.values"
   ]
  },
  {
   "cell_type": "code",
   "execution_count": 26,
   "metadata": {
    "collapsed": false
   },
   "outputs": [
    {
     "data": {
      "text/plain": [
       "(74659, 4)"
      ]
     },
     "execution_count": 26,
     "metadata": {},
     "output_type": "execute_result"
    }
   ],
   "source": [
    "sub[\"listing_id\"] = sub_id\n",
    "sub.shape"
   ]
  },
  {
   "cell_type": "code",
   "execution_count": 27,
   "metadata": {
    "collapsed": false
   },
   "outputs": [
    {
     "data": {
      "text/html": [
       "<div>\n",
       "<table border=\"1\" class=\"dataframe\">\n",
       "  <thead>\n",
       "    <tr style=\"text-align: right;\">\n",
       "      <th></th>\n",
       "      <th>low</th>\n",
       "      <th>medium</th>\n",
       "      <th>high</th>\n",
       "      <th>listing_id</th>\n",
       "    </tr>\n",
       "  </thead>\n",
       "  <tbody>\n",
       "    <tr>\n",
       "      <th>0</th>\n",
       "      <td>0.129156</td>\n",
       "      <td>0.621839</td>\n",
       "      <td>0.249005</td>\n",
       "      <td>7142618</td>\n",
       "    </tr>\n",
       "    <tr>\n",
       "      <th>1</th>\n",
       "      <td>0.993964</td>\n",
       "      <td>0.005579</td>\n",
       "      <td>0.000457</td>\n",
       "      <td>7210040</td>\n",
       "    </tr>\n",
       "    <tr>\n",
       "      <th>2</th>\n",
       "      <td>0.958142</td>\n",
       "      <td>0.040876</td>\n",
       "      <td>0.000982</td>\n",
       "      <td>7174566</td>\n",
       "    </tr>\n",
       "    <tr>\n",
       "      <th>3</th>\n",
       "      <td>0.109523</td>\n",
       "      <td>0.477700</td>\n",
       "      <td>0.412777</td>\n",
       "      <td>7191391</td>\n",
       "    </tr>\n",
       "    <tr>\n",
       "      <th>4</th>\n",
       "      <td>0.753549</td>\n",
       "      <td>0.236100</td>\n",
       "      <td>0.010352</td>\n",
       "      <td>7171695</td>\n",
       "    </tr>\n",
       "  </tbody>\n",
       "</table>\n",
       "</div>"
      ],
      "text/plain": [
       "        low    medium      high  listing_id\n",
       "0  0.129156  0.621839  0.249005     7142618\n",
       "1  0.993964  0.005579  0.000457     7210040\n",
       "2  0.958142  0.040876  0.000982     7174566\n",
       "3  0.109523  0.477700  0.412777     7191391\n",
       "4  0.753549  0.236100  0.010352     7171695"
      ]
     },
     "execution_count": 27,
     "metadata": {},
     "output_type": "execute_result"
    }
   ],
   "source": [
    "sub.head()"
   ]
  },
  {
   "cell_type": "code",
   "execution_count": 56,
   "metadata": {
    "collapsed": true
   },
   "outputs": [],
   "source": [
    "sub_name = '../output/sub_final_blend_func4.csv'\n",
    "\n",
    "sub.to_csv(sub_name, index=False)"
   ]
  },
  {
   "cell_type": "code",
   "execution_count": 57,
   "metadata": {
    "collapsed": true
   },
   "outputs": [],
   "source": [
    "interest_levels = ['low', 'medium', 'high']\n",
    "\n",
    "tau = {\n",
    "    'low': 0.69195995, \n",
    "    'medium': 0.23108864,\n",
    "    'high': 0.07695141, \n",
    "}\n",
    "\n",
    "def correct(df):\n",
    "    y = df[interest_levels].mean()\n",
    "    a = [tau[k] / y[k]  for k in interest_levels]\n",
    "    print a\n",
    "\n",
    "    def f(p):\n",
    "        for k in range(len(interest_levels)):\n",
    "            p[k] *= a[k]\n",
    "        return p / p.sum()\n",
    "\n",
    "    df_correct = df.copy()\n",
    "    df_correct[interest_levels] = df_correct[interest_levels].apply(f, axis=1)\n",
    "\n",
    "    y = df_correct[interest_levels].mean()\n",
    "    a = [tau[k] / y[k]  for k in interest_levels]\n",
    "    print a\n",
    "\n",
    "    return df_correct"
   ]
  },
  {
   "cell_type": "code",
   "execution_count": 58,
   "metadata": {
    "collapsed": false
   },
   "outputs": [
    {
     "name": "stdout",
     "output_type": "stream",
     "text": [
      "[0.99809142246628091, 1.010054611064261, 0.98746041433586274]\n",
      "[0.99956005790310365, 1.0016563820998952, 0.99899282309562842]\n"
     ]
    }
   ],
   "source": [
    "tmp = correct(sub)"
   ]
  },
  {
   "cell_type": "code",
   "execution_count": 59,
   "metadata": {
    "collapsed": false
   },
   "outputs": [],
   "source": [
    "sub_name = '../output/sub_final_blend_func4_correct.csv'\n",
    "tmp.to_csv(sub_name, index=False)"
   ]
  },
  {
   "cell_type": "code",
   "execution_count": 28,
   "metadata": {
    "collapsed": true
   },
   "outputs": [],
   "source": [
    "interest_levels = ['low', 'medium', 'high']\n",
    "\n",
    "tau_train = {\n",
    "    'low': 0.694683, \n",
    "    'medium': 0.227529,\n",
    "    'high': 0.077788, \n",
    "}\n",
    "\n",
    "tau_test = {\n",
    "    'low': 0.69195995, \n",
    "    'medium': 0.23108864,\n",
    "    'high': 0.07695141, \n",
    "}\n",
    "\n",
    "def correct(df, train=True, verbose=False):\n",
    "    if train:\n",
    "        tau = tau_train\n",
    "    else:\n",
    "        tau = tau_test\n",
    "        \n",
    "    df_sum = df[interest_levels].sum(axis=1)\n",
    "    df_correct = df[interest_levels].copy()\n",
    "    \n",
    "    if verbose:\n",
    "        y = df_correct.mean()\n",
    "        a = [tau[k] / y[k]  for k in interest_levels]\n",
    "        print( a)\n",
    "    \n",
    "    for c in interest_levels:\n",
    "        df_correct[c] /= df_sum\n",
    "\n",
    "    for i in range(20):\n",
    "        for c in interest_levels:\n",
    "            df_correct[c] *= tau[c] / df_correct[c].mean()\n",
    "\n",
    "        df_sum = df_correct.sum(axis=1)\n",
    "\n",
    "        for c in interest_levels:\n",
    "            df_correct[c] /= df_sum\n",
    "    \n",
    "    if verbose:\n",
    "        y = df_correct.mean()\n",
    "        a = [tau[k] / y[k]  for k in interest_levels]\n",
    "        print( a)\n",
    "\n",
    "    return df_correct"
   ]
  },
  {
   "cell_type": "code",
   "execution_count": 29,
   "metadata": {
    "collapsed": false
   },
   "outputs": [
    {
     "name": "stdout",
     "output_type": "stream",
     "text": [
      "[0.99809142246628091, 1.010054611064261, 0.98746041433586274]\n",
      "[0.99999999940553674, 1.0000000009886372, 1.0000000023764835]\n"
     ]
    }
   ],
   "source": [
    "tmp = correct(sub,train=False, verbose=True)"
   ]
  },
  {
   "cell_type": "code",
   "execution_count": 33,
   "metadata": {
    "collapsed": false
   },
   "outputs": [
    {
     "data": {
      "text/html": [
       "<div>\n",
       "<table border=\"1\" class=\"dataframe\">\n",
       "  <thead>\n",
       "    <tr style=\"text-align: right;\">\n",
       "      <th></th>\n",
       "      <th>low</th>\n",
       "      <th>medium</th>\n",
       "      <th>high</th>\n",
       "      <th>listing_id</th>\n",
       "    </tr>\n",
       "  </thead>\n",
       "  <tbody>\n",
       "    <tr>\n",
       "      <th>0</th>\n",
       "      <td>0.128285</td>\n",
       "      <td>0.626923</td>\n",
       "      <td>0.244791</td>\n",
       "      <td>7142618</td>\n",
       "    </tr>\n",
       "    <tr>\n",
       "      <th>1</th>\n",
       "      <td>0.993886</td>\n",
       "      <td>0.005662</td>\n",
       "      <td>0.000453</td>\n",
       "      <td>7210040</td>\n",
       "    </tr>\n",
       "    <tr>\n",
       "      <th>2</th>\n",
       "      <td>0.957563</td>\n",
       "      <td>0.041465</td>\n",
       "      <td>0.000972</td>\n",
       "      <td>7174566</td>\n",
       "    </tr>\n",
       "    <tr>\n",
       "      <th>3</th>\n",
       "      <td>0.109202</td>\n",
       "      <td>0.483451</td>\n",
       "      <td>0.407348</td>\n",
       "      <td>7191391</td>\n",
       "    </tr>\n",
       "    <tr>\n",
       "      <th>4</th>\n",
       "      <td>0.750965</td>\n",
       "      <td>0.238824</td>\n",
       "      <td>0.010211</td>\n",
       "      <td>7171695</td>\n",
       "    </tr>\n",
       "  </tbody>\n",
       "</table>\n",
       "</div>"
      ],
      "text/plain": [
       "        low    medium      high  listing_id\n",
       "0  0.128285  0.626923  0.244791     7142618\n",
       "1  0.993886  0.005662  0.000453     7210040\n",
       "2  0.957563  0.041465  0.000972     7174566\n",
       "3  0.109202  0.483451  0.407348     7191391\n",
       "4  0.750965  0.238824  0.010211     7171695"
      ]
     },
     "execution_count": 33,
     "metadata": {},
     "output_type": "execute_result"
    }
   ],
   "source": [
    "tmp[\"listing_id\"] = sub_id\n",
    "tmp.head()"
   ]
  },
  {
   "cell_type": "code",
   "execution_count": 32,
   "metadata": {
    "collapsed": false
   },
   "outputs": [
    {
     "data": {
      "text/html": [
       "<div>\n",
       "<table border=\"1\" class=\"dataframe\">\n",
       "  <thead>\n",
       "    <tr style=\"text-align: right;\">\n",
       "      <th></th>\n",
       "      <th>low</th>\n",
       "      <th>medium</th>\n",
       "      <th>high</th>\n",
       "      <th>listing_id</th>\n",
       "    </tr>\n",
       "  </thead>\n",
       "  <tbody>\n",
       "    <tr>\n",
       "      <th>0</th>\n",
       "      <td>0.129156</td>\n",
       "      <td>0.621839</td>\n",
       "      <td>0.249005</td>\n",
       "      <td>7142618</td>\n",
       "    </tr>\n",
       "    <tr>\n",
       "      <th>1</th>\n",
       "      <td>0.993964</td>\n",
       "      <td>0.005579</td>\n",
       "      <td>0.000457</td>\n",
       "      <td>7210040</td>\n",
       "    </tr>\n",
       "    <tr>\n",
       "      <th>2</th>\n",
       "      <td>0.958142</td>\n",
       "      <td>0.040876</td>\n",
       "      <td>0.000982</td>\n",
       "      <td>7174566</td>\n",
       "    </tr>\n",
       "    <tr>\n",
       "      <th>3</th>\n",
       "      <td>0.109523</td>\n",
       "      <td>0.477700</td>\n",
       "      <td>0.412777</td>\n",
       "      <td>7191391</td>\n",
       "    </tr>\n",
       "    <tr>\n",
       "      <th>4</th>\n",
       "      <td>0.753549</td>\n",
       "      <td>0.236100</td>\n",
       "      <td>0.010352</td>\n",
       "      <td>7171695</td>\n",
       "    </tr>\n",
       "  </tbody>\n",
       "</table>\n",
       "</div>"
      ],
      "text/plain": [
       "        low    medium      high  listing_id\n",
       "0  0.129156  0.621839  0.249005     7142618\n",
       "1  0.993964  0.005579  0.000457     7210040\n",
       "2  0.958142  0.040876  0.000982     7174566\n",
       "3  0.109523  0.477700  0.412777     7191391\n",
       "4  0.753549  0.236100  0.010352     7171695"
      ]
     },
     "execution_count": 32,
     "metadata": {},
     "output_type": "execute_result"
    }
   ],
   "source": [
    "sub.head()"
   ]
  },
  {
   "cell_type": "code",
   "execution_count": 34,
   "metadata": {
    "collapsed": true
   },
   "outputs": [],
   "source": [
    "sub_name = '../output/sub_final_blend_func4_correct_CPMP.csv'\n",
    "tmp.to_csv(sub_name, index=False)"
   ]
  },
  {
   "cell_type": "code",
   "execution_count": null,
   "metadata": {
    "collapsed": true
   },
   "outputs": [],
   "source": []
  }
 ],
 "metadata": {
  "anaconda-cloud": {},
  "kernelspec": {
   "display_name": "Python [conda root]",
   "language": "python",
   "name": "conda-root-py"
  },
  "language_info": {
   "codemirror_mode": {
    "name": "ipython",
    "version": 2
   },
   "file_extension": ".py",
   "mimetype": "text/x-python",
   "name": "python",
   "nbconvert_exporter": "python",
   "pygments_lexer": "ipython2",
   "version": "2.7.12"
  }
 },
 "nbformat": 4,
 "nbformat_minor": 1
}
