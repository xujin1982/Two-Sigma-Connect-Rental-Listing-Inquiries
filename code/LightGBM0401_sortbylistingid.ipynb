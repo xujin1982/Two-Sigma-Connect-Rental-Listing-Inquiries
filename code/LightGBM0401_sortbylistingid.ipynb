{
 "cells": [
  {
   "cell_type": "code",
   "execution_count": 1,
   "metadata": {
    "collapsed": true
   },
   "outputs": [],
   "source": [
    "import pandas as pd\n",
    "import time\n",
    "import numpy as np\n",
    "from sklearn.model_selection import train_test_split, StratifiedKFold, KFold\n",
    "from sklearn.feature_extraction.text import CountVectorizer\n",
    "import random\n",
    "from sklearn import preprocessing\n",
    "import lightgbm as lgb\n",
    "import gc\n",
    "from scipy.stats import skew, boxcox\n",
    "from bayes_opt import BayesianOptimization\n",
    "from scipy import sparse\n",
    "from sklearn.metrics import log_loss\n",
    "from datetime import datetime\n",
    "from scipy.stats.mstats import gmean\n",
    "\n",
    "import matplotlib.pyplot as plt\n",
    "import seaborn as sns\n",
    "%matplotlib inline\n",
    "\n",
    "seed = 2017"
   ]
  },
  {
   "cell_type": "markdown",
   "metadata": {},
   "source": [
    "# Load Data"
   ]
  },
  {
   "cell_type": "code",
   "execution_count": 43,
   "metadata": {
    "collapsed": false
   },
   "outputs": [
    {
     "name": "stdout",
     "output_type": "stream",
     "text": [
      "(49352, 428) (74659, 428) (49352L,)\n"
     ]
    }
   ],
   "source": [
    "data_path = \"../input/\"\n",
    "train_X = pd.read_csv(data_path + 'train_BM_0401.csv')\n",
    "test_X = pd.read_csv(data_path + 'test_BM_0401.csv')\n",
    "train_y = np.ravel(pd.read_csv(data_path + 'labels_BrandenMurray.csv'))\n",
    "sub_id = test_X.listing_id.astype('int32').values\n",
    "\n",
    "# all_features = features_to_use + desc_sparse_cols + feat_sparse_cols\n",
    "print train_X.shape, test_X.shape, train_y.shape"
   ]
  },
  {
   "cell_type": "code",
   "execution_count": 44,
   "metadata": {
    "collapsed": false
   },
   "outputs": [
    {
     "data": {
      "text/plain": [
       "array([1, 0, 1, 1, 0, 0, 0, 2, 0, 0, 0, 0, 1, 0, 0, 0, 0, 2, 0, 0], dtype=int64)"
      ]
     },
     "execution_count": 44,
     "metadata": {},
     "output_type": "execute_result"
    }
   ],
   "source": [
    "train_y[:20]"
   ]
  },
  {
   "cell_type": "code",
   "execution_count": 45,
   "metadata": {
    "collapsed": false,
    "scrolled": true
   },
   "outputs": [
    {
     "data": {
      "text/html": [
       "<div>\n",
       "<table border=\"1\" class=\"dataframe\">\n",
       "  <thead>\n",
       "    <tr style=\"text-align: right;\">\n",
       "      <th></th>\n",
       "      <th>building_id_mean_med</th>\n",
       "      <th>building_id_mean_high</th>\n",
       "      <th>manager_id_mean_med</th>\n",
       "      <th>manager_id_mean_high</th>\n",
       "      <th>median_price_bed</th>\n",
       "      <th>ratio_bed</th>\n",
       "      <th>compound</th>\n",
       "      <th>neg</th>\n",
       "      <th>neu</th>\n",
       "      <th>pos</th>\n",
       "      <th>...</th>\n",
       "      <th>feature_washer_&amp;_dryer</th>\n",
       "      <th>feature_washer_in_unit</th>\n",
       "      <th>feature_wheelchair_access</th>\n",
       "      <th>feature_wheelchair_ramp</th>\n",
       "      <th>feature_wifi</th>\n",
       "      <th>feature_wifi_access</th>\n",
       "      <th>feature_wood-burning_fireplace</th>\n",
       "      <th>feature_yard</th>\n",
       "      <th>feature_yoga_classes</th>\n",
       "      <th>target</th>\n",
       "    </tr>\n",
       "  </thead>\n",
       "  <tbody>\n",
       "    <tr>\n",
       "      <th>0</th>\n",
       "      <td>0.299643</td>\n",
       "      <td>5.661408e-02</td>\n",
       "      <td>0.403788</td>\n",
       "      <td>5.947230e-02</td>\n",
       "      <td>2900.0</td>\n",
       "      <td>0.827586</td>\n",
       "      <td>2.183865</td>\n",
       "      <td>-0.779948</td>\n",
       "      <td>0.099537</td>\n",
       "      <td>0.887005</td>\n",
       "      <td>...</td>\n",
       "      <td>0</td>\n",
       "      <td>0</td>\n",
       "      <td>0</td>\n",
       "      <td>0</td>\n",
       "      <td>0</td>\n",
       "      <td>0</td>\n",
       "      <td>0</td>\n",
       "      <td>0</td>\n",
       "      <td>0</td>\n",
       "      <td>1</td>\n",
       "    </tr>\n",
       "    <tr>\n",
       "      <th>1</th>\n",
       "      <td>0.409172</td>\n",
       "      <td>4.557453e-02</td>\n",
       "      <td>0.650389</td>\n",
       "      <td>5.004210e-02</td>\n",
       "      <td>3350.0</td>\n",
       "      <td>1.134328</td>\n",
       "      <td>1.138077</td>\n",
       "      <td>-0.779948</td>\n",
       "      <td>0.176361</td>\n",
       "      <td>0.723724</td>\n",
       "      <td>...</td>\n",
       "      <td>0</td>\n",
       "      <td>0</td>\n",
       "      <td>0</td>\n",
       "      <td>0</td>\n",
       "      <td>0</td>\n",
       "      <td>0</td>\n",
       "      <td>0</td>\n",
       "      <td>0</td>\n",
       "      <td>0</td>\n",
       "      <td>0</td>\n",
       "    </tr>\n",
       "    <tr>\n",
       "      <th>2</th>\n",
       "      <td>0.389029</td>\n",
       "      <td>4.096503e-02</td>\n",
       "      <td>0.194666</td>\n",
       "      <td>4.161561e-02</td>\n",
       "      <td>3350.0</td>\n",
       "      <td>1.043284</td>\n",
       "      <td>0.253714</td>\n",
       "      <td>-0.779948</td>\n",
       "      <td>0.053088</td>\n",
       "      <td>0.981956</td>\n",
       "      <td>...</td>\n",
       "      <td>0</td>\n",
       "      <td>0</td>\n",
       "      <td>0</td>\n",
       "      <td>0</td>\n",
       "      <td>0</td>\n",
       "      <td>0</td>\n",
       "      <td>0</td>\n",
       "      <td>0</td>\n",
       "      <td>0</td>\n",
       "      <td>1</td>\n",
       "    </tr>\n",
       "    <tr>\n",
       "      <th>3</th>\n",
       "      <td>0.222325</td>\n",
       "      <td>7.660810e-02</td>\n",
       "      <td>0.248812</td>\n",
       "      <td>6.214142e-31</td>\n",
       "      <td>4500.0</td>\n",
       "      <td>0.666667</td>\n",
       "      <td>-0.793989</td>\n",
       "      <td>-0.207931</td>\n",
       "      <td>0.603349</td>\n",
       "      <td>-0.426116</td>\n",
       "      <td>...</td>\n",
       "      <td>0</td>\n",
       "      <td>0</td>\n",
       "      <td>0</td>\n",
       "      <td>0</td>\n",
       "      <td>0</td>\n",
       "      <td>0</td>\n",
       "      <td>0</td>\n",
       "      <td>0</td>\n",
       "      <td>0</td>\n",
       "      <td>1</td>\n",
       "    </tr>\n",
       "    <tr>\n",
       "      <th>4</th>\n",
       "      <td>0.193150</td>\n",
       "      <td>4.818481e-02</td>\n",
       "      <td>0.140153</td>\n",
       "      <td>2.440795e-18</td>\n",
       "      <td>2400.0</td>\n",
       "      <td>1.164583</td>\n",
       "      <td>-1.340780</td>\n",
       "      <td>1.414587</td>\n",
       "      <td>0.558216</td>\n",
       "      <td>-0.768148</td>\n",
       "      <td>...</td>\n",
       "      <td>0</td>\n",
       "      <td>0</td>\n",
       "      <td>0</td>\n",
       "      <td>0</td>\n",
       "      <td>0</td>\n",
       "      <td>0</td>\n",
       "      <td>0</td>\n",
       "      <td>0</td>\n",
       "      <td>0</td>\n",
       "      <td>0</td>\n",
       "    </tr>\n",
       "    <tr>\n",
       "      <th>5</th>\n",
       "      <td>0.241598</td>\n",
       "      <td>1.102479e-01</td>\n",
       "      <td>0.429327</td>\n",
       "      <td>2.268608e-01</td>\n",
       "      <td>4500.0</td>\n",
       "      <td>1.600000</td>\n",
       "      <td>0.183656</td>\n",
       "      <td>-0.779948</td>\n",
       "      <td>0.344683</td>\n",
       "      <td>0.336462</td>\n",
       "      <td>...</td>\n",
       "      <td>0</td>\n",
       "      <td>0</td>\n",
       "      <td>0</td>\n",
       "      <td>0</td>\n",
       "      <td>0</td>\n",
       "      <td>0</td>\n",
       "      <td>0</td>\n",
       "      <td>0</td>\n",
       "      <td>0</td>\n",
       "      <td>0</td>\n",
       "    </tr>\n",
       "    <tr>\n",
       "      <th>6</th>\n",
       "      <td>0.401675</td>\n",
       "      <td>2.848683e-02</td>\n",
       "      <td>0.428874</td>\n",
       "      <td>1.460819e-02</td>\n",
       "      <td>4500.0</td>\n",
       "      <td>1.333333</td>\n",
       "      <td>1.460108</td>\n",
       "      <td>1.036594</td>\n",
       "      <td>-0.923395</td>\n",
       "      <td>2.330864</td>\n",
       "      <td>...</td>\n",
       "      <td>0</td>\n",
       "      <td>0</td>\n",
       "      <td>0</td>\n",
       "      <td>0</td>\n",
       "      <td>0</td>\n",
       "      <td>0</td>\n",
       "      <td>0</td>\n",
       "      <td>0</td>\n",
       "      <td>0</td>\n",
       "      <td>0</td>\n",
       "    </tr>\n",
       "    <tr>\n",
       "      <th>7</th>\n",
       "      <td>0.251185</td>\n",
       "      <td>7.053514e-05</td>\n",
       "      <td>0.302649</td>\n",
       "      <td>1.244522e-01</td>\n",
       "      <td>2400.0</td>\n",
       "      <td>0.810417</td>\n",
       "      <td>-1.085039</td>\n",
       "      <td>1.046004</td>\n",
       "      <td>0.582473</td>\n",
       "      <td>-0.661079</td>\n",
       "      <td>...</td>\n",
       "      <td>0</td>\n",
       "      <td>0</td>\n",
       "      <td>0</td>\n",
       "      <td>0</td>\n",
       "      <td>0</td>\n",
       "      <td>0</td>\n",
       "      <td>0</td>\n",
       "      <td>0</td>\n",
       "      <td>0</td>\n",
       "      <td>2</td>\n",
       "    </tr>\n",
       "    <tr>\n",
       "      <th>8</th>\n",
       "      <td>0.227796</td>\n",
       "      <td>7.754304e-02</td>\n",
       "      <td>0.280170</td>\n",
       "      <td>1.253419e-01</td>\n",
       "      <td>2900.0</td>\n",
       "      <td>0.839655</td>\n",
       "      <td>0.775417</td>\n",
       "      <td>-0.779948</td>\n",
       "      <td>0.208093</td>\n",
       "      <td>0.653913</td>\n",
       "      <td>...</td>\n",
       "      <td>0</td>\n",
       "      <td>0</td>\n",
       "      <td>0</td>\n",
       "      <td>0</td>\n",
       "      <td>0</td>\n",
       "      <td>0</td>\n",
       "      <td>0</td>\n",
       "      <td>0</td>\n",
       "      <td>0</td>\n",
       "      <td>0</td>\n",
       "    </tr>\n",
       "    <tr>\n",
       "      <th>9</th>\n",
       "      <td>0.241791</td>\n",
       "      <td>7.644576e-02</td>\n",
       "      <td>0.038478</td>\n",
       "      <td>5.911671e-11</td>\n",
       "      <td>4500.0</td>\n",
       "      <td>1.522222</td>\n",
       "      <td>-0.085358</td>\n",
       "      <td>-0.334245</td>\n",
       "      <td>0.762564</td>\n",
       "      <td>-0.903934</td>\n",
       "      <td>...</td>\n",
       "      <td>0</td>\n",
       "      <td>0</td>\n",
       "      <td>0</td>\n",
       "      <td>0</td>\n",
       "      <td>0</td>\n",
       "      <td>0</td>\n",
       "      <td>0</td>\n",
       "      <td>0</td>\n",
       "      <td>0</td>\n",
       "      <td>0</td>\n",
       "    </tr>\n",
       "    <tr>\n",
       "      <th>10</th>\n",
       "      <td>0.040056</td>\n",
       "      <td>1.602700e-10</td>\n",
       "      <td>0.040034</td>\n",
       "      <td>1.600251e-10</td>\n",
       "      <td>2400.0</td>\n",
       "      <td>1.160417</td>\n",
       "      <td>-1.340780</td>\n",
       "      <td>-0.779948</td>\n",
       "      <td>0.993037</td>\n",
       "      <td>-1.653623</td>\n",
       "      <td>...</td>\n",
       "      <td>0</td>\n",
       "      <td>0</td>\n",
       "      <td>0</td>\n",
       "      <td>0</td>\n",
       "      <td>0</td>\n",
       "      <td>0</td>\n",
       "      <td>0</td>\n",
       "      <td>0</td>\n",
       "      <td>0</td>\n",
       "      <td>0</td>\n",
       "    </tr>\n",
       "    <tr>\n",
       "      <th>11</th>\n",
       "      <td>0.427215</td>\n",
       "      <td>7.755697e-02</td>\n",
       "      <td>0.512028</td>\n",
       "      <td>3.907426e-02</td>\n",
       "      <td>3350.0</td>\n",
       "      <td>0.925373</td>\n",
       "      <td>0.441805</td>\n",
       "      <td>1.954923</td>\n",
       "      <td>-0.550408</td>\n",
       "      <td>1.160838</td>\n",
       "      <td>...</td>\n",
       "      <td>0</td>\n",
       "      <td>0</td>\n",
       "      <td>0</td>\n",
       "      <td>0</td>\n",
       "      <td>0</td>\n",
       "      <td>0</td>\n",
       "      <td>0</td>\n",
       "      <td>0</td>\n",
       "      <td>0</td>\n",
       "      <td>0</td>\n",
       "    </tr>\n",
       "    <tr>\n",
       "      <th>12</th>\n",
       "      <td>0.385618</td>\n",
       "      <td>1.277933e-02</td>\n",
       "      <td>0.354889</td>\n",
       "      <td>4.297990e-02</td>\n",
       "      <td>2400.0</td>\n",
       "      <td>1.000000</td>\n",
       "      <td>-0.614898</td>\n",
       "      <td>1.349063</td>\n",
       "      <td>0.296469</td>\n",
       "      <td>0.028738</td>\n",
       "      <td>...</td>\n",
       "      <td>0</td>\n",
       "      <td>0</td>\n",
       "      <td>1</td>\n",
       "      <td>0</td>\n",
       "      <td>0</td>\n",
       "      <td>0</td>\n",
       "      <td>0</td>\n",
       "      <td>0</td>\n",
       "      <td>0</td>\n",
       "      <td>1</td>\n",
       "    </tr>\n",
       "    <tr>\n",
       "      <th>13</th>\n",
       "      <td>0.367799</td>\n",
       "      <td>3.706230e-03</td>\n",
       "      <td>0.090559</td>\n",
       "      <td>5.382878e-14</td>\n",
       "      <td>2900.0</td>\n",
       "      <td>0.948276</td>\n",
       "      <td>2.124327</td>\n",
       "      <td>1.260052</td>\n",
       "      <td>0.016032</td>\n",
       "      <td>0.736430</td>\n",
       "      <td>...</td>\n",
       "      <td>0</td>\n",
       "      <td>0</td>\n",
       "      <td>0</td>\n",
       "      <td>0</td>\n",
       "      <td>0</td>\n",
       "      <td>0</td>\n",
       "      <td>0</td>\n",
       "      <td>0</td>\n",
       "      <td>0</td>\n",
       "      <td>0</td>\n",
       "    </tr>\n",
       "    <tr>\n",
       "      <th>14</th>\n",
       "      <td>0.045459</td>\n",
       "      <td>3.230782e-09</td>\n",
       "      <td>0.291622</td>\n",
       "      <td>3.963814e-13</td>\n",
       "      <td>3350.0</td>\n",
       "      <td>1.631343</td>\n",
       "      <td>1.788802</td>\n",
       "      <td>1.791224</td>\n",
       "      <td>-0.643655</td>\n",
       "      <td>1.677746</td>\n",
       "      <td>...</td>\n",
       "      <td>0</td>\n",
       "      <td>0</td>\n",
       "      <td>0</td>\n",
       "      <td>0</td>\n",
       "      <td>0</td>\n",
       "      <td>0</td>\n",
       "      <td>0</td>\n",
       "      <td>0</td>\n",
       "      <td>0</td>\n",
       "      <td>0</td>\n",
       "    </tr>\n",
       "    <tr>\n",
       "      <th>15</th>\n",
       "      <td>0.200852</td>\n",
       "      <td>6.879182e-02</td>\n",
       "      <td>0.419088</td>\n",
       "      <td>3.701758e-01</td>\n",
       "      <td>2400.0</td>\n",
       "      <td>1.312500</td>\n",
       "      <td>-0.048289</td>\n",
       "      <td>0.808186</td>\n",
       "      <td>-0.100874</td>\n",
       "      <td>1.092527</td>\n",
       "      <td>...</td>\n",
       "      <td>0</td>\n",
       "      <td>0</td>\n",
       "      <td>0</td>\n",
       "      <td>0</td>\n",
       "      <td>0</td>\n",
       "      <td>0</td>\n",
       "      <td>0</td>\n",
       "      <td>0</td>\n",
       "      <td>0</td>\n",
       "      <td>0</td>\n",
       "    </tr>\n",
       "    <tr>\n",
       "      <th>16</th>\n",
       "      <td>0.066369</td>\n",
       "      <td>1.003005e-01</td>\n",
       "      <td>0.405138</td>\n",
       "      <td>1.347076e-01</td>\n",
       "      <td>3350.0</td>\n",
       "      <td>1.119403</td>\n",
       "      <td>0.832579</td>\n",
       "      <td>-0.779948</td>\n",
       "      <td>0.120413</td>\n",
       "      <td>0.843419</td>\n",
       "      <td>...</td>\n",
       "      <td>0</td>\n",
       "      <td>0</td>\n",
       "      <td>0</td>\n",
       "      <td>0</td>\n",
       "      <td>0</td>\n",
       "      <td>0</td>\n",
       "      <td>0</td>\n",
       "      <td>0</td>\n",
       "      <td>0</td>\n",
       "      <td>0</td>\n",
       "    </tr>\n",
       "    <tr>\n",
       "      <th>17</th>\n",
       "      <td>0.226653</td>\n",
       "      <td>7.800510e-02</td>\n",
       "      <td>0.228336</td>\n",
       "      <td>7.740411e-02</td>\n",
       "      <td>4500.0</td>\n",
       "      <td>0.988889</td>\n",
       "      <td>-0.200379</td>\n",
       "      <td>1.537088</td>\n",
       "      <td>-0.096699</td>\n",
       "      <td>0.039728</td>\n",
       "      <td>...</td>\n",
       "      <td>0</td>\n",
       "      <td>0</td>\n",
       "      <td>0</td>\n",
       "      <td>0</td>\n",
       "      <td>0</td>\n",
       "      <td>0</td>\n",
       "      <td>0</td>\n",
       "      <td>0</td>\n",
       "      <td>0</td>\n",
       "      <td>2</td>\n",
       "    </tr>\n",
       "    <tr>\n",
       "      <th>18</th>\n",
       "      <td>0.222805</td>\n",
       "      <td>7.632517e-02</td>\n",
       "      <td>0.090511</td>\n",
       "      <td>3.231700e-09</td>\n",
       "      <td>2900.0</td>\n",
       "      <td>1.103448</td>\n",
       "      <td>1.587441</td>\n",
       "      <td>0.786788</td>\n",
       "      <td>0.135722</td>\n",
       "      <td>0.600926</td>\n",
       "      <td>...</td>\n",
       "      <td>0</td>\n",
       "      <td>0</td>\n",
       "      <td>0</td>\n",
       "      <td>0</td>\n",
       "      <td>0</td>\n",
       "      <td>0</td>\n",
       "      <td>0</td>\n",
       "      <td>0</td>\n",
       "      <td>0</td>\n",
       "      <td>0</td>\n",
       "    </tr>\n",
       "    <tr>\n",
       "      <th>19</th>\n",
       "      <td>0.060976</td>\n",
       "      <td>2.279672e-02</td>\n",
       "      <td>0.061330</td>\n",
       "      <td>2.100490e-02</td>\n",
       "      <td>2900.0</td>\n",
       "      <td>0.860345</td>\n",
       "      <td>-0.346735</td>\n",
       "      <td>-0.779948</td>\n",
       "      <td>0.455824</td>\n",
       "      <td>0.056156</td>\n",
       "      <td>...</td>\n",
       "      <td>0</td>\n",
       "      <td>0</td>\n",
       "      <td>0</td>\n",
       "      <td>0</td>\n",
       "      <td>0</td>\n",
       "      <td>0</td>\n",
       "      <td>0</td>\n",
       "      <td>0</td>\n",
       "      <td>0</td>\n",
       "      <td>0</td>\n",
       "    </tr>\n",
       "  </tbody>\n",
       "</table>\n",
       "<p>20 rows × 429 columns</p>\n",
       "</div>"
      ],
      "text/plain": [
       "    building_id_mean_med  building_id_mean_high  manager_id_mean_med  \\\n",
       "0               0.299643           5.661408e-02             0.403788   \n",
       "1               0.409172           4.557453e-02             0.650389   \n",
       "2               0.389029           4.096503e-02             0.194666   \n",
       "3               0.222325           7.660810e-02             0.248812   \n",
       "4               0.193150           4.818481e-02             0.140153   \n",
       "5               0.241598           1.102479e-01             0.429327   \n",
       "6               0.401675           2.848683e-02             0.428874   \n",
       "7               0.251185           7.053514e-05             0.302649   \n",
       "8               0.227796           7.754304e-02             0.280170   \n",
       "9               0.241791           7.644576e-02             0.038478   \n",
       "10              0.040056           1.602700e-10             0.040034   \n",
       "11              0.427215           7.755697e-02             0.512028   \n",
       "12              0.385618           1.277933e-02             0.354889   \n",
       "13              0.367799           3.706230e-03             0.090559   \n",
       "14              0.045459           3.230782e-09             0.291622   \n",
       "15              0.200852           6.879182e-02             0.419088   \n",
       "16              0.066369           1.003005e-01             0.405138   \n",
       "17              0.226653           7.800510e-02             0.228336   \n",
       "18              0.222805           7.632517e-02             0.090511   \n",
       "19              0.060976           2.279672e-02             0.061330   \n",
       "\n",
       "    manager_id_mean_high  median_price_bed  ratio_bed  compound       neg  \\\n",
       "0           5.947230e-02            2900.0   0.827586  2.183865 -0.779948   \n",
       "1           5.004210e-02            3350.0   1.134328  1.138077 -0.779948   \n",
       "2           4.161561e-02            3350.0   1.043284  0.253714 -0.779948   \n",
       "3           6.214142e-31            4500.0   0.666667 -0.793989 -0.207931   \n",
       "4           2.440795e-18            2400.0   1.164583 -1.340780  1.414587   \n",
       "5           2.268608e-01            4500.0   1.600000  0.183656 -0.779948   \n",
       "6           1.460819e-02            4500.0   1.333333  1.460108  1.036594   \n",
       "7           1.244522e-01            2400.0   0.810417 -1.085039  1.046004   \n",
       "8           1.253419e-01            2900.0   0.839655  0.775417 -0.779948   \n",
       "9           5.911671e-11            4500.0   1.522222 -0.085358 -0.334245   \n",
       "10          1.600251e-10            2400.0   1.160417 -1.340780 -0.779948   \n",
       "11          3.907426e-02            3350.0   0.925373  0.441805  1.954923   \n",
       "12          4.297990e-02            2400.0   1.000000 -0.614898  1.349063   \n",
       "13          5.382878e-14            2900.0   0.948276  2.124327  1.260052   \n",
       "14          3.963814e-13            3350.0   1.631343  1.788802  1.791224   \n",
       "15          3.701758e-01            2400.0   1.312500 -0.048289  0.808186   \n",
       "16          1.347076e-01            3350.0   1.119403  0.832579 -0.779948   \n",
       "17          7.740411e-02            4500.0   0.988889 -0.200379  1.537088   \n",
       "18          3.231700e-09            2900.0   1.103448  1.587441  0.786788   \n",
       "19          2.100490e-02            2900.0   0.860345 -0.346735 -0.779948   \n",
       "\n",
       "         neu       pos   ...    feature_washer_&_dryer  \\\n",
       "0   0.099537  0.887005   ...                         0   \n",
       "1   0.176361  0.723724   ...                         0   \n",
       "2   0.053088  0.981956   ...                         0   \n",
       "3   0.603349 -0.426116   ...                         0   \n",
       "4   0.558216 -0.768148   ...                         0   \n",
       "5   0.344683  0.336462   ...                         0   \n",
       "6  -0.923395  2.330864   ...                         0   \n",
       "7   0.582473 -0.661079   ...                         0   \n",
       "8   0.208093  0.653913   ...                         0   \n",
       "9   0.762564 -0.903934   ...                         0   \n",
       "10  0.993037 -1.653623   ...                         0   \n",
       "11 -0.550408  1.160838   ...                         0   \n",
       "12  0.296469  0.028738   ...                         0   \n",
       "13  0.016032  0.736430   ...                         0   \n",
       "14 -0.643655  1.677746   ...                         0   \n",
       "15 -0.100874  1.092527   ...                         0   \n",
       "16  0.120413  0.843419   ...                         0   \n",
       "17 -0.096699  0.039728   ...                         0   \n",
       "18  0.135722  0.600926   ...                         0   \n",
       "19  0.455824  0.056156   ...                         0   \n",
       "\n",
       "    feature_washer_in_unit  feature_wheelchair_access  \\\n",
       "0                        0                          0   \n",
       "1                        0                          0   \n",
       "2                        0                          0   \n",
       "3                        0                          0   \n",
       "4                        0                          0   \n",
       "5                        0                          0   \n",
       "6                        0                          0   \n",
       "7                        0                          0   \n",
       "8                        0                          0   \n",
       "9                        0                          0   \n",
       "10                       0                          0   \n",
       "11                       0                          0   \n",
       "12                       0                          1   \n",
       "13                       0                          0   \n",
       "14                       0                          0   \n",
       "15                       0                          0   \n",
       "16                       0                          0   \n",
       "17                       0                          0   \n",
       "18                       0                          0   \n",
       "19                       0                          0   \n",
       "\n",
       "    feature_wheelchair_ramp  feature_wifi  feature_wifi_access  \\\n",
       "0                         0             0                    0   \n",
       "1                         0             0                    0   \n",
       "2                         0             0                    0   \n",
       "3                         0             0                    0   \n",
       "4                         0             0                    0   \n",
       "5                         0             0                    0   \n",
       "6                         0             0                    0   \n",
       "7                         0             0                    0   \n",
       "8                         0             0                    0   \n",
       "9                         0             0                    0   \n",
       "10                        0             0                    0   \n",
       "11                        0             0                    0   \n",
       "12                        0             0                    0   \n",
       "13                        0             0                    0   \n",
       "14                        0             0                    0   \n",
       "15                        0             0                    0   \n",
       "16                        0             0                    0   \n",
       "17                        0             0                    0   \n",
       "18                        0             0                    0   \n",
       "19                        0             0                    0   \n",
       "\n",
       "    feature_wood-burning_fireplace  feature_yard  feature_yoga_classes  target  \n",
       "0                                0             0                     0       1  \n",
       "1                                0             0                     0       0  \n",
       "2                                0             0                     0       1  \n",
       "3                                0             0                     0       1  \n",
       "4                                0             0                     0       0  \n",
       "5                                0             0                     0       0  \n",
       "6                                0             0                     0       0  \n",
       "7                                0             0                     0       2  \n",
       "8                                0             0                     0       0  \n",
       "9                                0             0                     0       0  \n",
       "10                               0             0                     0       0  \n",
       "11                               0             0                     0       0  \n",
       "12                               0             0                     0       1  \n",
       "13                               0             0                     0       0  \n",
       "14                               0             0                     0       0  \n",
       "15                               0             0                     0       0  \n",
       "16                               0             0                     0       0  \n",
       "17                               0             0                     0       2  \n",
       "18                               0             0                     0       0  \n",
       "19                               0             0                     0       0  \n",
       "\n",
       "[20 rows x 429 columns]"
      ]
     },
     "execution_count": 45,
     "metadata": {},
     "output_type": "execute_result"
    }
   ],
   "source": [
    "train_X['target'] = train_y\n",
    "train_X.head(20)"
   ]
  },
  {
   "cell_type": "code",
   "execution_count": 46,
   "metadata": {
    "collapsed": false,
    "scrolled": true
   },
   "outputs": [
    {
     "data": {
      "text/html": [
       "<div>\n",
       "<table border=\"1\" class=\"dataframe\">\n",
       "  <thead>\n",
       "    <tr style=\"text-align: right;\">\n",
       "      <th></th>\n",
       "      <th>building_id_mean_med</th>\n",
       "      <th>building_id_mean_high</th>\n",
       "      <th>manager_id_mean_med</th>\n",
       "      <th>manager_id_mean_high</th>\n",
       "      <th>median_price_bed</th>\n",
       "      <th>ratio_bed</th>\n",
       "      <th>compound</th>\n",
       "      <th>neg</th>\n",
       "      <th>neu</th>\n",
       "      <th>pos</th>\n",
       "      <th>...</th>\n",
       "      <th>feature_washer_&amp;_dryer</th>\n",
       "      <th>feature_washer_in_unit</th>\n",
       "      <th>feature_wheelchair_access</th>\n",
       "      <th>feature_wheelchair_ramp</th>\n",
       "      <th>feature_wifi</th>\n",
       "      <th>feature_wifi_access</th>\n",
       "      <th>feature_wood-burning_fireplace</th>\n",
       "      <th>feature_yard</th>\n",
       "      <th>feature_yoga_classes</th>\n",
       "      <th>target</th>\n",
       "    </tr>\n",
       "  </thead>\n",
       "  <tbody>\n",
       "    <tr>\n",
       "      <th>0</th>\n",
       "      <td>0.209004</td>\n",
       "      <td>1.647100e-20</td>\n",
       "      <td>4.977719e-01</td>\n",
       "      <td>1.662864e-01</td>\n",
       "      <td>2900.0</td>\n",
       "      <td>1.101724</td>\n",
       "      <td>-1.340780</td>\n",
       "      <td>-0.779948</td>\n",
       "      <td>0.993037</td>\n",
       "      <td>-1.653623</td>\n",
       "      <td>...</td>\n",
       "      <td>0</td>\n",
       "      <td>0</td>\n",
       "      <td>0</td>\n",
       "      <td>0</td>\n",
       "      <td>0</td>\n",
       "      <td>0</td>\n",
       "      <td>0</td>\n",
       "      <td>0</td>\n",
       "      <td>0</td>\n",
       "      <td>2</td>\n",
       "    </tr>\n",
       "    <tr>\n",
       "      <th>1</th>\n",
       "      <td>0.223571</td>\n",
       "      <td>7.631393e-02</td>\n",
       "      <td>2.848296e-01</td>\n",
       "      <td>5.240410e-01</td>\n",
       "      <td>2400.0</td>\n",
       "      <td>0.833333</td>\n",
       "      <td>-0.105235</td>\n",
       "      <td>1.693842</td>\n",
       "      <td>-0.314646</td>\n",
       "      <td>1.189324</td>\n",
       "      <td>...</td>\n",
       "      <td>0</td>\n",
       "      <td>0</td>\n",
       "      <td>0</td>\n",
       "      <td>0</td>\n",
       "      <td>0</td>\n",
       "      <td>0</td>\n",
       "      <td>0</td>\n",
       "      <td>0</td>\n",
       "      <td>0</td>\n",
       "      <td>1</td>\n",
       "    </tr>\n",
       "    <tr>\n",
       "      <th>2</th>\n",
       "      <td>0.539652</td>\n",
       "      <td>3.067110e-01</td>\n",
       "      <td>3.042367e-01</td>\n",
       "      <td>5.637824e-01</td>\n",
       "      <td>4500.0</td>\n",
       "      <td>1.300000</td>\n",
       "      <td>1.290802</td>\n",
       "      <td>-0.779948</td>\n",
       "      <td>0.000723</td>\n",
       "      <td>1.085749</td>\n",
       "      <td>...</td>\n",
       "      <td>0</td>\n",
       "      <td>0</td>\n",
       "      <td>0</td>\n",
       "      <td>0</td>\n",
       "      <td>0</td>\n",
       "      <td>0</td>\n",
       "      <td>0</td>\n",
       "      <td>0</td>\n",
       "      <td>0</td>\n",
       "      <td>2</td>\n",
       "    </tr>\n",
       "    <tr>\n",
       "      <th>3</th>\n",
       "      <td>0.182525</td>\n",
       "      <td>2.091337e-02</td>\n",
       "      <td>1.834092e-01</td>\n",
       "      <td>2.090990e-02</td>\n",
       "      <td>2900.0</td>\n",
       "      <td>0.946552</td>\n",
       "      <td>0.622219</td>\n",
       "      <td>-0.155228</td>\n",
       "      <td>0.343788</td>\n",
       "      <td>0.266971</td>\n",
       "      <td>...</td>\n",
       "      <td>0</td>\n",
       "      <td>0</td>\n",
       "      <td>0</td>\n",
       "      <td>0</td>\n",
       "      <td>0</td>\n",
       "      <td>0</td>\n",
       "      <td>0</td>\n",
       "      <td>0</td>\n",
       "      <td>0</td>\n",
       "      <td>1</td>\n",
       "    </tr>\n",
       "    <tr>\n",
       "      <th>4</th>\n",
       "      <td>0.262472</td>\n",
       "      <td>5.285947e-02</td>\n",
       "      <td>4.941058e-01</td>\n",
       "      <td>9.875175e-02</td>\n",
       "      <td>2900.0</td>\n",
       "      <td>0.827586</td>\n",
       "      <td>-0.370310</td>\n",
       "      <td>-0.779948</td>\n",
       "      <td>0.382525</td>\n",
       "      <td>0.243350</td>\n",
       "      <td>...</td>\n",
       "      <td>0</td>\n",
       "      <td>0</td>\n",
       "      <td>0</td>\n",
       "      <td>0</td>\n",
       "      <td>0</td>\n",
       "      <td>0</td>\n",
       "      <td>0</td>\n",
       "      <td>0</td>\n",
       "      <td>0</td>\n",
       "      <td>1</td>\n",
       "    </tr>\n",
       "    <tr>\n",
       "      <th>5</th>\n",
       "      <td>0.058923</td>\n",
       "      <td>2.424558e-02</td>\n",
       "      <td>2.001526e-01</td>\n",
       "      <td>6.825954e-02</td>\n",
       "      <td>2900.0</td>\n",
       "      <td>1.258621</td>\n",
       "      <td>0.927860</td>\n",
       "      <td>-0.779948</td>\n",
       "      <td>0.079705</td>\n",
       "      <td>0.927884</td>\n",
       "      <td>...</td>\n",
       "      <td>0</td>\n",
       "      <td>0</td>\n",
       "      <td>0</td>\n",
       "      <td>0</td>\n",
       "      <td>0</td>\n",
       "      <td>0</td>\n",
       "      <td>0</td>\n",
       "      <td>0</td>\n",
       "      <td>0</td>\n",
       "      <td>0</td>\n",
       "    </tr>\n",
       "    <tr>\n",
       "      <th>6</th>\n",
       "      <td>0.060274</td>\n",
       "      <td>2.358336e-02</td>\n",
       "      <td>2.174423e-01</td>\n",
       "      <td>7.419695e-02</td>\n",
       "      <td>3350.0</td>\n",
       "      <td>0.940299</td>\n",
       "      <td>-1.340780</td>\n",
       "      <td>-0.779948</td>\n",
       "      <td>0.993037</td>\n",
       "      <td>-1.653623</td>\n",
       "      <td>...</td>\n",
       "      <td>0</td>\n",
       "      <td>0</td>\n",
       "      <td>0</td>\n",
       "      <td>0</td>\n",
       "      <td>0</td>\n",
       "      <td>0</td>\n",
       "      <td>0</td>\n",
       "      <td>0</td>\n",
       "      <td>0</td>\n",
       "      <td>0</td>\n",
       "    </tr>\n",
       "    <tr>\n",
       "      <th>7</th>\n",
       "      <td>0.060676</td>\n",
       "      <td>2.325580e-02</td>\n",
       "      <td>4.914426e-30</td>\n",
       "      <td>1.694175e-30</td>\n",
       "      <td>2900.0</td>\n",
       "      <td>1.146552</td>\n",
       "      <td>-1.677115</td>\n",
       "      <td>0.947474</td>\n",
       "      <td>0.788451</td>\n",
       "      <td>-1.311848</td>\n",
       "      <td>...</td>\n",
       "      <td>0</td>\n",
       "      <td>0</td>\n",
       "      <td>0</td>\n",
       "      <td>0</td>\n",
       "      <td>0</td>\n",
       "      <td>0</td>\n",
       "      <td>0</td>\n",
       "      <td>0</td>\n",
       "      <td>0</td>\n",
       "      <td>0</td>\n",
       "    </tr>\n",
       "    <tr>\n",
       "      <th>8</th>\n",
       "      <td>0.058769</td>\n",
       "      <td>2.423940e-02</td>\n",
       "      <td>2.237370e-01</td>\n",
       "      <td>9.420263e-02</td>\n",
       "      <td>2900.0</td>\n",
       "      <td>0.963793</td>\n",
       "      <td>-1.238563</td>\n",
       "      <td>1.674565</td>\n",
       "      <td>0.519566</td>\n",
       "      <td>-0.873793</td>\n",
       "      <td>...</td>\n",
       "      <td>0</td>\n",
       "      <td>0</td>\n",
       "      <td>0</td>\n",
       "      <td>0</td>\n",
       "      <td>0</td>\n",
       "      <td>0</td>\n",
       "      <td>0</td>\n",
       "      <td>0</td>\n",
       "      <td>0</td>\n",
       "      <td>0</td>\n",
       "    </tr>\n",
       "    <tr>\n",
       "      <th>9</th>\n",
       "      <td>0.060529</td>\n",
       "      <td>2.337462e-02</td>\n",
       "      <td>1.134886e-01</td>\n",
       "      <td>3.877598e-02</td>\n",
       "      <td>3350.0</td>\n",
       "      <td>0.716418</td>\n",
       "      <td>-0.828807</td>\n",
       "      <td>1.319638</td>\n",
       "      <td>0.041084</td>\n",
       "      <td>0.661329</td>\n",
       "      <td>...</td>\n",
       "      <td>0</td>\n",
       "      <td>0</td>\n",
       "      <td>0</td>\n",
       "      <td>0</td>\n",
       "      <td>0</td>\n",
       "      <td>0</td>\n",
       "      <td>0</td>\n",
       "      <td>0</td>\n",
       "      <td>0</td>\n",
       "      <td>0</td>\n",
       "    </tr>\n",
       "    <tr>\n",
       "      <th>10</th>\n",
       "      <td>0.060887</td>\n",
       "      <td>2.292379e-02</td>\n",
       "      <td>2.489852e-01</td>\n",
       "      <td>6.695328e-02</td>\n",
       "      <td>2400.0</td>\n",
       "      <td>0.570833</td>\n",
       "      <td>-1.340780</td>\n",
       "      <td>-0.779948</td>\n",
       "      <td>-3.182197</td>\n",
       "      <td>-1.653623</td>\n",
       "      <td>...</td>\n",
       "      <td>0</td>\n",
       "      <td>0</td>\n",
       "      <td>0</td>\n",
       "      <td>0</td>\n",
       "      <td>0</td>\n",
       "      <td>0</td>\n",
       "      <td>0</td>\n",
       "      <td>0</td>\n",
       "      <td>0</td>\n",
       "      <td>1</td>\n",
       "    </tr>\n",
       "    <tr>\n",
       "      <th>11</th>\n",
       "      <td>0.060972</td>\n",
       "      <td>2.282268e-02</td>\n",
       "      <td>4.282580e-13</td>\n",
       "      <td>1.464160e-13</td>\n",
       "      <td>2400.0</td>\n",
       "      <td>1.020833</td>\n",
       "      <td>-0.855519</td>\n",
       "      <td>0.919111</td>\n",
       "      <td>0.530630</td>\n",
       "      <td>-0.458406</td>\n",
       "      <td>...</td>\n",
       "      <td>0</td>\n",
       "      <td>0</td>\n",
       "      <td>0</td>\n",
       "      <td>0</td>\n",
       "      <td>0</td>\n",
       "      <td>0</td>\n",
       "      <td>0</td>\n",
       "      <td>0</td>\n",
       "      <td>0</td>\n",
       "      <td>0</td>\n",
       "    </tr>\n",
       "    <tr>\n",
       "      <th>12</th>\n",
       "      <td>0.062218</td>\n",
       "      <td>2.376213e-02</td>\n",
       "      <td>5.642943e-03</td>\n",
       "      <td>3.394252e-02</td>\n",
       "      <td>2900.0</td>\n",
       "      <td>0.515517</td>\n",
       "      <td>-0.960325</td>\n",
       "      <td>1.970393</td>\n",
       "      <td>0.048599</td>\n",
       "      <td>-0.405362</td>\n",
       "      <td>...</td>\n",
       "      <td>0</td>\n",
       "      <td>0</td>\n",
       "      <td>0</td>\n",
       "      <td>0</td>\n",
       "      <td>0</td>\n",
       "      <td>0</td>\n",
       "      <td>0</td>\n",
       "      <td>0</td>\n",
       "      <td>0</td>\n",
       "      <td>0</td>\n",
       "    </tr>\n",
       "    <tr>\n",
       "      <th>13</th>\n",
       "      <td>0.061124</td>\n",
       "      <td>2.290054e-02</td>\n",
       "      <td>1.275443e-09</td>\n",
       "      <td>4.362122e-10</td>\n",
       "      <td>2900.0</td>\n",
       "      <td>1.284483</td>\n",
       "      <td>-0.114493</td>\n",
       "      <td>-0.779948</td>\n",
       "      <td>0.251933</td>\n",
       "      <td>0.555086</td>\n",
       "      <td>...</td>\n",
       "      <td>0</td>\n",
       "      <td>0</td>\n",
       "      <td>0</td>\n",
       "      <td>0</td>\n",
       "      <td>0</td>\n",
       "      <td>0</td>\n",
       "      <td>0</td>\n",
       "      <td>0</td>\n",
       "      <td>0</td>\n",
       "      <td>0</td>\n",
       "    </tr>\n",
       "    <tr>\n",
       "      <th>14</th>\n",
       "      <td>0.062596</td>\n",
       "      <td>2.367291e-02</td>\n",
       "      <td>6.939214e-08</td>\n",
       "      <td>2.367926e-08</td>\n",
       "      <td>2900.0</td>\n",
       "      <td>1.155172</td>\n",
       "      <td>0.585372</td>\n",
       "      <td>1.914055</td>\n",
       "      <td>-0.746365</td>\n",
       "      <td>1.657690</td>\n",
       "      <td>...</td>\n",
       "      <td>0</td>\n",
       "      <td>0</td>\n",
       "      <td>0</td>\n",
       "      <td>0</td>\n",
       "      <td>0</td>\n",
       "      <td>0</td>\n",
       "      <td>0</td>\n",
       "      <td>0</td>\n",
       "      <td>0</td>\n",
       "      <td>0</td>\n",
       "    </tr>\n",
       "    <tr>\n",
       "      <th>15</th>\n",
       "      <td>0.061036</td>\n",
       "      <td>2.283721e-02</td>\n",
       "      <td>1.520116e-03</td>\n",
       "      <td>5.186744e-04</td>\n",
       "      <td>2400.0</td>\n",
       "      <td>1.072917</td>\n",
       "      <td>-1.445701</td>\n",
       "      <td>1.988454</td>\n",
       "      <td>0.152771</td>\n",
       "      <td>-1.300609</td>\n",
       "      <td>...</td>\n",
       "      <td>0</td>\n",
       "      <td>0</td>\n",
       "      <td>0</td>\n",
       "      <td>0</td>\n",
       "      <td>0</td>\n",
       "      <td>0</td>\n",
       "      <td>0</td>\n",
       "      <td>0</td>\n",
       "      <td>0</td>\n",
       "      <td>0</td>\n",
       "    </tr>\n",
       "    <tr>\n",
       "      <th>16</th>\n",
       "      <td>0.058710</td>\n",
       "      <td>2.428327e-02</td>\n",
       "      <td>5.775871e-14</td>\n",
       "      <td>1.985064e-14</td>\n",
       "      <td>2900.0</td>\n",
       "      <td>1.137931</td>\n",
       "      <td>-0.193199</td>\n",
       "      <td>-0.345575</td>\n",
       "      <td>0.874739</td>\n",
       "      <td>-1.286907</td>\n",
       "      <td>...</td>\n",
       "      <td>0</td>\n",
       "      <td>0</td>\n",
       "      <td>0</td>\n",
       "      <td>0</td>\n",
       "      <td>0</td>\n",
       "      <td>0</td>\n",
       "      <td>0</td>\n",
       "      <td>0</td>\n",
       "      <td>0</td>\n",
       "      <td>0</td>\n",
       "    </tr>\n",
       "    <tr>\n",
       "      <th>17</th>\n",
       "      <td>0.060982</td>\n",
       "      <td>2.286959e-02</td>\n",
       "      <td>2.499879e-01</td>\n",
       "      <td>6.704923e-02</td>\n",
       "      <td>4500.0</td>\n",
       "      <td>0.994444</td>\n",
       "      <td>0.143057</td>\n",
       "      <td>-0.155228</td>\n",
       "      <td>0.537241</td>\n",
       "      <td>-0.244671</td>\n",
       "      <td>...</td>\n",
       "      <td>0</td>\n",
       "      <td>0</td>\n",
       "      <td>0</td>\n",
       "      <td>0</td>\n",
       "      <td>0</td>\n",
       "      <td>0</td>\n",
       "      <td>0</td>\n",
       "      <td>0</td>\n",
       "      <td>0</td>\n",
       "      <td>0</td>\n",
       "    </tr>\n",
       "    <tr>\n",
       "      <th>18</th>\n",
       "      <td>0.062345</td>\n",
       "      <td>2.379439e-02</td>\n",
       "      <td>2.403571e-01</td>\n",
       "      <td>6.845790e-02</td>\n",
       "      <td>2900.0</td>\n",
       "      <td>0.991379</td>\n",
       "      <td>0.279780</td>\n",
       "      <td>-0.779948</td>\n",
       "      <td>0.355896</td>\n",
       "      <td>0.309114</td>\n",
       "      <td>...</td>\n",
       "      <td>0</td>\n",
       "      <td>0</td>\n",
       "      <td>0</td>\n",
       "      <td>0</td>\n",
       "      <td>0</td>\n",
       "      <td>0</td>\n",
       "      <td>0</td>\n",
       "      <td>0</td>\n",
       "      <td>0</td>\n",
       "      <td>0</td>\n",
       "    </tr>\n",
       "    <tr>\n",
       "      <th>19</th>\n",
       "      <td>0.061294</td>\n",
       "      <td>2.290959e-02</td>\n",
       "      <td>2.502197e-01</td>\n",
       "      <td>6.700014e-02</td>\n",
       "      <td>3350.0</td>\n",
       "      <td>1.074627</td>\n",
       "      <td>-0.053597</td>\n",
       "      <td>-0.046608</td>\n",
       "      <td>0.576707</td>\n",
       "      <td>-0.375003</td>\n",
       "      <td>...</td>\n",
       "      <td>0</td>\n",
       "      <td>0</td>\n",
       "      <td>0</td>\n",
       "      <td>0</td>\n",
       "      <td>0</td>\n",
       "      <td>0</td>\n",
       "      <td>0</td>\n",
       "      <td>0</td>\n",
       "      <td>0</td>\n",
       "      <td>0</td>\n",
       "    </tr>\n",
       "  </tbody>\n",
       "</table>\n",
       "<p>20 rows × 429 columns</p>\n",
       "</div>"
      ],
      "text/plain": [
       "    building_id_mean_med  building_id_mean_high  manager_id_mean_med  \\\n",
       "0               0.209004           1.647100e-20         4.977719e-01   \n",
       "1               0.223571           7.631393e-02         2.848296e-01   \n",
       "2               0.539652           3.067110e-01         3.042367e-01   \n",
       "3               0.182525           2.091337e-02         1.834092e-01   \n",
       "4               0.262472           5.285947e-02         4.941058e-01   \n",
       "5               0.058923           2.424558e-02         2.001526e-01   \n",
       "6               0.060274           2.358336e-02         2.174423e-01   \n",
       "7               0.060676           2.325580e-02         4.914426e-30   \n",
       "8               0.058769           2.423940e-02         2.237370e-01   \n",
       "9               0.060529           2.337462e-02         1.134886e-01   \n",
       "10              0.060887           2.292379e-02         2.489852e-01   \n",
       "11              0.060972           2.282268e-02         4.282580e-13   \n",
       "12              0.062218           2.376213e-02         5.642943e-03   \n",
       "13              0.061124           2.290054e-02         1.275443e-09   \n",
       "14              0.062596           2.367291e-02         6.939214e-08   \n",
       "15              0.061036           2.283721e-02         1.520116e-03   \n",
       "16              0.058710           2.428327e-02         5.775871e-14   \n",
       "17              0.060982           2.286959e-02         2.499879e-01   \n",
       "18              0.062345           2.379439e-02         2.403571e-01   \n",
       "19              0.061294           2.290959e-02         2.502197e-01   \n",
       "\n",
       "    manager_id_mean_high  median_price_bed  ratio_bed  compound       neg  \\\n",
       "0           1.662864e-01            2900.0   1.101724 -1.340780 -0.779948   \n",
       "1           5.240410e-01            2400.0   0.833333 -0.105235  1.693842   \n",
       "2           5.637824e-01            4500.0   1.300000  1.290802 -0.779948   \n",
       "3           2.090990e-02            2900.0   0.946552  0.622219 -0.155228   \n",
       "4           9.875175e-02            2900.0   0.827586 -0.370310 -0.779948   \n",
       "5           6.825954e-02            2900.0   1.258621  0.927860 -0.779948   \n",
       "6           7.419695e-02            3350.0   0.940299 -1.340780 -0.779948   \n",
       "7           1.694175e-30            2900.0   1.146552 -1.677115  0.947474   \n",
       "8           9.420263e-02            2900.0   0.963793 -1.238563  1.674565   \n",
       "9           3.877598e-02            3350.0   0.716418 -0.828807  1.319638   \n",
       "10          6.695328e-02            2400.0   0.570833 -1.340780 -0.779948   \n",
       "11          1.464160e-13            2400.0   1.020833 -0.855519  0.919111   \n",
       "12          3.394252e-02            2900.0   0.515517 -0.960325  1.970393   \n",
       "13          4.362122e-10            2900.0   1.284483 -0.114493 -0.779948   \n",
       "14          2.367926e-08            2900.0   1.155172  0.585372  1.914055   \n",
       "15          5.186744e-04            2400.0   1.072917 -1.445701  1.988454   \n",
       "16          1.985064e-14            2900.0   1.137931 -0.193199 -0.345575   \n",
       "17          6.704923e-02            4500.0   0.994444  0.143057 -0.155228   \n",
       "18          6.845790e-02            2900.0   0.991379  0.279780 -0.779948   \n",
       "19          6.700014e-02            3350.0   1.074627 -0.053597 -0.046608   \n",
       "\n",
       "         neu       pos   ...    feature_washer_&_dryer  \\\n",
       "0   0.993037 -1.653623   ...                         0   \n",
       "1  -0.314646  1.189324   ...                         0   \n",
       "2   0.000723  1.085749   ...                         0   \n",
       "3   0.343788  0.266971   ...                         0   \n",
       "4   0.382525  0.243350   ...                         0   \n",
       "5   0.079705  0.927884   ...                         0   \n",
       "6   0.993037 -1.653623   ...                         0   \n",
       "7   0.788451 -1.311848   ...                         0   \n",
       "8   0.519566 -0.873793   ...                         0   \n",
       "9   0.041084  0.661329   ...                         0   \n",
       "10 -3.182197 -1.653623   ...                         0   \n",
       "11  0.530630 -0.458406   ...                         0   \n",
       "12  0.048599 -0.405362   ...                         0   \n",
       "13  0.251933  0.555086   ...                         0   \n",
       "14 -0.746365  1.657690   ...                         0   \n",
       "15  0.152771 -1.300609   ...                         0   \n",
       "16  0.874739 -1.286907   ...                         0   \n",
       "17  0.537241 -0.244671   ...                         0   \n",
       "18  0.355896  0.309114   ...                         0   \n",
       "19  0.576707 -0.375003   ...                         0   \n",
       "\n",
       "    feature_washer_in_unit  feature_wheelchair_access  \\\n",
       "0                        0                          0   \n",
       "1                        0                          0   \n",
       "2                        0                          0   \n",
       "3                        0                          0   \n",
       "4                        0                          0   \n",
       "5                        0                          0   \n",
       "6                        0                          0   \n",
       "7                        0                          0   \n",
       "8                        0                          0   \n",
       "9                        0                          0   \n",
       "10                       0                          0   \n",
       "11                       0                          0   \n",
       "12                       0                          0   \n",
       "13                       0                          0   \n",
       "14                       0                          0   \n",
       "15                       0                          0   \n",
       "16                       0                          0   \n",
       "17                       0                          0   \n",
       "18                       0                          0   \n",
       "19                       0                          0   \n",
       "\n",
       "    feature_wheelchair_ramp  feature_wifi  feature_wifi_access  \\\n",
       "0                         0             0                    0   \n",
       "1                         0             0                    0   \n",
       "2                         0             0                    0   \n",
       "3                         0             0                    0   \n",
       "4                         0             0                    0   \n",
       "5                         0             0                    0   \n",
       "6                         0             0                    0   \n",
       "7                         0             0                    0   \n",
       "8                         0             0                    0   \n",
       "9                         0             0                    0   \n",
       "10                        0             0                    0   \n",
       "11                        0             0                    0   \n",
       "12                        0             0                    0   \n",
       "13                        0             0                    0   \n",
       "14                        0             0                    0   \n",
       "15                        0             0                    0   \n",
       "16                        0             0                    0   \n",
       "17                        0             0                    0   \n",
       "18                        0             0                    0   \n",
       "19                        0             0                    0   \n",
       "\n",
       "    feature_wood-burning_fireplace  feature_yard  feature_yoga_classes  target  \n",
       "0                                0             0                     0       2  \n",
       "1                                0             0                     0       1  \n",
       "2                                0             0                     0       2  \n",
       "3                                0             0                     0       1  \n",
       "4                                0             0                     0       1  \n",
       "5                                0             0                     0       0  \n",
       "6                                0             0                     0       0  \n",
       "7                                0             0                     0       0  \n",
       "8                                0             0                     0       0  \n",
       "9                                0             0                     0       0  \n",
       "10                               0             0                     0       1  \n",
       "11                               0             0                     0       0  \n",
       "12                               0             0                     0       0  \n",
       "13                               0             0                     0       0  \n",
       "14                               0             0                     0       0  \n",
       "15                               0             0                     0       0  \n",
       "16                               0             0                     0       0  \n",
       "17                               0             0                     0       0  \n",
       "18                               0             0                     0       0  \n",
       "19                               0             0                     0       0  \n",
       "\n",
       "[20 rows x 429 columns]"
      ]
     },
     "execution_count": 46,
     "metadata": {},
     "output_type": "execute_result"
    }
   ],
   "source": [
    "train_X = train_X.sort_values(by='listing_id').reset_index(drop=True)\n",
    "# train_X.reset_index\n",
    "train_X.head(20)"
   ]
  },
  {
   "cell_type": "code",
   "execution_count": 47,
   "metadata": {
    "collapsed": false
   },
   "outputs": [
    {
     "data": {
      "text/plain": [
       "array([2, 1, 2, 1, 1, 0, 0, 0, 0, 0, 1, 0, 0, 0, 0, 0, 0, 0, 0, 0], dtype=int64)"
      ]
     },
     "execution_count": 47,
     "metadata": {},
     "output_type": "execute_result"
    }
   ],
   "source": [
    "train_y = train_X['target'].values\n",
    "train_y[:20]"
   ]
  },
  {
   "cell_type": "code",
   "execution_count": 48,
   "metadata": {
    "collapsed": true
   },
   "outputs": [],
   "source": [
    "train_X = train_X.drop('target',axis = 1)"
   ]
  },
  {
   "cell_type": "code",
   "execution_count": 49,
   "metadata": {
    "collapsed": false
   },
   "outputs": [
    {
     "data": {
      "text/html": [
       "<div>\n",
       "<table border=\"1\" class=\"dataframe\">\n",
       "  <thead>\n",
       "    <tr style=\"text-align: right;\">\n",
       "      <th></th>\n",
       "      <th>building_id_mean_med</th>\n",
       "      <th>building_id_mean_high</th>\n",
       "      <th>manager_id_mean_med</th>\n",
       "      <th>manager_id_mean_high</th>\n",
       "      <th>median_price_bed</th>\n",
       "      <th>ratio_bed</th>\n",
       "      <th>compound</th>\n",
       "      <th>neg</th>\n",
       "      <th>neu</th>\n",
       "      <th>pos</th>\n",
       "      <th>...</th>\n",
       "      <th>feature_washer/dryer_in_unit</th>\n",
       "      <th>feature_washer_&amp;_dryer</th>\n",
       "      <th>feature_washer_in_unit</th>\n",
       "      <th>feature_wheelchair_access</th>\n",
       "      <th>feature_wheelchair_ramp</th>\n",
       "      <th>feature_wifi</th>\n",
       "      <th>feature_wifi_access</th>\n",
       "      <th>feature_wood-burning_fireplace</th>\n",
       "      <th>feature_yard</th>\n",
       "      <th>feature_yoga_classes</th>\n",
       "    </tr>\n",
       "  </thead>\n",
       "  <tbody>\n",
       "    <tr>\n",
       "      <th>0</th>\n",
       "      <td>0.209004</td>\n",
       "      <td>1.647100e-20</td>\n",
       "      <td>0.497772</td>\n",
       "      <td>0.166286</td>\n",
       "      <td>2900.0</td>\n",
       "      <td>1.101724</td>\n",
       "      <td>-1.340780</td>\n",
       "      <td>-0.779948</td>\n",
       "      <td>0.993037</td>\n",
       "      <td>-1.653623</td>\n",
       "      <td>...</td>\n",
       "      <td>0</td>\n",
       "      <td>0</td>\n",
       "      <td>0</td>\n",
       "      <td>0</td>\n",
       "      <td>0</td>\n",
       "      <td>0</td>\n",
       "      <td>0</td>\n",
       "      <td>0</td>\n",
       "      <td>0</td>\n",
       "      <td>0</td>\n",
       "    </tr>\n",
       "    <tr>\n",
       "      <th>1</th>\n",
       "      <td>0.223571</td>\n",
       "      <td>7.631393e-02</td>\n",
       "      <td>0.284830</td>\n",
       "      <td>0.524041</td>\n",
       "      <td>2400.0</td>\n",
       "      <td>0.833333</td>\n",
       "      <td>-0.105235</td>\n",
       "      <td>1.693842</td>\n",
       "      <td>-0.314646</td>\n",
       "      <td>1.189324</td>\n",
       "      <td>...</td>\n",
       "      <td>0</td>\n",
       "      <td>0</td>\n",
       "      <td>0</td>\n",
       "      <td>0</td>\n",
       "      <td>0</td>\n",
       "      <td>0</td>\n",
       "      <td>0</td>\n",
       "      <td>0</td>\n",
       "      <td>0</td>\n",
       "      <td>0</td>\n",
       "    </tr>\n",
       "    <tr>\n",
       "      <th>2</th>\n",
       "      <td>0.539652</td>\n",
       "      <td>3.067110e-01</td>\n",
       "      <td>0.304237</td>\n",
       "      <td>0.563782</td>\n",
       "      <td>4500.0</td>\n",
       "      <td>1.300000</td>\n",
       "      <td>1.290802</td>\n",
       "      <td>-0.779948</td>\n",
       "      <td>0.000723</td>\n",
       "      <td>1.085749</td>\n",
       "      <td>...</td>\n",
       "      <td>0</td>\n",
       "      <td>0</td>\n",
       "      <td>0</td>\n",
       "      <td>0</td>\n",
       "      <td>0</td>\n",
       "      <td>0</td>\n",
       "      <td>0</td>\n",
       "      <td>0</td>\n",
       "      <td>0</td>\n",
       "      <td>0</td>\n",
       "    </tr>\n",
       "    <tr>\n",
       "      <th>3</th>\n",
       "      <td>0.182525</td>\n",
       "      <td>2.091337e-02</td>\n",
       "      <td>0.183409</td>\n",
       "      <td>0.020910</td>\n",
       "      <td>2900.0</td>\n",
       "      <td>0.946552</td>\n",
       "      <td>0.622219</td>\n",
       "      <td>-0.155228</td>\n",
       "      <td>0.343788</td>\n",
       "      <td>0.266971</td>\n",
       "      <td>...</td>\n",
       "      <td>0</td>\n",
       "      <td>0</td>\n",
       "      <td>0</td>\n",
       "      <td>0</td>\n",
       "      <td>0</td>\n",
       "      <td>0</td>\n",
       "      <td>0</td>\n",
       "      <td>0</td>\n",
       "      <td>0</td>\n",
       "      <td>0</td>\n",
       "    </tr>\n",
       "    <tr>\n",
       "      <th>4</th>\n",
       "      <td>0.262472</td>\n",
       "      <td>5.285947e-02</td>\n",
       "      <td>0.494106</td>\n",
       "      <td>0.098752</td>\n",
       "      <td>2900.0</td>\n",
       "      <td>0.827586</td>\n",
       "      <td>-0.370310</td>\n",
       "      <td>-0.779948</td>\n",
       "      <td>0.382525</td>\n",
       "      <td>0.243350</td>\n",
       "      <td>...</td>\n",
       "      <td>0</td>\n",
       "      <td>0</td>\n",
       "      <td>0</td>\n",
       "      <td>0</td>\n",
       "      <td>0</td>\n",
       "      <td>0</td>\n",
       "      <td>0</td>\n",
       "      <td>0</td>\n",
       "      <td>0</td>\n",
       "      <td>0</td>\n",
       "    </tr>\n",
       "  </tbody>\n",
       "</table>\n",
       "<p>5 rows × 428 columns</p>\n",
       "</div>"
      ],
      "text/plain": [
       "   building_id_mean_med  building_id_mean_high  manager_id_mean_med  \\\n",
       "0              0.209004           1.647100e-20             0.497772   \n",
       "1              0.223571           7.631393e-02             0.284830   \n",
       "2              0.539652           3.067110e-01             0.304237   \n",
       "3              0.182525           2.091337e-02             0.183409   \n",
       "4              0.262472           5.285947e-02             0.494106   \n",
       "\n",
       "   manager_id_mean_high  median_price_bed  ratio_bed  compound       neg  \\\n",
       "0              0.166286            2900.0   1.101724 -1.340780 -0.779948   \n",
       "1              0.524041            2400.0   0.833333 -0.105235  1.693842   \n",
       "2              0.563782            4500.0   1.300000  1.290802 -0.779948   \n",
       "3              0.020910            2900.0   0.946552  0.622219 -0.155228   \n",
       "4              0.098752            2900.0   0.827586 -0.370310 -0.779948   \n",
       "\n",
       "        neu       pos          ...           feature_washer/dryer_in_unit  \\\n",
       "0  0.993037 -1.653623          ...                                      0   \n",
       "1 -0.314646  1.189324          ...                                      0   \n",
       "2  0.000723  1.085749          ...                                      0   \n",
       "3  0.343788  0.266971          ...                                      0   \n",
       "4  0.382525  0.243350          ...                                      0   \n",
       "\n",
       "   feature_washer_&_dryer  feature_washer_in_unit  feature_wheelchair_access  \\\n",
       "0                       0                       0                          0   \n",
       "1                       0                       0                          0   \n",
       "2                       0                       0                          0   \n",
       "3                       0                       0                          0   \n",
       "4                       0                       0                          0   \n",
       "\n",
       "   feature_wheelchair_ramp  feature_wifi  feature_wifi_access  \\\n",
       "0                        0             0                    0   \n",
       "1                        0             0                    0   \n",
       "2                        0             0                    0   \n",
       "3                        0             0                    0   \n",
       "4                        0             0                    0   \n",
       "\n",
       "   feature_wood-burning_fireplace  feature_yard  feature_yoga_classes  \n",
       "0                               0             0                     0  \n",
       "1                               0             0                     0  \n",
       "2                               0             0                     0  \n",
       "3                               0             0                     0  \n",
       "4                               0             0                     0  \n",
       "\n",
       "[5 rows x 428 columns]"
      ]
     },
     "execution_count": 49,
     "metadata": {},
     "output_type": "execute_result"
    }
   ],
   "source": [
    "train_X.head()"
   ]
  },
  {
   "cell_type": "code",
   "execution_count": 21,
   "metadata": {
    "collapsed": false
   },
   "outputs": [
    {
     "name": "stdout",
     "output_type": "stream",
     "text": [
      "False\n"
     ]
    }
   ],
   "source": [
    "print train_X.isnull().values.any()"
   ]
  },
  {
   "cell_type": "code",
   "execution_count": 22,
   "metadata": {
    "collapsed": false
   },
   "outputs": [
    {
     "name": "stdout",
     "output_type": "stream",
     "text": [
      "False\n"
     ]
    }
   ],
   "source": [
    "print test_X.isnull().values.any()"
   ]
  },
  {
   "cell_type": "code",
   "execution_count": null,
   "metadata": {
    "collapsed": true
   },
   "outputs": [],
   "source": []
  },
  {
   "cell_type": "code",
   "execution_count": 50,
   "metadata": {
    "collapsed": false
   },
   "outputs": [
    {
     "name": "stdout",
     "output_type": "stream",
     "text": [
      "(39481, 428)\n",
      "(9871, 428)\n"
     ]
    }
   ],
   "source": [
    "X_train, X_val, y_train, y_val = train_test_split(train_X, train_y, train_size=.80, random_state=1234)\n",
    "print X_train.shape\n",
    "print X_val.shape"
   ]
  },
  {
   "cell_type": "code",
   "execution_count": 51,
   "metadata": {
    "collapsed": false
   },
   "outputs": [
    {
     "name": "stdout",
     "output_type": "stream",
     "text": [
      "Train until valid scores didn't improve in 50 rounds.\n",
      "[25]\tvalid_0's multi_logloss: 0.596546\n",
      "[50]\tvalid_0's multi_logloss: 0.548529\n",
      "[75]\tvalid_0's multi_logloss: 0.536572\n",
      "[100]\tvalid_0's multi_logloss: 0.531046\n",
      "[125]\tvalid_0's multi_logloss: 0.528372\n",
      "[150]\tvalid_0's multi_logloss: 0.527127\n",
      "[175]\tvalid_0's multi_logloss: 0.526887\n",
      "[200]\tvalid_0's multi_logloss: 0.526267\n",
      "[225]\tvalid_0's multi_logloss: 0.52549\n",
      "[250]\tvalid_0's multi_logloss: 0.52519\n",
      "[275]\tvalid_0's multi_logloss: 0.524247\n",
      "[300]\tvalid_0's multi_logloss: 0.524606\n",
      "Early stopping, best iteration is:\n",
      "[272]\tvalid_0's multi_logloss: 0.524245\n"
     ]
    }
   ],
   "source": [
    "clf = lgb.LGBMClassifier()\n",
    "clf.set_params(learning_rate = 0.1)\n",
    "clf.set_params(subsample_freq = 1)\n",
    "clf.set_params(objective = 'multiclass')\n",
    "clf.set_params(n_estimators = 100000)\n",
    "        \n",
    "clf = clf.fit(X_train, y_train,\n",
    "              eval_set = [(X_val,y_val)],\n",
    "              eval_metric = 'multi_logloss',\n",
    "              early_stopping_rounds = 50,\n",
    "              verbose = 25)"
   ]
  },
  {
   "cell_type": "code",
   "execution_count": null,
   "metadata": {
    "collapsed": true
   },
   "outputs": [],
   "source": []
  },
  {
   "cell_type": "code",
   "execution_count": 52,
   "metadata": {
    "collapsed": true
   },
   "outputs": [],
   "source": [
    "clf = lgb.LGBMClassifier()\n",
    "clf.set_params(learning_rate = 0.1)\n",
    "clf.set_params(subsample_freq = 1)\n",
    "clf.set_params(objective = 'multiclass')\n",
    "clf.set_params(n_estimators = 100000)\n",
    "\n",
    "tmp  = 1000"
   ]
  },
  {
   "cell_type": "code",
   "execution_count": 53,
   "metadata": {
    "collapsed": false
   },
   "outputs": [
    {
     "name": "stdout",
     "output_type": "stream",
     "text": [
      "8  \t0.523447639565 875\n",
      "15  \t0.522912525382 420\n",
      "31  \t0.524245132735 272\n",
      "63  \t0.524991927516 151\n",
      "127  \t0.527521218102 105\n",
      "255  \t0.534582199981 69\n"
     ]
    }
   ],
   "source": [
    "for x in [8,15,31,63,127,255]:\n",
    "    clf.set_params(num_leaves = x)\n",
    "    clf = clf.fit(X_train, y_train,\n",
    "                  eval_set = [(X_val,y_val)],\n",
    "                  eval_metric = 'multi_logloss',\n",
    "                  early_stopping_rounds = 50,\n",
    "                  verbose = False)\n",
    "    if tmp > clf.evals_result.values()[0]['multi_logloss'][clf.best_iteration -1]:\n",
    "        num_leaves = x\n",
    "        tmp = clf.evals_result.values()[0]['multi_logloss'][clf.best_iteration -1]\n",
    "\n",
    "\n",
    "    print x, ' \\t', clf.evals_result.values()[0]['multi_logloss'][clf.best_iteration -1], clf.best_iteration"
   ]
  },
  {
   "cell_type": "code",
   "execution_count": 54,
   "metadata": {
    "collapsed": false
   },
   "outputs": [
    {
     "name": "stdout",
     "output_type": "stream",
     "text": [
      "15\n"
     ]
    },
    {
     "data": {
      "text/plain": [
       "LGBMClassifier(boosting_type='gbdt', colsample_bytree=1, drop_rate=0.1,\n",
       "        is_unbalance=False, learning_rate=0.1, max_bin=255, max_depth=-1,\n",
       "        max_drop=50, min_child_samples=10, min_child_weight=5,\n",
       "        min_split_gain=0, n_estimators=100000, nthread=-1, num_leaves=15,\n",
       "        objective='multiclass', reg_alpha=0, reg_lambda=0,\n",
       "        scale_pos_weight=1, seed=0, sigmoid=1.0, silent=True,\n",
       "        skip_drop=0.5, subsample=1, subsample_for_bin=50000,\n",
       "        subsample_freq=1, uniform_drop=False, xgboost_dart_mode=False)"
      ]
     },
     "execution_count": 54,
     "metadata": {},
     "output_type": "execute_result"
    }
   ],
   "source": [
    "print num_leaves\n",
    "clf.set_params(num_leaves = num_leaves)"
   ]
  },
  {
   "cell_type": "code",
   "execution_count": 55,
   "metadata": {
    "collapsed": false
   },
   "outputs": [
    {
     "name": "stdout",
     "output_type": "stream",
     "text": [
      "20  \t0.52380419891 487\n",
      "30  \t0.523905051926 536\n",
      "50  \t0.524536082485 504\n",
      "70  \t0.524777343749 432\n",
      "80  \t0.523260827651 415\n",
      "90  \t0.524723643548 352\n",
      "100  \t0.523072862878 491\n",
      "110  \t0.52484500751 474\n",
      "120  \t0.522249019108 455\n",
      "150  \t0.523104253988 417\n",
      "170  \t0.523137432607 481\n",
      "200  \t0.524790252619 445\n",
      "230  \t0.524761489481 479\n",
      "260  \t0.524733385745 400\n"
     ]
    }
   ],
   "source": [
    "min_child_samples = 10\n",
    "\n",
    "for x in [20, 30, 50, 70, 80,90,100,110,120,150,170,200,230,260]:\n",
    "    clf.set_params(min_child_samples = x)\n",
    "    clf = clf.fit(X_train, y_train,\n",
    "                  eval_set = [(X_val,y_val)],\n",
    "                  eval_metric = 'multi_logloss',\n",
    "                  early_stopping_rounds = 50,\n",
    "                  verbose = False)\n",
    "    if tmp > clf.evals_result.values()[0]['multi_logloss'][clf.best_iteration -1]:\n",
    "        min_child_samples = x\n",
    "        tmp = clf.evals_result.values()[0]['multi_logloss'][clf.best_iteration -1]\n",
    "\n",
    "\n",
    "    print x, ' \\t', clf.evals_result.values()[0]['multi_logloss'][clf.best_iteration -1], clf.best_iteration"
   ]
  },
  {
   "cell_type": "code",
   "execution_count": 56,
   "metadata": {
    "collapsed": false
   },
   "outputs": [
    {
     "name": "stdout",
     "output_type": "stream",
     "text": [
      "300  \t0.522738726212 484\n",
      "350  \t0.526449033979 355\n",
      "400  \t0.525850893049 308\n",
      "450  \t0.525448032641 362\n",
      "500  \t0.523463602125 443\n"
     ]
    }
   ],
   "source": [
    "for x in [300,350,400,450,500]:\n",
    "    clf.set_params(min_child_samples = x)\n",
    "    clf = clf.fit(X_train, y_train,\n",
    "                  eval_set = [(X_val,y_val)],\n",
    "                  eval_metric = 'multi_logloss',\n",
    "                  early_stopping_rounds = 50,\n",
    "                  verbose = False)\n",
    "    if tmp > clf.evals_result.values()[0]['multi_logloss'][clf.best_iteration -1]:\n",
    "        min_child_samples = x\n",
    "        tmp = clf.evals_result.values()[0]['multi_logloss'][clf.best_iteration -1]\n",
    "\n",
    "\n",
    "    print x, ' \\t', clf.evals_result.values()[0]['multi_logloss'][clf.best_iteration -1], clf.best_iteration"
   ]
  },
  {
   "cell_type": "code",
   "execution_count": 57,
   "metadata": {
    "collapsed": false
   },
   "outputs": [
    {
     "name": "stdout",
     "output_type": "stream",
     "text": [
      "550  \t0.525388614134 485\n",
      "600  \t0.525510141911 526\n",
      "650  \t0.52553170707 486\n",
      "700  \t0.524184667943 467\n",
      "800  \t0.525769343021 433\n"
     ]
    }
   ],
   "source": [
    "for x in [550,600,650,700,800]:\n",
    "    clf.set_params(min_child_samples = x)\n",
    "    clf = clf.fit(X_train, y_train,\n",
    "                  eval_set = [(X_val,y_val)],\n",
    "                  eval_metric = 'multi_logloss',\n",
    "                  early_stopping_rounds = 50,\n",
    "                  verbose = False)\n",
    "    if tmp > clf.evals_result.values()[0]['multi_logloss'][clf.best_iteration -1]:\n",
    "        min_child_samples = x\n",
    "        tmp = clf.evals_result.values()[0]['multi_logloss'][clf.best_iteration -1]\n",
    "\n",
    "\n",
    "    print x, ' \\t', clf.evals_result.values()[0]['multi_logloss'][clf.best_iteration -1], clf.best_iteration"
   ]
  },
  {
   "cell_type": "code",
   "execution_count": 58,
   "metadata": {
    "collapsed": false
   },
   "outputs": [
    {
     "name": "stdout",
     "output_type": "stream",
     "text": [
      "120\n"
     ]
    },
    {
     "data": {
      "text/plain": [
       "LGBMClassifier(boosting_type='gbdt', colsample_bytree=1, drop_rate=0.1,\n",
       "        is_unbalance=False, learning_rate=0.1, max_bin=255, max_depth=-1,\n",
       "        max_drop=50, min_child_samples=120, min_child_weight=5,\n",
       "        min_split_gain=0, n_estimators=100000, nthread=-1, num_leaves=15,\n",
       "        objective='multiclass', reg_alpha=0, reg_lambda=0,\n",
       "        scale_pos_weight=1, seed=0, sigmoid=1.0, silent=True,\n",
       "        skip_drop=0.5, subsample=1, subsample_for_bin=50000,\n",
       "        subsample_freq=1, uniform_drop=False, xgboost_dart_mode=False)"
      ]
     },
     "execution_count": 58,
     "metadata": {},
     "output_type": "execute_result"
    }
   ],
   "source": [
    "print min_child_samples\n",
    "clf.set_params(min_child_samples = min_child_samples)\n"
   ]
  },
  {
   "cell_type": "code",
   "execution_count": 59,
   "metadata": {
    "collapsed": false
   },
   "outputs": [
    {
     "name": "stdout",
     "output_type": "stream",
     "text": [
      "0.2  \t0.519869784299 554\n",
      "0.3  \t0.521271379637 558\n",
      "0.4  \t0.521401743122 485\n",
      "0.5  \t0.521179851153 480\n",
      "0.6  \t0.522457816553 528\n",
      "0.7  \t0.521238716306 496\n",
      "0.8  \t0.520888647177 497\n",
      "0.9  \t0.523197240089 475\n"
     ]
    }
   ],
   "source": [
    "colsample_bytree = 1\n",
    "for x in [0.2,0.3,0.4,0.5,0.6,0.7,0.8,0.9]:\n",
    "    clf.set_params(colsample_bytree = x)\n",
    "    clf = clf.fit(X_train, y_train,\n",
    "                  eval_set = [(X_val,y_val)],\n",
    "                  eval_metric = 'multi_logloss',\n",
    "                  early_stopping_rounds = 50,\n",
    "                  verbose = False)\n",
    "    if tmp > clf.evals_result.values()[0]['multi_logloss'][clf.best_iteration -1]:\n",
    "        colsample_bytree = x\n",
    "        tmp = clf.evals_result.values()[0]['multi_logloss'][clf.best_iteration -1]\n",
    "\n",
    "\n",
    "    print x, ' \\t', clf.evals_result.values()[0]['multi_logloss'][clf.best_iteration -1], clf.best_iteration"
   ]
  },
  {
   "cell_type": "code",
   "execution_count": 64,
   "metadata": {
    "collapsed": false
   },
   "outputs": [
    {
     "name": "stdout",
     "output_type": "stream",
     "text": [
      "0.05  \t0.526687710672 1324\n",
      "0.1  \t0.524147788866 673\n"
     ]
    }
   ],
   "source": [
    "colsample_bytree = 0.2\n",
    "for x in [0.05,0.1]:\n",
    "    clf.set_params(colsample_bytree = x)\n",
    "    clf = clf.fit(X_train, y_train,\n",
    "                  eval_set = [(X_val,y_val)],\n",
    "                  eval_metric = 'multi_logloss',\n",
    "                  early_stopping_rounds = 50,\n",
    "                  verbose = False)\n",
    "    if tmp > clf.evals_result.values()[0]['multi_logloss'][clf.best_iteration -1]:\n",
    "        colsample_bytree = x\n",
    "        tmp = clf.evals_result.values()[0]['multi_logloss'][clf.best_iteration -1]\n",
    "\n",
    "\n",
    "    print x, ' \\t', clf.evals_result.values()[0]['multi_logloss'][clf.best_iteration -1], clf.best_iteration"
   ]
  },
  {
   "cell_type": "code",
   "execution_count": 65,
   "metadata": {
    "collapsed": false
   },
   "outputs": [
    {
     "name": "stdout",
     "output_type": "stream",
     "text": [
      "0.2\n"
     ]
    },
    {
     "data": {
      "text/plain": [
       "LGBMClassifier(boosting_type='gbdt', colsample_bytree=0.2, drop_rate=0.1,\n",
       "        is_unbalance=False, learning_rate=0.1, max_bin=15, max_depth=-1,\n",
       "        max_drop=50, min_child_samples=120, min_child_weight=5,\n",
       "        min_split_gain=0, n_estimators=100000, nthread=-1, num_leaves=15,\n",
       "        objective='multiclass', reg_alpha=0, reg_lambda=0,\n",
       "        scale_pos_weight=1, seed=0, sigmoid=1.0, silent=True,\n",
       "        skip_drop=0.5, subsample=1.0, subsample_for_bin=50000,\n",
       "        subsample_freq=1, uniform_drop=False, xgboost_dart_mode=False)"
      ]
     },
     "execution_count": 65,
     "metadata": {},
     "output_type": "execute_result"
    }
   ],
   "source": [
    "print colsample_bytree\n",
    "\n",
    "clf.set_params(colsample_bytree = colsample_bytree)"
   ]
  },
  {
   "cell_type": "code",
   "execution_count": 66,
   "metadata": {
    "collapsed": false
   },
   "outputs": [
    {
     "name": "stdout",
     "output_type": "stream",
     "text": [
      "0.5  \t0.528421595081 637\n",
      "0.6  \t0.528364172063 383\n",
      "0.7  \t0.526122407828 600\n",
      "0.8  \t0.523388586702 660\n",
      "0.9  \t0.52271243082 628\n"
     ]
    }
   ],
   "source": [
    "subsample = 1.0\n",
    "for x in [0.5,0.6,0.7,0.8,0.9]:\n",
    "    clf.set_params(subsample = x)\n",
    "    clf = clf.fit(X_train, y_train,\n",
    "                  eval_set = [(X_val,y_val)],\n",
    "                  eval_metric = 'multi_logloss',\n",
    "                  early_stopping_rounds = 50,\n",
    "                  verbose = False)\n",
    "    if tmp > clf.evals_result.values()[0]['multi_logloss'][clf.best_iteration -1]:\n",
    "        subsample = x\n",
    "        tmp = clf.evals_result.values()[0]['multi_logloss'][clf.best_iteration -1]\n",
    "\n",
    "\n",
    "    print x, ' \\t', clf.evals_result.values()[0]['multi_logloss'][clf.best_iteration -1], clf.best_iteration"
   ]
  },
  {
   "cell_type": "code",
   "execution_count": 67,
   "metadata": {
    "collapsed": false
   },
   "outputs": [
    {
     "name": "stdout",
     "output_type": "stream",
     "text": [
      "1.0\n"
     ]
    },
    {
     "data": {
      "text/plain": [
       "LGBMClassifier(boosting_type='gbdt', colsample_bytree=0.2, drop_rate=0.1,\n",
       "        is_unbalance=False, learning_rate=0.1, max_bin=15, max_depth=-1,\n",
       "        max_drop=50, min_child_samples=120, min_child_weight=5,\n",
       "        min_split_gain=0, n_estimators=100000, nthread=-1, num_leaves=15,\n",
       "        objective='multiclass', reg_alpha=0, reg_lambda=0,\n",
       "        scale_pos_weight=1, seed=0, sigmoid=1.0, silent=True,\n",
       "        skip_drop=0.5, subsample=1.0, subsample_for_bin=50000,\n",
       "        subsample_freq=1, uniform_drop=False, xgboost_dart_mode=False)"
      ]
     },
     "execution_count": 67,
     "metadata": {},
     "output_type": "execute_result"
    }
   ],
   "source": [
    "print subsample\n",
    "clf.set_params(subsample = subsample)"
   ]
  },
  {
   "cell_type": "code",
   "execution_count": 68,
   "metadata": {
    "collapsed": false
   },
   "outputs": [
    {
     "name": "stdout",
     "output_type": "stream",
     "text": [
      "15  \t0.522213717443 864\n",
      "31  \t0.523198247165 691\n",
      "63  \t0.520753717986 635\n",
      "127  \t0.520232551802 498\n",
      "511  \t0.519190662898 759\n",
      "1023  \t0.520922233368 508\n",
      "2047  \t0.520050347558 617\n"
     ]
    }
   ],
   "source": [
    "max_bin = 255\n",
    "\n",
    "for x in [15,31,63, 127, 511, 1023, 2047]: #[200,300,400]:#\n",
    "    clf.set_params(max_bin = x)\n",
    "    clf = clf.fit(X_train, y_train,\n",
    "                  eval_set = [(X_val,y_val)],\n",
    "                  eval_metric = 'multi_logloss',\n",
    "                  early_stopping_rounds = 50,\n",
    "                  verbose = False)\n",
    "    if tmp > clf.evals_result.values()[0]['multi_logloss'][clf.best_iteration -1]:\n",
    "        max_bin = x\n",
    "        tmp = clf.evals_result.values()[0]['multi_logloss'][clf.best_iteration -1]\n",
    "\n",
    "\n",
    "    print x, ' \\t', clf.evals_result.values()[0]['multi_logloss'][clf.best_iteration -1], clf.best_iteration"
   ]
  },
  {
   "cell_type": "code",
   "execution_count": 69,
   "metadata": {
    "collapsed": false
   },
   "outputs": [
    {
     "name": "stdout",
     "output_type": "stream",
     "text": [
      "110  \t0.522053943788 633\n",
      "150  \t0.520780359971 626\n",
      "180  \t0.5198894751 653\n",
      "210  \t0.520989454107 586\n",
      "300  \t0.519787284522 528\n",
      "350  \t0.520464351886 545\n",
      "400  \t0.520515812175 637\n",
      "450  \t0.520687859183 648\n",
      "550  \t0.520988863694 549\n",
      "600  \t0.520354342361 650\n",
      "650  \t0.519570048811 611\n",
      "700  \t0.52000395968 588\n",
      "800  \t0.521005882578 700\n",
      "900  \t0.521934735309 653\n"
     ]
    }
   ],
   "source": [
    "for x in [110, 150,180, 210, 300, 350,400,450, 550,600,650,700,800,900]:\n",
    "    clf.set_params(max_bin = x)\n",
    "    clf = clf.fit(X_train, y_train,\n",
    "                  eval_set = [(X_val,y_val)],\n",
    "                  eval_metric = 'multi_logloss',\n",
    "                  early_stopping_rounds = 50,\n",
    "                  verbose = False)\n",
    "    if tmp > clf.evals_result.values()[0]['multi_logloss'][clf.best_iteration -1]:\n",
    "        max_bin = x\n",
    "        tmp = clf.evals_result.values()[0]['multi_logloss'][clf.best_iteration -1]\n",
    "\n",
    "\n",
    "    print x, ' \\t', clf.evals_result.values()[0]['multi_logloss'][clf.best_iteration -1], clf.best_iteration"
   ]
  },
  {
   "cell_type": "code",
   "execution_count": 70,
   "metadata": {
    "collapsed": false
   },
   "outputs": [
    {
     "name": "stdout",
     "output_type": "stream",
     "text": [
      "511\n"
     ]
    },
    {
     "data": {
      "text/plain": [
       "LGBMClassifier(boosting_type='gbdt', colsample_bytree=0.2, drop_rate=0.1,\n",
       "        is_unbalance=False, learning_rate=0.1, max_bin=511, max_depth=-1,\n",
       "        max_drop=50, min_child_samples=120, min_child_weight=5,\n",
       "        min_split_gain=0, n_estimators=100000, nthread=-1, num_leaves=15,\n",
       "        objective='multiclass', reg_alpha=0, reg_lambda=0,\n",
       "        scale_pos_weight=1, seed=0, sigmoid=1.0, silent=True,\n",
       "        skip_drop=0.5, subsample=1.0, subsample_for_bin=50000,\n",
       "        subsample_freq=1, uniform_drop=False, xgboost_dart_mode=False)"
      ]
     },
     "execution_count": 70,
     "metadata": {},
     "output_type": "execute_result"
    }
   ],
   "source": [
    "print max_bin\n",
    "clf.set_params(max_bin = max_bin)"
   ]
  },
  {
   "cell_type": "code",
   "execution_count": 72,
   "metadata": {
    "collapsed": true
   },
   "outputs": [
    {
     "name": "stdout",
     "output_type": "stream",
     "text": [
      "\u001b[31mInitialization\u001b[0m\n",
      "\u001b[94m-----------------------------------------------------------------------------------------------------------------\u001b[0m\n",
      " Step |   Time |      Value |   colsample_bytree |   max_bin |   min_child_samples |   num_leaves |   subsample | \n",
      "    1 | 01m37s | \u001b[35m  -0.53455\u001b[0m | \u001b[32m            0.3972\u001b[0m | \u001b[32m 335.1068\u001b[0m | \u001b[32m           197.3932\u001b[0m | \u001b[32m     42.2940\u001b[0m | \u001b[32m     0.9286\u001b[0m | \n",
      "    2 | 01m40s |   -0.53631 |             0.1528 |  278.1771 |            249.9185 |      36.1665 |      0.9593 | \n",
      "    3 | 02m22s |   -0.53979 |             0.1298 |  574.6983 |            309.2746 |      79.9042 |      0.9485 | \n",
      "    4 | 02m20s |   -0.53496 |             0.6291 |  244.8545 |            409.2169 |      76.2128 |      0.9338 | \n",
      "    5 | 02m45s | \u001b[35m  -0.53440\u001b[0m | \u001b[32m            0.7582\u001b[0m | \u001b[32m 415.4839\u001b[0m | \u001b[32m           295.8915\u001b[0m | \u001b[32m     36.9249\u001b[0m | \u001b[32m     1.0000\u001b[0m | \n",
      "    6 | 02m14s |   -0.53685 |             0.3990 |  850.1622 |            449.0549 |      51.0563 |      0.8797 | \n",
      "    7 | 02m53s | \u001b[35m  -0.53365\u001b[0m | \u001b[32m            0.3427\u001b[0m | \u001b[32m 846.8975\u001b[0m | \u001b[32m            84.5357\u001b[0m | \u001b[32m     58.2346\u001b[0m | \u001b[32m     0.9790\u001b[0m | \n",
      "    8 | 02m13s |   -0.53479 |             0.6767 |  367.1903 |            257.0481 |      20.9429 |      0.8743 | \n",
      "    9 | 02m31s |   -0.53552 |             0.5045 |  708.2202 |             80.3989 |      78.0666 |      0.9336 | \n",
      "   10 | 02m12s |   -0.53533 |             0.7004 |  176.7991 |            451.5848 |      60.3878 |      0.9046 | \n"
     ]
    },
    {
     "name": "stderr",
     "output_type": "stream",
     "text": [
      "D:\\python\\Anaconda2\\lib\\site-packages\\sklearn\\gaussian_process\\gpr.py:427: UserWarning: fmin_l_bfgs_b terminated abnormally with the  state: {'warnflag': 2, 'task': 'ABNORMAL_TERMINATION_IN_LNSRCH', 'grad': array([ -3.58187240e-05]), 'nit': 3, 'funcalls': 47}\n",
      "  \" state: %s\" % convergence_dict)\n"
     ]
    },
    {
     "name": "stdout",
     "output_type": "stream",
     "text": [
      "\u001b[31mBayesian Optimization\u001b[0m\n",
      "\u001b[94m-----------------------------------------------------------------------------------------------------------------\u001b[0m\n",
      " Step |   Time |      Value |   colsample_bytree |   max_bin |   min_child_samples |   num_leaves |   subsample | \n",
      "   11 | 03m30s |   -0.53554 |             0.6055 |  987.0283 |            270.9801 |      10.7650 |      0.8168 | \n",
      "   12 | 01m53s |   -0.53507 |             0.3345 |  949.7900 |             84.7068 |      23.3041 |      0.9200 | \n",
      "   13 | 02m31s |   -0.53527 |             0.8447 |  147.8238 |             71.8293 |      67.8771 |      0.7623 | \n",
      "   14 | 02m27s |   -0.53473 |             0.7459 |  427.2431 |             68.0999 |      28.5079 |      0.7307 | \n"
     ]
    },
    {
     "name": "stderr",
     "output_type": "stream",
     "text": [
      "D:\\python\\Anaconda2\\lib\\site-packages\\sklearn\\gaussian_process\\gpr.py:427: UserWarning: fmin_l_bfgs_b terminated abnormally with the  state: {'warnflag': 2, 'task': 'ABNORMAL_TERMINATION_IN_LNSRCH', 'grad': array([ -3.11768672e-05]), 'nit': 4, 'funcalls': 50}\n",
      "  \" state: %s\" % convergence_dict)\n",
      "D:\\python\\Anaconda2\\lib\\site-packages\\sklearn\\gaussian_process\\gpr.py:427: UserWarning: fmin_l_bfgs_b terminated abnormally with the  state: {'warnflag': 2, 'task': 'ABNORMAL_TERMINATION_IN_LNSRCH', 'grad': array([ -6.46580756e-05]), 'nit': 5, 'funcalls': 52}\n",
      "  \" state: %s\" % convergence_dict)\n"
     ]
    },
    {
     "name": "stdout",
     "output_type": "stream",
     "text": [
      "   15 | 02m20s |   -0.53900 |             0.4829 |  982.7768 |            482.6601 |      48.9826 |      0.7836 | \n"
     ]
    },
    {
     "name": "stderr",
     "output_type": "stream",
     "text": [
      "D:\\python\\Anaconda2\\lib\\site-packages\\sklearn\\gaussian_process\\gpr.py:427: UserWarning: fmin_l_bfgs_b terminated abnormally with the  state: {'warnflag': 2, 'task': 'ABNORMAL_TERMINATION_IN_LNSRCH', 'grad': array([ -2.41887304e-05]), 'nit': 5, 'funcalls': 49}\n",
      "  \" state: %s\" % convergence_dict)\n",
      "D:\\python\\Anaconda2\\lib\\site-packages\\sklearn\\gaussian_process\\gpr.py:427: UserWarning: fmin_l_bfgs_b terminated abnormally with the  state: {'warnflag': 2, 'task': 'ABNORMAL_TERMINATION_IN_LNSRCH', 'grad': array([ -2.26960965e-05]), 'nit': 4, 'funcalls': 50}\n",
      "  \" state: %s\" % convergence_dict)\n"
     ]
    },
    {
     "name": "stdout",
     "output_type": "stream",
     "text": [
      "   16 | 01m39s |   -0.53725 |             0.3491 |  320.3157 |            451.5372 |      29.5362 |      0.7992 | \n",
      "   17 | 03m33s |   -0.53548 |             0.7188 |  957.9129 |            253.0793 |      75.7861 |      0.9585 | \n",
      "   18 | 02m04s |   -0.53597 |             0.3828 |  890.7508 |            180.3190 |      10.8158 |      0.7921 | \n",
      "   19 | 03m36s |   -0.53517 |             0.7035 |  453.9726 |            150.7810 |      72.0485 |      0.9091 | \n",
      "   20 | 02m28s |   -0.53542 |             0.7692 |  290.7798 |             68.0198 |      74.0213 |      0.8386 | \n",
      "   21 | 01m51s |   -0.53465 |             0.2525 |  836.1215 |             61.4188 |      50.7367 |      0.8980 | \n"
     ]
    },
    {
     "name": "stderr",
     "output_type": "stream",
     "text": [
      "D:\\python\\Anaconda2\\lib\\site-packages\\sklearn\\gaussian_process\\gpr.py:427: UserWarning: fmin_l_bfgs_b terminated abnormally with the  state: {'warnflag': 2, 'task': 'ABNORMAL_TERMINATION_IN_LNSRCH', 'grad': array([ 0.00014844]), 'nit': 4, 'funcalls': 52}\n",
      "  \" state: %s\" % convergence_dict)\n"
     ]
    },
    {
     "name": "stdout",
     "output_type": "stream",
     "text": [
      "   22 | 01m28s |   -0.53664 |             0.1457 |   69.3069 |            329.9957 |      37.4253 |      0.8778 | \n",
      "   23 | 04m18s |   -0.53708 |             0.8304 |  918.5980 |             71.2561 |      69.9413 |      0.7458 | \n"
     ]
    },
    {
     "name": "stderr",
     "output_type": "stream",
     "text": [
      "D:\\python\\Anaconda2\\lib\\site-packages\\sklearn\\gaussian_process\\gpr.py:427: UserWarning: fmin_l_bfgs_b terminated abnormally with the  state: {'warnflag': 2, 'task': 'ABNORMAL_TERMINATION_IN_LNSRCH', 'grad': array([ -4.01667178e-05]), 'nit': 5, 'funcalls': 49}\n",
      "  \" state: %s\" % convergence_dict)\n"
     ]
    },
    {
     "name": "stdout",
     "output_type": "stream",
     "text": [
      "   24 | 01m49s |   -0.53632 |             0.6325 |   63.0317 |            155.2661 |      67.4792 |      0.7909 | \n"
     ]
    },
    {
     "name": "stderr",
     "output_type": "stream",
     "text": [
      "D:\\python\\Anaconda2\\lib\\site-packages\\sklearn\\gaussian_process\\gpr.py:427: UserWarning: fmin_l_bfgs_b terminated abnormally with the  state: {'warnflag': 2, 'task': 'ABNORMAL_TERMINATION_IN_LNSRCH', 'grad': array([ -9.27508518e-05]), 'nit': 6, 'funcalls': 57}\n",
      "  \" state: %s\" % convergence_dict)\n"
     ]
    },
    {
     "name": "stdout",
     "output_type": "stream",
     "text": [
      "   25 | 02m54s |   -0.53575 |             0.7254 |  746.7933 |            159.2006 |      51.4805 |      0.7575 | \n"
     ]
    },
    {
     "name": "stderr",
     "output_type": "stream",
     "text": [
      "D:\\python\\Anaconda2\\lib\\site-packages\\sklearn\\gaussian_process\\gpr.py:427: UserWarning: fmin_l_bfgs_b terminated abnormally with the  state: {'warnflag': 2, 'task': 'ABNORMAL_TERMINATION_IN_LNSRCH', 'grad': array([-0.00029082]), 'nit': 2, 'funcalls': 45}\n",
      "  \" state: %s\" % convergence_dict)\n",
      "D:\\python\\Anaconda2\\lib\\site-packages\\sklearn\\gaussian_process\\gpr.py:427: UserWarning: fmin_l_bfgs_b terminated abnormally with the  state: {'warnflag': 2, 'task': 'ABNORMAL_TERMINATION_IN_LNSRCH', 'grad': array([ -4.42844121e-05]), 'nit': 4, 'funcalls': 51}\n",
      "  \" state: %s\" % convergence_dict)\n"
     ]
    },
    {
     "name": "stdout",
     "output_type": "stream",
     "text": [
      "   26 | 01m37s |   -0.53723 |             0.2194 |  848.1631 |             92.0648 |      46.4313 |      0.7168 | \n"
     ]
    },
    {
     "name": "stderr",
     "output_type": "stream",
     "text": [
      "D:\\python\\Anaconda2\\lib\\site-packages\\sklearn\\gaussian_process\\gpr.py:427: UserWarning: fmin_l_bfgs_b terminated abnormally with the  state: {'warnflag': 2, 'task': 'ABNORMAL_TERMINATION_IN_LNSRCH', 'grad': array([ -6.11806245e-05]), 'nit': 5, 'funcalls': 53}\n",
      "  \" state: %s\" % convergence_dict)\n"
     ]
    },
    {
     "name": "stdout",
     "output_type": "stream",
     "text": [
      "   27 | 03m12s |   -0.53388 |             0.3397 |  825.0653 |             80.7654 |      70.9759 |      0.9785 | \n",
      "   28 | 02m25s |   -0.53501 |             0.4705 |  766.7361 |            308.8398 |      57.2894 |      0.9614 | \n",
      "   29 | 01m42s |   -0.54001 |             0.4461 |   72.1440 |            475.0500 |      72.6065 |      0.7570 | \n"
     ]
    },
    {
     "name": "stderr",
     "output_type": "stream",
     "text": [
      "D:\\python\\Anaconda2\\lib\\site-packages\\sklearn\\gaussian_process\\gpr.py:427: UserWarning: fmin_l_bfgs_b terminated abnormally with the  state: {'warnflag': 2, 'task': 'ABNORMAL_TERMINATION_IN_LNSRCH', 'grad': array([ -7.73654102e-05]), 'nit': 6, 'funcalls': 56}\n",
      "  \" state: %s\" % convergence_dict)\n"
     ]
    },
    {
     "name": "stdout",
     "output_type": "stream",
     "text": [
      "   30 | 01m52s |   -0.53519 |             0.3011 |  990.0439 |            147.0767 |      14.2016 |      0.9394 | \n"
     ]
    },
    {
     "name": "stderr",
     "output_type": "stream",
     "text": [
      "D:\\python\\Anaconda2\\lib\\site-packages\\sklearn\\gaussian_process\\gpr.py:427: UserWarning: fmin_l_bfgs_b terminated abnormally with the  state: {'warnflag': 2, 'task': 'ABNORMAL_TERMINATION_IN_LNSRCH', 'grad': array([ -1.78142473e-05]), 'nit': 5, 'funcalls': 56}\n",
      "  \" state: %s\" % convergence_dict)\n",
      "D:\\python\\Anaconda2\\lib\\site-packages\\sklearn\\gaussian_process\\gpr.py:427: UserWarning: fmin_l_bfgs_b terminated abnormally with the  state: {'warnflag': 2, 'task': 'ABNORMAL_TERMINATION_IN_LNSRCH', 'grad': array([ -3.72910363e-05]), 'nit': 5, 'funcalls': 58}\n",
      "  \" state: %s\" % convergence_dict)\n"
     ]
    },
    {
     "name": "stdout",
     "output_type": "stream",
     "text": [
      "   31 | 03m17s |   -0.53935 |             0.6608 |  669.3812 |            467.9600 |      14.3093 |      0.7040 | \n",
      "   32 | 03m02s |   -0.53939 |             0.8712 |  499.5160 |            495.0878 |      75.7846 |      0.7145 | \n",
      "   33 | 03m34s |   -0.53528 |             0.7099 |  890.1592 |            289.1036 |      68.2002 |      0.8998 | \n",
      "   34 | 01m28s |   -0.53622 |             0.1430 |  107.5720 |            121.1598 |      20.4682 |      0.7697 | \n",
      "   35 | 02m23s |   -0.53825 |             0.1491 |  567.7630 |             90.9891 |      50.6571 |      0.7748 | \n",
      "   36 | 02m54s |   -0.53647 |             0.8672 |  151.5483 |            281.2266 |      75.2219 |      0.8788 | \n"
     ]
    },
    {
     "name": "stderr",
     "output_type": "stream",
     "text": [
      "D:\\python\\Anaconda2\\lib\\site-packages\\sklearn\\gaussian_process\\gpr.py:427: UserWarning: fmin_l_bfgs_b terminated abnormally with the  state: {'warnflag': 2, 'task': 'ABNORMAL_TERMINATION_IN_LNSRCH', 'grad': array([ -3.51194394e-05]), 'nit': 5, 'funcalls': 52}\n",
      "  \" state: %s\" % convergence_dict)\n"
     ]
    },
    {
     "name": "stdout",
     "output_type": "stream",
     "text": [
      "   37 | 02m51s |   -0.53930 |             0.8362 |  192.7165 |            499.3348 |      10.1408 |      0.7462 | \n",
      "   38 | 01m42s |   -0.54045 |             0.1266 |  796.6862 |            198.0553 |      76.5914 |      0.8209 | \n",
      "   39 | 02m03s |   -0.53631 |             0.5203 |  401.3755 |            147.4150 |      13.7352 |      0.7260 | \n"
     ]
    },
    {
     "name": "stderr",
     "output_type": "stream",
     "text": [
      "D:\\python\\Anaconda2\\lib\\site-packages\\sklearn\\gaussian_process\\gpr.py:427: UserWarning: fmin_l_bfgs_b terminated abnormally with the  state: {'warnflag': 2, 'task': 'ABNORMAL_TERMINATION_IN_LNSRCH', 'grad': array([-0.00052183]), 'nit': 2, 'funcalls': 45}\n",
      "  \" state: %s\" % convergence_dict)\n"
     ]
    },
    {
     "name": "stdout",
     "output_type": "stream",
     "text": [
      "   40 | 02m34s |   -0.53736 |             0.6449 |  382.9687 |            325.3132 |      75.8212 |      0.7666 | \n"
     ]
    },
    {
     "name": "stderr",
     "output_type": "stream",
     "text": [
      "D:\\python\\Anaconda2\\lib\\site-packages\\sklearn\\gaussian_process\\gpr.py:427: UserWarning: fmin_l_bfgs_b terminated abnormally with the  state: {'warnflag': 2, 'task': 'ABNORMAL_TERMINATION_IN_LNSRCH', 'grad': array([-0.00018407]), 'nit': 5, 'funcalls': 54}\n",
      "  \" state: %s\" % convergence_dict)\n"
     ]
    },
    {
     "name": "stdout",
     "output_type": "stream",
     "text": [
      "   41 | 02m50s |   -0.53396 |             0.5175 |   64.0132 |             73.6541 |      11.4813 |      0.8887 | \n"
     ]
    },
    {
     "name": "stderr",
     "output_type": "stream",
     "text": [
      "D:\\python\\Anaconda2\\lib\\site-packages\\sklearn\\gaussian_process\\gpr.py:427: UserWarning: fmin_l_bfgs_b terminated abnormally with the  state: {'warnflag': 2, 'task': 'ABNORMAL_TERMINATION_IN_LNSRCH', 'grad': array([-0.00193745]), 'nit': 5, 'funcalls': 53}\n",
      "  \" state: %s\" % convergence_dict)\n"
     ]
    },
    {
     "name": "stdout",
     "output_type": "stream",
     "text": [
      "   42 | 02m26s |   -0.53676 |             0.4759 |  876.8490 |            336.7889 |      10.6877 |      0.7037 | \n",
      "   43 | 02m28s |   -0.53592 |             0.5163 |  666.3633 |            187.0051 |      21.9445 |      0.7373 | \n",
      "   44 | 02m14s |   -0.53721 |             0.5509 |  414.9060 |             65.8363 |      76.9343 |      0.7217 | \n"
     ]
    },
    {
     "name": "stderr",
     "output_type": "stream",
     "text": [
      "D:\\python\\Anaconda2\\lib\\site-packages\\sklearn\\gaussian_process\\gpr.py:427: UserWarning: fmin_l_bfgs_b terminated abnormally with the  state: {'warnflag': 2, 'task': 'ABNORMAL_TERMINATION_IN_LNSRCH', 'grad': array([-0.00271265]), 'nit': 4, 'funcalls': 47}\n",
      "  \" state: %s\" % convergence_dict)\n"
     ]
    },
    {
     "name": "stdout",
     "output_type": "stream",
     "text": [
      "   45 | 03m26s |   -0.53405 |             0.8569 |  166.7589 |             60.1644 |      12.7236 |      0.9535 | \n",
      "   46 | 03m21s |   -0.53575 |             0.7337 |  255.4097 |            138.7666 |      10.0094 |      0.8033 | \n"
     ]
    },
    {
     "name": "stderr",
     "output_type": "stream",
     "text": [
      "D:\\python\\Anaconda2\\lib\\site-packages\\sklearn\\gaussian_process\\gpr.py:427: UserWarning: fmin_l_bfgs_b terminated abnormally with the  state: {'warnflag': 2, 'task': 'ABNORMAL_TERMINATION_IN_LNSRCH', 'grad': array([  6.51409355e-05]), 'nit': 4, 'funcalls': 51}\n",
      "  \" state: %s\" % convergence_dict)\n"
     ]
    },
    {
     "name": "stdout",
     "output_type": "stream",
     "text": [
      "   47 | 01m43s |   -0.53607 |             0.2538 |  203.3084 |            376.6512 |      15.6626 |      0.7876 | \n"
     ]
    },
    {
     "name": "stderr",
     "output_type": "stream",
     "text": [
      "D:\\python\\Anaconda2\\lib\\site-packages\\sklearn\\gaussian_process\\gpr.py:427: UserWarning: fmin_l_bfgs_b terminated abnormally with the  state: {'warnflag': 2, 'task': 'ABNORMAL_TERMINATION_IN_LNSRCH', 'grad': array([  3.30846021e-05]), 'nit': 7, 'funcalls': 62}\n",
      "  \" state: %s\" % convergence_dict)\n"
     ]
    },
    {
     "name": "stdout",
     "output_type": "stream",
     "text": [
      "   48 | 03m27s |   -0.53553 |             0.8523 |  496.9743 |            207.2984 |      13.4535 |      0.9888 | \n",
      "   49 | 03m29s |   -0.53374 |             0.8920 |  351.3001 |             64.7570 |      14.6907 |      0.8868 | \n",
      "   50 | 02m32s |   -0.53939 |             0.5780 |  779.5202 |            495.0038 |      79.4391 |      0.7839 | \n",
      "   51 | 02m49s |   -0.53484 |             0.5394 |  752.7225 |            358.8743 |      12.7207 |      0.8524 | \n",
      "   52 | 02m19s |   -0.53413 |             0.4471 |  483.3408 |            370.0730 |      19.3280 |      0.9625 | \n"
     ]
    },
    {
     "name": "stderr",
     "output_type": "stream",
     "text": [
      "D:\\python\\Anaconda2\\lib\\site-packages\\sklearn\\gaussian_process\\gpr.py:427: UserWarning: fmin_l_bfgs_b terminated abnormally with the  state: {'warnflag': 2, 'task': 'ABNORMAL_TERMINATION_IN_LNSRCH', 'grad': array([-0.00024746]), 'nit': 2, 'funcalls': 45}\n",
      "  \" state: %s\" % convergence_dict)\n"
     ]
    },
    {
     "name": "stdout",
     "output_type": "stream",
     "text": [
      "   53 | 02m02s |   -0.53580 |             0.6487 |   69.6294 |             67.9062 |      74.4751 |      0.8529 | \n"
     ]
    },
    {
     "name": "stderr",
     "output_type": "stream",
     "text": [
      "D:\\python\\Anaconda2\\lib\\site-packages\\sklearn\\gaussian_process\\gpr.py:427: UserWarning: fmin_l_bfgs_b terminated abnormally with the  state: {'warnflag': 2, 'task': 'ABNORMAL_TERMINATION_IN_LNSRCH', 'grad': array([-0.00156582]), 'nit': 5, 'funcalls': 55}\n",
      "  \" state: %s\" % convergence_dict)\n"
     ]
    },
    {
     "name": "stdout",
     "output_type": "stream",
     "text": [
      "   54 | 03m30s |   -0.53461 |             0.7768 |  713.1285 |            315.3862 |      12.5283 |      0.9357 | \n"
     ]
    },
    {
     "name": "stderr",
     "output_type": "stream",
     "text": [
      "D:\\python\\Anaconda2\\lib\\site-packages\\sklearn\\gaussian_process\\gpr.py:427: UserWarning: fmin_l_bfgs_b terminated abnormally with the  state: {'warnflag': 2, 'task': 'ABNORMAL_TERMINATION_IN_LNSRCH', 'grad': array([-0.00288019]), 'nit': 5, 'funcalls': 49}\n",
      "  \" state: %s\" % convergence_dict)\n",
      "D:\\python\\Anaconda2\\lib\\site-packages\\sklearn\\gaussian_process\\gpr.py:427: UserWarning: fmin_l_bfgs_b terminated abnormally with the  state: {'warnflag': 2, 'task': 'ABNORMAL_TERMINATION_IN_LNSRCH', 'grad': array([-0.00043148]), 'nit': 4, 'funcalls': 52}\n",
      "  \" state: %s\" % convergence_dict)\n",
      "D:\\python\\Anaconda2\\lib\\site-packages\\sklearn\\gaussian_process\\gpr.py:427: UserWarning: fmin_l_bfgs_b terminated abnormally with the  state: {'warnflag': 2, 'task': 'ABNORMAL_TERMINATION_IN_LNSRCH', 'grad': array([-0.00184503]), 'nit': 5, 'funcalls': 53}\n",
      "  \" state: %s\" % convergence_dict)\n"
     ]
    },
    {
     "name": "stdout",
     "output_type": "stream",
     "text": [
      "   55 | 03m06s |   -0.53549 |             0.8471 |  420.3840 |            405.3900 |      13.3197 |      0.8568 | \n",
      "   56 | 02m59s |   -0.53534 |             0.7055 |  471.8181 |            267.3971 |      14.8765 |      0.9853 | \n",
      "   57 | 03m21s |   -0.53554 |             0.3868 |  972.7902 |            324.5050 |      73.1005 |      0.9193 | \n"
     ]
    },
    {
     "name": "stderr",
     "output_type": "stream",
     "text": [
      "D:\\python\\Anaconda2\\lib\\site-packages\\sklearn\\gaussian_process\\gpr.py:427: UserWarning: fmin_l_bfgs_b terminated abnormally with the  state: {'warnflag': 2, 'task': 'ABNORMAL_TERMINATION_IN_LNSRCH', 'grad': array([-0.00044317]), 'nit': 4, 'funcalls': 48}\n",
      "  \" state: %s\" % convergence_dict)\n"
     ]
    },
    {
     "name": "stdout",
     "output_type": "stream",
     "text": [
      "   58 | 03m01s |   -0.53479 |             0.8804 |  289.1428 |             64.3399 |      13.6808 |      0.8719 | \n",
      "   59 | 02m02s |   -0.53943 |             0.6065 |  234.6067 |            493.8118 |      75.6841 |      0.7175 | \n"
     ]
    },
    {
     "name": "stderr",
     "output_type": "stream",
     "text": [
      "D:\\python\\Anaconda2\\lib\\site-packages\\sklearn\\gaussian_process\\gpr.py:427: UserWarning: fmin_l_bfgs_b terminated abnormally with the  state: {'warnflag': 2, 'task': 'ABNORMAL_TERMINATION_IN_LNSRCH', 'grad': array([-0.00234123]), 'nit': 4, 'funcalls': 52}\n",
      "  \" state: %s\" % convergence_dict)\n"
     ]
    },
    {
     "name": "stdout",
     "output_type": "stream",
     "text": [
      "   60 | 02m22s |   -0.53781 |             0.5563 |  800.1224 |            370.3717 |      72.1752 |      0.7148 | \n"
     ]
    }
   ],
   "source": [
    "def lgbm_cv(max_bin, num_leaves, min_child_samples, colsample_bytree, subsample, learning_rate=0.1):\n",
    "    skf = KFold(n_splits=5,random_state=seed)\n",
    "    scores=[]\n",
    "    for i, (train, val) in enumerate(skf.split(train_X)):\n",
    "        est=lgb.LGBMClassifier(learning_rate=0.1,\n",
    "                               max_bin=int(max_bin),\n",
    "                               num_leaves=int(num_leaves),\n",
    "                               min_child_samples=int(min_child_samples),\n",
    "                               colsample_bytree=colsample_bytree,\n",
    "                               subsample=subsample,\n",
    "                               subsample_freq = 1\n",
    "                              )\n",
    " \n",
    "        train_x_fold = train_X.iloc[train]\n",
    "        train_y_fold = train_y[train]\n",
    "        val_x_fold = train_X.iloc[val]\n",
    "        val_y_fold = train_y[val]\n",
    "        est.set_params( n_estimators=100000)\n",
    "        est.fit(train_x_fold,\n",
    "                train_y_fold,\n",
    "                eval_set=[(val_x_fold, val_y_fold)],\n",
    "                eval_metric='multi_logloss',\n",
    "                early_stopping_rounds=50,\n",
    "                verbose = False\n",
    "               )\n",
    "        val_y_predict_fold = est.predict_proba(val_x_fold)\n",
    "        score = log_loss(val_y_fold, val_y_predict_fold)\n",
    "        scores.append(score)\n",
    "    return -np.mean(scores)\n",
    "\n",
    "\n",
    "lgbm_BO = BayesianOptimization(lgbm_cv, \n",
    "                               {\n",
    "                                'max_bin': (63,1000),\n",
    "                                'num_leaves': (8,80),\n",
    "                                'min_child_samples' :(60,500),\n",
    "                                'colsample_bytree': (0.1,0.9),\n",
    "                                'subsample' : (0.7,1)})\n",
    "\n",
    "lgbm_BO.maximize(init_points=10, n_iter=50)"
   ]
  },
  {
   "cell_type": "code",
   "execution_count": 73,
   "metadata": {
    "collapsed": false
   },
   "outputs": [
    {
     "data": {
      "text/html": [
       "<div>\n",
       "<table border=\"1\" class=\"dataframe\">\n",
       "  <thead>\n",
       "    <tr style=\"text-align: right;\">\n",
       "      <th></th>\n",
       "      <th>num_leaves</th>\n",
       "      <th>min_child_samples</th>\n",
       "      <th>max_bin</th>\n",
       "      <th>colsample_bytree</th>\n",
       "      <th>subsample</th>\n",
       "      <th>score</th>\n",
       "    </tr>\n",
       "  </thead>\n",
       "  <tbody>\n",
       "    <tr>\n",
       "      <th>38</th>\n",
       "      <td>14.690687</td>\n",
       "      <td>64.757042</td>\n",
       "      <td>351.300118</td>\n",
       "      <td>0.892044</td>\n",
       "      <td>0.886818</td>\n",
       "      <td>-0.533743</td>\n",
       "    </tr>\n",
       "    <tr>\n",
       "      <th>16</th>\n",
       "      <td>70.975862</td>\n",
       "      <td>80.765399</td>\n",
       "      <td>825.065274</td>\n",
       "      <td>0.339679</td>\n",
       "      <td>0.978516</td>\n",
       "      <td>-0.533882</td>\n",
       "    </tr>\n",
       "    <tr>\n",
       "      <th>30</th>\n",
       "      <td>11.481279</td>\n",
       "      <td>73.654074</td>\n",
       "      <td>64.013241</td>\n",
       "      <td>0.517505</td>\n",
       "      <td>0.888681</td>\n",
       "      <td>-0.533957</td>\n",
       "    </tr>\n",
       "    <tr>\n",
       "      <th>34</th>\n",
       "      <td>12.723564</td>\n",
       "      <td>60.164362</td>\n",
       "      <td>166.758938</td>\n",
       "      <td>0.856873</td>\n",
       "      <td>0.953502</td>\n",
       "      <td>-0.534054</td>\n",
       "    </tr>\n",
       "    <tr>\n",
       "      <th>41</th>\n",
       "      <td>19.328042</td>\n",
       "      <td>370.073023</td>\n",
       "      <td>483.340785</td>\n",
       "      <td>0.447090</td>\n",
       "      <td>0.962529</td>\n",
       "      <td>-0.534129</td>\n",
       "    </tr>\n",
       "    <tr>\n",
       "      <th>43</th>\n",
       "      <td>12.528268</td>\n",
       "      <td>315.386235</td>\n",
       "      <td>713.128543</td>\n",
       "      <td>0.776829</td>\n",
       "      <td>0.935694</td>\n",
       "      <td>-0.534608</td>\n",
       "    </tr>\n",
       "    <tr>\n",
       "      <th>10</th>\n",
       "      <td>50.736712</td>\n",
       "      <td>61.418815</td>\n",
       "      <td>836.121489</td>\n",
       "      <td>0.252467</td>\n",
       "      <td>0.898009</td>\n",
       "      <td>-0.534649</td>\n",
       "    </tr>\n",
       "    <tr>\n",
       "      <th>3</th>\n",
       "      <td>28.507858</td>\n",
       "      <td>68.099928</td>\n",
       "      <td>427.243121</td>\n",
       "      <td>0.745930</td>\n",
       "      <td>0.730671</td>\n",
       "      <td>-0.534735</td>\n",
       "    </tr>\n",
       "    <tr>\n",
       "      <th>47</th>\n",
       "      <td>13.680802</td>\n",
       "      <td>64.339886</td>\n",
       "      <td>289.142800</td>\n",
       "      <td>0.880381</td>\n",
       "      <td>0.871935</td>\n",
       "      <td>-0.534792</td>\n",
       "    </tr>\n",
       "    <tr>\n",
       "      <th>40</th>\n",
       "      <td>12.720713</td>\n",
       "      <td>358.874296</td>\n",
       "      <td>752.722504</td>\n",
       "      <td>0.539404</td>\n",
       "      <td>0.852383</td>\n",
       "      <td>-0.534844</td>\n",
       "    </tr>\n",
       "  </tbody>\n",
       "</table>\n",
       "</div>"
      ],
      "text/plain": [
       "    num_leaves  min_child_samples     max_bin  colsample_bytree  subsample  \\\n",
       "38   14.690687          64.757042  351.300118          0.892044   0.886818   \n",
       "16   70.975862          80.765399  825.065274          0.339679   0.978516   \n",
       "30   11.481279          73.654074   64.013241          0.517505   0.888681   \n",
       "34   12.723564          60.164362  166.758938          0.856873   0.953502   \n",
       "41   19.328042         370.073023  483.340785          0.447090   0.962529   \n",
       "43   12.528268         315.386235  713.128543          0.776829   0.935694   \n",
       "10   50.736712          61.418815  836.121489          0.252467   0.898009   \n",
       "3    28.507858          68.099928  427.243121          0.745930   0.730671   \n",
       "47   13.680802          64.339886  289.142800          0.880381   0.871935   \n",
       "40   12.720713         358.874296  752.722504          0.539404   0.852383   \n",
       "\n",
       "       score  \n",
       "38 -0.533743  \n",
       "16 -0.533882  \n",
       "30 -0.533957  \n",
       "34 -0.534054  \n",
       "41 -0.534129  \n",
       "43 -0.534608  \n",
       "10 -0.534649  \n",
       "3  -0.534735  \n",
       "47 -0.534792  \n",
       "40 -0.534844  "
      ]
     },
     "execution_count": 73,
     "metadata": {},
     "output_type": "execute_result"
    }
   ],
   "source": [
    "gbm_bo_scores = pd.DataFrame([[s[0]['num_leaves'],\n",
    "                               s[0]['min_child_samples'],\n",
    "                               s[0]['max_bin'],\n",
    "                               s[0]['colsample_bytree'],\n",
    "                               s[0]['subsample'],\n",
    "                               s[1]] for s in zip(lgbm_BO.res['all']['params'],lgbm_BO.res['all']['values'])],\n",
    "                            columns = ['num_leaves',\n",
    "                                       'min_child_samples',\n",
    "                                       'max_bin',\n",
    "                                       'colsample_bytree',\n",
    "                                       'subsample',\n",
    "                                       'score'])\n",
    "gbm_bo_scores=gbm_bo_scores.sort_values('score',ascending=False)\n",
    "gbm_bo_scores.head(10)"
   ]
  },
  {
   "cell_type": "code",
   "execution_count": null,
   "metadata": {
    "collapsed": true
   },
   "outputs": [],
   "source": []
  },
  {
   "cell_type": "code",
   "execution_count": null,
   "metadata": {
    "collapsed": true
   },
   "outputs": [],
   "source": []
  },
  {
   "cell_type": "code",
   "execution_count": 75,
   "metadata": {
    "collapsed": true
   },
   "outputs": [],
   "source": [
    "def lgbm_blend(estimators, train_x, train_y, test_x, fold, early_stopping_rounds=50):\n",
    "    N_params = len(estimators)\n",
    "    print (\"Blend %d estimators for %d folds\" % (N_params, fold))\n",
    "    skf = KFold(n_splits=fold,shuffle = True, random_state=seed)\n",
    "    N_class = len(set(train_y))\n",
    "\n",
    "    train_blend_x = np.zeros((train_x.shape[0], N_class*N_params))\n",
    "    test_blend_x_mean = np.zeros((test_x.shape[0], N_class*N_params))\n",
    "    test_blend_x_gmean = np.zeros((test_x.shape[0], N_class*N_params))\n",
    "    scores = np.zeros((fold,N_params))\n",
    "    best_rounds = np.zeros((fold, N_params))    \n",
    "\n",
    "    \n",
    "    for j, est in enumerate(estimators):\n",
    "        est.set_params(learning_rate = 0.005)\n",
    "        est.set_params(subsample_freq = 1)\n",
    "        est.set_params(objective = 'multiclass')\n",
    "        est.set_params(n_estimators = 1000000)\n",
    "\n",
    "        \n",
    "        print (\"Model %d: %s\" %(j+1, est)) \n",
    "\n",
    "        \n",
    "        test_blend_x_j = np.zeros((test_x.shape[0], N_class*fold))\n",
    "        for i, (train_index, val_index) in enumerate(skf.split(train_x)):\n",
    "            print (\"Model %d fold %d\" %(j+1,i+1))\n",
    "            fold_start = time.time() \n",
    "            train_x_fold = train_x.iloc[train_index]\n",
    "            train_y_fold = train_y[train_index]\n",
    "            val_x_fold = train_x.iloc[val_index]\n",
    "            val_y_fold = train_y[val_index]\n",
    "            \n",
    "            est.fit(train_x_fold, train_y_fold,\n",
    "                   eval_set = [(val_x_fold,val_y_fold)],\n",
    "                   eval_metric = 'multi_logloss',\n",
    "                   early_stopping_rounds = early_stopping_rounds,\n",
    "                   verbose = False)\n",
    "            \n",
    "            best_round=est.best_iteration\n",
    "            best_rounds[i,j]=best_round\n",
    "            print (\"best round %d\" % (best_round))\n",
    "            \n",
    "            val_y_predict_fold = est.predict_proba(val_x_fold,num_iteration = best_round)\n",
    "            score = log_loss(val_y_fold, val_y_predict_fold)\n",
    "            print (\"Score: \", score)\n",
    "            scores[i,j]=score   \n",
    "            train_blend_x[val_index, (j*N_class):(j+1)*N_class] = val_y_predict_fold\n",
    "            test_blend_x_j[:,(i*N_class):(i+1)*N_class] = est.predict_proba(test_x,num_iteration=best_round)\n",
    "            \n",
    "            print (\"Model %d fold %d fitting finished in %0.3fs\" % (j+1,i+1, time.time() - fold_start))            \n",
    "            \n",
    "#         test_blend_x[:,(j*N_class):(j+1)*N_class] = \\\n",
    "#                 np.stack([test_blend_x_j[:,range(0,N_class*fold,N_class)].mean(1),\n",
    "#                           test_blend_x_j[:,range(1,N_class*fold,N_class)].mean(1),\n",
    "#                           test_blend_x_j[:,range(2,N_class*fold,N_class)].mean(1)]).T\n",
    "            \n",
    "        test_blend_x_mean[:,(j*N_class):(j+1)*N_class] = \\\n",
    "                np.stack([test_blend_x_j[:,range(0,N_class*fold,N_class)].mean(1),\n",
    "                          test_blend_x_j[:,range(1,N_class*fold,N_class)].mean(1),\n",
    "                          test_blend_x_j[:,range(2,N_class*fold,N_class)].mean(1)]).T\n",
    "        \n",
    "        test_blend_x_gmean[:,(j*N_class):(j+1)*N_class] = \\\n",
    "                np.stack([gmean(test_blend_x_j[:,range(0,N_class*fold,N_class)], axis=1),\n",
    "                          gmean(test_blend_x_j[:,range(1,N_class*fold,N_class)], axis=1),\n",
    "                          gmean(test_blend_x_j[:,range(2,N_class*fold,N_class)], axis=1)]).T\n",
    "            \n",
    "        print (\"Score for model %d is %f\" % (j+1,np.mean(scores[:,j])))\n",
    "    print (\"Score for blended models is %f\" % (np.mean(scores)))\n",
    "    return (train_blend_x, test_blend_x_mean, test_blend_x_gmean, scores,best_rounds)"
   ]
  },
  {
   "cell_type": "code",
   "execution_count": 76,
   "metadata": {
    "collapsed": true
   },
   "outputs": [
    {
     "name": "stdout",
     "output_type": "stream",
     "text": [
      "Blend 1 estimators for 10 folds\n",
      "Model 1: LGBMClassifier(boosting_type='gbdt', colsample_bytree=0.339679, drop_rate=0.1,\n",
      "        is_unbalance=False, learning_rate=0.005, max_bin=825, max_depth=-1,\n",
      "        max_drop=50, min_child_samples=80, min_child_weight=5,\n",
      "        min_split_gain=0, n_estimators=1000000, nthread=-1, num_leaves=70,\n",
      "        objective='multiclass', reg_alpha=0, reg_lambda=0,\n",
      "        scale_pos_weight=1, seed=0, sigmoid=1.0, silent=True,\n",
      "        skip_drop=0.5, subsample=0.978516, subsample_for_bin=50000,\n",
      "        subsample_freq=1, uniform_drop=False, xgboost_dart_mode=False)\n",
      "Model 1 fold 1\n",
      "best round 3993\n",
      "('Score: ', 0.51410061879901192)\n",
      "Model 1 fold 1 fitting finished in 967.043s\n",
      "Model 1 fold 2\n",
      "best round 4219\n",
      "('Score: ', 0.53072953974363501)\n",
      "Model 1 fold 2 fitting finished in 992.226s\n",
      "Model 1 fold 3\n",
      "best round 4436\n",
      "('Score: ', 0.52116742359637547)\n",
      "Model 1 fold 3 fitting finished in 909.220s\n",
      "Model 1 fold 4\n",
      "best round 4677\n",
      "('Score: ', 0.50288131181666806)\n",
      "Model 1 fold 4 fitting finished in 1036.272s\n",
      "Model 1 fold 5\n",
      "best round 3740\n",
      "('Score: ', 0.51537753219303173)\n",
      "Model 1 fold 5 fitting finished in 847.461s\n",
      "Model 1 fold 6\n",
      "best round 4627\n",
      "('Score: ', 0.50891868629328507)\n",
      "Model 1 fold 6 fitting finished in 963.314s\n",
      "Model 1 fold 7\n",
      "best round 4320\n",
      "('Score: ', 0.52726423767012209)\n",
      "Model 1 fold 7 fitting finished in 1175.614s\n",
      "Model 1 fold 8\n",
      "best round 4349\n",
      "('Score: ', 0.52682119639414338)\n",
      "Model 1 fold 8 fitting finished in 1294.988s\n",
      "Model 1 fold 9\n",
      "best round 4460\n",
      "('Score: ', 0.51722672062833197)\n",
      "Model 1 fold 9 fitting finished in 998.615s\n",
      "Model 1 fold 10\n",
      "best round 4538\n",
      "('Score: ', 0.51138474984593119)\n",
      "Model 1 fold 10 fitting finished in 945.344s\n",
      "Score for model 1 is 0.517587\n",
      "Score for blended models is 0.517587\n"
     ]
    }
   ],
   "source": [
    "est =       [\n",
    "#     lgb.LGBMClassifier(num_leaves = 14,\n",
    "#                                 min_child_samples = 64,\n",
    "#                                 colsample_bytree = 0.892044,\n",
    "#                                 subsample = 0.886818,\n",
    "#                                 max_bin = 351),\n",
    "             lgb.LGBMClassifier(num_leaves = 70,\n",
    "                                min_child_samples = 80,\n",
    "                                colsample_bytree = 0.339679,\n",
    "                                subsample = 0.978516,\n",
    "                                max_bin = 825),\n",
    "#              lgb.LGBMClassifier(num_leaves = 31,\n",
    "#                                 min_child_samples = 66,\n",
    "#                                 colsample_bytree = 0.425728,\n",
    "#                                 subsample = 0.899097,\n",
    "#                                 max_bin = 421),\n",
    "#              lgb.LGBMClassifier(num_leaves = 17,\n",
    "#                                 min_child_samples = 64,\n",
    "#                                 colsample_bytree = 0.497790,\n",
    "#                                 subsample = 0.934519,\n",
    "#                                 max_bin = 559),\n",
    "#              lgb.LGBMClassifier(num_leaves = 16,\n",
    "#                                 min_child_samples = 66,\n",
    "#                                 colsample_bytree = 0.623331,\n",
    "#                                 subsample = 0.934423,\n",
    "#                                 max_bin = 357)\n",
    "            ]\n",
    "\n",
    "#  \t \tnum_leaves \tmin_child_samples \tmax_bin \tcolsample_bytree \tsubsample \tscore\n",
    "# 38 \t14.690687 \t64.757042 \t \t \t351.300118 \t0.892044 \t \t \t0.886818 \t-0.533743\n",
    "# 16 \t70.975862 \t80.765399 \t \t \t825.065274 \t0.339679 \t \t \t0.978516 \t-0.533882\n",
    "\n",
    "\n",
    "(train_blend_x_gbm,\n",
    " test_blend_x_gbm_mean,\n",
    " test_blend_x_gbm_gmean,\n",
    " blend_scores_gbm,\n",
    " best_rounds_gbm)= lgbm_blend(est, \n",
    "                               train_X, train_y, \n",
    "                               test_X,\n",
    "                               10,\n",
    "                               1000) #as the learning rate decreases the number of stopping rounds need to be increased"
   ]
  },
  {
   "cell_type": "code",
   "execution_count": 87,
   "metadata": {
    "collapsed": false
   },
   "outputs": [
    {
     "data": {
      "text/html": [
       "<div>\n",
       "<table border=\"1\" class=\"dataframe\">\n",
       "  <thead>\n",
       "    <tr style=\"text-align: right;\">\n",
       "      <th></th>\n",
       "      <th>low</th>\n",
       "      <th>medium</th>\n",
       "      <th>high</th>\n",
       "      <th>listing_id</th>\n",
       "    </tr>\n",
       "  </thead>\n",
       "  <tbody>\n",
       "    <tr>\n",
       "      <th>0</th>\n",
       "      <td>0.478539</td>\n",
       "      <td>0.442273</td>\n",
       "      <td>0.079188</td>\n",
       "      <td>6811957</td>\n",
       "    </tr>\n",
       "    <tr>\n",
       "      <th>1</th>\n",
       "      <td>0.045494</td>\n",
       "      <td>0.183336</td>\n",
       "      <td>0.771171</td>\n",
       "      <td>6811965</td>\n",
       "    </tr>\n",
       "    <tr>\n",
       "      <th>2</th>\n",
       "      <td>0.046062</td>\n",
       "      <td>0.551995</td>\n",
       "      <td>0.401944</td>\n",
       "      <td>6811966</td>\n",
       "    </tr>\n",
       "    <tr>\n",
       "      <th>3</th>\n",
       "      <td>0.424488</td>\n",
       "      <td>0.515695</td>\n",
       "      <td>0.059817</td>\n",
       "      <td>6811973</td>\n",
       "    </tr>\n",
       "    <tr>\n",
       "      <th>4</th>\n",
       "      <td>0.549026</td>\n",
       "      <td>0.384421</td>\n",
       "      <td>0.066553</td>\n",
       "      <td>6811975</td>\n",
       "    </tr>\n",
       "  </tbody>\n",
       "</table>\n",
       "</div>"
      ],
      "text/plain": [
       "        low    medium      high  listing_id\n",
       "0  0.478539  0.442273  0.079188     6811957\n",
       "1  0.045494  0.183336  0.771171     6811965\n",
       "2  0.046062  0.551995  0.401944     6811966\n",
       "3  0.424488  0.515695  0.059817     6811973\n",
       "4  0.549026  0.384421  0.066553     6811975"
      ]
     },
     "execution_count": 87,
     "metadata": {},
     "output_type": "execute_result"
    }
   ],
   "source": [
    "tmp = pd.DataFrame(train_blend_x_gbm,columns=[\"low\", \"medium\", \"high\"])\n",
    "tmp['listing_id'] = train_X['listing_id'].values\n",
    "tmp_X = pd.read_csv(data_path + 'train_BM_0401.csv')\n",
    "tmp_X = tmp_X.merge(tmp,on='listing_id',how='left')"
   ]
  },
  {
   "cell_type": "code",
   "execution_count": 94,
   "metadata": {
    "collapsed": true
   },
   "outputs": [],
   "source": [
    "train_blend_x_gbm = tmp_X[[\"low\", \"medium\", \"high\"]].values"
   ]
  },
  {
   "cell_type": "code",
   "execution_count": 95,
   "metadata": {
    "collapsed": false
   },
   "outputs": [
    {
     "data": {
      "text/plain": [
       "array([[ 0.56978898,  0.39050017,  0.03971085],\n",
       "       [ 0.47319149,  0.48903452,  0.03777399],\n",
       "       [ 0.65699981,  0.3284372 ,  0.014563  ],\n",
       "       ..., \n",
       "       [ 0.48368995,  0.44174765,  0.0745624 ],\n",
       "       [ 0.40629347,  0.50903604,  0.08467048],\n",
       "       [ 0.11609501,  0.39095831,  0.49294668]])"
      ]
     },
     "execution_count": 95,
     "metadata": {},
     "output_type": "execute_result"
    }
   ],
   "source": [
    "train_blend_x_gbm"
   ]
  },
  {
   "cell_type": "code",
   "execution_count": null,
   "metadata": {
    "collapsed": true
   },
   "outputs": [],
   "source": []
  },
  {
   "cell_type": "code",
   "execution_count": 96,
   "metadata": {
    "collapsed": false
   },
   "outputs": [
    {
     "name": "stdout",
     "output_type": "stream",
     "text": [
      "[ 0.5175872]\n",
      "[ 4335.9]\n"
     ]
    }
   ],
   "source": [
    "now = datetime.now()\n",
    "\n",
    "name_train_blend = '../blend/train_blend_LightGBM_sortbylistingid_0401_' + str(now.strftime(\"%Y-%m-%d-%H-%M\")) + '.csv'\n",
    "name_test_blend_mean = '../blend/test_blend_LightGBM_mean_sortbylistingid_0401_sortbylistingid_' + str(now.strftime(\"%Y-%m-%d-%H-%M\")) + '.csv'\n",
    "name_test_blend_gmean = '../blend/test_blend_LightGBM_gmean_sortbylistingid_0401_sortbylistingid_' + str(now.strftime(\"%Y-%m-%d-%H-%M\")) + '.csv'\n",
    "\n",
    "\n",
    "print (np.mean(blend_scores_gbm,axis=0))\n",
    "print (np.mean(best_rounds_gbm,axis=0))\n",
    "np.savetxt(name_train_blend,train_blend_x_gbm, delimiter=\",\")\n",
    "np.savetxt(name_test_blend_mean,test_blend_x_gbm_mean, delimiter=\",\")\n",
    "np.savetxt(name_test_blend_gmean,test_blend_x_gbm_gmean, delimiter=\",\")"
   ]
  },
  {
   "cell_type": "code",
   "execution_count": 7,
   "metadata": {
    "collapsed": true
   },
   "outputs": [],
   "source": [
    "sub_name = '../output/sub_LightGBM_BM_0401_' + str(now.strftime(\"%Y-%m-%d-%H-%M\")) + '.csv'\n",
    "\n",
    "out_df = pd.DataFrame(test_blend_x_gbm_mean[:,6:9])\n",
    "out_df.columns = [\"low\", \"medium\", \"high\"]\n",
    "out_df[\"listing_id\"] = sub_id\n",
    "out_df.to_csv(sub_name, index=False)"
   ]
  },
  {
   "cell_type": "code",
   "execution_count": null,
   "metadata": {
    "collapsed": true
   },
   "outputs": [],
   "source": [
    "# data 0322\n",
    "\n",
    "# [ 0.52309656  0.52262419  0.52356597  0.52188342  0.52198129]\n",
    "# [ 15266.3  12448.   15418.7   7687.9  11589.2]\n",
    "\n",
    "# data 0331\n",
    "# [ 0.51778446  0.51758745  0.51859108  0.51763268  0.51941101]\n",
    "# [ 15053.7   8042.4  16049.9  13754.3  28486.6]\n"
   ]
  },
  {
   "cell_type": "code",
   "execution_count": 35,
   "metadata": {
    "collapsed": true
   },
   "outputs": [],
   "source": [
    "temp = (test_blend_x_gbm_mean[:,6:9] +test_blend_x_gbm_gmean[:,6:9])/2"
   ]
  },
  {
   "cell_type": "code",
   "execution_count": 37,
   "metadata": {
    "collapsed": false
   },
   "outputs": [],
   "source": [
    "sub_name = '../output/sub_LightGBM_BM_0331_total_' + str(now.strftime(\"%Y-%m-%d-%H-%M\")) + '.csv'\n",
    "\n",
    "out_df = pd.DataFrame(temp)\n",
    "out_df.columns = [\"low\", \"medium\", \"high\"]\n",
    "out_df[\"listing_id\"] = sub_id\n",
    "out_df.to_csv(sub_name, index=False)"
   ]
  },
  {
   "cell_type": "code",
   "execution_count": null,
   "metadata": {
    "collapsed": true
   },
   "outputs": [],
   "source": []
  }
 ],
 "metadata": {
  "anaconda-cloud": {},
  "kernelspec": {
   "display_name": "Python [conda root]",
   "language": "python",
   "name": "conda-root-py"
  },
  "language_info": {
   "codemirror_mode": {
    "name": "ipython",
    "version": 2
   },
   "file_extension": ".py",
   "mimetype": "text/x-python",
   "name": "python",
   "nbconvert_exporter": "python",
   "pygments_lexer": "ipython2",
   "version": "2.7.12"
  }
 },
 "nbformat": 4,
 "nbformat_minor": 1
}
