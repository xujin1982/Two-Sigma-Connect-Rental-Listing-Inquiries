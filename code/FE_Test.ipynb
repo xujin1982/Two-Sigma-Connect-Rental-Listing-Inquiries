{
 "cells": [
  {
   "cell_type": "code",
   "execution_count": 1,
   "metadata": {
    "collapsed": false
   },
   "outputs": [
    {
     "name": "stderr",
     "output_type": "stream",
     "text": [
      "/home/xujin/AI/anaconda2/lib/python2.7/site-packages/sklearn/cross_validation.py:44: DeprecationWarning: This module was deprecated in version 0.18 in favor of the model_selection module into which all the refactored classes and functions are moved. Also note that the interface of the new CV iterators are different from that of this module. This module will be removed in 0.20.\n",
      "  \"This module will be removed in 0.20.\", DeprecationWarning)\n"
     ]
    }
   ],
   "source": [
    "import time\n",
    "import numpy as np\n",
    "import pandas as pd\n",
    "\n",
    "from scipy import sparse\n",
    "from scipy.stats.mstats import gmean\n",
    "from datetime import datetime\n",
    "from sklearn import preprocessing\n",
    "from scipy.stats import skew, boxcox,boxcox_normmax\n",
    "from sklearn.model_selection import train_test_split, StratifiedKFold, KFold\n",
    "# from sklearn.feature_extraction.text import TfidfVectorizer, CountVectorizer\n",
    "from bayes_opt import BayesianOptimization\n",
    "from sklearn.metrics import log_loss\n",
    "\n",
    "import matplotlib.pyplot as plt\n",
    "import seaborn as sns\n",
    "%matplotlib inline\n",
    "\n",
    "import xgboost as xgb\n",
    "\n",
    "seed = 1234"
   ]
  },
  {
   "cell_type": "code",
   "execution_count": 2,
   "metadata": {
    "collapsed": true
   },
   "outputs": [],
   "source": [
    "train_df = pd.read_csv('../input/' + 'train_BrandenMurray.csv')\n",
    "test_df = pd.read_csv('../input/' + 'test_BrandenMurray.csv')"
   ]
  },
  {
   "cell_type": "code",
   "execution_count": 3,
   "metadata": {
    "collapsed": false
   },
   "outputs": [
    {
     "data": {
      "text/html": [
       "<div>\n",
       "<table border=\"1\" class=\"dataframe\">\n",
       "  <thead>\n",
       "    <tr style=\"text-align: right;\">\n",
       "      <th></th>\n",
       "      <th>listing_id</th>\n",
       "      <th>bathrooms</th>\n",
       "      <th>bedrooms</th>\n",
       "      <th>building_id</th>\n",
       "      <th>display_address</th>\n",
       "      <th>latitude</th>\n",
       "      <th>longitude</th>\n",
       "      <th>manager_id</th>\n",
       "      <th>price</th>\n",
       "      <th>street_address</th>\n",
       "      <th>...</th>\n",
       "      <th>manager_id_mean_med</th>\n",
       "      <th>manager_id_mean_high</th>\n",
       "      <th>desc_wordcount</th>\n",
       "      <th>pricePerBed</th>\n",
       "      <th>pricePerBath</th>\n",
       "      <th>pricePerRoom</th>\n",
       "      <th>bedPerBath</th>\n",
       "      <th>bedBathDiff</th>\n",
       "      <th>bedBathSum</th>\n",
       "      <th>bedsPerc</th>\n",
       "    </tr>\n",
       "  </thead>\n",
       "  <tbody>\n",
       "    <tr>\n",
       "      <th>0</th>\n",
       "      <td>7170325</td>\n",
       "      <td>1.0</td>\n",
       "      <td>1</td>\n",
       "      <td>3387</td>\n",
       "      <td>281</td>\n",
       "      <td>40.7108</td>\n",
       "      <td>-73.9539</td>\n",
       "      <td>2104</td>\n",
       "      <td>2400.0</td>\n",
       "      <td>2947</td>\n",
       "      <td>...</td>\n",
       "      <td>0.403788</td>\n",
       "      <td>5.947230e-02</td>\n",
       "      <td>553</td>\n",
       "      <td>2400.0</td>\n",
       "      <td>2400.0</td>\n",
       "      <td>1200.000000</td>\n",
       "      <td>2400.0</td>\n",
       "      <td>0.0</td>\n",
       "      <td>2.0</td>\n",
       "      <td>0.500000</td>\n",
       "    </tr>\n",
       "    <tr>\n",
       "      <th>1</th>\n",
       "      <td>7092344</td>\n",
       "      <td>1.0</td>\n",
       "      <td>2</td>\n",
       "      <td>4758</td>\n",
       "      <td>3434</td>\n",
       "      <td>40.7513</td>\n",
       "      <td>-73.9722</td>\n",
       "      <td>1964</td>\n",
       "      <td>3800.0</td>\n",
       "      <td>8215</td>\n",
       "      <td>...</td>\n",
       "      <td>0.650389</td>\n",
       "      <td>5.004210e-02</td>\n",
       "      <td>827</td>\n",
       "      <td>1900.0</td>\n",
       "      <td>3800.0</td>\n",
       "      <td>1266.666667</td>\n",
       "      <td>3800.0</td>\n",
       "      <td>1.0</td>\n",
       "      <td>3.0</td>\n",
       "      <td>0.666667</td>\n",
       "    </tr>\n",
       "    <tr>\n",
       "      <th>2</th>\n",
       "      <td>7158677</td>\n",
       "      <td>1.0</td>\n",
       "      <td>2</td>\n",
       "      <td>5289</td>\n",
       "      <td>3457</td>\n",
       "      <td>40.7575</td>\n",
       "      <td>-73.9625</td>\n",
       "      <td>2627</td>\n",
       "      <td>3495.0</td>\n",
       "      <td>15314</td>\n",
       "      <td>...</td>\n",
       "      <td>0.194666</td>\n",
       "      <td>4.161561e-02</td>\n",
       "      <td>799</td>\n",
       "      <td>1747.5</td>\n",
       "      <td>3495.0</td>\n",
       "      <td>1165.000000</td>\n",
       "      <td>3495.0</td>\n",
       "      <td>1.0</td>\n",
       "      <td>3.0</td>\n",
       "      <td>0.666667</td>\n",
       "    </tr>\n",
       "    <tr>\n",
       "      <th>3</th>\n",
       "      <td>7211212</td>\n",
       "      <td>1.5</td>\n",
       "      <td>3</td>\n",
       "      <td>2104</td>\n",
       "      <td>4018</td>\n",
       "      <td>40.7145</td>\n",
       "      <td>-73.9425</td>\n",
       "      <td>1204</td>\n",
       "      <td>3000.0</td>\n",
       "      <td>21701</td>\n",
       "      <td>...</td>\n",
       "      <td>0.248812</td>\n",
       "      <td>6.214142e-31</td>\n",
       "      <td>588</td>\n",
       "      <td>1000.0</td>\n",
       "      <td>2000.0</td>\n",
       "      <td>666.666667</td>\n",
       "      <td>2000.0</td>\n",
       "      <td>1.5</td>\n",
       "      <td>4.5</td>\n",
       "      <td>0.666667</td>\n",
       "    </tr>\n",
       "    <tr>\n",
       "      <th>4</th>\n",
       "      <td>7225292</td>\n",
       "      <td>1.0</td>\n",
       "      <td>0</td>\n",
       "      <td>4930</td>\n",
       "      <td>3411</td>\n",
       "      <td>40.7439</td>\n",
       "      <td>-73.9743</td>\n",
       "      <td>610</td>\n",
       "      <td>2795.0</td>\n",
       "      <td>13511</td>\n",
       "      <td>...</td>\n",
       "      <td>0.140153</td>\n",
       "      <td>2.440795e-18</td>\n",
       "      <td>344</td>\n",
       "      <td>-1.0</td>\n",
       "      <td>2795.0</td>\n",
       "      <td>2795.000000</td>\n",
       "      <td>2795.0</td>\n",
       "      <td>-1.0</td>\n",
       "      <td>1.0</td>\n",
       "      <td>0.000000</td>\n",
       "    </tr>\n",
       "  </tbody>\n",
       "</table>\n",
       "<p>5 rows × 285 columns</p>\n",
       "</div>"
      ],
      "text/plain": [
       "   listing_id  bathrooms  bedrooms  building_id  display_address  latitude  \\\n",
       "0     7170325        1.0         1         3387              281   40.7108   \n",
       "1     7092344        1.0         2         4758             3434   40.7513   \n",
       "2     7158677        1.0         2         5289             3457   40.7575   \n",
       "3     7211212        1.5         3         2104             4018   40.7145   \n",
       "4     7225292        1.0         0         4930             3411   40.7439   \n",
       "\n",
       "   longitude  manager_id   price  street_address    ...     \\\n",
       "0   -73.9539        2104  2400.0            2947    ...      \n",
       "1   -73.9722        1964  3800.0            8215    ...      \n",
       "2   -73.9625        2627  3495.0           15314    ...      \n",
       "3   -73.9425        1204  3000.0           21701    ...      \n",
       "4   -73.9743         610  2795.0           13511    ...      \n",
       "\n",
       "   manager_id_mean_med  manager_id_mean_high  desc_wordcount  pricePerBed  \\\n",
       "0             0.403788          5.947230e-02             553       2400.0   \n",
       "1             0.650389          5.004210e-02             827       1900.0   \n",
       "2             0.194666          4.161561e-02             799       1747.5   \n",
       "3             0.248812          6.214142e-31             588       1000.0   \n",
       "4             0.140153          2.440795e-18             344         -1.0   \n",
       "\n",
       "   pricePerBath  pricePerRoom  bedPerBath  bedBathDiff  bedBathSum  bedsPerc  \n",
       "0        2400.0   1200.000000      2400.0          0.0         2.0  0.500000  \n",
       "1        3800.0   1266.666667      3800.0          1.0         3.0  0.666667  \n",
       "2        3495.0   1165.000000      3495.0          1.0         3.0  0.666667  \n",
       "3        2000.0    666.666667      2000.0          1.5         4.5  0.666667  \n",
       "4        2795.0   2795.000000      2795.0         -1.0         1.0  0.000000  \n",
       "\n",
       "[5 rows x 285 columns]"
      ]
     },
     "execution_count": 3,
     "metadata": {},
     "output_type": "execute_result"
    }
   ],
   "source": [
    "train_df.head()"
   ]
  },
  {
   "cell_type": "code",
   "execution_count": 4,
   "metadata": {
    "collapsed": true
   },
   "outputs": [],
   "source": [
    "train_y = np.ravel(pd.read_csv('../input/' + 'labels_BrandenMurray.csv'))"
   ]
  },
  {
   "cell_type": "code",
   "execution_count": 91,
   "metadata": {
    "collapsed": true
   },
   "outputs": [],
   "source": [
    "train_y_df = pd.DataFrame(train_y, columns = ['interest_level'])\n",
    "features_to_use = ['latitude','longitude','listing_id']\n",
    "# features_to_use.append('manager_id')\n",
    "tmp_train = pd.concat([train_df[features_to_use],train_y_df], axis = 1)\n",
    "tmp_test = test_df[features_to_use]"
   ]
  },
  {
   "cell_type": "code",
   "execution_count": 92,
   "metadata": {
    "collapsed": false
   },
   "outputs": [
    {
     "data": {
      "text/html": [
       "<div>\n",
       "<table border=\"1\" class=\"dataframe\">\n",
       "  <thead>\n",
       "    <tr style=\"text-align: right;\">\n",
       "      <th></th>\n",
       "      <th>latitude</th>\n",
       "      <th>longitude</th>\n",
       "      <th>listing_id</th>\n",
       "    </tr>\n",
       "  </thead>\n",
       "  <tbody>\n",
       "    <tr>\n",
       "      <th>0</th>\n",
       "      <td>40.7185</td>\n",
       "      <td>-73.9865</td>\n",
       "      <td>7142618</td>\n",
       "    </tr>\n",
       "    <tr>\n",
       "      <th>1</th>\n",
       "      <td>40.7278</td>\n",
       "      <td>-74.0000</td>\n",
       "      <td>7210040</td>\n",
       "    </tr>\n",
       "    <tr>\n",
       "      <th>2</th>\n",
       "      <td>40.7260</td>\n",
       "      <td>-74.0026</td>\n",
       "      <td>7174566</td>\n",
       "    </tr>\n",
       "    <tr>\n",
       "      <th>3</th>\n",
       "      <td>40.7321</td>\n",
       "      <td>-74.0028</td>\n",
       "      <td>7191391</td>\n",
       "    </tr>\n",
       "    <tr>\n",
       "      <th>4</th>\n",
       "      <td>40.7054</td>\n",
       "      <td>-74.0095</td>\n",
       "      <td>7171695</td>\n",
       "    </tr>\n",
       "  </tbody>\n",
       "</table>\n",
       "</div>"
      ],
      "text/plain": [
       "   latitude  longitude  listing_id\n",
       "0   40.7185   -73.9865     7142618\n",
       "1   40.7278   -74.0000     7210040\n",
       "2   40.7260   -74.0026     7174566\n",
       "3   40.7321   -74.0028     7191391\n",
       "4   40.7054   -74.0095     7171695"
      ]
     },
     "execution_count": 92,
     "metadata": {},
     "output_type": "execute_result"
    }
   ],
   "source": [
    "tmp_test.head()"
   ]
  },
  {
   "cell_type": "code",
   "execution_count": 93,
   "metadata": {
    "collapsed": false
   },
   "outputs": [
    {
     "data": {
      "text/html": [
       "<div>\n",
       "<table border=\"1\" class=\"dataframe\">\n",
       "  <thead>\n",
       "    <tr style=\"text-align: right;\">\n",
       "      <th></th>\n",
       "      <th>latitude</th>\n",
       "      <th>longitude</th>\n",
       "      <th>listing_id</th>\n",
       "      <th>interest_level</th>\n",
       "    </tr>\n",
       "  </thead>\n",
       "  <tbody>\n",
       "    <tr>\n",
       "      <th>0</th>\n",
       "      <td>40.7108</td>\n",
       "      <td>-73.9539</td>\n",
       "      <td>7170325</td>\n",
       "      <td>1</td>\n",
       "    </tr>\n",
       "    <tr>\n",
       "      <th>1</th>\n",
       "      <td>40.7513</td>\n",
       "      <td>-73.9722</td>\n",
       "      <td>7092344</td>\n",
       "      <td>0</td>\n",
       "    </tr>\n",
       "    <tr>\n",
       "      <th>2</th>\n",
       "      <td>40.7575</td>\n",
       "      <td>-73.9625</td>\n",
       "      <td>7158677</td>\n",
       "      <td>1</td>\n",
       "    </tr>\n",
       "    <tr>\n",
       "      <th>3</th>\n",
       "      <td>40.7145</td>\n",
       "      <td>-73.9425</td>\n",
       "      <td>7211212</td>\n",
       "      <td>1</td>\n",
       "    </tr>\n",
       "    <tr>\n",
       "      <th>4</th>\n",
       "      <td>40.7439</td>\n",
       "      <td>-73.9743</td>\n",
       "      <td>7225292</td>\n",
       "      <td>0</td>\n",
       "    </tr>\n",
       "  </tbody>\n",
       "</table>\n",
       "</div>"
      ],
      "text/plain": [
       "   latitude  longitude  listing_id  interest_level\n",
       "0   40.7108   -73.9539     7170325               1\n",
       "1   40.7513   -73.9722     7092344               0\n",
       "2   40.7575   -73.9625     7158677               1\n",
       "3   40.7145   -73.9425     7211212               1\n",
       "4   40.7439   -73.9743     7225292               0"
      ]
     },
     "execution_count": 93,
     "metadata": {},
     "output_type": "execute_result"
    }
   ],
   "source": [
    "tmp_train.head()"
   ]
  },
  {
   "cell_type": "code",
   "execution_count": 111,
   "metadata": {
    "collapsed": true
   },
   "outputs": [],
   "source": [
    "X_train, X_val, y_train, y_val = train_test_split(tmp_train, train_y, train_size=.80, random_state=1234)"
   ]
  },
  {
   "cell_type": "code",
   "execution_count": 112,
   "metadata": {
    "collapsed": false
   },
   "outputs": [
    {
     "data": {
      "text/html": [
       "<div>\n",
       "<table border=\"1\" class=\"dataframe\">\n",
       "  <thead>\n",
       "    <tr style=\"text-align: right;\">\n",
       "      <th></th>\n",
       "      <th>latitude</th>\n",
       "      <th>longitude</th>\n",
       "      <th>listing_id</th>\n",
       "      <th>interest_level</th>\n",
       "    </tr>\n",
       "  </thead>\n",
       "  <tbody>\n",
       "    <tr>\n",
       "      <th>40116</th>\n",
       "      <td>40.7373</td>\n",
       "      <td>-74.0042</td>\n",
       "      <td>6848609</td>\n",
       "      <td>0</td>\n",
       "    </tr>\n",
       "    <tr>\n",
       "      <th>774</th>\n",
       "      <td>40.7700</td>\n",
       "      <td>-73.9491</td>\n",
       "      <td>7090131</td>\n",
       "      <td>0</td>\n",
       "    </tr>\n",
       "    <tr>\n",
       "      <th>1599</th>\n",
       "      <td>40.8573</td>\n",
       "      <td>-73.9353</td>\n",
       "      <td>7088808</td>\n",
       "      <td>2</td>\n",
       "    </tr>\n",
       "    <tr>\n",
       "      <th>44468</th>\n",
       "      <td>40.7222</td>\n",
       "      <td>-74.0119</td>\n",
       "      <td>6862626</td>\n",
       "      <td>0</td>\n",
       "    </tr>\n",
       "    <tr>\n",
       "      <th>42023</th>\n",
       "      <td>40.7656</td>\n",
       "      <td>-73.9886</td>\n",
       "      <td>6852462</td>\n",
       "      <td>1</td>\n",
       "    </tr>\n",
       "  </tbody>\n",
       "</table>\n",
       "</div>"
      ],
      "text/plain": [
       "       latitude  longitude  listing_id  interest_level\n",
       "40116   40.7373   -74.0042     6848609               0\n",
       "774     40.7700   -73.9491     7090131               0\n",
       "1599    40.8573   -73.9353     7088808               2\n",
       "44468   40.7222   -74.0119     6862626               0\n",
       "42023   40.7656   -73.9886     6852462               1"
      ]
     },
     "execution_count": 112,
     "metadata": {},
     "output_type": "execute_result"
    }
   ],
   "source": [
    "X_train.head()"
   ]
  },
  {
   "cell_type": "code",
   "execution_count": 113,
   "metadata": {
    "collapsed": false
   },
   "outputs": [
    {
     "data": {
      "text/html": [
       "<div>\n",
       "<table border=\"1\" class=\"dataframe\">\n",
       "  <thead>\n",
       "    <tr style=\"text-align: right;\">\n",
       "      <th></th>\n",
       "      <th>latitude</th>\n",
       "      <th>longitude</th>\n",
       "      <th>listing_id</th>\n",
       "      <th>interest_level</th>\n",
       "    </tr>\n",
       "  </thead>\n",
       "  <tbody>\n",
       "    <tr>\n",
       "      <th>25162</th>\n",
       "      <td>40.7928</td>\n",
       "      <td>-73.9659</td>\n",
       "      <td>6966955</td>\n",
       "      <td>1</td>\n",
       "    </tr>\n",
       "    <tr>\n",
       "      <th>14090</th>\n",
       "      <td>40.7634</td>\n",
       "      <td>-73.9596</td>\n",
       "      <td>7118331</td>\n",
       "      <td>0</td>\n",
       "    </tr>\n",
       "    <tr>\n",
       "      <th>38034</th>\n",
       "      <td>40.8644</td>\n",
       "      <td>-73.9201</td>\n",
       "      <td>6876692</td>\n",
       "      <td>0</td>\n",
       "    </tr>\n",
       "    <tr>\n",
       "      <th>5845</th>\n",
       "      <td>40.7666</td>\n",
       "      <td>-73.9874</td>\n",
       "      <td>7165769</td>\n",
       "      <td>0</td>\n",
       "    </tr>\n",
       "    <tr>\n",
       "      <th>7129</th>\n",
       "      <td>40.6567</td>\n",
       "      <td>-74.0043</td>\n",
       "      <td>7172375</td>\n",
       "      <td>0</td>\n",
       "    </tr>\n",
       "  </tbody>\n",
       "</table>\n",
       "</div>"
      ],
      "text/plain": [
       "       latitude  longitude  listing_id  interest_level\n",
       "25162   40.7928   -73.9659     6966955               1\n",
       "14090   40.7634   -73.9596     7118331               0\n",
       "38034   40.8644   -73.9201     6876692               0\n",
       "5845    40.7666   -73.9874     7165769               0\n",
       "7129    40.6567   -74.0043     7172375               0"
      ]
     },
     "execution_count": 113,
     "metadata": {},
     "output_type": "execute_result"
    }
   ],
   "source": [
    "X_val.head()"
   ]
  },
  {
   "cell_type": "code",
   "execution_count": 171,
   "metadata": {
    "collapsed": false
   },
   "outputs": [],
   "source": [
    "from sklearn.metrics.pairwise import euclidean_distances\n",
    "\n",
    "def dis_level(train, val, test):\n",
    "    index_low = train[train['interest_level'] == 0].index\n",
    "    index_medium = train[train['interest_level'] == 1].index\n",
    "    index_high = train[train['interest_level'] == 2].index\n",
    "\n",
    "    dis_low = ['dis_low_1','dis_low_2','dis_low_4','dis_low_8',\n",
    "               'dis_low_16','dis_low_32','dis_low_64','dis_low_128']\n",
    "    for i in range(len(dis_low)):\n",
    "        train.loc[:,dis_low[i]] = np.nan\n",
    "        val.loc[:,dis_low[i]] = np.nan\n",
    "        test.loc[:,dis_low[i]] = np.nan\n",
    "\n",
    "\n",
    "    dis_medium = ['dis_medium_1','dis_medium_2','dis_medium_4','dis_medium_8',\n",
    "                  'dis_medium_16','dis_medium_32','dis_medium_64','dis_medium_128']\n",
    "    for i in range(len(dis_medium)):\n",
    "        train.loc[:,dis_medium[i]] = np.nan\n",
    "        val.loc[:,dis_medium[i]] = np.nan\n",
    "        test.loc[:,dis_medium[i]] = np.nan\n",
    "\n",
    "    dis_high = ['dis_high_1','dis_high_2','dis_high_4','dis_high_8',\n",
    "                'dis_high_16','dis_high_32','dis_high_64','dis_high_128']\n",
    "    for i in range(len(dis_high)):\n",
    "        train.loc[:,dis_high[i]] = np.nan\n",
    "        val.loc[:,dis_high[i]] = np.nan\n",
    "        test.loc[:,dis_high[i]] = np.nan\n",
    "\n",
    "    euc_low = train.loc[index_low,['latitude','longitude']]*100\n",
    "    euc_medium = train.loc[index_medium,['latitude','longitude']]*100\n",
    "    euc_high = train.loc[index_high,['latitude','longitude']]*100\n",
    "\n",
    "    temp_train = train.loc[:,['latitude','longitude']]*100\n",
    "    temp_val = val.loc[:,['latitude','longitude']]*100\n",
    "    temp_test = test.loc[:,['latitude','longitude']]*100    \n",
    "    \n",
    "    # dis_level for train\n",
    "    kf = KFold(n_splits=200)\n",
    "    for _, index in kf.split(temp_train):\n",
    "        # dist to low\n",
    "        tmp_dist = euclidean_distances(temp_train.iloc[index],euc_low)\n",
    "        tmp_dist = pd.DataFrame(np.sort(tmp_dist,axis = 1))\n",
    "        for dis_n in range(len(dis_low)):\n",
    "            train.iloc[index, 4 + dis_n] = np.array(tmp_dist.loc[:,:np.power(2,dis_n)].sum(axis = 1))\n",
    "    \n",
    "        # dist to medium\n",
    "        tmp_dist = euclidean_distances(temp_train.iloc[index],euc_medium)\n",
    "        tmp_dist = pd.DataFrame(np.sort(tmp_dist,axis = 1))\n",
    "        for dis_n in range(len(dis_medium)):\n",
    "            train.iloc[index,12 + dis_n] = np.array(tmp_dist.loc[:,:np.power(2,dis_n)].sum(axis = 1))\n",
    "            \n",
    "#         # dist to high\n",
    "        tmp_dist = euclidean_distances(temp_train.iloc[index],euc_high)\n",
    "        tmp_dist = pd.DataFrame(np.sort(tmp_dist,axis = 1))\n",
    "        for dis_n in range(len(dis_high)):\n",
    "            train.iloc[index,20 + dis_n] = np.array(tmp_dist.loc[:,:np.power(2,dis_n)].sum(axis = 1))\n",
    "\n",
    "    \n",
    "    # dis_level for test\n",
    "    kf = KFold(n_splits=200)\n",
    "    for _, index in kf.split(temp_test):\n",
    "        # dist to low\n",
    "        tmp_dist = euclidean_distances(temp_test.iloc[index],euc_low)\n",
    "        tmp_dist = pd.DataFrame(np.sort(tmp_dist,axis = 1))\n",
    "        for dis_n in range(len(dis_low)):\n",
    "            test.iloc[index, 4 + dis_n] = np.array(tmp_dist.loc[:,:np.power(2,dis_n)].sum(axis = 1))\n",
    "    \n",
    "        # dist to medium\n",
    "        tmp_dist = euclidean_distances(temp_test.iloc[index],euc_medium)\n",
    "        tmp_dist = pd.DataFrame(np.sort(tmp_dist,axis = 1))\n",
    "        for dis_n in range(len(dis_medium)):\n",
    "            test.iloc[index,12 + dis_n] = np.array(tmp_dist.loc[:,:np.power(2,dis_n)].sum(axis = 1))\n",
    "\n",
    "#         # dist to high\n",
    "        tmp_dist = euclidean_distances(temp_test.iloc[index],euc_high)\n",
    "        tmp_dist = pd.DataFrame(np.sort(tmp_dist,axis = 1))\n",
    "        for dis_n in range(len(dis_high)):\n",
    "            test.iloc[index,20 + dis_n] = np.array(tmp_dist.loc[:,:np.power(2,dis_n)].sum(axis = 1))\n",
    "\n",
    "\n",
    "    # dis_level for val\n",
    "    kf = KFold(n_splits=200)\n",
    "    for _, index in kf.split(temp_val):\n",
    "        # dist to low\n",
    "        tmp_dist = euclidean_distances(temp_val.iloc[index],euc_low)\n",
    "        tmp_dist = pd.DataFrame(np.sort(tmp_dist,axis = 1))\n",
    "        for dis_n in range(len(dis_low)):\n",
    "            val.iloc[index, 4 + dis_n] = np.array(tmp_dist.loc[:,:np.power(2,dis_n)].sum(axis = 1))\n",
    "    \n",
    "        # dist to medium\n",
    "        tmp_dist = euclidean_distances(temp_val.iloc[index],euc_medium)\n",
    "        tmp_dist = pd.DataFrame(np.sort(tmp_dist,axis = 1))\n",
    "        for dis_n in range(len(dis_medium)):\n",
    "            val.iloc[index,12 + dis_n] = np.array(tmp_dist.loc[:,:np.power(2,dis_n)].sum(axis = 1))\n",
    "\n",
    "#         # dist to high\n",
    "        tmp_dist = euclidean_distances(temp_val.iloc[index],euc_high)\n",
    "        tmp_dist = pd.DataFrame(np.sort(tmp_dist,axis = 1))\n",
    "        for dis_n in range(len(dis_high)):\n",
    "            val.iloc[index,20 + dis_n] = np.array(tmp_dist.loc[:,:np.power(2,dis_n)].sum(axis = 1))\n",
    "\n",
    "    return train, val, test        "
   ]
  },
  {
   "cell_type": "code",
   "execution_count": 172,
   "metadata": {
    "collapsed": false,
    "scrolled": true
   },
   "outputs": [
    {
     "ename": "KeyboardInterrupt",
     "evalue": "",
     "output_type": "error",
     "traceback": [
      "\u001b[0;31m---------------------------------------------------------------------------\u001b[0m",
      "\u001b[0;31mKeyboardInterrupt\u001b[0m                         Traceback (most recent call last)",
      "\u001b[0;32m<ipython-input-172-6276889c6033>\u001b[0m in \u001b[0;36m<module>\u001b[0;34m()\u001b[0m\n\u001b[0;32m----> 1\u001b[0;31m \u001b[0mX_train_dis\u001b[0m\u001b[0;34m,\u001b[0m \u001b[0mX_val_dis\u001b[0m\u001b[0;34m,\u001b[0m \u001b[0mX_test_dis\u001b[0m\u001b[0;34m,\u001b[0m \u001b[0mtmp_dist_out\u001b[0m\u001b[0;34m,\u001b[0m \u001b[0mtmp_index\u001b[0m \u001b[0;34m=\u001b[0m \u001b[0mdis_level\u001b[0m\u001b[0;34m(\u001b[0m\u001b[0mX_train\u001b[0m\u001b[0;34m,\u001b[0m\u001b[0mX_val\u001b[0m\u001b[0;34m,\u001b[0m\u001b[0mtmp_test\u001b[0m\u001b[0;34m)\u001b[0m\u001b[0;34m\u001b[0m\u001b[0m\n\u001b[0m",
      "\u001b[0;32m<ipython-input-171-232720a75e20>\u001b[0m in \u001b[0;36mdis_level\u001b[0;34m(train, val, test)\u001b[0m\n\u001b[1;32m     41\u001b[0m         \u001b[0;31m# dist to low\u001b[0m\u001b[0;34m\u001b[0m\u001b[0;34m\u001b[0m\u001b[0m\n\u001b[1;32m     42\u001b[0m         \u001b[0mtmp_dist\u001b[0m \u001b[0;34m=\u001b[0m \u001b[0meuclidean_distances\u001b[0m\u001b[0;34m(\u001b[0m\u001b[0mtemp_train\u001b[0m\u001b[0;34m.\u001b[0m\u001b[0miloc\u001b[0m\u001b[0;34m[\u001b[0m\u001b[0mindex\u001b[0m\u001b[0;34m]\u001b[0m\u001b[0;34m,\u001b[0m\u001b[0meuc_low\u001b[0m\u001b[0;34m)\u001b[0m\u001b[0;34m\u001b[0m\u001b[0m\n\u001b[0;32m---> 43\u001b[0;31m         \u001b[0mtmp_dist\u001b[0m \u001b[0;34m=\u001b[0m \u001b[0mpd\u001b[0m\u001b[0;34m.\u001b[0m\u001b[0mDataFrame\u001b[0m\u001b[0;34m(\u001b[0m\u001b[0mnp\u001b[0m\u001b[0;34m.\u001b[0m\u001b[0msort\u001b[0m\u001b[0;34m(\u001b[0m\u001b[0mtmp_dist\u001b[0m\u001b[0;34m,\u001b[0m\u001b[0maxis\u001b[0m \u001b[0;34m=\u001b[0m \u001b[0;36m1\u001b[0m\u001b[0;34m)\u001b[0m\u001b[0;34m)\u001b[0m\u001b[0;34m\u001b[0m\u001b[0m\n\u001b[0m\u001b[1;32m     44\u001b[0m         \u001b[0;32mfor\u001b[0m \u001b[0mdis_n\u001b[0m \u001b[0;32min\u001b[0m \u001b[0mrange\u001b[0m\u001b[0;34m(\u001b[0m\u001b[0mlen\u001b[0m\u001b[0;34m(\u001b[0m\u001b[0mdis_low\u001b[0m\u001b[0;34m)\u001b[0m\u001b[0;34m)\u001b[0m\u001b[0;34m:\u001b[0m\u001b[0;34m\u001b[0m\u001b[0m\n\u001b[1;32m     45\u001b[0m             \u001b[0mtrain\u001b[0m\u001b[0;34m.\u001b[0m\u001b[0miloc\u001b[0m\u001b[0;34m[\u001b[0m\u001b[0mindex\u001b[0m\u001b[0;34m,\u001b[0m \u001b[0;36m4\u001b[0m \u001b[0;34m+\u001b[0m \u001b[0mdis_n\u001b[0m\u001b[0;34m]\u001b[0m \u001b[0;34m=\u001b[0m \u001b[0mnp\u001b[0m\u001b[0;34m.\u001b[0m\u001b[0marray\u001b[0m\u001b[0;34m(\u001b[0m\u001b[0mtmp_dist\u001b[0m\u001b[0;34m.\u001b[0m\u001b[0mloc\u001b[0m\u001b[0;34m[\u001b[0m\u001b[0;34m:\u001b[0m\u001b[0;34m,\u001b[0m\u001b[0;34m:\u001b[0m\u001b[0mnp\u001b[0m\u001b[0;34m.\u001b[0m\u001b[0mpower\u001b[0m\u001b[0;34m(\u001b[0m\u001b[0;36m2\u001b[0m\u001b[0;34m,\u001b[0m\u001b[0mdis_n\u001b[0m\u001b[0;34m)\u001b[0m\u001b[0;34m]\u001b[0m\u001b[0;34m.\u001b[0m\u001b[0msum\u001b[0m\u001b[0;34m(\u001b[0m\u001b[0maxis\u001b[0m \u001b[0;34m=\u001b[0m \u001b[0;36m1\u001b[0m\u001b[0;34m)\u001b[0m\u001b[0;34m)\u001b[0m\u001b[0;34m\u001b[0m\u001b[0m\n",
      "\u001b[0;32m/home/xujin/AI/anaconda2/lib/python2.7/site-packages/numpy/core/fromnumeric.pyc\u001b[0m in \u001b[0;36msort\u001b[0;34m(a, axis, kind, order)\u001b[0m\n\u001b[1;32m    820\u001b[0m     \u001b[0;32melse\u001b[0m\u001b[0;34m:\u001b[0m\u001b[0;34m\u001b[0m\u001b[0m\n\u001b[1;32m    821\u001b[0m         \u001b[0ma\u001b[0m \u001b[0;34m=\u001b[0m \u001b[0masanyarray\u001b[0m\u001b[0;34m(\u001b[0m\u001b[0ma\u001b[0m\u001b[0;34m)\u001b[0m\u001b[0;34m.\u001b[0m\u001b[0mcopy\u001b[0m\u001b[0;34m(\u001b[0m\u001b[0morder\u001b[0m\u001b[0;34m=\u001b[0m\u001b[0;34m\"K\"\u001b[0m\u001b[0;34m)\u001b[0m\u001b[0;34m\u001b[0m\u001b[0m\n\u001b[0;32m--> 822\u001b[0;31m     \u001b[0ma\u001b[0m\u001b[0;34m.\u001b[0m\u001b[0msort\u001b[0m\u001b[0;34m(\u001b[0m\u001b[0maxis\u001b[0m\u001b[0;34m=\u001b[0m\u001b[0maxis\u001b[0m\u001b[0;34m,\u001b[0m \u001b[0mkind\u001b[0m\u001b[0;34m=\u001b[0m\u001b[0mkind\u001b[0m\u001b[0;34m,\u001b[0m \u001b[0morder\u001b[0m\u001b[0;34m=\u001b[0m\u001b[0morder\u001b[0m\u001b[0;34m)\u001b[0m\u001b[0;34m\u001b[0m\u001b[0m\n\u001b[0m\u001b[1;32m    823\u001b[0m     \u001b[0;32mreturn\u001b[0m \u001b[0ma\u001b[0m\u001b[0;34m\u001b[0m\u001b[0m\n\u001b[1;32m    824\u001b[0m \u001b[0;34m\u001b[0m\u001b[0m\n",
      "\u001b[0;31mKeyboardInterrupt\u001b[0m: "
     ]
    }
   ],
   "source": [
    "X_train_dis, X_val_dis, X_test_dis, tmp_dist_out, tmp_index = dis_level(X_train,X_val,tmp_test)"
   ]
  },
  {
   "cell_type": "code",
   "execution_count": 173,
   "metadata": {
    "collapsed": false
   },
   "outputs": [
    {
     "data": {
      "text/plain": [
       "(39481, 28)"
      ]
     },
     "execution_count": 173,
     "metadata": {},
     "output_type": "execute_result"
    }
   ],
   "source": [
    "X_train.shape"
   ]
  },
  {
   "cell_type": "code",
   "execution_count": 174,
   "metadata": {
    "collapsed": false
   },
   "outputs": [
    {
     "name": "stdout",
     "output_type": "stream",
     "text": [
      "       dis_medium_1  dis_medium_2  dis_medium_4  dis_medium_8  dis_medium_16  \\\n",
      "count  22736.000000  22736.000000  22736.000000  22736.000000   22736.000000   \n",
      "mean       2.915196      5.713286     11.370000     22.861140      46.360739   \n",
      "std      148.098660    295.878445    591.509245   1182.941466    2366.344534   \n",
      "min        0.000000      0.000000      0.000000      0.000000       0.000000   \n",
      "25%        0.000000      0.000000      0.000000      0.079995       0.593927   \n",
      "50%        0.000000      0.028284      0.124073      0.412196       1.253157   \n",
      "75%        0.070711      0.144222      0.344596      0.900135       2.526779   \n",
      "max     8418.916360  16837.869097  33675.774572  67359.200202  134755.808005   \n",
      "\n",
      "       dis_medium_32  dis_medium_64  dis_medium_128    dis_high_1  \\\n",
      "count   22736.000000   22736.000000    2.273600e+04  22736.000000   \n",
      "mean       94.913310     196.740040    4.135935e+02      5.644383   \n",
      "std      4734.440693    9471.773153    1.894871e+04    295.741031   \n",
      "min         0.000000       0.060001    6.922881e+00      0.000000   \n",
      "25%         2.331504       7.769557    2.397799e+01      0.014142   \n",
      "50%         3.871717      12.115142    3.660113e+01      0.100000   \n",
      "75%         7.152563      20.858165    5.938240e+01      0.214086   \n",
      "max    269621.928022  539421.189235    1.079154e+06  16843.609896   \n",
      "\n",
      "         dis_high_2    dis_high_4    dis_high_8    dis_high_16    dis_high_32  \\\n",
      "count  22736.000000  22736.000000  22736.000000   22736.000000   22736.000000   \n",
      "mean       8.530676     14.393093     26.415730      51.313151     103.701718   \n",
      "std      443.632005    739.450078   1331.374228    2515.415132    4883.733415   \n",
      "min        0.000000      0.000000      0.000000       0.000000       0.462492   \n",
      "25%        0.059999      0.200029      0.622517       1.929915       5.689194   \n",
      "50%        0.192221      0.435326      1.095075       2.915518       8.482037   \n",
      "75%        0.394832      0.868016      2.081737       5.435853      14.609780   \n",
      "max    25266.369974  42113.753680  75825.022213  143259.019563  278141.856435   \n",
      "\n",
      "         dis_high_64  dis_high_128  \n",
      "count   22736.000000  2.273600e+04  \n",
      "mean      216.136385  4.652976e+02  \n",
      "std      9621.411800  1.909970e+04  \n",
      "min         5.481047  2.498308e+01  \n",
      "25%        17.215223  5.078946e+01  \n",
      "50%        23.947634  7.078158e+01  \n",
      "75%        40.613304  1.278916e+02  \n",
      "max    547971.945293  1.087812e+06  \n"
     ]
    }
   ],
   "source": [
    "print X_train_dis.iloc[:,12:].describe()"
   ]
  },
  {
   "cell_type": "code",
   "execution_count": null,
   "metadata": {
    "collapsed": true
   },
   "outputs": [],
   "source": []
  }
 ],
 "metadata": {
  "anaconda-cloud": {},
  "kernelspec": {
   "display_name": "Python [conda root]",
   "language": "python",
   "name": "conda-root-py"
  },
  "language_info": {
   "codemirror_mode": {
    "name": "ipython",
    "version": 2
   },
   "file_extension": ".py",
   "mimetype": "text/x-python",
   "name": "python",
   "nbconvert_exporter": "python",
   "pygments_lexer": "ipython2",
   "version": "2.7.12"
  }
 },
 "nbformat": 4,
 "nbformat_minor": 1
}
