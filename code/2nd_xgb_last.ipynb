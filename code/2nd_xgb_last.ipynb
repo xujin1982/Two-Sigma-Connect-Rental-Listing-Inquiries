{
 "cells": [
  {
   "cell_type": "code",
   "execution_count": 1,
   "metadata": {
    "collapsed": true
   },
   "outputs": [],
   "source": [
    "import time\n",
    "import numpy as np\n",
    "import pandas as pd\n",
    "\n",
    "# from scipy import sparse\n",
    "from scipy.stats.mstats import gmean\n",
    "from datetime import datetime\n",
    "# from sklearn import preprocessing\n",
    "# from scipy.stats import skew, boxcox,boxcox_normmax\n",
    "from sklearn.model_selection import train_test_split, StratifiedKFold, KFold\n",
    "# from sklearn.feature_extraction.text import TfidfVectorizer, CountVectorizer\n",
    "# from bayes_opt import BayesianOptimization\n",
    "from sklearn.metrics import log_loss\n",
    "\n",
    "import matplotlib.pyplot as plt\n",
    "import seaborn as sns\n",
    "%matplotlib inline\n",
    "\n",
    "import xgboost as xgb\n",
    "\n",
    "seed = 1234"
   ]
  },
  {
   "cell_type": "markdown",
   "metadata": {},
   "source": [
    "# Load Data"
   ]
  },
  {
   "cell_type": "code",
   "execution_count": 2,
   "metadata": {
    "collapsed": false
   },
   "outputs": [],
   "source": [
    "train_y = np.ravel(pd.read_csv('../input/' + 'labels_BrandenMurray.csv'))\n",
    "\n",
    "names = ['low_0','medium_0','high_0',\n",
    "        'low_1','medium_1','high_1',\n",
    "        'low_2','medium_2','high_2',\n",
    "        'low_3','medium_3','high_3',\n",
    "        'low_4','medium_4','high_4',\n",
    "        'low_5','medium_5','high_5',\n",
    "        'low_6','medium_6','high_6',\n",
    "        'low_7','medium_7','high_7',\n",
    "        'low_8','medium_8','high_8',\n",
    "        'low_9','medium_9','high_9']\n",
    "\n",
    "data_path = \"../2ndlast/\"\n",
    "total_col = 0"
   ]
  },
  {
   "cell_type": "code",
   "execution_count": 3,
   "metadata": {
    "collapsed": false
   },
   "outputs": [
    {
     "name": "stdout",
     "output_type": "stream",
     "text": [
      "   rfc_low_0  rfc_medium_0  rfc_high_0\n",
      "0   0.355361      0.544070    0.100569\n",
      "1   0.508303      0.446720    0.044978\n",
      "2   0.603091      0.349880    0.047029\n",
      "3   0.616221      0.328639    0.055140\n",
      "4   0.947230      0.049863    0.002907\n",
      "   rfc_low_0  rfc_medium_0  rfc_high_0\n",
      "0   0.288217      0.532268    0.179515\n",
      "1   0.970891      0.025801    0.003308\n",
      "2   0.908912      0.078535    0.012553\n",
      "3   0.400539      0.476918    0.122542\n",
      "4   0.700470      0.269945    0.029586\n"
     ]
    }
   ],
   "source": [
    "# RFC 1st level \n",
    "file_train      = 'train_blend_RFC_entropy_last_2017-04-21-11-06' + '.csv'\n",
    "file_test_mean  = 'test_blend_RFC_entropy_mean_last_2017-04-21-11-06' + '.csv'\n",
    "\n",
    "train_rfc = pd.read_csv(data_path + file_train,      header = None)\n",
    "test_rfc  = pd.read_csv(data_path + file_test_mean,  header = None)\n",
    "\n",
    "\n",
    "n_column = train_rfc.shape[1]\n",
    "total_col += n_column\n",
    "\n",
    "train_rfc.columns = ['rfc_' + x for x in names[:n_column]]\n",
    "test_rfc.columns  = ['rfc_' + x for x in names[:n_column]]\n",
    "\n",
    "\n",
    "print train_rfc.iloc[:5,:3]\n",
    "\n",
    "print test_rfc.iloc[:5,:3]"
   ]
  },
  {
   "cell_type": "code",
   "execution_count": 4,
   "metadata": {
    "collapsed": false
   },
   "outputs": [
    {
     "name": "stdout",
     "output_type": "stream",
     "text": [
      "   LR_low_0  LR_medium_0  LR_high_0\n",
      "0  0.259359     0.652577   0.088065\n",
      "1  0.738646     0.234238   0.027115\n",
      "2  0.396965     0.512991   0.090045\n",
      "3  0.647052     0.312537   0.040412\n",
      "4  0.923203     0.072255   0.004543\n",
      "   LR_low_0  LR_medium_0  LR_high_0\n",
      "0  0.282172     0.549423   0.168405\n",
      "1  0.955532     0.040091   0.004377\n",
      "2  0.925692     0.065197   0.009112\n",
      "3  0.631038     0.309690   0.059272\n",
      "4  0.803117     0.187725   0.009158\n"
     ]
    }
   ],
   "source": [
    "# LR 1st level\n",
    "file_train      = 'train_blend_LR_last_2017-04-21-11-16' + '.csv'\n",
    "file_test_mean  = 'test_blend_LR_mean_last_2017-04-21-11-16' + '.csv'\n",
    "\n",
    "train_LR = pd.read_csv(data_path + file_train, header = None)\n",
    "test_LR  = pd.read_csv(data_path + file_test_mean, header = None)\n",
    "\n",
    "n_column = train_LR.shape[1]\n",
    "total_col += n_column\n",
    "\n",
    "train_LR.columns = ['LR_' + x for x in names[:n_column]]\n",
    "test_LR.columns  = ['LR_' + x for x in names[:n_column]]\n",
    "\n",
    "print train_LR.iloc[:5,:3]\n",
    "print test_LR.iloc[:5,:3]"
   ]
  },
  {
   "cell_type": "code",
   "execution_count": 5,
   "metadata": {
    "collapsed": false
   },
   "outputs": [
    {
     "name": "stdout",
     "output_type": "stream",
     "text": [
      "   ET_low_0  ET_medium_0  ET_high_0\n",
      "0  0.332903     0.538085   0.129012\n",
      "1  0.471780     0.454812   0.073408\n",
      "2  0.582223     0.383893   0.033884\n",
      "3  0.622462     0.328557   0.048981\n",
      "4  0.926402     0.064996   0.008602\n",
      "   ET_low_0  ET_medium_0  ET_high_0\n",
      "0  0.309822     0.527181   0.162997\n",
      "1  0.984336     0.014059   0.001605\n",
      "2  0.956579     0.038080   0.005341\n",
      "3  0.518490     0.384524   0.096986\n",
      "4  0.759357     0.210049   0.030594\n"
     ]
    }
   ],
   "source": [
    "# ET 1st level\n",
    "file_train      = 'train_blend_ET_entropy_last_2017-04-21-11-48' + '.csv'\n",
    "file_test_mean  = 'test_blend_ET_entropy_mean_last_2017-04-21-11-48' + '.csv'\n",
    "\n",
    "train_ET = pd.read_csv(data_path + file_train,      header = None)\n",
    "test_ET  = pd.read_csv(data_path + file_test_mean,  header = None)\n",
    "\n",
    "n_column = train_ET.shape[1]\n",
    "total_col += n_column\n",
    "\n",
    "train_ET.columns = ['ET_' + x for x in names[:n_column]]\n",
    "test_ET.columns  = ['ET_' + x for x in names[:n_column]]\n",
    "\n",
    "print train_ET.iloc[:5,:3]\n",
    "print test_ET.iloc[:5,:3]"
   ]
  },
  {
   "cell_type": "code",
   "execution_count": 6,
   "metadata": {
    "collapsed": false
   },
   "outputs": [
    {
     "name": "stdout",
     "output_type": "stream",
     "text": [
      "   KNN_uniform_low_0  KNN_uniform_medium_0  KNN_uniform_high_0\n",
      "0           0.507812              0.390625            0.101562\n",
      "1           0.531250              0.359375            0.109375\n",
      "2           0.671875              0.273438            0.054688\n",
      "3           0.609375              0.250000            0.140625\n",
      "4           0.843750              0.140625            0.015625\n",
      "   KNN_uniform_low_0  KNN_uniform_medium_0  KNN_uniform_high_0\n",
      "0           0.381250              0.457813            0.160938\n",
      "1           0.968750              0.031250            0.000000\n",
      "2           0.970313              0.029687            0.000000\n",
      "3           0.693750              0.259375            0.046875\n",
      "4           0.612500              0.321875            0.065625\n"
     ]
    }
   ],
   "source": [
    "# KNN 1st level\n",
    "file_train      = 'train_blend_KNN_uniform_last_2017-04-21-13-53' + '.csv'\n",
    "file_test_mean  = 'test_blend_KNN_uniform_mean_last_2017-04-21-13-53' + '.csv'\n",
    "\n",
    "\n",
    "train_KNN = pd.read_csv(data_path + file_train,      header = None)\n",
    "test_KNN  = pd.read_csv(data_path + file_test_mean,  header = None)\n",
    "\n",
    "\n",
    "n_column = train_KNN.shape[1]\n",
    "total_col += n_column\n",
    "\n",
    "train_KNN.columns      = ['KNN_uniform_' + x for x in names[:n_column]]\n",
    "test_KNN.columns  = ['KNN_uniform_' + x for x in names[:n_column]]\n",
    "\n",
    "print train_KNN.iloc[:5,:3]\n",
    "print test_KNN.iloc[:5,:3]"
   ]
  },
  {
   "cell_type": "code",
   "execution_count": 7,
   "metadata": {
    "collapsed": false
   },
   "outputs": [
    {
     "name": "stdout",
     "output_type": "stream",
     "text": [
      "   FM_0322_low_0  FM_0322_medium_0  FM_0322_high_0\n",
      "0       0.460187          0.436036        0.103776\n",
      "1       0.268598          0.571916        0.159486\n",
      "2       0.724799          0.239351        0.035851\n",
      "3       0.669683          0.286716        0.043600\n",
      "4       0.917878          0.073469        0.008653\n",
      "   FM_0322_low_0  FM_0322_medium_0  FM_0322_high_0\n",
      "0       0.449136          0.411890        0.138974\n",
      "1       0.971615          0.020319        0.008066\n",
      "2       0.909864          0.074040        0.016096\n",
      "3       0.661175          0.269026        0.069799\n",
      "4       0.705851          0.263069        0.031080\n"
     ]
    }
   ],
   "source": [
    "# TFFM 1st level 0322\n",
    "file_train      = 'train_blend_FM_BM_0322_2017-03-27-04-35' + '.csv'\n",
    "file_test_mean  = 'test_blend_FM_mean_BM_0322_2017-03-27-04-35' + '.csv'\n",
    "\n",
    "train_FM_0322      = pd.read_csv(data_path + file_train,      header = None)\n",
    "test_FM_mean_0322  = pd.read_csv(data_path + file_test_mean,  header = None)\n",
    "\n",
    "n_column = train_FM_0322.shape[1]\n",
    "total_col += n_column\n",
    "\n",
    "train_FM_0322.columns      = ['FM_0322_' + x for x in names[:n_column]]\n",
    "test_FM_mean_0322.columns  = ['FM_0322_' + x for x in names[:n_column]]\n",
    "\n",
    "print train_FM_0322.iloc[:5,:3]\n",
    "print test_FM_mean_0322.iloc[:5,:3]"
   ]
  },
  {
   "cell_type": "code",
   "execution_count": 8,
   "metadata": {
    "collapsed": false
   },
   "outputs": [
    {
     "name": "stdout",
     "output_type": "stream",
     "text": [
      "   MNB_low_0  MNB_medium_0  MNB_high_0\n",
      "0   0.216985      0.579031    0.203985\n",
      "1   0.560375      0.382293    0.057331\n",
      "2   0.621019      0.332482    0.046499\n",
      "3   0.312441      0.345115    0.342444\n",
      "4   0.901678      0.090035    0.008287\n",
      "   MNB_low_0  MNB_medium_0  MNB_high_0\n",
      "0   0.218456      0.591575    0.189969\n",
      "1   0.992103      0.007102    0.000795\n",
      "2   0.971220      0.025168    0.003612\n",
      "3   0.501988      0.411198    0.086813\n",
      "4   0.754496      0.213158    0.032347\n"
     ]
    }
   ],
   "source": [
    "# Multinomial Naive Bayes 1st level\n",
    "file_train      = 'train_blend_MNB_BM_MB_last_2017-04-21-14-02' + '.csv'\n",
    "file_test_mean  = 'test_blend_MNB_mean_BM_MB_last_2017-04-21-14-02' + '.csv'\n",
    "\n",
    "\n",
    "train_MNB      = pd.read_csv(data_path + file_train,      header = None)\n",
    "test_MNB_mean  = pd.read_csv(data_path + file_test_mean,  header = None)\n",
    "\n",
    "\n",
    "n_column = train_MNB.shape[1]\n",
    "total_col += n_column\n",
    "\n",
    "train_MNB.columns      = ['MNB_' + x for x in names[:n_column]]\n",
    "test_MNB_mean.columns  = ['MNB_' + x for x in names[:n_column]]\n",
    "\n",
    "print train_MNB.iloc[:5,:3]\n",
    "print test_MNB_mean.iloc[:5,:3]"
   ]
  },
  {
   "cell_type": "code",
   "execution_count": 9,
   "metadata": {
    "collapsed": false
   },
   "outputs": [
    {
     "name": "stdout",
     "output_type": "stream",
     "text": [
      "      tsne_0     tsne_1    tsne_2\n",
      "0  -8.398991  -2.415894 -3.602143\n",
      "1   0.698237   0.335786  8.884257\n",
      "2  -5.811380 -16.669975  7.145837\n",
      "3  -0.371861 -25.894747 -2.076309\n",
      "4 -15.371799   9.656209  5.813590\n",
      "      tsne_0     tsne_1     tsne_2\n",
      "0  -5.176846  -0.768422  -2.339259\n",
      "1   9.003089  13.250301  -0.707032\n",
      "2   4.188036  14.397186   4.573307\n",
      "3  10.890132 -12.660774 -13.414140\n",
      "4   6.011381   5.177731  15.669250\n"
     ]
    }
   ],
   "source": [
    "# TSNE 1st level\n",
    "\n",
    "file_train = 'X_train_tsne_BM_MB_add_desc_2017-03-18-17-14' + '.csv'\n",
    "file_test  = 'X_test_tsne_BM_MB_add_desc_2017-03-18-17-14' + '.csv'\n",
    "\n",
    "train_tsne = pd.read_csv(data_path + file_train, header = None)\n",
    "test_tsne  = pd.read_csv(data_path + file_test, header = None)\n",
    "\n",
    "\n",
    "n_column = train_tsne.shape[1]\n",
    "total_col += n_column\n",
    "\n",
    "train_tsne.columns = ['tsne_0', 'tsne_1', 'tsne_2']\n",
    "test_tsne.columns  = ['tsne_0', 'tsne_1', 'tsne_2']\n",
    "\n",
    "\n",
    "print train_tsne.iloc[:5,:3]\n",
    "print test_tsne.iloc[:5,:3]"
   ]
  },
  {
   "cell_type": "code",
   "execution_count": 10,
   "metadata": {
    "collapsed": false
   },
   "outputs": [
    {
     "name": "stdout",
     "output_type": "stream",
     "text": [
      "   tsne_0_0322  tsne_1_0322  tsne_2_0322\n",
      "0    -6.649132    13.028168     8.329733\n",
      "1     7.615566     0.067456   -14.932181\n",
      "2     8.333528     8.561174   -13.536297\n",
      "3    12.819587   -20.027314     0.661660\n",
      "4    -5.513088    -5.609218    17.130673\n",
      "   tsne_0_0322  tsne_1_0322  tsne_2_0322\n",
      "0    -5.721674     7.011411    -6.499047\n",
      "1     8.238390    -8.589710    13.771045\n",
      "2   -11.383577   -16.071395    15.083511\n",
      "3    -6.111491     6.348311   -10.222012\n",
      "4     4.426022    15.553415    11.315777\n"
     ]
    }
   ],
   "source": [
    "# TSNE 1st level 0322\n",
    "\n",
    "file_train = 'X_train_tsne_BM_0322_2017-03-26-16-33' + '.csv'\n",
    "file_test  = 'X_test_tsne_BM_0322_2017-03-26-16-33' + '.csv'\n",
    "\n",
    "train_tsne_0322 = pd.read_csv(data_path + file_train, header = None)\n",
    "test_tsne_0322  = pd.read_csv(data_path + file_test, header = None)\n",
    "\n",
    "n_column = train_tsne_0322.shape[1]\n",
    "total_col += n_column\n",
    "\n",
    "train_tsne_0322.columns = ['tsne_0_0322', 'tsne_1_0322', 'tsne_2_0322']\n",
    "test_tsne_0322.columns  = ['tsne_0_0322', 'tsne_1_0322', 'tsne_2_0322']\n",
    "\n",
    "print train_tsne_0322.iloc[:5,:3]\n",
    "print test_tsne_0322.iloc[:5,:3]"
   ]
  },
  {
   "cell_type": "code",
   "execution_count": 11,
   "metadata": {
    "collapsed": false
   },
   "outputs": [
    {
     "name": "stdout",
     "output_type": "stream",
     "text": [
      "   xgb_low_0  xgb_medium_0  xgb_high_0\n",
      "0   0.338520      0.631375    0.030105\n",
      "1   0.563156      0.390819    0.046025\n",
      "2   0.462242      0.498429    0.039328\n",
      "3   0.930174      0.067369    0.002458\n",
      "4   0.892201      0.106567    0.001232\n",
      "   xgb_low_0  xgb_medium_0  xgb_high_0\n",
      "0   0.178073      0.621011    0.200916\n",
      "1   0.978270      0.012231    0.009499\n",
      "2   0.939539      0.055440    0.005021\n",
      "3   0.151284      0.616193    0.232523\n",
      "4   0.698756      0.292996    0.008247\n"
     ]
    }
   ],
   "source": [
    "# XGB 1st level\n",
    "\n",
    "file_train     = 'train_blend_XGB_BM_2bagging_CV_MS_52571_2017-04-20-23-06' + '.csv'\n",
    "file_test_mean = 'test_blend_XGB_BM_2bagging_CV_MS_52571_2017-04-20-23-06' + '.csv'\n",
    "\n",
    "\n",
    "train_xgb      = pd.read_csv(data_path + file_train, header = None)\n",
    "test_xgb_mean  = pd.read_csv(data_path + file_test_mean, header = None)\n",
    "\n",
    "tmp_train = train_xgb*2\n",
    "tmp_test  = test_xgb_mean*2\n",
    "\n",
    "file_train     = 'train_blend_XGB_BM_20bagging_last_2017-04-21-19-08' + '.csv'\n",
    "file_test_mean = 'test_blend_XGB_BM_20bagging_last_2017-04-21-19-08' + '.csv'\n",
    "\n",
    "train_xgb      = pd.read_csv(data_path + file_train, header = None)\n",
    "test_xgb_mean  = pd.read_csv(data_path + file_test_mean, header = None)\n",
    "\n",
    "train_xgb      = (tmp_train + train_xgb*20) / 22.0\n",
    "test_xgb_mean  = (tmp_test + test_xgb_mean*20) / 22.0\n",
    "\n",
    "n_column = train_xgb.shape[1]\n",
    "total_col += n_column\n",
    "\n",
    "train_xgb.columns = ['xgb_' + x for x in names[:n_column]]\n",
    "test_xgb_mean.columns = ['xgb_' + x for x in names[:n_column]]\n",
    "\n",
    "print train_xgb.iloc[:5,:3]\n",
    "print test_xgb_mean.iloc[:5,:3]"
   ]
  },
  {
   "cell_type": "code",
   "execution_count": 12,
   "metadata": {
    "collapsed": false
   },
   "outputs": [
    {
     "name": "stdout",
     "output_type": "stream",
     "text": [
      "   xgb_30fold_low_0  xgb_30fold_medium_0  xgb_30fold_high_0\n",
      "0          0.309433             0.660416           0.030151\n",
      "1          0.565861             0.382300           0.051838\n",
      "2          0.401785             0.566253           0.031961\n",
      "3          0.931191             0.066339           0.002470\n",
      "4          0.881444             0.117002           0.001555\n",
      "   xgb_30fold_low_0  xgb_30fold_medium_0  xgb_30fold_high_0\n",
      "0          0.174706             0.640575           0.184719\n",
      "1          0.977405             0.013037           0.009558\n",
      "2          0.944000             0.051268           0.004732\n",
      "3          0.145425             0.592400           0.262175\n",
      "4          0.670348             0.322061           0.007591\n"
     ]
    }
   ],
   "source": [
    "# XGB 1st level 30fold\n",
    "\n",
    "file_train      = 'train_blend_XGB_last_30fold_2017-04-21-12-57' + '.csv'\n",
    "file_test_mean  = 'test_blend_XGB_last_30fold_2017-04-21-12-57' + '.csv'\n",
    "\n",
    "\n",
    "train_xgb_30fold      = pd.read_csv(data_path + file_train, header = None)\n",
    "test_xgb_mean_30fold  = pd.read_csv(data_path + file_test_mean, header = None)\n",
    "\n",
    "\n",
    "n_column = train_xgb_30fold.shape[1]\n",
    "total_col += n_column\n",
    "\n",
    "train_xgb_30fold.columns      = ['xgb_30fold_' + x for x in names[:n_column]]\n",
    "test_xgb_mean_30fold.columns  = ['xgb_30fold_' + x for x in names[:n_column]]\n",
    "\n",
    "print train_xgb_30fold.iloc[:5,:3]\n",
    "print test_xgb_mean_30fold.iloc[:5,:3]"
   ]
  },
  {
   "cell_type": "code",
   "execution_count": 13,
   "metadata": {
    "collapsed": false
   },
   "outputs": [
    {
     "name": "stdout",
     "output_type": "stream",
     "text": [
      "   xgb_ovr_low_0  xgb_ovr_medium_0  xgb_ovr_high_0\n",
      "0       0.313141          0.658802        0.028057\n",
      "1       0.491897          0.450891        0.057212\n",
      "2       0.486618          0.486574        0.026809\n",
      "3       0.925839          0.071295        0.002866\n",
      "4       0.863436          0.134349        0.002214\n",
      "   xgb_ovr_low_0  xgb_ovr_medium_0  xgb_ovr_high_0\n",
      "0       0.167358          0.646104        0.186538\n",
      "1       0.981203          0.010042        0.008756\n",
      "2       0.906588          0.088855        0.004558\n",
      "3       0.167107          0.602472        0.230421\n",
      "4       0.716008          0.274903        0.009089\n"
     ]
    }
   ],
   "source": [
    "# XGB one vs rest 1st level\n",
    "\n",
    "file_train      = 'train_blend_xgb_ovr_last_2017-04-21-10-09' + '.csv'\n",
    "file_test_mean  = 'test_blend_xgb_ovr_mean_last_2017-04-21-10-09' + '.csv'\n",
    "\n",
    "train_xgb_ovr      = pd.read_csv(data_path + file_train, header = None)\n",
    "test_xgb_mean_ovr  = pd.read_csv(data_path + file_test_mean, header = None)\n",
    "\n",
    "\n",
    "n_column = train_xgb_ovr.shape[1]\n",
    "total_col += n_column\n",
    "\n",
    "train_xgb_ovr.columns      = ['xgb_ovr_' + x for x in names[:n_column]]\n",
    "test_xgb_mean_ovr.columns  = ['xgb_ovr_' + x for x in names[:n_column]]\n",
    "\n",
    "sum_train = np.sum(train_xgb_ovr,axis=1)\n",
    "sum_test  = np.sum(test_xgb_mean_ovr,axis=1)\n",
    "\n",
    "for col in train_xgb_ovr.columns.values:\n",
    "    train_xgb_ovr[col] = train_xgb_ovr[col] / sum_train\n",
    "    test_xgb_mean_ovr[col] = test_xgb_mean_ovr[col] / sum_test\n",
    "\n",
    "\n",
    "print train_xgb_ovr.iloc[:5,:3]\n",
    "print test_xgb_mean_ovr.iloc[:5,:3]"
   ]
  },
  {
   "cell_type": "code",
   "execution_count": 14,
   "metadata": {
    "collapsed": false
   },
   "outputs": [
    {
     "name": "stdout",
     "output_type": "stream",
     "text": [
      "   lgb_10bag_low_0  lgb_10bag_medium_0  lgb_10bag_high_0\n",
      "0         0.317617            0.650112          0.032271\n",
      "1         0.597390            0.386899          0.015711\n",
      "2         0.450143            0.517132          0.032726\n",
      "3         0.898037            0.100391          0.001572\n",
      "4         0.880435            0.118283          0.001282\n",
      "   lgb_10bag_low_0  lgb_10bag_medium_0  lgb_10bag_high_0\n",
      "0         0.186506            0.567313          0.246180\n",
      "1         0.964578            0.025110          0.010312\n",
      "2         0.913688            0.080543          0.005769\n",
      "3         0.114846            0.657136          0.228019\n",
      "4         0.650263            0.344835          0.004902\n"
     ]
    }
   ],
   "source": [
    "# LightGBM 1st level\n",
    "\n",
    "file_train      = 'train_blend_LightGBM_last_10bagging_2017-04-21-21-54' + '.csv'\n",
    "file_test_mean  = 'test_blend_LightGBM_mean_last_10bagging_2017-04-21-21-54' + '.csv'\n",
    "\n",
    "\n",
    "train_lgb      = pd.read_csv(data_path + file_train, header = None)\n",
    "test_lgb_mean  = pd.read_csv(data_path + file_test_mean, header = None)\n",
    "\n",
    "n_column = train_lgb.shape[1]\n",
    "total_col += n_column\n",
    "\n",
    "train_lgb.columns      = ['lgb_10bag_' + x for x in names[:n_column]]\n",
    "test_lgb_mean.columns  = ['lgb_10bag_' + x for x in names[:n_column]]\n",
    "\n",
    "print train_lgb.iloc[:5,:3]\n",
    "print test_lgb_mean.iloc[:5,:3]"
   ]
  },
  {
   "cell_type": "code",
   "execution_count": 15,
   "metadata": {
    "collapsed": false
   },
   "outputs": [
    {
     "name": "stdout",
     "output_type": "stream",
     "text": [
      "   nn_low_0  nn_medium_0  nn_high_0\n",
      "0  0.335217     0.604643   0.060140\n",
      "1  0.772956     0.207974   0.019070\n",
      "2  0.529658     0.446699   0.023643\n",
      "3  0.956680     0.042453   0.000867\n",
      "4  0.938238     0.060709   0.001053\n",
      "   nn_low_0  nn_medium_0  nn_high_0\n",
      "0  0.276664     0.582024   0.141312\n",
      "1  0.995422     0.004223   0.000356\n",
      "2  0.979827     0.019278   0.000895\n",
      "3  0.362736     0.446379   0.190885\n",
      "4  0.729782     0.259918   0.010300\n"
     ]
    }
   ],
   "source": [
    "# Keras 1st level No.1\n",
    "\n",
    "file_train      = 'train_blend_Keras_last_2017-04-20-21-23' + '.csv'\n",
    "file_test_mean  = 'test_blend_Keras_mean_last_2017-04-20-21-23' + '.csv'\n",
    "\n",
    "\n",
    "tmp_train = pd.read_csv(data_path + file_train, header = None)\n",
    "tmp_test  = pd.read_csv(data_path + file_test_mean, header = None)\n",
    "\n",
    "train_nn     = tmp_train[[0, 1, 2]]+(tmp_train[[3, 4, 5]]).rename(columns = {3:0,4:1,5:2})\n",
    "test_nn_mean = tmp_test[[0, 1, 2]]+(tmp_test[[3, 4, 5]]).rename(columns = {3:0,4:1,5:2})\n",
    "\n",
    "file_train      = 'train_blend_Keras_last_2017-04-20-22-05' + '.csv'\n",
    "file_test_mean  = 'test_blend_Keras_mean_last_2017-04-20-22-05' + '.csv'\n",
    "\n",
    "tmp_train = pd.read_csv(data_path + file_train, header = None)\n",
    "tmp_test  = pd.read_csv(data_path + file_test_mean, header = None)\n",
    "\n",
    "train_nn     = (train_nn + tmp_train[[0, 1, 2]]+(tmp_train[[3, 4, 5]]).rename(columns = {3:0,4:1,5:2}))/4\n",
    "test_nn_mean = (test_nn_mean + tmp_test[[0, 1, 2]]+(tmp_test[[3, 4, 5]]).rename(columns = {3:0,4:1,5:2}))/4\n",
    "\n",
    "\n",
    "n_column = train_nn.shape[1]\n",
    "total_col += n_column\n",
    "\n",
    "train_nn.columns      = ['nn_' + x for x in names[:n_column]]\n",
    "test_nn_mean.columns  = ['nn_' + x for x in names[:n_column]]\n",
    "\n",
    "print train_nn.iloc[:5,:3]\n",
    "print test_nn_mean.iloc[:5,:3]"
   ]
  },
  {
   "cell_type": "code",
   "execution_count": 16,
   "metadata": {
    "collapsed": false
   },
   "outputs": [
    {
     "name": "stdout",
     "output_type": "stream",
     "text": [
      "   nn_30fold_low_0  nn_30fold_medium_0  nn_30fold_high_0\n",
      "0         0.378595            0.564656          0.056749\n",
      "1         0.763784            0.215613          0.020603\n",
      "2         0.577165            0.398481          0.024354\n",
      "3         0.949192            0.049937          0.000871\n",
      "4         0.958236            0.040963          0.000801\n",
      "   nn_30fold_low_0  nn_30fold_medium_0  nn_30fold_high_0\n",
      "0         0.286080            0.567262          0.146658\n",
      "1         0.996091            0.003613          0.000296\n",
      "2         0.986770            0.012566          0.000664\n",
      "3         0.370175            0.443003          0.186822\n",
      "4         0.738394            0.250685          0.010921\n"
     ]
    }
   ],
   "source": [
    "# Keras 1st level 30fold\n",
    "\n",
    "file_train      = 'train_blend_Keras_last_30fold_2017-04-21-12-03' + '.csv'\n",
    "file_test_mean  = 'test_blend_Keras_mean_last_30fold_2017-04-21-12-03' + '.csv'\n",
    "\n",
    "train_nn_30fold     = pd.read_csv(data_path + file_train, header = None)\n",
    "test_nn_mean_30fold  = pd.read_csv(data_path + file_test_mean, header = None)\n",
    "\n",
    "n_column = train_nn_30fold.shape[1]\n",
    "total_col += n_column\n",
    "\n",
    "train_nn_30fold.columns      = ['nn_30fold_' + x for x in names[:n_column]]\n",
    "test_nn_mean_30fold.columns  = ['nn_30fold_' + x for x in names[:n_column]]\n",
    "\n",
    "print train_nn_30fold.iloc[:5,:3]\n",
    "print test_nn_mean_30fold.iloc[:5,:3]"
   ]
  },
  {
   "cell_type": "code",
   "execution_count": 17,
   "metadata": {
    "collapsed": false
   },
   "outputs": [
    {
     "name": "stdout",
     "output_type": "stream",
     "text": [
      "   nn_ovr_low_0  nn_ovr_medium_0  nn_ovr_high_0\n",
      "0      0.414059         0.533141       0.052800\n",
      "1      0.752638         0.210038       0.037324\n",
      "2      0.515976         0.440243       0.043781\n",
      "3      0.780622         0.219167       0.000211\n",
      "4      0.965501         0.032244       0.002255\n",
      "   nn_ovr_low_0  nn_ovr_medium_0  nn_ovr_high_0\n",
      "0      0.227279         0.679449       0.093272\n",
      "1      0.976299         0.014297       0.009403\n",
      "2      0.919964         0.066669       0.013367\n",
      "3      0.266264         0.389498       0.344238\n",
      "4      0.874583         0.119637       0.005780\n"
     ]
    }
   ],
   "source": [
    "# Keras one vs rest 1st level\n",
    "file_train      = 'train_blend_Keras_ovr_last_2017-04-21-10-15' + '.csv'\n",
    "file_test_mean  = 'test_blend_Keras_ovr_last_2017-04-21-10-15' + '.csv'\n",
    "\n",
    "train_nn_ovr      = pd.read_csv(data_path + file_train, header = None)\n",
    "test_nn_mean_ovr  = pd.read_csv(data_path + file_test_mean, header = None)\n",
    "\n",
    "n_column = train_nn_ovr.shape[1]\n",
    "total_col += n_column\n",
    "\n",
    "train_nn_ovr.columns      = ['nn_ovr_' + x for x in names[:n_column]]\n",
    "test_nn_mean_ovr.columns  = ['nn_ovr_' + x for x in names[:n_column]]\n",
    "\n",
    "sum_train = np.sum(train_nn_ovr,axis=1)\n",
    "sum_test  = np.sum(test_nn_mean_ovr,axis=1)\n",
    "\n",
    "for col in train_nn_ovr.columns.values:\n",
    "    train_nn_ovr[col] = train_nn_ovr[col] / sum_train\n",
    "    test_nn_mean_ovr[col] = test_nn_mean_ovr[col] / sum_test \n",
    "\n",
    "print train_nn_ovr.iloc[:5,:3]\n",
    "print test_nn_mean_ovr.iloc[:5,:3]"
   ]
  },
  {
   "cell_type": "code",
   "execution_count": 18,
   "metadata": {
    "collapsed": false
   },
   "outputs": [
    {
     "name": "stdout",
     "output_type": "stream",
     "text": [
      "   nn_3layer_low_0  nn_3layer_medium_0  nn_3layer_high_0\n",
      "0         0.445882            0.488624          0.065494\n",
      "1         0.761473            0.222332          0.016195\n",
      "2         0.542404            0.415798          0.041798\n",
      "3         0.956819            0.041689          0.001492\n",
      "4         0.950208            0.048009          0.001783\n",
      "   nn_3layer_low_0  nn_3layer_medium_0  nn_3layer_high_0\n",
      "0         0.300305            0.540791          0.158904\n",
      "1         0.995423            0.004364          0.000213\n",
      "2         0.984619            0.014709          0.000672\n",
      "3         0.376123            0.446293          0.177584\n",
      "4         0.713087            0.267086          0.019827\n"
     ]
    }
   ],
   "source": [
    "# Keras 1st level 3layer 20 bagging\n",
    "file_train      = 'train_blend_Keras_last_3layer_20bagging_2017-04-21-20-01' + '.csv'\n",
    "file_test_mean  = 'test_blend_Keras_mean_last_3layer_20bagging_2017-04-21-20-01' + '.csv'\n",
    "\n",
    "train_nn_3layer      = pd.read_csv(data_path + file_train, header = None)\n",
    "test_nn_mean_3layer  = pd.read_csv(data_path + file_test_mean, header = None)\n",
    "\n",
    "n_column = train_nn_3layer.shape[1]\n",
    "total_col += n_column\n",
    "\n",
    "train_nn_3layer.columns      = ['nn_3layer_' + x for x in names[:n_column]]\n",
    "test_nn_mean_3layer.columns  = ['nn_3layer_' + x for x in names[:n_column]]\n",
    "\n",
    "\n",
    "print train_nn_3layer.iloc[:5,:3]\n",
    "print test_nn_mean_3layer.iloc[:5,:3]"
   ]
  },
  {
   "cell_type": "code",
   "execution_count": 19,
   "metadata": {
    "collapsed": false
   },
   "outputs": [
    {
     "name": "stdout",
     "output_type": "stream",
     "text": [
      "   gp_low_0  gp_medium_0  gp_high_0\n",
      "0  0.667295     0.414926   0.055642\n",
      "1  0.274272     0.468727   0.164397\n",
      "2  0.824768     0.100327   0.008004\n",
      "3  0.871032     0.132950   0.002816\n",
      "4  0.961603     0.061744   0.007022\n",
      "   gp_low_0  gp_medium_0  gp_high_0\n",
      "0  0.463656     0.398541   0.064190\n",
      "1  0.950986     0.054375   0.032897\n",
      "2  0.928136     0.083777   0.009273\n",
      "3  0.289910     0.419127   0.115973\n",
      "4  0.814114     0.182908   0.016571\n"
     ]
    }
   ],
   "source": [
    "# # Genetic Programming 1st level\n",
    "\n",
    "# file_train      = 'train_blend_GP_BM_2017-04-09-19-15' + '.csv'\n",
    "# file_test_mean  = 'test_blend_GP_BM_2017-04-09-19-15' + '.csv'\n",
    "\n",
    "\n",
    "# train_gp = pd.read_csv(data_path + file_train, header = None)\n",
    "# test_gp  = pd.read_csv(data_path + file_test_mean, header = None)\n",
    "\n",
    "\n",
    "# n_column = train_gp.shape[1]\n",
    "# total_col += n_column\n",
    "\n",
    "# train_gp.columns = ['gp_' + x for x in names[:n_column]]\n",
    "# test_gp.columns  = ['gp_' + x for x in names[:n_column]]\n",
    "\n",
    "# print train_gp.iloc[:5,:3]\n",
    "# print test_gp.iloc[:5,:3]"
   ]
  },
  {
   "cell_type": "code",
   "execution_count": 20,
   "metadata": {
    "collapsed": false
   },
   "outputs": [
    {
     "name": "stdout",
     "output_type": "stream",
     "text": [
      "51\n"
     ]
    }
   ],
   "source": [
    "print total_col"
   ]
  },
  {
   "cell_type": "code",
   "execution_count": 21,
   "metadata": {
    "collapsed": false
   },
   "outputs": [
    {
     "name": "stdout",
     "output_type": "stream",
     "text": [
      "train_2nd: (49352, 48)\t test_2nd_mean:(74659, 48)\n"
     ]
    }
   ],
   "source": [
    "train_2nd      = pd.concat([train_rfc, train_LR, train_ET, train_KNN, train_FM_0322,    train_MNB,     train_tsne,\n",
    "                            train_tsne_0322, train_xgb,     train_xgb_30fold,     train_xgb_ovr, \n",
    "                            train_nn,     train_nn_30fold,     train_nn_ovr,     train_nn_3layer,\n",
    "                            train_lgb\n",
    "#                             train_gp\n",
    "                           ], axis = 1)\n",
    "\n",
    "test_2nd_mean  = pd.concat([test_rfc,  test_LR,  test_ET,  test_KNN, test_FM_mean_0322, test_MNB_mean, test_tsne, \n",
    "                            test_tsne_0322,  test_xgb_mean, test_xgb_mean_30fold, test_xgb_mean_ovr,\n",
    "                            test_nn_mean, test_nn_mean_30fold, test_nn_mean_ovr, test_nn_mean_3layer,\n",
    "                            test_lgb_mean\n",
    "#                             test_gp\n",
    "                           ], axis = 1)\n",
    "\n",
    "print 'train_2nd: {}\\t test_2nd_mean:{}'.\\\n",
    "            format(train_2nd.shape,test_2nd_mean.shape)"
   ]
  },
  {
   "cell_type": "code",
   "execution_count": 23,
   "metadata": {
    "collapsed": false
   },
   "outputs": [
    {
     "data": {
      "text/plain": [
       "False"
      ]
     },
     "execution_count": 23,
     "metadata": {},
     "output_type": "execute_result"
    }
   ],
   "source": [
    "train_2nd.isnull().values.any()"
   ]
  },
  {
   "cell_type": "code",
   "execution_count": 24,
   "metadata": {
    "collapsed": false
   },
   "outputs": [],
   "source": [
    "def cv_train(train,y,max_depth = 3,min_child_weight = 1,colsample_bytree = 1, subsample = 1, gamma = 0 , verbose_eval = None,\n",
    "            seed = 0, early_stop = 50, nfold = 5, eta=0.3):\n",
    "    xgtrain = xgb.DMatrix(train, label=y)\n",
    "    params = dict()\n",
    "    params['objective']='multi:softprob'\n",
    "    params['eval_metric']='mlogloss',\n",
    "    params['num_class']=3\n",
    "    params['silent']=0\n",
    "    params['eta'] = eta\n",
    "    params['max_depth'] = max_depth\n",
    "    params['min_child_weight'] = min_child_weight\n",
    "    params['colsample_bytree'] = colsample_bytree\n",
    "    params['subsample'] = subsample\n",
    "    params['gamma'] = gamma\n",
    "    \n",
    "    cv_result = xgb.cv(\n",
    "        params, xgtrain, \n",
    "        num_boost_round=10000, nfold=nfold,\n",
    "        metrics = 'mlogloss', verbose_eval = verbose_eval,\n",
    "        seed=seed,callbacks=[xgb.callback.early_stop(early_stop, maximize=False, verbose=True)]\n",
    "    )\n",
    "\n",
    "    return cv_result['test-mlogloss-mean'].values[-1]"
   ]
  },
  {
   "cell_type": "code",
   "execution_count": 25,
   "metadata": {
    "collapsed": false
   },
   "outputs": [
    {
     "name": "stdout",
     "output_type": "stream",
     "text": [
      "Multiple eval metrics have been passed: 'test-mlogloss' will be used for early stopping.\n",
      "\n",
      "Will train until test-mlogloss hasn't improved in 10 rounds.\n",
      "[0]\ttrain-mlogloss:0.87826+0.000294818\ttest-mlogloss:0.878966+0.000959785\n",
      "[1]\ttrain-mlogloss:0.751673+0.00043807\ttest-mlogloss:0.753066+0.00143775\n",
      "[2]\ttrain-mlogloss:0.671312+0.000520641\ttest-mlogloss:0.673156+0.00185153\n",
      "[3]\ttrain-mlogloss:0.617859+0.000651256\ttest-mlogloss:0.620414+0.00208567\n",
      "[4]\ttrain-mlogloss:0.581324+0.000704471\ttest-mlogloss:0.584439+0.00233113\n",
      "[5]\ttrain-mlogloss:0.555927+0.000750775\ttest-mlogloss:0.559488+0.00256053\n",
      "[6]\ttrain-mlogloss:0.538047+0.000775679\ttest-mlogloss:0.542132+0.00268677\n",
      "[7]\ttrain-mlogloss:0.525236+0.000762997\ttest-mlogloss:0.529762+0.00287586\n",
      "[8]\ttrain-mlogloss:0.515964+0.000767768\ttest-mlogloss:0.520823+0.00288023\n",
      "[9]\ttrain-mlogloss:0.509121+0.000734566\ttest-mlogloss:0.514424+0.00285581\n",
      "[10]\ttrain-mlogloss:0.504015+0.000729042\ttest-mlogloss:0.509835+0.00287603\n",
      "[11]\ttrain-mlogloss:0.500175+0.000721773\ttest-mlogloss:0.506474+0.00282292\n",
      "[12]\ttrain-mlogloss:0.49722+0.00074228\ttest-mlogloss:0.503996+0.00278556\n",
      "[13]\ttrain-mlogloss:0.494928+0.00072479\ttest-mlogloss:0.502089+0.00277638\n",
      "[14]\ttrain-mlogloss:0.493057+0.000723342\ttest-mlogloss:0.500714+0.00278283\n",
      "[15]\ttrain-mlogloss:0.491542+0.000714532\ttest-mlogloss:0.499664+0.00282672\n",
      "[16]\ttrain-mlogloss:0.490249+0.000684341\ttest-mlogloss:0.498885+0.00275659\n",
      "[17]\ttrain-mlogloss:0.489201+0.000669402\ttest-mlogloss:0.498293+0.00278463\n",
      "[18]\ttrain-mlogloss:0.488248+0.000614136\ttest-mlogloss:0.497826+0.00282164\n",
      "[19]\ttrain-mlogloss:0.487361+0.000566187\ttest-mlogloss:0.497449+0.00282853\n",
      "[20]\ttrain-mlogloss:0.486531+0.000558104\ttest-mlogloss:0.497223+0.0028538\n",
      "[21]\ttrain-mlogloss:0.48577+0.000548944\ttest-mlogloss:0.497014+0.00279943\n",
      "[22]\ttrain-mlogloss:0.485132+0.00049236\ttest-mlogloss:0.496912+0.00277728\n",
      "[23]\ttrain-mlogloss:0.484507+0.000496822\ttest-mlogloss:0.4968+0.00275887\n",
      "[24]\ttrain-mlogloss:0.483916+0.000545329\ttest-mlogloss:0.496723+0.00278665\n",
      "[25]\ttrain-mlogloss:0.483304+0.00051409\ttest-mlogloss:0.496667+0.00273997\n",
      "[26]\ttrain-mlogloss:0.482757+0.000470525\ttest-mlogloss:0.496645+0.00272947\n",
      "[27]\ttrain-mlogloss:0.482103+0.000517381\ttest-mlogloss:0.496555+0.00273593\n",
      "[28]\ttrain-mlogloss:0.481536+0.000487067\ttest-mlogloss:0.496503+0.00269525\n",
      "[29]\ttrain-mlogloss:0.481035+0.000527847\ttest-mlogloss:0.49644+0.00265801\n",
      "[30]\ttrain-mlogloss:0.480455+0.000558625\ttest-mlogloss:0.496459+0.00257858\n",
      "[31]\ttrain-mlogloss:0.479891+0.000481401\ttest-mlogloss:0.496469+0.00247955\n",
      "[32]\ttrain-mlogloss:0.479353+0.000450216\ttest-mlogloss:0.496498+0.00249119\n",
      "[33]\ttrain-mlogloss:0.478797+0.000480946\ttest-mlogloss:0.496543+0.00246193\n",
      "[34]\ttrain-mlogloss:0.47827+0.000492592\ttest-mlogloss:0.496567+0.00247117\n",
      "[35]\ttrain-mlogloss:0.477743+0.000462109\ttest-mlogloss:0.496574+0.00243036\n",
      "[36]\ttrain-mlogloss:0.477141+0.000528349\ttest-mlogloss:0.496539+0.00232632\n",
      "[37]\ttrain-mlogloss:0.476666+0.00053079\ttest-mlogloss:0.496586+0.00227594\n",
      "[38]\ttrain-mlogloss:0.476151+0.000473173\ttest-mlogloss:0.496528+0.00228114\n",
      "Stopping. Best iteration:\n",
      "[29]\ttrain-mlogloss:0.481035+0.000527847\ttest-mlogloss:0.49644+0.00265801\n",
      "\n"
     ]
    },
    {
     "data": {
      "text/plain": [
       "0.49644000000000005"
      ]
     },
     "execution_count": 25,
     "metadata": {},
     "output_type": "execute_result"
    }
   ],
   "source": [
    "cv_train(train_2nd,train_y, early_stop = 10,verbose_eval = 1)"
   ]
  },
  {
   "cell_type": "code",
   "execution_count": 26,
   "metadata": {
    "collapsed": false
   },
   "outputs": [
    {
     "name": "stdout",
     "output_type": "stream",
     "text": [
      "(39481, 48)\n",
      "(9871, 48)\n"
     ]
    }
   ],
   "source": [
    "X_train, X_val, y_train, y_val = train_test_split(train_2nd, train_y, train_size=.80, random_state=1234)\n",
    "print X_train.shape\n",
    "print X_val.shape"
   ]
  },
  {
   "cell_type": "code",
   "execution_count": 27,
   "metadata": {
    "collapsed": false
   },
   "outputs": [
    {
     "name": "stdout",
     "output_type": "stream",
     "text": [
      "[0]\tvalidation_0-mlogloss:0.879114\n",
      "Will train until validation_0-mlogloss hasn't improved in 50 rounds.\n",
      "[1]\tvalidation_0-mlogloss:0.753121\n",
      "[2]\tvalidation_0-mlogloss:0.673307\n",
      "[3]\tvalidation_0-mlogloss:0.620441\n",
      "[4]\tvalidation_0-mlogloss:0.584664\n",
      "[5]\tvalidation_0-mlogloss:0.559498\n",
      "[6]\tvalidation_0-mlogloss:0.542138\n",
      "[7]\tvalidation_0-mlogloss:0.529696\n",
      "[8]\tvalidation_0-mlogloss:0.520819\n",
      "[9]\tvalidation_0-mlogloss:0.514504\n",
      "[10]\tvalidation_0-mlogloss:0.509926\n",
      "[11]\tvalidation_0-mlogloss:0.506674\n",
      "[12]\tvalidation_0-mlogloss:0.504189\n",
      "[13]\tvalidation_0-mlogloss:0.502355\n",
      "[14]\tvalidation_0-mlogloss:0.501098\n",
      "[15]\tvalidation_0-mlogloss:0.500107\n",
      "[16]\tvalidation_0-mlogloss:0.499441\n",
      "[17]\tvalidation_0-mlogloss:0.49887\n",
      "[18]\tvalidation_0-mlogloss:0.498537\n",
      "[19]\tvalidation_0-mlogloss:0.498164\n",
      "[20]\tvalidation_0-mlogloss:0.498015\n",
      "[21]\tvalidation_0-mlogloss:0.497628\n",
      "[22]\tvalidation_0-mlogloss:0.497516\n",
      "[23]\tvalidation_0-mlogloss:0.497562\n",
      "[24]\tvalidation_0-mlogloss:0.497467\n",
      "[25]\tvalidation_0-mlogloss:0.497489\n",
      "[26]\tvalidation_0-mlogloss:0.497441\n",
      "[27]\tvalidation_0-mlogloss:0.497431\n",
      "[28]\tvalidation_0-mlogloss:0.497371\n",
      "[29]\tvalidation_0-mlogloss:0.497522\n"
     ]
    },
    {
     "data": {
      "text/plain": [
       "XGBClassifier(base_score=0.5, colsample_bylevel=1, colsample_bytree=1,\n",
       "       gamma=0, learning_rate=0.3, max_delta_step=0, max_depth=3,\n",
       "       min_child_weight=1, missing=None, n_estimators=30, nthread=-1,\n",
       "       objective='multi:softprob', reg_alpha=0, reg_lambda=1,\n",
       "       scale_pos_weight=1, seed=0, silent=True, subsample=1)"
      ]
     },
     "execution_count": 27,
     "metadata": {},
     "output_type": "execute_result"
    }
   ],
   "source": [
    "rgr = xgb.XGBClassifier(objective = 'multi:softprob',\n",
    "                       learning_rate = 0.3,\n",
    "                       n_estimators = 30,\n",
    "                       max_depth = 3, \n",
    "                       nthread = -1)\n",
    "\n",
    "rgr.fit(X_train,y_train,\n",
    "        eval_set=[(X_val,y_val)],\n",
    "        eval_metric='mlogloss',\n",
    "#         num_class = 3,\n",
    "        early_stopping_rounds=50,\n",
    "        verbose=1\n",
    "       )"
   ]
  },
  {
   "cell_type": "code",
   "execution_count": 28,
   "metadata": {
    "collapsed": false
   },
   "outputs": [
    {
     "data": {
      "text/plain": [
       "<matplotlib.text.Text at 0xd455a90>"
      ]
     },
     "execution_count": 28,
     "metadata": {},
     "output_type": "execute_result"
    },
    {
     "data": {
      "image/png": "[encoded data removed]",
      "text/plain": [
       "<matplotlib.figure.Figure at 0xcf6ac50>"
      ]
     },
     "metadata": {},
     "output_type": "display_data"
    }
   ],
   "source": [
    "importance = np.vstack((X_train.columns, rgr.feature_importances_))\n",
    "f_df = pd.DataFrame(importance.T, columns=['feature', 'fscore'])\n",
    "f_df.fscore = f_df.fscore.astype('float64')\n",
    "f_df = f_df.sort_values(by = 'fscore',ascending = True)\n",
    "f_df.plot(kind='barh', x='feature', y='fscore', legend=False, figsize=(6, 10))\n",
    "plt.title('XGBoost Feature Importance')\n",
    "plt.xlabel('relative importance')"
   ]
  },
  {
   "cell_type": "code",
   "execution_count": 29,
   "metadata": {
    "collapsed": false
   },
   "outputs": [
    {
     "name": "stdout",
     "output_type": "stream",
     "text": [
      "(49352, 48)\n",
      "(74659, 48)\n"
     ]
    }
   ],
   "source": [
    "train_X = train_2nd#[feature_to_use]\n",
    "test_X = test_2nd_mean#[feature_to_use]\n",
    "\n",
    "print train_X.shape\n",
    "print test_X.shape"
   ]
  },
  {
   "cell_type": "code",
   "execution_count": 30,
   "metadata": {
    "collapsed": false
   },
   "outputs": [],
   "source": [
    "from bayes_opt import BayesianOptimization"
   ]
  },
  {
   "cell_type": "code",
   "execution_count": 47,
   "metadata": {
    "collapsed": false
   },
   "outputs": [
    {
     "name": "stdout",
     "output_type": "stream",
     "text": [
      "Multiple eval metrics have been passed: 'test-mlogloss' will be used for early stopping.\n",
      "\n",
      "Will train until test-mlogloss hasn't improved in 50 rounds.\n",
      "Stopping. Best iteration:\n",
      "[30]\ttrain-mlogloss:0.48084+0.00043319\ttest-mlogloss:0.496305+0.00262536\n",
      "\n",
      "3 \t0.4963048\n",
      "Multiple eval metrics have been passed: 'test-mlogloss' will be used for early stopping.\n",
      "\n",
      "Will train until test-mlogloss hasn't improved in 50 rounds.\n",
      "Stopping. Best iteration:\n",
      "[24]\ttrain-mlogloss:0.472443+0.000509557\ttest-mlogloss:0.496981+0.00263186\n",
      "\n",
      "4 \t0.4969808\n",
      "Multiple eval metrics have been passed: 'test-mlogloss' will be used for early stopping.\n",
      "\n",
      "Will train until test-mlogloss hasn't improved in 50 rounds.\n",
      "Stopping. Best iteration:\n",
      "[24]\ttrain-mlogloss:0.452964+0.00101076\ttest-mlogloss:0.497828+0.0027074\n",
      "\n",
      "5 \t0.4978276\n",
      "Multiple eval metrics have been passed: 'test-mlogloss' will be used for early stopping.\n",
      "\n",
      "Will train until test-mlogloss hasn't improved in 50 rounds.\n",
      "Stopping. Best iteration:\n",
      "[23]\ttrain-mlogloss:0.427948+0.000648835\ttest-mlogloss:0.499598+0.00288275\n",
      "\n",
      "6 \t0.4995984\n",
      "Multiple eval metrics have been passed: 'test-mlogloss' will be used for early stopping.\n",
      "\n",
      "Will train until test-mlogloss hasn't improved in 50 rounds.\n",
      "Stopping. Best iteration:\n",
      "[22]\ttrain-mlogloss:0.394945+0.00116609\ttest-mlogloss:0.501937+0.00352852\n",
      "\n",
      "7 \t0.501937\n",
      "Multiple eval metrics have been passed: 'test-mlogloss' will be used for early stopping.\n",
      "\n",
      "Will train until test-mlogloss hasn't improved in 50 rounds.\n",
      "Stopping. Best iteration:\n",
      "[20]\ttrain-mlogloss:0.360938+0.00226738\ttest-mlogloss:0.505161+0.00343185\n",
      "\n",
      "8 \t0.5051608\n",
      "Multiple eval metrics have been passed: 'test-mlogloss' will be used for early stopping.\n",
      "\n",
      "Will train until test-mlogloss hasn't improved in 50 rounds.\n",
      "Stopping. Best iteration:\n",
      "[17]\ttrain-mlogloss:0.326158+0.00202502\ttest-mlogloss:0.507838+0.00289619\n",
      "\n",
      "9 \t0.5078384\n",
      "Multiple eval metrics have been passed: 'test-mlogloss' will be used for early stopping.\n",
      "\n",
      "Will train until test-mlogloss hasn't improved in 50 rounds.\n",
      "Stopping. Best iteration:\n",
      "[17]\ttrain-mlogloss:0.28036+0.000991658\ttest-mlogloss:0.510882+0.00380748\n",
      "\n",
      "10 \t0.5108822\n"
     ]
    }
   ],
   "source": [
    "best_score = 1000\n",
    "for x in [3,4,5,6,7,8,9,10]:\n",
    "    tmp = cv_train(train_X,train_y,max_depth = x)\n",
    "    if  tmp < best_score:\n",
    "        best_score = tmp\n",
    "        train_param = x\n",
    "\n",
    "    print x, '\\t', tmp"
   ]
  },
  {
   "cell_type": "code",
   "execution_count": 49,
   "metadata": {
    "collapsed": false
   },
   "outputs": [
    {
     "name": "stdout",
     "output_type": "stream",
     "text": [
      "Multiple eval metrics have been passed: 'test-mlogloss' will be used for early stopping.\n",
      "\n",
      "Will train until test-mlogloss hasn't improved in 50 rounds.\n",
      "Stopping. Best iteration:\n",
      "[96]\ttrain-mlogloss:0.488202+0.000661012\ttest-mlogloss:0.496315+0.00278589\n",
      "\n",
      "1 \t0.4963154\n",
      "Multiple eval metrics have been passed: 'test-mlogloss' will be used for early stopping.\n",
      "\n",
      "Will train until test-mlogloss hasn't improved in 50 rounds.\n",
      "Stopping. Best iteration:\n",
      "[47]\ttrain-mlogloss:0.484283+0.000734707\ttest-mlogloss:0.496238+0.00247492\n",
      "\n",
      "2 \t0.4962378\n"
     ]
    }
   ],
   "source": [
    "for x in [1,2]:\n",
    "    tmp = cv_train(train_X,train_y,max_depth = x)\n",
    "    if  tmp < best_score:\n",
    "        best_score = tmp\n",
    "        train_param = x\n",
    "\n",
    "    print x, '\\t', tmp"
   ]
  },
  {
   "cell_type": "code",
   "execution_count": 50,
   "metadata": {
    "collapsed": false
   },
   "outputs": [
    {
     "name": "stdout",
     "output_type": "stream",
     "text": [
      "2\n"
     ]
    }
   ],
   "source": [
    "# max_depth = train_param\n",
    "max_depth = train_param\n",
    "print max_depth"
   ]
  },
  {
   "cell_type": "code",
   "execution_count": 51,
   "metadata": {
    "collapsed": false
   },
   "outputs": [
    {
     "name": "stdout",
     "output_type": "stream",
     "text": [
      "Multiple eval metrics have been passed: 'test-mlogloss' will be used for early stopping.\n",
      "\n",
      "Will train until test-mlogloss hasn't improved in 20 rounds.\n",
      "Stopping. Best iteration:\n",
      "[48]\ttrain-mlogloss:0.484161+0.000584401\ttest-mlogloss:0.49613+0.00256244\n",
      "\n",
      "2 \t0.4961304\n",
      "Multiple eval metrics have been passed: 'test-mlogloss' will be used for early stopping.\n",
      "\n",
      "Will train until test-mlogloss hasn't improved in 20 rounds.\n",
      "Stopping. Best iteration:\n",
      "[46]\ttrain-mlogloss:0.484692+0.000624706\ttest-mlogloss:0.496183+0.00257499\n",
      "\n",
      "4 \t0.4961828\n",
      "Multiple eval metrics have been passed: 'test-mlogloss' will be used for early stopping.\n",
      "\n",
      "Will train until test-mlogloss hasn't improved in 20 rounds.\n",
      "Stopping. Best iteration:\n",
      "[43]\ttrain-mlogloss:0.485467+0.000596002\ttest-mlogloss:0.496165+0.00256991\n",
      "\n",
      "8 \t0.496165\n",
      "Multiple eval metrics have been passed: 'test-mlogloss' will be used for early stopping.\n",
      "\n",
      "Will train until test-mlogloss hasn't improved in 20 rounds.\n",
      "Stopping. Best iteration:\n",
      "[47]\ttrain-mlogloss:0.484679+0.000768777\ttest-mlogloss:0.495978+0.00249505\n",
      "\n",
      "12 \t0.4959776\n",
      "Multiple eval metrics have been passed: 'test-mlogloss' will be used for early stopping.\n",
      "\n",
      "Will train until test-mlogloss hasn't improved in 20 rounds.\n",
      "Stopping. Best iteration:\n",
      "[37]\ttrain-mlogloss:0.486932+0.00058396\ttest-mlogloss:0.495943+0.00263453\n",
      "\n",
      "16 \t0.4959426\n",
      "Multiple eval metrics have been passed: 'test-mlogloss' will be used for early stopping.\n",
      "\n",
      "Will train until test-mlogloss hasn't improved in 20 rounds.\n",
      "Stopping. Best iteration:\n",
      "[51]\ttrain-mlogloss:0.483886+0.00075412\ttest-mlogloss:0.495957+0.0023845\n",
      "\n",
      "20 \t0.4959574\n",
      "Multiple eval metrics have been passed: 'test-mlogloss' will be used for early stopping.\n",
      "\n",
      "Will train until test-mlogloss hasn't improved in 20 rounds.\n",
      "Stopping. Best iteration:\n",
      "[40]\ttrain-mlogloss:0.4862+0.000608993\ttest-mlogloss:0.495991+0.00254326\n",
      "\n",
      "24 \t0.4959914\n",
      "Multiple eval metrics have been passed: 'test-mlogloss' will be used for early stopping.\n",
      "\n",
      "Will train until test-mlogloss hasn't improved in 20 rounds.\n",
      "Stopping. Best iteration:\n",
      "[46]\ttrain-mlogloss:0.484907+0.000646462\ttest-mlogloss:0.496039+0.00253273\n",
      "\n",
      "28 \t0.4960394\n",
      "Multiple eval metrics have been passed: 'test-mlogloss' will be used for early stopping.\n",
      "\n",
      "Will train until test-mlogloss hasn't improved in 20 rounds.\n",
      "Stopping. Best iteration:\n",
      "[42]\ttrain-mlogloss:0.485846+0.000567199\ttest-mlogloss:0.495999+0.00252197\n",
      "\n",
      "32 \t0.4959992\n",
      "Multiple eval metrics have been passed: 'test-mlogloss' will be used for early stopping.\n",
      "\n",
      "Will train until test-mlogloss hasn't improved in 20 rounds.\n",
      "Stopping. Best iteration:\n",
      "[36]\ttrain-mlogloss:0.487245+0.000665303\ttest-mlogloss:0.496002+0.00250419\n",
      "\n",
      "40 \t0.4960022\n",
      "Multiple eval metrics have been passed: 'test-mlogloss' will be used for early stopping.\n",
      "\n",
      "Will train until test-mlogloss hasn't improved in 20 rounds.\n",
      "Stopping. Best iteration:\n",
      "[42]\ttrain-mlogloss:0.485861+0.000611346\ttest-mlogloss:0.496048+0.00255311\n",
      "\n",
      "48 \t0.496048\n",
      "Multiple eval metrics have been passed: 'test-mlogloss' will be used for early stopping.\n",
      "\n",
      "Will train until test-mlogloss hasn't improved in 20 rounds.\n",
      "Stopping. Best iteration:\n",
      "[46]\ttrain-mlogloss:0.48512+0.000622089\ttest-mlogloss:0.496168+0.00261198\n",
      "\n",
      "64 \t0.4961678\n",
      "Multiple eval metrics have been passed: 'test-mlogloss' will be used for early stopping.\n",
      "\n",
      "Will train until test-mlogloss hasn't improved in 20 rounds.\n",
      "Stopping. Best iteration:\n",
      "[50]\ttrain-mlogloss:0.484417+0.00061185\ttest-mlogloss:0.496265+0.00262666\n",
      "\n",
      "80 \t0.4962646\n",
      "Multiple eval metrics have been passed: 'test-mlogloss' will be used for early stopping.\n",
      "\n",
      "Will train until test-mlogloss hasn't improved in 20 rounds.\n",
      "Stopping. Best iteration:\n",
      "[57]\ttrain-mlogloss:0.48317+0.000592155\ttest-mlogloss:0.49625+0.00264093\n",
      "\n",
      "90 \t0.4962498\n",
      "Multiple eval metrics have been passed: 'test-mlogloss' will be used for early stopping.\n",
      "\n",
      "Will train until test-mlogloss hasn't improved in 20 rounds.\n",
      "Stopping. Best iteration:\n",
      "[44]\ttrain-mlogloss:0.485749+0.000657885\ttest-mlogloss:0.496217+0.00263629\n",
      "\n",
      "100 \t0.4962166\n",
      "Multiple eval metrics have been passed: 'test-mlogloss' will be used for early stopping.\n",
      "\n",
      "Will train until test-mlogloss hasn't improved in 20 rounds.\n",
      "Stopping. Best iteration:\n",
      "[42]\ttrain-mlogloss:0.486234+0.000615673\ttest-mlogloss:0.496206+0.0025793\n",
      "\n",
      "110 \t0.4962056\n",
      "Multiple eval metrics have been passed: 'test-mlogloss' will be used for early stopping.\n",
      "\n",
      "Will train until test-mlogloss hasn't improved in 20 rounds.\n",
      "Stopping. Best iteration:\n",
      "[44]\ttrain-mlogloss:0.485894+0.000661692\ttest-mlogloss:0.496215+0.00256204\n",
      "\n",
      "128 \t0.4962152\n"
     ]
    }
   ],
   "source": [
    "train_param = 1\n",
    "for x in [2,4,8,12,16,20,24,28,32,40,48,64,80,90,100,110,128]:\n",
    "   \n",
    "    tmp = cv_train(train_X,train_y,max_depth = max_depth,min_child_weight = x,early_stop = 20)\n",
    "    if  tmp < best_score:\n",
    "        best_score = tmp\n",
    "        train_param = x\n",
    "\n",
    "    print x, '\\t', tmp"
   ]
  },
  {
   "cell_type": "code",
   "execution_count": 52,
   "metadata": {
    "collapsed": false
   },
   "outputs": [
    {
     "name": "stdout",
     "output_type": "stream",
     "text": [
      "16\n"
     ]
    }
   ],
   "source": [
    "min_child_weight = train_param\n",
    "print min_child_weight"
   ]
  },
  {
   "cell_type": "code",
   "execution_count": 53,
   "metadata": {
    "collapsed": false
   },
   "outputs": [
    {
     "name": "stdout",
     "output_type": "stream",
     "text": [
      "Multiple eval metrics have been passed: 'test-mlogloss' will be used for early stopping.\n",
      "\n",
      "Will train until test-mlogloss hasn't improved in 20 rounds.\n",
      "Stopping. Best iteration:\n",
      "[101]\ttrain-mlogloss:0.479348+0.000900846\ttest-mlogloss:0.498983+0.00254008\n",
      "\n",
      "0.1 \t0.4989826\n",
      "Multiple eval metrics have been passed: 'test-mlogloss' will be used for early stopping.\n",
      "\n",
      "Will train until test-mlogloss hasn't improved in 20 rounds.\n",
      "Stopping. Best iteration:\n",
      "[89]\ttrain-mlogloss:0.479346+0.000799178\ttest-mlogloss:0.497295+0.00241012\n",
      "\n",
      "0.2 \t0.497295\n",
      "Multiple eval metrics have been passed: 'test-mlogloss' will be used for early stopping.\n",
      "\n",
      "Will train until test-mlogloss hasn't improved in 20 rounds.\n",
      "Stopping. Best iteration:\n",
      "[44]\ttrain-mlogloss:0.486734+0.000893595\ttest-mlogloss:0.497061+0.00236621\n",
      "\n",
      "0.3 \t0.4970606\n",
      "Multiple eval metrics have been passed: 'test-mlogloss' will be used for early stopping.\n",
      "\n",
      "Will train until test-mlogloss hasn't improved in 20 rounds.\n",
      "Stopping. Best iteration:\n",
      "[44]\ttrain-mlogloss:0.486243+0.000743023\ttest-mlogloss:0.496411+0.00234691\n",
      "\n",
      "0.4 \t0.4964108\n",
      "Multiple eval metrics have been passed: 'test-mlogloss' will be used for early stopping.\n",
      "\n",
      "Will train until test-mlogloss hasn't improved in 20 rounds.\n",
      "Stopping. Best iteration:\n",
      "[53]\ttrain-mlogloss:0.484088+0.000593747\ttest-mlogloss:0.496099+0.00261377\n",
      "\n",
      "0.5 \t0.4960988\n",
      "Multiple eval metrics have been passed: 'test-mlogloss' will be used for early stopping.\n",
      "\n",
      "Will train until test-mlogloss hasn't improved in 20 rounds.\n",
      "Stopping. Best iteration:\n",
      "[48]\ttrain-mlogloss:0.484976+0.000646455\ttest-mlogloss:0.496039+0.0023971\n",
      "\n",
      "0.6 \t0.4960386\n",
      "Multiple eval metrics have been passed: 'test-mlogloss' will be used for early stopping.\n",
      "\n",
      "Will train until test-mlogloss hasn't improved in 20 rounds.\n",
      "Stopping. Best iteration:\n",
      "[43]\ttrain-mlogloss:0.485908+0.000659755\ttest-mlogloss:0.495962+0.00270744\n",
      "\n",
      "0.7 \t0.4959616\n",
      "Multiple eval metrics have been passed: 'test-mlogloss' will be used for early stopping.\n",
      "\n",
      "Will train until test-mlogloss hasn't improved in 20 rounds.\n",
      "Stopping. Best iteration:\n",
      "[42]\ttrain-mlogloss:0.485963+0.000610834\ttest-mlogloss:0.495946+0.0025868\n",
      "\n",
      "0.8 \t0.495946\n",
      "Multiple eval metrics have been passed: 'test-mlogloss' will be used for early stopping.\n",
      "\n",
      "Will train until test-mlogloss hasn't improved in 20 rounds.\n",
      "Stopping. Best iteration:\n",
      "[44]\ttrain-mlogloss:0.485435+0.000671147\ttest-mlogloss:0.495919+0.00256883\n",
      "\n",
      "0.9 \t0.4959186\n"
     ]
    }
   ],
   "source": [
    "train_param = 1\n",
    "for x in [0.1,0.2,0.3,0.4,0.5,0.6,0.7,0.8,0.9]:\n",
    "    tmp = cv_train(train_X,train_y,max_depth = max_depth,min_child_weight = min_child_weight, \n",
    "                   colsample_bytree = x,early_stop = 20)\n",
    "    if  tmp < best_score:\n",
    "        best_score = tmp\n",
    "        train_param = x\n",
    "\n",
    "    print x, '\\t', tmp"
   ]
  },
  {
   "cell_type": "code",
   "execution_count": 54,
   "metadata": {
    "collapsed": false
   },
   "outputs": [
    {
     "name": "stdout",
     "output_type": "stream",
     "text": [
      "0.9\n"
     ]
    }
   ],
   "source": [
    "colsample_bytree = train_param\n",
    "print colsample_bytree"
   ]
  },
  {
   "cell_type": "code",
   "execution_count": 55,
   "metadata": {
    "collapsed": false
   },
   "outputs": [
    {
     "name": "stdout",
     "output_type": "stream",
     "text": [
      "Multiple eval metrics have been passed: 'test-mlogloss' will be used for early stopping.\n",
      "\n",
      "Will train until test-mlogloss hasn't improved in 20 rounds.\n",
      "Stopping. Best iteration:\n",
      "[34]\ttrain-mlogloss:0.488115+0.000764067\ttest-mlogloss:0.496135+0.0027814\n",
      "\n",
      "0.5 \t0.4961352\n",
      "Multiple eval metrics have been passed: 'test-mlogloss' will be used for early stopping.\n",
      "\n",
      "Will train until test-mlogloss hasn't improved in 20 rounds.\n",
      "Stopping. Best iteration:\n",
      "[34]\ttrain-mlogloss:0.487918+0.000763333\ttest-mlogloss:0.496345+0.00280002\n",
      "\n",
      "0.6 \t0.496345\n",
      "Multiple eval metrics have been passed: 'test-mlogloss' will be used for early stopping.\n",
      "\n",
      "Will train until test-mlogloss hasn't improved in 20 rounds.\n",
      "Stopping. Best iteration:\n",
      "[34]\ttrain-mlogloss:0.487689+0.000723061\ttest-mlogloss:0.496383+0.00236212\n",
      "\n",
      "0.7 \t0.4963828\n",
      "Multiple eval metrics have been passed: 'test-mlogloss' will be used for early stopping.\n",
      "\n",
      "Will train until test-mlogloss hasn't improved in 20 rounds.\n",
      "Stopping. Best iteration:\n",
      "[34]\ttrain-mlogloss:0.487723+0.000631656\ttest-mlogloss:0.496131+0.00268568\n",
      "\n",
      "0.8 \t0.4961308\n",
      "Multiple eval metrics have been passed: 'test-mlogloss' will be used for early stopping.\n",
      "\n",
      "Will train until test-mlogloss hasn't improved in 20 rounds.\n",
      "Stopping. Best iteration:\n",
      "[41]\ttrain-mlogloss:0.485922+0.000694086\ttest-mlogloss:0.496108+0.00259034\n",
      "\n",
      "0.9 \t0.4961084\n"
     ]
    }
   ],
   "source": [
    "train_param = 1\n",
    "for x in [0.5,0.6,0.7,0.8,0.9]:\n",
    "    tmp = cv_train(train_X,train_y,max_depth = max_depth,min_child_weight = min_child_weight, \n",
    "                   colsample_bytree = colsample_bytree, subsample = x,early_stop = 20)\n",
    "    if  tmp < best_score:\n",
    "        best_score = tmp\n",
    "        train_param = x\n",
    "\n",
    "    print x, '\\t', tmp"
   ]
  },
  {
   "cell_type": "code",
   "execution_count": 56,
   "metadata": {
    "collapsed": false
   },
   "outputs": [
    {
     "name": "stdout",
     "output_type": "stream",
     "text": [
      "1\n"
     ]
    }
   ],
   "source": [
    "subsample = train_param\n",
    "print subsample"
   ]
  },
  {
   "cell_type": "code",
   "execution_count": 57,
   "metadata": {
    "collapsed": false
   },
   "outputs": [
    {
     "name": "stdout",
     "output_type": "stream",
     "text": [
      "Multiple eval metrics have been passed: 'test-mlogloss' will be used for early stopping.\n",
      "\n",
      "Will train until test-mlogloss hasn't improved in 20 rounds.\n",
      "Stopping. Best iteration:\n",
      "[43]\ttrain-mlogloss:0.485653+0.000651632\ttest-mlogloss:0.496+0.00253704\n",
      "\n",
      "0.3 \t0.4959998\n",
      "Multiple eval metrics have been passed: 'test-mlogloss' will be used for early stopping.\n",
      "\n",
      "Will train until test-mlogloss hasn't improved in 20 rounds.\n",
      "Stopping. Best iteration:\n",
      "[44]\ttrain-mlogloss:0.485432+0.000693691\ttest-mlogloss:0.496023+0.00259978\n",
      "\n",
      "0.6 \t0.4960232\n",
      "Multiple eval metrics have been passed: 'test-mlogloss' will be used for early stopping.\n",
      "\n",
      "Will train until test-mlogloss hasn't improved in 20 rounds.\n",
      "Stopping. Best iteration:\n",
      "[37]\ttrain-mlogloss:0.486993+0.000629189\ttest-mlogloss:0.496019+0.00259286\n",
      "\n",
      "0.9 \t0.496019\n",
      "Multiple eval metrics have been passed: 'test-mlogloss' will be used for early stopping.\n",
      "\n",
      "Will train until test-mlogloss hasn't improved in 20 rounds.\n",
      "Stopping. Best iteration:\n",
      "[44]\ttrain-mlogloss:0.485434+0.000583034\ttest-mlogloss:0.496052+0.00262104\n",
      "\n",
      "1.2 \t0.496052\n",
      "Multiple eval metrics have been passed: 'test-mlogloss' will be used for early stopping.\n",
      "\n",
      "Will train until test-mlogloss hasn't improved in 20 rounds.\n",
      "Stopping. Best iteration:\n",
      "[44]\ttrain-mlogloss:0.485416+0.000672192\ttest-mlogloss:0.495926+0.00269839\n",
      "\n",
      "1.5 \t0.4959264\n",
      "Multiple eval metrics have been passed: 'test-mlogloss' will be used for early stopping.\n",
      "\n",
      "Will train until test-mlogloss hasn't improved in 20 rounds.\n",
      "Stopping. Best iteration:\n",
      "[44]\ttrain-mlogloss:0.485491+0.000683945\ttest-mlogloss:0.495914+0.00259999\n",
      "\n",
      "1.8 \t0.4959142\n",
      "Multiple eval metrics have been passed: 'test-mlogloss' will be used for early stopping.\n",
      "\n",
      "Will train until test-mlogloss hasn't improved in 20 rounds.\n",
      "Stopping. Best iteration:\n",
      "[41]\ttrain-mlogloss:0.486218+0.000732025\ttest-mlogloss:0.496071+0.00247749\n",
      "\n",
      "2.1 \t0.4960706\n",
      "Multiple eval metrics have been passed: 'test-mlogloss' will be used for early stopping.\n",
      "\n",
      "Will train until test-mlogloss hasn't improved in 20 rounds.\n",
      "Stopping. Best iteration:\n",
      "[57]\ttrain-mlogloss:0.48354+0.00094743\ttest-mlogloss:0.49592+0.00238999\n",
      "\n",
      "2.4 \t0.4959202\n",
      "Multiple eval metrics have been passed: 'test-mlogloss' will be used for early stopping.\n",
      "\n",
      "Will train until test-mlogloss hasn't improved in 20 rounds.\n",
      "Stopping. Best iteration:\n",
      "[38]\ttrain-mlogloss:0.487084+0.000598692\ttest-mlogloss:0.496022+0.00258228\n",
      "\n",
      "2.7 \t0.4960216\n",
      "Multiple eval metrics have been passed: 'test-mlogloss' will be used for early stopping.\n",
      "\n",
      "Will train until test-mlogloss hasn't improved in 20 rounds.\n",
      "Stopping. Best iteration:\n",
      "[54]\ttrain-mlogloss:0.485205+0.000969604\ttest-mlogloss:0.495887+0.00261515\n",
      "\n",
      "3.0 \t0.4958872\n"
     ]
    }
   ],
   "source": [
    "train_param = 0\n",
    "for x in [0.3, 0.6, 0.9, 1.2, 1.5, 1.8, 2.1, 2.4, 2.7, 3.0]:\n",
    "    tmp = cv_train(train_X,train_y,max_depth = max_depth,min_child_weight = min_child_weight, \n",
    "                   colsample_bytree = colsample_bytree, subsample = subsample, gamma = x,early_stop = 20)\n",
    "    if  tmp < best_score:\n",
    "        best_score = tmp\n",
    "        train_param = x\n",
    "\n",
    "    print x, '\\t', tmp"
   ]
  },
  {
   "cell_type": "code",
   "execution_count": 58,
   "metadata": {
    "collapsed": false
   },
   "outputs": [
    {
     "name": "stdout",
     "output_type": "stream",
     "text": [
      "3.0\n"
     ]
    }
   ],
   "source": [
    "gamma = train_param\n",
    "print gamma"
   ]
  },
  {
   "cell_type": "code",
   "execution_count": null,
   "metadata": {
    "collapsed": true
   },
   "outputs": [],
   "source": []
  },
  {
   "cell_type": "code",
   "execution_count": 59,
   "metadata": {
    "collapsed": false
   },
   "outputs": [
    {
     "data": {
      "text/plain": [
       "(49352, 45)"
      ]
     },
     "execution_count": 59,
     "metadata": {},
     "output_type": "execute_result"
    }
   ],
   "source": [
    "train_X.shape"
   ]
  },
  {
   "cell_type": "code",
   "execution_count": 35,
   "metadata": {
    "collapsed": false
   },
   "outputs": [
    {
     "name": "stdout",
     "output_type": "stream",
     "text": [
      "\u001b[31mInitialization\u001b[0m\n",
      "\u001b[94m---------------------------------------------------------------------------------------------------------------\u001b[0m\n",
      " Step |   Time |      Value |   colsample_bytree |     gamma |   max_depth |   min_child_weight |   subsample | \n",
      "    1 | 00m39s | \u001b[35m  -0.49555\u001b[0m | \u001b[32m            0.8680\u001b[0m | \u001b[32m   2.3194\u001b[0m | \u001b[32m     2.7643\u001b[0m | \u001b[32m           19.5185\u001b[0m | \u001b[32m     0.9004\u001b[0m | \n",
      "    2 | 00m32s | \u001b[35m  -0.49555\u001b[0m | \u001b[32m            0.8267\u001b[0m | \u001b[32m   2.0796\u001b[0m | \u001b[32m     3.5348\u001b[0m | \u001b[32m           30.0424\u001b[0m | \u001b[32m     0.9085\u001b[0m | \n",
      "    3 | 00m31s |   -0.49577 |             0.6890 |    2.4503 |      3.4068 |            28.0035 |      0.9849 | \n",
      "    4 | 00m37s |   -0.49555 |             0.8958 |    2.6775 |      3.9050 |            22.1153 |      0.9049 | \n",
      "    5 | 00m31s |   -0.49567 |             0.8520 |    2.5386 |      2.4741 |            14.4536 |      0.9506 | \n",
      "    6 | 00m39s |   -0.49586 |             0.8542 |    2.0906 |      4.5151 |            14.6714 |      0.9481 | \n",
      "    7 | 00m32s |   -0.49568 |             0.8814 |    3.1398 |      2.1897 |            24.4768 |      0.9390 | \n",
      "    8 | 00m40s |   -0.49567 |             0.9789 |    3.0642 |      2.1269 |            30.2788 |      0.9800 | \n",
      "    9 | 00m32s |   -0.49578 |             0.9714 |    2.3440 |      2.5789 |            29.6054 |      0.9246 | \n",
      "   10 | 00m36s |   -0.49562 |             0.7293 |    3.3707 |      3.4371 |            19.9536 |      0.9822 | \n"
     ]
    },
    {
     "name": "stderr",
     "output_type": "stream",
     "text": [
      "E:\\junxiao\\Anaconda2\\lib\\site-packages\\sklearn\\gaussian_process\\gpr.py:427: UserWarning: fmin_l_bfgs_b terminated abnormally with the  state: {'warnflag': 2, 'task': 'ABNORMAL_TERMINATION_IN_LNSRCH', 'grad': array([  1.61342813e-05]), 'nit': 8, 'funcalls': 69}\n",
      "  \" state: %s\" % convergence_dict)\n",
      "E:\\junxiao\\Anaconda2\\lib\\site-packages\\sklearn\\gaussian_process\\gpr.py:427: UserWarning: fmin_l_bfgs_b terminated abnormally with the  state: {'warnflag': 2, 'task': 'ABNORMAL_TERMINATION_IN_LNSRCH', 'grad': array([ -1.41845978e-05]), 'nit': 8, 'funcalls': 57}\n",
      "  \" state: %s\" % convergence_dict)\n",
      "E:\\junxiao\\Anaconda2\\lib\\site-packages\\sklearn\\gaussian_process\\gpr.py:308: UserWarning: Predicted variances smaller than 0. Setting those variances to 0.\n",
      "  warnings.warn(\"Predicted variances smaller than 0. \"\n"
     ]
    },
    {
     "name": "stdout",
     "output_type": "stream",
     "text": [
      "\u001b[31mBayesian Optimization\u001b[0m\n",
      "\u001b[94m---------------------------------------------------------------------------------------------------------------\u001b[0m\n",
      " Step |   Time |      Value |   colsample_bytree |     gamma |   max_depth |   min_child_weight |   subsample | \n"
     ]
    },
    {
     "name": "stderr",
     "output_type": "stream",
     "text": [
      "E:\\junxiao\\Anaconda2\\lib\\site-packages\\sklearn\\gaussian_process\\gpr.py:427: UserWarning: fmin_l_bfgs_b terminated abnormally with the  state: {'warnflag': 2, 'task': 'ABNORMAL_TERMINATION_IN_LNSRCH', 'grad': array([ 0.00037539]), 'nit': 7, 'funcalls': 52}\n",
      "  \" state: %s\" % convergence_dict)\n",
      "E:\\junxiao\\Anaconda2\\lib\\site-packages\\sklearn\\gaussian_process\\gpr.py:427: UserWarning: fmin_l_bfgs_b terminated abnormally with the  state: {'warnflag': 2, 'task': 'ABNORMAL_TERMINATION_IN_LNSRCH', 'grad': array([-0.00047092]), 'nit': 6, 'funcalls': 52}\n",
      "  \" state: %s\" % convergence_dict)\n",
      "E:\\junxiao\\Anaconda2\\lib\\site-packages\\sklearn\\gaussian_process\\gpr.py:427: UserWarning: fmin_l_bfgs_b terminated abnormally with the  state: {'warnflag': 2, 'task': 'ABNORMAL_TERMINATION_IN_LNSRCH', 'grad': array([ -1.02509803e-05]), 'nit': 7, 'funcalls': 53}\n",
      "  \" state: %s\" % convergence_dict)\n",
      "E:\\junxiao\\Anaconda2\\lib\\site-packages\\sklearn\\gaussian_process\\gpr.py:427: UserWarning: fmin_l_bfgs_b terminated abnormally with the  state: {'warnflag': 2, 'task': 'ABNORMAL_TERMINATION_IN_LNSRCH', 'grad': array([-0.00016937]), 'nit': 6, 'funcalls': 51}\n",
      "  \" state: %s\" % convergence_dict)\n"
     ]
    },
    {
     "name": "stdout",
     "output_type": "stream",
     "text": [
      "   11 | 00m58s |   -0.49567 |             0.6510 |    2.5749 |      2.0859 |             8.2187 |      0.9208 | \n"
     ]
    },
    {
     "name": "stderr",
     "output_type": "stream",
     "text": [
      "E:\\junxiao\\Anaconda2\\lib\\site-packages\\sklearn\\gaussian_process\\gpr.py:427: UserWarning: fmin_l_bfgs_b terminated abnormally with the  state: {'warnflag': 2, 'task': 'ABNORMAL_TERMINATION_IN_LNSRCH', 'grad': array([-0.00038306]), 'nit': 6, 'funcalls': 53}\n",
      "  \" state: %s\" % convergence_dict)\n"
     ]
    },
    {
     "name": "stdout",
     "output_type": "stream",
     "text": [
      "   12 | 00m49s |   -0.49563 |             0.8099 |    3.2933 |      4.8511 |            31.8140 |      0.9691 | \n"
     ]
    },
    {
     "name": "stderr",
     "output_type": "stream",
     "text": [
      "E:\\junxiao\\Anaconda2\\lib\\site-packages\\sklearn\\gaussian_process\\gpr.py:427: UserWarning: fmin_l_bfgs_b terminated abnormally with the  state: {'warnflag': 2, 'task': 'ABNORMAL_TERMINATION_IN_LNSRCH', 'grad': array([ 0.00051279]), 'nit': 9, 'funcalls': 59}\n",
      "  \" state: %s\" % convergence_dict)\n",
      "E:\\junxiao\\Anaconda2\\lib\\site-packages\\sklearn\\gaussian_process\\gpr.py:427: UserWarning: fmin_l_bfgs_b terminated abnormally with the  state: {'warnflag': 2, 'task': 'ABNORMAL_TERMINATION_IN_LNSRCH', 'grad': array([-0.00258027]), 'nit': 6, 'funcalls': 56}\n",
      "  \" state: %s\" % convergence_dict)\n",
      "E:\\junxiao\\Anaconda2\\lib\\site-packages\\sklearn\\gaussian_process\\gpr.py:427: UserWarning: fmin_l_bfgs_b terminated abnormally with the  state: {'warnflag': 2, 'task': 'ABNORMAL_TERMINATION_IN_LNSRCH', 'grad': array([  7.00658129e-05]), 'nit': 8, 'funcalls': 75}\n",
      "  \" state: %s\" % convergence_dict)\n"
     ]
    },
    {
     "name": "stdout",
     "output_type": "stream",
     "text": [
      "   13 | 00m38s |   -0.49579 |             0.6136 |    2.3862 |      2.0341 |            31.6993 |      0.9031 | \n",
      "   14 | 00m45s | \u001b[35m  -0.49544\u001b[0m | \u001b[32m            0.8004\u001b[0m | \u001b[32m   3.4884\u001b[0m | \u001b[32m     3.8224\u001b[0m | \u001b[32m           29.9790\u001b[0m | \u001b[32m     0.9061\u001b[0m | \n"
     ]
    },
    {
     "name": "stderr",
     "output_type": "stream",
     "text": [
      "E:\\junxiao\\Anaconda2\\lib\\site-packages\\sklearn\\gaussian_process\\gpr.py:427: UserWarning: fmin_l_bfgs_b terminated abnormally with the  state: {'warnflag': 2, 'task': 'ABNORMAL_TERMINATION_IN_LNSRCH', 'grad': array([ 0.00326221]), 'nit': 7, 'funcalls': 53}\n",
      "  \" state: %s\" % convergence_dict)\n",
      "E:\\junxiao\\Anaconda2\\lib\\site-packages\\sklearn\\gaussian_process\\gpr.py:427: UserWarning: fmin_l_bfgs_b terminated abnormally with the  state: {'warnflag': 2, 'task': 'ABNORMAL_TERMINATION_IN_LNSRCH', 'grad': array([ -6.43451422e-05]), 'nit': 8, 'funcalls': 56}\n",
      "  \" state: %s\" % convergence_dict)\n"
     ]
    },
    {
     "name": "stdout",
     "output_type": "stream",
     "text": [
      "   15 | 00m46s |   -0.49578 |             0.7569 |    3.0928 |      4.3476 |            24.8132 |      0.9478 | \n"
     ]
    },
    {
     "name": "stderr",
     "output_type": "stream",
     "text": [
      "E:\\junxiao\\Anaconda2\\lib\\site-packages\\sklearn\\gaussian_process\\gpr.py:427: UserWarning: fmin_l_bfgs_b terminated abnormally with the  state: {'warnflag': 2, 'task': 'ABNORMAL_TERMINATION_IN_LNSRCH', 'grad': array([-0.0002096]), 'nit': 4, 'funcalls': 46}\n",
      "  \" state: %s\" % convergence_dict)\n",
      "E:\\junxiao\\Anaconda2\\lib\\site-packages\\sklearn\\gaussian_process\\gpr.py:427: UserWarning: fmin_l_bfgs_b terminated abnormally with the  state: {'warnflag': 2, 'task': 'ABNORMAL_TERMINATION_IN_LNSRCH', 'grad': array([ -5.73527045e-05]), 'nit': 8, 'funcalls': 56}\n",
      "  \" state: %s\" % convergence_dict)\n",
      "E:\\junxiao\\Anaconda2\\lib\\site-packages\\sklearn\\gaussian_process\\gpr.py:427: UserWarning: fmin_l_bfgs_b terminated abnormally with the  state: {'warnflag': 2, 'task': 'ABNORMAL_TERMINATION_IN_LNSRCH', 'grad': array([ -3.64832713e-05]), 'nit': 6, 'funcalls': 52}\n",
      "  \" state: %s\" % convergence_dict)\n"
     ]
    },
    {
     "name": "stdout",
     "output_type": "stream",
     "text": [
      "   16 | 00m53s |   -0.49557 |             0.8294 |    3.4177 |      4.7066 |             8.1467 |      0.9643 | \n"
     ]
    },
    {
     "name": "stderr",
     "output_type": "stream",
     "text": [
      "E:\\junxiao\\Anaconda2\\lib\\site-packages\\sklearn\\gaussian_process\\gpr.py:427: UserWarning: fmin_l_bfgs_b terminated abnormally with the  state: {'warnflag': 2, 'task': 'ABNORMAL_TERMINATION_IN_LNSRCH', 'grad': array([-0.00039547]), 'nit': 6, 'funcalls': 52}\n",
      "  \" state: %s\" % convergence_dict)\n"
     ]
    },
    {
     "name": "stdout",
     "output_type": "stream",
     "text": [
      "   17 | 00m48s |   -0.49569 |             0.9047 |    2.2393 |      2.2233 |            21.3569 |      0.9663 | \n"
     ]
    },
    {
     "name": "stderr",
     "output_type": "stream",
     "text": [
      "E:\\junxiao\\Anaconda2\\lib\\site-packages\\sklearn\\gaussian_process\\gpr.py:427: UserWarning: fmin_l_bfgs_b terminated abnormally with the  state: {'warnflag': 2, 'task': 'ABNORMAL_TERMINATION_IN_LNSRCH', 'grad': array([-0.00075149]), 'nit': 8, 'funcalls': 74}\n",
      "  \" state: %s\" % convergence_dict)\n",
      "E:\\junxiao\\Anaconda2\\lib\\site-packages\\sklearn\\gaussian_process\\gpr.py:427: UserWarning: fmin_l_bfgs_b terminated abnormally with the  state: {'warnflag': 2, 'task': 'ABNORMAL_TERMINATION_IN_LNSRCH', 'grad': array([  6.10865900e-05]), 'nit': 7, 'funcalls': 57}\n",
      "  \" state: %s\" % convergence_dict)\n"
     ]
    },
    {
     "name": "stdout",
     "output_type": "stream",
     "text": [
      "   18 | 00m48s |   -0.49568 |             0.8347 |    3.1380 |      4.1737 |            30.8632 |      0.9132 | \n"
     ]
    },
    {
     "name": "stderr",
     "output_type": "stream",
     "text": [
      "E:\\junxiao\\Anaconda2\\lib\\site-packages\\sklearn\\gaussian_process\\gpr.py:427: UserWarning: fmin_l_bfgs_b terminated abnormally with the  state: {'warnflag': 2, 'task': 'ABNORMAL_TERMINATION_IN_LNSRCH', 'grad': array([ -1.28118918e-05]), 'nit': 8, 'funcalls': 55}\n",
      "  \" state: %s\" % convergence_dict)\n"
     ]
    },
    {
     "name": "stdout",
     "output_type": "stream",
     "text": [
      "   19 | 00m47s |   -0.49564 |             0.7200 |    2.0236 |      4.7787 |             8.1833 |      0.9277 | \n"
     ]
    },
    {
     "name": "stderr",
     "output_type": "stream",
     "text": [
      "E:\\junxiao\\Anaconda2\\lib\\site-packages\\sklearn\\gaussian_process\\gpr.py:427: UserWarning: fmin_l_bfgs_b terminated abnormally with the  state: {'warnflag': 2, 'task': 'ABNORMAL_TERMINATION_IN_LNSRCH', 'grad': array([-0.00046212]), 'nit': 6, 'funcalls': 52}\n",
      "  \" state: %s\" % convergence_dict)\n"
     ]
    },
    {
     "name": "stdout",
     "output_type": "stream",
     "text": [
      "   20 | 00m48s |   -0.49565 |             0.7125 |    3.4869 |      2.0066 |            16.8926 |      0.9099 | \n"
     ]
    },
    {
     "name": "stderr",
     "output_type": "stream",
     "text": [
      "E:\\junxiao\\Anaconda2\\lib\\site-packages\\sklearn\\gaussian_process\\gpr.py:427: UserWarning: fmin_l_bfgs_b terminated abnormally with the  state: {'warnflag': 2, 'task': 'ABNORMAL_TERMINATION_IN_LNSRCH', 'grad': array([ 0.00123812]), 'nit': 8, 'funcalls': 61}\n",
      "  \" state: %s\" % convergence_dict)\n",
      "E:\\junxiao\\Anaconda2\\lib\\site-packages\\sklearn\\gaussian_process\\gpr.py:427: UserWarning: fmin_l_bfgs_b terminated abnormally with the  state: {'warnflag': 2, 'task': 'ABNORMAL_TERMINATION_IN_LNSRCH', 'grad': array([-0.00016364]), 'nit': 7, 'funcalls': 78}\n",
      "  \" state: %s\" % convergence_dict)\n"
     ]
    },
    {
     "name": "stdout",
     "output_type": "stream",
     "text": [
      "   21 | 00m45s |   -0.49560 |             0.8235 |    3.0270 |      2.3641 |            12.1071 |      0.9004 | \n",
      "   22 | 00m45s |   -0.49578 |             0.7248 |    3.2664 |      4.2609 |            29.4066 |      0.9660 | \n"
     ]
    },
    {
     "name": "stderr",
     "output_type": "stream",
     "text": [
      "E:\\junxiao\\Anaconda2\\lib\\site-packages\\sklearn\\gaussian_process\\gpr.py:427: UserWarning: fmin_l_bfgs_b terminated abnormally with the  state: {'warnflag': 2, 'task': 'ABNORMAL_TERMINATION_IN_LNSRCH', 'grad': array([-0.00606258]), 'nit': 6, 'funcalls': 75}\n",
      "  \" state: %s\" % convergence_dict)\n",
      "E:\\junxiao\\Anaconda2\\lib\\site-packages\\sklearn\\gaussian_process\\gpr.py:427: UserWarning: fmin_l_bfgs_b terminated abnormally with the  state: {'warnflag': 2, 'task': 'ABNORMAL_TERMINATION_IN_LNSRCH', 'grad': array([-0.00015736]), 'nit': 6, 'funcalls': 52}\n",
      "  \" state: %s\" % convergence_dict)\n"
     ]
    },
    {
     "name": "stdout",
     "output_type": "stream",
     "text": [
      "   23 | 00m47s |   -0.49576 |             0.7053 |    3.4460 |      4.9858 |            11.2069 |      0.9452 | \n"
     ]
    },
    {
     "name": "stderr",
     "output_type": "stream",
     "text": [
      "E:\\junxiao\\Anaconda2\\lib\\site-packages\\sklearn\\gaussian_process\\gpr.py:427: UserWarning: fmin_l_bfgs_b terminated abnormally with the  state: {'warnflag': 2, 'task': 'ABNORMAL_TERMINATION_IN_LNSRCH', 'grad': array([-0.00202173]), 'nit': 5, 'funcalls': 52}\n",
      "  \" state: %s\" % convergence_dict)\n"
     ]
    },
    {
     "name": "stdout",
     "output_type": "stream",
     "text": [
      "   24 | 00m49s |   -0.49547 |             0.8061 |    3.3858 |      3.0715 |            31.9370 |      0.9075 | \n"
     ]
    },
    {
     "name": "stderr",
     "output_type": "stream",
     "text": [
      "E:\\junxiao\\Anaconda2\\lib\\site-packages\\sklearn\\gaussian_process\\gpr.py:427: UserWarning: fmin_l_bfgs_b terminated abnormally with the  state: {'warnflag': 2, 'task': 'ABNORMAL_TERMINATION_IN_LNSRCH', 'grad': array([-0.00015107]), 'nit': 9, 'funcalls': 68}\n",
      "  \" state: %s\" % convergence_dict)\n"
     ]
    },
    {
     "name": "stdout",
     "output_type": "stream",
     "text": [
      "   25 | 00m45s |   -0.49545 |             0.8870 |    3.4247 |      3.1929 |            21.7550 |      0.9311 | \n"
     ]
    },
    {
     "name": "stderr",
     "output_type": "stream",
     "text": [
      "E:\\junxiao\\Anaconda2\\lib\\site-packages\\sklearn\\gaussian_process\\gpr.py:427: UserWarning: fmin_l_bfgs_b terminated abnormally with the  state: {'warnflag': 2, 'task': 'ABNORMAL_TERMINATION_IN_LNSRCH', 'grad': array([  6.50007200e-05]), 'nit': 10, 'funcalls': 73}\n",
      "  \" state: %s\" % convergence_dict)\n",
      "E:\\junxiao\\Anaconda2\\lib\\site-packages\\sklearn\\gaussian_process\\gpr.py:427: UserWarning: fmin_l_bfgs_b terminated abnormally with the  state: {'warnflag': 2, 'task': 'ABNORMAL_TERMINATION_IN_LNSRCH', 'grad': array([ -3.67972768e-05]), 'nit': 6, 'funcalls': 66}\n",
      "  \" state: %s\" % convergence_dict)\n",
      "E:\\junxiao\\Anaconda2\\lib\\site-packages\\sklearn\\gaussian_process\\gpr.py:427: UserWarning: fmin_l_bfgs_b terminated abnormally with the  state: {'warnflag': 2, 'task': 'ABNORMAL_TERMINATION_IN_LNSRCH', 'grad': array([-0.00121786]), 'nit': 5, 'funcalls': 52}\n",
      "  \" state: %s\" % convergence_dict)\n",
      "E:\\junxiao\\Anaconda2\\lib\\site-packages\\sklearn\\gaussian_process\\gpr.py:427: UserWarning: fmin_l_bfgs_b terminated abnormally with the  state: {'warnflag': 2, 'task': 'ABNORMAL_TERMINATION_IN_LNSRCH', 'grad': array([-0.00482393]), 'nit': 5, 'funcalls': 50}\n",
      "  \" state: %s\" % convergence_dict)\n",
      "E:\\junxiao\\Anaconda2\\lib\\site-packages\\sklearn\\gaussian_process\\gpr.py:427: UserWarning: fmin_l_bfgs_b terminated abnormally with the  state: {'warnflag': 2, 'task': 'ABNORMAL_TERMINATION_IN_LNSRCH', 'grad': array([-0.00117535]), 'nit': 6, 'funcalls': 71}\n",
      "  \" state: %s\" % convergence_dict)\n",
      "E:\\junxiao\\Anaconda2\\lib\\site-packages\\sklearn\\gaussian_process\\gpr.py:427: UserWarning: fmin_l_bfgs_b terminated abnormally with the  state: {'warnflag': 2, 'task': 'ABNORMAL_TERMINATION_IN_LNSRCH', 'grad': array([-0.00186855]), 'nit': 5, 'funcalls': 52}\n",
      "  \" state: %s\" % convergence_dict)\n"
     ]
    },
    {
     "name": "stdout",
     "output_type": "stream",
     "text": [
      "   26 | 00m36s |   -0.49567 |             0.6055 |    3.4831 |      2.1683 |            27.2719 |      0.9432 | \n"
     ]
    },
    {
     "name": "stderr",
     "output_type": "stream",
     "text": [
      "E:\\junxiao\\Anaconda2\\lib\\site-packages\\sklearn\\gaussian_process\\gpr.py:427: UserWarning: fmin_l_bfgs_b terminated abnormally with the  state: {'warnflag': 2, 'task': 'ABNORMAL_TERMINATION_IN_LNSRCH', 'grad': array([ 0.00982979]), 'nit': 7, 'funcalls': 54}\n",
      "  \" state: %s\" % convergence_dict)\n",
      "E:\\junxiao\\Anaconda2\\lib\\site-packages\\sklearn\\gaussian_process\\gpr.py:427: UserWarning: fmin_l_bfgs_b terminated abnormally with the  state: {'warnflag': 2, 'task': 'ABNORMAL_TERMINATION_IN_LNSRCH', 'grad': array([ -5.74288570e-05]), 'nit': 7, 'funcalls': 77}\n",
      "  \" state: %s\" % convergence_dict)\n"
     ]
    },
    {
     "name": "stdout",
     "output_type": "stream",
     "text": [
      "   27 | 00m43s |   -0.49565 |             0.8551 |    3.4426 |      2.2489 |            19.1470 |      0.9585 | \n"
     ]
    },
    {
     "name": "stderr",
     "output_type": "stream",
     "text": [
      "E:\\junxiao\\Anaconda2\\lib\\site-packages\\sklearn\\gaussian_process\\gpr.py:427: UserWarning: fmin_l_bfgs_b terminated abnormally with the  state: {'warnflag': 2, 'task': 'ABNORMAL_TERMINATION_IN_LNSRCH', 'grad': array([ 0.00724407]), 'nit': 7, 'funcalls': 54}\n",
      "  \" state: %s\" % convergence_dict)\n",
      "E:\\junxiao\\Anaconda2\\lib\\site-packages\\sklearn\\gaussian_process\\gpr.py:427: UserWarning: fmin_l_bfgs_b terminated abnormally with the  state: {'warnflag': 2, 'task': 'ABNORMAL_TERMINATION_IN_LNSRCH', 'grad': array([-0.00218936]), 'nit': 5, 'funcalls': 52}\n",
      "  \" state: %s\" % convergence_dict)\n"
     ]
    },
    {
     "name": "stdout",
     "output_type": "stream",
     "text": [
      "   28 | 00m44s |   -0.49566 |             0.7697 |    3.3789 |      2.0815 |            17.7482 |      0.9773 | \n"
     ]
    },
    {
     "name": "stderr",
     "output_type": "stream",
     "text": [
      "E:\\junxiao\\Anaconda2\\lib\\site-packages\\sklearn\\gaussian_process\\gpr.py:427: UserWarning: fmin_l_bfgs_b terminated abnormally with the  state: {'warnflag': 2, 'task': 'ABNORMAL_TERMINATION_IN_LNSRCH', 'grad': array([-0.00318895]), 'nit': 4, 'funcalls': 55}\n",
      "  \" state: %s\" % convergence_dict)\n",
      "E:\\junxiao\\Anaconda2\\lib\\site-packages\\sklearn\\gaussian_process\\gpr.py:427: UserWarning: fmin_l_bfgs_b terminated abnormally with the  state: {'warnflag': 2, 'task': 'ABNORMAL_TERMINATION_IN_LNSRCH', 'grad': array([-0.00178311]), 'nit': 5, 'funcalls': 49}\n",
      "  \" state: %s\" % convergence_dict)\n"
     ]
    },
    {
     "name": "stdout",
     "output_type": "stream",
     "text": [
      "   29 | 00m51s |   -0.49571 |             0.6244 |    3.3679 |      2.6054 |            22.7811 |      0.9195 | \n"
     ]
    },
    {
     "name": "stderr",
     "output_type": "stream",
     "text": [
      "E:\\junxiao\\Anaconda2\\lib\\site-packages\\sklearn\\gaussian_process\\gpr.py:427: UserWarning: fmin_l_bfgs_b terminated abnormally with the  state: {'warnflag': 2, 'task': 'ABNORMAL_TERMINATION_IN_LNSRCH', 'grad': array([-0.00016532]), 'nit': 6, 'funcalls': 52}\n",
      "  \" state: %s\" % convergence_dict)\n"
     ]
    },
    {
     "name": "stdout",
     "output_type": "stream",
     "text": [
      "   30 | 00m40s |   -0.49553 |             0.8680 |    2.8894 |      3.2277 |            17.1902 |      0.9697 | \n"
     ]
    },
    {
     "name": "stderr",
     "output_type": "stream",
     "text": [
      "E:\\junxiao\\Anaconda2\\lib\\site-packages\\sklearn\\gaussian_process\\gpr.py:427: UserWarning: fmin_l_bfgs_b terminated abnormally with the  state: {'warnflag': 2, 'task': 'ABNORMAL_TERMINATION_IN_LNSRCH', 'grad': array([ 0.00704542]), 'nit': 4, 'funcalls': 49}\n",
      "  \" state: %s\" % convergence_dict)\n"
     ]
    },
    {
     "name": "stdout",
     "output_type": "stream",
     "text": [
      "   31 | 00m55s |   -0.49566 |             0.8530 |    3.3033 |      4.7762 |            20.5961 |      0.9189 | \n"
     ]
    },
    {
     "name": "stderr",
     "output_type": "stream",
     "text": [
      "E:\\junxiao\\Anaconda2\\lib\\site-packages\\sklearn\\gaussian_process\\gpr.py:427: UserWarning: fmin_l_bfgs_b terminated abnormally with the  state: {'warnflag': 2, 'task': 'ABNORMAL_TERMINATION_IN_LNSRCH', 'grad': array([-0.00170924]), 'nit': 5, 'funcalls': 52}\n",
      "  \" state: %s\" % convergence_dict)\n"
     ]
    },
    {
     "name": "stdout",
     "output_type": "stream",
     "text": [
      "   32 | 00m51s |   -0.49558 |             0.8202 |    3.3198 |      4.9713 |             9.6092 |      0.9010 | \n"
     ]
    },
    {
     "name": "stderr",
     "output_type": "stream",
     "text": [
      "E:\\junxiao\\Anaconda2\\lib\\site-packages\\sklearn\\gaussian_process\\gpr.py:427: UserWarning: fmin_l_bfgs_b terminated abnormally with the  state: {'warnflag': 2, 'task': 'ABNORMAL_TERMINATION_IN_LNSRCH', 'grad': array([ 0.0032857]), 'nit': 8, 'funcalls': 94}\n",
      "  \" state: %s\" % convergence_dict)\n",
      "E:\\junxiao\\Anaconda2\\lib\\site-packages\\sklearn\\gaussian_process\\gpr.py:427: UserWarning: fmin_l_bfgs_b terminated abnormally with the  state: {'warnflag': 2, 'task': 'ABNORMAL_TERMINATION_IN_LNSRCH', 'grad': array([-0.00353893]), 'nit': 5, 'funcalls': 49}\n",
      "  \" state: %s\" % convergence_dict)\n",
      "E:\\junxiao\\Anaconda2\\lib\\site-packages\\sklearn\\gaussian_process\\gpr.py:427: UserWarning: fmin_l_bfgs_b terminated abnormally with the  state: {'warnflag': 2, 'task': 'ABNORMAL_TERMINATION_IN_LNSRCH', 'grad': array([-0.00212786]), 'nit': 5, 'funcalls': 52}\n",
      "  \" state: %s\" % convergence_dict)\n",
      "E:\\junxiao\\Anaconda2\\lib\\site-packages\\sklearn\\gaussian_process\\gpr.py:427: UserWarning: fmin_l_bfgs_b terminated abnormally with the  state: {'warnflag': 2, 'task': 'ABNORMAL_TERMINATION_IN_LNSRCH', 'grad': array([-0.00167924]), 'nit': 6, 'funcalls': 64}\n",
      "  \" state: %s\" % convergence_dict)\n"
     ]
    },
    {
     "name": "stdout",
     "output_type": "stream",
     "text": [
      "   33 | 00m45s |   -0.49562 |             0.9956 |    2.2791 |      3.4732 |            18.5400 |      0.9739 | \n"
     ]
    },
    {
     "name": "stderr",
     "output_type": "stream",
     "text": [
      "E:\\junxiao\\Anaconda2\\lib\\site-packages\\sklearn\\gaussian_process\\gpr.py:427: UserWarning: fmin_l_bfgs_b terminated abnormally with the  state: {'warnflag': 2, 'task': 'ABNORMAL_TERMINATION_IN_LNSRCH', 'grad': array([ 0.00720903]), 'nit': 8, 'funcalls': 59}\n",
      "  \" state: %s\" % convergence_dict)\n"
     ]
    },
    {
     "name": "stdout",
     "output_type": "stream",
     "text": [
      "   34 | 00m44s |   -0.49579 |             0.9920 |    2.0163 |      2.5941 |            10.5714 |      0.9749 | \n"
     ]
    },
    {
     "name": "stderr",
     "output_type": "stream",
     "text": [
      "E:\\junxiao\\Anaconda2\\lib\\site-packages\\sklearn\\gaussian_process\\gpr.py:427: UserWarning: fmin_l_bfgs_b terminated abnormally with the  state: {'warnflag': 2, 'task': 'ABNORMAL_TERMINATION_IN_LNSRCH', 'grad': array([-0.00012407]), 'nit': 7, 'funcalls': 73}\n",
      "  \" state: %s\" % convergence_dict)\n",
      "E:\\junxiao\\Anaconda2\\lib\\site-packages\\sklearn\\gaussian_process\\gpr.py:427: UserWarning: fmin_l_bfgs_b terminated abnormally with the  state: {'warnflag': 2, 'task': 'ABNORMAL_TERMINATION_IN_LNSRCH', 'grad': array([ -4.26912447e-05]), 'nit': 8, 'funcalls': 55}\n",
      "  \" state: %s\" % convergence_dict)\n",
      "E:\\junxiao\\Anaconda2\\lib\\site-packages\\sklearn\\gaussian_process\\gpr.py:427: UserWarning: fmin_l_bfgs_b terminated abnormally with the  state: {'warnflag': 2, 'task': 'ABNORMAL_TERMINATION_IN_LNSRCH', 'grad': array([-0.00259039]), 'nit': 6, 'funcalls': 71}\n",
      "  \" state: %s\" % convergence_dict)\n"
     ]
    },
    {
     "name": "stdout",
     "output_type": "stream",
     "text": [
      "   35 | 00m48s |   -0.49567 |             0.8551 |    3.4234 |      3.6707 |            17.1510 |      0.9268 | \n"
     ]
    },
    {
     "name": "stderr",
     "output_type": "stream",
     "text": [
      "E:\\junxiao\\Anaconda2\\lib\\site-packages\\sklearn\\gaussian_process\\gpr.py:427: UserWarning: fmin_l_bfgs_b terminated abnormally with the  state: {'warnflag': 2, 'task': 'ABNORMAL_TERMINATION_IN_LNSRCH', 'grad': array([-0.00221874]), 'nit': 2, 'funcalls': 49}\n",
      "  \" state: %s\" % convergence_dict)\n",
      "E:\\junxiao\\Anaconda2\\lib\\site-packages\\sklearn\\gaussian_process\\gpr.py:427: UserWarning: fmin_l_bfgs_b terminated abnormally with the  state: {'warnflag': 2, 'task': 'ABNORMAL_TERMINATION_IN_LNSRCH', 'grad': array([ -7.07996951e-05]), 'nit': 4, 'funcalls': 59}\n",
      "  \" state: %s\" % convergence_dict)\n",
      "E:\\junxiao\\Anaconda2\\lib\\site-packages\\sklearn\\gaussian_process\\gpr.py:427: UserWarning: fmin_l_bfgs_b terminated abnormally with the  state: {'warnflag': 2, 'task': 'ABNORMAL_TERMINATION_IN_LNSRCH', 'grad': array([ 0.00685453]), 'nit': 7, 'funcalls': 54}\n",
      "  \" state: %s\" % convergence_dict)\n",
      "E:\\junxiao\\Anaconda2\\lib\\site-packages\\sklearn\\gaussian_process\\gpr.py:427: UserWarning: fmin_l_bfgs_b terminated abnormally with the  state: {'warnflag': 2, 'task': 'ABNORMAL_TERMINATION_IN_LNSRCH', 'grad': array([ -9.03127766e-05]), 'nit': 4, 'funcalls': 48}\n",
      "  \" state: %s\" % convergence_dict)\n",
      "E:\\junxiao\\Anaconda2\\lib\\site-packages\\sklearn\\gaussian_process\\gpr.py:427: UserWarning: fmin_l_bfgs_b terminated abnormally with the  state: {'warnflag': 2, 'task': 'ABNORMAL_TERMINATION_IN_LNSRCH', 'grad': array([-0.00121412]), 'nit': 6, 'funcalls': 68}\n",
      "  \" state: %s\" % convergence_dict)\n",
      "E:\\junxiao\\Anaconda2\\lib\\site-packages\\sklearn\\gaussian_process\\gpr.py:427: UserWarning: fmin_l_bfgs_b terminated abnormally with the  state: {'warnflag': 2, 'task': 'ABNORMAL_TERMINATION_IN_LNSRCH', 'grad': array([ -1.74374036e-05]), 'nit': 7, 'funcalls': 89}\n",
      "  \" state: %s\" % convergence_dict)\n",
      "E:\\junxiao\\Anaconda2\\lib\\site-packages\\sklearn\\gaussian_process\\gpr.py:427: UserWarning: fmin_l_bfgs_b terminated abnormally with the  state: {'warnflag': 2, 'task': 'ABNORMAL_TERMINATION_IN_LNSRCH', 'grad': array([-0.00334146]), 'nit': 5, 'funcalls': 52}\n",
      "  \" state: %s\" % convergence_dict)\n",
      "E:\\junxiao\\Anaconda2\\lib\\site-packages\\sklearn\\gaussian_process\\gpr.py:427: UserWarning: fmin_l_bfgs_b terminated abnormally with the  state: {'warnflag': 2, 'task': 'ABNORMAL_TERMINATION_IN_LNSRCH', 'grad': array([-0.00016407]), 'nit': 7, 'funcalls': 70}\n",
      "  \" state: %s\" % convergence_dict)\n",
      "E:\\junxiao\\Anaconda2\\lib\\site-packages\\sklearn\\gaussian_process\\gpr.py:427: UserWarning: fmin_l_bfgs_b terminated abnormally with the  state: {'warnflag': 2, 'task': 'ABNORMAL_TERMINATION_IN_LNSRCH', 'grad': array([-0.00014165]), 'nit': 6, 'funcalls': 52}\n",
      "  \" state: %s\" % convergence_dict)\n"
     ]
    },
    {
     "name": "stdout",
     "output_type": "stream",
     "text": [
      "   36 | 00m50s |   -0.49559 |             0.9794 |    2.8120 |      3.6170 |            21.8309 |      0.9498 | \n"
     ]
    },
    {
     "name": "stderr",
     "output_type": "stream",
     "text": [
      "E:\\junxiao\\Anaconda2\\lib\\site-packages\\sklearn\\gaussian_process\\gpr.py:427: UserWarning: fmin_l_bfgs_b terminated abnormally with the  state: {'warnflag': 2, 'task': 'ABNORMAL_TERMINATION_IN_LNSRCH', 'grad': array([ -1.25572551e-05]), 'nit': 3, 'funcalls': 51}\n",
      "  \" state: %s\" % convergence_dict)\n",
      "E:\\junxiao\\Anaconda2\\lib\\site-packages\\sklearn\\gaussian_process\\gpr.py:427: UserWarning: fmin_l_bfgs_b terminated abnormally with the  state: {'warnflag': 2, 'task': 'ABNORMAL_TERMINATION_IN_LNSRCH', 'grad': array([ -1.36708841e-05]), 'nit': 8, 'funcalls': 55}\n",
      "  \" state: %s\" % convergence_dict)\n",
      "E:\\junxiao\\Anaconda2\\lib\\site-packages\\sklearn\\gaussian_process\\gpr.py:427: UserWarning: fmin_l_bfgs_b terminated abnormally with the  state: {'warnflag': 2, 'task': 'ABNORMAL_TERMINATION_IN_LNSRCH', 'grad': array([-0.00015083]), 'nit': 7, 'funcalls': 72}\n",
      "  \" state: %s\" % convergence_dict)\n"
     ]
    },
    {
     "name": "stdout",
     "output_type": "stream",
     "text": [
      "   37 | 00m47s |   -0.49571 |             0.9804 |    2.2060 |      2.4032 |            17.4185 |      0.9695 | \n"
     ]
    },
    {
     "name": "stderr",
     "output_type": "stream",
     "text": [
      "E:\\junxiao\\Anaconda2\\lib\\site-packages\\sklearn\\gaussian_process\\gpr.py:427: UserWarning: fmin_l_bfgs_b terminated abnormally with the  state: {'warnflag': 2, 'task': 'ABNORMAL_TERMINATION_IN_LNSRCH', 'grad': array([ -1.82779822e-05]), 'nit': 9, 'funcalls': 68}\n",
      "  \" state: %s\" % convergence_dict)\n",
      "E:\\junxiao\\Anaconda2\\lib\\site-packages\\sklearn\\gaussian_process\\gpr.py:427: UserWarning: fmin_l_bfgs_b terminated abnormally with the  state: {'warnflag': 2, 'task': 'ABNORMAL_TERMINATION_IN_LNSRCH', 'grad': array([-0.00032115]), 'nit': 8, 'funcalls': 87}\n",
      "  \" state: %s\" % convergence_dict)\n"
     ]
    },
    {
     "name": "stdout",
     "output_type": "stream",
     "text": [
      "   38 | 00m40s |   -0.49571 |             0.6605 |    2.9604 |      2.4772 |            19.4404 |      0.9495 | \n"
     ]
    },
    {
     "name": "stderr",
     "output_type": "stream",
     "text": [
      "E:\\junxiao\\Anaconda2\\lib\\site-packages\\sklearn\\gaussian_process\\gpr.py:427: UserWarning: fmin_l_bfgs_b terminated abnormally with the  state: {'warnflag': 2, 'task': 'ABNORMAL_TERMINATION_IN_LNSRCH', 'grad': array([ 0.00171263]), 'nit': 7, 'funcalls': 54}\n",
      "  \" state: %s\" % convergence_dict)\n",
      "E:\\junxiao\\Anaconda2\\lib\\site-packages\\sklearn\\gaussian_process\\gpr.py:427: UserWarning: fmin_l_bfgs_b terminated abnormally with the  state: {'warnflag': 2, 'task': 'ABNORMAL_TERMINATION_IN_LNSRCH', 'grad': array([ -1.26262894e-05]), 'nit': 8, 'funcalls': 55}\n",
      "  \" state: %s\" % convergence_dict)\n",
      "E:\\junxiao\\Anaconda2\\lib\\site-packages\\sklearn\\gaussian_process\\gpr.py:427: UserWarning: fmin_l_bfgs_b terminated abnormally with the  state: {'warnflag': 2, 'task': 'ABNORMAL_TERMINATION_IN_LNSRCH', 'grad': array([ -1.32943969e-05]), 'nit': 6, 'funcalls': 52}\n",
      "  \" state: %s\" % convergence_dict)\n"
     ]
    },
    {
     "name": "stdout",
     "output_type": "stream",
     "text": [
      "   39 | 00m49s |   -0.49561 |             0.8492 |    2.1312 |      3.4084 |            13.7532 |      0.9280 | \n"
     ]
    },
    {
     "name": "stderr",
     "output_type": "stream",
     "text": [
      "E:\\junxiao\\Anaconda2\\lib\\site-packages\\sklearn\\gaussian_process\\gpr.py:427: UserWarning: fmin_l_bfgs_b terminated abnormally with the  state: {'warnflag': 2, 'task': 'ABNORMAL_TERMINATION_IN_LNSRCH', 'grad': array([-0.00094664]), 'nit': 3, 'funcalls': 58}\n",
      "  \" state: %s\" % convergence_dict)\n",
      "E:\\junxiao\\Anaconda2\\lib\\site-packages\\sklearn\\gaussian_process\\gpr.py:427: UserWarning: fmin_l_bfgs_b terminated abnormally with the  state: {'warnflag': 2, 'task': 'ABNORMAL_TERMINATION_IN_LNSRCH', 'grad': array([-0.00026956]), 'nit': 5, 'funcalls': 66}\n",
      "  \" state: %s\" % convergence_dict)\n",
      "E:\\junxiao\\Anaconda2\\lib\\site-packages\\sklearn\\gaussian_process\\gpr.py:427: UserWarning: fmin_l_bfgs_b terminated abnormally with the  state: {'warnflag': 2, 'task': 'ABNORMAL_TERMINATION_IN_LNSRCH', 'grad': array([  3.59227579e-05]), 'nit': 8, 'funcalls': 73}\n",
      "  \" state: %s\" % convergence_dict)\n"
     ]
    },
    {
     "name": "stdout",
     "output_type": "stream",
     "text": [
      "   40 | 00m41s |   -0.49568 |             0.7942 |    3.1224 |      3.4001 |            18.0179 |      0.9328 | \n"
     ]
    },
    {
     "name": "stderr",
     "output_type": "stream",
     "text": [
      "E:\\junxiao\\Anaconda2\\lib\\site-packages\\sklearn\\gaussian_process\\gpr.py:427: UserWarning: fmin_l_bfgs_b terminated abnormally with the  state: {'warnflag': 2, 'task': 'ABNORMAL_TERMINATION_IN_LNSRCH', 'grad': array([-0.00042941]), 'nit': 3, 'funcalls': 58}\n",
      "  \" state: %s\" % convergence_dict)\n",
      "E:\\junxiao\\Anaconda2\\lib\\site-packages\\sklearn\\gaussian_process\\gpr.py:427: UserWarning: fmin_l_bfgs_b terminated abnormally with the  state: {'warnflag': 2, 'task': 'ABNORMAL_TERMINATION_IN_LNSRCH', 'grad': array([-0.00628928]), 'nit': 5, 'funcalls': 52}\n",
      "  \" state: %s\" % convergence_dict)\n",
      "E:\\junxiao\\Anaconda2\\lib\\site-packages\\sklearn\\gaussian_process\\gpr.py:427: UserWarning: fmin_l_bfgs_b terminated abnormally with the  state: {'warnflag': 2, 'task': 'ABNORMAL_TERMINATION_IN_LNSRCH', 'grad': array([-0.00765619]), 'nit': 5, 'funcalls': 52}\n",
      "  \" state: %s\" % convergence_dict)\n",
      "E:\\junxiao\\Anaconda2\\lib\\site-packages\\sklearn\\gaussian_process\\gpr.py:427: UserWarning: fmin_l_bfgs_b terminated abnormally with the  state: {'warnflag': 2, 'task': 'ABNORMAL_TERMINATION_IN_LNSRCH', 'grad': array([-0.000137]), 'nit': 6, 'funcalls': 50}\n",
      "  \" state: %s\" % convergence_dict)\n"
     ]
    },
    {
     "name": "stdout",
     "output_type": "stream",
     "text": [
      "   41 | 00m52s |   -0.49566 |             0.9119 |    3.3300 |      2.4591 |            19.8358 |      0.9470 | \n"
     ]
    },
    {
     "name": "stderr",
     "output_type": "stream",
     "text": [
      "E:\\junxiao\\Anaconda2\\lib\\site-packages\\sklearn\\gaussian_process\\gpr.py:427: UserWarning: fmin_l_bfgs_b terminated abnormally with the  state: {'warnflag': 2, 'task': 'ABNORMAL_TERMINATION_IN_LNSRCH', 'grad': array([-0.00633777]), 'nit': 5, 'funcalls': 55}\n",
      "  \" state: %s\" % convergence_dict)\n"
     ]
    },
    {
     "name": "stdout",
     "output_type": "stream",
     "text": [
      "   42 | 00m51s |   -0.49563 |             0.7948 |    3.4018 |      4.3659 |             8.5416 |      0.9543 | \n"
     ]
    },
    {
     "name": "stderr",
     "output_type": "stream",
     "text": [
      "E:\\junxiao\\Anaconda2\\lib\\site-packages\\sklearn\\gaussian_process\\gpr.py:427: UserWarning: fmin_l_bfgs_b terminated abnormally with the  state: {'warnflag': 2, 'task': 'ABNORMAL_TERMINATION_IN_LNSRCH', 'grad': array([ 0.00021407]), 'nit': 6, 'funcalls': 63}\n",
      "  \" state: %s\" % convergence_dict)\n",
      "E:\\junxiao\\Anaconda2\\lib\\site-packages\\sklearn\\gaussian_process\\gpr.py:427: UserWarning: fmin_l_bfgs_b terminated abnormally with the  state: {'warnflag': 2, 'task': 'ABNORMAL_TERMINATION_IN_LNSRCH', 'grad': array([-0.00030363]), 'nit': 4, 'funcalls': 48}\n",
      "  \" state: %s\" % convergence_dict)\n",
      "E:\\junxiao\\Anaconda2\\lib\\site-packages\\sklearn\\gaussian_process\\gpr.py:427: UserWarning: fmin_l_bfgs_b terminated abnormally with the  state: {'warnflag': 2, 'task': 'ABNORMAL_TERMINATION_IN_LNSRCH', 'grad': array([-0.01022332]), 'nit': 6, 'funcalls': 50}\n",
      "  \" state: %s\" % convergence_dict)\n"
     ]
    },
    {
     "name": "stdout",
     "output_type": "stream",
     "text": [
      "   43 | 00m44s |   -0.49576 |             0.7769 |    2.2641 |      2.4444 |            13.3545 |      0.9658 | \n"
     ]
    },
    {
     "name": "stderr",
     "output_type": "stream",
     "text": [
      "E:\\junxiao\\Anaconda2\\lib\\site-packages\\sklearn\\gaussian_process\\gpr.py:427: UserWarning: fmin_l_bfgs_b terminated abnormally with the  state: {'warnflag': 2, 'task': 'ABNORMAL_TERMINATION_IN_LNSRCH', 'grad': array([ -1.09623479e-05]), 'nit': 5, 'funcalls': 51}\n",
      "  \" state: %s\" % convergence_dict)\n",
      "E:\\junxiao\\Anaconda2\\lib\\site-packages\\sklearn\\gaussian_process\\gpr.py:427: UserWarning: fmin_l_bfgs_b terminated abnormally with the  state: {'warnflag': 2, 'task': 'ABNORMAL_TERMINATION_IN_LNSRCH', 'grad': array([ 0.01356373]), 'nit': 4, 'funcalls': 49}\n",
      "  \" state: %s\" % convergence_dict)\n",
      "E:\\junxiao\\Anaconda2\\lib\\site-packages\\sklearn\\gaussian_process\\gpr.py:427: UserWarning: fmin_l_bfgs_b terminated abnormally with the  state: {'warnflag': 2, 'task': 'ABNORMAL_TERMINATION_IN_LNSRCH', 'grad': array([  1.44541960e-05]), 'nit': 6, 'funcalls': 53}\n",
      "  \" state: %s\" % convergence_dict)\n"
     ]
    },
    {
     "name": "stdout",
     "output_type": "stream",
     "text": [
      "   44 | 00m51s | \u001b[35m  -0.49540\u001b[0m | \u001b[32m            0.8424\u001b[0m | \u001b[32m   3.3731\u001b[0m | \u001b[32m     3.7131\u001b[0m | \u001b[32m            8.1060\u001b[0m | \u001b[32m     0.9212\u001b[0m | \n"
     ]
    },
    {
     "name": "stderr",
     "output_type": "stream",
     "text": [
      "E:\\junxiao\\Anaconda2\\lib\\site-packages\\sklearn\\gaussian_process\\gpr.py:427: UserWarning: fmin_l_bfgs_b terminated abnormally with the  state: {'warnflag': 2, 'task': 'ABNORMAL_TERMINATION_IN_LNSRCH', 'grad': array([ -1.19621400e-05]), 'nit': 7, 'funcalls': 52}\n",
      "  \" state: %s\" % convergence_dict)\n",
      "E:\\junxiao\\Anaconda2\\lib\\site-packages\\sklearn\\gaussian_process\\gpr.py:427: UserWarning: fmin_l_bfgs_b terminated abnormally with the  state: {'warnflag': 2, 'task': 'ABNORMAL_TERMINATION_IN_LNSRCH', 'grad': array([-0.00013241]), 'nit': 6, 'funcalls': 67}\n",
      "  \" state: %s\" % convergence_dict)\n",
      "E:\\junxiao\\Anaconda2\\lib\\site-packages\\sklearn\\gaussian_process\\gpr.py:427: UserWarning: fmin_l_bfgs_b terminated abnormally with the  state: {'warnflag': 2, 'task': 'ABNORMAL_TERMINATION_IN_LNSRCH', 'grad': array([  3.69143672e-05]), 'nit': 6, 'funcalls': 53}\n",
      "  \" state: %s\" % convergence_dict)\n"
     ]
    },
    {
     "name": "stdout",
     "output_type": "stream",
     "text": [
      "   45 | 00m46s |   -0.49555 |             0.6022 |    2.6164 |      3.4693 |            18.9328 |      0.9800 | \n"
     ]
    },
    {
     "name": "stderr",
     "output_type": "stream",
     "text": [
      "E:\\junxiao\\Anaconda2\\lib\\site-packages\\sklearn\\gaussian_process\\gpr.py:427: UserWarning: fmin_l_bfgs_b terminated abnormally with the  state: {'warnflag': 2, 'task': 'ABNORMAL_TERMINATION_IN_LNSRCH', 'grad': array([ -8.39157183e-05]), 'nit': 9, 'funcalls': 74}\n",
      "  \" state: %s\" % convergence_dict)\n",
      "E:\\junxiao\\Anaconda2\\lib\\site-packages\\sklearn\\gaussian_process\\gpr.py:427: UserWarning: fmin_l_bfgs_b terminated abnormally with the  state: {'warnflag': 2, 'task': 'ABNORMAL_TERMINATION_IN_LNSRCH', 'grad': array([-0.00026239]), 'nit': 4, 'funcalls': 48}\n",
      "  \" state: %s\" % convergence_dict)\n",
      "E:\\junxiao\\Anaconda2\\lib\\site-packages\\sklearn\\gaussian_process\\gpr.py:427: UserWarning: fmin_l_bfgs_b terminated abnormally with the  state: {'warnflag': 2, 'task': 'ABNORMAL_TERMINATION_IN_LNSRCH', 'grad': array([  7.78502945e-05]), 'nit': 6, 'funcalls': 53}\n",
      "  \" state: %s\" % convergence_dict)\n"
     ]
    },
    {
     "name": "stdout",
     "output_type": "stream",
     "text": [
      "   46 | 00m46s |   -0.49571 |             0.6804 |    3.1738 |      2.7184 |            20.4740 |      0.9297 | \n"
     ]
    },
    {
     "name": "stderr",
     "output_type": "stream",
     "text": [
      "E:\\junxiao\\Anaconda2\\lib\\site-packages\\sklearn\\gaussian_process\\gpr.py:427: UserWarning: fmin_l_bfgs_b terminated abnormally with the  state: {'warnflag': 2, 'task': 'ABNORMAL_TERMINATION_IN_LNSRCH', 'grad': array([  1.56512251e-05]), 'nit': 4, 'funcalls': 52}\n",
      "  \" state: %s\" % convergence_dict)\n",
      "E:\\junxiao\\Anaconda2\\lib\\site-packages\\sklearn\\gaussian_process\\gpr.py:427: UserWarning: fmin_l_bfgs_b terminated abnormally with the  state: {'warnflag': 2, 'task': 'ABNORMAL_TERMINATION_IN_LNSRCH', 'grad': array([ -2.50748126e-05]), 'nit': 9, 'funcalls': 73}\n",
      "  \" state: %s\" % convergence_dict)\n",
      "E:\\junxiao\\Anaconda2\\lib\\site-packages\\sklearn\\gaussian_process\\gpr.py:427: UserWarning: fmin_l_bfgs_b terminated abnormally with the  state: {'warnflag': 2, 'task': 'ABNORMAL_TERMINATION_IN_LNSRCH', 'grad': array([-0.00231465]), 'nit': 6, 'funcalls': 52}\n",
      "  \" state: %s\" % convergence_dict)\n"
     ]
    },
    {
     "name": "stdout",
     "output_type": "stream",
     "text": [
      "   47 | 00m53s |   -0.49577 |             0.9496 |    2.0302 |      4.3879 |            21.5946 |      0.9414 | \n"
     ]
    },
    {
     "name": "stderr",
     "output_type": "stream",
     "text": [
      "E:\\junxiao\\Anaconda2\\lib\\site-packages\\sklearn\\gaussian_process\\gpr.py:427: UserWarning: fmin_l_bfgs_b terminated abnormally with the  state: {'warnflag': 2, 'task': 'ABNORMAL_TERMINATION_IN_LNSRCH', 'grad': array([-0.00012259]), 'nit': 7, 'funcalls': 60}\n",
      "  \" state: %s\" % convergence_dict)\n"
     ]
    },
    {
     "name": "stdout",
     "output_type": "stream",
     "text": [
      "   48 | 00m56s |   -0.49571 |             0.9771 |    2.4997 |      4.6017 |            22.3338 |      0.9781 | \n"
     ]
    },
    {
     "name": "stderr",
     "output_type": "stream",
     "text": [
      "E:\\junxiao\\Anaconda2\\lib\\site-packages\\sklearn\\gaussian_process\\gpr.py:427: UserWarning: fmin_l_bfgs_b terminated abnormally with the  state: {'warnflag': 2, 'task': 'ABNORMAL_TERMINATION_IN_LNSRCH', 'grad': array([ -2.02188967e-05]), 'nit': 8, 'funcalls': 55}\n",
      "  \" state: %s\" % convergence_dict)\n",
      "E:\\junxiao\\Anaconda2\\lib\\site-packages\\sklearn\\gaussian_process\\gpr.py:427: UserWarning: fmin_l_bfgs_b terminated abnormally with the  state: {'warnflag': 2, 'task': 'ABNORMAL_TERMINATION_IN_LNSRCH', 'grad': array([ -9.47550870e-05]), 'nit': 8, 'funcalls': 55}\n",
      "  \" state: %s\" % convergence_dict)\n",
      "E:\\junxiao\\Anaconda2\\lib\\site-packages\\sklearn\\gaussian_process\\gpr.py:427: UserWarning: fmin_l_bfgs_b terminated abnormally with the  state: {'warnflag': 2, 'task': 'ABNORMAL_TERMINATION_IN_LNSRCH', 'grad': array([ -2.46827258e-05]), 'nit': 7, 'funcalls': 52}\n",
      "  \" state: %s\" % convergence_dict)\n",
      "E:\\junxiao\\Anaconda2\\lib\\site-packages\\sklearn\\gaussian_process\\gpr.py:427: UserWarning: fmin_l_bfgs_b terminated abnormally with the  state: {'warnflag': 2, 'task': 'ABNORMAL_TERMINATION_IN_LNSRCH', 'grad': array([  3.95997195e-05]), 'nit': 7, 'funcalls': 64}\n",
      "  \" state: %s\" % convergence_dict)\n"
     ]
    },
    {
     "name": "stdout",
     "output_type": "stream",
     "text": [
      "   49 | 00m46s |   -0.49569 |             0.9370 |    3.2965 |      2.2609 |             9.3786 |      0.9066 | \n"
     ]
    },
    {
     "name": "stderr",
     "output_type": "stream",
     "text": [
      "E:\\junxiao\\Anaconda2\\lib\\site-packages\\sklearn\\gaussian_process\\gpr.py:427: UserWarning: fmin_l_bfgs_b terminated abnormally with the  state: {'warnflag': 2, 'task': 'ABNORMAL_TERMINATION_IN_LNSRCH', 'grad': array([ 0.00489945]), 'nit': 7, 'funcalls': 54}\n",
      "  \" state: %s\" % convergence_dict)\n",
      "E:\\junxiao\\Anaconda2\\lib\\site-packages\\sklearn\\gaussian_process\\gpr.py:427: UserWarning: fmin_l_bfgs_b terminated abnormally with the  state: {'warnflag': 2, 'task': 'ABNORMAL_TERMINATION_IN_LNSRCH', 'grad': array([-0.00490663]), 'nit': 6, 'funcalls': 51}\n",
      "  \" state: %s\" % convergence_dict)\n",
      "E:\\junxiao\\Anaconda2\\lib\\site-packages\\sklearn\\gaussian_process\\gpr.py:427: UserWarning: fmin_l_bfgs_b terminated abnormally with the  state: {'warnflag': 2, 'task': 'ABNORMAL_TERMINATION_IN_LNSRCH', 'grad': array([  2.60634079e-05]), 'nit': 6, 'funcalls': 53}\n",
      "  \" state: %s\" % convergence_dict)\n"
     ]
    },
    {
     "name": "stdout",
     "output_type": "stream",
     "text": [
      "   50 | 00m43s |   -0.49553 |             0.7414 |    3.4709 |      3.5127 |            30.6550 |      0.9132 | \n"
     ]
    }
   ],
   "source": [
    "xgtrain = xgb.DMatrix(train_X, label=train_y) \n",
    "\n",
    "def xgb_evaluate(min_child_weight, colsample_bytree, max_depth, subsample, gamma): #\n",
    "    params = dict()\n",
    "    params['objective']='multi:softprob'\n",
    "    params['eval_metric']='mlogloss',\n",
    "    params['num_class']=3\n",
    "    params['silent']=1\n",
    "    params['eta'] = 0.1\n",
    "    params['verbose_eval'] = True\n",
    "    params['min_child_weight'] = int(min_child_weight)\n",
    "    params['colsample_bytree'] = max(min(colsample_bytree, 1), 0)\n",
    "    params['max_depth'] = int(max_depth)\n",
    "    params['subsample'] = max(min(subsample, 1), 0)\n",
    "    params['gamma'] = max(gamma, 0)\n",
    "    \n",
    "    cv_result = xgb.cv(\n",
    "        params, xgtrain, \n",
    "        num_boost_round=10000, nfold=5,\n",
    "        metrics = 'mlogloss',\n",
    "        seed=1234,callbacks=[xgb.callback.early_stop(50,verbose=False)]\n",
    "    )\n",
    "    \n",
    "    return -cv_result['test-mlogloss-mean'].values[-1]\n",
    "\n",
    "\n",
    "xgb_BO = BayesianOptimization(\n",
    "    xgb_evaluate, \n",
    "    {\n",
    "        'max_depth': (2,5),\n",
    "        'min_child_weight': (8,32),\n",
    "        'colsample_bytree': (0.6,1),\n",
    "        'subsample': (0.9,1),\n",
    "        'gamma': (2,3.5)\n",
    "    }\n",
    ")\n",
    "\n",
    "xgb_BO.maximize(init_points=10, n_iter=40)"
   ]
  },
  {
   "cell_type": "code",
   "execution_count": 36,
   "metadata": {
    "collapsed": false
   },
   "outputs": [
    {
     "data": {
      "text/html": [
       "<div>\n",
       "<table border=\"1\" class=\"dataframe\">\n",
       "  <thead>\n",
       "    <tr style=\"text-align: right;\">\n",
       "      <th></th>\n",
       "      <th>max_depth</th>\n",
       "      <th>min_child_weight</th>\n",
       "      <th>colsample_bytree</th>\n",
       "      <th>subsample</th>\n",
       "      <th>gamma</th>\n",
       "      <th>score</th>\n",
       "    </tr>\n",
       "  </thead>\n",
       "  <tbody>\n",
       "    <tr>\n",
       "      <th>33</th>\n",
       "      <td>3.713080</td>\n",
       "      <td>8.105961</td>\n",
       "      <td>0.842369</td>\n",
       "      <td>0.921247</td>\n",
       "      <td>3.373059</td>\n",
       "      <td>-0.495396</td>\n",
       "    </tr>\n",
       "    <tr>\n",
       "      <th>3</th>\n",
       "      <td>3.822425</td>\n",
       "      <td>29.979036</td>\n",
       "      <td>0.800354</td>\n",
       "      <td>0.906134</td>\n",
       "      <td>3.488371</td>\n",
       "      <td>-0.495440</td>\n",
       "    </tr>\n",
       "    <tr>\n",
       "      <th>14</th>\n",
       "      <td>3.192911</td>\n",
       "      <td>21.754977</td>\n",
       "      <td>0.886954</td>\n",
       "      <td>0.931054</td>\n",
       "      <td>3.424714</td>\n",
       "      <td>-0.495451</td>\n",
       "    </tr>\n",
       "    <tr>\n",
       "      <th>13</th>\n",
       "      <td>3.071529</td>\n",
       "      <td>31.936981</td>\n",
       "      <td>0.806074</td>\n",
       "      <td>0.907503</td>\n",
       "      <td>3.385753</td>\n",
       "      <td>-0.495469</td>\n",
       "    </tr>\n",
       "    <tr>\n",
       "      <th>19</th>\n",
       "      <td>3.227654</td>\n",
       "      <td>17.190151</td>\n",
       "      <td>0.867978</td>\n",
       "      <td>0.969744</td>\n",
       "      <td>2.889375</td>\n",
       "      <td>-0.495525</td>\n",
       "    </tr>\n",
       "    <tr>\n",
       "      <th>39</th>\n",
       "      <td>3.512691</td>\n",
       "      <td>30.655025</td>\n",
       "      <td>0.741366</td>\n",
       "      <td>0.913202</td>\n",
       "      <td>3.470907</td>\n",
       "      <td>-0.495529</td>\n",
       "    </tr>\n",
       "    <tr>\n",
       "      <th>34</th>\n",
       "      <td>3.469349</td>\n",
       "      <td>18.932811</td>\n",
       "      <td>0.602248</td>\n",
       "      <td>0.979988</td>\n",
       "      <td>2.616430</td>\n",
       "      <td>-0.495545</td>\n",
       "    </tr>\n",
       "    <tr>\n",
       "      <th>5</th>\n",
       "      <td>4.706588</td>\n",
       "      <td>8.146690</td>\n",
       "      <td>0.829436</td>\n",
       "      <td>0.964323</td>\n",
       "      <td>3.417694</td>\n",
       "      <td>-0.495571</td>\n",
       "    </tr>\n",
       "    <tr>\n",
       "      <th>21</th>\n",
       "      <td>4.971262</td>\n",
       "      <td>9.609215</td>\n",
       "      <td>0.820244</td>\n",
       "      <td>0.900968</td>\n",
       "      <td>3.319831</td>\n",
       "      <td>-0.495576</td>\n",
       "    </tr>\n",
       "    <tr>\n",
       "      <th>25</th>\n",
       "      <td>3.616950</td>\n",
       "      <td>21.830855</td>\n",
       "      <td>0.979441</td>\n",
       "      <td>0.949766</td>\n",
       "      <td>2.812011</td>\n",
       "      <td>-0.495588</td>\n",
       "    </tr>\n",
       "  </tbody>\n",
       "</table>\n",
       "</div>"
      ],
      "text/plain": [
       "    max_depth  min_child_weight  colsample_bytree  subsample     gamma  \\\n",
       "33   3.713080          8.105961          0.842369   0.921247  3.373059   \n",
       "3    3.822425         29.979036          0.800354   0.906134  3.488371   \n",
       "14   3.192911         21.754977          0.886954   0.931054  3.424714   \n",
       "13   3.071529         31.936981          0.806074   0.907503  3.385753   \n",
       "19   3.227654         17.190151          0.867978   0.969744  2.889375   \n",
       "39   3.512691         30.655025          0.741366   0.913202  3.470907   \n",
       "34   3.469349         18.932811          0.602248   0.979988  2.616430   \n",
       "5    4.706588          8.146690          0.829436   0.964323  3.417694   \n",
       "21   4.971262          9.609215          0.820244   0.900968  3.319831   \n",
       "25   3.616950         21.830855          0.979441   0.949766  2.812011   \n",
       "\n",
       "       score  \n",
       "33 -0.495396  \n",
       "3  -0.495440  \n",
       "14 -0.495451  \n",
       "13 -0.495469  \n",
       "19 -0.495525  \n",
       "39 -0.495529  \n",
       "34 -0.495545  \n",
       "5  -0.495571  \n",
       "21 -0.495576  \n",
       "25 -0.495588  "
      ]
     },
     "execution_count": 36,
     "metadata": {},
     "output_type": "execute_result"
    }
   ],
   "source": [
    "xgb_bo_scores = pd.DataFrame([[s[0]['max_depth'],\n",
    "                               s[0]['min_child_weight'],\n",
    "                               s[0]['colsample_bytree'],\n",
    "                               s[0]['subsample'],\n",
    "                               s[0]['gamma'],\n",
    "                               s[1]] for s in zip(xgb_BO.res['all']['params'],xgb_BO.res['all']['values'])],\n",
    "                            columns = ['max_depth',\n",
    "                                       'min_child_weight',\n",
    "                                       'colsample_bytree',\n",
    "                                       'subsample',\n",
    "                                       'gamma',\n",
    "                                       'score'])\n",
    "xgb_bo_scores=xgb_bo_scores.sort_values('score',ascending=False)\n",
    "xgb_bo_scores.head(10)"
   ]
  },
  {
   "cell_type": "code",
   "execution_count": 37,
   "metadata": {
    "collapsed": true
   },
   "outputs": [],
   "source": [
    "def xgb_blend(estimators, train_x, train_y, test_x, fold, early_stopping_rounds=0,randomseed=1234):\n",
    "    fold_start = time.time() \n",
    "    N_params = len(estimators)\n",
    "#     print (\"Blend %d estimators for %d folds\" % (N_params, fold))\n",
    "    skf = KFold(n_splits=fold,shuffle=True,random_state=randomseed)\n",
    "    N_class = len(set(train_y))\n",
    "        \n",
    "    train_blend_x = np.zeros((train_x.shape[0], N_class*N_params))\n",
    "    test_blend_x_mean = np.zeros((test_x.shape[0], N_class*N_params))\n",
    "    test_blend_x_gmean = np.zeros((test_x.shape[0], N_class*N_params))\n",
    "    scores = np.zeros ((fold,N_params))\n",
    "    best_rounds = np.zeros ((fold, N_params))\n",
    "    \n",
    "    for j, est in enumerate(estimators):\n",
    "        est.set_params(objective = 'multi:softprob')\n",
    "        est.set_params(silent = False)\n",
    "        est.set_params(learning_rate = 0.02)\n",
    "        est.set_params(n_estimators=100000)\n",
    "        \n",
    "#         print (\"Model %d: %s\" %(j+1, est))\n",
    "\n",
    "        test_blend_x_j = np.zeros((test_x.shape[0], N_class*fold))\n",
    "    \n",
    "        for i, (train_index, val_index) in enumerate(skf.split(train_x)):\n",
    "#             print (\"Model %d fold %d\" %(j+1,i+1))\n",
    "            \n",
    "            train_x_fold = train_x.iloc[train_index]\n",
    "            train_y_fold = train_y[train_index]\n",
    "            val_x_fold = train_x.iloc[val_index]\n",
    "            val_y_fold = train_y[val_index]      \n",
    "\n",
    "            est.fit(train_x_fold,train_y_fold,\n",
    "                    eval_set = [(val_x_fold, val_y_fold)],\n",
    "                    eval_metric = 'mlogloss',\n",
    "                    early_stopping_rounds=early_stopping_rounds,\n",
    "                    verbose=False)\n",
    "            best_round=est.best_iteration\n",
    "            best_rounds[i,j]=best_round\n",
    "#             print (\"best round %d\" % (best_round))\n",
    "            val_y_predict_fold = est.predict_proba(val_x_fold,ntree_limit=best_round)\n",
    "            score = log_loss(val_y_fold, val_y_predict_fold)\n",
    "#             print \"Score: \", score\n",
    "            scores[i,j]=score\n",
    "            train_blend_x[val_index, (j*N_class):(j+1)*N_class] = val_y_predict_fold\n",
    "            \n",
    "            test_blend_x_j[:,(i*N_class):(i+1)*N_class] = est.predict_proba(test_x,ntree_limit=best_round)\n",
    "#             print (\"Model %d fold %d fitting finished in %0.3fm\" % (j+1,i+1, )\n",
    "            \n",
    "        test_blend_x_mean[:,(j*N_class):(j+1)*N_class] = \\\n",
    "                np.stack([test_blend_x_j[:,range(0,N_class*fold,N_class)].mean(1),\n",
    "                          test_blend_x_j[:,range(1,N_class*fold,N_class)].mean(1),\n",
    "                          test_blend_x_j[:,range(2,N_class*fold,N_class)].mean(1)]).T\n",
    "\n",
    "            \n",
    "#         print (\"Score for model %d is %f\" % (j+1,np.mean(scores[:,j])))\n",
    "    print \"Score models is %f fitting finished in %0.3fm\" % (np.mean(scores),(time.time() - fold_start)/60)\n",
    "    return (train_blend_x, test_blend_x_mean, test_blend_x_gmean, scores,best_rounds)\n"
   ]
  },
  {
   "cell_type": "code",
   "execution_count": 44,
   "metadata": {
    "collapsed": false,
    "scrolled": true
   },
   "outputs": [
    {
     "name": "stdout",
     "output_type": "stream",
     "text": [
      "Starting ..........\n",
      "Score models is 0.495626 fitting finished in 4.194m\n",
      "Score models is 0.495445 fitting finished in 4.219m\n",
      "Score models is 0.495475 fitting finished in 4.147m\n",
      "Score models is 0.495606 fitting finished in 3.972m\n",
      "Score models is 0.495194 fitting finished in 4.943m\n",
      "Score models is 0.495419 fitting finished in 4.210m\n",
      "Score models is 0.495324 fitting finished in 3.978m\n",
      "Score models is 0.495432 fitting finished in 4.134m\n",
      "Score models is 0.495394 fitting finished in 4.159m\n",
      "Score models is 0.495242 fitting finished in 4.723m\n",
      "Score models is 0.495334 fitting finished in 4.464m\n",
      "Score models is 0.495321 fitting finished in 4.293m\n",
      "Score models is 0.495436 fitting finished in 4.284m\n",
      "Score models is 0.495127 fitting finished in 4.917m\n",
      "Score models is 0.495142 fitting finished in 4.864m\n",
      "Score models is 0.495471 fitting finished in 4.405m\n",
      "Score models is 0.495478 fitting finished in 4.551m\n",
      "Score models is 0.495632 fitting finished in 4.406m\n",
      "Score models is 0.495320 fitting finished in 4.289m\n",
      "Score models is 0.495389 fitting finished in 4.402m\n",
      "Score models is 0.495435 fitting finished in 4.163m\n",
      "Score models is 0.495377 fitting finished in 4.602m\n",
      "Score models is 0.495469 fitting finished in 4.556m\n",
      "Score models is 0.495834 fitting finished in 3.827m\n",
      "Score models is 0.495333 fitting finished in 4.597m\n",
      "Score models is 0.495514 fitting finished in 4.203m\n",
      "Score models is 0.495741 fitting finished in 4.226m\n",
      "Score models is 0.495394 fitting finished in 4.463m\n",
      "Score models is 0.495293 fitting finished in 4.455m\n",
      "Score models is 0.495589 fitting finished in 4.259m\n",
      "Score models is 0.495360 fitting finished in 4.608m\n",
      "Score models is 0.494997 fitting finished in 4.475m\n",
      "Score models is 0.495158 fitting finished in 4.290m\n",
      "Score models is 0.495298 fitting finished in 4.348m\n",
      "Score models is 0.495362 fitting finished in 4.000m\n",
      "Score models is 0.495471 fitting finished in 4.349m\n",
      "Score models is 0.495728 fitting finished in 4.097m\n",
      "Score models is 0.495338 fitting finished in 4.345m\n",
      "Score models is 0.495467 fitting finished in 4.352m\n",
      "Score models is 0.495443 fitting finished in 4.168m\n",
      "Score models is 0.495756 fitting finished in 4.251m\n",
      "Score models is 0.495288 fitting finished in 4.506m\n",
      "Score models is 0.495828 fitting finished in 4.176m\n",
      "Score models is 0.495851 fitting finished in 3.997m\n",
      "Score models is 0.495315 fitting finished in 4.425m\n",
      "Score models is 0.495131 fitting finished in 4.259m\n",
      "Score models is 0.495475 fitting finished in 4.670m\n",
      "Score models is 0.495126 fitting finished in 4.386m\n",
      "Score models is 0.495720 fitting finished in 4.006m\n",
      "Score models is 0.495456 fitting finished in 4.269m\n",
      "Score models is 0.495529 fitting finished in 3.976m\n",
      "Score models is 0.495203 fitting finished in 4.866m\n",
      "Score models is 0.495426 fitting finished in 4.656m\n",
      "Score models is 0.495570 fitting finished in 4.150m\n",
      "Score models is 0.495236 fitting finished in 4.867m\n",
      "Score models is 0.495110 fitting finished in 4.259m\n",
      "Score models is 0.495442 fitting finished in 4.529m\n",
      "Score models is 0.495360 fitting finished in 4.136m\n",
      "Score models is 0.494804 fitting finished in 4.714m\n",
      "Score models is 0.495736 fitting finished in 3.998m\n",
      "Score models is 0.495469 fitting finished in 4.193m\n",
      "Score models is 0.495259 fitting finished in 4.702m\n",
      "Score models is 0.495432 fitting finished in 4.294m\n",
      "Score models is 0.495398 fitting finished in 4.182m\n",
      "Score models is 0.495314 fitting finished in 4.139m\n",
      "Score models is 0.495737 fitting finished in 4.260m\n",
      "Score models is 0.495203 fitting finished in 4.350m\n",
      "Score models is 0.495330 fitting finished in 4.467m\n",
      "Score models is 0.495504 fitting finished in 4.393m\n",
      "Score models is 0.495308 fitting finished in 4.401m\n",
      "Score models is 0.495710 fitting finished in 4.041m\n",
      "Score models is 0.495367 fitting finished in 4.805m\n",
      "Score models is 0.495390 fitting finished in 4.471m\n",
      "Score models is 0.495257 fitting finished in 4.937m\n",
      "Score models is 0.495437 fitting finished in 4.304m\n",
      "Score models is 0.495322 fitting finished in 4.585m\n",
      "Score models is 0.495499 fitting finished in 4.068m\n",
      "Score models is 0.495617 fitting finished in 4.633m\n",
      "Score models is 0.494855 fitting finished in 4.469m\n",
      "Score models is 0.495210 fitting finished in 4.284m\n",
      "Score models is 0.495285 fitting finished in 4.431m\n",
      "Score models is 0.495108 fitting finished in 4.473m\n",
      "Score models is 0.495632 fitting finished in 4.184m\n",
      "Score models is 0.495403 fitting finished in 4.565m\n",
      "Score models is 0.495295 fitting finished in 4.637m\n",
      "Score models is 0.495416 fitting finished in 4.662m\n",
      "Score models is 0.495318 fitting finished in 4.038m\n",
      "Score models is 0.495407 fitting finished in 4.476m\n",
      "Score models is 0.495269 fitting finished in 4.405m\n",
      "Score models is 0.494996 fitting finished in 4.213m\n",
      "Score models is 0.495397 fitting finished in 4.393m\n",
      "Score models is 0.495447 fitting finished in 4.529m\n",
      "Score models is 0.495323 fitting finished in 4.084m\n",
      "Score models is 0.495561 fitting finished in 4.201m\n",
      "Score models is 0.495663 fitting finished in 4.154m\n",
      "Score models is 0.495501 fitting finished in 4.053m\n",
      "Score models is 0.494999 fitting finished in 4.518m\n",
      "Score models is 0.495445 fitting finished in 4.669m\n",
      "Score models is 0.495174 fitting finished in 4.379m\n",
      "Score models is 0.495650 fitting finished in 4.275m\n"
     ]
    }
   ],
   "source": [
    "train_total = np.zeros((train_2nd.shape[0], 3))\n",
    "test_total = np.zeros((test_2nd_mean.shape[0], 3))\n",
    "name_train_blend = '../tmp/train_2ndxgb.csv'\n",
    "name_test_blend = '../tmp/test_2ndxgb.csv'\n",
    "score_total = 0\n",
    "count = 100\n",
    "print 'Starting ..........'\n",
    "for n in range(count):\n",
    "    randomseed = n\n",
    "    estimators = [\n",
    "                 xgb.XGBClassifier(max_depth = 3,\n",
    "                                  min_child_weight = 8,\n",
    "                                  colsample_bytree = 0.842369,\n",
    "                                  subsample = 0.921247,\n",
    "                                  gamma = 3.373059),  \n",
    "                 ]\n",
    "# \t\tmax_depth\tmin_child_weight\tcolsample_bytree\tsubsample\tgamma\tscore\n",
    "# 33\t3.713080\t8.105961\t\t\t0.842369\t\t\t0.921247\t3.373059\t-0.495396\n",
    "\n",
    "    (train_blend_x_xgb,\n",
    "     test_blend_x_xgb_mean,\n",
    "     test_blend_x_xgb_gmean,\n",
    "     blend_scores_xgb,\n",
    "     best_rounds_xgb) = xgb_blend(estimators,\n",
    "                                  train_X,train_y,\n",
    "                                  test_X,\n",
    "                                  5,\n",
    "                                  500,randomseed)\n",
    "    train_total += train_blend_x_xgb\n",
    "    test_total += test_blend_x_xgb_mean\n",
    "    score_total += np.mean(blend_scores_xgb)\n",
    "\n",
    "    np.savetxt(name_train_blend,train_total, delimiter=\",\")\n",
    "    np.savetxt(name_test_blend,test_total, delimiter=\",\")\n",
    "    \n",
    "train_total = train_total / count\n",
    "test_total = test_total / count\n",
    "score_total = score_total / count"
   ]
  },
  {
   "cell_type": "code",
   "execution_count": 45,
   "metadata": {
    "collapsed": false
   },
   "outputs": [
    {
     "name": "stdout",
     "output_type": "stream",
     "text": [
      "0.495396755381\n"
     ]
    }
   ],
   "source": [
    "now = datetime.now()\n",
    "\n",
    "name_train_blend = '../blend/train_blend_2ndXGB_BM_100bagging_' + str(now.strftime(\"%Y-%m-%d-%H-%M\")) + '.csv'\n",
    "name_test_blend_mean = '../blend/test_blend_2ndXGB_BM_100bagging_' + str(now.strftime(\"%Y-%m-%d-%H-%M\")) + '.csv'\n",
    "\n",
    "\n",
    "print score_total\n",
    "# print (np.mean(best_rounds_RFC,axis=0))\n",
    "np.savetxt(name_train_blend,train_total, delimiter=\",\")\n",
    "np.savetxt(name_test_blend_mean,test_total, delimiter=\",\")"
   ]
  },
  {
   "cell_type": "code",
   "execution_count": 46,
   "metadata": {
    "collapsed": false
   },
   "outputs": [],
   "source": [
    "# now = datetime.now()\n",
    "data_path = \"../input/\"\n",
    "test_X_0322 = pd.read_csv(data_path + 'test_BM_MB_add03052240.csv')\n",
    "\n",
    "sub_name = '../output/sub_2ndXGB_last_100bagging_' + str(now.strftime(\"%Y-%m-%d-%H-%M\")) + '.csv'\n",
    "\n",
    "out_df = pd.DataFrame(test_total[:,:3])\n",
    "out_df.columns = [\"low\", \"medium\", \"high\"]\n",
    "out_df[\"listing_id\"] = test_X_0322.listing_id.values\n",
    "out_df.to_csv(sub_name, index=False)"
   ]
  },
  {
   "cell_type": "code",
   "execution_count": 47,
   "metadata": {
    "collapsed": false,
    "scrolled": true
   },
   "outputs": [
    {
     "name": "stdout",
     "output_type": "stream",
     "text": [
      "Starting ..........\n",
      "Score models is 0.495135 fitting finished in 4.417m\n",
      "Score models is 0.495416 fitting finished in 4.393m\n",
      "Score models is 0.495358 fitting finished in 4.665m\n",
      "Score models is 0.495353 fitting finished in 4.598m\n",
      "Score models is 0.495705 fitting finished in 3.987m\n",
      "Score models is 0.495184 fitting finished in 4.413m\n",
      "Score models is 0.495601 fitting finished in 4.239m\n",
      "Score models is 0.495285 fitting finished in 4.350m\n",
      "Score models is 0.495631 fitting finished in 3.979m\n",
      "Score models is 0.495468 fitting finished in 4.301m\n",
      "Score models is 0.495275 fitting finished in 4.318m\n",
      "Score models is 0.495156 fitting finished in 4.239m\n",
      "Score models is 0.495530 fitting finished in 4.139m\n",
      "Score models is 0.495119 fitting finished in 4.617m\n",
      "Score models is 0.495025 fitting finished in 4.506m\n",
      "Score models is 0.495458 fitting finished in 4.534m\n",
      "Score models is 0.495558 fitting finished in 4.211m\n",
      "Score models is 0.495638 fitting finished in 4.653m\n",
      "Score models is 0.495296 fitting finished in 4.979m\n",
      "Score models is 0.495242 fitting finished in 4.201m\n",
      "Score models is 0.495596 fitting finished in 3.881m\n",
      "Score models is 0.495262 fitting finished in 4.242m\n",
      "Score models is 0.495282 fitting finished in 4.335m\n",
      "Score models is 0.495238 fitting finished in 4.968m\n",
      "Score models is 0.495143 fitting finished in 4.342m\n",
      "Score models is 0.495165 fitting finished in 4.673m\n",
      "Score models is 0.495345 fitting finished in 4.554m\n",
      "Score models is 0.495077 fitting finished in 4.301m\n",
      "Score models is 0.495107 fitting finished in 4.493m\n",
      "Score models is 0.495414 fitting finished in 4.089m\n",
      "Score models is 0.495350 fitting finished in 4.266m\n",
      "Score models is 0.495255 fitting finished in 4.623m\n",
      "Score models is 0.495367 fitting finished in 4.396m\n",
      "Score models is 0.494719 fitting finished in 4.989m\n",
      "Score models is 0.495448 fitting finished in 4.012m\n",
      "Score models is 0.495345 fitting finished in 4.401m\n",
      "Score models is 0.495017 fitting finished in 4.553m\n",
      "Score models is 0.495520 fitting finished in 4.148m\n",
      "Score models is 0.494873 fitting finished in 4.442m\n",
      "Score models is 0.495232 fitting finished in 4.679m\n",
      "Score models is 0.495270 fitting finished in 4.126m\n",
      "Score models is 0.495627 fitting finished in 4.162m\n",
      "Score models is 0.495264 fitting finished in 4.381m\n",
      "Score models is 0.495519 fitting finished in 4.129m\n",
      "Score models is 0.495475 fitting finished in 4.559m\n",
      "Score models is 0.495495 fitting finished in 4.329m\n",
      "Score models is 0.495287 fitting finished in 4.625m\n",
      "Score models is 0.495696 fitting finished in 4.317m\n",
      "Score models is 0.495353 fitting finished in 4.379m\n",
      "Score models is 0.495020 fitting finished in 4.296m\n",
      "Score models is 0.495660 fitting finished in 3.930m\n",
      "Score models is 0.495334 fitting finished in 4.501m\n",
      "Score models is 0.495032 fitting finished in 4.527m\n",
      "Score models is 0.495253 fitting finished in 4.460m\n",
      "Score models is 0.495498 fitting finished in 4.515m\n",
      "Score models is 0.495711 fitting finished in 4.187m\n",
      "Score models is 0.495517 fitting finished in 4.533m\n",
      "Score models is 0.495377 fitting finished in 4.085m\n",
      "Score models is 0.495145 fitting finished in 4.194m\n",
      "Score models is 0.495450 fitting finished in 4.145m\n",
      "Score models is 0.495087 fitting finished in 4.612m\n",
      "Score models is 0.495296 fitting finished in 4.261m\n",
      "Score models is 0.495456 fitting finished in 4.142m\n",
      "Score models is 0.495275 fitting finished in 4.227m\n",
      "Score models is 0.495411 fitting finished in 4.076m\n",
      "Score models is 0.495028 fitting finished in 4.413m\n",
      "Score models is 0.495147 fitting finished in 4.442m\n",
      "Score models is 0.495705 fitting finished in 3.978m\n",
      "Score models is 0.495321 fitting finished in 4.055m\n",
      "Score models is 0.495221 fitting finished in 4.611m\n",
      "Score models is 0.495705 fitting finished in 4.361m\n",
      "Score models is 0.495749 fitting finished in 3.957m\n",
      "Score models is 0.495577 fitting finished in 4.207m\n",
      "Score models is 0.495090 fitting finished in 4.810m\n",
      "Score models is 0.495782 fitting finished in 4.178m\n",
      "Score models is 0.495007 fitting finished in 4.432m\n",
      "Score models is 0.495620 fitting finished in 4.163m\n",
      "Score models is 0.495124 fitting finished in 4.496m\n",
      "Score models is 0.495308 fitting finished in 4.419m\n",
      "Score models is 0.495268 fitting finished in 4.536m\n",
      "Score models is 0.495320 fitting finished in 4.308m\n",
      "Score models is 0.495415 fitting finished in 4.358m\n",
      "Score models is 0.495397 fitting finished in 4.515m\n",
      "Score models is 0.495573 fitting finished in 4.403m\n",
      "Score models is 0.495406 fitting finished in 4.305m\n",
      "Score models is 0.495109 fitting finished in 4.895m\n",
      "Score models is 0.495423 fitting finished in 4.428m\n",
      "Score models is 0.495254 fitting finished in 4.315m\n",
      "Score models is 0.495389 fitting finished in 4.318m\n",
      "Score models is 0.495120 fitting finished in 4.199m\n",
      "Score models is 0.495395 fitting finished in 4.296m\n",
      "Score models is 0.495111 fitting finished in 4.559m\n",
      "Score models is 0.494913 fitting finished in 4.698m\n",
      "Score models is 0.495228 fitting finished in 3.941m\n",
      "Score models is 0.495588 fitting finished in 3.977m\n",
      "Score models is 0.494982 fitting finished in 5.062m\n",
      "Score models is 0.495144 fitting finished in 4.703m\n",
      "Score models is 0.495529 fitting finished in 4.293m\n",
      "Score models is 0.495241 fitting finished in 4.248m\n",
      "Score models is 0.495409 fitting finished in 4.876m\n"
     ]
    }
   ],
   "source": [
    "train_total = np.zeros((train_2nd.shape[0], 3))\n",
    "test_total = np.zeros((test_2nd_mean.shape[0], 3))\n",
    "name_train_blend = '../tmp/train_2ndxgb_1.csv'\n",
    "name_test_blend = '../tmp/test_2ndxgb_1.csv'\n",
    "score_total = 0\n",
    "count = 100\n",
    "print 'Starting ..........'\n",
    "for n in range(count):\n",
    "    randomseed = n+5134\n",
    "    estimators = [\n",
    "                 xgb.XGBClassifier(max_depth = 3,\n",
    "                                  min_child_weight = 8,\n",
    "                                  colsample_bytree = 0.842369,\n",
    "                                  subsample = 0.921247,\n",
    "                                  gamma = 3.373059),  \n",
    "                 ]\n",
    "# \t\tmax_depth\tmin_child_weight\tcolsample_bytree\tsubsample\tgamma\tscore\n",
    "# 33\t3.713080\t8.105961\t\t\t0.842369\t\t\t0.921247\t3.373059\t-0.495396\n",
    "\n",
    "    (train_blend_x_xgb,\n",
    "     test_blend_x_xgb_mean,\n",
    "     test_blend_x_xgb_gmean,\n",
    "     blend_scores_xgb,\n",
    "     best_rounds_xgb) = xgb_blend(estimators,\n",
    "                                  train_X,train_y,\n",
    "                                  test_X,\n",
    "                                  5,\n",
    "                                  500,randomseed)\n",
    "    train_total += train_blend_x_xgb\n",
    "    test_total += test_blend_x_xgb_mean\n",
    "    score_total += np.mean(blend_scores_xgb)\n",
    "\n",
    "    np.savetxt(name_train_blend,train_total, delimiter=\",\")\n",
    "    np.savetxt(name_test_blend,test_total, delimiter=\",\")\n",
    "    \n",
    "train_total = train_total / count\n",
    "test_total = test_total / count\n",
    "score_total = score_total / count"
   ]
  },
  {
   "cell_type": "code",
   "execution_count": 48,
   "metadata": {
    "collapsed": false
   },
   "outputs": [
    {
     "name": "stdout",
     "output_type": "stream",
     "text": [
      "0.495332943676\n"
     ]
    }
   ],
   "source": [
    "now = datetime.now()\n",
    "\n",
    "name_train_blend = '../blend/train_blend_2ndXGB_BM_100bagging_1_' + str(now.strftime(\"%Y-%m-%d-%H-%M\")) + '.csv'\n",
    "name_test_blend_mean = '../blend/test_blend_2ndXGB_BM_100bagging_1_' + str(now.strftime(\"%Y-%m-%d-%H-%M\")) + '.csv'\n",
    "\n",
    "\n",
    "print score_total\n",
    "# print (np.mean(best_rounds_RFC,axis=0))\n",
    "np.savetxt(name_train_blend,train_total, delimiter=\",\")\n",
    "np.savetxt(name_test_blend_mean,test_total, delimiter=\",\")"
   ]
  },
  {
   "cell_type": "code",
   "execution_count": 49,
   "metadata": {
    "collapsed": false
   },
   "outputs": [],
   "source": [
    "# now = datetime.now()\n",
    "data_path = \"../input/\"\n",
    "test_X_0322 = pd.read_csv(data_path + 'test_BM_MB_add03052240.csv')\n",
    "\n",
    "sub_name = '../output/sub_2ndXGB_last_100bagging_1_' + str(now.strftime(\"%Y-%m-%d-%H-%M\")) + '.csv'\n",
    "\n",
    "out_df = pd.DataFrame(test_total)\n",
    "out_df.columns = [\"low\", \"medium\", \"high\"]\n",
    "out_df[\"listing_id\"] = test_X_0322.listing_id.values\n",
    "out_df.to_csv(sub_name, index=False)"
   ]
  },
  {
   "cell_type": "code",
   "execution_count": null,
   "metadata": {
    "collapsed": true
   },
   "outputs": [],
   "source": [
    "# sub_2ndXGB_last_test   0.495539"
   ]
  }
 ],
 "metadata": {
  "anaconda-cloud": {},
  "kernelspec": {
   "display_name": "Python [default]",
   "language": "python",
   "name": "python2"
  },
  "language_info": {
   "codemirror_mode": {
    "name": "ipython",
    "version": 2
   },
   "file_extension": ".py",
   "mimetype": "text/x-python",
   "name": "python",
   "nbconvert_exporter": "python",
   "pygments_lexer": "ipython2",
   "version": "2.7.12"
  }
 },
 "nbformat": 4,
 "nbformat_minor": 1
}
