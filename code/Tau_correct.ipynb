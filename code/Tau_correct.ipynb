{
 "cells": [
  {
   "cell_type": "code",
   "execution_count": 45,
   "metadata": {
    "collapsed": true
   },
   "outputs": [],
   "source": [
    "import pandas as pd\n",
    "import numpy as np\n",
    "from sklearn.metrics import log_loss\n",
    "from datetime import datetime\n",
    "# https://www.kaggle.com/c/two-sigma-connect-rental-listing-inquiries/discussion/31067"
   ]
  },
  {
   "cell_type": "code",
   "execution_count": 107,
   "metadata": {
    "collapsed": false
   },
   "outputs": [],
   "source": [
    "data_path = \"../input/\"\n",
    "test_X = pd.read_csv(data_path + 'test_BM_MB_add03052240.csv')\n",
    "train_y = np.ravel(pd.read_csv(data_path + 'labels_BrandenMurray.csv'))\n",
    "sub_id = test_X.listing_id.values"
   ]
  },
  {
   "cell_type": "code",
   "execution_count": 95,
   "metadata": {
    "collapsed": false
   },
   "outputs": [],
   "source": [
    "test = pd.read_csv('../blend/train_blend_LightGBM_BM_0331_2017-04-01-07-33.csv',header=None)"
   ]
  },
  {
   "cell_type": "code",
   "execution_count": 97,
   "metadata": {
    "collapsed": false
   },
   "outputs": [],
   "source": [
    "test_1 = test.loc[:,[0,1,2]]\n",
    "test_1.columns = ['low', 'medium', 'high']"
   ]
  },
  {
   "cell_type": "code",
   "execution_count": 98,
   "metadata": {
    "collapsed": false
   },
   "outputs": [
    {
     "data": {
      "text/plain": [
       "(49352L,)"
      ]
     },
     "execution_count": 98,
     "metadata": {},
     "output_type": "execute_result"
    }
   ],
   "source": [
    "train_y.shape"
   ]
  },
  {
   "cell_type": "code",
   "execution_count": 99,
   "metadata": {
    "collapsed": false
   },
   "outputs": [
    {
     "name": "stdout",
     "output_type": "stream",
     "text": [
      "0.517783695959\n"
     ]
    }
   ],
   "source": [
    "print log_loss(train_y,test_1.iloc[:,:3])"
   ]
  },
  {
   "cell_type": "code",
   "execution_count": 56,
   "metadata": {
    "collapsed": true
   },
   "outputs": [],
   "source": [
    "interest_levels = ['low', 'medium', 'high']\n",
    "\n",
    "tau = {\n",
    "    'low': 0.69195995, \n",
    "    'medium': 0.23108864,\n",
    "    'high': 0.07695141, \n",
    "}\n",
    "\n",
    "def correct(df):\n",
    "    y = df[interest_levels].mean()\n",
    "    a = [tau[k] / y[k]  for k in interest_levels]\n",
    "    print a\n",
    "\n",
    "    def f(p):\n",
    "        for k in range(len(interest_levels)):\n",
    "            p[k] *= a[k]\n",
    "        return p / p.sum()\n",
    "\n",
    "    df_correct = df.copy()\n",
    "    df_correct[interest_levels] = df_correct[interest_levels].apply(f, axis=1)\n",
    "\n",
    "    y = df_correct[interest_levels].mean()\n",
    "    a = [tau[k] / y[k]  for k in interest_levels]\n",
    "    print a\n",
    "\n",
    "    return df_correct"
   ]
  },
  {
   "cell_type": "code",
   "execution_count": 100,
   "metadata": {
    "collapsed": false
   },
   "outputs": [
    {
     "name": "stdout",
     "output_type": "stream",
     "text": [
      "[0.98814302630854334, 1.0216313493613942, 1.0463695819468612]\n",
      "[0.9944797334284845, 1.0093311148887807, 1.0226538178600511]\n"
     ]
    }
   ],
   "source": [
    "test_correct = correct(test_1)"
   ]
  },
  {
   "cell_type": "code",
   "execution_count": 101,
   "metadata": {
    "collapsed": false
   },
   "outputs": [
    {
     "name": "stdout",
     "output_type": "stream",
     "text": [
      "0.517590767658\n"
     ]
    }
   ],
   "source": [
    "print log_loss(train_y,test_correct)"
   ]
  },
  {
   "cell_type": "code",
   "execution_count": 109,
   "metadata": {
    "collapsed": false
   },
   "outputs": [
    {
     "name": "stdout",
     "output_type": "stream",
     "text": [
      "[0.98958039627628713, 1.0082966553717279, 1.0752354439484375]\n",
      "[0.994441687176286, 1.0079542495170024, 1.0272869687764119]\n"
     ]
    }
   ],
   "source": [
    "sub_test = pd.read_csv('../blend/test_blend_LightGBM_mean_BM_0331_2017-04-01-07-33.csv',header=None)\n",
    "\n",
    "sub_test = sub_test.loc[:,[0,1,2]]\n",
    "sub_test.shape  \n",
    "\n",
    "sub_test.columns = [\"low\", \"medium\", \"high\"]\n",
    "sub_test = correct(sub_test)"
   ]
  },
  {
   "cell_type": "code",
   "execution_count": 112,
   "metadata": {
    "collapsed": false
   },
   "outputs": [
    {
     "data": {
      "text/html": [
       "<div>\n",
       "<table border=\"1\" class=\"dataframe\">\n",
       "  <thead>\n",
       "    <tr style=\"text-align: right;\">\n",
       "      <th></th>\n",
       "      <th>low</th>\n",
       "      <th>medium</th>\n",
       "      <th>high</th>\n",
       "      <th>listing_id</th>\n",
       "    </tr>\n",
       "  </thead>\n",
       "  <tbody>\n",
       "    <tr>\n",
       "      <th>0</th>\n",
       "      <td>0.359409</td>\n",
       "      <td>0.579358</td>\n",
       "      <td>0.061233</td>\n",
       "      <td>7142618</td>\n",
       "    </tr>\n",
       "    <tr>\n",
       "      <th>1</th>\n",
       "      <td>0.968987</td>\n",
       "      <td>0.020265</td>\n",
       "      <td>0.010748</td>\n",
       "      <td>7210040</td>\n",
       "    </tr>\n",
       "    <tr>\n",
       "      <th>2</th>\n",
       "      <td>0.920736</td>\n",
       "      <td>0.076147</td>\n",
       "      <td>0.003117</td>\n",
       "      <td>7174566</td>\n",
       "    </tr>\n",
       "    <tr>\n",
       "      <th>3</th>\n",
       "      <td>0.170297</td>\n",
       "      <td>0.561318</td>\n",
       "      <td>0.268385</td>\n",
       "      <td>7191391</td>\n",
       "    </tr>\n",
       "    <tr>\n",
       "      <th>4</th>\n",
       "      <td>0.825239</td>\n",
       "      <td>0.166347</td>\n",
       "      <td>0.008414</td>\n",
       "      <td>7171695</td>\n",
       "    </tr>\n",
       "  </tbody>\n",
       "</table>\n",
       "</div>"
      ],
      "text/plain": [
       "        low    medium      high  listing_id\n",
       "0  0.359409  0.579358  0.061233     7142618\n",
       "1  0.968987  0.020265  0.010748     7210040\n",
       "2  0.920736  0.076147  0.003117     7174566\n",
       "3  0.170297  0.561318  0.268385     7191391\n",
       "4  0.825239  0.166347  0.008414     7171695"
      ]
     },
     "execution_count": 112,
     "metadata": {},
     "output_type": "execute_result"
    }
   ],
   "source": [
    "out_df.head()"
   ]
  },
  {
   "cell_type": "code",
   "execution_count": 110,
   "metadata": {
    "collapsed": true
   },
   "outputs": [],
   "source": [
    "sub_name = '../output/sub_LightGBM_BM_0331_2017-04-01-07-33_53396_correct.csv'\n",
    "\n",
    "out_df = sub_test.copy()\n",
    "\n",
    "out_df[\"listing_id\"] = sub_id\n",
    "out_df.to_csv(sub_name, index=False)"
   ]
  },
  {
   "cell_type": "code",
   "execution_count": 115,
   "metadata": {
    "collapsed": true
   },
   "outputs": [],
   "source": [
    "def correct1(df,tau1):\n",
    "    y = df[interest_levels].mean()\n",
    "    a = [tau1[k] / y[k]  for k in interest_levels]\n",
    "#     print a\n",
    "\n",
    "    def f(p):\n",
    "        for k in range(len(interest_levels)):\n",
    "            p[k] *= a[k]\n",
    "        return p / p.sum()\n",
    "\n",
    "    df_correct = df.copy()\n",
    "    df_correct[interest_levels] = df_correct[interest_levels].apply(f, axis=1)\n",
    "\n",
    "    y = df_correct[interest_levels].mean()\n",
    "    a = [tau1[k] / y[k]  for k in interest_levels]\n",
    "#     print a\n",
    "\n",
    "    return df_correct\n",
    "def myfunc(x):\n",
    "    tau1 = {\n",
    "    'low': x[0], \n",
    "    'medium': x[1],\n",
    "    'high': 1-x[0]-x[1], \n",
    "    }\n",
    "    tmp = log_loss(train_y,correct1(test_1,tau1))\n",
    "    print x,tmp\n",
    "    return tmp"
   ]
  },
  {
   "cell_type": "code",
   "execution_count": 116,
   "metadata": {
    "collapsed": true
   },
   "outputs": [],
   "source": [
    "from scipy.optimize import minimize"
   ]
  },
  {
   "cell_type": "code",
   "execution_count": 117,
   "metadata": {
    "collapsed": false,
    "scrolled": true
   },
   "outputs": [
    {
     "name": "stdout",
     "output_type": "stream",
     "text": [
      "[ 0.7  0.2] 0.521042220195\n",
      "[ 0.735  0.2  ] 0.520507102337\n",
      "[ 0.7   0.21] 0.518796139109\n",
      "[ 0.735  0.21 ] 0.521775933402\n",
      "[ 0.70875  0.2025 ] 0.519546115925\n",
      "[ 0.67375  0.2125 ] 0.521784214582\n",
      "[ 0.7196875  0.203125 ] 0.519150036399\n",
      "[ 0.7109375  0.210625 ] 0.518356717145\n",
      "[ 0.71203125  0.2146875 ] 0.518242036955\n",
      "[ 0.69234375  0.2215625 ] 0.517806925339\n",
      "[ 0.67867187  0.23078125] 0.517877968346\n",
      "[ 0.704375  0.22625 ] 0.518149729444\n",
      "[ 0.6846875  0.233125 ] 0.517544080599\n",
      "[ 0.67101562  0.24234375] 0.517916630683\n",
      "[ 0.67265625  0.2284375 ] 0.518694778195\n",
      "[ 0.69644531  0.22679688] 0.517615103507\n",
      "[ 0.68878906  0.23835938] 0.517963573575\n",
      "[ 0.69145508  0.22576172] 0.517583751077\n",
      "[ 0.67969727  0.23208984] 0.517734060981\n",
      "[ 0.6922583   0.22812012] 0.517538036087\n",
      "[ 0.68549072  0.2354834 ] 0.517593240876\n",
      "[ 0.68996399  0.22819214] 0.517536671934\n",
      "[ 0.69753479  0.22318726] 0.517634228817\n",
      "[ 0.68789932  0.23064056] 0.517524160144\n",
      "[ 0.68560501  0.23071259] 0.517554553814\n",
      "[ 0.69059498  0.22876823] 0.517527675296\n",
      "[ 0.68853031  0.23121666] 0.517525897935\n",
      "[ 0.68583466  0.23308899] 0.517537788062\n",
      "[ 0.6894049   0.22984842] 0.517523101747\n",
      "[ 0.68877391  0.22927233] 0.51753017466\n",
      "[ 0.68859121  0.23073058] 0.517523062334\n",
      "[ 0.69009679  0.22993844] 0.517526154242\n",
      "[ 0.68844869  0.23046503] 0.517522804377\n",
      "[ 0.687635    0.23134719] 0.517524678782\n",
      "[ 0.68896242  0.23022311] 0.517522614031\n",
      "[ 0.6888199   0.22995757] 0.517523451123\n",
      "[ 0.68864838  0.23053732] 0.517522673674\n",
      "[ 0.68916212  0.23029541] 0.517523009306\n",
      "[ 0.68862705  0.23042263] 0.517522621141\n",
      "[ 0.68894109  0.23010841] 0.517522723478\n",
      "[ 0.68872156  0.2304301 ] 0.517522597795\n",
      "[ 0.68905694  0.23023059] 0.517522692514\n",
      "[ 0.68873452  0.23037462] 0.51752258413\n",
      "[ 0.68849365  0.2305816 ] 0.517522708722\n",
      "[ 0.68884523  0.23031273] 0.517522582147\n",
      "[ 0.68885819  0.23025725] 0.517522594352\n",
      "[ 0.68882403  0.23030046] 0.517522582409\n",
      "[ 0.68893475  0.23023858] 0.517522603571\n",
      "[ 0.68878458  0.23034061] 0.517522579355\n",
      "[ 0.68880577  0.23035288] 0.517522581776\n",
      "[ 0.68874512  0.23038075] 0.517522582857\n",
      "[ 0.6888202   0.23032974] 0.517522579916\n",
      "[ 0.688799    0.23031747] 0.517522581386\n",
      "[ 0.6888007   0.23032632] 0.517522579522\n",
      "[ 0.68876507  0.23033719] 0.517522583455\n",
      "[ 0.68880642  0.2303316 ] 0.517522579037\n",
      "[ 0.6887903   0.23034589] 0.517522579063\n",
      "[ 0.68881214  0.23033688] 0.517522579712\n",
      "[ 0.68879147  0.23033968] 0.517522579004\n",
      "[ 0.68880759  0.23032539] 0.517522579283\n",
      "[ 0.68879462  0.23034076] 0.517522578946\n",
      "[ 0.68877967  0.23034884] 0.517522579332\n",
      "[ 0.68879973  0.23033591] 0.517522578939\n",
      "[ 0.68880289  0.230337  ] 0.517522579018\n",
      "[ 0.68879432  0.23033901] 0.517522578947\n",
      "[ 0.68880003  0.23033767] 0.517522578954\n",
      "[ 0.68879575  0.23033867] 0.517522578934\n",
      "[ 0.68880086  0.23033382] 0.517522578967\n",
      "[ 0.68879618  0.23033903] 0.517522578932\n",
      "[ 0.6887922   0.23034179] 0.517522578964\n",
      "[ 0.68879785  0.23033738] 0.517522578931\n",
      "[ 0.68879828  0.23033774] 0.517522578932\n",
      "[ 0.68879765  0.23033797] 0.51752257893\n",
      "[ 0.68879931  0.23033632] 0.517522578936\n",
      "[ 0.68879696  0.23033835] 0.51752257893\n"
     ]
    }
   ],
   "source": [
    "c = np.array([0.69195995,0.23108864])\n",
    "logloss = minimize(myfunc,c,method='Nelder-Mead', tol=1e-6)"
   ]
  },
  {
   "cell_type": "code",
   "execution_count": 135,
   "metadata": {
    "collapsed": false
   },
   "outputs": [],
   "source": [
    "tau_1 = {\n",
    "    'low': logloss.final_simplex[0].mean(axis =0)[0], \n",
    "    'medium': logloss.final_simplex[0].mean(axis =0)[1],\n",
    "    'high': 1-logloss.final_simplex[0].mean(axis =0)[0]-logloss.final_simplex[0].mean(axis =0)[1], \n",
    "}"
   ]
  },
  {
   "cell_type": "code",
   "execution_count": 136,
   "metadata": {
    "collapsed": false
   },
   "outputs": [
    {
     "data": {
      "text/plain": [
       "{'high': 0.080864613188141504,\n",
       " 'low': 0.68879748644126548,\n",
       " 'medium': 0.23033790037059301}"
      ]
     },
     "execution_count": 136,
     "metadata": {},
     "output_type": "execute_result"
    }
   ],
   "source": [
    "tau_1"
   ]
  },
  {
   "cell_type": "code",
   "execution_count": 134,
   "metadata": {
    "collapsed": false
   },
   "outputs": [
    {
     "data": {
      "text/plain": [
       "0.23033790037059301"
      ]
     },
     "execution_count": 134,
     "metadata": {},
     "output_type": "execute_result"
    }
   ],
   "source": [
    "logloss.final_simplex[0].mean(axis =0)[1]"
   ]
  },
  {
   "cell_type": "code",
   "execution_count": 137,
   "metadata": {
    "collapsed": true
   },
   "outputs": [],
   "source": [
    "sub_test = pd.read_csv('../blend/test_blend_LightGBM_mean_BM_0331_2017-04-01-07-33.csv',header=None)\n",
    "\n",
    "sub_test = sub_test.loc[:,[0,1,2]]\n",
    "sub_test.shape  \n",
    "\n",
    "sub_test.columns = [\"low\", \"medium\", \"high\"]\n",
    "sub_test = correct1(sub_test,tau_1)\n",
    "\n",
    "\n",
    "sub_name = '../output/sub_LightGBM_BM_0331_2017-04-01-07-33_53396_correct_NM.csv'\n",
    "\n",
    "out_df = sub_test.copy()\n",
    "\n",
    "out_df[\"listing_id\"] = sub_id\n",
    "out_df.to_csv(sub_name, index=False)"
   ]
  },
  {
   "cell_type": "code",
   "execution_count": null,
   "metadata": {
    "collapsed": true
   },
   "outputs": [],
   "source": []
  },
  {
   "cell_type": "code",
   "execution_count": 25,
   "metadata": {
    "collapsed": false
   },
   "outputs": [],
   "source": [
    "sub_name = '../output/sub_test_correct_2nd_2017-03-28-20-37_1' + '.csv'\n",
    "\n",
    "out_df = pd.DataFrame(test_correct)\n",
    "out_df.to_csv(sub_name, index=False)"
   ]
  },
  {
   "cell_type": "code",
   "execution_count": 26,
   "metadata": {
    "collapsed": false
   },
   "outputs": [
    {
     "data": {
      "text/html": [
       "<div>\n",
       "<table border=\"1\" class=\"dataframe\">\n",
       "  <thead>\n",
       "    <tr style=\"text-align: right;\">\n",
       "      <th></th>\n",
       "      <th>low</th>\n",
       "      <th>medium</th>\n",
       "      <th>high</th>\n",
       "      <th>listing_id</th>\n",
       "    </tr>\n",
       "  </thead>\n",
       "  <tbody>\n",
       "    <tr>\n",
       "      <th>0</th>\n",
       "      <td>0.379459</td>\n",
       "      <td>0.539948</td>\n",
       "      <td>0.080594</td>\n",
       "      <td>7142618</td>\n",
       "    </tr>\n",
       "    <tr>\n",
       "      <th>1</th>\n",
       "      <td>0.994223</td>\n",
       "      <td>0.004460</td>\n",
       "      <td>0.001317</td>\n",
       "      <td>7210040</td>\n",
       "    </tr>\n",
       "    <tr>\n",
       "      <th>2</th>\n",
       "      <td>0.960689</td>\n",
       "      <td>0.036720</td>\n",
       "      <td>0.002591</td>\n",
       "      <td>7174566</td>\n",
       "    </tr>\n",
       "    <tr>\n",
       "      <th>3</th>\n",
       "      <td>0.198045</td>\n",
       "      <td>0.543916</td>\n",
       "      <td>0.258039</td>\n",
       "      <td>7191391</td>\n",
       "    </tr>\n",
       "    <tr>\n",
       "      <th>4</th>\n",
       "      <td>0.872846</td>\n",
       "      <td>0.122745</td>\n",
       "      <td>0.004410</td>\n",
       "      <td>7171695</td>\n",
       "    </tr>\n",
       "    <tr>\n",
       "      <th>5</th>\n",
       "      <td>0.881218</td>\n",
       "      <td>0.116865</td>\n",
       "      <td>0.001918</td>\n",
       "      <td>7225206</td>\n",
       "    </tr>\n",
       "    <tr>\n",
       "      <th>6</th>\n",
       "      <td>0.993222</td>\n",
       "      <td>0.005570</td>\n",
       "      <td>0.001209</td>\n",
       "      <td>7200075</td>\n",
       "    </tr>\n",
       "    <tr>\n",
       "      <th>7</th>\n",
       "      <td>0.195406</td>\n",
       "      <td>0.546552</td>\n",
       "      <td>0.258042</td>\n",
       "      <td>7145074</td>\n",
       "    </tr>\n",
       "    <tr>\n",
       "      <th>8</th>\n",
       "      <td>0.949287</td>\n",
       "      <td>0.045938</td>\n",
       "      <td>0.004775</td>\n",
       "      <td>7193645</td>\n",
       "    </tr>\n",
       "    <tr>\n",
       "      <th>9</th>\n",
       "      <td>0.997492</td>\n",
       "      <td>0.002221</td>\n",
       "      <td>0.000287</td>\n",
       "      <td>7147703</td>\n",
       "    </tr>\n",
       "  </tbody>\n",
       "</table>\n",
       "</div>"
      ],
      "text/plain": [
       "        low    medium      high  listing_id\n",
       "0  0.379459  0.539948  0.080594     7142618\n",
       "1  0.994223  0.004460  0.001317     7210040\n",
       "2  0.960689  0.036720  0.002591     7174566\n",
       "3  0.198045  0.543916  0.258039     7191391\n",
       "4  0.872846  0.122745  0.004410     7171695\n",
       "5  0.881218  0.116865  0.001918     7225206\n",
       "6  0.993222  0.005570  0.001209     7200075\n",
       "7  0.195406  0.546552  0.258042     7145074\n",
       "8  0.949287  0.045938  0.004775     7193645\n",
       "9  0.997492  0.002221  0.000287     7147703"
      ]
     },
     "execution_count": 26,
     "metadata": {},
     "output_type": "execute_result"
    }
   ],
   "source": [
    "test_correct.head(10)"
   ]
  },
  {
   "cell_type": "code",
   "execution_count": 27,
   "metadata": {
    "collapsed": false
   },
   "outputs": [
    {
     "data": {
      "text/html": [
       "<div>\n",
       "<table border=\"1\" class=\"dataframe\">\n",
       "  <thead>\n",
       "    <tr style=\"text-align: right;\">\n",
       "      <th></th>\n",
       "      <th>low</th>\n",
       "      <th>medium</th>\n",
       "      <th>high</th>\n",
       "      <th>listing_id</th>\n",
       "    </tr>\n",
       "  </thead>\n",
       "  <tbody>\n",
       "    <tr>\n",
       "      <th>0</th>\n",
       "      <td>0.362648</td>\n",
       "      <td>0.548257</td>\n",
       "      <td>0.089095</td>\n",
       "      <td>7142618</td>\n",
       "    </tr>\n",
       "    <tr>\n",
       "      <th>1</th>\n",
       "      <td>0.993740</td>\n",
       "      <td>0.004736</td>\n",
       "      <td>0.001523</td>\n",
       "      <td>7210040</td>\n",
       "    </tr>\n",
       "    <tr>\n",
       "      <th>2</th>\n",
       "      <td>0.958103</td>\n",
       "      <td>0.038908</td>\n",
       "      <td>0.002989</td>\n",
       "      <td>7174566</td>\n",
       "    </tr>\n",
       "    <tr>\n",
       "      <th>3</th>\n",
       "      <td>0.184328</td>\n",
       "      <td>0.537863</td>\n",
       "      <td>0.277808</td>\n",
       "      <td>7191391</td>\n",
       "    </tr>\n",
       "    <tr>\n",
       "      <th>4</th>\n",
       "      <td>0.865611</td>\n",
       "      <td>0.129330</td>\n",
       "      <td>0.005059</td>\n",
       "      <td>7171695</td>\n",
       "    </tr>\n",
       "    <tr>\n",
       "      <th>5</th>\n",
       "      <td>0.874571</td>\n",
       "      <td>0.123227</td>\n",
       "      <td>0.002201</td>\n",
       "      <td>7225206</td>\n",
       "    </tr>\n",
       "    <tr>\n",
       "      <th>6</th>\n",
       "      <td>0.992688</td>\n",
       "      <td>0.005914</td>\n",
       "      <td>0.001397</td>\n",
       "      <td>7200075</td>\n",
       "    </tr>\n",
       "    <tr>\n",
       "      <th>7</th>\n",
       "      <td>0.181844</td>\n",
       "      <td>0.540386</td>\n",
       "      <td>0.277770</td>\n",
       "      <td>7145074</td>\n",
       "    </tr>\n",
       "    <tr>\n",
       "      <th>8</th>\n",
       "      <td>0.945865</td>\n",
       "      <td>0.048631</td>\n",
       "      <td>0.005504</td>\n",
       "      <td>7193645</td>\n",
       "    </tr>\n",
       "    <tr>\n",
       "      <th>9</th>\n",
       "      <td>0.997309</td>\n",
       "      <td>0.002359</td>\n",
       "      <td>0.000332</td>\n",
       "      <td>7147703</td>\n",
       "    </tr>\n",
       "  </tbody>\n",
       "</table>\n",
       "</div>"
      ],
      "text/plain": [
       "        low    medium      high  listing_id\n",
       "0  0.362648  0.548257  0.089095     7142618\n",
       "1  0.993740  0.004736  0.001523     7210040\n",
       "2  0.958103  0.038908  0.002989     7174566\n",
       "3  0.184328  0.537863  0.277808     7191391\n",
       "4  0.865611  0.129330  0.005059     7171695\n",
       "5  0.874571  0.123227  0.002201     7225206\n",
       "6  0.992688  0.005914  0.001397     7200075\n",
       "7  0.181844  0.540386  0.277770     7145074\n",
       "8  0.945865  0.048631  0.005504     7193645\n",
       "9  0.997309  0.002359  0.000332     7147703"
      ]
     },
     "execution_count": 27,
     "metadata": {},
     "output_type": "execute_result"
    }
   ],
   "source": [
    "test.head(10)"
   ]
  },
  {
   "cell_type": "code",
   "execution_count": null,
   "metadata": {
    "collapsed": true
   },
   "outputs": [],
   "source": []
  }
 ],
 "metadata": {
  "anaconda-cloud": {},
  "kernelspec": {
   "display_name": "Python [conda root]",
   "language": "python",
   "name": "conda-root-py"
  },
  "language_info": {
   "codemirror_mode": {
    "name": "ipython",
    "version": 2
   },
   "file_extension": ".py",
   "mimetype": "text/x-python",
   "name": "python",
   "nbconvert_exporter": "python",
   "pygments_lexer": "ipython2",
   "version": "2.7.12"
  }
 },
 "nbformat": 4,
 "nbformat_minor": 1
}
