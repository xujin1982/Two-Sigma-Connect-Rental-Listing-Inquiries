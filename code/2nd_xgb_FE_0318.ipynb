{
 "cells": [
  {
   "cell_type": "code",
   "execution_count": 1,
   "metadata": {
    "collapsed": false
   },
   "outputs": [
    {
     "name": "stderr",
     "output_type": "stream",
     "text": [
      "/home/xujin/AI/anaconda2/lib/python2.7/site-packages/sklearn/cross_validation.py:44: DeprecationWarning: This module was deprecated in version 0.18 in favor of the model_selection module into which all the refactored classes and functions are moved. Also note that the interface of the new CV iterators are different from that of this module. This module will be removed in 0.20.\n",
      "  \"This module will be removed in 0.20.\", DeprecationWarning)\n"
     ]
    }
   ],
   "source": [
    "import time\n",
    "import numpy as np\n",
    "import pandas as pd\n",
    "\n",
    "from scipy import sparse\n",
    "from scipy.stats.mstats import gmean\n",
    "from datetime import datetime\n",
    "from sklearn import preprocessing\n",
    "from scipy.stats import skew, boxcox,boxcox_normmax\n",
    "from sklearn.model_selection import train_test_split, StratifiedKFold, KFold\n",
    "# from sklearn.feature_extraction.text import TfidfVectorizer, CountVectorizer\n",
    "from bayes_opt import BayesianOptimization\n",
    "from sklearn.metrics import log_loss\n",
    "\n",
    "import matplotlib.pyplot as plt\n",
    "import seaborn as sns\n",
    "%matplotlib inline\n",
    "\n",
    "import xgboost as xgb\n",
    "\n",
    "seed = 1234"
   ]
  },
  {
   "cell_type": "markdown",
   "metadata": {},
   "source": [
    "# Load Data"
   ]
  },
  {
   "cell_type": "code",
   "execution_count": 2,
   "metadata": {
    "collapsed": false
   },
   "outputs": [],
   "source": [
    "train_y = np.ravel(pd.read_csv('../input/' + 'labels_BrandenMurray.csv'))\n",
    "\n",
    "names = ['low_0','medium_0','high_0',\n",
    "        'low_1','medium_1','high_1',\n",
    "        'low_2','medium_2','high_2',\n",
    "        'low_3','medium_3','high_3',\n",
    "        'low_4','medium_4','high_4',\n",
    "        'low_5','medium_5','high_5',\n",
    "        'low_6','medium_6','high_6',\n",
    "        'low_7','medium_7','high_7',\n",
    "        'low_8','medium_8','high_8',\n",
    "        'low_9','medium_9','high_9']\n",
    "\n",
    "data_path = \"../blend/\""
   ]
  },
  {
   "cell_type": "code",
   "execution_count": 3,
   "metadata": {
    "collapsed": false
   },
   "outputs": [
    {
     "name": "stdout",
     "output_type": "stream",
     "text": [
      "train_rfc_gini: (49352, 3)\t test_rfc_gini_mean:(74659, 3)\t test_rfc_gini_gmean:(74659, 3)\n",
      "\n",
      "train_rfc_entropy: (49352, 3)\t test_rfc_entropy_mean:(74659, 3)\t test_rfc_entropy_gmean:(74659, 3)\n",
      "\n",
      "train_rfc_gini\n",
      "   rfc_gini_low_0  rfc_gini_medium_0  rfc_gini_high_0\n",
      "0        0.543090           0.387824         0.069086\n",
      "1        0.431967           0.501843         0.066191\n",
      "2        0.796826           0.180090         0.023085\n",
      "3        0.671667           0.274519         0.053815\n",
      "4        0.931788           0.064494         0.003718\n",
      "\n",
      "train_rfc_entropy\n",
      "   rfc_entropy_low_0  rfc_entropy_medium_0  rfc_entropy_high_0\n",
      "0           0.542659              0.393322            0.064019\n",
      "1           0.464249              0.477816            0.057935\n",
      "2           0.799674              0.184329            0.015997\n",
      "3           0.686509              0.278618            0.034872\n",
      "4           0.966726              0.029282            0.003992\n"
     ]
    }
   ],
   "source": [
    "# RFC 1st level\n",
    "file_train      = 'train_blend_RFC_gini_BM_MB_add03052240_2017-03-10-22-02' + '.csv'\n",
    "file_test_mean  = 'test_blend_RFC_gini_mean_BM_MB_add03052240_2017-03-10-22-02' + '.csv'\n",
    "file_test_gmean = 'test_blend_RFC_gini_gmean_BM_MB_add03052240_2017-03-10-22-02' + '.csv'\n",
    "\n",
    "train_rfc_gini      = pd.read_csv(data_path + file_train,      header = None)\n",
    "test_rfc_gini_mean  = pd.read_csv(data_path + file_test_mean,  header = None)\n",
    "test_rfc_gini_gmean = pd.read_csv(data_path + file_test_gmean, header = None)\n",
    "\n",
    "n_column = train_rfc_gini.shape[1]\n",
    "\n",
    "train_rfc_gini.columns      = ['rfc_gini_' + x for x in names[:n_column]]\n",
    "test_rfc_gini_mean.columns  = ['rfc_gini_' + x for x in names[:n_column]]\n",
    "test_rfc_gini_gmean.columns = ['rfc_gini_' + x for x in names[:n_column]]\n",
    "\n",
    "file_train      = 'train_blend_RFC_entropy_BM_MB_add03052240_2017-03-10-21-10' + '.csv'\n",
    "file_test_mean  = 'test_blend_RFC_entropy_mean_BM_MB_add03052240_2017-03-10-21-10' + '.csv'\n",
    "file_test_gmean = 'test_blend_RFC_entropy_gmean_BM_MB_add03052240_2017-03-10-21-10' + '.csv'\n",
    "\n",
    "train_rfc_entropy      = pd.read_csv(data_path + file_train,      header = None)\n",
    "test_rfc_entropy_mean  = pd.read_csv(data_path + file_test_mean,  header = None)\n",
    "test_rfc_entropy_gmean = pd.read_csv(data_path + file_test_gmean, header = None)\n",
    "\n",
    "n_column = train_rfc_entropy.shape[1]\n",
    "\n",
    "train_rfc_entropy.columns      = ['rfc_entropy_' + x for x in names[:n_column]]\n",
    "test_rfc_entropy_mean.columns  = ['rfc_entropy_' + x for x in names[:n_column]]\n",
    "test_rfc_entropy_gmean.columns = ['rfc_entropy_' + x for x in names[:n_column]]\n",
    "\n",
    "print 'train_rfc_gini: {}\\t test_rfc_gini_mean:{}\\t test_rfc_gini_gmean:{}'.\\\n",
    "        format(train_rfc_gini.shape,test_rfc_gini_mean.shape,test_rfc_gini_gmean.shape)\n",
    "print '\\ntrain_rfc_entropy: {}\\t test_rfc_entropy_mean:{}\\t test_rfc_entropy_gmean:{}'.\\\n",
    "        format(train_rfc_entropy.shape,test_rfc_entropy_mean.shape,test_rfc_entropy_gmean.shape)\n",
    "\n",
    "print '\\ntrain_rfc_gini'\n",
    "print train_rfc_gini.iloc[:5,:3]\n",
    "print '\\ntrain_rfc_entropy'\n",
    "print train_rfc_entropy.iloc[:5,:3]"
   ]
  },
  {
   "cell_type": "code",
   "execution_count": 4,
   "metadata": {
    "collapsed": false
   },
   "outputs": [
    {
     "name": "stdout",
     "output_type": "stream",
     "text": [
      "train_LR: (49352, 15)\t test_LR_mean:(74659, 15)\t test_LR_gmean:(74659, 15)\n",
      "\n",
      "train_LR\n",
      "   LR_low_0  LR_medium_0  LR_high_0\n",
      "0  0.422874     0.486259   0.090867\n",
      "1  0.321009     0.599539   0.079452\n",
      "2  0.655066     0.315023   0.029912\n",
      "3  0.711200     0.252680   0.036120\n",
      "4  0.902499     0.090717   0.006784\n"
     ]
    }
   ],
   "source": [
    "# LR 1st level\n",
    "file_train = 'train_blend_LR_BM_2017-03-09-02-38' + '.csv'\n",
    "file_test_mean = 'test_blend_LR_mean_BM_2017-03-09-02-38' + '.csv'\n",
    "file_test_gmean = 'test_blend_LR_gmean_BM_2017-03-09-02-38' + '.csv'\n",
    "\n",
    "train_LR      = pd.read_csv(data_path + file_train, header = None)\n",
    "test_LR_mean  = pd.read_csv(data_path + file_test_mean, header = None)\n",
    "test_LR_gmean = pd.read_csv(data_path + file_test_gmean, header = None)\n",
    "\n",
    "n_column = train_LR.shape[1]\n",
    "\n",
    "train_LR.columns      = ['LR_' + x for x in names[:n_column]]\n",
    "test_LR_mean.columns  = ['LR_' + x for x in names[:n_column]]\n",
    "test_LR_gmean.columns = ['LR_' + x for x in names[:n_column]]\n",
    "\n",
    "\n",
    "fe_useful = ['LR_low_0', 'LR_medium_0', 'LR_high_0', \n",
    "             'LR_low_1', 'LR_medium_1', 'LR_high_1', \n",
    "#              'LR_low_2', 'LR_medium_2', 'LR_high_2', \n",
    "             'LR_low_3', 'LR_medium_3', 'LR_high_3', \n",
    "             'LR_low_4', 'LR_medium_4', 'LR_high_4',\n",
    "             'LR_low_5', 'LR_medium_5', 'LR_high_5', \n",
    "#              'LR_low_6', 'LR_medium_6','LR_high_6'\n",
    "            ]\n",
    "# del LR_6 \n",
    "# del LR_2\n",
    "train_LR      = train_LR[fe_useful]\n",
    "test_LR_mean  = test_LR_mean[fe_useful]\n",
    "test_LR_gmean = test_LR_gmean[fe_useful]\n",
    "\n",
    "\n",
    "\n",
    "\n",
    "\n",
    "print 'train_LR: {}\\t test_LR_mean:{}\\t test_LR_gmean:{}'.\\\n",
    "        format(train_LR.shape,test_LR_mean.shape,test_LR_gmean.shape)\n",
    "\n",
    "print '\\ntrain_LR'\n",
    "print train_LR.iloc[:5,:3]\n",
    "\n",
    "\n"
   ]
  },
  {
   "cell_type": "code",
   "execution_count": 5,
   "metadata": {
    "collapsed": false
   },
   "outputs": [
    {
     "name": "stdout",
     "output_type": "stream",
     "text": [
      "train_ET_gini: (49352, 3)\t test_ET_gini_mean:(74659, 3)\t test_ET_gini_gmean:(74659, 3)\n",
      "\n",
      "train_ET_entropy: (49352, 3)\t test_ET_entropy_mean:(74659, 3)\t test_ET_entropy_gmean:(74659, 3)\n",
      "\n",
      "train_ET_gini\n",
      "   ET_gini_low_0  ET_gini_medium_0  ET_gini_high_0\n",
      "0       0.491197          0.458682        0.050121\n",
      "1       0.350925          0.570142        0.078934\n",
      "2       0.834381          0.154016        0.011603\n",
      "3       0.721964          0.239236        0.038800\n",
      "4       0.950719          0.042887        0.006394\n",
      "\n",
      "train_ET_entropy\n",
      "   ET_entropy_low_0  ET_entropy_medium_0  ET_entropy_high_0\n",
      "0          0.520529             0.431357           0.048114\n",
      "1          0.377125             0.551815           0.071060\n",
      "2          0.799234             0.188755           0.012011\n",
      "3          0.716421             0.248984           0.034595\n",
      "4          0.925534             0.066681           0.007785\n"
     ]
    }
   ],
   "source": [
    "# ET 1st level\n",
    "file_train      = 'train_blend_ET_gini_BM_2017-03-10-09-42' + '.csv'\n",
    "file_test_mean  = 'test_blend_ET_gini_mean_BM_2017-03-10-09-42' + '.csv'\n",
    "file_test_gmean = 'test_blend_ET_gini_gmean_BM_2017-03-10-09-42' + '.csv'\n",
    "\n",
    "train_ET_gini      = pd.read_csv(data_path + file_train,      header = None)\n",
    "test_ET_gini_mean  = pd.read_csv(data_path + file_test_mean,  header = None)\n",
    "test_ET_gini_gmean = pd.read_csv(data_path + file_test_gmean, header = None)\n",
    "\n",
    "n_column = train_ET_gini.shape[1]\n",
    "\n",
    "train_ET_gini.columns      = ['ET_gini_' + x for x in names[:n_column]]\n",
    "test_ET_gini_mean.columns  = ['ET_gini_' + x for x in names[:n_column]]\n",
    "test_ET_gini_gmean.columns = ['ET_gini_' + x for x in names[:n_column]]\n",
    "\n",
    "file_train      = 'train_blend_ET_entropy_BM_2017-03-09-20-44' + '.csv'\n",
    "file_test_mean  = 'test_blend_ET_entropy_mean_BM_2017-03-09-20-44' + '.csv'\n",
    "file_test_gmean = 'test_blend_ET_entropy_gmean_BM_2017-03-09-20-44' + '.csv'\n",
    "\n",
    "train_ET_entropy      = pd.read_csv(data_path + file_train,      header = None)\n",
    "test_ET_entropy_mean  = pd.read_csv(data_path + file_test_mean,  header = None)\n",
    "test_ET_entropy_gmean = pd.read_csv(data_path + file_test_gmean, header = None)\n",
    "\n",
    "n_column = train_ET_entropy.shape[1]\n",
    "\n",
    "train_ET_entropy.columns      = ['ET_entropy_' + x for x in names[:n_column]]\n",
    "test_ET_entropy_mean.columns  = ['ET_entropy_' + x for x in names[:n_column]]\n",
    "test_ET_entropy_gmean.columns = ['ET_entropy_' + x for x in names[:n_column]]\n",
    "\n",
    "print 'train_ET_gini: {}\\t test_ET_gini_mean:{}\\t test_ET_gini_gmean:{}'.\\\n",
    "        format(train_ET_gini.shape,test_ET_gini_mean.shape,test_ET_gini_gmean.shape)\n",
    "print '\\ntrain_ET_entropy: {}\\t test_ET_entropy_mean:{}\\t test_ET_entropy_gmean:{}'.\\\n",
    "        format(train_ET_entropy.shape,test_ET_entropy_mean.shape,test_ET_entropy_gmean.shape)\n",
    "    \n",
    "    \n",
    "print '\\ntrain_ET_gini'\n",
    "print train_ET_gini.iloc[:5,:3]\n",
    "print '\\ntrain_ET_entropy'\n",
    "print train_ET_entropy.iloc[:5,:3]"
   ]
  },
  {
   "cell_type": "code",
   "execution_count": 6,
   "metadata": {
    "collapsed": false
   },
   "outputs": [
    {
     "name": "stdout",
     "output_type": "stream",
     "text": [
      "train_KNN_uniform: (49352, 3)\t test_KNN_uniform_mean:(74659, 3)\t test_KNN_uniform_gmean:(74659, 3)\n",
      "\n",
      "train_KNN_distance: (49352, 3)\t test_KNN_distance_mean:(74659, 3)\t test_KNN_distance_gmean:(74659, 3)\n",
      "\n",
      "train_KNN_uniform\n",
      "   KNN_uniform_low_0  KNN_uniform_medium_0  KNN_uniform_high_0\n",
      "0              0.505                 0.390               0.105\n",
      "1              0.535                 0.355               0.110\n",
      "2              0.675                 0.270               0.055\n",
      "3              0.555                 0.295               0.150\n",
      "4              0.815                 0.155               0.030\n",
      "\n",
      "train_KNN_distance\n",
      "   KNN_distance_low_0  KNN_distance_medium_0  KNN_distance_high_0\n",
      "0            0.540803               0.380577             0.078620\n",
      "1            0.540929               0.347829             0.111242\n",
      "2            0.666872               0.280763             0.052364\n",
      "3            0.575852               0.266448             0.157700\n",
      "4            0.845119               0.142102             0.012778\n"
     ]
    }
   ],
   "source": [
    "# KNN 1st level\n",
    "file_train      = 'train_blend_KNN_uniform_BM_MB_add03052240_2017-03-11-18-31' + '.csv'\n",
    "file_test_mean  = 'test_blend_KNN_uniform_mean_BM_MB_add03052240_2017-03-11-18-31' + '.csv'\n",
    "file_test_gmean = 'test_blend_KNN_uniform_gmean_BM_MB_add03052240_2017-03-11-18-31' + '.csv'\n",
    "\n",
    "train_KNN_uniform      = pd.read_csv(data_path + file_train,      header = None)\n",
    "test_KNN_uniform_mean  = pd.read_csv(data_path + file_test_mean,  header = None)\n",
    "test_KNN_uniform_gmean = pd.read_csv(data_path + file_test_gmean, header = None)\n",
    "\n",
    "n_column = train_KNN_uniform.shape[1]\n",
    "\n",
    "train_KNN_uniform.columns      = ['KNN_uniform_' + x for x in names[:n_column]]\n",
    "test_KNN_uniform_mean.columns  = ['KNN_uniform_' + x for x in names[:n_column]]\n",
    "test_KNN_uniform_gmean.columns = ['KNN_uniform_' + x for x in names[:n_column]]\n",
    "\n",
    "file_train      = 'train_blend_KNN_distance_BM_MB_add_2017-03-11-21-51' + '.csv'\n",
    "file_test_mean  = 'test_blend_KNN_distance_mean_BM_MB_add_2017-03-11-21-51' + '.csv'\n",
    "file_test_gmean = 'test_blend_KNN_distance_gmean_BM_MB_add_2017-03-11-21-51' + '.csv'\n",
    "\n",
    "train_KNN_distance      = pd.read_csv(data_path + file_train,      header = None)\n",
    "test_KNN_distance_mean  = pd.read_csv(data_path + file_test_mean,  header = None)\n",
    "test_KNN_distance_gmean = pd.read_csv(data_path + file_test_gmean, header = None)\n",
    "\n",
    "n_column = train_KNN_distance.shape[1]\n",
    "\n",
    "train_KNN_distance.columns      = ['KNN_distance_' + x for x in names[:n_column]]\n",
    "test_KNN_distance_mean.columns  = ['KNN_distance_' + x for x in names[:n_column]]\n",
    "test_KNN_distance_gmean.columns = ['KNN_distance_' + x for x in names[:n_column]]\n",
    "\n",
    "print 'train_KNN_uniform: {}\\t test_KNN_uniform_mean:{}\\t test_KNN_uniform_gmean:{}'.\\\n",
    "        format(train_KNN_uniform.shape,test_KNN_uniform_mean.shape,test_KNN_uniform_gmean.shape)\n",
    "print '\\ntrain_KNN_distance: {}\\t test_KNN_distance_mean:{}\\t test_KNN_distance_gmean:{}'.\\\n",
    "        format(train_KNN_distance.shape,test_KNN_distance_mean.shape,test_KNN_distance_gmean.shape)\n",
    "    \n",
    "print '\\ntrain_KNN_uniform'\n",
    "print train_KNN_uniform.iloc[:5,:3]\n",
    "print '\\ntrain_KNN_distance'\n",
    "print train_KNN_distance.iloc[:5,:3]"
   ]
  },
  {
   "cell_type": "code",
   "execution_count": 7,
   "metadata": {
    "collapsed": false
   },
   "outputs": [
    {
     "name": "stdout",
     "output_type": "stream",
     "text": [
      "train_FM: (49352, 3)\t test_FM_mean:(74659, 3)\t test_FM_gmean:(74659, 3)\n",
      "\n",
      "train_FM\n",
      "   FM_low_0  FM_medium_0  FM_high_0\n",
      "0  0.458595     0.410776   0.130629\n",
      "1  0.329965     0.537926   0.132109\n",
      "2  0.767341     0.206732   0.025927\n",
      "3  0.617983     0.351273   0.030744\n",
      "4  0.877894     0.103967   0.018139\n"
     ]
    }
   ],
   "source": [
    "# TFFM 1st level\n",
    "file_train      = 'train_blend_FM_BM_MB_add_desc_2017-03-16-09-52' + '.csv'\n",
    "file_test_mean  = 'test_blend_FM_mean_BM_MB_add_desc_2017-03-16-09-52' + '.csv'\n",
    "file_test_gmean = 'test_blend_FM_gmean_BM_MB_add_desc_2017-03-16-09-52' + '.csv'\n",
    "\n",
    "train_FM      = pd.read_csv(data_path + file_train,      header = None)\n",
    "test_FM_mean  = pd.read_csv(data_path + file_test_mean,  header = None)\n",
    "test_FM_gmean = pd.read_csv(data_path + file_test_gmean, header = None)\n",
    "\n",
    "n_column = train_FM.shape[1]\n",
    "\n",
    "train_FM.columns      = ['FM_' + x for x in names[:n_column]]\n",
    "test_FM_mean.columns  = ['FM_' + x for x in names[:n_column]]\n",
    "test_FM_gmean.columns = ['FM_' + x for x in names[:n_column]]\n",
    "\n",
    "print 'train_FM: {}\\t test_FM_mean:{}\\t test_FM_gmean:{}'.\\\n",
    "        format(train_FM.shape,test_FM_mean.shape,test_FM_gmean.shape)\n",
    "\n",
    "print '\\ntrain_FM'\n",
    "print train_FM.iloc[:5,:3]"
   ]
  },
  {
   "cell_type": "code",
   "execution_count": 8,
   "metadata": {
    "collapsed": false
   },
   "outputs": [
    {
     "name": "stdout",
     "output_type": "stream",
     "text": [
      "train_MNB: (49352, 9)\t test_MNB_mean:(74659, 9)\t test_MNB_gmean:(74659, 9)\n",
      "\n",
      "train_MNB\n",
      "   MNB_low_0  MNB_medium_0  MNB_high_0\n",
      "0   0.250130      0.546075    0.203795\n",
      "1   0.514751      0.424027    0.061222\n",
      "2   0.675745      0.283239    0.041015\n",
      "3   0.238787      0.331607    0.429605\n",
      "4   0.909543      0.082724    0.007733\n"
     ]
    }
   ],
   "source": [
    "# Multinomial Naive Bayes 1st level\n",
    "file_train      = 'train_blend_MNB_BM_MB_add03052240_2017-03-13-20-51' + '.csv'\n",
    "file_test_mean  = 'test_blend_MNB_mean_BM_MB_add03052240_2017-03-13-20-51' + '.csv'\n",
    "file_test_gmean = 'test_blend_MNB_gmean_BM_MB_add03052240_2017-03-13-20-51' + '.csv'\n",
    "\n",
    "train_MNB      = pd.read_csv(data_path + file_train,      header = None)\n",
    "test_MNB_mean  = pd.read_csv(data_path + file_test_mean,  header = None)\n",
    "test_MNB_gmean = pd.read_csv(data_path + file_test_gmean, header = None)\n",
    "\n",
    "n_column = train_MNB.shape[1]\n",
    "\n",
    "train_MNB.columns      = ['MNB_' + x for x in names[:n_column]]\n",
    "test_MNB_mean.columns  = ['MNB_' + x for x in names[:n_column]]\n",
    "test_MNB_gmean.columns = ['MNB_' + x for x in names[:n_column]]\n",
    "\n",
    "print 'train_MNB: {}\\t test_MNB_mean:{}\\t test_MNB_gmean:{}'.\\\n",
    "        format(train_MNB.shape,test_MNB_mean.shape,test_MNB_gmean.shape)\n",
    "    \n",
    "print '\\ntrain_MNB'\n",
    "print train_MNB.iloc[:5,:3]"
   ]
  },
  {
   "cell_type": "code",
   "execution_count": 9,
   "metadata": {
    "collapsed": false
   },
   "outputs": [
    {
     "name": "stdout",
     "output_type": "stream",
     "text": [
      "train_tsne: (49352, 3)\t test_tsne:(74659, 3)\n",
      "\n",
      "train_xgb\n",
      "      tsne_0     tsne_1    tsne_2\n",
      "0  -8.398991  -2.415894 -3.602143\n",
      "1   0.698237   0.335786  8.884257\n",
      "2  -5.811380 -16.669975  7.145837\n",
      "3  -0.371861 -25.894747 -2.076309\n",
      "4 -15.371799   9.656209  5.813590\n"
     ]
    }
   ],
   "source": [
    "# TSNE 1st level\n",
    "\n",
    "file_train = 'X_train_tsne_BM_MB_add_desc_2017-03-18-17-14' + '.csv'\n",
    "file_test  = 'X_test_tsne_BM_MB_add_desc_2017-03-18-17-14' + '.csv'\n",
    "\n",
    "train_tsne = pd.read_csv(data_path + file_train, header = None)\n",
    "test_tsne  = pd.read_csv(data_path + file_test, header = None)\n",
    "\n",
    "\n",
    "n_column = train_tsne.shape[1]\n",
    "\n",
    "train_tsne.columns = ['tsne_0', 'tsne_1', 'tsne_2']\n",
    "test_tsne.columns  = ['tsne_0', 'tsne_1', 'tsne_2']\n",
    "\n",
    "print 'train_tsne: {}\\t test_tsne:{}'.\\\n",
    "        format(train_tsne.shape,test_tsne.shape)\n",
    "    \n",
    "print '\\ntrain_xgb'\n",
    "print train_tsne.iloc[:5,:3]"
   ]
  },
  {
   "cell_type": "code",
   "execution_count": 10,
   "metadata": {
    "collapsed": false
   },
   "outputs": [
    {
     "name": "stdout",
     "output_type": "stream",
     "text": [
      "train_xgb: (49352, 15)\t test_xgb_mean:(74659, 15)\t test_xgb_gmean:(74659, 15)\n",
      "\n",
      "train_xgb\n",
      "   xgb_low_0  xgb_medium_0  xgb_high_0\n",
      "0   0.620867      0.354255    0.024877\n",
      "1   0.430220      0.494481    0.075300\n",
      "2   0.841392      0.146357    0.012251\n",
      "3   0.832960      0.161299    0.005741\n",
      "4   0.976559      0.022998    0.000443\n"
     ]
    }
   ],
   "source": [
    "# XGB 1st level\n",
    "\n",
    "file_train = 'train_blend_xgb_BM_MB_add_desc_2017-03-14-16-54' + '.csv'\n",
    "file_test_mean = 'test_blend_xgb_mean_BM_MB_add_desc_2017-03-14-16-54' + '.csv'\n",
    "file_test_gmean = 'test_blend_xgb_gmean_BM_MB_add_desc_2017-03-14-16-54' + '.csv'\n",
    "\n",
    "train_xgb      = pd.read_csv(data_path + file_train, header = None)\n",
    "test_xgb_mean  = pd.read_csv(data_path + file_test_mean, header = None)\n",
    "test_xgb_gmean = pd.read_csv(data_path + file_test_gmean, header = None)\n",
    "\n",
    "n_column = train_xgb.shape[1]\n",
    "\n",
    "train_xgb.columns = ['xgb_' + x for x in names[:n_column]]\n",
    "test_xgb_mean.columns = ['xgb_' + x for x in names[:n_column]]\n",
    "test_xgb_gmean.columns = ['xgb_' + x for x in names[:n_column]]\n",
    "\n",
    "print 'train_xgb: {}\\t test_xgb_mean:{}\\t test_xgb_gmean:{}'.\\\n",
    "        format(train_xgb.shape,test_xgb_mean.shape,test_xgb_gmean.shape)\n",
    "    \n",
    "print '\\ntrain_xgb'\n",
    "print train_xgb.iloc[:5,:3]"
   ]
  },
  {
   "cell_type": "code",
   "execution_count": 11,
   "metadata": {
    "collapsed": false
   },
   "outputs": [
    {
     "name": "stdout",
     "output_type": "stream",
     "text": [
      "train_2nd: (49352, 63)\t test_2nd_mean:(74659, 63)\t test_2nd_gmean:(74659, 63)\n"
     ]
    }
   ],
   "source": [
    "train_2nd      = pd.concat([train_rfc_gini, train_rfc_entropy, \n",
    "                            train_LR, \n",
    "                            train_ET_gini, train_ET_entropy, \n",
    "                            train_KNN_uniform, train_KNN_distance,\n",
    "                            train_FM,\n",
    "                            train_MNB,\n",
    "                            train_tsne,\n",
    "                            train_xgb\n",
    "                           ], axis = 1)\n",
    "\n",
    "test_2nd_mean  = pd.concat([test_rfc_gini_mean,test_rfc_entropy_mean, \n",
    "                            test_LR_mean, \n",
    "                            test_ET_gini_mean, test_ET_entropy_mean,\n",
    "                            test_KNN_uniform_mean, test_KNN_distance_mean, \n",
    "                            test_FM_mean,\n",
    "                            test_MNB_mean,\n",
    "                            test_tsne,\n",
    "                            test_xgb_mean\n",
    "                           ], axis = 1)\n",
    "\n",
    "test_2nd_gmean = pd.concat([test_rfc_gini_gmean,test_rfc_entropy_gmean, \n",
    "                            test_LR_gmean, \n",
    "                            test_ET_gini_gmean, test_ET_entropy_gmean,\n",
    "                            test_KNN_uniform_gmean, test_KNN_distance_gmean,\n",
    "                            test_FM_gmean,\n",
    "                            test_MNB_gmean,\n",
    "                            test_tsne,\n",
    "                            test_xgb_gmean\n",
    "                           ], axis = 1)\n",
    "\n",
    "print 'train_2nd: {}\\t test_2nd_mean:{}\\t test_2nd_gmean:{}'.\\\n",
    "            format(train_2nd.shape,test_2nd_mean.shape,test_2nd_gmean.shape)"
   ]
  },
  {
   "cell_type": "code",
   "execution_count": 12,
   "metadata": {
    "collapsed": true
   },
   "outputs": [],
   "source": [
    "\n",
    "\n",
    "#Our feature construction class will inherit from these two base classes of sklearn.\n",
    "from sklearn.base import BaseEstimator\n",
    "from sklearn.base import TransformerMixin\n",
    "\n",
    "class manager_skill(BaseEstimator, TransformerMixin):\n",
    "    \"\"\"\n",
    "    Adds the column \"manager_skill\" to the dataset, based on the Kaggle kernel\n",
    "    \"Improve Perfomances using Manager features\" by den3b. The function should\n",
    "    be usable in scikit-learn pipelines.    \n",
    "    Parameters\n",
    "    ----------\n",
    "    threshold : Minimum count of rental listings a manager must have in order\n",
    "                to get his \"own\" score, otherwise the mean is assigned.\n",
    "    Attributes\n",
    "    ----------\n",
    "    mapping : pandas dataframe\n",
    "        contains the manager_skill per manager id.        \n",
    "    mean_skill : float\n",
    "        The mean skill of managers with at least as many listings as the \n",
    "        threshold.\n",
    "    \"\"\"\n",
    "    def __init__(self, threshold = 100):        \n",
    "        self.threshold = threshold        \n",
    "    def _reset(self):\n",
    "        \"\"\"Reset internal data-dependent state of the scaler, if necessary.        \n",
    "        __init__ parameters are not touched.\n",
    "        \"\"\"\n",
    "        # Checking one attribute is enough, becase they are all set together\n",
    "        # in fit        \n",
    "        if hasattr(self, 'mapping_'):            \n",
    "            self.mapping_ = {}\n",
    "            self.mean_skill_ = 0.0        \n",
    "    def fit(self, X,y):\n",
    "        \"\"\"Compute the skill values per manager for later use.        \n",
    "        Parameters\n",
    "        ----------\n",
    "        X : pandas dataframe, shape [n_samples, n_features]\n",
    "            The rental data. It has to contain a column named \"manager_id\".            \n",
    "        y : pandas series or numpy array, shape [n_samples]\n",
    "            The corresponding target values with encoding:\n",
    "            low: 0.0\n",
    "            medium: 1.0\n",
    "            high: 2.0\n",
    "        \"\"\"        \n",
    "        self._reset()        \n",
    "        temp = pd.concat([X.manager_id,pd.get_dummies(y)], axis = 1).groupby('manager_id').mean()\n",
    "        temp.columns = ['low_frac', 'medium_frac', 'high_frac']\n",
    "        temp['count'] = X.groupby('manager_id').count().iloc[:,1]        \n",
    "        print(temp.head())        \n",
    "        temp['manager_skill'] = temp['high_frac']*2 + temp['medium_frac']        \n",
    "        mean = temp.loc[temp['count'] >= self.threshold, 'manager_skill'].mean()        \n",
    "        temp.loc[temp['count'] < self.threshold, 'manager_skill'] = mean        \n",
    "        self.mapping_ = temp[['manager_skill']]\n",
    "        self.mean_skill_ = mean            \n",
    "        return self        \n",
    "    def transform(self, X):\n",
    "        \"\"\"Add manager skill to a new matrix.        \n",
    "        Parameters\n",
    "        ----------\n",
    "        X : pandas dataframe, shape [n_samples, n_features]\n",
    "            Input data, has to contain \"manager_id\".\n",
    "        \"\"\"        \n",
    "        X = pd.merge(left = X, right = self.mapping_, how = 'left', left_on = 'manager_id', right_index = True)\n",
    "        X['manager_skill'].fillna(self.mean_skill_, inplace = True)        \n",
    "        return X"
   ]
  },
  {
   "cell_type": "code",
   "execution_count": 42,
   "metadata": {
    "collapsed": true
   },
   "outputs": [],
   "source": [
    "from sklearn.metrics.pairwise import euclidean_distances\n",
    "\n",
    "def dis_level(train, val, test, cols):\n",
    "    name_pre = ''\n",
    "    \n",
    "    for col in cols:\n",
    "        scaler = preprocessing.StandardScaler()\n",
    "        scaler.fit(train[cols])\n",
    "        train[cols] = scaler.transform(train[cols])\n",
    "        val[cols] = scaler.transform(val[cols])\n",
    "        test[cols] = scaler.transform(test[cols])\n",
    "        if len(col) > 4:\n",
    "            name_pre += (col[:3] + '_')\n",
    "        else:\n",
    "            name_pre += (col + '_')\n",
    "    \n",
    "    index_low = train[train['interest_level'] == 0].index\n",
    "    index_medium = train[train['interest_level'] == 1].index\n",
    "    index_high = train[train['interest_level'] == 2].index    \n",
    "    \n",
    "    euc_low = train.loc[index_low,cols]\n",
    "    euc_medium = train.loc[index_medium,cols]\n",
    "    euc_high = train.loc[index_high,cols]\n",
    "\n",
    "    temp_train = train.loc[:,cols]\n",
    "    temp_val = val.loc[:,cols]\n",
    "    temp_test = test.loc[:,cols]       \n",
    "\n",
    "    dis_low = ['dis_low_1','dis_low_2','dis_low_4','dis_low_8',\n",
    "               'dis_low_16','dis_low_32','dis_low_64','dis_low_128']\n",
    "    for i in dis_low:\n",
    "        train[name_pre+i] = np.nan\n",
    "        val[name_pre+i] = np.nan\n",
    "        test[name_pre+i] = np.nan\n",
    "        \n",
    "\n",
    "\n",
    "    dis_medium = ['dis_medium_1','dis_medium_2','dis_medium_4','dis_medium_8',\n",
    "                  'dis_medium_16','dis_medium_32','dis_medium_64','dis_medium_128']\n",
    "    for i in dis_medium:\n",
    "        train[name_pre+i] = np.nan\n",
    "        val[name_pre+i] = np.nan\n",
    "        test[name_pre+i] = np.nan\n",
    "\n",
    "    dis_high = ['dis_high_1','dis_high_2','dis_high_4','dis_high_8',\n",
    "                'dis_high_16','dis_high_32','dis_high_64','dis_high_128']\n",
    "    for i in dis_high:\n",
    "        train[name_pre+i] = np.nan\n",
    "        val[name_pre+i] = np.nan\n",
    "        test[name_pre+i] = np.nan\n",
    "\n",
    "    \n",
    "    # dis_level for train\n",
    "    kf = KFold(n_splits=200)\n",
    "    for _, index in kf.split(temp_train):\n",
    "        # dist to low\n",
    "        tmp_dist = euclidean_distances(temp_train.iloc[index],euc_low)\n",
    "        tmp_dist = pd.DataFrame(np.sort(tmp_dist,axis = 1))\n",
    "        for dis_n in range(len(dis_low)):\n",
    "            train.iloc[index, 4 + dis_n] = np.array(tmp_dist.loc[:,:np.power(2,dis_n)].sum(axis = 1))\n",
    "    \n",
    "        # dist to medium\n",
    "        tmp_dist = euclidean_distances(temp_train.iloc[index],euc_medium)\n",
    "        tmp_dist = pd.DataFrame(np.sort(tmp_dist,axis = 1))\n",
    "        for dis_n in range(len(dis_medium)):\n",
    "            train.iloc[index,12 + dis_n] = np.array(tmp_dist.loc[:,:np.power(2,dis_n)].sum(axis = 1))\n",
    "            \n",
    "#         # dist to high\n",
    "        tmp_dist = euclidean_distances(temp_train.iloc[index],euc_high)\n",
    "        tmp_dist = pd.DataFrame(np.sort(tmp_dist,axis = 1))\n",
    "        for dis_n in range(len(dis_high)):\n",
    "            train.iloc[index,20 + dis_n] = np.array(tmp_dist.loc[:,:np.power(2,dis_n)].sum(axis = 1))\n",
    "\n",
    "    \n",
    "#     # dis_level for test\n",
    "#     kf = KFold(n_splits=200)\n",
    "#     for _, index in kf.split(temp_test):\n",
    "#         # dist to low\n",
    "#         tmp_dist = euclidean_distances(temp_test.iloc[index],euc_low)\n",
    "#         tmp_dist = pd.DataFrame(np.sort(tmp_dist,axis = 1))\n",
    "#         for dis_n in range(len(dis_low)):\n",
    "#             test.iloc[index, 4 + dis_n] = np.array(tmp_dist.loc[:,:np.power(2,dis_n)].sum(axis = 1))\n",
    "    \n",
    "#         # dist to medium\n",
    "#         tmp_dist = euclidean_distances(temp_test.iloc[index],euc_medium)\n",
    "#         tmp_dist = pd.DataFrame(np.sort(tmp_dist,axis = 1))\n",
    "#         for dis_n in range(len(dis_medium)):\n",
    "#             test.iloc[index,12 + dis_n] = np.array(tmp_dist.loc[:,:np.power(2,dis_n)].sum(axis = 1))\n",
    "\n",
    "# #         # dist to high\n",
    "#         tmp_dist = euclidean_distances(temp_test.iloc[index],euc_high)\n",
    "#         tmp_dist = pd.DataFrame(np.sort(tmp_dist,axis = 1))\n",
    "#         for dis_n in range(len(dis_high)):\n",
    "#             test.iloc[index,20 + dis_n] = np.array(tmp_dist.loc[:,:np.power(2,dis_n)].sum(axis = 1))\n",
    "\n",
    "\n",
    "    # dis_level for val\n",
    "    kf = KFold(n_splits=200)\n",
    "    for _, index in kf.split(temp_val):\n",
    "        # dist to low\n",
    "        tmp_dist = euclidean_distances(temp_val.iloc[index],euc_low)\n",
    "        tmp_dist = pd.DataFrame(np.sort(tmp_dist,axis = 1))\n",
    "        for dis_n in range(len(dis_low)):\n",
    "            val.iloc[index, 4 + dis_n] = np.array(tmp_dist.loc[:,:np.power(2,dis_n)].sum(axis = 1))\n",
    "    \n",
    "        # dist to medium\n",
    "        tmp_dist = euclidean_distances(temp_val.iloc[index],euc_medium)\n",
    "        tmp_dist = pd.DataFrame(np.sort(tmp_dist,axis = 1))\n",
    "        for dis_n in range(len(dis_medium)):\n",
    "            val.iloc[index,12 + dis_n] = np.array(tmp_dist.loc[:,:np.power(2,dis_n)].sum(axis = 1))\n",
    "\n",
    "#         # dist to high\n",
    "        tmp_dist = euclidean_distances(temp_val.iloc[index],euc_high)\n",
    "        tmp_dist = pd.DataFrame(np.sort(tmp_dist,axis = 1))\n",
    "        for dis_n in range(len(dis_high)):\n",
    "            val.iloc[index,20 + dis_n] = np.array(tmp_dist.loc[:,:np.power(2,dis_n)].sum(axis = 1))\n",
    "\n",
    "    return train, val, test  "
   ]
  },
  {
   "cell_type": "code",
   "execution_count": 14,
   "metadata": {
    "collapsed": false
   },
   "outputs": [],
   "source": [
    "train_df = pd.read_csv('../input/' + 'train_BrandenMurray.csv')\n",
    "test_df = pd.read_csv('../input/' + 'test_BrandenMurray.csv')"
   ]
  },
  {
   "cell_type": "code",
   "execution_count": 15,
   "metadata": {
    "collapsed": false
   },
   "outputs": [],
   "source": [
    "train_y_df = pd.DataFrame(train_y, columns = ['interest_level'])\n",
    "features_to_use = list(train_2nd.columns.values)\n",
    "features_to_use.extend(['listing_id','manager_id', 'latitude', 'longitude'])\n",
    "tmp = pd.concat([train_2nd, train_df[['listing_id','manager_id', 'latitude', 'longitude']],train_y_df], axis = 1)\n",
    "tmp_test = pd.concat([test_2nd_mean, test_df[['listing_id','manager_id', 'latitude', 'longitude']]], axis = 1)"
   ]
  },
  {
   "cell_type": "code",
   "execution_count": 16,
   "metadata": {
    "collapsed": false
   },
   "outputs": [
    {
     "name": "stdout",
     "output_type": "stream",
     "text": [
      "(39481, 67)\n",
      "(9871, 67)\n",
      "(74659, 67)\n"
     ]
    }
   ],
   "source": [
    "X = tmp[features_to_use]\n",
    "y = tmp[\"interest_level\"]\n",
    "pred_test = tmp_test[features_to_use]\n",
    "X_train, X_val, y_train, y_val = train_test_split(X, y, train_size=.80, random_state=1234)\n",
    "\n",
    "print X_train.shape\n",
    "print X_val.shape\n",
    "print pred_test.shape"
   ]
  },
  {
   "cell_type": "code",
   "execution_count": 17,
   "metadata": {
    "collapsed": false
   },
   "outputs": [
    {
     "name": "stdout",
     "output_type": "stream",
     "text": [
      "            low_frac  medium_frac  high_frac  count\n",
      "manager_id                                         \n",
      "1           0.736148     0.166227   0.097625    379\n",
      "2           0.428571     0.571429   0.000000      7\n",
      "3           1.000000     0.000000   0.000000      7\n",
      "4           1.000000     0.000000   0.000000      1\n",
      "5           0.000000     1.000000   0.000000      2\n"
     ]
    },
    {
     "data": {
      "text/html": [
       "<div>\n",
       "<table border=\"1\" class=\"dataframe\">\n",
       "  <thead>\n",
       "    <tr style=\"text-align: right;\">\n",
       "      <th></th>\n",
       "      <th>rfc_gini_low_0</th>\n",
       "      <th>rfc_gini_medium_0</th>\n",
       "      <th>rfc_gini_high_0</th>\n",
       "      <th>rfc_entropy_low_0</th>\n",
       "      <th>rfc_entropy_medium_0</th>\n",
       "      <th>rfc_entropy_high_0</th>\n",
       "      <th>LR_low_0</th>\n",
       "      <th>LR_medium_0</th>\n",
       "      <th>LR_high_0</th>\n",
       "      <th>LR_low_1</th>\n",
       "      <th>...</th>\n",
       "      <th>xgb_medium_3</th>\n",
       "      <th>xgb_high_3</th>\n",
       "      <th>xgb_low_4</th>\n",
       "      <th>xgb_medium_4</th>\n",
       "      <th>xgb_high_4</th>\n",
       "      <th>listing_id</th>\n",
       "      <th>manager_id</th>\n",
       "      <th>latitude</th>\n",
       "      <th>longitude</th>\n",
       "      <th>manager_skill</th>\n",
       "    </tr>\n",
       "  </thead>\n",
       "  <tbody>\n",
       "    <tr>\n",
       "      <th>40116</th>\n",
       "      <td>0.699259</td>\n",
       "      <td>0.255078</td>\n",
       "      <td>0.045663</td>\n",
       "      <td>0.677992</td>\n",
       "      <td>0.271449</td>\n",
       "      <td>0.050559</td>\n",
       "      <td>0.820742</td>\n",
       "      <td>0.171587</td>\n",
       "      <td>0.007670</td>\n",
       "      <td>0.820696</td>\n",
       "      <td>...</td>\n",
       "      <td>0.332167</td>\n",
       "      <td>0.056634</td>\n",
       "      <td>0.628137</td>\n",
       "      <td>0.306680</td>\n",
       "      <td>0.065183</td>\n",
       "      <td>6848609</td>\n",
       "      <td>3340</td>\n",
       "      <td>40.7373</td>\n",
       "      <td>-74.0042</td>\n",
       "      <td>0.349493</td>\n",
       "    </tr>\n",
       "    <tr>\n",
       "      <th>774</th>\n",
       "      <td>0.328789</td>\n",
       "      <td>0.488618</td>\n",
       "      <td>0.182594</td>\n",
       "      <td>0.336476</td>\n",
       "      <td>0.455834</td>\n",
       "      <td>0.207690</td>\n",
       "      <td>0.287847</td>\n",
       "      <td>0.484333</td>\n",
       "      <td>0.227820</td>\n",
       "      <td>0.287863</td>\n",
       "      <td>...</td>\n",
       "      <td>0.332301</td>\n",
       "      <td>0.057891</td>\n",
       "      <td>0.596460</td>\n",
       "      <td>0.338909</td>\n",
       "      <td>0.064631</td>\n",
       "      <td>7090131</td>\n",
       "      <td>2756</td>\n",
       "      <td>40.7700</td>\n",
       "      <td>-73.9491</td>\n",
       "      <td>0.349493</td>\n",
       "    </tr>\n",
       "    <tr>\n",
       "      <th>1599</th>\n",
       "      <td>0.385761</td>\n",
       "      <td>0.485011</td>\n",
       "      <td>0.129228</td>\n",
       "      <td>0.388958</td>\n",
       "      <td>0.505102</td>\n",
       "      <td>0.105940</td>\n",
       "      <td>0.147263</td>\n",
       "      <td>0.451162</td>\n",
       "      <td>0.401575</td>\n",
       "      <td>0.147753</td>\n",
       "      <td>...</td>\n",
       "      <td>0.558769</td>\n",
       "      <td>0.032261</td>\n",
       "      <td>0.192936</td>\n",
       "      <td>0.762452</td>\n",
       "      <td>0.044612</td>\n",
       "      <td>7088808</td>\n",
       "      <td>2539</td>\n",
       "      <td>40.8573</td>\n",
       "      <td>-73.9353</td>\n",
       "      <td>0.349493</td>\n",
       "    </tr>\n",
       "    <tr>\n",
       "      <th>44468</th>\n",
       "      <td>0.798519</td>\n",
       "      <td>0.170491</td>\n",
       "      <td>0.030990</td>\n",
       "      <td>0.827860</td>\n",
       "      <td>0.146875</td>\n",
       "      <td>0.025266</td>\n",
       "      <td>0.918928</td>\n",
       "      <td>0.071875</td>\n",
       "      <td>0.009197</td>\n",
       "      <td>0.918957</td>\n",
       "      <td>...</td>\n",
       "      <td>0.291789</td>\n",
       "      <td>0.035553</td>\n",
       "      <td>0.676636</td>\n",
       "      <td>0.299511</td>\n",
       "      <td>0.023853</td>\n",
       "      <td>6862626</td>\n",
       "      <td>837</td>\n",
       "      <td>40.7222</td>\n",
       "      <td>-74.0119</td>\n",
       "      <td>0.349493</td>\n",
       "    </tr>\n",
       "    <tr>\n",
       "      <th>42023</th>\n",
       "      <td>0.669344</td>\n",
       "      <td>0.293578</td>\n",
       "      <td>0.037078</td>\n",
       "      <td>0.686367</td>\n",
       "      <td>0.289514</td>\n",
       "      <td>0.024118</td>\n",
       "      <td>0.666216</td>\n",
       "      <td>0.302682</td>\n",
       "      <td>0.031102</td>\n",
       "      <td>0.666165</td>\n",
       "      <td>...</td>\n",
       "      <td>0.163058</td>\n",
       "      <td>0.005951</td>\n",
       "      <td>0.792361</td>\n",
       "      <td>0.200041</td>\n",
       "      <td>0.007598</td>\n",
       "      <td>6852462</td>\n",
       "      <td>1278</td>\n",
       "      <td>40.7656</td>\n",
       "      <td>-73.9886</td>\n",
       "      <td>0.439306</td>\n",
       "    </tr>\n",
       "  </tbody>\n",
       "</table>\n",
       "<p>5 rows × 68 columns</p>\n",
       "</div>"
      ],
      "text/plain": [
       "       rfc_gini_low_0  rfc_gini_medium_0  rfc_gini_high_0  rfc_entropy_low_0  \\\n",
       "40116        0.699259           0.255078         0.045663           0.677992   \n",
       "774          0.328789           0.488618         0.182594           0.336476   \n",
       "1599         0.385761           0.485011         0.129228           0.388958   \n",
       "44468        0.798519           0.170491         0.030990           0.827860   \n",
       "42023        0.669344           0.293578         0.037078           0.686367   \n",
       "\n",
       "       rfc_entropy_medium_0  rfc_entropy_high_0  LR_low_0  LR_medium_0  \\\n",
       "40116              0.271449            0.050559  0.820742     0.171587   \n",
       "774                0.455834            0.207690  0.287847     0.484333   \n",
       "1599               0.505102            0.105940  0.147263     0.451162   \n",
       "44468              0.146875            0.025266  0.918928     0.071875   \n",
       "42023              0.289514            0.024118  0.666216     0.302682   \n",
       "\n",
       "       LR_high_0  LR_low_1      ...        xgb_medium_3  xgb_high_3  \\\n",
       "40116   0.007670  0.820696      ...            0.332167    0.056634   \n",
       "774     0.227820  0.287863      ...            0.332301    0.057891   \n",
       "1599    0.401575  0.147753      ...            0.558769    0.032261   \n",
       "44468   0.009197  0.918957      ...            0.291789    0.035553   \n",
       "42023   0.031102  0.666165      ...            0.163058    0.005951   \n",
       "\n",
       "       xgb_low_4  xgb_medium_4  xgb_high_4  listing_id  manager_id  latitude  \\\n",
       "40116   0.628137      0.306680    0.065183     6848609        3340   40.7373   \n",
       "774     0.596460      0.338909    0.064631     7090131        2756   40.7700   \n",
       "1599    0.192936      0.762452    0.044612     7088808        2539   40.8573   \n",
       "44468   0.676636      0.299511    0.023853     6862626         837   40.7222   \n",
       "42023   0.792361      0.200041    0.007598     6852462        1278   40.7656   \n",
       "\n",
       "       longitude  manager_skill  \n",
       "40116   -74.0042       0.349493  \n",
       "774     -73.9491       0.349493  \n",
       "1599    -73.9353       0.349493  \n",
       "44468   -74.0119       0.349493  \n",
       "42023   -73.9886       0.439306  \n",
       "\n",
       "[5 rows x 68 columns]"
      ]
     },
     "execution_count": 17,
     "metadata": {},
     "output_type": "execute_result"
    }
   ],
   "source": [
    "#Initialize the object\n",
    "trans = manager_skill()\n",
    "#First, fit it to the training data:\n",
    "trans.fit(X_train, y_train)\n",
    "#Now transform the training data\n",
    "X_train_transformed = trans.transform(X_train)\n",
    "#You can also do fit and transform in one step:\n",
    "# X_train_transformed = trans.fit_transform(X_train, y_train)\n",
    "X_train_transformed.head()"
   ]
  },
  {
   "cell_type": "code",
   "execution_count": 18,
   "metadata": {
    "collapsed": false
   },
   "outputs": [
    {
     "data": {
      "text/html": [
       "<div>\n",
       "<table border=\"1\" class=\"dataframe\">\n",
       "  <thead>\n",
       "    <tr style=\"text-align: right;\">\n",
       "      <th></th>\n",
       "      <th>rfc_gini_low_0</th>\n",
       "      <th>rfc_gini_medium_0</th>\n",
       "      <th>rfc_gini_high_0</th>\n",
       "      <th>rfc_entropy_low_0</th>\n",
       "      <th>rfc_entropy_medium_0</th>\n",
       "      <th>rfc_entropy_high_0</th>\n",
       "      <th>LR_low_0</th>\n",
       "      <th>LR_medium_0</th>\n",
       "      <th>LR_high_0</th>\n",
       "      <th>LR_low_1</th>\n",
       "      <th>...</th>\n",
       "      <th>xgb_medium_3</th>\n",
       "      <th>xgb_high_3</th>\n",
       "      <th>xgb_low_4</th>\n",
       "      <th>xgb_medium_4</th>\n",
       "      <th>xgb_high_4</th>\n",
       "      <th>listing_id</th>\n",
       "      <th>manager_id</th>\n",
       "      <th>latitude</th>\n",
       "      <th>longitude</th>\n",
       "      <th>manager_skill</th>\n",
       "    </tr>\n",
       "  </thead>\n",
       "  <tbody>\n",
       "    <tr>\n",
       "      <th>25162</th>\n",
       "      <td>0.492327</td>\n",
       "      <td>0.440572</td>\n",
       "      <td>0.067101</td>\n",
       "      <td>0.519714</td>\n",
       "      <td>0.427706</td>\n",
       "      <td>0.052580</td>\n",
       "      <td>0.638129</td>\n",
       "      <td>0.343097</td>\n",
       "      <td>0.018774</td>\n",
       "      <td>0.638223</td>\n",
       "      <td>...</td>\n",
       "      <td>0.437890</td>\n",
       "      <td>0.026297</td>\n",
       "      <td>0.566101</td>\n",
       "      <td>0.411617</td>\n",
       "      <td>0.022282</td>\n",
       "      <td>6966955</td>\n",
       "      <td>819</td>\n",
       "      <td>40.7928</td>\n",
       "      <td>-73.9659</td>\n",
       "      <td>0.349493</td>\n",
       "    </tr>\n",
       "    <tr>\n",
       "      <th>14090</th>\n",
       "      <td>0.992086</td>\n",
       "      <td>0.007239</td>\n",
       "      <td>0.000675</td>\n",
       "      <td>0.993910</td>\n",
       "      <td>0.002927</td>\n",
       "      <td>0.003163</td>\n",
       "      <td>0.988282</td>\n",
       "      <td>0.011376</td>\n",
       "      <td>0.000341</td>\n",
       "      <td>0.988265</td>\n",
       "      <td>...</td>\n",
       "      <td>0.000687</td>\n",
       "      <td>0.000090</td>\n",
       "      <td>0.999611</td>\n",
       "      <td>0.000357</td>\n",
       "      <td>0.000032</td>\n",
       "      <td>7118331</td>\n",
       "      <td>3042</td>\n",
       "      <td>40.7634</td>\n",
       "      <td>-73.9596</td>\n",
       "      <td>0.349493</td>\n",
       "    </tr>\n",
       "    <tr>\n",
       "      <th>38034</th>\n",
       "      <td>0.999039</td>\n",
       "      <td>0.000375</td>\n",
       "      <td>0.000586</td>\n",
       "      <td>0.999225</td>\n",
       "      <td>0.000575</td>\n",
       "      <td>0.000200</td>\n",
       "      <td>0.952423</td>\n",
       "      <td>0.043966</td>\n",
       "      <td>0.003611</td>\n",
       "      <td>0.952372</td>\n",
       "      <td>...</td>\n",
       "      <td>0.000918</td>\n",
       "      <td>0.000235</td>\n",
       "      <td>0.999004</td>\n",
       "      <td>0.000808</td>\n",
       "      <td>0.000187</td>\n",
       "      <td>6876692</td>\n",
       "      <td>686</td>\n",
       "      <td>40.8644</td>\n",
       "      <td>-73.9201</td>\n",
       "      <td>0.349493</td>\n",
       "    </tr>\n",
       "    <tr>\n",
       "      <th>5845</th>\n",
       "      <td>0.778225</td>\n",
       "      <td>0.185745</td>\n",
       "      <td>0.036030</td>\n",
       "      <td>0.844000</td>\n",
       "      <td>0.136552</td>\n",
       "      <td>0.019448</td>\n",
       "      <td>0.764902</td>\n",
       "      <td>0.122973</td>\n",
       "      <td>0.112124</td>\n",
       "      <td>0.764575</td>\n",
       "      <td>...</td>\n",
       "      <td>0.154799</td>\n",
       "      <td>0.022163</td>\n",
       "      <td>0.795462</td>\n",
       "      <td>0.156307</td>\n",
       "      <td>0.048231</td>\n",
       "      <td>7165769</td>\n",
       "      <td>3005</td>\n",
       "      <td>40.7666</td>\n",
       "      <td>-73.9874</td>\n",
       "      <td>0.370904</td>\n",
       "    </tr>\n",
       "    <tr>\n",
       "      <th>7129</th>\n",
       "      <td>0.279694</td>\n",
       "      <td>0.372307</td>\n",
       "      <td>0.347999</td>\n",
       "      <td>0.270447</td>\n",
       "      <td>0.380508</td>\n",
       "      <td>0.349045</td>\n",
       "      <td>0.163274</td>\n",
       "      <td>0.420696</td>\n",
       "      <td>0.416031</td>\n",
       "      <td>0.163274</td>\n",
       "      <td>...</td>\n",
       "      <td>0.436146</td>\n",
       "      <td>0.311223</td>\n",
       "      <td>0.315118</td>\n",
       "      <td>0.409441</td>\n",
       "      <td>0.275441</td>\n",
       "      <td>7172375</td>\n",
       "      <td>321</td>\n",
       "      <td>40.6567</td>\n",
       "      <td>-74.0043</td>\n",
       "      <td>0.349493</td>\n",
       "    </tr>\n",
       "  </tbody>\n",
       "</table>\n",
       "<p>5 rows × 68 columns</p>\n",
       "</div>"
      ],
      "text/plain": [
       "       rfc_gini_low_0  rfc_gini_medium_0  rfc_gini_high_0  rfc_entropy_low_0  \\\n",
       "25162        0.492327           0.440572         0.067101           0.519714   \n",
       "14090        0.992086           0.007239         0.000675           0.993910   \n",
       "38034        0.999039           0.000375         0.000586           0.999225   \n",
       "5845         0.778225           0.185745         0.036030           0.844000   \n",
       "7129         0.279694           0.372307         0.347999           0.270447   \n",
       "\n",
       "       rfc_entropy_medium_0  rfc_entropy_high_0  LR_low_0  LR_medium_0  \\\n",
       "25162              0.427706            0.052580  0.638129     0.343097   \n",
       "14090              0.002927            0.003163  0.988282     0.011376   \n",
       "38034              0.000575            0.000200  0.952423     0.043966   \n",
       "5845               0.136552            0.019448  0.764902     0.122973   \n",
       "7129               0.380508            0.349045  0.163274     0.420696   \n",
       "\n",
       "       LR_high_0  LR_low_1      ...        xgb_medium_3  xgb_high_3  \\\n",
       "25162   0.018774  0.638223      ...            0.437890    0.026297   \n",
       "14090   0.000341  0.988265      ...            0.000687    0.000090   \n",
       "38034   0.003611  0.952372      ...            0.000918    0.000235   \n",
       "5845    0.112124  0.764575      ...            0.154799    0.022163   \n",
       "7129    0.416031  0.163274      ...            0.436146    0.311223   \n",
       "\n",
       "       xgb_low_4  xgb_medium_4  xgb_high_4  listing_id  manager_id  latitude  \\\n",
       "25162   0.566101      0.411617    0.022282     6966955         819   40.7928   \n",
       "14090   0.999611      0.000357    0.000032     7118331        3042   40.7634   \n",
       "38034   0.999004      0.000808    0.000187     6876692         686   40.8644   \n",
       "5845    0.795462      0.156307    0.048231     7165769        3005   40.7666   \n",
       "7129    0.315118      0.409441    0.275441     7172375         321   40.6567   \n",
       "\n",
       "       longitude  manager_skill  \n",
       "25162   -73.9659       0.349493  \n",
       "14090   -73.9596       0.349493  \n",
       "38034   -73.9201       0.349493  \n",
       "5845    -73.9874       0.370904  \n",
       "7129    -74.0043       0.349493  \n",
       "\n",
       "[5 rows x 68 columns]"
      ]
     },
     "execution_count": 18,
     "metadata": {},
     "output_type": "execute_result"
    }
   ],
   "source": [
    "X_val_transformed = trans.transform(X_val)\n",
    "X_val_transformed.head()"
   ]
  },
  {
   "cell_type": "code",
   "execution_count": 19,
   "metadata": {
    "collapsed": false
   },
   "outputs": [
    {
     "data": {
      "text/html": [
       "<div>\n",
       "<table border=\"1\" class=\"dataframe\">\n",
       "  <thead>\n",
       "    <tr style=\"text-align: right;\">\n",
       "      <th></th>\n",
       "      <th>rfc_gini_low_0</th>\n",
       "      <th>rfc_gini_medium_0</th>\n",
       "      <th>rfc_gini_high_0</th>\n",
       "      <th>rfc_entropy_low_0</th>\n",
       "      <th>rfc_entropy_medium_0</th>\n",
       "      <th>rfc_entropy_high_0</th>\n",
       "      <th>LR_low_0</th>\n",
       "      <th>LR_medium_0</th>\n",
       "      <th>LR_high_0</th>\n",
       "      <th>LR_low_1</th>\n",
       "      <th>...</th>\n",
       "      <th>xgb_medium_3</th>\n",
       "      <th>xgb_high_3</th>\n",
       "      <th>xgb_low_4</th>\n",
       "      <th>xgb_medium_4</th>\n",
       "      <th>xgb_high_4</th>\n",
       "      <th>listing_id</th>\n",
       "      <th>manager_id</th>\n",
       "      <th>latitude</th>\n",
       "      <th>longitude</th>\n",
       "      <th>manager_skill</th>\n",
       "    </tr>\n",
       "  </thead>\n",
       "  <tbody>\n",
       "    <tr>\n",
       "      <th>0</th>\n",
       "      <td>0.470586</td>\n",
       "      <td>0.429482</td>\n",
       "      <td>0.099932</td>\n",
       "      <td>0.478737</td>\n",
       "      <td>0.429797</td>\n",
       "      <td>0.091466</td>\n",
       "      <td>0.520452</td>\n",
       "      <td>0.398427</td>\n",
       "      <td>0.081121</td>\n",
       "      <td>0.520454</td>\n",
       "      <td>...</td>\n",
       "      <td>0.611756</td>\n",
       "      <td>0.066298</td>\n",
       "      <td>0.329106</td>\n",
       "      <td>0.593922</td>\n",
       "      <td>0.076972</td>\n",
       "      <td>7142618</td>\n",
       "      <td>2335</td>\n",
       "      <td>40.7185</td>\n",
       "      <td>-73.9865</td>\n",
       "      <td>0.349493</td>\n",
       "    </tr>\n",
       "    <tr>\n",
       "      <th>1</th>\n",
       "      <td>0.947206</td>\n",
       "      <td>0.049335</td>\n",
       "      <td>0.003459</td>\n",
       "      <td>0.965085</td>\n",
       "      <td>0.031621</td>\n",
       "      <td>0.003294</td>\n",
       "      <td>0.948098</td>\n",
       "      <td>0.046580</td>\n",
       "      <td>0.005322</td>\n",
       "      <td>0.948105</td>\n",
       "      <td>...</td>\n",
       "      <td>0.023187</td>\n",
       "      <td>0.010779</td>\n",
       "      <td>0.951683</td>\n",
       "      <td>0.034549</td>\n",
       "      <td>0.013767</td>\n",
       "      <td>7210040</td>\n",
       "      <td>2727</td>\n",
       "      <td>40.7278</td>\n",
       "      <td>-74.0000</td>\n",
       "      <td>0.349493</td>\n",
       "    </tr>\n",
       "    <tr>\n",
       "      <th>2</th>\n",
       "      <td>0.906952</td>\n",
       "      <td>0.080108</td>\n",
       "      <td>0.012940</td>\n",
       "      <td>0.924124</td>\n",
       "      <td>0.066738</td>\n",
       "      <td>0.009138</td>\n",
       "      <td>0.885245</td>\n",
       "      <td>0.094441</td>\n",
       "      <td>0.020314</td>\n",
       "      <td>0.885251</td>\n",
       "      <td>...</td>\n",
       "      <td>0.042328</td>\n",
       "      <td>0.004043</td>\n",
       "      <td>0.957880</td>\n",
       "      <td>0.038350</td>\n",
       "      <td>0.003770</td>\n",
       "      <td>7174566</td>\n",
       "      <td>3005</td>\n",
       "      <td>40.7260</td>\n",
       "      <td>-74.0026</td>\n",
       "      <td>0.370904</td>\n",
       "    </tr>\n",
       "    <tr>\n",
       "      <th>3</th>\n",
       "      <td>0.414657</td>\n",
       "      <td>0.458438</td>\n",
       "      <td>0.126905</td>\n",
       "      <td>0.407079</td>\n",
       "      <td>0.467047</td>\n",
       "      <td>0.125874</td>\n",
       "      <td>0.677792</td>\n",
       "      <td>0.260282</td>\n",
       "      <td>0.061925</td>\n",
       "      <td>0.677780</td>\n",
       "      <td>...</td>\n",
       "      <td>0.534459</td>\n",
       "      <td>0.226809</td>\n",
       "      <td>0.268157</td>\n",
       "      <td>0.487010</td>\n",
       "      <td>0.244833</td>\n",
       "      <td>7191391</td>\n",
       "      <td>870</td>\n",
       "      <td>40.7321</td>\n",
       "      <td>-74.0028</td>\n",
       "      <td>0.349493</td>\n",
       "    </tr>\n",
       "    <tr>\n",
       "      <th>4</th>\n",
       "      <td>0.739389</td>\n",
       "      <td>0.230051</td>\n",
       "      <td>0.030560</td>\n",
       "      <td>0.745015</td>\n",
       "      <td>0.229524</td>\n",
       "      <td>0.025461</td>\n",
       "      <td>0.786450</td>\n",
       "      <td>0.204093</td>\n",
       "      <td>0.009457</td>\n",
       "      <td>0.786434</td>\n",
       "      <td>...</td>\n",
       "      <td>0.150605</td>\n",
       "      <td>0.007805</td>\n",
       "      <td>0.849380</td>\n",
       "      <td>0.144226</td>\n",
       "      <td>0.006394</td>\n",
       "      <td>7171695</td>\n",
       "      <td>2187</td>\n",
       "      <td>40.7054</td>\n",
       "      <td>-74.0095</td>\n",
       "      <td>0.349493</td>\n",
       "    </tr>\n",
       "  </tbody>\n",
       "</table>\n",
       "<p>5 rows × 68 columns</p>\n",
       "</div>"
      ],
      "text/plain": [
       "   rfc_gini_low_0  rfc_gini_medium_0  rfc_gini_high_0  rfc_entropy_low_0  \\\n",
       "0        0.470586           0.429482         0.099932           0.478737   \n",
       "1        0.947206           0.049335         0.003459           0.965085   \n",
       "2        0.906952           0.080108         0.012940           0.924124   \n",
       "3        0.414657           0.458438         0.126905           0.407079   \n",
       "4        0.739389           0.230051         0.030560           0.745015   \n",
       "\n",
       "   rfc_entropy_medium_0  rfc_entropy_high_0  LR_low_0  LR_medium_0  LR_high_0  \\\n",
       "0              0.429797            0.091466  0.520452     0.398427   0.081121   \n",
       "1              0.031621            0.003294  0.948098     0.046580   0.005322   \n",
       "2              0.066738            0.009138  0.885245     0.094441   0.020314   \n",
       "3              0.467047            0.125874  0.677792     0.260282   0.061925   \n",
       "4              0.229524            0.025461  0.786450     0.204093   0.009457   \n",
       "\n",
       "   LR_low_1      ...        xgb_medium_3  xgb_high_3  xgb_low_4  xgb_medium_4  \\\n",
       "0  0.520454      ...            0.611756    0.066298   0.329106      0.593922   \n",
       "1  0.948105      ...            0.023187    0.010779   0.951683      0.034549   \n",
       "2  0.885251      ...            0.042328    0.004043   0.957880      0.038350   \n",
       "3  0.677780      ...            0.534459    0.226809   0.268157      0.487010   \n",
       "4  0.786434      ...            0.150605    0.007805   0.849380      0.144226   \n",
       "\n",
       "   xgb_high_4  listing_id  manager_id  latitude  longitude  manager_skill  \n",
       "0    0.076972     7142618        2335   40.7185   -73.9865       0.349493  \n",
       "1    0.013767     7210040        2727   40.7278   -74.0000       0.349493  \n",
       "2    0.003770     7174566        3005   40.7260   -74.0026       0.370904  \n",
       "3    0.244833     7191391         870   40.7321   -74.0028       0.349493  \n",
       "4    0.006394     7171695        2187   40.7054   -74.0095       0.349493  \n",
       "\n",
       "[5 rows x 68 columns]"
      ]
     },
     "execution_count": 19,
     "metadata": {},
     "output_type": "execute_result"
    }
   ],
   "source": [
    "X_test_transformed = trans.transform(pred_test)\n",
    "X_test_transformed.head()"
   ]
  },
  {
   "cell_type": "code",
   "execution_count": 20,
   "metadata": {
    "collapsed": true
   },
   "outputs": [],
   "source": [
    "# add manager fractions and skills to the features to use\n",
    "features_to_use.append('manager_skill')"
   ]
  },
  {
   "cell_type": "code",
   "execution_count": 43,
   "metadata": {
    "collapsed": false
   },
   "outputs": [
    {
     "name": "stdout",
     "output_type": "stream",
     "text": [
      "(39481, 4)\n",
      "(9871, 4)\n",
      "(74659, 4)\n"
     ]
    }
   ],
   "source": [
    "tmp_dis_train = pd.concat([X_train_transformed[['listing_id', 'latitude', 'longitude']],y_train], axis = 1)\n",
    "tmp_dis_val = X_val_transformed[['listing_id', 'latitude', 'longitude']]\n",
    "tmp_dis_test = X_test_transformed[['listing_id', 'latitude', 'longitude']]\n",
    "\n",
    "tmp_dis_val = tmp_dis_val.assign(interest_level = np.nan)\n",
    "tmp_dis_test = tmp_dis_test.assign(interest_level = np.nan)\n",
    "\n",
    "print tmp_dis_train.shape\n",
    "print tmp_dis_val.shape\n",
    "print tmp_dis_test.shape"
   ]
  },
  {
   "cell_type": "code",
   "execution_count": 44,
   "metadata": {
    "collapsed": false
   },
   "outputs": [],
   "source": [
    "tmp_dis_train, tmp_dis_val, tmp_dis_test = dis_level(tmp_dis_train, tmp_dis_val, tmp_dis_test, ['latitude','longitude'])"
   ]
  },
  {
   "cell_type": "code",
   "execution_count": 45,
   "metadata": {
    "collapsed": false
   },
   "outputs": [
    {
     "data": {
      "text/plain": [
       "array(['listing_id', 'latitude', 'longitude', 'interest_level',\n",
       "       'lat_lon_dis_low_1', 'lat_lon_dis_low_2', 'lat_lon_dis_low_4',\n",
       "       'lat_lon_dis_low_8', 'lat_lon_dis_low_16', 'lat_lon_dis_low_32',\n",
       "       'lat_lon_dis_low_64', 'lat_lon_dis_low_128', 'lat_lon_dis_medium_1',\n",
       "       'lat_lon_dis_medium_2', 'lat_lon_dis_medium_4',\n",
       "       'lat_lon_dis_medium_8', 'lat_lon_dis_medium_16',\n",
       "       'lat_lon_dis_medium_32', 'lat_lon_dis_medium_64',\n",
       "       'lat_lon_dis_medium_128', 'lat_lon_dis_high_1',\n",
       "       'lat_lon_dis_high_2', 'lat_lon_dis_high_4', 'lat_lon_dis_high_8',\n",
       "       'lat_lon_dis_high_16', 'lat_lon_dis_high_32', 'lat_lon_dis_high_64',\n",
       "       'lat_lon_dis_high_128'], dtype=object)"
      ]
     },
     "execution_count": 45,
     "metadata": {},
     "output_type": "execute_result"
    }
   ],
   "source": [
    "tmp_dis_train.columns.values"
   ]
  },
  {
   "cell_type": "code",
   "execution_count": 46,
   "metadata": {
    "collapsed": false
   },
   "outputs": [],
   "source": [
    "tmp_columns = ['listing_id', \n",
    "               'lat_lon_dis_low_1', 'lat_lon_dis_low_2', 'lat_lon_dis_low_4',\n",
    "               'lat_lon_dis_low_8', 'lat_lon_dis_low_16', 'lat_lon_dis_low_32',\n",
    "               'lat_lon_dis_low_64', 'lat_lon_dis_low_128', \n",
    "               'lat_lon_dis_medium_1','lat_lon_dis_medium_2', 'lat_lon_dis_medium_4',\n",
    "               'lat_lon_dis_medium_8', 'lat_lon_dis_medium_16','lat_lon_dis_medium_32', \n",
    "               'lat_lon_dis_medium_64','lat_lon_dis_medium_128', \n",
    "               'lat_lon_dis_high_1','lat_lon_dis_high_2', 'lat_lon_dis_high_4', \n",
    "               'lat_lon_dis_high_8','lat_lon_dis_high_16', 'lat_lon_dis_high_32', \n",
    "               'lat_lon_dis_high_64','lat_lon_dis_high_128'\n",
    "              ]"
   ]
  },
  {
   "cell_type": "code",
   "execution_count": 47,
   "metadata": {
    "collapsed": false
   },
   "outputs": [
    {
     "data": {
      "text/html": [
       "<div>\n",
       "<table border=\"1\" class=\"dataframe\">\n",
       "  <thead>\n",
       "    <tr style=\"text-align: right;\">\n",
       "      <th></th>\n",
       "      <th>listing_id</th>\n",
       "      <th>latitude</th>\n",
       "      <th>longitude</th>\n",
       "      <th>interest_level</th>\n",
       "      <th>lat_lon_dis_low_1</th>\n",
       "      <th>lat_lon_dis_low_2</th>\n",
       "      <th>lat_lon_dis_low_4</th>\n",
       "      <th>lat_lon_dis_low_8</th>\n",
       "      <th>lat_lon_dis_low_16</th>\n",
       "      <th>lat_lon_dis_low_32</th>\n",
       "      <th>...</th>\n",
       "      <th>lat_lon_dis_medium_64</th>\n",
       "      <th>lat_lon_dis_medium_128</th>\n",
       "      <th>lat_lon_dis_high_1</th>\n",
       "      <th>lat_lon_dis_high_2</th>\n",
       "      <th>lat_lon_dis_high_4</th>\n",
       "      <th>lat_lon_dis_high_8</th>\n",
       "      <th>lat_lon_dis_high_16</th>\n",
       "      <th>lat_lon_dis_high_32</th>\n",
       "      <th>lat_lon_dis_high_64</th>\n",
       "      <th>lat_lon_dis_high_128</th>\n",
       "    </tr>\n",
       "  </thead>\n",
       "  <tbody>\n",
       "    <tr>\n",
       "      <th>40116</th>\n",
       "      <td>6848609</td>\n",
       "      <td>-0.003850</td>\n",
       "      <td>-0.040564</td>\n",
       "      <td>0</td>\n",
       "      <td>0.00000</td>\n",
       "      <td>0.000000</td>\n",
       "      <td>0.000000</td>\n",
       "      <td>0.000000</td>\n",
       "      <td>0.004506</td>\n",
       "      <td>0.027131</td>\n",
       "      <td>...</td>\n",
       "      <td>0.144732</td>\n",
       "      <td>0.381989</td>\n",
       "      <td>0.000000</td>\n",
       "      <td>0.000000</td>\n",
       "      <td>0.002032</td>\n",
       "      <td>0.009302</td>\n",
       "      <td>0.029683</td>\n",
       "      <td>0.082040</td>\n",
       "      <td>0.244366</td>\n",
       "      <td>0.788310</td>\n",
       "    </tr>\n",
       "    <tr>\n",
       "      <th>774</th>\n",
       "      <td>7090131</td>\n",
       "      <td>0.044005</td>\n",
       "      <td>0.003186</td>\n",
       "      <td>0</td>\n",
       "      <td>0.00000</td>\n",
       "      <td>0.000159</td>\n",
       "      <td>0.000476</td>\n",
       "      <td>0.001377</td>\n",
       "      <td>0.004413</td>\n",
       "      <td>0.013459</td>\n",
       "      <td>...</td>\n",
       "      <td>0.061048</td>\n",
       "      <td>0.237504</td>\n",
       "      <td>0.000575</td>\n",
       "      <td>0.001448</td>\n",
       "      <td>0.003349</td>\n",
       "      <td>0.009161</td>\n",
       "      <td>0.027504</td>\n",
       "      <td>0.073940</td>\n",
       "      <td>0.220655</td>\n",
       "      <td>0.688263</td>\n",
       "    </tr>\n",
       "    <tr>\n",
       "      <th>1599</th>\n",
       "      <td>7088808</td>\n",
       "      <td>0.171765</td>\n",
       "      <td>0.014144</td>\n",
       "      <td>2</td>\n",
       "      <td>0.00028</td>\n",
       "      <td>0.000559</td>\n",
       "      <td>0.002430</td>\n",
       "      <td>0.013700</td>\n",
       "      <td>0.040791</td>\n",
       "      <td>0.110366</td>\n",
       "      <td>...</td>\n",
       "      <td>0.568442</td>\n",
       "      <td>1.700830</td>\n",
       "      <td>0.001994</td>\n",
       "      <td>0.004142</td>\n",
       "      <td>0.009550</td>\n",
       "      <td>0.026765</td>\n",
       "      <td>0.089009</td>\n",
       "      <td>0.279794</td>\n",
       "      <td>0.866870</td>\n",
       "      <td>2.751166</td>\n",
       "    </tr>\n",
       "    <tr>\n",
       "      <th>44468</th>\n",
       "      <td>6862626</td>\n",
       "      <td>-0.025948</td>\n",
       "      <td>-0.046678</td>\n",
       "      <td>0</td>\n",
       "      <td>0.00000</td>\n",
       "      <td>0.000864</td>\n",
       "      <td>0.005452</td>\n",
       "      <td>0.014629</td>\n",
       "      <td>0.032982</td>\n",
       "      <td>0.081760</td>\n",
       "      <td>...</td>\n",
       "      <td>0.322098</td>\n",
       "      <td>0.823751</td>\n",
       "      <td>0.007774</td>\n",
       "      <td>0.011661</td>\n",
       "      <td>0.020872</td>\n",
       "      <td>0.039295</td>\n",
       "      <td>0.087809</td>\n",
       "      <td>0.186253</td>\n",
       "      <td>0.484864</td>\n",
       "      <td>1.319051</td>\n",
       "    </tr>\n",
       "    <tr>\n",
       "      <th>42023</th>\n",
       "      <td>6852462</td>\n",
       "      <td>0.037566</td>\n",
       "      <td>-0.028177</td>\n",
       "      <td>1</td>\n",
       "      <td>0.00000</td>\n",
       "      <td>0.000000</td>\n",
       "      <td>0.000000</td>\n",
       "      <td>0.000000</td>\n",
       "      <td>0.000000</td>\n",
       "      <td>0.000000</td>\n",
       "      <td>...</td>\n",
       "      <td>0.056145</td>\n",
       "      <td>0.230683</td>\n",
       "      <td>0.000000</td>\n",
       "      <td>0.000079</td>\n",
       "      <td>0.001032</td>\n",
       "      <td>0.003799</td>\n",
       "      <td>0.016828</td>\n",
       "      <td>0.060827</td>\n",
       "      <td>0.183396</td>\n",
       "      <td>0.601124</td>\n",
       "    </tr>\n",
       "  </tbody>\n",
       "</table>\n",
       "<p>5 rows × 28 columns</p>\n",
       "</div>"
      ],
      "text/plain": [
       "       listing_id  latitude  longitude  interest_level  lat_lon_dis_low_1  \\\n",
       "40116     6848609 -0.003850  -0.040564               0            0.00000   \n",
       "774       7090131  0.044005   0.003186               0            0.00000   \n",
       "1599      7088808  0.171765   0.014144               2            0.00028   \n",
       "44468     6862626 -0.025948  -0.046678               0            0.00000   \n",
       "42023     6852462  0.037566  -0.028177               1            0.00000   \n",
       "\n",
       "       lat_lon_dis_low_2  lat_lon_dis_low_4  lat_lon_dis_low_8  \\\n",
       "40116           0.000000           0.000000           0.000000   \n",
       "774             0.000159           0.000476           0.001377   \n",
       "1599            0.000559           0.002430           0.013700   \n",
       "44468           0.000864           0.005452           0.014629   \n",
       "42023           0.000000           0.000000           0.000000   \n",
       "\n",
       "       lat_lon_dis_low_16  lat_lon_dis_low_32          ...           \\\n",
       "40116            0.004506            0.027131          ...            \n",
       "774              0.004413            0.013459          ...            \n",
       "1599             0.040791            0.110366          ...            \n",
       "44468            0.032982            0.081760          ...            \n",
       "42023            0.000000            0.000000          ...            \n",
       "\n",
       "       lat_lon_dis_medium_64  lat_lon_dis_medium_128  lat_lon_dis_high_1  \\\n",
       "40116               0.144732                0.381989            0.000000   \n",
       "774                 0.061048                0.237504            0.000575   \n",
       "1599                0.568442                1.700830            0.001994   \n",
       "44468               0.322098                0.823751            0.007774   \n",
       "42023               0.056145                0.230683            0.000000   \n",
       "\n",
       "       lat_lon_dis_high_2  lat_lon_dis_high_4  lat_lon_dis_high_8  \\\n",
       "40116            0.000000            0.002032            0.009302   \n",
       "774              0.001448            0.003349            0.009161   \n",
       "1599             0.004142            0.009550            0.026765   \n",
       "44468            0.011661            0.020872            0.039295   \n",
       "42023            0.000079            0.001032            0.003799   \n",
       "\n",
       "       lat_lon_dis_high_16  lat_lon_dis_high_32  lat_lon_dis_high_64  \\\n",
       "40116             0.029683             0.082040             0.244366   \n",
       "774               0.027504             0.073940             0.220655   \n",
       "1599              0.089009             0.279794             0.866870   \n",
       "44468             0.087809             0.186253             0.484864   \n",
       "42023             0.016828             0.060827             0.183396   \n",
       "\n",
       "       lat_lon_dis_high_128  \n",
       "40116              0.788310  \n",
       "774                0.688263  \n",
       "1599               2.751166  \n",
       "44468              1.319051  \n",
       "42023              0.601124  \n",
       "\n",
       "[5 rows x 28 columns]"
      ]
     },
     "execution_count": 47,
     "metadata": {},
     "output_type": "execute_result"
    }
   ],
   "source": [
    "tmp_dis_train.head()"
   ]
  },
  {
   "cell_type": "code",
   "execution_count": 48,
   "metadata": {
    "collapsed": false
   },
   "outputs": [],
   "source": [
    "X_train_transformed_dis = X_train_transformed.merge(tmp_dis_train[tmp_columns], how = 'left', on = 'listing_id')\n",
    "# X_train_transformed_dis.head()"
   ]
  },
  {
   "cell_type": "code",
   "execution_count": 49,
   "metadata": {
    "collapsed": false
   },
   "outputs": [],
   "source": [
    "X_val_transformed_dis = X_val_transformed.merge(tmp_dis_val[tmp_columns], how = 'left', on = 'listing_id')\n",
    "# X_val_transformed_dis.head()"
   ]
  },
  {
   "cell_type": "code",
   "execution_count": 50,
   "metadata": {
    "collapsed": true
   },
   "outputs": [],
   "source": [
    "X_test_transformed_dis = X_test_transformed.merge(tmp_dis_test[tmp_columns], how = 'left', on = 'listing_id')"
   ]
  },
  {
   "cell_type": "code",
   "execution_count": 51,
   "metadata": {
    "collapsed": false
   },
   "outputs": [
    {
     "data": {
      "text/plain": [
       "93"
      ]
     },
     "execution_count": 51,
     "metadata": {},
     "output_type": "execute_result"
    }
   ],
   "source": [
    "features_to_use.extend(tmp_columns)\n",
    "len(features_to_use)"
   ]
  },
  {
   "cell_type": "code",
   "execution_count": 75,
   "metadata": {
    "collapsed": true
   },
   "outputs": [],
   "source": [
    "these_features = [f for f in features_to_use if f not in ['manager_id','listing_id','latitude','longitude', \n",
    "                                                          'lat_lon_dis_low_1','lat_lon_dis_medium_1','lat_lon_dis_high_1',\n",
    "                                                         'lat_lon_dis_low_2','lat_lon_dis_medium_2','lat_lon_dis_high_2',\n",
    "                                                         'lat_lon_dis_low_4','lat_lon_dis_medium_4','lat_lon_dis_high_4',\n",
    "                                                         'lat_lon_dis_low_8','lat_lon_dis_medium_8','lat_lon_dis_high_8',\n",
    "                                                         'lat_lon_dis_low_16','lat_lon_dis_medium_16','lat_lon_dis_high_16',\n",
    "                                                         'lat_lon_dis_low_32','lat_lon_dis_medium_32','lat_lon_dis_high_32'\n",
    "                                                         ]]\n",
    "#,'high_frac','low_frac', 'medium_frac',,'manager_skill'"
   ]
  },
  {
   "cell_type": "code",
   "execution_count": 76,
   "metadata": {
    "collapsed": false
   },
   "outputs": [
    {
     "data": {
      "text/plain": [
       "(9871, 70)"
      ]
     },
     "execution_count": 76,
     "metadata": {},
     "output_type": "execute_result"
    }
   ],
   "source": [
    "X_val_transformed_dis[these_features].shape"
   ]
  },
  {
   "cell_type": "code",
   "execution_count": 77,
   "metadata": {
    "collapsed": false
   },
   "outputs": [
    {
     "name": "stdout",
     "output_type": "stream",
     "text": [
      "[0]\tvalidation_0-mlogloss:1.02218\n",
      "Will train until validation_0-mlogloss hasn't improved in 50 rounds.\n",
      "[25]\tvalidation_0-mlogloss:0.55158\n",
      "[50]\tvalidation_0-mlogloss:0.525714\n",
      "[75]\tvalidation_0-mlogloss:0.523009\n",
      "[100]\tvalidation_0-mlogloss:0.522367\n",
      "[125]\tvalidation_0-mlogloss:0.522573\n",
      "[150]\tvalidation_0-mlogloss:0.522786\n",
      "Stopping. Best iteration:\n",
      "[100]\tvalidation_0-mlogloss:0.522367\n",
      "\n"
     ]
    },
    {
     "data": {
      "text/plain": [
       "XGBClassifier(base_score=0.5, colsample_bylevel=1, colsample_bytree=1,\n",
       "       gamma=0, learning_rate=0.1, max_delta_step=0, max_depth=3,\n",
       "       min_child_weight=1, missing=None, n_estimators=10000, nthread=-1,\n",
       "       objective='multi:softprob', reg_alpha=0, reg_lambda=1,\n",
       "       scale_pos_weight=1, seed=0, silent=True, subsample=1)"
      ]
     },
     "execution_count": 77,
     "metadata": {},
     "output_type": "execute_result"
    }
   ],
   "source": [
    "rgr = xgb.XGBClassifier(objective = 'multi:softprob',\n",
    "                       learning_rate = 0.1,\n",
    "                       n_estimators = 10000,\n",
    "                       nthread = -1)\n",
    "\n",
    "rgr.fit(X_train_transformed_dis[these_features],y_train,\n",
    "        eval_set=[(X_val_transformed_dis[these_features],y_val)],\n",
    "        eval_metric='mlogloss',\n",
    "#         num_class = 3,\n",
    "        early_stopping_rounds=50,\n",
    "        verbose=25\n",
    "       )"
   ]
  },
  {
   "cell_type": "code",
   "execution_count": 78,
   "metadata": {
    "collapsed": false,
    "scrolled": true
   },
   "outputs": [
    {
     "data": {
      "text/plain": [
       "<matplotlib.text.Text at 0x7f88cb5a9e50>"
      ]
     },
     "execution_count": 78,
     "metadata": {},
     "output_type": "execute_result"
    },
    {
     "data": {
      "image/png": "[encoded data removed]",
      "text/plain": [
       "<matplotlib.figure.Figure at 0x7f88cb0fabd0>"
      ]
     },
     "metadata": {},
     "output_type": "display_data"
    }
   ],
   "source": [
    "importance = np.vstack((these_features, rgr.feature_importances_))\n",
    "f_df = pd.DataFrame(importance.T, columns=['feature', 'fscore'])\n",
    "\n",
    "f_df = f_df.sort_values(by = 'fscore',ascending = True)\n",
    "f_df.fscore = f_df.fscore.astype('float32')\n",
    "\n",
    "f_df.plot(kind='barh', x='feature', y='fscore', legend=False, figsize=(6, 20))\n",
    "plt.title('XGBoost Feature Importance')\n",
    "plt.xlabel('relative importance')"
   ]
  },
  {
   "cell_type": "code",
   "execution_count": 80,
   "metadata": {
    "collapsed": false
   },
   "outputs": [
    {
     "data": {
      "text/plain": [
       "<matplotlib.axes._subplots.AxesSubplot at 0x7f88cac77390>"
      ]
     },
     "execution_count": 80,
     "metadata": {},
     "output_type": "execute_result"
    },
    {
     "data": {
      "image/png": "[encoded data removed]",
      "text/plain": [
       "<matplotlib.figure.Figure at 0x7f88cac15790>"
      ]
     },
     "metadata": {},
     "output_type": "display_data"
    }
   ],
   "source": [
    "train_df.longitude.hist(bins = 100)"
   ]
  },
  {
   "cell_type": "markdown",
   "metadata": {},
   "source": [
    "# Tune XGBoost"
   ]
  },
  {
   "cell_type": "code",
   "execution_count": 286,
   "metadata": {
    "collapsed": false
   },
   "outputs": [
    {
     "name": "stdout",
     "output_type": "stream",
     "text": [
      "1 \t0.522657 514\n",
      "2 \t0.522467 169\n",
      "3 \t0.522598 128\n",
      "4 \t0.523251 99\n",
      "5 \t0.524396 89\n",
      "6 \t0.525596 66\n"
     ]
    }
   ],
   "source": [
    "learning_rate = 0.1\n",
    "best_score = 1000\n",
    "train_param = 0\n",
    "for x in [1,2,3,4,5,6]:\n",
    "    rgr = xgb.XGBClassifier(\n",
    "        objective='multi:softprob',\n",
    "        seed = 1234, # use a fixed seed during tuning so we can reproduce the results\n",
    "        learning_rate = learning_rate,\n",
    "        n_estimators = 10000,\n",
    "        max_depth= x,\n",
    "        nthread = -1,\n",
    "        silent = False\n",
    "    )\n",
    "    rgr.fit(\n",
    "        X_train,y_train,\n",
    "        eval_set=[(X_val,y_val)],\n",
    "        eval_metric='mlogloss',\n",
    "        early_stopping_rounds=50,\n",
    "        verbose=False\n",
    "    )\n",
    "    \n",
    "    if rgr.best_score < best_score:\n",
    "        best_score = rgr.best_score\n",
    "        train_param = x\n",
    "\n",
    "    print x, '\\t', rgr.best_score, rgr.best_iteration"
   ]
  },
  {
   "cell_type": "code",
   "execution_count": 126,
   "metadata": {
    "collapsed": false
   },
   "outputs": [
    {
     "name": "stdout",
     "output_type": "stream",
     "text": [
      "1 \t0.522653 546\n",
      "2 \t0.522366 191\n"
     ]
    }
   ],
   "source": [
    "for x in [1,2]:\n",
    "    rgr = xgb.XGBClassifier(\n",
    "        objective='multi:softprob',\n",
    "        seed = 1234, # use a fixed seed during tuning so we can reproduce the results\n",
    "        learning_rate = learning_rate,\n",
    "        n_estimators = 10000,\n",
    "        max_depth= x,\n",
    "        nthread = -1,\n",
    "        silent = False\n",
    "    )\n",
    "    rgr.fit(\n",
    "        X_train,y_train,\n",
    "        eval_set=[(X_val,y_val)],\n",
    "        eval_metric='mlogloss',\n",
    "        early_stopping_rounds=50,\n",
    "        verbose=False\n",
    "    )\n",
    "    \n",
    "    if rgr.best_score < best_score:\n",
    "        best_score = rgr.best_score\n",
    "        train_param = x\n",
    "\n",
    "    print x, '\\t', rgr.best_score, rgr.best_iteration"
   ]
  },
  {
   "cell_type": "code",
   "execution_count": 127,
   "metadata": {
    "collapsed": false
   },
   "outputs": [
    {
     "name": "stdout",
     "output_type": "stream",
     "text": [
      "2\n"
     ]
    }
   ],
   "source": [
    "max_depth = train_param\n",
    "print train_param"
   ]
  },
  {
   "cell_type": "code",
   "execution_count": 129,
   "metadata": {
    "collapsed": false
   },
   "outputs": [
    {
     "name": "stdout",
     "output_type": "stream",
     "text": [
      "2 \t0.522516 142\n",
      "4 \t0.52234 145\n",
      "8 \t0.522288 152\n",
      "16 \t0.522447 149\n"
     ]
    }
   ],
   "source": [
    "train_param = 1\n",
    "for x in [2,4,8,16]:\n",
    "    rgr = xgb.XGBClassifier(\n",
    "        objective='multi:softprob',\n",
    "        seed = 1234, # use a fixed seed during tuning so we can reproduce the results\n",
    "        learning_rate = learning_rate,\n",
    "        n_estimators = 10000,\n",
    "        max_depth= max_depth,\n",
    "        nthread = -1,\n",
    "        silent = False,\n",
    "        min_child_weight = x\n",
    "    )\n",
    "    rgr.fit(\n",
    "        X_train,y_train,\n",
    "        eval_set=[(X_val,y_val)],\n",
    "        eval_metric='mlogloss',\n",
    "        early_stopping_rounds=50,\n",
    "        verbose=False\n",
    "    )\n",
    "    \n",
    "    if rgr.best_score < best_score:\n",
    "        best_score = rgr.best_score\n",
    "        train_param = x\n",
    "        \n",
    "\n",
    "    print x, '\\t', rgr.best_score, rgr.best_iteration"
   ]
  },
  {
   "cell_type": "code",
   "execution_count": 130,
   "metadata": {
    "collapsed": false
   },
   "outputs": [
    {
     "name": "stdout",
     "output_type": "stream",
     "text": [
      "8\n"
     ]
    }
   ],
   "source": [
    "min_child_weight = train_param\n",
    "print min_child_weight"
   ]
  },
  {
   "cell_type": "code",
   "execution_count": 131,
   "metadata": {
    "collapsed": false
   },
   "outputs": [
    {
     "name": "stdout",
     "output_type": "stream",
     "text": [
      "0.3 \t0.52226 221\n",
      "0.4 \t0.522604 115\n",
      "0.5 \t0.522386 151\n",
      "0.6 \t0.522382 159\n",
      "0.7 \t0.522335 160\n",
      "0.8 \t0.52219 159\n",
      "0.9 \t0.522377 162\n"
     ]
    }
   ],
   "source": [
    "train_param = 1\n",
    "for x in [0.3,0.4,0.5,0.6,0.7,0.8,0.9]:\n",
    "    rgr = xgb.XGBClassifier(\n",
    "        objective='multi:softprob',\n",
    "        seed = 1234, # use a fixed seed during tuning so we can reproduce the results\n",
    "        learning_rate = learning_rate,\n",
    "        n_estimators = 10000,\n",
    "        max_depth= max_depth,\n",
    "        nthread = -1,\n",
    "        silent = False,\n",
    "        min_child_weight = min_child_weight,\n",
    "        colsample_bytree = x\n",
    "    )\n",
    "    rgr.fit(\n",
    "        X_train,y_train,\n",
    "        eval_set=[(X_val,y_val)],\n",
    "        eval_metric='mlogloss',\n",
    "        early_stopping_rounds=50,\n",
    "        verbose=False\n",
    "    )\n",
    "\n",
    "    if rgr.best_score < best_score:\n",
    "        best_score = rgr.best_score\n",
    "        train_param = x\n",
    "        \n",
    "\n",
    "    print x, '\\t', rgr.best_score, rgr.best_iteration"
   ]
  },
  {
   "cell_type": "code",
   "execution_count": 132,
   "metadata": {
    "collapsed": false
   },
   "outputs": [
    {
     "name": "stdout",
     "output_type": "stream",
     "text": [
      "0.8\n"
     ]
    }
   ],
   "source": [
    "colsample_bytree = train_param\n",
    "print train_param"
   ]
  },
  {
   "cell_type": "code",
   "execution_count": 133,
   "metadata": {
    "collapsed": false
   },
   "outputs": [
    {
     "name": "stdout",
     "output_type": "stream",
     "text": [
      "0.5 \t0.522391 106\n",
      "0.6 \t0.522022 114\n",
      "0.7 \t0.521796 155\n",
      "0.8 \t0.522082 156\n",
      "0.9 \t0.522189 137\n"
     ]
    }
   ],
   "source": [
    "train_param = 1\n",
    "for x in [0.5,0.6,0.7,0.8,0.9]:\n",
    "    rgr = xgb.XGBClassifier(\n",
    "        objective='multi:softprob',\n",
    "        seed = 1234, # use a fixed seed during tuning so we can reproduce the results\n",
    "        learning_rate = learning_rate,\n",
    "        n_estimators = 10000,\n",
    "        max_depth= max_depth,\n",
    "        nthread = -1,\n",
    "        silent = False,\n",
    "        min_child_weight = min_child_weight,\n",
    "        colsample_bytree = colsample_bytree,\n",
    "        subsample = x\n",
    "    )\n",
    "    rgr.fit(\n",
    "        X_train,y_train,\n",
    "        eval_set=[(X_val,y_val)],\n",
    "        eval_metric='mlogloss',\n",
    "        early_stopping_rounds=50,\n",
    "        verbose=False\n",
    "    )\n",
    "    if rgr.best_score < best_score:\n",
    "        best_score = rgr.best_score\n",
    "        train_param = x\n",
    "        \n",
    "\n",
    "    print x, '\\t', rgr.best_score, rgr.best_iteration"
   ]
  },
  {
   "cell_type": "code",
   "execution_count": 134,
   "metadata": {
    "collapsed": false
   },
   "outputs": [
    {
     "name": "stdout",
     "output_type": "stream",
     "text": [
      "0.7\n"
     ]
    }
   ],
   "source": [
    "subsample = train_param\n",
    "print train_param"
   ]
  },
  {
   "cell_type": "code",
   "execution_count": 135,
   "metadata": {
    "collapsed": false
   },
   "outputs": [
    {
     "name": "stdout",
     "output_type": "stream",
     "text": [
      "0.3 \t0.521587 229\n",
      "0.6 \t0.521889 155\n",
      "0.9 \t0.521672 229\n",
      "1.2 \t0.521809 185\n",
      "1.5 \t0.521477 229\n",
      "1.8 \t0.521727 155\n",
      "2.1 \t0.521937 155\n",
      "2.4 \t0.521896 155\n",
      "2.7 \t0.521784 227\n",
      "3.0 \t0.522045 155\n"
     ]
    }
   ],
   "source": [
    "train_param = 0\n",
    "for x in [0.3, 0.6, 0.9, 1.2, 1.5, 1.8, 2.1, 2.4, 2.7, 3.0]:\n",
    "    rgr = xgb.XGBClassifier(\n",
    "        objective='multi:softprob',\n",
    "        seed = 1234, # use a fixed seed during tuning so we can reproduce the results\n",
    "        learning_rate = learning_rate,\n",
    "        n_estimators = 10000,\n",
    "        max_depth= max_depth,\n",
    "        nthread = -1,\n",
    "        silent = False,\n",
    "        min_child_weight = min_child_weight,\n",
    "        colsample_bytree = colsample_bytree,\n",
    "        subsample = subsample,\n",
    "        gamma = x\n",
    "    )\n",
    "    rgr.fit(\n",
    "        X_train,y_train,\n",
    "        eval_set=[(X_val,y_val)],\n",
    "        eval_metric='mlogloss',\n",
    "        early_stopping_rounds=50,\n",
    "        verbose=False\n",
    "    )\n",
    "\n",
    "    if rgr.best_score < best_score:\n",
    "        best_score = rgr.best_score\n",
    "        train_param = x\n",
    "        \n",
    "\n",
    "    print x, '\\t', rgr.best_score, rgr.best_iteration"
   ]
  },
  {
   "cell_type": "code",
   "execution_count": 136,
   "metadata": {
    "collapsed": false
   },
   "outputs": [
    {
     "name": "stdout",
     "output_type": "stream",
     "text": [
      "1.5\n"
     ]
    }
   ],
   "source": [
    "gamma = train_param\n",
    "print gamma"
   ]
  },
  {
   "cell_type": "code",
   "execution_count": 137,
   "metadata": {
    "collapsed": false
   },
   "outputs": [
    {
     "name": "stdout",
     "output_type": "stream",
     "text": [
      "[0]\tvalidation_0-mlogloss:1.02329\n",
      "Will train until validation_0-mlogloss hasn't improved in 50 rounds.\n",
      "[25]\tvalidation_0-mlogloss:0.553328\n",
      "[50]\tvalidation_0-mlogloss:0.526073\n",
      "[75]\tvalidation_0-mlogloss:0.522986\n",
      "[100]\tvalidation_0-mlogloss:0.522024\n",
      "[125]\tvalidation_0-mlogloss:0.521917\n",
      "[150]\tvalidation_0-mlogloss:0.521824\n",
      "[175]\tvalidation_0-mlogloss:0.521716\n",
      "[200]\tvalidation_0-mlogloss:0.521808\n",
      "[225]\tvalidation_0-mlogloss:0.521579\n",
      "[250]\tvalidation_0-mlogloss:0.521706\n",
      "[275]\tvalidation_0-mlogloss:0.521784\n",
      "Stopping. Best iteration:\n",
      "[229]\tvalidation_0-mlogloss:0.521477\n",
      "\n"
     ]
    },
    {
     "data": {
      "text/plain": [
       "XGBClassifier(base_score=0.5, colsample_bylevel=1, colsample_bytree=0.8,\n",
       "       gamma=1.5, learning_rate=0.1, max_delta_step=0, max_depth=2,\n",
       "       min_child_weight=8, missing=None, n_estimators=10000, nthread=-1,\n",
       "       objective='multi:softprob', reg_alpha=0, reg_lambda=1,\n",
       "       scale_pos_weight=1, seed=1234, silent=False, subsample=0.7)"
      ]
     },
     "execution_count": 137,
     "metadata": {},
     "output_type": "execute_result"
    }
   ],
   "source": [
    "rgr = xgb.XGBClassifier(\n",
    "    objective='multi:softprob',\n",
    "    seed = 1234, # use a fixed seed during tuning so we can reproduce the results\n",
    "    learning_rate = learning_rate,\n",
    "    n_estimators = 10000,\n",
    "    max_depth= max_depth,\n",
    "    nthread = -1,\n",
    "    silent = False,\n",
    "    min_child_weight = min_child_weight,\n",
    "    colsample_bytree = colsample_bytree,\n",
    "    subsample = subsample,\n",
    "    gamma = gamma\n",
    ")\n",
    "rgr.fit(X_train,y_train,\n",
    "        eval_set=[(X_val,y_val)],\n",
    "        eval_metric='mlogloss',\n",
    "#         num_class = 3,\n",
    "        early_stopping_rounds=50,\n",
    "        verbose=25\n",
    "       )"
   ]
  },
  {
   "cell_type": "code",
   "execution_count": 138,
   "metadata": {
    "collapsed": true
   },
   "outputs": [],
   "source": [
    "pred_y = rgr.predict_proba(test_2nd_mean, ntree_limit = rgr.best_iteration)\n",
    "test_df = pd.read_csv('../input/' + 'test_BrandenMurray.csv')\n",
    "\n",
    "now = datetime.now()\n",
    "sub_name = '../output/sub_xgb_2nd_' + str(now.strftime(\"%Y-%m-%d-%H-%M\")) + '.csv'\n",
    "\n",
    "out_df = pd.DataFrame(pred_y[:,:3])\n",
    "out_df.columns = [\"low\", \"medium\", \"high\"]\n",
    "out_df[\"listing_id\"] = test_df.listing_id.values\n",
    "out_df.to_csv(sub_name, index=False)"
   ]
  },
  {
   "cell_type": "code",
   "execution_count": null,
   "metadata": {
    "collapsed": true
   },
   "outputs": [],
   "source": []
  }
 ],
 "metadata": {
  "anaconda-cloud": {},
  "kernelspec": {
   "display_name": "Python [default]",
   "language": "python",
   "name": "python2"
  },
  "language_info": {
   "codemirror_mode": {
    "name": "ipython",
    "version": 2
   },
   "file_extension": ".py",
   "mimetype": "text/x-python",
   "name": "python",
   "nbconvert_exporter": "python",
   "pygments_lexer": "ipython2",
   "version": "2.7.12"
  }
 },
 "nbformat": 4,
 "nbformat_minor": 1
}
