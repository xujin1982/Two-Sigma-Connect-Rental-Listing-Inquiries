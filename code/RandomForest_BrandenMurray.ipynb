{
 "cells": [
  {
   "cell_type": "code",
   "execution_count": 1,
   "metadata": {
    "collapsed": true
   },
   "outputs": [],
   "source": [
    "import time\n",
    "import numpy as np # linear algebra\n",
    "import pandas as pd # data processing, CSV file I/O (e.g. pd.read_csv)\n",
    "from scipy import sparse\n",
    "from scipy.stats.mstats import gmean\n",
    "from sklearn.ensemble import RandomForestClassifier\n",
    "from sklearn.model_selection import train_test_split\n",
    "from sklearn.metrics import log_loss\n",
    "from datetime import datetime\n",
    "from sklearn.model_selection import train_test_split,StratifiedKFold, KFold\n",
    "from sklearn.model_selection import cross_val_score\n",
    "seed = 1234\n"
   ]
  },
  {
   "cell_type": "markdown",
   "metadata": {},
   "source": [
    "# Load Data"
   ]
  },
  {
   "cell_type": "code",
   "execution_count": 2,
   "metadata": {
    "collapsed": false
   },
   "outputs": [
    {
     "name": "stdout",
     "output_type": "stream",
     "text": [
      "(49352, 285) (74659, 285) (49352L,)\n"
     ]
    }
   ],
   "source": [
    "data_path = \"../input/\"\n",
    "train_X = pd.read_csv(data_path + 'train_BrandenMurray.csv')\n",
    "test_X = pd.read_csv(data_path + 'test_BrandenMurray.csv')\n",
    "train_y = np.ravel(pd.read_csv(data_path + 'labels_BrandenMurray.csv'))\n",
    "\n",
    "# all_features = features_to_use + desc_sparse_cols + feat_sparse_cols\n",
    "print train_X.shape, test_X.shape, train_y.shape"
   ]
  },
  {
   "cell_type": "code",
   "execution_count": 5,
   "metadata": {
    "collapsed": true
   },
   "outputs": [],
   "source": [
    "X_train, X_val, y_train, y_val = train_test_split(train_X, train_y, test_size=0.20, random_state = seed)\n",
    "\n",
    "# clf = RandomForestClassifier(n_jobs = -1,n_estimators=300, criterion = 'entropy', verbose = 0)\n",
    "# clf.fit(X_train, y_train)\n",
    "# y_val_pred = clf.predict_proba(X_val)\n",
    "# print log_loss(y_val, y_val_pred)"
   ]
  },
  {
   "cell_type": "code",
   "execution_count": 3,
   "metadata": {
    "collapsed": false
   },
   "outputs": [],
   "source": [
    "def RFC_cv(max_features = 0.5, n_estimators=300, min_samples_leaf  =1):\n",
    "    scores=[]\n",
    "    est=RandomForestClassifier(max_features=max_features,\n",
    "                               n_estimators=int(n_estimators),\n",
    "                               min_samples_leaf =int(min_samples_leaf), \n",
    "                               criterion = 'entropy',\n",
    "                               random_state=seed,\n",
    "                               n_jobs = -1\n",
    "                              )\n",
    "    est.fit(X_train, y_train)\n",
    "    y_val_pred = est.predict_proba(X_val)\n",
    "#     return cross_val_score(est,train_X,train_y, scoring = 'neg_log_loss', cv = 5)\n",
    "    return -1*log_loss(y_val, y_val_pred)"
   ]
  },
  {
   "cell_type": "code",
   "execution_count": 6,
   "metadata": {
    "collapsed": false
   },
   "outputs": [
    {
     "name": "stdout",
     "output_type": "stream",
     "text": [
      "0.3 \t-0.578121216465\n",
      "0.4 \t-0.57473153549\n",
      "0.5 \t-0.577376388709\n",
      "0.6 \t-0.57646717464\n",
      "0.7 \t-0.585500824571\n",
      "0.8 \t-0.586133484854\n",
      "0.9 \t-0.580981742551\n",
      "1 \t-0.589632151169\n"
     ]
    }
   ],
   "source": [
    "cv_score = -1\n",
    "for x in [0.3,0.4,0.5,0.6,0.7,0.8,0.9,1]:\n",
    "    score = RFC_cv(max_features = x)\n",
    "    if score > cv_score:\n",
    "        max_features = x\n",
    "        cv_score = score\n",
    "    print x,'\\t', score"
   ]
  },
  {
   "cell_type": "code",
   "execution_count": 10,
   "metadata": {
    "collapsed": false
   },
   "outputs": [
    {
     "name": "stdout",
     "output_type": "stream",
     "text": [
      "0.4\n"
     ]
    }
   ],
   "source": [
    "print max_features"
   ]
  },
  {
   "cell_type": "code",
   "execution_count": 11,
   "metadata": {
    "collapsed": false
   },
   "outputs": [
    {
     "name": "stdout",
     "output_type": "stream",
     "text": [
      "1 \t-0.57473153549\n",
      "2 \t-0.571688759933\n",
      "4 \t-0.567230635952\n",
      "8 \t-0.570357651708\n",
      "16 \t-0.574486830271\n",
      "32 \t-0.582130462665\n",
      "64 \t-0.589836034895\n",
      "128 \t-0.599136595922\n"
     ]
    }
   ],
   "source": [
    "for x in [1,2,4,8,16,32,64,128]:\n",
    "    score = RFC_cv(max_features = max_features,min_samples_leaf = x)\n",
    "    if score > cv_score:\n",
    "        min_samples_leaf = x\n",
    "        cv_score = score    \n",
    "    print x, '\\t', score"
   ]
  },
  {
   "cell_type": "code",
   "execution_count": 12,
   "metadata": {
    "collapsed": false
   },
   "outputs": [
    {
     "name": "stdout",
     "output_type": "stream",
     "text": [
      "3 \t-0.570366056219\n",
      "5 \t-0.568638643593\n",
      "6 \t-0.568598403645\n",
      "7 \t-0.569294080983\n"
     ]
    }
   ],
   "source": [
    "for x in [3,5,6,7]:\n",
    "    score = RFC_cv(max_features = max_features,min_samples_leaf = x)\n",
    "    if score > cv_score:\n",
    "        min_samples_leaf = x\n",
    "        cv_score = score    \n",
    "    print x, '\\t', score"
   ]
  },
  {
   "cell_type": "code",
   "execution_count": 16,
   "metadata": {
    "collapsed": false
   },
   "outputs": [
    {
     "name": "stdout",
     "output_type": "stream",
     "text": [
      "4\n"
     ]
    }
   ],
   "source": [
    "print min_samples_leaf"
   ]
  },
  {
   "cell_type": "code",
   "execution_count": 22,
   "metadata": {
    "collapsed": false
   },
   "outputs": [],
   "source": [
    "def RFC_blend(est, train_x, train_y, test_x, fold):\n",
    "    N_params = len(est)\n",
    "    print (\"Blend %d estimators for %d folds\" % (N_params, fold))\n",
    "    skf = KFold(n_splits=fold,random_state=seed)\n",
    "    N_class = len(set(train_y))\n",
    "    \n",
    "    train_blend_x = np.zeros((train_x.shape[0], N_class*N_params))\n",
    "    test_blend_x_mean = np.zeros((test_x.shape[0], N_class*N_params))\n",
    "    test_blend_x_gmean = np.zeros((test_x.shape[0], N_class*N_params))\n",
    "    scores = np.zeros((fold,N_params))\n",
    "    best_rounds = np.zeros((fold, N_params))    \n",
    "    \n",
    "    for j, ester in enumerate(est):\n",
    "        print (\"Model %d:\" %(j+1))\n",
    "        test_blend_x_j = np.zeros((test_x.shape[0], N_class*fold))\n",
    "\n",
    "            \n",
    "        for i, (train_index, val_index) in enumerate(skf.split(train_x)):\n",
    "            print (\"Model %d fold %d\" %(j+1,i+1))\n",
    "            fold_start = time.time() \n",
    "            train_x_fold = train_x.iloc[train_index]\n",
    "            train_y_fold = train_y[train_index]\n",
    "            val_x_fold = train_x.iloc[val_index]\n",
    "            val_y_fold = train_y[val_index]            \n",
    "            \n",
    "\n",
    "            ester.fit(train_x_fold,train_y_fold)\n",
    "            \n",
    "            val_y_predict_fold = ester.predict_proba(val_x_fold)\n",
    "            score = log_loss(val_y_fold, val_y_predict_fold)\n",
    "            print (\"Score: \", score)\n",
    "            scores[i,j]=score            \n",
    "            \n",
    "            train_blend_x[val_index, (j*N_class):(j+1)*N_class] = val_y_predict_fold\n",
    "            test_blend_x_j[:,(i*N_class):(i+1)*N_class] = ester.predict_proba(test_x)\n",
    "            \n",
    "            print (\"Model %d fold %d fitting finished in %0.3fs\" % (j+1,i+1, time.time() - fold_start))            \n",
    "\n",
    "        test_blend_x_mean[:,(j*N_class):(j+1)*N_class] = \\\n",
    "                np.stack([test_blend_x_j[:,range(0,N_class*fold,N_class)].mean(1),\n",
    "                          test_blend_x_j[:,range(1,N_class*fold,N_class)].mean(1),\n",
    "                          test_blend_x_j[:,range(2,N_class*fold,N_class)].mean(1)]).T\n",
    "        \n",
    "        test_blend_x_gmean[:,(j*N_class):(j+1)*N_class] = \\\n",
    "                np.stack([gmean(test_blend_x_j[:,range(0,N_class*fold,N_class)], axis=1),\n",
    "                          gmean(test_blend_x_j[:,range(1,N_class*fold,N_class)], axis=1),\n",
    "                          gmean(test_blend_x_j[:,range(2,N_class*fold,N_class)], axis=1)]).T\n",
    "            \n",
    "        print (\"Score for model %d is %f\" % (j+1,np.mean(scores[:,j])))\n",
    "    print (\"Score for blended models is %f\" % (np.mean(scores)))\n",
    "    return (train_blend_x, test_blend_x_mean, test_blend_x_gmean, scores,best_rounds)"
   ]
  },
  {
   "cell_type": "code",
   "execution_count": 23,
   "metadata": {
    "collapsed": false
   },
   "outputs": [
    {
     "name": "stdout",
     "output_type": "stream",
     "text": [
      "Blend 1 estimators for 10 folds\n",
      "Model 1:\n",
      "Model 1 fold 1\n",
      "('Score: ', 0.54855857454942647)\n",
      "Model 1 fold 1 fitting finished in 222.945s\n",
      "Model 1 fold 2\n",
      "('Score: ', 0.53311941147018327)\n",
      "Model 1 fold 2 fitting finished in 233.004s\n",
      "Model 1 fold 3\n",
      "('Score: ', 0.55880344668495285)\n",
      "Model 1 fold 3 fitting finished in 231.613s\n",
      "Model 1 fold 4\n",
      "('Score: ', 0.53736370636075748)\n",
      "Model 1 fold 4 fitting finished in 231.950s\n",
      "Model 1 fold 5\n",
      "('Score: ', 0.56584755133070141)\n",
      "Model 1 fold 5 fitting finished in 233.167s\n",
      "Model 1 fold 6\n",
      "('Score: ', 0.55247709934800382)\n",
      "Model 1 fold 6 fitting finished in 234.531s\n",
      "Model 1 fold 7\n",
      "('Score: ', 0.56669048224804919)\n",
      "Model 1 fold 7 fitting finished in 233.572s\n",
      "Model 1 fold 8\n",
      "('Score: ', 0.58197117118126851)\n",
      "Model 1 fold 8 fitting finished in 234.054s\n",
      "Model 1 fold 9\n",
      "('Score: ', 0.57888163092302869)\n",
      "Model 1 fold 9 fitting finished in 228.586s\n",
      "Model 1 fold 10\n",
      "('Score: ', 0.56302004807477768)\n",
      "Model 1 fold 10 fitting finished in 230.895s\n",
      "Score for model 1 is 0.558673\n",
      "Score for blended models is 0.558673\n"
     ]
    }
   ],
   "source": [
    "est = [RandomForestClassifier(max_features=max_features,\n",
    "                              n_estimators=1000,\n",
    "                              min_samples_leaf = min_samples_leaf,\n",
    "                              random_state=seed,\n",
    "                              criterion = 'entropy',\n",
    "                              n_jobs = -1\n",
    "                             )]\n",
    "\n",
    "(train_blend_x_RFC,\n",
    " test_blend_x_RFC_mean,\n",
    " test_blend_x_RFC_gmean,\n",
    " blend_scores_RFC,\n",
    " best_rounds_RFC) = RFC_blend(est,\n",
    "                              train_X,train_y,\n",
    "                              test_X,\n",
    "                              10)"
   ]
  },
  {
   "cell_type": "code",
   "execution_count": 24,
   "metadata": {
    "collapsed": false
   },
   "outputs": [
    {
     "data": {
      "text/plain": [
       "array([[  5.61415829e-01,   3.52132174e-01,   8.64519966e-02],\n",
       "       [  9.97842893e-01,   2.15710650e-03,   0.00000000e+00],\n",
       "       [  9.22616056e-01,   6.66289502e-02,   1.07549934e-02],\n",
       "       ..., \n",
       "       [  8.87102096e-01,   9.66515123e-02,   1.62463915e-02],\n",
       "       [  9.52714681e-01,   4.70038511e-02,   2.81468254e-04],\n",
       "       [  5.34592883e-01,   4.35178032e-01,   3.02290854e-02]])"
      ]
     },
     "execution_count": 24,
     "metadata": {},
     "output_type": "execute_result"
    }
   ],
   "source": [
    "test_blend_x_RFC_mean"
   ]
  },
  {
   "cell_type": "code",
   "execution_count": 25,
   "metadata": {
    "collapsed": false
   },
   "outputs": [
    {
     "data": {
      "text/plain": [
       "array([[ 0.56114519,  0.35149677,  0.08599882],\n",
       "       [ 0.99784253,  0.00195752,  0.        ],\n",
       "       [ 0.92250269,  0.06540104,  0.01050758],\n",
       "       ..., \n",
       "       [ 0.88703631,  0.09635377,  0.01455594],\n",
       "       [ 0.95267666,  0.04600396,  0.        ],\n",
       "       [ 0.53411808,  0.43464971,  0.02988159]])"
      ]
     },
     "execution_count": 25,
     "metadata": {},
     "output_type": "execute_result"
    }
   ],
   "source": [
    "test_blend_x_RFC_gmean"
   ]
  },
  {
   "cell_type": "code",
   "execution_count": 26,
   "metadata": {
    "collapsed": false
   },
   "outputs": [
    {
     "name": "stdout",
     "output_type": "stream",
     "text": [
      "[ 0.55867331]\n"
     ]
    }
   ],
   "source": [
    "now = datetime.now()\n",
    "\n",
    "name_train_blend = '../blend/train_blend_RFC_entropy_BM' + str(now.strftime(\"%Y-%m-%d-%H-%M\")) + '.csv'\n",
    "name_test_blend_mean = '../blend/test_blend_RFC_entropy_mean_BM' + str(now.strftime(\"%Y-%m-%d-%H-%M\")) + '.csv'\n",
    "name_test_blend_gmean = '../blend/test_blend_RFC_entropy_gmean_BM' + str(now.strftime(\"%Y-%m-%d-%H-%M\")) + '.csv'\n",
    "\n",
    "\n",
    "print (np.mean(blend_scores_RFC,axis=0))\n",
    "# print (np.mean(best_rounds_RFC,axis=0))\n",
    "np.savetxt(name_train_blend,train_blend_x_RFC, delimiter=\",\")\n",
    "np.savetxt(name_test_blend_mean,test_blend_x_RFC_mean, delimiter=\",\")\n",
    "np.savetxt(name_test_blend_gmean,test_blend_x_RFC_gmean, delimiter=\",\")"
   ]
  },
  {
   "cell_type": "code",
   "execution_count": null,
   "metadata": {
    "collapsed": true
   },
   "outputs": [],
   "source": []
  },
  {
   "cell_type": "code",
   "execution_count": 28,
   "metadata": {
    "collapsed": false
   },
   "outputs": [],
   "source": [
    "sub_name = '../output/sub_RFC_entropy_gmean_BM_' + str(now.strftime(\"%Y-%m-%d-%H-%M\")) + '.csv'\n",
    "\n",
    "out_df = pd.DataFrame(test_blend_x_RFC_gmean[:,:3])\n",
    "out_df.columns = [\"low\", \"medium\", \"high\"]\n",
    "out_df[\"listing_id\"] = test_X.listing_id.values\n",
    "out_df.to_csv(sub_name, index=False)"
   ]
  },
  {
   "cell_type": "code",
   "execution_count": null,
   "metadata": {
    "collapsed": true
   },
   "outputs": [],
   "source": []
  },
  {
   "cell_type": "code",
   "execution_count": 29,
   "metadata": {
    "collapsed": true
   },
   "outputs": [],
   "source": [
    "def RFC_cv(max_features = 0.5, n_estimators=300, min_samples_leaf  =1):\n",
    "    scores=[]\n",
    "    est=RandomForestClassifier(max_features=max_features,\n",
    "                               n_estimators=int(n_estimators),\n",
    "                               min_samples_leaf =int(min_samples_leaf), \n",
    "                               criterion = 'gini',\n",
    "                               random_state=seed,\n",
    "                               n_jobs = -1\n",
    "                              )\n",
    "    est.fit(X_train, y_train)\n",
    "    y_val_pred = est.predict_proba(X_val)\n",
    "#     return cross_val_score(est,train_X,train_y, scoring = 'neg_log_loss', cv = 5)\n",
    "    return -1*log_loss(y_val, y_val_pred)"
   ]
  },
  {
   "cell_type": "code",
   "execution_count": 30,
   "metadata": {
    "collapsed": false
   },
   "outputs": [
    {
     "name": "stdout",
     "output_type": "stream",
     "text": [
      "0.3 \t-0.580311808983\n",
      "0.4 \t-0.581610017782\n",
      "0.5 \t-0.588300355567\n",
      "0.6 \t-0.583919290736\n",
      "0.7 \t-0.596547574466\n",
      "0.8 \t-0.592115941543\n",
      "0.9 \t-0.58970988735\n",
      "1 \t-0.590757943676\n"
     ]
    }
   ],
   "source": [
    "cv_score = -1\n",
    "for x in [0.3,0.4,0.5,0.6,0.7,0.8,0.9,1]:\n",
    "    score = RFC_cv(max_features = x)\n",
    "    if score > cv_score:\n",
    "        max_features = x\n",
    "        cv_score = score\n",
    "    print x,'\\t', score"
   ]
  },
  {
   "cell_type": "code",
   "execution_count": 34,
   "metadata": {
    "collapsed": false
   },
   "outputs": [
    {
     "name": "stdout",
     "output_type": "stream",
     "text": [
      "0.1 \t-0.567717755864\n",
      "0.2 \t-0.573311070816\n"
     ]
    }
   ],
   "source": [
    "for x in [0.1,0.2]:\n",
    "    score = RFC_cv(max_features = x)\n",
    "    if score > cv_score:\n",
    "        max_features = x\n",
    "        cv_score = score\n",
    "    print x,'\\t', score"
   ]
  },
  {
   "cell_type": "code",
   "execution_count": 39,
   "metadata": {
    "collapsed": false
   },
   "outputs": [
    {
     "name": "stdout",
     "output_type": "stream",
     "text": [
      "0.03 \t-0.582249595103\n",
      "0.06 \t-0.574039720103\n"
     ]
    }
   ],
   "source": [
    "for x in [0.03,0.06]:\n",
    "    score = RFC_cv(max_features = x)\n",
    "    if score > cv_score:\n",
    "        max_features = x\n",
    "        cv_score = score\n",
    "    print x,'\\t', score"
   ]
  },
  {
   "cell_type": "code",
   "execution_count": 40,
   "metadata": {
    "collapsed": false
   },
   "outputs": [
    {
     "name": "stdout",
     "output_type": "stream",
     "text": [
      "0.1\n"
     ]
    }
   ],
   "source": [
    "print max_features"
   ]
  },
  {
   "cell_type": "code",
   "execution_count": 36,
   "metadata": {
    "collapsed": false
   },
   "outputs": [
    {
     "name": "stdout",
     "output_type": "stream",
     "text": [
      "1 \t-0.567717755864\n",
      "2 \t-0.566678139402\n",
      "4 \t-0.569112200834\n",
      "8 \t-0.575282357779\n",
      "16 \t-0.583597632653\n",
      "32 \t-0.592794220796\n"
     ]
    }
   ],
   "source": [
    "for x in [1,2,4,8]:\n",
    "    score = RFC_cv(max_features = max_features,min_samples_leaf = x)\n",
    "    if score > cv_score:\n",
    "        min_samples_leaf = x\n",
    "        cv_score = score    \n",
    "    print x, '\\t', score"
   ]
  },
  {
   "cell_type": "code",
   "execution_count": 37,
   "metadata": {
    "collapsed": false
   },
   "outputs": [
    {
     "name": "stdout",
     "output_type": "stream",
     "text": [
      "2\n"
     ]
    }
   ],
   "source": [
    "print min_samples_leaf"
   ]
  },
  {
   "cell_type": "code",
   "execution_count": 41,
   "metadata": {
    "collapsed": false
   },
   "outputs": [
    {
     "name": "stdout",
     "output_type": "stream",
     "text": [
      "Blend 1 estimators for 10 folds\n",
      "Model 1:\n",
      "Model 1 fold 1\n",
      "('Score: ', 0.54927278962183534)\n",
      "Model 1 fold 1 fitting finished in 62.242s\n",
      "Model 1 fold 2\n",
      "('Score: ', 0.53460799445798934)\n",
      "Model 1 fold 2 fitting finished in 62.976s\n",
      "Model 1 fold 3\n",
      "('Score: ', 0.56121626776110223)\n",
      "Model 1 fold 3 fitting finished in 63.469s\n",
      "Model 1 fold 4\n",
      "('Score: ', 0.54123921531424113)\n",
      "Model 1 fold 4 fitting finished in 64.828s\n",
      "Model 1 fold 5\n",
      "('Score: ', 0.56682028268092821)\n",
      "Model 1 fold 5 fitting finished in 63.438s\n",
      "Model 1 fold 6\n",
      "('Score: ', 0.55617906749769885)\n",
      "Model 1 fold 6 fitting finished in 63.752s\n",
      "Model 1 fold 7\n",
      "('Score: ', 0.57014254294779976)\n",
      "Model 1 fold 7 fitting finished in 65.716s\n",
      "Model 1 fold 8\n",
      "('Score: ', 0.58148600136509343)\n",
      "Model 1 fold 8 fitting finished in 72.534s\n",
      "Model 1 fold 9\n",
      "('Score: ', 0.57878197693189148)\n",
      "Model 1 fold 9 fitting finished in 70.321s\n",
      "Model 1 fold 10\n",
      "('Score: ', 0.5626029691003962)\n",
      "Model 1 fold 10 fitting finished in 65.271s\n",
      "Score for model 1 is 0.560235\n",
      "Score for blended models is 0.560235\n"
     ]
    }
   ],
   "source": [
    "est = [RandomForestClassifier(max_features=max_features,\n",
    "                              n_estimators=1000,\n",
    "                              min_samples_leaf = min_samples_leaf,\n",
    "                              random_state=seed,\n",
    "                              criterion = 'gini',\n",
    "                              n_jobs = -1\n",
    "                             )]\n",
    "\n",
    "(train_blend_x_RFC,\n",
    " test_blend_x_RFC_mean,\n",
    " test_blend_x_RFC_gmean,\n",
    " blend_scores_RFC,\n",
    " best_rounds_RFC) = RFC_blend(est,\n",
    "                              train_X,train_y,\n",
    "                              test_X,\n",
    "                              10)"
   ]
  },
  {
   "cell_type": "code",
   "execution_count": 42,
   "metadata": {
    "collapsed": false
   },
   "outputs": [
    {
     "name": "stdout",
     "output_type": "stream",
     "text": [
      "[ 0.56023491]\n"
     ]
    }
   ],
   "source": [
    "now = datetime.now()\n",
    "\n",
    "name_train_blend = '../blend/train_blend_RFC_gini_BM' + str(now.strftime(\"%Y-%m-%d-%H-%M\")) + '.csv'\n",
    "name_test_blend_mean = '../blend/test_blend_RFC_gini_mean_BM' + str(now.strftime(\"%Y-%m-%d-%H-%M\")) + '.csv'\n",
    "name_test_blend_gmean = '../blend/test_blend_RFC_gini_gmean_BM' + str(now.strftime(\"%Y-%m-%d-%H-%M\")) + '.csv'\n",
    "\n",
    "\n",
    "print (np.mean(blend_scores_RFC,axis=0))\n",
    "# print (np.mean(best_rounds_RFC,axis=0))\n",
    "np.savetxt(name_train_blend,train_blend_x_RFC, delimiter=\",\")\n",
    "np.savetxt(name_test_blend_mean,test_blend_x_RFC_mean, delimiter=\",\")\n",
    "np.savetxt(name_test_blend_gmean,test_blend_x_RFC_gmean, delimiter=\",\")"
   ]
  },
  {
   "cell_type": "code",
   "execution_count": null,
   "metadata": {
    "collapsed": true
   },
   "outputs": [],
   "source": []
  }
 ],
 "metadata": {
  "anaconda-cloud": {},
  "kernelspec": {
   "display_name": "Python [conda root]",
   "language": "python",
   "name": "conda-root-py"
  },
  "language_info": {
   "codemirror_mode": {
    "name": "ipython",
    "version": 2
   },
   "file_extension": ".py",
   "mimetype": "text/x-python",
   "name": "python",
   "nbconvert_exporter": "python",
   "pygments_lexer": "ipython2",
   "version": "2.7.12"
  }
 },
 "nbformat": 4,
 "nbformat_minor": 1
}
