{
 "cells": [
  {
   "cell_type": "code",
   "execution_count": 1,
   "metadata": {
    "collapsed": true
   },
   "outputs": [],
   "source": [
    "import pandas as pd\n",
    "import time\n",
    "import numpy as np\n",
    "from sklearn.metrics import log_loss\n",
    "from scipy.optimize import minimize"
   ]
  },
  {
   "cell_type": "markdown",
   "metadata": {},
   "source": [
    "# Load Data"
   ]
  },
  {
   "cell_type": "code",
   "execution_count": 2,
   "metadata": {
    "collapsed": true
   },
   "outputs": [],
   "source": [
    "train_y = np.ravel(pd.read_csv('../input/' + 'labels_BrandenMurray.csv'))\n",
    "\n",
    "names = ['low_0','medium_0','high_0',\n",
    "        'low_1','medium_1','high_1',\n",
    "        'low_2','medium_2','high_2',\n",
    "        'low_3','medium_3','high_3',\n",
    "        'low_4','medium_4','high_4',\n",
    "        'low_5','medium_5','high_5',\n",
    "        'low_6','medium_6','high_6',\n",
    "        'low_7','medium_7','high_7',\n",
    "        'low_8','medium_8','high_8',\n",
    "        'low_9','medium_9','high_9']\n",
    "\n",
    "data_path = \"../3rdlast/\"\n",
    "total_col = 0"
   ]
  },
  {
   "cell_type": "code",
   "execution_count": 4,
   "metadata": {
    "collapsed": false
   },
   "outputs": [
    {
     "name": "stdout",
     "output_type": "stream",
     "text": [
      "   nn_2nd_low_0  nn_2nd_medium_0  nn_2nd_high_0\n",
      "0      0.357091         0.585324       0.057586\n",
      "1      0.554172         0.404744       0.041084\n",
      "2      0.410131         0.546008       0.043861\n",
      "3      0.890533         0.106213       0.003254\n",
      "4      0.951064         0.047675       0.001261\n",
      "   nn_2nd_low_0  nn_2nd_medium_0  nn_2nd_high_0\n",
      "0      0.162490         0.584023       0.253486\n",
      "1      0.995381         0.004230       0.000389\n",
      "2      0.972846         0.025891       0.001264\n",
      "3      0.108858         0.501719       0.389423\n",
      "4      0.733884         0.257278       0.008839\n"
     ]
    }
   ],
   "source": [
    "# Keras 2nd level \n",
    "\n",
    "file_train      = 'train_blend_2ndKeras_100bagging_2017-04-22-18-54' + '.csv'\n",
    "file_test_mean  = 'test_blend_2ndKeras_100bagging_2017-04-22-18-54' + '.csv'\n",
    "\n",
    "\n",
    "train_nn_2nd      = pd.read_csv(data_path + file_train, header = None)\n",
    "test_nn_mean_2nd  = pd.read_csv(data_path + file_test_mean, header = None)\n",
    "\n",
    "n_column = train_nn_2nd.shape[1]\n",
    "total_col += n_column\n",
    "\n",
    "train_nn_2nd.columns      = ['nn_2nd_' + x for x in names[:n_column]]\n",
    "test_nn_mean_2nd.columns  = ['nn_2nd_' + x for x in names[:n_column]]\n",
    "\n",
    "print train_nn_2nd.iloc[:5,:3]\n",
    "print test_nn_mean_2nd.iloc[:5,:3]"
   ]
  },
  {
   "cell_type": "code",
   "execution_count": 5,
   "metadata": {
    "collapsed": false
   },
   "outputs": [
    {
     "name": "stdout",
     "output_type": "stream",
     "text": [
      "   xgb_2nd_low_0  xgb_2nd_medium_0  xgb_2nd_high_0\n",
      "0       0.315073          0.651911        0.033015\n",
      "1       0.583858          0.368919        0.047223\n",
      "2       0.446948          0.505974        0.047079\n",
      "3       0.907728          0.087888        0.004384\n",
      "4       0.912005          0.085264        0.002731\n",
      "   xgb_2nd_low_0  xgb_2nd_medium_0  xgb_2nd_high_0\n",
      "0       0.171173          0.618564        0.210263\n",
      "1       0.994381          0.004820        0.000799\n",
      "2       0.944171          0.053315        0.002514\n",
      "3       0.133564          0.550379        0.316057\n",
      "4       0.750419          0.240804        0.008776\n"
     ]
    }
   ],
   "source": [
    "# XGB 2nd level\n",
    "\n",
    "file_train     = 'train_blend_2ndXGB_BM_100bagging_2017-04-22-07-18' + '.csv'\n",
    "file_test_mean = 'test_blend_2ndXGB_BM_100bagging_2017-04-22-07-18' + '.csv'\n",
    "\n",
    "\n",
    "train_xgb_2nd      = pd.read_csv(data_path + file_train, header = None)\n",
    "test_xgb_mean_2nd  = pd.read_csv(data_path + file_test_mean, header = None)\n",
    "\n",
    "tmp_train = train_xgb_2nd\n",
    "tmp_test  = test_xgb_mean_2nd\n",
    "\n",
    "file_train     = 'train_blend_2ndXGB_BM_100bagging_1_2017-04-22-14-37' + '.csv'\n",
    "file_test_mean = 'test_blend_2ndXGB_BM_100bagging_1_2017-04-22-14-37' + '.csv'\n",
    "\n",
    "train_xgb_2nd      = pd.read_csv(data_path + file_train, header = None)\n",
    "test_xgb_mean_2nd  = pd.read_csv(data_path + file_test_mean, header = None)\n",
    "\n",
    "train_xgb_2nd      = (tmp_train + train_xgb_2nd) / 2.0\n",
    "test_xgb_mean_2nd  = (tmp_test + test_xgb_mean_2nd) / 2.0\n",
    "\n",
    "n_column = train_xgb_2nd.shape[1]\n",
    "total_col += n_column\n",
    "\n",
    "train_xgb_2nd.columns = ['xgb_2nd_' + x for x in names[:n_column]]\n",
    "test_xgb_mean_2nd.columns = ['xgb_2nd_' + x for x in names[:n_column]]\n",
    "\n",
    "print train_xgb_2nd.iloc[:5,:3]\n",
    "print test_xgb_mean_2nd.iloc[:5,:3]"
   ]
  },
  {
   "cell_type": "code",
   "execution_count": 6,
   "metadata": {
    "collapsed": false
   },
   "outputs": [
    {
     "name": "stdout",
     "output_type": "stream",
     "text": [
      "   ADET_2nd_low_0  ADET_2nd_medium_0  ADET_2nd_high_0\n",
      "0        0.350422           0.600100         0.049478\n",
      "1        0.457400           0.494753         0.047847\n",
      "2        0.428550           0.521861         0.049589\n",
      "3        0.840500           0.157169         0.002331\n",
      "4        0.932883           0.057958         0.009158\n",
      "   ADET_2nd_low_0  ADET_2nd_medium_0  ADET_2nd_high_0\n",
      "0        0.132605           0.644076         0.223319\n",
      "1        0.982162           0.017716         0.000123\n",
      "2        0.910824           0.088860         0.000316\n",
      "3        0.163267           0.489916         0.346817\n",
      "4        0.723374           0.258492         0.018134\n"
     ]
    }
   ],
   "source": [
    "# ADET 2nd level\n",
    "\n",
    "file_train     = 'train_blend_2ndADET_100bagging_last_2017-04-22-04-30' + '.csv'\n",
    "file_test_mean = 'test_blend_2ndADET_100bagging_last_2017-04-22-04-30' + '.csv'\n",
    "\n",
    "\n",
    "train_ADET_2nd      = pd.read_csv(data_path + file_train, header = None)\n",
    "test_ADET_mean_2nd  = pd.read_csv(data_path + file_test_mean, header = None)\n",
    "\n",
    "tmp_train = train_ADET_2nd\n",
    "tmp_test  = test_ADET_mean_2nd\n",
    "\n",
    "file_train     = 'train_blend_2ndADET_100bagging_last_1_2017-04-22-10-08' + '.csv'\n",
    "file_test_mean = 'test_blend_2ndADET_100bagging_last_1_2017-04-22-10-08' + '.csv'\n",
    "\n",
    "train_ADET_2nd      = pd.read_csv(data_path + file_train, header = None)\n",
    "test_ADET_mean_2nd  = pd.read_csv(data_path + file_test_mean, header = None)\n",
    "\n",
    "tmp_train = tmp_train + train_ADET_2nd\n",
    "tmp_test  = tmp_test + test_ADET_mean_2nd\n",
    "\n",
    "file_train     = 'train_blend_2ndADET_100bagging_last_2_2017-04-22-17-43' + '.csv'\n",
    "file_test_mean = 'test_blend_2ndADET_100bagging_last_2_2017-04-22-17-43' + '.csv'\n",
    "\n",
    "train_ADET_2nd      = pd.read_csv(data_path + file_train, header = None)\n",
    "test_ADET_mean_2nd  = pd.read_csv(data_path + file_test_mean, header = None)\n",
    "\n",
    "train_ADET_2nd      = (tmp_train + train_ADET_2nd) / 3.0\n",
    "test_ADET_mean_2nd  = (tmp_test + test_ADET_mean_2nd) / 3.0\n",
    "\n",
    "n_column = train_ADET_2nd.shape[1]\n",
    "total_col += n_column\n",
    "\n",
    "train_ADET_2nd.columns = ['ADET_2nd_' + x for x in names[:n_column]]\n",
    "test_ADET_mean_2nd.columns = ['ADET_2nd_' + x for x in names[:n_column]]\n",
    "\n",
    "print train_ADET_2nd.iloc[:5,:3]\n",
    "print test_ADET_mean_2nd.iloc[:5,:3]"
   ]
  },
  {
   "cell_type": "code",
   "execution_count": 11,
   "metadata": {
    "collapsed": false
   },
   "outputs": [
    {
     "data": {
      "text/plain": [
       "False"
      ]
     },
     "execution_count": 11,
     "metadata": {},
     "output_type": "execute_result"
    }
   ],
   "source": [
    "train_ADET_2nd.isnull().values.any()"
   ]
  },
  {
   "cell_type": "code",
   "execution_count": 26,
   "metadata": {
    "collapsed": true
   },
   "outputs": [],
   "source": [
    "def myfunc(x):\n",
    "    tmp1 = x[0]*(np.power(train_xgb_2nd.values,x[1]) * np.power(train_nn_2nd.values,1-x[1])) + (1-x[0])*train_ADET_2nd.values\n",
    "    tmp = log_loss(train_y,tmp1)\n",
    "#     print x,tmp\n",
    "    return tmp"
   ]
  },
  {
   "cell_type": "code",
   "execution_count": 81,
   "metadata": {
    "collapsed": false,
    "scrolled": true
   },
   "outputs": [
    {
     "data": {
      "text/plain": [
       "0.49148092104724966"
      ]
     },
     "execution_count": 81,
     "metadata": {},
     "output_type": "execute_result"
    }
   ],
   "source": [
    "myfunc([0.5,0.5])"
   ]
  },
  {
   "cell_type": "code",
   "execution_count": 31,
   "metadata": {
    "collapsed": false
   },
   "outputs": [],
   "source": [
    "def myfunc2(x):\n",
    "    tmp1 = x[0]*(np.power(train_ADET_2nd.values,x[1]) * np.power(train_nn_2nd.values,1-x[1])) + (1-x[0])*train_xgb_2nd.values\n",
    "    tmp = log_loss(train_y,tmp1)\n",
    "#     print x,tmp\n",
    "    return tmp"
   ]
  },
  {
   "cell_type": "code",
   "execution_count": 80,
   "metadata": {
    "collapsed": false,
    "scrolled": true
   },
   "outputs": [
    {
     "data": {
      "text/plain": [
       "0.49091929104692983"
      ]
     },
     "execution_count": 80,
     "metadata": {},
     "output_type": "execute_result"
    }
   ],
   "source": [
    "myfunc2([0.5,0.5])"
   ]
  },
  {
   "cell_type": "code",
   "execution_count": 34,
   "metadata": {
    "collapsed": true
   },
   "outputs": [],
   "source": [
    "def myfunc3(x):\n",
    "    tmp1 = x[0]*(np.power(train_ADET_2nd.values,x[1]) * np.power(train_xgb_2nd.values,1-x[1])) + (1-x[0])*train_nn_2nd.values\n",
    "    tmp = log_loss(train_y,tmp1)\n",
    "#     print x,tmp\n",
    "    return tmp"
   ]
  },
  {
   "cell_type": "code",
   "execution_count": 79,
   "metadata": {
    "collapsed": false
   },
   "outputs": [
    {
     "data": {
      "text/plain": [
       "0.48892643653296852"
      ]
     },
     "execution_count": 79,
     "metadata": {},
     "output_type": "execute_result"
    }
   ],
   "source": [
    "myfunc3([0.5,0.5])"
   ]
  },
  {
   "cell_type": "code",
   "execution_count": 36,
   "metadata": {
    "collapsed": true
   },
   "outputs": [],
   "source": [
    "def myfunc4(x):\n",
    "    tmp1 = np.power(train_ADET_2nd.values,x[0])\\\n",
    "                * np.power(train_xgb_2nd.values,x[1])\\\n",
    "                * np.power(train_nn_2nd.values,1-x[0]-x[1])\n",
    "    tmp = log_loss(train_y,tmp1)\n",
    "#     print x,tmp\n",
    "    return tmp"
   ]
  },
  {
   "cell_type": "code",
   "execution_count": 82,
   "metadata": {
    "collapsed": false
   },
   "outputs": [
    {
     "data": {
      "text/plain": [
       "0.48999060421702095"
      ]
     },
     "execution_count": 82,
     "metadata": {},
     "output_type": "execute_result"
    }
   ],
   "source": [
    "myfunc4([0.33,0.33])"
   ]
  },
  {
   "cell_type": "code",
   "execution_count": 38,
   "metadata": {
    "collapsed": true
   },
   "outputs": [],
   "source": [
    "def myfunc5(x):\n",
    "    tmp1 = x[0]*(train_ADET_2nd.values)\\\n",
    "            + x[1] * (train_xgb_2nd.values)\\\n",
    "            + (1-x[0]-x[1]) * (train_nn_2nd.values)\n",
    "    tmp = log_loss(train_y,tmp1)\n",
    "#     print x,tmp\n",
    "    return tmp"
   ]
  },
  {
   "cell_type": "code",
   "execution_count": 83,
   "metadata": {
    "collapsed": false
   },
   "outputs": [
    {
     "data": {
      "text/plain": [
       "0.49035058058908521"
      ]
     },
     "execution_count": 83,
     "metadata": {},
     "output_type": "execute_result"
    }
   ],
   "source": [
    "myfunc5([0.33,0.33])"
   ]
  },
  {
   "cell_type": "code",
   "execution_count": 70,
   "metadata": {
    "collapsed": true
   },
   "outputs": [],
   "source": [
    "def myfunc6(x):\n",
    "    tmp1 = np.power(x[0]*(train_ADET_2nd.values) + (1-x[0]) * (train_xgb_2nd.values),x[1]) * np.power(train_nn_2nd.values,1-x[1])\n",
    "    tmp = log_loss(train_y,tmp1)\n",
    "#     print x,tmp\n",
    "    return tmp"
   ]
  },
  {
   "cell_type": "code",
   "execution_count": 73,
   "metadata": {
    "collapsed": false
   },
   "outputs": [
    {
     "data": {
      "text/plain": [
       "0.48866596480583846"
      ]
     },
     "execution_count": 73,
     "metadata": {},
     "output_type": "execute_result"
    }
   ],
   "source": [
    "myfunc6([0.5,0.5])"
   ]
  },
  {
   "cell_type": "code",
   "execution_count": 74,
   "metadata": {
    "collapsed": true
   },
   "outputs": [],
   "source": [
    "def myfunc7(x):\n",
    "    tmp1 = np.power(x[0]*(train_nn_2nd.values) + (1-x[0]) * (train_xgb_2nd.values),x[1]) * np.power(train_ADET_2nd.values,1-x[1])\n",
    "    tmp = log_loss(train_y,tmp1)\n",
    "#     print x,tmp\n",
    "    return tmp"
   ]
  },
  {
   "cell_type": "code",
   "execution_count": 75,
   "metadata": {
    "collapsed": false
   },
   "outputs": [
    {
     "data": {
      "text/plain": [
       "0.49134510310985369"
      ]
     },
     "execution_count": 75,
     "metadata": {},
     "output_type": "execute_result"
    }
   ],
   "source": [
    "myfunc7([0.5,0.5])"
   ]
  },
  {
   "cell_type": "code",
   "execution_count": 76,
   "metadata": {
    "collapsed": true
   },
   "outputs": [],
   "source": [
    "def myfunc8(x):\n",
    "    tmp1 = np.power(x[0]*(train_ADET_2nd.values) + (1-x[0]) * (train_nn_2nd.values),x[1]) * np.power(train_xgb_2nd.values,1-x[1])\n",
    "    tmp = log_loss(train_y,tmp1)\n",
    "#     print x,tmp\n",
    "    return tmp "
   ]
  },
  {
   "cell_type": "code",
   "execution_count": 84,
   "metadata": {
    "collapsed": false
   },
   "outputs": [
    {
     "data": {
      "text/plain": [
       "0.49114052850810619"
      ]
     },
     "execution_count": 84,
     "metadata": {},
     "output_type": "execute_result"
    }
   ],
   "source": [
    "myfunc8([0.5,0.5])"
   ]
  },
  {
   "cell_type": "code",
   "execution_count": 101,
   "metadata": {
    "collapsed": false
   },
   "outputs": [
    {
     "name": "stdout",
     "output_type": "stream",
     "text": [
      "[0.0, 0.95]\n",
      "0.487116570358\n"
     ]
    }
   ],
   "source": [
    "best  = 1\n",
    "for i in range(0,100,5):\n",
    "    for j in range(0,100,5):\n",
    "        score = myfunc8([i/100.0,j/100.0])\n",
    "        if score < best:\n",
    "            eff = [i/100.0,j/100.0]\n",
    "            best = score\n",
    "print eff\n",
    "print best"
   ]
  },
  {
   "cell_type": "code",
   "execution_count": 98,
   "metadata": {
    "collapsed": false
   },
   "outputs": [
    {
     "data": {
      "text/plain": [
       "0.48700488935788194"
      ]
     },
     "execution_count": 98,
     "metadata": {},
     "output_type": "execute_result"
    }
   ],
   "source": [
    "myfunc4([0.1, 0.0])"
   ]
  },
  {
   "cell_type": "code",
   "execution_count": 92,
   "metadata": {
    "collapsed": false
   },
   "outputs": [
    {
     "data": {
      "text/plain": [
       "0.48702533641907775"
      ]
     },
     "execution_count": 92,
     "metadata": {},
     "output_type": "execute_result"
    }
   ],
   "source": [
    "myfunc6([0.95, 0.1])"
   ]
  },
  {
   "cell_type": "code",
   "execution_count": 107,
   "metadata": {
    "collapsed": false
   },
   "outputs": [],
   "source": [
    "x = [0.95, 0.1]\n",
    "\n",
    "sub = np.power(x[0]*(test_ADET_mean_2nd.values) + (1-x[0]) * (test_xgb_mean_2nd.values),x[1]) * np.power(test_nn_mean_2nd.values,1-x[1])\n",
    "sub = pd.DataFrame(sub)\n",
    "sub.columns = [\"low\", \"medium\", \"high\"]\n",
    "\n",
    "sum_sub = sub.sum(axis=1)\n",
    "for col in [\"low\", \"medium\", \"high\"]:\n",
    "    sub[col] = sub[col] / sum_sub\n",
    "    \n",
    "    \n",
    "# test_ADET_mean_2nd\n",
    "# test_nn_mean_2nd\n",
    "# test_xgb_mean_2nd"
   ]
  },
  {
   "cell_type": "code",
   "execution_count": 108,
   "metadata": {
    "collapsed": true
   },
   "outputs": [],
   "source": [
    "data_path = \"../input/\"\n",
    "test_X = pd.read_csv(data_path + 'test_BM_MB_add03052240.csv')\n",
    "sub_id = test_X.listing_id.values"
   ]
  },
  {
   "cell_type": "code",
   "execution_count": 109,
   "metadata": {
    "collapsed": false
   },
   "outputs": [
    {
     "data": {
      "text/plain": [
       "(74659, 4)"
      ]
     },
     "execution_count": 109,
     "metadata": {},
     "output_type": "execute_result"
    }
   ],
   "source": [
    "sub[\"listing_id\"] = sub_id\n",
    "sub.shape"
   ]
  },
  {
   "cell_type": "code",
   "execution_count": 110,
   "metadata": {
    "collapsed": false
   },
   "outputs": [
    {
     "data": {
      "text/html": [
       "<div>\n",
       "<table border=\"1\" class=\"dataframe\">\n",
       "  <thead>\n",
       "    <tr style=\"text-align: right;\">\n",
       "      <th></th>\n",
       "      <th>low</th>\n",
       "      <th>medium</th>\n",
       "      <th>high</th>\n",
       "      <th>listing_id</th>\n",
       "    </tr>\n",
       "  </thead>\n",
       "  <tbody>\n",
       "    <tr>\n",
       "      <th>0</th>\n",
       "      <td>0.159559</td>\n",
       "      <td>0.590050</td>\n",
       "      <td>0.250391</td>\n",
       "      <td>7142618</td>\n",
       "    </tr>\n",
       "    <tr>\n",
       "      <th>1</th>\n",
       "      <td>0.994778</td>\n",
       "      <td>0.004867</td>\n",
       "      <td>0.000355</td>\n",
       "      <td>7210040</td>\n",
       "    </tr>\n",
       "    <tr>\n",
       "      <th>2</th>\n",
       "      <td>0.969545</td>\n",
       "      <td>0.029317</td>\n",
       "      <td>0.001137</td>\n",
       "      <td>7174566</td>\n",
       "    </tr>\n",
       "    <tr>\n",
       "      <th>3</th>\n",
       "      <td>0.113387</td>\n",
       "      <td>0.501407</td>\n",
       "      <td>0.385206</td>\n",
       "      <td>7191391</td>\n",
       "    </tr>\n",
       "    <tr>\n",
       "      <th>4</th>\n",
       "      <td>0.733149</td>\n",
       "      <td>0.257376</td>\n",
       "      <td>0.009475</td>\n",
       "      <td>7171695</td>\n",
       "    </tr>\n",
       "  </tbody>\n",
       "</table>\n",
       "</div>"
      ],
      "text/plain": [
       "        low    medium      high  listing_id\n",
       "0  0.159559  0.590050  0.250391     7142618\n",
       "1  0.994778  0.004867  0.000355     7210040\n",
       "2  0.969545  0.029317  0.001137     7174566\n",
       "3  0.113387  0.501407  0.385206     7191391\n",
       "4  0.733149  0.257376  0.009475     7171695"
      ]
     },
     "execution_count": 110,
     "metadata": {},
     "output_type": "execute_result"
    }
   ],
   "source": [
    "sub.head()"
   ]
  },
  {
   "cell_type": "code",
   "execution_count": 111,
   "metadata": {
    "collapsed": true
   },
   "outputs": [],
   "source": [
    "sub_name = '../output/sub_3rd_blend_func6.csv'\n",
    "\n",
    "sub.to_csv(sub_name, index=False)"
   ]
  },
  {
   "cell_type": "code",
   "execution_count": 112,
   "metadata": {
    "collapsed": true
   },
   "outputs": [],
   "source": [
    "interest_levels = ['low', 'medium', 'high']\n",
    "\n",
    "tau = {\n",
    "    'low': 0.69195995, \n",
    "    'medium': 0.23108864,\n",
    "    'high': 0.07695141, \n",
    "}\n",
    "\n",
    "def correct(df):\n",
    "    y = df[interest_levels].mean()\n",
    "    a = [tau[k] / y[k]  for k in interest_levels]\n",
    "    print a\n",
    "\n",
    "    def f(p):\n",
    "        for k in range(len(interest_levels)):\n",
    "            p[k] *= a[k]\n",
    "        return p / p.sum()\n",
    "\n",
    "    df_correct = df.copy()\n",
    "    df_correct[interest_levels] = df_correct[interest_levels].apply(f, axis=1)\n",
    "\n",
    "    y = df_correct[interest_levels].mean()\n",
    "    a = [tau[k] / y[k]  for k in interest_levels]\n",
    "    print a\n",
    "\n",
    "    return df_correct"
   ]
  },
  {
   "cell_type": "code",
   "execution_count": 113,
   "metadata": {
    "collapsed": false
   },
   "outputs": [
    {
     "name": "stdout",
     "output_type": "stream",
     "text": [
      "[0.99540589891049946, 1.0172296557028699, 0.99072338462015941]\n",
      "[0.99839564959735561, 1.0038829455621858, 1.0028422628781848]\n"
     ]
    }
   ],
   "source": [
    "tmp = correct(sub)"
   ]
  },
  {
   "cell_type": "code",
   "execution_count": 115,
   "metadata": {
    "collapsed": false
   },
   "outputs": [],
   "source": [
    "tmp.to_csv(sub_name, index=False)"
   ]
  },
  {
   "cell_type": "code",
   "execution_count": null,
   "metadata": {
    "collapsed": true
   },
   "outputs": [],
   "source": []
  }
 ],
 "metadata": {
  "anaconda-cloud": {},
  "kernelspec": {
   "display_name": "Python [conda root]",
   "language": "python",
   "name": "conda-root-py"
  },
  "language_info": {
   "codemirror_mode": {
    "name": "ipython",
    "version": 2
   },
   "file_extension": ".py",
   "mimetype": "text/x-python",
   "name": "python",
   "nbconvert_exporter": "python",
   "pygments_lexer": "ipython2",
   "version": "2.7.12"
  }
 },
 "nbformat": 4,
 "nbformat_minor": 1
}
