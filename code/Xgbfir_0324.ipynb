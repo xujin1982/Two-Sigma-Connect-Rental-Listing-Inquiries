{
 "cells": [
  {
   "cell_type": "code",
   "execution_count": 1,
   "metadata": {
    "collapsed": false
   },
   "outputs": [],
   "source": [
    "import time\n",
    "import numpy as np\n",
    "import pandas as pd\n",
    "\n",
    "from scipy import sparse\n",
    "from scipy.stats import skew, boxcox\n",
    "from datetime import datetime\n",
    "from sklearn import preprocessing\n",
    "# from scipy.stats import skew, boxcox,boxcox_normmax\n",
    "from sklearn.model_selection import train_test_split, StratifiedKFold, KFold\n",
    "# from sklearn.feature_extraction.text import TfidfVectorizer, CountVectorizer\n",
    "# from bayes_opt import BayesianOptimization\n",
    "from sklearn.metrics import log_loss\n",
    "import xgbfir\n",
    "from gplearn.genetic import SymbolicTransformer\n",
    "from gplearn.functions import make_function\n",
    "from sklearn.decomposition import PCA\n",
    "import itertools\n",
    "import matplotlib.pyplot as plt\n",
    "import seaborn as sns\n",
    "%matplotlib inline\n",
    "\n",
    "import xgboost as xgb\n",
    "\n",
    "seed = 1234"
   ]
  },
  {
   "cell_type": "code",
   "execution_count": 2,
   "metadata": {
    "collapsed": false
   },
   "outputs": [],
   "source": [
    "def cv_train(train,y):\n",
    "    xgtrain = xgb.DMatrix(train, label=y)\n",
    "    params = dict()\n",
    "    params['objective']='multi:softprob'\n",
    "    params['eval_metric']='mlogloss',\n",
    "    params['num_class']=3\n",
    "    params['silent']=0\n",
    "    params['eta'] = 0.3\n",
    "    params['verbose_eval'] = False\n",
    "    params['max_depth'] = 10\n",
    "\n",
    "\n",
    "    cv_result = xgb.cv(\n",
    "        params, xgtrain, \n",
    "        num_boost_round=10000, nfold=4,\n",
    "        metrics = 'mlogloss',\n",
    "        seed=seed,callbacks=[xgb.callback.early_stop(50)]\n",
    "    )\n",
    "\n",
    "    return cv_result['test-mlogloss-mean'].values[-1]\n",
    "\n",
    "\n",
    "def FI(train,y,FIname = '../FE/FI.xlsx'):\n",
    "    X_train, X_val, y_train, y_val = train_test_split(train, y, train_size=.75, random_state=1234)\n",
    "#     print X_train.shape\n",
    "#     print X_val.shape\n",
    "\n",
    "    rgr = xgb.XGBClassifier(\n",
    "            objective='multi:softprob',\n",
    "            seed = seed, # use a fixed seed during tuning so we can reproduce the results\n",
    "            learning_rate = 0.3,\n",
    "            n_estimators = 100000,\n",
    "            max_depth= 10,\n",
    "            nthread = -1,\n",
    "            silent = False\n",
    "        )\n",
    "    rgr.fit(\n",
    "        X_train,y_train,\n",
    "        eval_set=[(X_val,y_val)],\n",
    "        eval_metric='mlogloss',\n",
    "        early_stopping_rounds=50,\n",
    "        verbose=False\n",
    "    )\n",
    "    \n",
    "    xgbfir.saveXgbFI(rgr, feature_names=X_train.columns, OutputXlsxFile = FIname)\n",
    "\n",
    "    return rgr.best_score"
   ]
  },
  {
   "cell_type": "markdown",
   "metadata": {},
   "source": [
    "# Load Data"
   ]
  },
  {
   "cell_type": "code",
   "execution_count": 3,
   "metadata": {
    "collapsed": false
   },
   "outputs": [
    {
     "name": "stdout",
     "output_type": "stream",
     "text": [
      "(49352, 322) (74659, 322) (49352L,)\n"
     ]
    }
   ],
   "source": [
    "data_path = \"../input/\"\n",
    "train_X = pd.read_csv(data_path + 'train_BM_MB_add03052240.csv')\n",
    "test_X = pd.read_csv(data_path + 'test_BM_MB_add03052240.csv')\n",
    "train_y = np.ravel(pd.read_csv(data_path + 'labels_BrandenMurray.csv'))\n",
    "sub_id = test_X.listing_id.astype('int32').values\n",
    "# all_features = features_to_use + desc_sparse_cols + feat_sparse_cols\n",
    "print train_X.shape, test_X.shape, train_y.shape"
   ]
  },
  {
   "cell_type": "code",
   "execution_count": 4,
   "metadata": {
    "collapsed": true
   },
   "outputs": [],
   "source": [
    "f = [x for x in train_X.columns.values if 'feature_' not in x]\n",
    "# f.append('feature_upper_perc')"
   ]
  },
  {
   "cell_type": "code",
   "execution_count": 5,
   "metadata": {
    "collapsed": false
   },
   "outputs": [
    {
     "name": "stdout",
     "output_type": "stream",
     "text": [
      "(49352, 60) (74659, 60) (124011, 60)\n"
     ]
    }
   ],
   "source": [
    "train_X = train_X[f]\n",
    "test_X = test_X[f]\n",
    "full_data = pd.concat([train_X,test_X],ignore_index=True)\n",
    "print train_X.shape, test_X.shape, full_data.shape"
   ]
  },
  {
   "cell_type": "code",
   "execution_count": 6,
   "metadata": {
    "collapsed": false
   },
   "outputs": [
    {
     "name": "stdout",
     "output_type": "stream",
     "text": [
      "Multiple eval metrics have been passed: 'test-mlogloss' will be used for early stopping.\n",
      "\n",
      "Will train until test-mlogloss hasn't improved in 50 rounds.\n",
      "Stopping. Best iteration:\n",
      "[24]\ttrain-mlogloss:0.273417+0.00274805\ttest-mlogloss:0.562661+0.00684593\n",
      "\n",
      "0.5626605\n"
     ]
    }
   ],
   "source": [
    "print cv_train(train_X,train_y)"
   ]
  },
  {
   "cell_type": "code",
   "execution_count": 7,
   "metadata": {
    "collapsed": false
   },
   "outputs": [
    {
     "name": "stdout",
     "output_type": "stream",
     "text": [
      "0.563232\n"
     ]
    }
   ],
   "source": [
    "print FI(train_X,train_y,FIname = '../FE/FI.xlsx')"
   ]
  },
  {
   "cell_type": "code",
   "execution_count": 8,
   "metadata": {
    "collapsed": false
   },
   "outputs": [],
   "source": [
    "\n",
    "def Feature_2_interction(f1,f2):\n",
    "    pca = PCA(n_components=1)\n",
    "    pca.fit(full_data[[f1,f2]])\n",
    "    train_X[f1+'+'+f2] = pca.transform(train_X[[f1,f2]])\n",
    "    test_X[f1+'+'+f2] = pca.transform(test_X[[f1,f2]])\n",
    "#     return \n",
    "# full_data.shape\n",
    "\n",
    "def Feature_3_interction(f1,f2,f3):\n",
    "    pca = PCA(n_components=2)\n",
    "    pca.fit(full_data[[f1,f2,f3]])\n",
    "    tmp = pca.transform(train_X[[f1,f2,f3]])\n",
    "    train_X[f1+'+'+f2 +'+'+f3+'0'] = tmp[:,0]\n",
    "    train_X[f1+'+'+f2 +'+'+f3+'1'] = tmp[:,1]\n",
    "    tmp = pca.transform(test_X[[f1,f2,f3]])\n",
    "    test_X[f1+'+'+f2+'+'+f3+'0'] = tmp[:,0]\n",
    "    test_X[f1+'+'+f2+'+'+f3+'1'] = tmp[:,1]\n",
    "#     return tmp"
   ]
  },
  {
   "cell_type": "code",
   "execution_count": 9,
   "metadata": {
    "collapsed": false,
    "scrolled": true
   },
   "outputs": [],
   "source": [
    "top_2_features = ['manager_id_mean_med','ratio_bed','manager_id_mean_high','building_id_mean_med','building_id_mean_high',\n",
    "                'price','longitude','listing_id','latitude'\n",
    "                ,'desc_wordcount','display_address','street_address','num_features','pricePerRoom'\n",
    "               ]\n",
    "for x,y in itertools.combinations(top_2_features,2):\n",
    "#     print x,y\n",
    "    Feature_2_interction(x,y)\n",
    "\n",
    "\n",
    "# top_3_features = ['manager_id_mean_med','ratio_bed','manager_id_mean_high','building_id_mean_med','building_id_mean_high',\n",
    "#                 'price'\n",
    "# #                 ,'desc_wordcount','display_address','street_address','num_features','pricePerRoom'\n",
    "#                ]\n",
    "# for x,y,z in itertools.combinations(top_3_features,3):\n",
    "#     Feature_3_interction(x,y,z)"
   ]
  },
  {
   "cell_type": "code",
   "execution_count": 11,
   "metadata": {
    "collapsed": false
   },
   "outputs": [
    {
     "data": {
      "text/html": [
       "<div>\n",
       "<table border=\"1\" class=\"dataframe\">\n",
       "  <thead>\n",
       "    <tr style=\"text-align: right;\">\n",
       "      <th></th>\n",
       "      <th>listing_id</th>\n",
       "      <th>bathrooms</th>\n",
       "      <th>bedrooms</th>\n",
       "      <th>building_id</th>\n",
       "      <th>display_address</th>\n",
       "      <th>latitude</th>\n",
       "      <th>longitude</th>\n",
       "      <th>manager_id</th>\n",
       "      <th>price</th>\n",
       "      <th>street_address</th>\n",
       "      <th>...</th>\n",
       "      <th>desc_wordcount+display_address</th>\n",
       "      <th>desc_wordcount+street_address</th>\n",
       "      <th>desc_wordcount+num_features</th>\n",
       "      <th>desc_wordcount+pricePerRoom</th>\n",
       "      <th>display_address+street_address</th>\n",
       "      <th>display_address+num_features</th>\n",
       "      <th>display_address+pricePerRoom</th>\n",
       "      <th>street_address+num_features</th>\n",
       "      <th>street_address+pricePerRoom</th>\n",
       "      <th>num_features+pricePerRoom</th>\n",
       "    </tr>\n",
       "  </thead>\n",
       "  <tbody>\n",
       "    <tr>\n",
       "      <th>0</th>\n",
       "      <td>7170325</td>\n",
       "      <td>1.0</td>\n",
       "      <td>1</td>\n",
       "      <td>3387</td>\n",
       "      <td>281</td>\n",
       "      <td>40.7108</td>\n",
       "      <td>-73.9539</td>\n",
       "      <td>2104</td>\n",
       "      <td>2400.0</td>\n",
       "      <td>2947</td>\n",
       "      <td>...</td>\n",
       "      <td>3164.879753</td>\n",
       "      <td>-8634.524260</td>\n",
       "      <td>-48.835386</td>\n",
       "      <td>-350.062888</td>\n",
       "      <td>-8649.032626</td>\n",
       "      <td>3164.701301</td>\n",
       "      <td>-367.947029</td>\n",
       "      <td>-8634.476915</td>\n",
       "      <td>8626.706053</td>\n",
       "      <td>-350.080746</td>\n",
       "    </tr>\n",
       "    <tr>\n",
       "      <th>1</th>\n",
       "      <td>7092344</td>\n",
       "      <td>1.0</td>\n",
       "      <td>2</td>\n",
       "      <td>4758</td>\n",
       "      <td>3434</td>\n",
       "      <td>40.7513</td>\n",
       "      <td>-73.9722</td>\n",
       "      <td>1964</td>\n",
       "      <td>3800.0</td>\n",
       "      <td>8215</td>\n",
       "      <td>...</td>\n",
       "      <td>10.748026</td>\n",
       "      <td>-3366.233889</td>\n",
       "      <td>225.164206</td>\n",
       "      <td>-283.496297</td>\n",
       "      <td>-3366.495016</td>\n",
       "      <td>11.701334</td>\n",
       "      <td>-283.475642</td>\n",
       "      <td>-3366.476916</td>\n",
       "      <td>3360.782090</td>\n",
       "      <td>-283.414080</td>\n",
       "    </tr>\n",
       "    <tr>\n",
       "      <th>2</th>\n",
       "      <td>7158677</td>\n",
       "      <td>1.0</td>\n",
       "      <td>2</td>\n",
       "      <td>5289</td>\n",
       "      <td>3457</td>\n",
       "      <td>40.7575</td>\n",
       "      <td>-73.9625</td>\n",
       "      <td>2627</td>\n",
       "      <td>3495.0</td>\n",
       "      <td>15314</td>\n",
       "      <td>...</td>\n",
       "      <td>-12.133230</td>\n",
       "      <td>3732.732060</td>\n",
       "      <td>197.164223</td>\n",
       "      <td>-385.152731</td>\n",
       "      <td>3732.535396</td>\n",
       "      <td>-11.298666</td>\n",
       "      <td>-385.010801</td>\n",
       "      <td>3732.523084</td>\n",
       "      <td>-3738.894069</td>\n",
       "      <td>-385.080747</td>\n",
       "    </tr>\n",
       "    <tr>\n",
       "      <th>3</th>\n",
       "      <td>7211212</td>\n",
       "      <td>1.5</td>\n",
       "      <td>3</td>\n",
       "      <td>2104</td>\n",
       "      <td>4018</td>\n",
       "      <td>40.7145</td>\n",
       "      <td>-73.9425</td>\n",
       "      <td>1204</td>\n",
       "      <td>3000.0</td>\n",
       "      <td>21701</td>\n",
       "      <td>...</td>\n",
       "      <td>-572.234931</td>\n",
       "      <td>10119.502466</td>\n",
       "      <td>-13.838151</td>\n",
       "      <td>-883.408969</td>\n",
       "      <td>10122.063634</td>\n",
       "      <td>-572.298455</td>\n",
       "      <td>-880.168080</td>\n",
       "      <td>10119.523076</td>\n",
       "      <td>-10133.882636</td>\n",
       "      <td>-883.414086</td>\n",
       "    </tr>\n",
       "    <tr>\n",
       "      <th>4</th>\n",
       "      <td>7225292</td>\n",
       "      <td>1.0</td>\n",
       "      <td>0</td>\n",
       "      <td>4930</td>\n",
       "      <td>3411</td>\n",
       "      <td>40.7439</td>\n",
       "      <td>-73.9743</td>\n",
       "      <td>610</td>\n",
       "      <td>2795.0</td>\n",
       "      <td>13511</td>\n",
       "      <td>...</td>\n",
       "      <td>35.792607</td>\n",
       "      <td>1929.245893</td>\n",
       "      <td>-257.836072</td>\n",
       "      <td>1245.013337</td>\n",
       "      <td>1929.341794</td>\n",
       "      <td>34.701381</td>\n",
       "      <td>1244.703434</td>\n",
       "      <td>1929.523082</td>\n",
       "      <td>-1906.623632</td>\n",
       "      <td>1244.919252</td>\n",
       "    </tr>\n",
       "  </tbody>\n",
       "</table>\n",
       "<p>5 rows × 151 columns</p>\n",
       "</div>"
      ],
      "text/plain": [
       "   listing_id  bathrooms  bedrooms  building_id  display_address  latitude  \\\n",
       "0     7170325        1.0         1         3387              281   40.7108   \n",
       "1     7092344        1.0         2         4758             3434   40.7513   \n",
       "2     7158677        1.0         2         5289             3457   40.7575   \n",
       "3     7211212        1.5         3         2104             4018   40.7145   \n",
       "4     7225292        1.0         0         4930             3411   40.7439   \n",
       "\n",
       "   longitude  manager_id   price  street_address            ...              \\\n",
       "0   -73.9539        2104  2400.0            2947            ...               \n",
       "1   -73.9722        1964  3800.0            8215            ...               \n",
       "2   -73.9625        2627  3495.0           15314            ...               \n",
       "3   -73.9425        1204  3000.0           21701            ...               \n",
       "4   -73.9743         610  2795.0           13511            ...               \n",
       "\n",
       "   desc_wordcount+display_address  desc_wordcount+street_address  \\\n",
       "0                     3164.879753                   -8634.524260   \n",
       "1                       10.748026                   -3366.233889   \n",
       "2                      -12.133230                    3732.732060   \n",
       "3                     -572.234931                   10119.502466   \n",
       "4                       35.792607                    1929.245893   \n",
       "\n",
       "   desc_wordcount+num_features  desc_wordcount+pricePerRoom  \\\n",
       "0                   -48.835386                  -350.062888   \n",
       "1                   225.164206                  -283.496297   \n",
       "2                   197.164223                  -385.152731   \n",
       "3                   -13.838151                  -883.408969   \n",
       "4                  -257.836072                  1245.013337   \n",
       "\n",
       "   display_address+street_address  display_address+num_features  \\\n",
       "0                    -8649.032626                   3164.701301   \n",
       "1                    -3366.495016                     11.701334   \n",
       "2                     3732.535396                    -11.298666   \n",
       "3                    10122.063634                   -572.298455   \n",
       "4                     1929.341794                     34.701381   \n",
       "\n",
       "   display_address+pricePerRoom  street_address+num_features  \\\n",
       "0                   -367.947029                 -8634.476915   \n",
       "1                   -283.475642                 -3366.476916   \n",
       "2                   -385.010801                  3732.523084   \n",
       "3                   -880.168080                 10119.523076   \n",
       "4                   1244.703434                  1929.523082   \n",
       "\n",
       "   street_address+pricePerRoom  num_features+pricePerRoom  \n",
       "0                  8626.706053                -350.080746  \n",
       "1                  3360.782090                -283.414080  \n",
       "2                 -3738.894069                -385.080747  \n",
       "3                -10133.882636                -883.414086  \n",
       "4                 -1906.623632                1244.919252  \n",
       "\n",
       "[5 rows x 151 columns]"
      ]
     },
     "execution_count": 11,
     "metadata": {},
     "output_type": "execute_result"
    }
   ],
   "source": [
    "# pca = PCA(n_components=1)\n",
    "# train_X['manager_id_mean_med|ratio_bed'] = \n",
    "train_X.head()"
   ]
  },
  {
   "cell_type": "code",
   "execution_count": 12,
   "metadata": {
    "collapsed": false
   },
   "outputs": [
    {
     "name": "stdout",
     "output_type": "stream",
     "text": [
      "Multiple eval metrics have been passed: 'test-mlogloss' will be used for early stopping.\n",
      "\n",
      "Will train until test-mlogloss hasn't improved in 50 rounds.\n",
      "Stopping. Best iteration:\n",
      "[24]\ttrain-mlogloss:0.266803+0.00361119\ttest-mlogloss:0.562586+0.00846737\n",
      "\n",
      "0.562586\n"
     ]
    }
   ],
   "source": [
    "print cv_train(train_X,train_y)"
   ]
  },
  {
   "cell_type": "code",
   "execution_count": 13,
   "metadata": {
    "collapsed": false
   },
   "outputs": [
    {
     "name": "stdout",
     "output_type": "stream",
     "text": [
      "0.563578\n"
     ]
    }
   ],
   "source": [
    "print FI(train_X,train_y,FIname = '../FE/FI1.xlsx')"
   ]
  },
  {
   "cell_type": "code",
   "execution_count": null,
   "metadata": {
    "collapsed": true
   },
   "outputs": [],
   "source": []
  },
  {
   "cell_type": "code",
   "execution_count": null,
   "metadata": {
    "collapsed": true
   },
   "outputs": [],
   "source": []
  }
 ],
 "metadata": {
  "anaconda-cloud": {},
  "kernelspec": {
   "display_name": "Python [conda root]",
   "language": "python",
   "name": "conda-root-py"
  },
  "language_info": {
   "codemirror_mode": {
    "name": "ipython",
    "version": 2
   },
   "file_extension": ".py",
   "mimetype": "text/x-python",
   "name": "python",
   "nbconvert_exporter": "python",
   "pygments_lexer": "ipython2",
   "version": "2.7.12"
  }
 },
 "nbformat": 4,
 "nbformat_minor": 1
}
