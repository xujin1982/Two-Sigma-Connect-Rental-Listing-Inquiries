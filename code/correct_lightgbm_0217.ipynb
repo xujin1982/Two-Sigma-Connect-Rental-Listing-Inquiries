{
 "cells": [
  {
   "cell_type": "code",
   "execution_count": 2,
   "metadata": {
    "collapsed": false
   },
   "outputs": [
    {
     "name": "stderr",
     "output_type": "stream",
     "text": [
      "D:\\python\\Anaconda2\\lib\\site-packages\\sklearn\\cross_validation.py:44: DeprecationWarning: This module was deprecated in version 0.18 in favor of the model_selection module into which all the refactored classes and functions are moved. Also note that the interface of the new CV iterators are different from that of this module. This module will be removed in 0.20.\n",
      "  \"This module will be removed in 0.20.\", DeprecationWarning)\n"
     ]
    }
   ],
   "source": [
    "import pandas as pd\n",
    "import time\n",
    "import numpy as np\n",
    "from sklearn.model_selection import train_test_split\n",
    "from sklearn.cross_validation import StratifiedKFold, KFold\n",
    "from sklearn.metrics import mean_absolute_error\n",
    "from sklearn import preprocessing\n",
    "import lightgbm as lgb\n",
    "import gc\n",
    "from scipy.stats import skew, boxcox\n",
    "from bayes_opt import BayesianOptimization\n",
    "from scipy import sparse\n",
    "from sklearn.metrics import log_loss\n",
    "from datetime import datetime\n",
    "%matplotlib inline"
   ]
  },
  {
   "cell_type": "code",
   "execution_count": 5,
   "metadata": {
    "collapsed": false
   },
   "outputs": [],
   "source": [
    "temp = pd.read_csv('../output/test_blend_LightGBM_2017-02-17-11-55.csv',header = None)"
   ]
  },
  {
   "cell_type": "code",
   "execution_count": 9,
   "metadata": {
    "collapsed": true
   },
   "outputs": [],
   "source": [
    "now = datetime.now()\n",
    "df = pd.read_json(open(\"../input/test.json\", \"r\"))\n",
    "labels2idx ={'high': 0, 'low': 2, 'medium': 1}\n",
    "sub_name = 'sub_LightGBM_2017-02-17-12-05_2.csv'\n",
    "\n",
    "sub = pd.DataFrame()\n",
    "sub[\"listing_id\"] = df[\"listing_id\"]\n",
    "\n",
    "y_test = np.zeros((df.shape[0], 3))\n",
    "\n",
    "for N in range(3):\n",
    "    y_test[:,N] = pd.DataFrame(temp).iloc[:,[x for x in range(temp.shape[1]) if x%3 == N]].mean(axis=1)\n",
    "    \n",
    "for label in [\"high\", \"medium\", \"low\"]:\n",
    "    sub[label] = y_test[:, labels2idx[label]]\n",
    "sub.to_csv(sub_name, index=False)"
   ]
  },
  {
   "cell_type": "code",
   "execution_count": 8,
   "metadata": {
    "collapsed": false
   },
   "outputs": [
    {
     "name": "stdout",
     "output_type": "stream",
     "text": [
      "../output/sub_LightGBM_2017-02-18-20-11.csv\n"
     ]
    }
   ],
   "source": [
    "print sub_name"
   ]
  },
  {
   "cell_type": "code",
   "execution_count": 10,
   "metadata": {
    "collapsed": false
   },
   "outputs": [
    {
     "data": {
      "text/html": [
       "<div>\n",
       "<table border=\"1\" class=\"dataframe\">\n",
       "  <thead>\n",
       "    <tr style=\"text-align: right;\">\n",
       "      <th></th>\n",
       "      <th>0</th>\n",
       "      <th>1</th>\n",
       "      <th>2</th>\n",
       "      <th>3</th>\n",
       "      <th>4</th>\n",
       "      <th>5</th>\n",
       "      <th>6</th>\n",
       "      <th>7</th>\n",
       "      <th>8</th>\n",
       "      <th>9</th>\n",
       "      <th>10</th>\n",
       "      <th>11</th>\n",
       "      <th>12</th>\n",
       "      <th>13</th>\n",
       "      <th>14</th>\n",
       "    </tr>\n",
       "  </thead>\n",
       "  <tbody>\n",
       "    <tr>\n",
       "      <th>0</th>\n",
       "      <td>0.142233</td>\n",
       "      <td>0.472843</td>\n",
       "      <td>0.384924</td>\n",
       "      <td>0.146423</td>\n",
       "      <td>0.460336</td>\n",
       "      <td>0.393241</td>\n",
       "      <td>0.144076</td>\n",
       "      <td>0.457758</td>\n",
       "      <td>0.398165</td>\n",
       "      <td>0.140108</td>\n",
       "      <td>0.458645</td>\n",
       "      <td>0.401246</td>\n",
       "      <td>0.147229</td>\n",
       "      <td>0.454248</td>\n",
       "      <td>0.398524</td>\n",
       "    </tr>\n",
       "    <tr>\n",
       "      <th>1</th>\n",
       "      <td>0.083002</td>\n",
       "      <td>0.084609</td>\n",
       "      <td>0.832389</td>\n",
       "      <td>0.075585</td>\n",
       "      <td>0.087898</td>\n",
       "      <td>0.836518</td>\n",
       "      <td>0.079085</td>\n",
       "      <td>0.088762</td>\n",
       "      <td>0.832154</td>\n",
       "      <td>0.071214</td>\n",
       "      <td>0.080446</td>\n",
       "      <td>0.848341</td>\n",
       "      <td>0.074564</td>\n",
       "      <td>0.079131</td>\n",
       "      <td>0.846305</td>\n",
       "    </tr>\n",
       "    <tr>\n",
       "      <th>2</th>\n",
       "      <td>0.026843</td>\n",
       "      <td>0.252304</td>\n",
       "      <td>0.720853</td>\n",
       "      <td>0.023016</td>\n",
       "      <td>0.246377</td>\n",
       "      <td>0.730607</td>\n",
       "      <td>0.022354</td>\n",
       "      <td>0.247889</td>\n",
       "      <td>0.729756</td>\n",
       "      <td>0.020368</td>\n",
       "      <td>0.211107</td>\n",
       "      <td>0.768525</td>\n",
       "      <td>0.023151</td>\n",
       "      <td>0.225489</td>\n",
       "      <td>0.751359</td>\n",
       "    </tr>\n",
       "    <tr>\n",
       "      <th>3</th>\n",
       "      <td>0.113175</td>\n",
       "      <td>0.394410</td>\n",
       "      <td>0.492415</td>\n",
       "      <td>0.111054</td>\n",
       "      <td>0.375367</td>\n",
       "      <td>0.513579</td>\n",
       "      <td>0.121882</td>\n",
       "      <td>0.373102</td>\n",
       "      <td>0.505017</td>\n",
       "      <td>0.127177</td>\n",
       "      <td>0.400091</td>\n",
       "      <td>0.472731</td>\n",
       "      <td>0.120944</td>\n",
       "      <td>0.387231</td>\n",
       "      <td>0.491825</td>\n",
       "    </tr>\n",
       "    <tr>\n",
       "      <th>4</th>\n",
       "      <td>0.036062</td>\n",
       "      <td>0.234515</td>\n",
       "      <td>0.729423</td>\n",
       "      <td>0.035782</td>\n",
       "      <td>0.229166</td>\n",
       "      <td>0.735052</td>\n",
       "      <td>0.030174</td>\n",
       "      <td>0.227324</td>\n",
       "      <td>0.742502</td>\n",
       "      <td>0.034584</td>\n",
       "      <td>0.231442</td>\n",
       "      <td>0.733974</td>\n",
       "      <td>0.034967</td>\n",
       "      <td>0.238879</td>\n",
       "      <td>0.726154</td>\n",
       "    </tr>\n",
       "  </tbody>\n",
       "</table>\n",
       "</div>"
      ],
      "text/plain": [
       "         0         1         2         3         4         5         6   \\\n",
       "0  0.142233  0.472843  0.384924  0.146423  0.460336  0.393241  0.144076   \n",
       "1  0.083002  0.084609  0.832389  0.075585  0.087898  0.836518  0.079085   \n",
       "2  0.026843  0.252304  0.720853  0.023016  0.246377  0.730607  0.022354   \n",
       "3  0.113175  0.394410  0.492415  0.111054  0.375367  0.513579  0.121882   \n",
       "4  0.036062  0.234515  0.729423  0.035782  0.229166  0.735052  0.030174   \n",
       "\n",
       "         7         8         9         10        11        12        13  \\\n",
       "0  0.457758  0.398165  0.140108  0.458645  0.401246  0.147229  0.454248   \n",
       "1  0.088762  0.832154  0.071214  0.080446  0.848341  0.074564  0.079131   \n",
       "2  0.247889  0.729756  0.020368  0.211107  0.768525  0.023151  0.225489   \n",
       "3  0.373102  0.505017  0.127177  0.400091  0.472731  0.120944  0.387231   \n",
       "4  0.227324  0.742502  0.034584  0.231442  0.733974  0.034967  0.238879   \n",
       "\n",
       "         14  \n",
       "0  0.398524  \n",
       "1  0.846305  \n",
       "2  0.751359  \n",
       "3  0.491825  \n",
       "4  0.726154  "
      ]
     },
     "execution_count": 10,
     "metadata": {},
     "output_type": "execute_result"
    }
   ],
   "source": [
    "temp.head()"
   ]
  },
  {
   "cell_type": "code",
   "execution_count": 28,
   "metadata": {
    "collapsed": false
   },
   "outputs": [
    {
     "data": {
      "text/html": [
       "<div>\n",
       "<table border=\"1\" class=\"dataframe\">\n",
       "  <thead>\n",
       "    <tr style=\"text-align: right;\">\n",
       "      <th></th>\n",
       "      <th>6</th>\n",
       "      <th>7</th>\n",
       "      <th>8</th>\n",
       "    </tr>\n",
       "  </thead>\n",
       "  <tbody>\n",
       "    <tr>\n",
       "      <th>0</th>\n",
       "      <td>0.144076</td>\n",
       "      <td>0.457758</td>\n",
       "      <td>0.398165</td>\n",
       "    </tr>\n",
       "    <tr>\n",
       "      <th>1</th>\n",
       "      <td>0.079085</td>\n",
       "      <td>0.088762</td>\n",
       "      <td>0.832154</td>\n",
       "    </tr>\n",
       "    <tr>\n",
       "      <th>2</th>\n",
       "      <td>0.022354</td>\n",
       "      <td>0.247889</td>\n",
       "      <td>0.729756</td>\n",
       "    </tr>\n",
       "    <tr>\n",
       "      <th>3</th>\n",
       "      <td>0.121882</td>\n",
       "      <td>0.373102</td>\n",
       "      <td>0.505017</td>\n",
       "    </tr>\n",
       "    <tr>\n",
       "      <th>4</th>\n",
       "      <td>0.030174</td>\n",
       "      <td>0.227324</td>\n",
       "      <td>0.742502</td>\n",
       "    </tr>\n",
       "  </tbody>\n",
       "</table>\n",
       "</div>"
      ],
      "text/plain": [
       "          6         7         8\n",
       "0  0.144076  0.457758  0.398165\n",
       "1  0.079085  0.088762  0.832154\n",
       "2  0.022354  0.247889  0.729756\n",
       "3  0.121882  0.373102  0.505017\n",
       "4  0.030174  0.227324  0.742502"
      ]
     },
     "execution_count": 28,
     "metadata": {},
     "output_type": "execute_result"
    }
   ],
   "source": [
    "part3 = temp.loc[:,[6,7,8]]\n",
    "sub = pd.DataFrame()\n",
    "sub[\"listing_id\"] = df[\"listing_id\"].values\n",
    "part3.head()"
   ]
  },
  {
   "cell_type": "code",
   "execution_count": 29,
   "metadata": {
    "collapsed": false
   },
   "outputs": [
    {
     "data": {
      "text/html": [
       "<div>\n",
       "<table border=\"1\" class=\"dataframe\">\n",
       "  <thead>\n",
       "    <tr style=\"text-align: right;\">\n",
       "      <th></th>\n",
       "      <th>listing_id</th>\n",
       "      <th>high</th>\n",
       "      <th>medium</th>\n",
       "      <th>low</th>\n",
       "    </tr>\n",
       "  </thead>\n",
       "  <tbody>\n",
       "    <tr>\n",
       "      <th>0</th>\n",
       "      <td>7142618</td>\n",
       "      <td>0.144076</td>\n",
       "      <td>0.457758</td>\n",
       "      <td>0.398165</td>\n",
       "    </tr>\n",
       "    <tr>\n",
       "      <th>1</th>\n",
       "      <td>7210040</td>\n",
       "      <td>0.079085</td>\n",
       "      <td>0.088762</td>\n",
       "      <td>0.832154</td>\n",
       "    </tr>\n",
       "    <tr>\n",
       "      <th>2</th>\n",
       "      <td>7103890</td>\n",
       "      <td>0.022354</td>\n",
       "      <td>0.247889</td>\n",
       "      <td>0.729756</td>\n",
       "    </tr>\n",
       "    <tr>\n",
       "      <th>3</th>\n",
       "      <td>7143442</td>\n",
       "      <td>0.121882</td>\n",
       "      <td>0.373102</td>\n",
       "      <td>0.505017</td>\n",
       "    </tr>\n",
       "    <tr>\n",
       "      <th>4</th>\n",
       "      <td>6860601</td>\n",
       "      <td>0.030174</td>\n",
       "      <td>0.227324</td>\n",
       "      <td>0.742502</td>\n",
       "    </tr>\n",
       "  </tbody>\n",
       "</table>\n",
       "</div>"
      ],
      "text/plain": [
       "   listing_id      high    medium       low\n",
       "0     7142618  0.144076  0.457758  0.398165\n",
       "1     7210040  0.079085  0.088762  0.832154\n",
       "2     7103890  0.022354  0.247889  0.729756\n",
       "3     7143442  0.121882  0.373102  0.505017\n",
       "4     6860601  0.030174  0.227324  0.742502"
      ]
     },
     "execution_count": 29,
     "metadata": {},
     "output_type": "execute_result"
    }
   ],
   "source": [
    "part3.columns = [\"high\", \"medium\", \"low\"]\n",
    "for label in [\"high\", \"medium\", \"low\"]:\n",
    "    sub[label] = part3[label]\n",
    "sub.head()"
   ]
  },
  {
   "cell_type": "code",
   "execution_count": 31,
   "metadata": {
    "collapsed": false
   },
   "outputs": [],
   "source": [
    "sub.to_csv('sub_LightGBM_2017-02-17-12-05_part3.csv', index=False)"
   ]
  }
 ],
 "metadata": {
  "anaconda-cloud": {},
  "kernelspec": {
   "display_name": "Python [conda root]",
   "language": "python",
   "name": "conda-root-py"
  },
  "language_info": {
   "codemirror_mode": {
    "name": "ipython",
    "version": 2
   },
   "file_extension": ".py",
   "mimetype": "text/x-python",
   "name": "python",
   "nbconvert_exporter": "python",
   "pygments_lexer": "ipython2",
   "version": "2.7.12"
  }
 },
 "nbformat": 4,
 "nbformat_minor": 1
}
