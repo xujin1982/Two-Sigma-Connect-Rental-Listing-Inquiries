{
 "cells": [
  {
   "cell_type": "code",
   "execution_count": 2,
   "metadata": {
    "collapsed": false
   },
   "outputs": [],
   "source": [
    "import time\n",
    "import numpy as np # linear algebra\n",
    "import pandas as pd # data processing, CSV file I/O (e.g. pd.read_csv)\n",
    "from scipy import sparse\n",
    "from datetime import datetime\n",
    "import matplotlib.pyplot as plt\n",
    "import seaborn as sns\n",
    "%matplotlib inline\n",
    "from sklearn_pandas import DataFrameMapper\n",
    "from sklearn.pipeline import make_pipeline\n",
    "from sklearn.preprocessing import StandardScaler, Imputer, LabelBinarizer\n",
    "from sklearn.cluster import KMeans\n",
    "from sklearn.model_selection import train_test_split\n",
    "seed = 1234\n"
   ]
  },
  {
   "cell_type": "markdown",
   "metadata": {},
   "source": [
    "# Load Data"
   ]
  },
  {
   "cell_type": "code",
   "execution_count": 3,
   "metadata": {
    "collapsed": false
   },
   "outputs": [
    {
     "name": "stdout",
     "output_type": "stream",
     "text": [
      "(49352, 322) (74659, 322) (49352L,)\n"
     ]
    }
   ],
   "source": [
    "data_path = \"../input/\"\n",
    "train_X = pd.read_csv(data_path + 'train_BM_MB_add03052240.csv')\n",
    "test_X = pd.read_csv(data_path + 'test_BM_MB_add03052240.csv')\n",
    "train_y = np.ravel(pd.read_csv(data_path + 'labels_BrandenMurray.csv'))\n",
    "sub_id = test_X.listing_id.astype('int32').values\n",
    "# all_features = features_to_use + desc_sparse_cols + feat_sparse_cols\n",
    "print train_X.shape, test_X.shape, train_y.shape"
   ]
  },
  {
   "cell_type": "code",
   "execution_count": 5,
   "metadata": {
    "collapsed": true
   },
   "outputs": [
    {
     "data": {
      "text/plain": [
       "['listing_id',\n",
       " 'building_id',\n",
       " 'display_address',\n",
       " 'manager_id',\n",
       " 'street_address',\n",
       " 'feature_1_month_free',\n",
       " 'feature_24/7_concierge',\n",
       " 'feature_24/7_doorman',\n",
       " 'feature_24/7_doorman_concierge',\n",
       " 'feature_actual_apt._photos',\n",
       " 'feature_air_conditioning',\n",
       " 'feature_all_pets_ok',\n",
       " 'feature_all_utilities_included',\n",
       " 'feature_assigned-parking-space',\n",
       " 'feature_attended_lobby',\n",
       " 'feature_backyard',\n",
       " 'feature_balcony',\n",
       " 'feature_basement_storage',\n",
       " 'feature_basketball_court',\n",
       " 'feature_bike_room',\n",
       " 'feature_bike_storage',\n",
       " 'feature_billiards_room',\n",
       " 'feature_billiards_table_and_wet_bar',\n",
       " 'feature_brand_new',\n",
       " 'feature_breakfast_bar',\n",
       " 'feature_bright',\n",
       " 'feature_brownstone',\n",
       " 'feature_building-common-outdoor-space',\n",
       " 'feature_business_center',\n",
       " 'feature_cable/satellite_tv',\n",
       " 'feature_cable_ready',\n",
       " 'feature_call/text_abraham_caro_@_917-373-0862',\n",
       " 'feature_cats_allowed',\n",
       " 'feature_central_a/c',\n",
       " 'feature_central_ac',\n",
       " 'feature_central_air',\n",
       " 'feature_chefs_kitchen',\n",
       " \"feature_children's_playroom\",\n",
       " 'feature_childrens_playroom',\n",
       " 'feature_cinema_room',\n",
       " 'feature_city_view',\n",
       " 'feature_close_to_subway',\n",
       " 'feature_closets_galore!',\n",
       " 'feature_club_sun_deck_has_spectacular_city_and_river_views',\n",
       " 'feature_cold_storage',\n",
       " 'feature_common_backyard',\n",
       " 'feature_common_garden',\n",
       " 'feature_common_outdoor_space',\n",
       " 'feature_common_parking/garage',\n",
       " 'feature_common_roof_deck',\n",
       " 'feature_common_storage',\n",
       " 'feature_common_terrace',\n",
       " 'feature_community_recreation_facilities',\n",
       " 'feature_complimentary_sunday_brunch',\n",
       " 'feature_concierge',\n",
       " 'feature_concierge_service',\n",
       " 'feature_condo_finishes',\n",
       " 'feature_courtyard',\n",
       " 'feature_crown_moldings',\n",
       " 'feature_deck',\n",
       " 'feature_deco_brick_wall',\n",
       " 'feature_decorative_fireplace',\n",
       " 'feature_dining_room',\n",
       " 'feature_dishwasher',\n",
       " 'feature_dogs_allowed',\n",
       " 'feature_doorman',\n",
       " 'feature_dry_cleaning_service',\n",
       " 'feature_dryer_in_unit',\n",
       " 'feature_duplex',\n",
       " 'feature_duplex_lounge',\n",
       " 'feature_eat-in_kitchen',\n",
       " 'feature_eat_in_kitchen',\n",
       " 'feature_elegant_glass-enclosed_private_lounge_with_magnificent_river_views',\n",
       " 'feature_elevator',\n",
       " 'feature_exclusive',\n",
       " 'feature_exercise/yoga_studio',\n",
       " 'feature_exposed_brick',\n",
       " 'feature_extra_room',\n",
       " 'feature_fireplace',\n",
       " 'feature_fireplaces',\n",
       " 'feature_fitness_center',\n",
       " 'feature_fitness_room',\n",
       " 'feature_flex-2',\n",
       " 'feature_flex-3',\n",
       " 'feature_free_wifi_in_club_lounge',\n",
       " 'feature_ft_doorman',\n",
       " 'feature_full-time_doorman',\n",
       " 'feature_full_service_garage',\n",
       " 'feature_fully-equipped_club_fitness_center',\n",
       " 'feature_fully__equipped',\n",
       " 'feature_furnished',\n",
       " 'feature_game_room',\n",
       " 'feature_garage',\n",
       " 'feature_garbage_disposal',\n",
       " 'feature_garden',\n",
       " 'feature_garden/patio',\n",
       " 'feature_granite_countertops',\n",
       " 'feature_granite_kitchen',\n",
       " 'feature_green_building',\n",
       " 'feature_guarantors_accepted',\n",
       " 'feature_gut_renovated',\n",
       " 'feature_gym',\n",
       " 'feature_gym/fitness',\n",
       " 'feature_gym_in_building',\n",
       " 'feature_hardwood',\n",
       " 'feature_hardwood_floors',\n",
       " 'feature_health_club',\n",
       " 'feature_hi_rise',\n",
       " 'feature_high-speed_internet',\n",
       " 'feature_high_ceiling',\n",
       " 'feature_high_ceilings',\n",
       " 'feature_high_speed_internet',\n",
       " 'feature_highrise',\n",
       " 'feature_housekeeping_service',\n",
       " 'feature_in-unit_washer/dryer',\n",
       " 'feature_indoor_pool',\n",
       " 'feature_intercom',\n",
       " 'feature_jacuzzi',\n",
       " 'feature_large_living_room',\n",
       " 'feature_laundry',\n",
       " 'feature_laundry_&_housekeeping',\n",
       " 'feature_laundry_in_building',\n",
       " 'feature_laundry_in_unit',\n",
       " 'feature_laundry_on_every_floor',\n",
       " 'feature_laundry_on_floor',\n",
       " 'feature_laundry_room',\n",
       " 'feature_light',\n",
       " 'feature_live-in_super',\n",
       " 'feature_live-in_superintendent',\n",
       " 'feature_live/work',\n",
       " 'feature_live_in_super',\n",
       " 'feature_loft',\n",
       " 'feature_lounge',\n",
       " 'feature_lounge_room',\n",
       " 'feature_lowrise',\n",
       " 'feature_luxury_building',\n",
       " 'feature_magnificent_venetian-style',\n",
       " 'feature_mail_room',\n",
       " 'feature_marble_bath',\n",
       " 'feature_marble_bathroom',\n",
       " 'feature_media_room',\n",
       " 'feature_media_screening_room',\n",
       " 'feature_microwave',\n",
       " 'feature_midrise',\n",
       " 'feature_multi-level',\n",
       " 'feature_new_construction',\n",
       " 'feature_newly_renovated',\n",
       " 'feature_no_fee',\n",
       " 'feature_no_pets',\n",
       " 'feature_on-site_atm_machine',\n",
       " 'feature_on-site_attended_garage',\n",
       " 'feature_on-site_garage',\n",
       " 'feature_on-site_laundry',\n",
       " 'feature_on-site_lifestyle_concierge_by_luxury_attach\\xc3\\xa9',\n",
       " 'feature_on-site_parking',\n",
       " 'feature_on-site_parking_available',\n",
       " 'feature_on-site_parking_lot',\n",
       " 'feature_on-site_super',\n",
       " 'feature_one_month_free',\n",
       " 'feature_outdoor_areas',\n",
       " 'feature_outdoor_entertainment_space',\n",
       " 'feature_outdoor_pool',\n",
       " 'feature_outdoor_roof_deck_overlooking_new_york_harbor_and_battery_park',\n",
       " 'feature_outdoor_space',\n",
       " 'feature_package_room',\n",
       " 'feature_parking',\n",
       " 'feature_parking_available',\n",
       " 'feature_parking_space',\n",
       " 'feature_part-time_doorman',\n",
       " 'feature_party_room',\n",
       " 'feature_patio',\n",
       " 'feature_penthouse',\n",
       " 'feature_pet_friendly',\n",
       " 'feature_pets',\n",
       " 'feature_pets_allowed',\n",
       " 'feature_pets_on_approval',\n",
       " 'feature_playroom',\n",
       " 'feature_playroom/nursery',\n",
       " 'feature_pool',\n",
       " 'feature_post-war',\n",
       " 'feature_post_war',\n",
       " 'feature_pre-war',\n",
       " 'feature_pre_war',\n",
       " 'feature_prewar',\n",
       " 'feature_private-balcony',\n",
       " 'feature_private-outdoor-space',\n",
       " 'feature_private_backyard',\n",
       " 'feature_private_balcony',\n",
       " 'feature_private_deck',\n",
       " 'feature_private_garden',\n",
       " 'feature_private_laundry_room_on_every_floor',\n",
       " 'feature_private_outdoor_space',\n",
       " 'feature_private_parking',\n",
       " 'feature_private_roof_deck',\n",
       " 'feature_private_roofdeck',\n",
       " 'feature_private_terrace',\n",
       " 'feature_publicoutdoor',\n",
       " 'feature_queen_size_bedrooms',\n",
       " 'feature_queen_sized_rooms',\n",
       " 'feature_reduced_fee',\n",
       " 'feature_renovated',\n",
       " 'feature_renovated_kitchen',\n",
       " 'feature_residents_garden',\n",
       " 'feature_residents_lounge',\n",
       " 'feature_roof-deck',\n",
       " 'feature_roof_access',\n",
       " 'feature_roof_deck',\n",
       " 'feature_roof_deck_with_grills',\n",
       " 'feature_roofdeck',\n",
       " 'feature_rooftop_deck',\n",
       " 'feature_rooftop_terrace',\n",
       " 'feature_s/s_appliances',\n",
       " 'feature_sauna',\n",
       " 'feature_screening_room',\n",
       " 'feature_separate_kitchen',\n",
       " 'feature_shared_backyard',\n",
       " 'feature_shared_garden',\n",
       " 'feature_shares_ok',\n",
       " 'feature_short_term_allowed',\n",
       " 'feature_simplex',\n",
       " 'feature_skylight',\n",
       " 'feature_skylight_atrium',\n",
       " 'feature_southern_exposure',\n",
       " 'feature_spa_services',\n",
       " 'feature_ss_appliances',\n",
       " 'feature_stainless_steel',\n",
       " 'feature_stainless_steel_appliances',\n",
       " 'feature_state-of-the-art_fitness_center',\n",
       " 'feature_storage',\n",
       " 'feature_storage_available',\n",
       " 'feature_storage_facilities_available',\n",
       " 'feature_storage_room',\n",
       " 'feature_sublet',\n",
       " 'feature_subway',\n",
       " 'feature_sundeck',\n",
       " 'feature_swimming_pool',\n",
       " 'feature_tenant_lounge',\n",
       " 'feature_terrace',\n",
       " 'feature_terraces_/_balconies',\n",
       " 'feature_tons_of_natural_light',\n",
       " 'feature_valet',\n",
       " 'feature_valet_parking',\n",
       " 'feature_valet_service',\n",
       " 'feature_valet_services',\n",
       " 'feature_valet_services_including_dry_cleaning',\n",
       " 'feature_video_intercom',\n",
       " 'feature_view',\n",
       " 'feature_virtual_doorman',\n",
       " 'feature_virtual_tour',\n",
       " 'feature_walk-in_closet',\n",
       " 'feature_walk-up',\n",
       " 'feature_walk_in_closet',\n",
       " 'feature_walk_in_closet(s)',\n",
       " 'feature_washer/dryer',\n",
       " 'feature_washer/dryer_hookup',\n",
       " 'feature_washer/dryer_in-unit',\n",
       " 'feature_washer/dryer_in_building',\n",
       " 'feature_washer/dryer_in_unit',\n",
       " 'feature_washer_&_dryer',\n",
       " 'feature_washer_in_unit',\n",
       " 'feature_wheelchair_access',\n",
       " 'feature_wheelchair_ramp',\n",
       " 'feature_wifi',\n",
       " 'feature_wifi_access',\n",
       " 'feature_wood-burning_fireplace',\n",
       " 'feature_yard',\n",
       " 'feature_yoga_classes',\n",
       " 'photo_count',\n",
       " 'building_id_mean_med',\n",
       " 'building_id_mean_high',\n",
       " 'manager_id_mean_med',\n",
       " 'manager_id_mean_high',\n",
       " 'desc_wordcount',\n",
       " 'pricePerBed',\n",
       " 'pricePerBath',\n",
       " 'pricePerRoom',\n",
       " 'bedPerBath',\n",
       " 'bedBathDiff',\n",
       " 'bedBathSum',\n",
       " 'bedsPerc',\n",
       " 'median_price_bed',\n",
       " 'ratio_bed',\n",
       " 'num_features',\n",
       " 'created_month',\n",
       " 'created_day',\n",
       " 'created_hour',\n",
       " 'created_weekday',\n",
       " 'compound',\n",
       " 'neg',\n",
       " 'neu',\n",
       " 'pos',\n",
       " 'street',\n",
       " 'avenue',\n",
       " 'east',\n",
       " 'west',\n",
       " 'north',\n",
       " 'south',\n",
       " 'other_address',\n",
       " 'top_10_manager',\n",
       " 'top_25_manager',\n",
       " 'top_5_manager',\n",
       " 'top_1_manager',\n",
       " 'top_2_manager',\n",
       " 'top_15_manager',\n",
       " 'top_20_manager',\n",
       " 'top_30_manager',\n",
       " 'Zero_building_id',\n",
       " 'top_10_building',\n",
       " 'top_25_building',\n",
       " 'top_5_building',\n",
       " 'top_1_building',\n",
       " 'top_2_building',\n",
       " 'top_15_building',\n",
       " 'top_20_building',\n",
       " 'top_30_building']"
      ]
     },
     "execution_count": 5,
     "metadata": {},
     "output_type": "execute_result"
    }
   ],
   "source": [
    "feat_col = [x for x in train_X.columns.values]# if 'feature_' not in x]\n",
    "feat_col.remove('bathrooms')\n",
    "feat_col.remove('bedrooms')\n",
    "feat_col.remove('latitude')\n",
    "feat_col.remove('longitude')\n",
    "feat_col.remove('price')\n",
    "feat_col.remove('top_50_building')\n",
    "feat_col.remove('top_50_manager')\n",
    "# feat_col"
   ]
  },
  {
   "cell_type": "code",
   "execution_count": 6,
   "metadata": {
    "collapsed": false,
    "scrolled": true
   },
   "outputs": [
    {
     "name": "stdout",
     "output_type": "stream",
     "text": [
      "(49352, 315)\n",
      "(74659, 315)\n"
     ]
    }
   ],
   "source": [
    "train_X_new = train_X[feat_col]\n",
    "test_X_new = test_X[feat_col]\n",
    "print train_X_new.shape\n",
    "print test_X_new.shape"
   ]
  },
  {
   "cell_type": "code",
   "execution_count": 7,
   "metadata": {
    "collapsed": false,
    "scrolled": true
   },
   "outputs": [],
   "source": [
    "def basic_preprocess(df_train, df_test, n_min=50, precision=3):\n",
    "    \n",
    "    # Interest: Numerical encoding of interest level\n",
    "    df_train['y'] = 0.0\n",
    "    df_train.loc[df_train.interest_level=='medium', 'y'] = 1.0\n",
    "    df_train.loc[df_train.interest_level=='high', 'y'] = 2.0\n",
    "    \n",
    "    # Location features: Latitude, longitude\n",
    "    df_train['num_latitude'] = df_train.latitude.values\n",
    "    df_test['num_latitude'] = df_test.latitude.values\n",
    "    df_train['num_longitude'] = df_train.longitude.values\n",
    "    df_test['num_longitude'] = df_test.longitude.values\n",
    "    x = np.sqrt(((df_train.latitude - df_train.latitude.median())**2) + (df_train.longitude - df_train.longitude.median())**2)\n",
    "    df_train['num_dist_from_center'] = x.values\n",
    "    x = np.sqrt(((df_test.latitude - df_train.latitude.median())**2) + (df_test.longitude - df_train.longitude.median())**2)\n",
    "    df_test['num_dist_from_center'] = x.values\n",
    "    df_train['position'] = df_train.longitude.round(precision).astype(str) + '_' + df_train.latitude.round(precision).astype(str)\n",
    "    df_test['position'] = df_test.longitude.round(precision).astype(str) + '_' + df_test.latitude.round(precision).astype(str)\n",
    "    \n",
    "    # Degree of \"outlierness\"\n",
    "    OutlierAggregated = (df_train.bedrooms > 4).astype(float)\n",
    "    OutlierAggregated2 = (df_test.bedrooms > 4).astype(float)\n",
    "    OutlierAggregated += (df_train.bathrooms > 3).astype(float)\n",
    "    OutlierAggregated2 += (df_test.bathrooms > 3).astype(float)\n",
    "    OutlierAggregated += (df_train.bathrooms < 1).astype(float)\n",
    "    OutlierAggregated2 += (df_test.bathrooms < 1).astype(float)\n",
    "    x = np.abs((df_train.price - df_train.price.median())/df_train.price.std()) > 0.30\n",
    "    OutlierAggregated += x.astype(float)\n",
    "    x2 = np.abs((df_test.price - df_train.price.median())/df_train.price.std()) > 0.30\n",
    "    OutlierAggregated2 += x2.astype(float)\n",
    "    x = np.log1p(df_train.price/(df_train.bedrooms.clip(1,3) + df_train.bathrooms.clip(1,2))) > 8.2\n",
    "    OutlierAggregated += x.astype(float)\n",
    "    x2 = np.log1p(df_test.price/(df_test.bedrooms.clip(1,3) + df_test.bathrooms.clip(1,2))) > 8.2\n",
    "    OutlierAggregated2 += x2.astype(float)\n",
    "    x = np.sqrt(((df_train.latitude - df_train.latitude.median())**2) + (df_train.longitude - df_train.longitude.median())**2) > 0.30\n",
    "    OutlierAggregated += x.astype(float)\n",
    "    x2 = np.sqrt(((df_test.latitude - df_train.latitude.median())**2) + (df_test.longitude - df_train.longitude.median())**2) > 0.30\n",
    "    OutlierAggregated2 += x2.astype(float)\n",
    "    df_train['num_OutlierAggregated'] = OutlierAggregated.values\n",
    "    df_test['num_OutlierAggregated'] = OutlierAggregated2.values\n",
    "    \n",
    "    # Average interest in unique locations at given precision\n",
    "    x = df_train.groupby('position')['y'].aggregate(['count', 'mean'])\n",
    "    d = x.loc[x['count'] >= n_min, 'mean'].to_dict()\n",
    "    impute = df_train.y.mean()\n",
    "    df_train['num_pos'] = df_train.position.apply(lambda x: d.get(x, impute))\n",
    "    df_test['num_pos'] = df_test.position.apply(lambda x: d.get(x, impute))\n",
    "    \n",
    "    # Density in unique locations at given precision\n",
    "    vals = df_train['position'].value_counts()\n",
    "    dvals = vals.to_dict()\n",
    "    df_train['num_pos_density'] = df_train['position'].apply(lambda x: dvals.get(x, vals.min()))\n",
    "    df_test['num_pos_density'] = df_test['position'].apply(lambda x: dvals.get(x, vals.min()))\n",
    "\n",
    "    # Building null\n",
    "    df_train['num_building_null'] = (df_train.building_id=='0').astype(float)\n",
    "    df_test['num_building_null'] = (df_test.building_id=='0').astype(float)\n",
    "    \n",
    "    # Building supervised\n",
    "    x = df_train.groupby('building_id')['y'].aggregate(['count', 'mean'])\n",
    "    d = x.loc[x['count'] >= n_min, 'mean'].to_dict()\n",
    "    impute = df_train.y.mean()\n",
    "    df_train['num_building_id'] = df_train.building_id.apply(lambda x: d.get(x, impute))\n",
    "    df_test['num_building_id'] = df_test.building_id.apply(lambda x: d.get(x, impute))\n",
    "    \n",
    "    # Building frequency\n",
    "    d = np.log1p(df_train.building_id.value_counts()).to_dict()\n",
    "    impute = np.min(np.array(list(d.values())))\n",
    "    df_train['num_fbuilding'] = df_train.building_id.apply(lambda x: d.get(x, impute))\n",
    "    df_test['num_fbuilding'] = df_test.building_id.apply(lambda x: d.get(x, impute))\n",
    "    \n",
    "    # Manager supervised\n",
    "    x = df_train.groupby('manager_id')['y'].aggregate(['count', 'mean'])\n",
    "    d = x.loc[x['count'] >= n_min, 'mean'].to_dict()\n",
    "    impute = df_train.y.mean()\n",
    "    df_train['num_manager'] = df_train.manager_id.apply(lambda x: d.get(x, impute))\n",
    "    df_test['num_manager'] = df_test.manager_id.apply(lambda x: d.get(x, impute))\n",
    "\n",
    "    # Manager frequency\n",
    "    d = np.log1p(df_train.manager_id.value_counts()).to_dict()\n",
    "    impute = np.min(np.array(list(d.values())))\n",
    "    df_train['num_fmanager'] = df_train.manager_id.apply(lambda x: d.get(x, impute))\n",
    "    df_test['num_fmanager'] = df_test.manager_id.apply(lambda x: d.get(x, impute))\n",
    "    \n",
    "#     # Creation time features\n",
    "#     df_train['created'] = pd.to_datetime(df_train.created)\n",
    "#     df_train['num_created_weekday'] = df_train.created.dt.dayofweek.astype(float)\n",
    "#     df_train['num_created_weekofyear'] = df_train.created.dt.weekofyear\n",
    "#     df_test['created'] = pd.to_datetime(df_test.created)\n",
    "#     df_test['num_created_weekday'] = df_test.created.dt.dayofweek\n",
    "#     df_test['num_created_weekofyear'] = df_test.created.dt.weekofyear\n",
    "    \n",
    "    # Bedrooms/Bathrooms/Price\n",
    "    df_train['num_bathrooms'] = df_train.bathrooms.clip_upper(4)\n",
    "    df_test['num_bathrooms'] = df_test.bathrooms.clip_upper(4)\n",
    "    df_train['num_bedrooms'] = df_train.bedrooms.clip_upper(5)\n",
    "    df_test['num_bedrooms'] = df_test.bedrooms.clip_upper(5)\n",
    "    df_train['num_price'] = df_train.price.clip_upper(10000)\n",
    "    df_test['num_price'] = df_test.price.clip_upper(10000)\n",
    "    bins = df_train.price.quantile(np.arange(0.05, 1, 0.05))\n",
    "    df_train['num_price_q'] = np.digitize(df_train.price, bins)\n",
    "    df_test['num_price_q'] = np.digitize(df_test.price, bins)\n",
    "    \n",
    "    # Composite features based on: \n",
    "    # https://www.kaggle.com/arnaldcat/two-sigma-connect-rental-listing-inquiries/a-proxy-for-sqft-and-the-interest-on-1-2-baths\n",
    "    df_train['num_priceXroom'] = (df_train.price / (1 + df_train.bedrooms.clip(1, 4) + 0.5*df_train.bathrooms.clip(0, 2))).values\n",
    "    df_test['num_priceXroom'] = (df_test.price / (1 + df_test.bedrooms.clip(1, 4) + 0.5*df_test.bathrooms.clip(0, 2))).values\n",
    "    df_train['num_even_bathrooms'] = ((np.round(df_train.bathrooms) - df_train.bathrooms)==0).astype(float)\n",
    "    df_test['num_even_bathrooms'] = ((np.round(df_test.bathrooms) - df_test.bathrooms)==0).astype(float)\n",
    "    \n",
    "    # Other features\n",
    "#     df_train['num_features'] = df_train.features.apply(lambda x: len(x))\n",
    "#     df_test['num_features'] = df_test.features.apply(lambda x: len(x))\n",
    "#     df_train['num_photos'] = df_train.photos.apply(lambda x: len(x))\n",
    "#     df_test['num_photos'] = df_test.photos.apply(lambda x: len(x))\n",
    "#     df_train['num_desc_length'] = df_train.description.str.split(' ').str.len()\n",
    "#     df_test['num_desc_length'] = df_test.description.str.split(' ').str.len()\n",
    "    df_train['num_desc_length_null'] = (df_train.description.str.len()==0).astype(float)\n",
    "    df_test['num_desc_length_null'] = (df_test.description.str.len()==0).astype(float)\n",
    "    \n",
    "#     # Features/Description Features\n",
    "#     bows = {'nofee': ['no fee', 'no-fee', 'no  fee', 'nofee', 'no_fee'],\n",
    "#             'lowfee': ['reduced_fee', 'low_fee','reduced fee', 'low fee'],\n",
    "#             'furnished': ['furnished'],\n",
    "#             'parquet': ['parquet', 'hardwood'],\n",
    "#             'concierge': ['concierge', 'doorman', 'housekeep','in_super'],\n",
    "#             'prewar': ['prewar', 'pre_war', 'pre war', 'pre-war'],\n",
    "#             'laundry': ['laundry', 'lndry'],\n",
    "#             'health': ['health', 'gym', 'fitness', 'training'],\n",
    "#             'transport': ['train', 'subway', 'transport'],\n",
    "#             'parking': ['parking'],\n",
    "#             'utilities': ['utilities', 'heat water', 'water included'],\n",
    "#             'cats':['cats allowed','pets allowed','all pets ok','pet friendly','small dogs'],\n",
    "#             'dogs':['dogs allowed','pets allowed','all pets ok','pet friendly','small dogs'],\n",
    "#             'cable':['cable ready', 'satellite tv'],\n",
    "#             'centerAC' : ['central a','central ac','central air','central heat'],\n",
    "#             'child': ['childrens playroom','s playroom'],\n",
    "#             'wifi' : ['free wifi'],\n",
    "#             'pool' : ['pool'],\n",
    "#             'luxury': ['luxury'],\n",
    "#             'marble': ['marble'],\n",
    "#             'newfeature' : ['new construction','new kitchen','newly renovated'],\n",
    "#             'onemounthfree': ['one month fee','one month free','one month free rent','1 month free'],\n",
    "#             'share': ['share ok','shares ok'],\n",
    "#             'stainless': ['stainless steel','stainless steel appliances','stainless steel kitchen','s appliances','ss appliances'],\n",
    "#             'valet' :['valet'],\n",
    "#             'washer' :['washer','dryer']\n",
    "#           }\n",
    "#     for fname, bow in bows.items():\n",
    "#         x1 = df_train.description.str.lower().apply(lambda x: np.sum([1 for i in bow if i in x]))\n",
    "#         x2 = df_train.features.apply(lambda x: np.sum([1 for i in bow if i in ' '.join(x).lower()]))\n",
    "#         df_train['num_'+fname] = ((x1 + x2) > 0).astype(float).values\n",
    "#         x1 = df_test.description.str.lower().apply(lambda x: np.sum([1 for i in bow if i in x]))\n",
    "#         x2 = df_test.features.apply(lambda x: np.sum([1 for i in bow if i in ' '.join(x).lower()]))\n",
    "#         df_test['num_'+fname] = ((x1 + x2) > 0).astype(float).values\n",
    "\n",
    "    return df_train, df_test"
   ]
  },
  {
   "cell_type": "code",
   "execution_count": 27,
   "metadata": {
    "collapsed": false
   },
   "outputs": [],
   "source": [
    "df = pd.read_json('../input/train.json')\n",
    "df_test = pd.read_json('../input/test.json')\n",
    "df['created'] = pd.to_datetime(df.created)\n",
    "df_test['created'] = pd.to_datetime(df_test.created)"
   ]
  },
  {
   "cell_type": "code",
   "execution_count": 49,
   "metadata": {
    "collapsed": true
   },
   "outputs": [],
   "source": [
    "X_train, X_val, y_train, y_val = train_test_split(train_X_new, train_y, \n",
    "                                                                  train_size=.80, random_state=1234)"
   ]
  },
  {
   "cell_type": "code",
   "execution_count": 66,
   "metadata": {
    "collapsed": false
   },
   "outputs": [
    {
     "name": "stdout",
     "output_type": "stream",
     "text": [
      "(39481, 15) (9871, 15)\n"
     ]
    }
   ],
   "source": [
    "df_X_train = X_train[['listing_id']].merge(df,on='listing_id',how='left')\n",
    "df_X_val = X_val[['listing_id']].merge(df,on='listing_id',how='left')\n",
    "print df_X_train.shape, df_X_val.shape"
   ]
  },
  {
   "cell_type": "code",
   "execution_count": 68,
   "metadata": {
    "collapsed": false
   },
   "outputs": [
    {
     "name": "stdout",
     "output_type": "stream",
     "text": [
      "(39481, 35) (9871, 34)\n"
     ]
    }
   ],
   "source": [
    "# Get relevant features\n",
    "df_X_train, df_X_val = basic_preprocess(df_X_train, df_X_val, n_min=15, precision=3)\n",
    "# feats = [i for i in df_X_train.columns.values if i.startswith('num_')]\n",
    "# x_train = df_X_train[feats].values\n",
    "# x_test = df_X_val[feats].values\n",
    "# print x_train.shape, x_test.shape\n",
    "print df_X_train.shape, df_X_val.shape"
   ]
  },
  {
   "cell_type": "code",
   "execution_count": 69,
   "metadata": {
    "collapsed": false
   },
   "outputs": [
    {
     "name": "stdout",
     "output_type": "stream",
     "text": [
      "(39481, 49) (9871, 48)\n"
     ]
    }
   ],
   "source": [
    "dftemp = df_X_train.copy()\n",
    "for i in ['latitude', 'longitude']:\n",
    "    while(1):\n",
    "        x = dftemp[i].median()\n",
    "        ix = abs(dftemp[i] - x) > 3*dftemp[i].std()\n",
    "        if ix.sum()==0:\n",
    "            break\n",
    "        dftemp.loc[ix, i] = np.nan\n",
    "dftemp = dftemp.loc[dftemp[['latitude', 'longitude']].isnull().sum(1) == 0, :]\n",
    "\n",
    "dfm = DataFrameMapper([(['latitude'], [StandardScaler()]), (['longitude'], [StandardScaler()])])\n",
    "\n",
    "for i in [5, 10, 20, 40]:\n",
    "    pipe_location = make_pipeline(dfm, KMeans(n_clusters=i, random_state=1))\n",
    "    pipe_location.fit(dftemp);\n",
    "    df_X_train['location_'+str(i)] = pipe_location.predict(df_X_train).astype(str)\n",
    "    df_X_val['location_'+str(i)] = pipe_location.predict(df_X_val).astype(str)\n",
    "for i in df_X_train.location_10.unique():\n",
    "    df_X_train['num_location_10_'+str(i)] = (df_X_train.location_10==i).astype(float)\n",
    "    df_X_val['num_location_10_'+str(i)] = (df_X_val.location_10==i).astype(float)\n",
    "    \n",
    "# for i in df.location_5.unique():\n",
    "#     df['num_location_5_'+str(i)] = (df.location_10==i).astype(float)\n",
    "#     df_test['num_location_5_'+str(i)] = (df_test.location_10==i).astype(float)\n",
    "\n",
    "# for i in df.location_20.unique():\n",
    "#     df['num_location_20_'+str(i)] = (df.location_10==i).astype(float)\n",
    "#     df_test['num_location_20_'+str(i)] = (df_test.location_10==i).astype(float)\n",
    "\n",
    "# for i in df.location_40.unique():\n",
    "#     df['num_location_40_'+str(i)] = (df.location_10==i).astype(float)\n",
    "#     df_test['num_location_40_'+str(i)] = (df_test.location_10==i).astype(float)\n",
    "print df_X_train.shape, df_X_val.shape"
   ]
  },
  {
   "cell_type": "code",
   "execution_count": 10,
   "metadata": {
    "collapsed": false
   },
   "outputs": [
    {
     "name": "stdout",
     "output_type": "stream",
     "text": [
      "((49352L, 15L), (74659L, 15L))\n"
     ]
    }
   ],
   "source": [
    "\n",
    "\n",
    "# # Get relevant features\n",
    "# df, df_test = basic_preprocess(df, df_test, n_min=15, precision=3)\n",
    "# feats = [i for i in df.columns.values if i.startswith('num_')]\n",
    "# x_train = df[feats].values\n",
    "# x_test = df_test[feats].values\n",
    "# print(x_train.shape, x_test.shape)\n",
    "\n"
   ]
  },
  {
   "cell_type": "code",
   "execution_count": 73,
   "metadata": {
    "collapsed": false
   },
   "outputs": [
    {
     "name": "stdout",
     "output_type": "stream",
     "text": [
      "(39481, 29)\n",
      "(9871, 29)\n"
     ]
    }
   ],
   "source": [
    "feats = [i for i in df_X_train.columns.values if i.startswith('num_')]\n",
    "feats.extend(['listing_id'])\n",
    "x_train = df_X_train[feats]\n",
    "x_val = df_X_val[feats]\n",
    "print x_train.shape\n",
    "print x_val.shape"
   ]
  },
  {
   "cell_type": "code",
   "execution_count": 74,
   "metadata": {
    "collapsed": true
   },
   "outputs": [
    {
     "data": {
      "text/plain": [
       "['num_latitude',\n",
       " 'num_longitude',\n",
       " 'num_dist_from_center',\n",
       " 'num_OutlierAggregated',\n",
       " 'num_pos',\n",
       " 'num_pos_density',\n",
       " 'num_building_null',\n",
       " 'num_building_id',\n",
       " 'num_fbuilding',\n",
       " 'num_manager',\n",
       " 'num_fmanager',\n",
       " 'num_bathrooms',\n",
       " 'num_bedrooms',\n",
       " 'num_price',\n",
       " 'num_price_q',\n",
       " 'num_priceXroom',\n",
       " 'num_even_bathrooms',\n",
       " 'num_desc_length_null',\n",
       " 'num_location_10_1',\n",
       " 'num_location_10_0',\n",
       " 'num_location_10_9',\n",
       " 'num_location_10_3',\n",
       " 'num_location_10_4',\n",
       " 'num_location_10_2',\n",
       " 'num_location_10_6',\n",
       " 'num_location_10_5',\n",
       " 'num_location_10_8',\n",
       " 'num_location_10_7',\n",
       " 'listing_id']"
      ]
     },
     "execution_count": 74,
     "metadata": {},
     "output_type": "execute_result"
    }
   ],
   "source": [
    "feats"
   ]
  },
  {
   "cell_type": "code",
   "execution_count": 75,
   "metadata": {
    "collapsed": false
   },
   "outputs": [
    {
     "name": "stdout",
     "output_type": "stream",
     "text": [
      "(39481, 343)\n",
      "(9871, 343)\n"
     ]
    }
   ],
   "source": [
    "train_X_new = X_train.merge(x_train, on='listing_id',how='left')\n",
    "val_X_new = X_val.merge(x_val, on='listing_id',how='left')\n",
    "print train_X_new.shape\n",
    "print val_X_new.shape"
   ]
  },
  {
   "cell_type": "code",
   "execution_count": 76,
   "metadata": {
    "collapsed": false
   },
   "outputs": [
    {
     "data": {
      "text/plain": [
       "array(['listing_id', 'building_id', 'display_address', 'manager_id',\n",
       "       'street_address', 'feature_1_month_free', 'feature_24/7_concierge',\n",
       "       'feature_24/7_doorman', 'feature_24/7_doorman_concierge',\n",
       "       'feature_actual_apt._photos', 'feature_air_conditioning',\n",
       "       'feature_all_pets_ok', 'feature_all_utilities_included',\n",
       "       'feature_assigned-parking-space', 'feature_attended_lobby',\n",
       "       'feature_backyard', 'feature_balcony', 'feature_basement_storage',\n",
       "       'feature_basketball_court', 'feature_bike_room',\n",
       "       'feature_bike_storage', 'feature_billiards_room',\n",
       "       'feature_billiards_table_and_wet_bar', 'feature_brand_new',\n",
       "       'feature_breakfast_bar', 'feature_bright', 'feature_brownstone',\n",
       "       'feature_building-common-outdoor-space', 'feature_business_center',\n",
       "       'feature_cable/satellite_tv', 'feature_cable_ready',\n",
       "       'feature_call/text_abraham_caro_@_917-373-0862',\n",
       "       'feature_cats_allowed', 'feature_central_a/c', 'feature_central_ac',\n",
       "       'feature_central_air', 'feature_chefs_kitchen',\n",
       "       \"feature_children's_playroom\", 'feature_childrens_playroom',\n",
       "       'feature_cinema_room', 'feature_city_view',\n",
       "       'feature_close_to_subway', 'feature_closets_galore!',\n",
       "       'feature_club_sun_deck_has_spectacular_city_and_river_views',\n",
       "       'feature_cold_storage', 'feature_common_backyard',\n",
       "       'feature_common_garden', 'feature_common_outdoor_space',\n",
       "       'feature_common_parking/garage', 'feature_common_roof_deck',\n",
       "       'feature_common_storage', 'feature_common_terrace',\n",
       "       'feature_community_recreation_facilities',\n",
       "       'feature_complimentary_sunday_brunch', 'feature_concierge',\n",
       "       'feature_concierge_service', 'feature_condo_finishes',\n",
       "       'feature_courtyard', 'feature_crown_moldings', 'feature_deck',\n",
       "       'feature_deco_brick_wall', 'feature_decorative_fireplace',\n",
       "       'feature_dining_room', 'feature_dishwasher', 'feature_dogs_allowed',\n",
       "       'feature_doorman', 'feature_dry_cleaning_service',\n",
       "       'feature_dryer_in_unit', 'feature_duplex', 'feature_duplex_lounge',\n",
       "       'feature_eat-in_kitchen', 'feature_eat_in_kitchen',\n",
       "       'feature_elegant_glass-enclosed_private_lounge_with_magnificent_river_views',\n",
       "       'feature_elevator', 'feature_exclusive',\n",
       "       'feature_exercise/yoga_studio', 'feature_exposed_brick',\n",
       "       'feature_extra_room', 'feature_fireplace', 'feature_fireplaces',\n",
       "       'feature_fitness_center', 'feature_fitness_room', 'feature_flex-2',\n",
       "       'feature_flex-3', 'feature_free_wifi_in_club_lounge',\n",
       "       'feature_ft_doorman', 'feature_full-time_doorman',\n",
       "       'feature_full_service_garage',\n",
       "       'feature_fully-equipped_club_fitness_center',\n",
       "       'feature_fully__equipped', 'feature_furnished', 'feature_game_room',\n",
       "       'feature_garage', 'feature_garbage_disposal', 'feature_garden',\n",
       "       'feature_garden/patio', 'feature_granite_countertops',\n",
       "       'feature_granite_kitchen', 'feature_green_building',\n",
       "       'feature_guarantors_accepted', 'feature_gut_renovated',\n",
       "       'feature_gym', 'feature_gym/fitness', 'feature_gym_in_building',\n",
       "       'feature_hardwood', 'feature_hardwood_floors',\n",
       "       'feature_health_club', 'feature_hi_rise',\n",
       "       'feature_high-speed_internet', 'feature_high_ceiling',\n",
       "       'feature_high_ceilings', 'feature_high_speed_internet',\n",
       "       'feature_highrise', 'feature_housekeeping_service',\n",
       "       'feature_in-unit_washer/dryer', 'feature_indoor_pool',\n",
       "       'feature_intercom', 'feature_jacuzzi', 'feature_large_living_room',\n",
       "       'feature_laundry', 'feature_laundry_&_housekeeping',\n",
       "       'feature_laundry_in_building', 'feature_laundry_in_unit',\n",
       "       'feature_laundry_on_every_floor', 'feature_laundry_on_floor',\n",
       "       'feature_laundry_room', 'feature_light', 'feature_live-in_super',\n",
       "       'feature_live-in_superintendent', 'feature_live/work',\n",
       "       'feature_live_in_super', 'feature_loft', 'feature_lounge',\n",
       "       'feature_lounge_room', 'feature_lowrise', 'feature_luxury_building',\n",
       "       'feature_magnificent_venetian-style', 'feature_mail_room',\n",
       "       'feature_marble_bath', 'feature_marble_bathroom',\n",
       "       'feature_media_room', 'feature_media_screening_room',\n",
       "       'feature_microwave', 'feature_midrise', 'feature_multi-level',\n",
       "       'feature_new_construction', 'feature_newly_renovated',\n",
       "       'feature_no_fee', 'feature_no_pets', 'feature_on-site_atm_machine',\n",
       "       'feature_on-site_attended_garage', 'feature_on-site_garage',\n",
       "       'feature_on-site_laundry',\n",
       "       'feature_on-site_lifestyle_concierge_by_luxury_attach\\xc3\\xa9',\n",
       "       'feature_on-site_parking', 'feature_on-site_parking_available',\n",
       "       'feature_on-site_parking_lot', 'feature_on-site_super',\n",
       "       'feature_one_month_free', 'feature_outdoor_areas',\n",
       "       'feature_outdoor_entertainment_space', 'feature_outdoor_pool',\n",
       "       'feature_outdoor_roof_deck_overlooking_new_york_harbor_and_battery_park',\n",
       "       'feature_outdoor_space', 'feature_package_room', 'feature_parking',\n",
       "       'feature_parking_available', 'feature_parking_space',\n",
       "       'feature_part-time_doorman', 'feature_party_room', 'feature_patio',\n",
       "       'feature_penthouse', 'feature_pet_friendly', 'feature_pets',\n",
       "       'feature_pets_allowed', 'feature_pets_on_approval',\n",
       "       'feature_playroom', 'feature_playroom/nursery', 'feature_pool',\n",
       "       'feature_post-war', 'feature_post_war', 'feature_pre-war',\n",
       "       'feature_pre_war', 'feature_prewar', 'feature_private-balcony',\n",
       "       'feature_private-outdoor-space', 'feature_private_backyard',\n",
       "       'feature_private_balcony', 'feature_private_deck',\n",
       "       'feature_private_garden',\n",
       "       'feature_private_laundry_room_on_every_floor',\n",
       "       'feature_private_outdoor_space', 'feature_private_parking',\n",
       "       'feature_private_roof_deck', 'feature_private_roofdeck',\n",
       "       'feature_private_terrace', 'feature_publicoutdoor',\n",
       "       'feature_queen_size_bedrooms', 'feature_queen_sized_rooms',\n",
       "       'feature_reduced_fee', 'feature_renovated',\n",
       "       'feature_renovated_kitchen', 'feature_residents_garden',\n",
       "       'feature_residents_lounge', 'feature_roof-deck',\n",
       "       'feature_roof_access', 'feature_roof_deck',\n",
       "       'feature_roof_deck_with_grills', 'feature_roofdeck',\n",
       "       'feature_rooftop_deck', 'feature_rooftop_terrace',\n",
       "       'feature_s/s_appliances', 'feature_sauna', 'feature_screening_room',\n",
       "       'feature_separate_kitchen', 'feature_shared_backyard',\n",
       "       'feature_shared_garden', 'feature_shares_ok',\n",
       "       'feature_short_term_allowed', 'feature_simplex', 'feature_skylight',\n",
       "       'feature_skylight_atrium', 'feature_southern_exposure',\n",
       "       'feature_spa_services', 'feature_ss_appliances',\n",
       "       'feature_stainless_steel', 'feature_stainless_steel_appliances',\n",
       "       'feature_state-of-the-art_fitness_center', 'feature_storage',\n",
       "       'feature_storage_available', 'feature_storage_facilities_available',\n",
       "       'feature_storage_room', 'feature_sublet', 'feature_subway',\n",
       "       'feature_sundeck', 'feature_swimming_pool', 'feature_tenant_lounge',\n",
       "       'feature_terrace', 'feature_terraces_/_balconies',\n",
       "       'feature_tons_of_natural_light', 'feature_valet',\n",
       "       'feature_valet_parking', 'feature_valet_service',\n",
       "       'feature_valet_services',\n",
       "       'feature_valet_services_including_dry_cleaning',\n",
       "       'feature_video_intercom', 'feature_view', 'feature_virtual_doorman',\n",
       "       'feature_virtual_tour', 'feature_walk-in_closet', 'feature_walk-up',\n",
       "       'feature_walk_in_closet', 'feature_walk_in_closet(s)',\n",
       "       'feature_washer/dryer', 'feature_washer/dryer_hookup',\n",
       "       'feature_washer/dryer_in-unit', 'feature_washer/dryer_in_building',\n",
       "       'feature_washer/dryer_in_unit', 'feature_washer_&_dryer',\n",
       "       'feature_washer_in_unit', 'feature_wheelchair_access',\n",
       "       'feature_wheelchair_ramp', 'feature_wifi', 'feature_wifi_access',\n",
       "       'feature_wood-burning_fireplace', 'feature_yard',\n",
       "       'feature_yoga_classes', 'photo_count', 'building_id_mean_med',\n",
       "       'building_id_mean_high', 'manager_id_mean_med',\n",
       "       'manager_id_mean_high', 'desc_wordcount', 'pricePerBed',\n",
       "       'pricePerBath', 'pricePerRoom', 'bedPerBath', 'bedBathDiff',\n",
       "       'bedBathSum', 'bedsPerc', 'median_price_bed', 'ratio_bed',\n",
       "       'num_features', 'created_month', 'created_day', 'created_hour',\n",
       "       'created_weekday', 'compound', 'neg', 'neu', 'pos', 'street',\n",
       "       'avenue', 'east', 'west', 'north', 'south', 'other_address',\n",
       "       'top_10_manager', 'top_25_manager', 'top_5_manager',\n",
       "       'top_1_manager', 'top_2_manager', 'top_15_manager',\n",
       "       'top_20_manager', 'top_30_manager', 'Zero_building_id',\n",
       "       'top_10_building', 'top_25_building', 'top_5_building',\n",
       "       'top_1_building', 'top_2_building', 'top_15_building',\n",
       "       'top_20_building', 'top_30_building', 'num_latitude',\n",
       "       'num_longitude', 'num_dist_from_center', 'num_OutlierAggregated',\n",
       "       'num_pos', 'num_pos_density', 'num_building_null',\n",
       "       'num_building_id', 'num_fbuilding', 'num_manager', 'num_fmanager',\n",
       "       'num_bathrooms', 'num_bedrooms', 'num_price', 'num_price_q',\n",
       "       'num_priceXroom', 'num_even_bathrooms', 'num_desc_length_null',\n",
       "       'num_location_10_1', 'num_location_10_0', 'num_location_10_9',\n",
       "       'num_location_10_3', 'num_location_10_4', 'num_location_10_2',\n",
       "       'num_location_10_6', 'num_location_10_5', 'num_location_10_8',\n",
       "       'num_location_10_7'], dtype=object)"
      ]
     },
     "execution_count": 76,
     "metadata": {},
     "output_type": "execute_result"
    }
   ],
   "source": [
    "train_X_new.columns.values"
   ]
  },
  {
   "cell_type": "code",
   "execution_count": 77,
   "metadata": {
    "collapsed": false
   },
   "outputs": [
    {
     "name": "stdout",
     "output_type": "stream",
     "text": [
      "[0]\tvalidation_0-mlogloss:1.0371\n",
      "Will train until validation_0-mlogloss hasn't improved in 50 rounds.\n",
      "[25]\tvalidation_0-mlogloss:0.639744\n",
      "[50]\tvalidation_0-mlogloss:0.599818\n",
      "[75]\tvalidation_0-mlogloss:0.584143\n",
      "[100]\tvalidation_0-mlogloss:0.574409\n",
      "[125]\tvalidation_0-mlogloss:0.567671\n",
      "[150]\tvalidation_0-mlogloss:0.562274\n",
      "[175]\tvalidation_0-mlogloss:0.558453\n",
      "[200]\tvalidation_0-mlogloss:0.555646\n",
      "[225]\tvalidation_0-mlogloss:0.553024\n",
      "[250]\tvalidation_0-mlogloss:0.551416\n",
      "[275]\tvalidation_0-mlogloss:0.549784\n",
      "[300]\tvalidation_0-mlogloss:0.548915\n",
      "[325]\tvalidation_0-mlogloss:0.547888\n",
      "[350]\tvalidation_0-mlogloss:0.547228\n",
      "[375]\tvalidation_0-mlogloss:0.546295\n",
      "[400]\tvalidation_0-mlogloss:0.545615\n",
      "[425]\tvalidation_0-mlogloss:0.545164\n",
      "[450]\tvalidation_0-mlogloss:0.544549\n",
      "[475]\tvalidation_0-mlogloss:0.543808\n",
      "[500]\tvalidation_0-mlogloss:0.543535\n",
      "[525]\tvalidation_0-mlogloss:0.543324\n",
      "[550]\tvalidation_0-mlogloss:0.542826\n",
      "[575]\tvalidation_0-mlogloss:0.542808\n",
      "[600]\tvalidation_0-mlogloss:0.542646\n",
      "[625]\tvalidation_0-mlogloss:0.542287\n",
      "[650]\tvalidation_0-mlogloss:0.542389\n",
      "[675]\tvalidation_0-mlogloss:0.542212\n",
      "[700]\tvalidation_0-mlogloss:0.542133\n",
      "[725]\tvalidation_0-mlogloss:0.54192\n",
      "[750]\tvalidation_0-mlogloss:0.541719\n",
      "[775]\tvalidation_0-mlogloss:0.541616\n",
      "[800]\tvalidation_0-mlogloss:0.541692\n",
      "Stopping. Best iteration:\n",
      "[771]\tvalidation_0-mlogloss:0.541585\n",
      "\n"
     ]
    },
    {
     "data": {
      "text/plain": [
       "XGBClassifier(base_score=0.5, colsample_bylevel=1, colsample_bytree=1,\n",
       "       gamma=0, learning_rate=0.1, max_delta_step=0, max_depth=3,\n",
       "       min_child_weight=1, missing=None, n_estimators=10000, nthread=-1,\n",
       "       objective='multi:softprob', reg_alpha=0, reg_lambda=1,\n",
       "       scale_pos_weight=1, seed=0, silent=True, subsample=1)"
      ]
     },
     "execution_count": 77,
     "metadata": {},
     "output_type": "execute_result"
    }
   ],
   "source": [
    "import xgboost as xgb\n",
    "\n",
    "rgr = xgb.XGBClassifier(objective = 'multi:softprob',\n",
    "                       learning_rate = 0.1,\n",
    "                       n_estimators = 10000,\n",
    "                       nthread = -1)\n",
    "\n",
    "rgr.fit(train_X_new,y_train,\n",
    "        eval_set=[(val_X_new,y_val)],\n",
    "        eval_metric='mlogloss',\n",
    "#         num_class = 3,\n",
    "        early_stopping_rounds=50,\n",
    "        verbose=25\n",
    "       )"
   ]
  },
  {
   "cell_type": "code",
   "execution_count": null,
   "metadata": {
    "collapsed": true
   },
   "outputs": [],
   "source": [
    "# [771]\tvalidation_0-mlogloss:0.53567"
   ]
  },
  {
   "cell_type": "code",
   "execution_count": 19,
   "metadata": {
    "collapsed": true
   },
   "outputs": [],
   "source": [
    "import xgbfir\n",
    "xgbfir.saveXgbFI(rgr, feature_names=X_train.columns, OutputXlsxFile = '../FE/FI.xlsx')"
   ]
  },
  {
   "cell_type": "code",
   "execution_count": 21,
   "metadata": {
    "collapsed": false
   },
   "outputs": [
    {
     "data": {
      "text/plain": [
       "(74659, 340)"
      ]
     },
     "execution_count": 21,
     "metadata": {},
     "output_type": "execute_result"
    }
   ],
   "source": [
    "test_X_new.shape"
   ]
  },
  {
   "cell_type": "code",
   "execution_count": 22,
   "metadata": {
    "collapsed": true
   },
   "outputs": [],
   "source": [
    "import sys  \n",
    "stdi,stdo,stde=sys.stdin,sys.stdout,sys.stderr\n",
    "reload(sys)  \n",
    "sys.stdin,sys.stdout,sys.stderr=stdi,stdo,stde\n",
    "sys.setdefaultencoding('utf8')"
   ]
  },
  {
   "cell_type": "code",
   "execution_count": 23,
   "metadata": {
    "collapsed": false
   },
   "outputs": [],
   "source": [
    "pred_y = rgr.predict_proba(test_X_new, ntree_limit = rgr.best_iteration)"
   ]
  },
  {
   "cell_type": "code",
   "execution_count": 26,
   "metadata": {
    "collapsed": false
   },
   "outputs": [
    {
     "data": {
      "text/plain": [
       "False"
      ]
     },
     "execution_count": 26,
     "metadata": {},
     "output_type": "execute_result"
    }
   ],
   "source": [
    "test_X_new.isnull().values.any()"
   ]
  },
  {
   "cell_type": "code",
   "execution_count": 27,
   "metadata": {
    "collapsed": true
   },
   "outputs": [],
   "source": [
    "now = datetime.now()\n",
    "sub_name = '../output/sub_xgb_0329_' + str(now.strftime(\"%Y-%m-%d-%H-%M\")) + '.csv'\n",
    "\n",
    "out_df = pd.DataFrame(pred_y[:,:3])\n",
    "out_df.columns = [\"low\", \"medium\", \"high\"]\n",
    "out_df[\"listing_id\"] = sub_id\n",
    "out_df.to_csv(sub_name, index=False)"
   ]
  },
  {
   "cell_type": "code",
   "execution_count": null,
   "metadata": {
    "collapsed": true
   },
   "outputs": [],
   "source": []
  },
  {
   "cell_type": "code",
   "execution_count": 129,
   "metadata": {
    "collapsed": false
   },
   "outputs": [
    {
     "name": "stdout",
     "output_type": "stream",
     "text": [
      "[0]\tvalidation_0-mlogloss:1.03575\n",
      "Will train until validation_0-mlogloss hasn't improved in 50 rounds.\n",
      "[25]\tvalidation_0-mlogloss:0.628286\n",
      "[50]\tvalidation_0-mlogloss:0.587661\n",
      "[75]\tvalidation_0-mlogloss:0.573604\n",
      "[100]\tvalidation_0-mlogloss:0.565028\n",
      "[125]\tvalidation_0-mlogloss:0.559209\n",
      "[150]\tvalidation_0-mlogloss:0.555046\n",
      "[175]\tvalidation_0-mlogloss:0.552027\n",
      "[200]\tvalidation_0-mlogloss:0.549703\n",
      "[225]\tvalidation_0-mlogloss:0.547794\n",
      "[250]\tvalidation_0-mlogloss:0.546045\n",
      "[275]\tvalidation_0-mlogloss:0.544577\n",
      "[300]\tvalidation_0-mlogloss:0.543602\n",
      "[325]\tvalidation_0-mlogloss:0.542495\n",
      "[350]\tvalidation_0-mlogloss:0.541781\n",
      "[375]\tvalidation_0-mlogloss:0.54112\n",
      "[400]\tvalidation_0-mlogloss:0.540564\n",
      "[425]\tvalidation_0-mlogloss:0.540117\n",
      "[450]\tvalidation_0-mlogloss:0.539685\n",
      "[475]\tvalidation_0-mlogloss:0.539161\n",
      "[500]\tvalidation_0-mlogloss:0.538755\n",
      "[525]\tvalidation_0-mlogloss:0.538302\n",
      "[550]\tvalidation_0-mlogloss:0.537899\n",
      "[575]\tvalidation_0-mlogloss:0.537721\n",
      "[600]\tvalidation_0-mlogloss:0.537644\n",
      "[625]\tvalidation_0-mlogloss:0.537443\n",
      "[650]\tvalidation_0-mlogloss:0.537218\n",
      "[675]\tvalidation_0-mlogloss:0.537293\n",
      "[700]\tvalidation_0-mlogloss:0.537112\n",
      "[725]\tvalidation_0-mlogloss:0.53706\n",
      "[750]\tvalidation_0-mlogloss:0.536883\n",
      "[775]\tvalidation_0-mlogloss:0.53682\n",
      "[800]\tvalidation_0-mlogloss:0.536715\n",
      "[825]\tvalidation_0-mlogloss:0.536488\n",
      "[850]\tvalidation_0-mlogloss:0.536292\n",
      "[875]\tvalidation_0-mlogloss:0.536131\n",
      "[900]\tvalidation_0-mlogloss:0.536125\n",
      "[925]\tvalidation_0-mlogloss:0.536155\n",
      "[950]\tvalidation_0-mlogloss:0.535996\n",
      "[975]\tvalidation_0-mlogloss:0.535961\n",
      "[1000]\tvalidation_0-mlogloss:0.535849\n",
      "[1025]\tvalidation_0-mlogloss:0.535852\n",
      "[1050]\tvalidation_0-mlogloss:0.535823\n",
      "[1075]\tvalidation_0-mlogloss:0.535885\n",
      "Stopping. Best iteration:\n",
      "[1038]\tvalidation_0-mlogloss:0.53579\n",
      "\n"
     ]
    },
    {
     "data": {
      "text/plain": [
       "XGBClassifier(base_score=0.5, colsample_bylevel=1, colsample_bytree=1,\n",
       "       gamma=0, learning_rate=0.1, max_delta_step=0, max_depth=3,\n",
       "       min_child_weight=1, missing=None, n_estimators=10000, nthread=-1,\n",
       "       objective='multi:softprob', reg_alpha=0, reg_lambda=1,\n",
       "       scale_pos_weight=1, seed=0, silent=True, subsample=1)"
      ]
     },
     "execution_count": 129,
     "metadata": {},
     "output_type": "execute_result"
    }
   ],
   "source": [
    "import xgboost as xgb\n",
    "\n",
    "rgr = xgb.XGBClassifier(objective = 'multi:softprob',\n",
    "                       learning_rate = 0.1,\n",
    "                       n_estimators = 10000,\n",
    "                       nthread = -1)\n",
    "\n",
    "rgr.fit(X_train,y_train,\n",
    "        eval_set=[(X_val,y_val)],\n",
    "        eval_metric='mlogloss',\n",
    "#         num_class = 3,\n",
    "        early_stopping_rounds=50,\n",
    "        verbose=25\n",
    "       )"
   ]
  },
  {
   "cell_type": "code",
   "execution_count": 53,
   "metadata": {
    "collapsed": false
   },
   "outputs": [],
   "source": [
    "# [1038]\tvalidation_0-mlogloss:0.53579"
   ]
  },
  {
   "cell_type": "code",
   "execution_count": null,
   "metadata": {
    "collapsed": true
   },
   "outputs": [],
   "source": []
  },
  {
   "cell_type": "code",
   "execution_count": null,
   "metadata": {
    "collapsed": true
   },
   "outputs": [],
   "source": []
  },
  {
   "cell_type": "code",
   "execution_count": 14,
   "metadata": {
    "collapsed": true
   },
   "outputs": [],
   "source": [
    "new_col = [x for x in train_X_pre.columns.values if 'feature_' not in x]"
   ]
  },
  {
   "cell_type": "code",
   "execution_count": 18,
   "metadata": {
    "collapsed": false
   },
   "outputs": [
    {
     "name": "stdout",
     "output_type": "stream",
     "text": [
      "(49352, 260) (74659, 260)\n"
     ]
    }
   ],
   "source": [
    "train_X_pre = train_X_pre[new_col]\n",
    "test_X_pre = test_X_pre[new_col]\n",
    "print train_X_pre.shape, test_X_pre.shape"
   ]
  },
  {
   "cell_type": "code",
   "execution_count": 36,
   "metadata": {
    "collapsed": false
   },
   "outputs": [],
   "source": [
    "train_X_0322 = train_X_pre.merge(train_X, on='listing_id', how='left')\n",
    "test_X_0322 = test_X_pre.merge(test_X, on='listing_id', how='left')\n",
    "\n",
    "print train_X_0322.shape,  test_X_0322.shape"
   ]
  },
  {
   "cell_type": "code",
   "execution_count": 40,
   "metadata": {
    "collapsed": true
   },
   "outputs": [],
   "source": [
    "train_X_0322.to_csv(data_path + 'train_BM_0322.csv',index=False)\n",
    "test_X_0322.to_csv(data_path + 'test_BM_0322.csv',index=False)"
   ]
  },
  {
   "cell_type": "code",
   "execution_count": null,
   "metadata": {
    "collapsed": true
   },
   "outputs": [],
   "source": []
  }
 ],
 "metadata": {
  "anaconda-cloud": {},
  "kernelspec": {
   "display_name": "Python [conda root]",
   "language": "python",
   "name": "conda-root-py"
  },
  "language_info": {
   "codemirror_mode": {
    "name": "ipython",
    "version": 2
   },
   "file_extension": ".py",
   "mimetype": "text/x-python",
   "name": "python",
   "nbconvert_exporter": "python",
   "pygments_lexer": "ipython2",
   "version": "2.7.12"
  }
 },
 "nbformat": 4,
 "nbformat_minor": 1
}
