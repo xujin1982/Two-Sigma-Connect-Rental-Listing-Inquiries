{
 "cells": [
  {
   "cell_type": "markdown",
   "metadata": {
    "collapsed": true
   },
   "source": [
    "# https://www.kaggle.com/rakhlin/two-sigma-connect-rental-listing-inquiries/another-python-version-of-it-is-lit-by-branden/code"
   ]
  },
  {
   "cell_type": "code",
   "execution_count": 1,
   "metadata": {
    "collapsed": false
   },
   "outputs": [],
   "source": [
    "import numpy as np\n",
    "import pandas as pd\n",
    "from itertools import product\n",
    "from sklearn.model_selection import StratifiedKFold\n",
    "from sklearn.cluster import KMeans\n",
    "from sklearn_pandas import DataFrameMapper\n",
    "from sklearn.pipeline import make_pipeline\n",
    "from sklearn.preprocessing import StandardScaler, Imputer, LabelBinarizer, MultiLabelBinarizer\n",
    "import seaborn as sns\n",
    "import matplotlib.pyplot as plt\n",
    "%matplotlib inline"
   ]
  },
  {
   "cell_type": "code",
   "execution_count": 2,
   "metadata": {
    "collapsed": true
   },
   "outputs": [],
   "source": [
    "def add_features(df):\n",
    "    fmt = lambda s: s.replace(\"\\u00a0\", \"\").strip().lower()\n",
    "    df[\"num_photo_count\"] = df[\"photos\"].apply(len)\n",
    "    df[\"street_address\"] = df['street_address'].apply(fmt)\n",
    "    df[\"display_address\"] = df[\"display_address\"].apply(fmt)\n",
    "    df[\"num_desc_wordcount\"] = df[\"description\"].apply(len)\n",
    "    df[\"num_pricePerBed\"] = df['price'] / df['bedrooms']\n",
    "    df[\"num_pricePerBath\"] = df['price'] / df['bathrooms']\n",
    "    df[\"num_pricePerRoom\"] = df['price'] / (df['bedrooms'] + df['bathrooms'])\n",
    "    df[\"num_bedPerBath\"] = df['bedrooms'] / df['bathrooms']\n",
    "    df[\"num_bedBathDiff\"] = df['bedrooms'] - df['bathrooms']\n",
    "    df[\"num_bedBathSum\"] = df[\"bedrooms\"] + df['bathrooms']\n",
    "    df[\"num_bedsPerc\"] = df[\"bedrooms\"] / (df['bedrooms'] + df['bathrooms'])\n",
    "\n",
    "    df = df.fillna(-1).replace(np.inf, -1)\n",
    "    return df\n",
    "\n",
    "\n",
    "def factorize(df1, df2, column):\n",
    "    ps = df1[column].append(df2[column])\n",
    "    factors = ps.factorize()[0]\n",
    "    df1[column] = factors[:len(df1)]\n",
    "    df2[column] = factors[len(df1):]\n",
    "    return df1, df2\n",
    "\n",
    "\n",
    "def designate_single_observations(df1, df2, column):\n",
    "    ps = df1[column].append(df2[column])\n",
    "    grouped = ps.groupby(ps).size().to_frame().rename(columns={0: \"size\"})\n",
    "    df1.loc[df1.join(grouped, on=column, how=\"left\")[\"size\"] <= 1, column] = -1\n",
    "    df2.loc[df2.join(grouped, on=column, how=\"left\")[\"size\"] <= 1, column] = -1\n",
    "    return df1, df2\n",
    "\n",
    "\n",
    "def hcc_encode(train_df, test_df, variable, target, prior_prob, k, f=1, g=1, r_k=None, update_df=None):\n",
    "    \"\"\"\n",
    "    See \"A Preprocessing Scheme for High-Cardinality Categorical Attributes in\n",
    "    Classification and Prediction Problems\" by Daniele Micci-Barreca\n",
    "    \"\"\"\n",
    "    hcc_name = \"_\".join([\"hcc\", variable, target])\n",
    "\n",
    "    grouped = train_df.groupby(variable)[target].agg({\"size\": \"size\", \"mean\": \"mean\"})\n",
    "    grouped[\"lambda\"] = 1 / (g + np.exp((k - grouped[\"size\"]) / f))\n",
    "    grouped[hcc_name] = grouped[\"lambda\"] * grouped[\"mean\"] + (1 - grouped[\"lambda\"]) * prior_prob\n",
    "\n",
    "    df = test_df[[variable]].join(grouped, on=variable, how=\"left\")[hcc_name].fillna(prior_prob)\n",
    "    if r_k: df *= np.random.uniform(1 - r_k, 1 + r_k, len(test_df))     # Add uniform noise. Not mentioned in original paper\n",
    "\n",
    "    if update_df is None: update_df = test_df\n",
    "    if hcc_name not in update_df.columns: update_df[hcc_name] = np.nan\n",
    "    update_df.update(df)\n",
    "    return"
   ]
  },
  {
   "cell_type": "code",
   "execution_count": 3,
   "metadata": {
    "collapsed": false
   },
   "outputs": [],
   "source": [
    "# Load data\n",
    "X_train = pd.read_json(\"../input/train.json\").sort_values(by=\"listing_id\")\n",
    "X_test = pd.read_json(\"../input/test.json\").sort_values(by=\"listing_id\")\n",
    "\n",
    "# Make target integer, one hot encoded, calculate target priors\n",
    "X_train = X_train.replace({\"interest_level\": {\"low\": 0, \"medium\": 1, \"high\": 2}})\n",
    "X_train = X_train.join(pd.get_dummies(X_train[\"interest_level\"], prefix=\"pred\").astype(int))\n",
    "prior_0, prior_1, prior_2 = X_train[[\"pred_0\", \"pred_1\", \"pred_2\"]].mean()"
   ]
  },
  {
   "cell_type": "code",
   "execution_count": 4,
   "metadata": {
    "collapsed": true
   },
   "outputs": [],
   "source": [
    "# Add common features\n",
    "X_train = add_features(X_train)\n",
    "X_test = add_features(X_test) "
   ]
  },
  {
   "cell_type": "code",
   "execution_count": 5,
   "metadata": {
    "collapsed": true
   },
   "outputs": [],
   "source": [
    "# Special designation for building_ids, manager_ids, display_address with only 1 observation\n",
    "for col in ('building_id', 'manager_id', 'display_address'):\n",
    "    X_train, X_test = designate_single_observations(X_train, X_test, col)\n",
    "\n",
    "# High-Cardinality Categorical encoding\n",
    "skf = StratifiedKFold(5)\n",
    "attributes = product((\"building_id\", \"manager_id\"), zip((\"pred_1\", \"pred_2\"), (prior_1, prior_2)))\n",
    "for variable, (target, prior) in attributes:\n",
    "    hcc_encode(X_train, X_test, variable, target, prior, k=5, r_k=None)\n",
    "    for train, test in skf.split(np.zeros(len(X_train)), X_train['interest_level']):\n",
    "        hcc_encode(X_train.iloc[train], X_train.iloc[test], variable, target, prior, k=5, r_k=0.01, update_df=X_train)"
   ]
  },
  {
   "cell_type": "code",
   "execution_count": 6,
   "metadata": {
    "collapsed": true
   },
   "outputs": [],
   "source": [
    "# Factorize building_id, display_address, manager_id, street_address\n",
    "for col in ('building_id', 'display_address', 'manager_id', 'street_address'):\n",
    "    X_train, X_test = factorize(X_train, X_test, col)"
   ]
  },
  {
   "cell_type": "code",
   "execution_count": 7,
   "metadata": {
    "collapsed": false
   },
   "outputs": [],
   "source": [
    "# Create binarized features\n",
    "fmt = lambda feat: [s.replace(\"\\u00a0\", \"\").strip().lower().replace(\" \", \"_\") for s in feat]  # format features\n",
    "X_train[\"features\"] = X_train[\"features\"].apply(fmt)\n",
    "X_test[\"features\"] = X_test[\"features\"].apply(fmt)\n",
    "\n",
    "features = [f for f_list in list(X_train[\"features\"]) + list(X_test[\"features\"]) for f in f_list]\n",
    "ps = pd.Series(features)\n",
    "grouped = ps.groupby(ps).agg(len)\n",
    "features = grouped[grouped >= 10].index.sort_values().values    # limit to features with >=10 observations\n",
    "mlb = MultiLabelBinarizer().fit([features])\n",
    "columns = ['feature_' + s for s in mlb.classes_]\n",
    "flt = lambda l: [i for i in l if i in mlb.classes_]     # filter out features not present in MultiLabelBinarizer\n",
    "X_train = X_train.join(pd.DataFrame(data=mlb.transform(X_train[\"features\"].apply(flt)), columns=columns, index=X_train.index))\n",
    "X_test = X_test.join(pd.DataFrame(data=mlb.transform(X_test[\"features\"].apply(flt)), columns=columns, index=X_test.index))\n"
   ]
  },
  {
   "cell_type": "code",
   "execution_count": 8,
   "metadata": {
    "collapsed": true
   },
   "outputs": [],
   "source": [
    "columns_to_drop = [\"photos\", \"pred_0\",\"pred_1\", \"pred_2\", \"description\", \"features\", \"created\",\n",
    "#                    'hcc_building_id_pred_1', 'hcc_building_id_pred_2',\n",
    "#                    'hcc_manager_id_pred_1', 'hcc_manager_id_pred_2',\n",
    "                  ]\n",
    "X_train = X_train.drop([c for c in X_train.columns if c in columns_to_drop], axis=1)\n",
    "X_test = X_test.drop([c for c in X_test.columns if c in columns_to_drop], axis=1)"
   ]
  },
  {
   "cell_type": "code",
   "execution_count": 9,
   "metadata": {
    "collapsed": false
   },
   "outputs": [
    {
     "data": {
      "text/plain": [
       "array([u'bathrooms', u'bedrooms', u'building_id', u'display_address',\n",
       "       u'interest_level', u'latitude', u'listing_id', u'longitude',\n",
       "       u'manager_id', u'price', u'street_address', 'num_photo_count',\n",
       "       'num_desc_wordcount', 'num_pricePerBed', 'num_pricePerBath',\n",
       "       'num_pricePerRoom', 'num_bedPerBath', 'num_bedBathDiff',\n",
       "       'num_bedBathSum', 'num_bedsPerc', 'hcc_building_id_pred_1',\n",
       "       'hcc_building_id_pred_2', 'hcc_manager_id_pred_1',\n",
       "       'hcc_manager_id_pred_2', u'feature_1_month_free',\n",
       "       u'feature_24/7_concierge', u'feature_24/7_doorman',\n",
       "       u'feature_24/7_doorman_concierge', u'feature_actual_apt._photos',\n",
       "       u'feature_air_conditioning', u'feature_all_pets_ok',\n",
       "       u'feature_all_utilities_included',\n",
       "       u'feature_assigned-parking-space', u'feature_attended_lobby',\n",
       "       u'feature_backyard', u'feature_balcony',\n",
       "       u'feature_basement_storage', u'feature_basketball_court',\n",
       "       u'feature_bike_room', u'feature_bike_storage',\n",
       "       u'feature_billiards_room', u'feature_billiards_table_and_wet_bar',\n",
       "       u'feature_brand_new', u'feature_breakfast_bar', u'feature_bright',\n",
       "       u'feature_brownstone', u'feature_building-common-outdoor-space',\n",
       "       u'feature_business_center', u'feature_cable/satellite_tv',\n",
       "       u'feature_cable_ready',\n",
       "       u'feature_call/text_abraham_caro_@_917-373-0862',\n",
       "       u'feature_cats_allowed', u'feature_central_a/c',\n",
       "       u'feature_central_ac', u'feature_central_air',\n",
       "       u'feature_chefs_kitchen', u\"feature_children's_playroom\",\n",
       "       u'feature_childrens_playroom', u'feature_cinema_room',\n",
       "       u'feature_city_view', u'feature_close_to_subway',\n",
       "       u'feature_closets_galore!',\n",
       "       u'feature_club_sun_deck_has_spectacular_city_and_river_views',\n",
       "       u'feature_cold_storage', u'feature_common_backyard',\n",
       "       u'feature_common_garden', u'feature_common_outdoor_space',\n",
       "       u'feature_common_parking/garage', u'feature_common_roof_deck',\n",
       "       u'feature_common_storage', u'feature_common_terrace',\n",
       "       u'feature_community_recreation_facilities',\n",
       "       u'feature_complimentary_sunday_brunch', u'feature_concierge',\n",
       "       u'feature_concierge_service', u'feature_condo_finishes',\n",
       "       u'feature_courtyard', u'feature_crown_moldings', u'feature_deck',\n",
       "       u'feature_deco_brick_wall', u'feature_decorative_fireplace',\n",
       "       u'feature_dining_room', u'feature_dishwasher',\n",
       "       u'feature_dogs_allowed', u'feature_doorman',\n",
       "       u'feature_dry_cleaning_service', u'feature_dryer_in_unit',\n",
       "       u'feature_duplex', u'feature_duplex_lounge',\n",
       "       u'feature_eat-in_kitchen', u'feature_eat_in_kitchen',\n",
       "       u'feature_elegant_glass-enclosed_private_lounge_with_magnificent_river_views',\n",
       "       u'feature_elevator', u'feature_exclusive',\n",
       "       u'feature_exercise/yoga_studio', u'feature_exposed_brick',\n",
       "       u'feature_extra_room', u'feature_fireplace', u'feature_fireplaces',\n",
       "       u'feature_fitness_center', u'feature_fitness_room',\n",
       "       u'feature_flex-2', u'feature_flex-3',\n",
       "       u'feature_free_wifi_in_club_lounge', u'feature_ft_doorman',\n",
       "       u'feature_full-time_doorman', u'feature_full_service_garage',\n",
       "       u'feature_fully-equipped_club_fitness_center',\n",
       "       u'feature_fully__equipped', u'feature_furnished',\n",
       "       u'feature_game_room', u'feature_garage',\n",
       "       u'feature_garbage_disposal', u'feature_garden',\n",
       "       u'feature_garden/patio', u'feature_granite_countertops',\n",
       "       u'feature_granite_kitchen', u'feature_green_building',\n",
       "       u'feature_guarantors_accepted', u'feature_gut_renovated',\n",
       "       u'feature_gym', u'feature_gym/fitness', u'feature_gym_in_building',\n",
       "       u'feature_hardwood', u'feature_hardwood_floors',\n",
       "       u'feature_health_club', u'feature_hi_rise',\n",
       "       u'feature_high-speed_internet', u'feature_high_ceiling',\n",
       "       u'feature_high_ceilings', u'feature_high_speed_internet',\n",
       "       u'feature_highrise', u'feature_housekeeping_service',\n",
       "       u'feature_in-unit_washer/dryer', u'feature_indoor_pool',\n",
       "       u'feature_intercom', u'feature_jacuzzi',\n",
       "       u'feature_large_living_room', u'feature_laundry',\n",
       "       u'feature_laundry_&_housekeeping', u'feature_laundry_in_building',\n",
       "       u'feature_laundry_in_unit', u'feature_laundry_on_every_floor',\n",
       "       u'feature_laundry_on_floor', u'feature_laundry_room',\n",
       "       u'feature_light', u'feature_live-in_super',\n",
       "       u'feature_live-in_superintendent', u'feature_live/work',\n",
       "       u'feature_live_in_super', u'feature_loft', u'feature_lounge',\n",
       "       u'feature_lounge_room', u'feature_lowrise',\n",
       "       u'feature_luxury_building', u'feature_magnificent_venetian-style',\n",
       "       u'feature_mail_room', u'feature_marble_bath',\n",
       "       u'feature_marble_bathroom', u'feature_media_room',\n",
       "       u'feature_media_screening_room', u'feature_microwave',\n",
       "       u'feature_midrise', u'feature_multi-level',\n",
       "       u'feature_new_construction', u'feature_newly_renovated',\n",
       "       u'feature_no_fee', u'feature_no_pets',\n",
       "       u'feature_on-site_atm_machine', u'feature_on-site_attended_garage',\n",
       "       u'feature_on-site_garage', u'feature_on-site_laundry',\n",
       "       u'feature_on-site_lifestyle_concierge_by_luxury_attach\\xe9',\n",
       "       u'feature_on-site_parking', u'feature_on-site_parking_available',\n",
       "       u'feature_on-site_parking_lot', u'feature_on-site_super',\n",
       "       u'feature_one_month_free', u'feature_outdoor_areas',\n",
       "       u'feature_outdoor_entertainment_space', u'feature_outdoor_pool',\n",
       "       u'feature_outdoor_roof_deck_overlooking_new_york_harbor_and_battery_park',\n",
       "       u'feature_outdoor_space', u'feature_package_room',\n",
       "       u'feature_parking', u'feature_parking_available',\n",
       "       u'feature_parking_space', u'feature_part-time_doorman',\n",
       "       u'feature_party_room', u'feature_patio', u'feature_penthouse',\n",
       "       u'feature_pet_friendly', u'feature_pets', u'feature_pets_allowed',\n",
       "       u'feature_pets_on_approval', u'feature_playroom',\n",
       "       u'feature_playroom/nursery', u'feature_pool', u'feature_post-war',\n",
       "       u'feature_post_war', u'feature_pre-war', u'feature_pre_war',\n",
       "       u'feature_prewar', u'feature_private-balcony',\n",
       "       u'feature_private-outdoor-space', u'feature_private_backyard',\n",
       "       u'feature_private_balcony', u'feature_private_deck',\n",
       "       u'feature_private_garden',\n",
       "       u'feature_private_laundry_room_on_every_floor',\n",
       "       u'feature_private_outdoor_space', u'feature_private_parking',\n",
       "       u'feature_private_roof_deck', u'feature_private_roofdeck',\n",
       "       u'feature_private_terrace', u'feature_publicoutdoor',\n",
       "       u'feature_queen_size_bedrooms', u'feature_queen_sized_rooms',\n",
       "       u'feature_reduced_fee', u'feature_renovated',\n",
       "       u'feature_renovated_kitchen', u'feature_residents_garden',\n",
       "       u'feature_residents_lounge', u'feature_roof-deck',\n",
       "       u'feature_roof_access', u'feature_roof_deck',\n",
       "       u'feature_roof_deck_with_grills', u'feature_roofdeck',\n",
       "       u'feature_rooftop_deck', u'feature_rooftop_terrace',\n",
       "       u'feature_s/s_appliances', u'feature_sauna',\n",
       "       u'feature_screening_room', u'feature_separate_kitchen',\n",
       "       u'feature_shared_backyard', u'feature_shared_garden',\n",
       "       u'feature_shares_ok', u'feature_short_term_allowed',\n",
       "       u'feature_simplex', u'feature_skylight', u'feature_skylight_atrium',\n",
       "       u'feature_southern_exposure', u'feature_spa_services',\n",
       "       u'feature_ss_appliances', u'feature_stainless_steel',\n",
       "       u'feature_stainless_steel_appliances',\n",
       "       u'feature_state-of-the-art_fitness_center', u'feature_storage',\n",
       "       u'feature_storage_available',\n",
       "       u'feature_storage_facilities_available', u'feature_storage_room',\n",
       "       u'feature_sublet', u'feature_subway', u'feature_sundeck',\n",
       "       u'feature_swimming_pool', u'feature_tenant_lounge',\n",
       "       u'feature_terrace', u'feature_terraces_/_balconies',\n",
       "       u'feature_tons_of_natural_light', u'feature_valet',\n",
       "       u'feature_valet_parking', u'feature_valet_service',\n",
       "       u'feature_valet_services',\n",
       "       u'feature_valet_services_including_dry_cleaning',\n",
       "       u'feature_video_intercom', u'feature_view',\n",
       "       u'feature_virtual_doorman', u'feature_virtual_tour',\n",
       "       u'feature_walk-in_closet', u'feature_walk-up',\n",
       "       u'feature_walk_in_closet', u'feature_walk_in_closet(s)',\n",
       "       u'feature_washer/dryer', u'feature_washer/dryer_hookup',\n",
       "       u'feature_washer/dryer_in-unit',\n",
       "       u'feature_washer/dryer_in_building',\n",
       "       u'feature_washer/dryer_in_unit', u'feature_washer_&_dryer',\n",
       "       u'feature_washer_in_unit', u'feature_wheelchair_access',\n",
       "       u'feature_wheelchair_ramp', u'feature_wifi', u'feature_wifi_access',\n",
       "       u'feature_wood-burning_fireplace', u'feature_yard',\n",
       "       u'feature_yoga_classes'], dtype=object)"
      ]
     },
     "execution_count": 9,
     "metadata": {},
     "output_type": "execute_result"
    }
   ],
   "source": [
    "X_train.columns.values"
   ]
  },
  {
   "cell_type": "code",
   "execution_count": 10,
   "metadata": {
    "collapsed": true
   },
   "outputs": [],
   "source": [
    "# # Save\n",
    "\n",
    "# X_train = X_train.sort_index(axis=1).sort_values(by=\"listing_id\")\n",
    "# X_test = X_test.sort_index(axis=1).sort_values(by=\"listing_id\")\n"
   ]
  },
  {
   "cell_type": "markdown",
   "metadata": {},
   "source": [
    "## https://www.kaggle.com/arnaldcat/two-sigma-connect-rental-listing-inquiries/neural-network-w-feat-engineering-0-583lb"
   ]
  },
  {
   "cell_type": "code",
   "execution_count": 11,
   "metadata": {
    "collapsed": false,
    "scrolled": true
   },
   "outputs": [],
   "source": [
    "def basic_preprocess(df_train, df_test, n_min=50, precision=3):\n",
    "    \n",
    "    # Interest: Numerical encoding of interest level\n",
    "    df_train['y'] = 0.0\n",
    "    df_train.loc[df_train.interest_level=='medium', 'y'] = 1.0\n",
    "    df_train.loc[df_train.interest_level=='high', 'y'] = 2.0\n",
    "    \n",
    "    # Location features: Latitude, longitude\n",
    "    df_train['num_latitude'] = df_train.latitude.values\n",
    "    df_test['num_latitude'] = df_test.latitude.values\n",
    "    df_train['num_longitude'] = df_train.longitude.values\n",
    "    df_test['num_longitude'] = df_test.longitude.values\n",
    "    x = np.sqrt(((df_train.latitude - df_train.latitude.median())**2) + (df_train.longitude - df_train.longitude.median())**2)\n",
    "    df_train['num_dist_from_center'] = x.values\n",
    "    x = np.sqrt(((df_test.latitude - df_train.latitude.median())**2) + (df_test.longitude - df_train.longitude.median())**2)\n",
    "    df_test['num_dist_from_center'] = x.values\n",
    "    df_train['pos'] = df_train.longitude.round(precision).astype(str) + '_' + df_train.latitude.round(precision).astype(str)\n",
    "    df_test['pos'] = df_test.longitude.round(precision).astype(str) + '_' + df_test.latitude.round(precision).astype(str)\n",
    "    \n",
    "    # Degree of \"outlierness\"\n",
    "    OutlierAggregated = (df_train.bedrooms > 4).astype(float)\n",
    "    OutlierAggregated2 = (df_test.bedrooms > 4).astype(float)\n",
    "    OutlierAggregated += (df_train.bathrooms > 3).astype(float)\n",
    "    OutlierAggregated2 += (df_test.bathrooms > 3).astype(float)\n",
    "    OutlierAggregated += (df_train.bathrooms < 1).astype(float)\n",
    "    OutlierAggregated2 += (df_test.bathrooms < 1).astype(float)\n",
    "    x = np.abs((df_train.price - df_train.price.median())/df_train.price.std()) > 0.30\n",
    "    OutlierAggregated += x.astype(float)\n",
    "    x2 = np.abs((df_test.price - df_train.price.median())/df_train.price.std()) > 0.30\n",
    "    OutlierAggregated2 += x2.astype(float)\n",
    "    x = np.log1p(df_train.price/(df_train.bedrooms.clip(1,3) + df_train.bathrooms.clip(1,2))) > 8.2\n",
    "    OutlierAggregated += x.astype(float)\n",
    "    x2 = np.log1p(df_test.price/(df_test.bedrooms.clip(1,3) + df_test.bathrooms.clip(1,2))) > 8.2\n",
    "    OutlierAggregated2 += x2.astype(float)\n",
    "    x = np.sqrt(((df_train.latitude - df_train.latitude.median())**2) + (df_train.longitude - df_train.longitude.median())**2) > 0.30\n",
    "    OutlierAggregated += x.astype(float)\n",
    "    x2 = np.sqrt(((df_test.latitude - df_train.latitude.median())**2) + (df_test.longitude - df_train.longitude.median())**2) > 0.30\n",
    "    OutlierAggregated2 += x2.astype(float)\n",
    "    df_train['num_OutlierAggregated'] = OutlierAggregated.values\n",
    "    df_test['num_OutlierAggregated'] = OutlierAggregated2.values\n",
    "    \n",
    "#     # Average interest in unique locations at given precision\n",
    "#     x = df_train.groupby('pos')['y'].aggregate(['count', 'mean'])\n",
    "#     d = x.loc[x['count'] >= n_min, 'mean'].to_dict()\n",
    "#     impute = df_train.y.mean()\n",
    "#     df_train['num_pos'] = df_train.pos.apply(lambda x: d.get(x, impute))\n",
    "#     df_test['num_pos'] = df_test.pos.apply(lambda x: d.get(x, impute))\n",
    "    \n",
    "    # Density in unique locations at given precision\n",
    "    vals = df_train['pos'].value_counts()\n",
    "    dvals = vals.to_dict()\n",
    "    df_train['num_pos_density'] = df_train['pos'].apply(lambda x: dvals.get(x, vals.min()))\n",
    "    df_test['num_pos_density'] = df_test['pos'].apply(lambda x: dvals.get(x, vals.min()))\n",
    "\n",
    "    # Building null\n",
    "    df_train['num_building_null'] = (df_train.building_id=='0').astype(float)\n",
    "    df_test['num_building_null'] = (df_test.building_id=='0').astype(float)\n",
    "    \n",
    "#     # Building supervised\n",
    "#     x = df_train.groupby('building_id')['y'].aggregate(['count', 'mean'])\n",
    "#     d = x.loc[x['count'] >= n_min, 'mean'].to_dict()\n",
    "#     impute = df_train.y.mean()\n",
    "#     df_train['num_building_id'] = df_train.building_id.apply(lambda x: d.get(x, impute))\n",
    "#     df_test['num_building_id'] = df_test.building_id.apply(lambda x: d.get(x, impute))\n",
    "    \n",
    "    # Building frequency\n",
    "    d = np.log1p(df_train.building_id.value_counts()).to_dict()\n",
    "    impute = np.min(np.array(list(d.values())))\n",
    "    df_train['num_fbuilding'] = df_train.building_id.apply(lambda x: d.get(x, impute))\n",
    "    df_test['num_fbuilding'] = df_test.building_id.apply(lambda x: d.get(x, impute))\n",
    "    \n",
    "#     # Manager supervised\n",
    "#     x = df_train.groupby('manager_id')['y'].aggregate(['count', 'mean'])\n",
    "#     d = x.loc[x['count'] >= n_min, 'mean'].to_dict()\n",
    "#     impute = df_train.y.mean()\n",
    "#     df_train['num_manager'] = df_train.manager_id.apply(lambda x: d.get(x, impute))\n",
    "#     df_test['num_manager'] = df_test.manager_id.apply(lambda x: d.get(x, impute))\n",
    "\n",
    "    # Manager frequency\n",
    "    d = np.log1p(df_train.manager_id.value_counts()).to_dict()\n",
    "    impute = np.min(np.array(list(d.values())))\n",
    "    df_train['num_fmanager'] = df_train.manager_id.apply(lambda x: d.get(x, impute))\n",
    "    df_test['num_fmanager'] = df_test.manager_id.apply(lambda x: d.get(x, impute))\n",
    "    \n",
    "    # Creation time features\n",
    "    df_train['created'] = pd.to_datetime(df_train.created)\n",
    "    df_train['num_created_weekday'] = df_train.created.dt.dayofweek.astype(float)\n",
    "    df_train['num_created_weekofyear'] = df_train.created.dt.weekofyear\n",
    "    df_train['num_created_day'] = df_train.created.dt.day\n",
    "    df_train['num_created_month'] = df_train.created.dt.month\n",
    "    df_train['num_created_hour'] = df_train.created.dt.hour\n",
    "  \n",
    "    df_test['created'] = pd.to_datetime(df_test.created)\n",
    "    df_test['num_created_weekday'] = df_test.created.dt.dayofweek\n",
    "    df_test['num_created_weekofyear'] = df_test.created.dt.weekofyear\n",
    "    df_test['num_created_day'] = df_test.created.dt.day\n",
    "    df_test['num_created_month'] = df_test.created.dt.month\n",
    "    df_test['num_created_hour'] = df_test.created.dt.hour\n",
    "    \n",
    "    # Bedrooms/Bathrooms/Price\n",
    "    df_train['num_bathrooms'] = df_train.bathrooms.clip_upper(4)\n",
    "    df_test['num_bathrooms'] = df_test.bathrooms.clip_upper(4)\n",
    "    df_train['num_bedrooms'] = df_train.bedrooms.clip_upper(5)\n",
    "    df_test['num_bedrooms'] = df_test.bedrooms.clip_upper(5)\n",
    "    df_train['num_price'] = df_train.price.clip_upper(10000)\n",
    "    df_test['num_price'] = df_test.price.clip_upper(10000)\n",
    "    bins = df_train.price.quantile(np.arange(0.05, 1, 0.05))\n",
    "    df_train['num_price_q'] = np.digitize(df_train.price, bins)\n",
    "    df_test['num_price_q'] = np.digitize(df_test.price, bins)\n",
    "    \n",
    "    # Composite features based on: \n",
    "    # https://www.kaggle.com/arnaldcat/two-sigma-connect-rental-listing-inquiries/a-proxy-for-sqft-and-the-interest-on-1-2-baths\n",
    "    df_train['num_priceXroom'] = (df_train.price / (1 + df_train.bedrooms.clip(1, 4) + 0.5*df_train.bathrooms.clip(0, 2))).values\n",
    "    df_test['num_priceXroom'] = (df_test.price / (1 + df_test.bedrooms.clip(1, 4) + 0.5*df_test.bathrooms.clip(0, 2))).values\n",
    "    df_train['num_even_bathrooms'] = ((np.round(df_train.bathrooms) - df_train.bathrooms)==0).astype(float)\n",
    "    df_test['num_even_bathrooms'] = ((np.round(df_test.bathrooms) - df_test.bathrooms)==0).astype(float)\n",
    "    \n",
    "    # Other features\n",
    "    df_train['num_features'] = df_train.features.apply(lambda x: len(x))\n",
    "    df_test['num_features'] = df_test.features.apply(lambda x: len(x))\n",
    "    df_train['num_photos'] = df_train.photos.apply(lambda x: len(x))\n",
    "    df_test['num_photos'] = df_test.photos.apply(lambda x: len(x))\n",
    "    df_train['num_desc_length'] = df_train.description.str.split(' ').str.len()\n",
    "    df_test['num_desc_length'] = df_test.description.str.split(' ').str.len()\n",
    "    df_train['num_desc_length_null'] = (df_train.description.str.len()==0).astype(float)\n",
    "    df_test['num_desc_length_null'] = (df_test.description.str.len()==0).astype(float)\n",
    "    \n",
    "#     # Features/Description Features\n",
    "#     bows = {'nofee': ['no fee', 'no-fee', 'no  fee', 'nofee', 'no_fee'],\n",
    "#             'lowfee': ['reduced_fee', 'low_fee','reduced fee', 'low fee'],\n",
    "#             'furnished': ['furnished'],\n",
    "#             'parquet': ['parquet', 'hardwood'],\n",
    "#             'concierge': ['concierge', 'doorman', 'housekeep','in_super'],\n",
    "#             'prewar': ['prewar', 'pre_war', 'pre war', 'pre-war'],\n",
    "#             'laundry': ['laundry', 'lndry'],\n",
    "#             'health': ['health', 'gym', 'fitness', 'training'],\n",
    "#             'transport': ['train', 'subway', 'transport'],\n",
    "#             'parking': ['parking'],\n",
    "#             'utilities': ['utilities', 'heat water', 'water included']\n",
    "#           }\n",
    "#     for fname, bow in bows.items():\n",
    "#         x1 = df_train.description.str.lower().apply(lambda x: np.sum([1 for i in bow if i in x]))\n",
    "#         x2 = df_train.features.apply(lambda x: np.sum([1 for i in bow if i in ' '.join(x).lower()]))\n",
    "#         df_train['num_'+fname] = ((x1 + x2) > 0).astype(float).values\n",
    "#         x1 = df_test.description.str.lower().apply(lambda x: np.sum([1 for i in bow if i in x]))\n",
    "#         x2 = df_test.features.apply(lambda x: np.sum([1 for i in bow if i in ' '.join(x).lower()]))\n",
    "#         df_test['num_'+fname] = ((x1 + x2) > 0).astype(float).values\n",
    "\n",
    "    return df_train, df_test"
   ]
  },
  {
   "cell_type": "code",
   "execution_count": 12,
   "metadata": {
    "collapsed": false
   },
   "outputs": [],
   "source": [
    "df = pd.read_json('../input/train.json')\n",
    "df_test = pd.read_json('../input/test.json')\n",
    "df['created'] = pd.to_datetime(df.created)\n",
    "df_test['created'] = pd.to_datetime(df_test.created)\n",
    "\n",
    "\n",
    "df_test.loc[df_test.bathrooms == 112.0,'bathrooms'] = 1.5    \n",
    "df_test.loc[df_test.bathrooms == 20.0,'bathrooms'] = 2.0\n",
    "df_test.loc[14609,'bedrooms'] = 3\n",
    "df_test.loc[57733,'bedrooms'] = 6"
   ]
  },
  {
   "cell_type": "code",
   "execution_count": 13,
   "metadata": {
    "collapsed": false,
    "scrolled": true
   },
   "outputs": [],
   "source": [
    "# Get relevant features\n",
    "df, df_test = basic_preprocess(df, df_test, n_min=15, precision=3)"
   ]
  },
  {
   "cell_type": "code",
   "execution_count": 14,
   "metadata": {
    "collapsed": false
   },
   "outputs": [],
   "source": [
    "# Make target integer, one hot encoded, calculate target priors\n",
    "# X_train = X_train.replace({\"interest_level\": {\"low\": 0, \"medium\": 1, \"high\": 2}})\n",
    "df = df.join(pd.get_dummies(df[\"y\"].astype(int), prefix=\"pred\").astype(int))\n",
    "prior_0, prior_1, prior_2 = df[[\"pred_0\", \"pred_1\", \"pred_2\"]].mean()"
   ]
  },
  {
   "cell_type": "code",
   "execution_count": 15,
   "metadata": {
    "collapsed": false
   },
   "outputs": [],
   "source": [
    "# Special designation for pos with only 1 observation\n",
    "df, df_test = designate_single_observations(df, df_test, 'pos')"
   ]
  },
  {
   "cell_type": "code",
   "execution_count": 16,
   "metadata": {
    "collapsed": false
   },
   "outputs": [],
   "source": [
    "# High-Cardinality Categorical encoding\n",
    "skf = StratifiedKFold(5)\n",
    "attributes = product((['pos']), zip((\"pred_1\", \"pred_2\"), (prior_1, prior_2)))\n",
    "for variable, (target, prior) in attributes:\n",
    "    hcc_encode(df, df_test, variable, target, prior, k=5, r_k=None)\n",
    "    for train, test in skf.split(np.zeros(len(df)), df['y']):\n",
    "        hcc_encode(df.iloc[train], df.iloc[test], variable, target, prior, k=5, r_k=0.01, update_df=df)"
   ]
  },
  {
   "cell_type": "code",
   "execution_count": 17,
   "metadata": {
    "collapsed": false
   },
   "outputs": [
    {
     "name": "stdout",
     "output_type": "stream",
     "text": [
      "Done!\n"
     ]
    }
   ],
   "source": [
    "dftemp = df.copy()\n",
    "for i in ['latitude', 'longitude']:\n",
    "    while(1):\n",
    "        x = dftemp[i].median()\n",
    "        ix = abs(dftemp[i] - x) > 3*dftemp[i].std()\n",
    "        if ix.sum()==0:\n",
    "            break\n",
    "        dftemp.loc[ix, i] = np.nan\n",
    "dftemp = dftemp.loc[dftemp[['latitude', 'longitude']].isnull().sum(1) == 0, :]\n",
    "\n",
    "dfm = DataFrameMapper([(['latitude'], [StandardScaler()]), (['longitude'], [StandardScaler()])])\n",
    "\n",
    "for i in [6,40]:\n",
    "    pipe_location = make_pipeline(dfm, KMeans(n_clusters=i, random_state=1))\n",
    "    pipe_location.fit(dftemp);\n",
    "    df['location_'+str(i)] = pipe_location.predict(df).astype(str)\n",
    "    df_test['location_'+str(i)] = pipe_location.predict(df_test).astype(str)\n",
    "for i in df.location_6.unique():\n",
    "    df['num_location_6_'+str(i)] = (df.location_6==i).astype(float)\n",
    "    df_test['num_location_6_'+str(i)] = (df_test.location_6==i).astype(float)\n",
    "for i in df.location_40.unique():\n",
    "    df['num_location_40_'+str(i)] = (df.location_40==i).astype(float)\n",
    "    df_test['num_location_40_'+str(i)] = (df_test.location_40==i).astype(float)\n",
    "print 'Done!'"
   ]
  },
  {
   "cell_type": "code",
   "execution_count": 18,
   "metadata": {
    "collapsed": true
   },
   "outputs": [],
   "source": [
    "df['tmp_bathrooms'] = df.bathrooms.clip_upper(2)\n",
    "df_test['tmp_bathrooms'] = df_test.bathrooms.clip_upper(2)\n",
    "df['tmp_bedrooms'] = df.bedrooms.clip_upper(4)\n",
    "df_test['tmp_bedrooms'] = df_test.bedrooms.clip_upper(4)\n",
    "df['roomcal'] = df.tmp_bedrooms.astype(str) + '_' + df.tmp_bathrooms.astype(str)    \n",
    "df_test['roomcal'] = df_test.tmp_bedrooms.astype(str) + '_' + df_test.tmp_bathrooms.astype(str)    \n",
    "\n",
    "room_lb = LabelBinarizer()\n",
    "room_lb.fit(df['roomcal'])\n",
    "room_col = ['num_room_type_' + str(x) for x in range(len(df['roomcal'].unique()))]"
   ]
  },
  {
   "cell_type": "code",
   "execution_count": 19,
   "metadata": {
    "collapsed": false
   },
   "outputs": [],
   "source": [
    "room_col = ['num_room_type_' + str(x) for x in range(len(df['roomcal'].unique()))]\n",
    "df = df.join(pd.DataFrame(room_lb.transform(df['roomcal']),columns=room_col,index=df.index))\n",
    "df_test = df_test.join(pd.DataFrame(room_lb.transform(df_test['roomcal']),columns=room_col,index=df_test.index))"
   ]
  },
  {
   "cell_type": "code",
   "execution_count": 20,
   "metadata": {
    "collapsed": false,
    "scrolled": true
   },
   "outputs": [],
   "source": [
    "# room cal + location VS price\n",
    "\n",
    "tmp = df.groupby(['roomcal','location_6'])['num_price'].median().\\\n",
    "            reset_index().rename(columns={'num_price':'num_6_median_price'})\n",
    "    \n",
    "df = df.merge(tmp,on=['roomcal','location_6'],how='left')\n",
    "df_test = df_test.merge(tmp,on=['roomcal','location_6'],how='left')\n",
    "\n",
    "df_test.loc[27462,'num_6_median_price'] =  7200.0\n",
    "\n",
    "df['num_6_price_ratio'] = df['num_price'] / df['num_6_median_price']\n",
    "df['num_6_price_diff'] = df['num_price'] - df['num_6_median_price']\n",
    "df_test['num_6_price_ratio'] = df_test['num_price'] / df_test['num_6_median_price']\n",
    "df_test['num_6_price_diff'] = df_test['num_price'] - df_test['num_6_median_price']\n",
    "\n",
    "tmp = df.groupby(['roomcal','location_40'])['num_price'].median().\\\n",
    "            reset_index().rename(columns={'num_price':'num_loc_median_price'})\n",
    "    \n",
    "df = df.merge(tmp,on=['roomcal','location_40'],how='left')\n",
    "df_test = df_test.merge(tmp,on=['roomcal','location_40'],how='left')\n",
    "\n",
    "# introduced NaN in 'num_loc_price_diff' before!!!\n",
    "nul_ind = df_test.num_loc_median_price.isnull()\n",
    "df_test.loc[nul_ind,['num_loc_median_price']] = \\\n",
    "    df_test.loc[nul_ind,['num_6_median_price']].values\n",
    "                \n",
    "df['num_loc_price_ratio'] = df['num_price'] / df['num_loc_median_price']\n",
    "df['num_loc_price_diff'] = df['num_price'] - df['num_loc_median_price']\n",
    "df_test['num_loc_price_ratio'] = df_test['num_price'] / df_test['num_loc_median_price']\n",
    "df_test['num_loc_price_diff'] = df_test['num_price'] - df_test['num_loc_median_price']\n",
    "\n",
    "\n",
    "\n",
    "\n",
    "df['num_loc_ratio'] = df['num_6_median_price'] / df['num_loc_median_price']\n",
    "df['num_loc_diff'] = df['num_6_median_price'] - df['num_loc_median_price']\n",
    "df_test['num_loc_ratio'] = df_test['num_6_median_price'] / df_test['num_loc_median_price']\n",
    "df_test['num_loc_diff'] = df_test['num_6_median_price'] - df_test['num_loc_median_price']"
   ]
  },
  {
   "cell_type": "code",
   "execution_count": 23,
   "metadata": {
    "collapsed": false
   },
   "outputs": [
    {
     "data": {
      "text/plain": [
       "array([u'bathrooms', u'bedrooms', u'building_id', u'created',\n",
       "       u'description', u'display_address', u'features', u'interest_level',\n",
       "       u'latitude', u'listing_id', u'longitude', u'manager_id', u'photos',\n",
       "       u'price', u'street_address', 'y', 'num_latitude', 'num_longitude',\n",
       "       'num_dist_from_center', 'pos', 'num_OutlierAggregated',\n",
       "       'num_pos_density', 'num_building_null', 'num_fbuilding',\n",
       "       'num_fmanager', 'num_created_weekday', 'num_created_weekofyear',\n",
       "       'num_created_day', 'num_created_month', 'num_created_hour',\n",
       "       'num_bathrooms', 'num_bedrooms', 'num_price', 'num_price_q',\n",
       "       'num_priceXroom', 'num_even_bathrooms', 'num_features',\n",
       "       'num_photos', 'num_desc_length', 'num_desc_length_null', 'pred_0',\n",
       "       'pred_1', 'pred_2', 'hcc_pos_pred_1', 'hcc_pos_pred_2',\n",
       "       'location_6', 'location_40', 'num_location_6_3', 'num_location_6_1',\n",
       "       'num_location_6_0', 'num_location_6_5', 'num_location_6_4',\n",
       "       'num_location_6_2', 'num_location_40_18', 'num_location_40_31',\n",
       "       'num_location_40_11', 'num_location_40_24', 'num_location_40_14',\n",
       "       'num_location_40_36', 'num_location_40_3', 'num_location_40_7',\n",
       "       'num_location_40_33', 'num_location_40_5', 'num_location_40_37',\n",
       "       'num_location_40_12', 'num_location_40_16', 'num_location_40_2',\n",
       "       'num_location_40_20', 'num_location_40_34', 'num_location_40_9',\n",
       "       'num_location_40_0', 'num_location_40_21', 'num_location_40_26',\n",
       "       'num_location_40_13', 'num_location_40_25', 'num_location_40_32',\n",
       "       'num_location_40_19', 'num_location_40_17', 'num_location_40_4',\n",
       "       'num_location_40_15', 'num_location_40_35', 'num_location_40_22',\n",
       "       'num_location_40_30', 'num_location_40_1', 'num_location_40_23',\n",
       "       'num_location_40_10', 'num_location_40_38', 'num_location_40_28',\n",
       "       'num_location_40_6', 'num_location_40_29', 'num_location_40_27',\n",
       "       'num_location_40_39', 'num_location_40_8', 'tmp_bathrooms',\n",
       "       'tmp_bedrooms', 'roomcal', 'num_room_type_0', 'num_room_type_1',\n",
       "       'num_room_type_2', 'num_room_type_3', 'num_room_type_4',\n",
       "       'num_room_type_5', 'num_room_type_6', 'num_room_type_7',\n",
       "       'num_room_type_8', 'num_room_type_9', 'num_room_type_10',\n",
       "       'num_room_type_11', 'num_room_type_12', 'num_room_type_13',\n",
       "       'num_room_type_14', 'num_room_type_15', 'num_room_type_16',\n",
       "       'num_room_type_17', 'num_room_type_18', 'num_room_type_19',\n",
       "       'num_6_median_price', 'num_6_price_ratio', 'num_6_price_diff',\n",
       "       'num_loc_median_price', 'num_loc_price_ratio', 'num_loc_price_diff',\n",
       "       'num_loc_ratio', 'num_loc_diff'], dtype=object)"
      ]
     },
     "execution_count": 23,
     "metadata": {},
     "output_type": "execute_result"
    }
   ],
   "source": [
    "df.columns.values"
   ]
  },
  {
   "cell_type": "code",
   "execution_count": 24,
   "metadata": {
    "collapsed": false
   },
   "outputs": [],
   "source": [
    "feats = [i for i in df.columns.values if i.startswith('num_')]\n",
    "feats.append('listing_id')\n",
    "feats.extend(['hcc_pos_pred_1', 'hcc_pos_pred_2'])"
   ]
  },
  {
   "cell_type": "code",
   "execution_count": 25,
   "metadata": {
    "collapsed": false
   },
   "outputs": [
    {
     "name": "stdout",
     "output_type": "stream",
     "text": [
      "(49352, 100) (74659, 100)\n"
     ]
    }
   ],
   "source": [
    "x_train = df[feats]\n",
    "x_test = df_test[feats]\n",
    "print x_train.shape, x_test.shape"
   ]
  },
  {
   "cell_type": "code",
   "execution_count": 26,
   "metadata": {
    "collapsed": false
   },
   "outputs": [
    {
     "data": {
      "text/plain": [
       "array([u'bathrooms', u'bedrooms', u'building_id', u'display_address',\n",
       "       u'interest_level', u'latitude', u'listing_id', u'longitude',\n",
       "       u'manager_id', u'price', u'street_address', 'num_photo_count',\n",
       "       'num_desc_wordcount', 'num_pricePerBed', 'num_pricePerBath',\n",
       "       'num_pricePerRoom', 'num_bedPerBath', 'num_bedBathDiff',\n",
       "       'num_bedBathSum', 'num_bedsPerc', 'hcc_building_id_pred_1',\n",
       "       'hcc_building_id_pred_2', 'hcc_manager_id_pred_1',\n",
       "       'hcc_manager_id_pred_2', u'feature_1_month_free',\n",
       "       u'feature_24/7_concierge', u'feature_24/7_doorman',\n",
       "       u'feature_24/7_doorman_concierge', u'feature_actual_apt._photos',\n",
       "       u'feature_air_conditioning', u'feature_all_pets_ok',\n",
       "       u'feature_all_utilities_included',\n",
       "       u'feature_assigned-parking-space', u'feature_attended_lobby',\n",
       "       u'feature_backyard', u'feature_balcony',\n",
       "       u'feature_basement_storage', u'feature_basketball_court',\n",
       "       u'feature_bike_room', u'feature_bike_storage',\n",
       "       u'feature_billiards_room', u'feature_billiards_table_and_wet_bar',\n",
       "       u'feature_brand_new', u'feature_breakfast_bar', u'feature_bright',\n",
       "       u'feature_brownstone', u'feature_building-common-outdoor-space',\n",
       "       u'feature_business_center', u'feature_cable/satellite_tv',\n",
       "       u'feature_cable_ready',\n",
       "       u'feature_call/text_abraham_caro_@_917-373-0862',\n",
       "       u'feature_cats_allowed', u'feature_central_a/c',\n",
       "       u'feature_central_ac', u'feature_central_air',\n",
       "       u'feature_chefs_kitchen', u\"feature_children's_playroom\",\n",
       "       u'feature_childrens_playroom', u'feature_cinema_room',\n",
       "       u'feature_city_view', u'feature_close_to_subway',\n",
       "       u'feature_closets_galore!',\n",
       "       u'feature_club_sun_deck_has_spectacular_city_and_river_views',\n",
       "       u'feature_cold_storage', u'feature_common_backyard',\n",
       "       u'feature_common_garden', u'feature_common_outdoor_space',\n",
       "       u'feature_common_parking/garage', u'feature_common_roof_deck',\n",
       "       u'feature_common_storage', u'feature_common_terrace',\n",
       "       u'feature_community_recreation_facilities',\n",
       "       u'feature_complimentary_sunday_brunch', u'feature_concierge',\n",
       "       u'feature_concierge_service', u'feature_condo_finishes',\n",
       "       u'feature_courtyard', u'feature_crown_moldings', u'feature_deck',\n",
       "       u'feature_deco_brick_wall', u'feature_decorative_fireplace',\n",
       "       u'feature_dining_room', u'feature_dishwasher',\n",
       "       u'feature_dogs_allowed', u'feature_doorman',\n",
       "       u'feature_dry_cleaning_service', u'feature_dryer_in_unit',\n",
       "       u'feature_duplex', u'feature_duplex_lounge',\n",
       "       u'feature_eat-in_kitchen', u'feature_eat_in_kitchen',\n",
       "       u'feature_elegant_glass-enclosed_private_lounge_with_magnificent_river_views',\n",
       "       u'feature_elevator', u'feature_exclusive',\n",
       "       u'feature_exercise/yoga_studio', u'feature_exposed_brick',\n",
       "       u'feature_extra_room', u'feature_fireplace', u'feature_fireplaces',\n",
       "       u'feature_fitness_center', u'feature_fitness_room',\n",
       "       u'feature_flex-2', u'feature_flex-3',\n",
       "       u'feature_free_wifi_in_club_lounge', u'feature_ft_doorman',\n",
       "       u'feature_full-time_doorman', u'feature_full_service_garage',\n",
       "       u'feature_fully-equipped_club_fitness_center',\n",
       "       u'feature_fully__equipped', u'feature_furnished',\n",
       "       u'feature_game_room', u'feature_garage',\n",
       "       u'feature_garbage_disposal', u'feature_garden',\n",
       "       u'feature_garden/patio', u'feature_granite_countertops',\n",
       "       u'feature_granite_kitchen', u'feature_green_building',\n",
       "       u'feature_guarantors_accepted', u'feature_gut_renovated',\n",
       "       u'feature_gym', u'feature_gym/fitness', u'feature_gym_in_building',\n",
       "       u'feature_hardwood', u'feature_hardwood_floors',\n",
       "       u'feature_health_club', u'feature_hi_rise',\n",
       "       u'feature_high-speed_internet', u'feature_high_ceiling',\n",
       "       u'feature_high_ceilings', u'feature_high_speed_internet',\n",
       "       u'feature_highrise', u'feature_housekeeping_service',\n",
       "       u'feature_in-unit_washer/dryer', u'feature_indoor_pool',\n",
       "       u'feature_intercom', u'feature_jacuzzi',\n",
       "       u'feature_large_living_room', u'feature_laundry',\n",
       "       u'feature_laundry_&_housekeeping', u'feature_laundry_in_building',\n",
       "       u'feature_laundry_in_unit', u'feature_laundry_on_every_floor',\n",
       "       u'feature_laundry_on_floor', u'feature_laundry_room',\n",
       "       u'feature_light', u'feature_live-in_super',\n",
       "       u'feature_live-in_superintendent', u'feature_live/work',\n",
       "       u'feature_live_in_super', u'feature_loft', u'feature_lounge',\n",
       "       u'feature_lounge_room', u'feature_lowrise',\n",
       "       u'feature_luxury_building', u'feature_magnificent_venetian-style',\n",
       "       u'feature_mail_room', u'feature_marble_bath',\n",
       "       u'feature_marble_bathroom', u'feature_media_room',\n",
       "       u'feature_media_screening_room', u'feature_microwave',\n",
       "       u'feature_midrise', u'feature_multi-level',\n",
       "       u'feature_new_construction', u'feature_newly_renovated',\n",
       "       u'feature_no_fee', u'feature_no_pets',\n",
       "       u'feature_on-site_atm_machine', u'feature_on-site_attended_garage',\n",
       "       u'feature_on-site_garage', u'feature_on-site_laundry',\n",
       "       u'feature_on-site_lifestyle_concierge_by_luxury_attach\\xe9',\n",
       "       u'feature_on-site_parking', u'feature_on-site_parking_available',\n",
       "       u'feature_on-site_parking_lot', u'feature_on-site_super',\n",
       "       u'feature_one_month_free', u'feature_outdoor_areas',\n",
       "       u'feature_outdoor_entertainment_space', u'feature_outdoor_pool',\n",
       "       u'feature_outdoor_roof_deck_overlooking_new_york_harbor_and_battery_park',\n",
       "       u'feature_outdoor_space', u'feature_package_room',\n",
       "       u'feature_parking', u'feature_parking_available',\n",
       "       u'feature_parking_space', u'feature_part-time_doorman',\n",
       "       u'feature_party_room', u'feature_patio', u'feature_penthouse',\n",
       "       u'feature_pet_friendly', u'feature_pets', u'feature_pets_allowed',\n",
       "       u'feature_pets_on_approval', u'feature_playroom',\n",
       "       u'feature_playroom/nursery', u'feature_pool', u'feature_post-war',\n",
       "       u'feature_post_war', u'feature_pre-war', u'feature_pre_war',\n",
       "       u'feature_prewar', u'feature_private-balcony',\n",
       "       u'feature_private-outdoor-space', u'feature_private_backyard',\n",
       "       u'feature_private_balcony', u'feature_private_deck',\n",
       "       u'feature_private_garden',\n",
       "       u'feature_private_laundry_room_on_every_floor',\n",
       "       u'feature_private_outdoor_space', u'feature_private_parking',\n",
       "       u'feature_private_roof_deck', u'feature_private_roofdeck',\n",
       "       u'feature_private_terrace', u'feature_publicoutdoor',\n",
       "       u'feature_queen_size_bedrooms', u'feature_queen_sized_rooms',\n",
       "       u'feature_reduced_fee', u'feature_renovated',\n",
       "       u'feature_renovated_kitchen', u'feature_residents_garden',\n",
       "       u'feature_residents_lounge', u'feature_roof-deck',\n",
       "       u'feature_roof_access', u'feature_roof_deck',\n",
       "       u'feature_roof_deck_with_grills', u'feature_roofdeck',\n",
       "       u'feature_rooftop_deck', u'feature_rooftop_terrace',\n",
       "       u'feature_s/s_appliances', u'feature_sauna',\n",
       "       u'feature_screening_room', u'feature_separate_kitchen',\n",
       "       u'feature_shared_backyard', u'feature_shared_garden',\n",
       "       u'feature_shares_ok', u'feature_short_term_allowed',\n",
       "       u'feature_simplex', u'feature_skylight', u'feature_skylight_atrium',\n",
       "       u'feature_southern_exposure', u'feature_spa_services',\n",
       "       u'feature_ss_appliances', u'feature_stainless_steel',\n",
       "       u'feature_stainless_steel_appliances',\n",
       "       u'feature_state-of-the-art_fitness_center', u'feature_storage',\n",
       "       u'feature_storage_available',\n",
       "       u'feature_storage_facilities_available', u'feature_storage_room',\n",
       "       u'feature_sublet', u'feature_subway', u'feature_sundeck',\n",
       "       u'feature_swimming_pool', u'feature_tenant_lounge',\n",
       "       u'feature_terrace', u'feature_terraces_/_balconies',\n",
       "       u'feature_tons_of_natural_light', u'feature_valet',\n",
       "       u'feature_valet_parking', u'feature_valet_service',\n",
       "       u'feature_valet_services',\n",
       "       u'feature_valet_services_including_dry_cleaning',\n",
       "       u'feature_video_intercom', u'feature_view',\n",
       "       u'feature_virtual_doorman', u'feature_virtual_tour',\n",
       "       u'feature_walk-in_closet', u'feature_walk-up',\n",
       "       u'feature_walk_in_closet', u'feature_walk_in_closet(s)',\n",
       "       u'feature_washer/dryer', u'feature_washer/dryer_hookup',\n",
       "       u'feature_washer/dryer_in-unit',\n",
       "       u'feature_washer/dryer_in_building',\n",
       "       u'feature_washer/dryer_in_unit', u'feature_washer_&_dryer',\n",
       "       u'feature_washer_in_unit', u'feature_wheelchair_access',\n",
       "       u'feature_wheelchair_ramp', u'feature_wifi', u'feature_wifi_access',\n",
       "       u'feature_wood-burning_fireplace', u'feature_yard',\n",
       "       u'feature_yoga_classes'], dtype=object)"
      ]
     },
     "execution_count": 26,
     "metadata": {},
     "output_type": "execute_result"
    }
   ],
   "source": [
    "X_train.columns.values"
   ]
  },
  {
   "cell_type": "code",
   "execution_count": 27,
   "metadata": {
    "collapsed": true
   },
   "outputs": [],
   "source": [
    "X_train_feature = ['building_id','display_address','listing_id','manager_id','street_address',\n",
    "                   'num_pricePerBed', 'num_pricePerBath',\n",
    "       'num_pricePerRoom', 'num_bedPerBath', 'num_bedBathDiff',\n",
    "       'num_bedBathSum', 'num_bedsPerc', \n",
    "                   'hcc_building_id_pred_1','hcc_building_id_pred_2', \n",
    "                   'hcc_manager_id_pred_1','hcc_manager_id_pred_2',\n",
    "                   u'feature_1_month_free',\n",
    "       u'feature_24/7_concierge', u'feature_24/7_doorman',\n",
    "       u'feature_24/7_doorman_concierge', u'feature_actual_apt._photos',\n",
    "       u'feature_air_conditioning', u'feature_all_pets_ok',\n",
    "       u'feature_all_utilities_included',\n",
    "       u'feature_assigned-parking-space', u'feature_attended_lobby',\n",
    "       u'feature_backyard', u'feature_balcony',\n",
    "       u'feature_basement_storage', u'feature_basketball_court',\n",
    "       u'feature_bike_room', u'feature_bike_storage',\n",
    "       u'feature_billiards_room', u'feature_billiards_table_and_wet_bar',\n",
    "       u'feature_brand_new', u'feature_breakfast_bar', u'feature_bright',\n",
    "       u'feature_brownstone', u'feature_building-common-outdoor-space',\n",
    "       u'feature_business_center', u'feature_cable/satellite_tv',\n",
    "       u'feature_cable_ready',\n",
    "       u'feature_call/text_abraham_caro_@_917-373-0862',\n",
    "       u'feature_cats_allowed', u'feature_central_a/c',\n",
    "       u'feature_central_ac', u'feature_central_air',\n",
    "       u'feature_chefs_kitchen', u\"feature_children's_playroom\",\n",
    "       u'feature_childrens_playroom', u'feature_cinema_room',\n",
    "       u'feature_city_view', u'feature_close_to_subway',\n",
    "       u'feature_closets_galore!',\n",
    "       u'feature_club_sun_deck_has_spectacular_city_and_river_views',\n",
    "       u'feature_cold_storage', u'feature_common_backyard',\n",
    "       u'feature_common_garden', u'feature_common_outdoor_space',\n",
    "       u'feature_common_parking/garage', u'feature_common_roof_deck',\n",
    "       u'feature_common_storage', u'feature_common_terrace',\n",
    "       u'feature_community_recreation_facilities',\n",
    "       u'feature_complimentary_sunday_brunch', u'feature_concierge',\n",
    "       u'feature_concierge_service', u'feature_condo_finishes',\n",
    "       u'feature_courtyard', u'feature_crown_moldings', u'feature_deck',\n",
    "       u'feature_deco_brick_wall', u'feature_decorative_fireplace',\n",
    "       u'feature_dining_room', u'feature_dishwasher',\n",
    "       u'feature_dogs_allowed', u'feature_doorman',\n",
    "       u'feature_dry_cleaning_service', u'feature_dryer_in_unit',\n",
    "       u'feature_duplex', u'feature_duplex_lounge',\n",
    "       u'feature_eat-in_kitchen', u'feature_eat_in_kitchen',\n",
    "       u'feature_elegant_glass-enclosed_private_lounge_with_magnificent_river_views',\n",
    "       u'feature_elevator', u'feature_exclusive',\n",
    "       u'feature_exercise/yoga_studio', u'feature_exposed_brick',\n",
    "       u'feature_extra_room', u'feature_fireplace', u'feature_fireplaces',\n",
    "       u'feature_fitness_center', u'feature_fitness_room',\n",
    "       u'feature_flex-2', u'feature_flex-3',\n",
    "       u'feature_free_wifi_in_club_lounge', u'feature_ft_doorman',\n",
    "       u'feature_full-time_doorman', u'feature_full_service_garage',\n",
    "       u'feature_fully-equipped_club_fitness_center',\n",
    "       u'feature_fully__equipped', u'feature_furnished',\n",
    "       u'feature_game_room', u'feature_garage',\n",
    "       u'feature_garbage_disposal', u'feature_garden',\n",
    "       u'feature_garden/patio', u'feature_granite_countertops',\n",
    "       u'feature_granite_kitchen', u'feature_green_building',\n",
    "       u'feature_guarantors_accepted', u'feature_gut_renovated',\n",
    "       u'feature_gym', u'feature_gym/fitness', u'feature_gym_in_building',\n",
    "       u'feature_hardwood', u'feature_hardwood_floors',\n",
    "       u'feature_health_club', u'feature_hi_rise',\n",
    "       u'feature_high-speed_internet', u'feature_high_ceiling',\n",
    "       u'feature_high_ceilings', u'feature_high_speed_internet',\n",
    "       u'feature_highrise', u'feature_housekeeping_service',\n",
    "       u'feature_in-unit_washer/dryer', u'feature_indoor_pool',\n",
    "       u'feature_intercom', u'feature_jacuzzi',\n",
    "       u'feature_large_living_room', u'feature_laundry',\n",
    "       u'feature_laundry_&_housekeeping', u'feature_laundry_in_building',\n",
    "       u'feature_laundry_in_unit', u'feature_laundry_on_every_floor',\n",
    "       u'feature_laundry_on_floor', u'feature_laundry_room',\n",
    "       u'feature_light', u'feature_live-in_super',\n",
    "       u'feature_live-in_superintendent', u'feature_live/work',\n",
    "       u'feature_live_in_super', u'feature_loft', u'feature_lounge',\n",
    "       u'feature_lounge_room', u'feature_lowrise',\n",
    "       u'feature_luxury_building', u'feature_magnificent_venetian-style',\n",
    "       u'feature_mail_room', u'feature_marble_bath',\n",
    "       u'feature_marble_bathroom', u'feature_media_room',\n",
    "       u'feature_media_screening_room', u'feature_microwave',\n",
    "       u'feature_midrise', u'feature_multi-level',\n",
    "       u'feature_new_construction', u'feature_newly_renovated',\n",
    "       u'feature_no_fee', u'feature_no_pets',\n",
    "       u'feature_on-site_atm_machine', u'feature_on-site_attended_garage',\n",
    "       u'feature_on-site_garage', u'feature_on-site_laundry',\n",
    "#        u'feature_on-site_lifestyle_concierge_by_luxury_attach\\xe9',\n",
    "       u'feature_on-site_parking', u'feature_on-site_parking_available',\n",
    "       u'feature_on-site_parking_lot', u'feature_on-site_super',\n",
    "       u'feature_one_month_free', u'feature_outdoor_areas',\n",
    "       u'feature_outdoor_entertainment_space', u'feature_outdoor_pool',\n",
    "       u'feature_outdoor_roof_deck_overlooking_new_york_harbor_and_battery_park',\n",
    "       u'feature_outdoor_space', u'feature_package_room',\n",
    "       u'feature_parking', u'feature_parking_available',\n",
    "       u'feature_parking_space', u'feature_part-time_doorman',\n",
    "       u'feature_party_room', u'feature_patio', u'feature_penthouse',\n",
    "       u'feature_pet_friendly', u'feature_pets', u'feature_pets_allowed',\n",
    "       u'feature_pets_on_approval', u'feature_playroom',\n",
    "       u'feature_playroom/nursery', u'feature_pool', u'feature_post-war',\n",
    "       u'feature_post_war', u'feature_pre-war', u'feature_pre_war',\n",
    "       u'feature_prewar', u'feature_private-balcony',\n",
    "       u'feature_private-outdoor-space', u'feature_private_backyard',\n",
    "       u'feature_private_balcony', u'feature_private_deck',\n",
    "       u'feature_private_garden',\n",
    "       u'feature_private_laundry_room_on_every_floor',\n",
    "       u'feature_private_outdoor_space', u'feature_private_parking',\n",
    "       u'feature_private_roof_deck', u'feature_private_roofdeck',\n",
    "       u'feature_private_terrace', u'feature_publicoutdoor',\n",
    "       u'feature_queen_size_bedrooms', u'feature_queen_sized_rooms',\n",
    "       u'feature_reduced_fee', u'feature_renovated',\n",
    "       u'feature_renovated_kitchen', u'feature_residents_garden',\n",
    "       u'feature_residents_lounge', u'feature_roof-deck',\n",
    "       u'feature_roof_access', u'feature_roof_deck',\n",
    "       u'feature_roof_deck_with_grills', u'feature_roofdeck',\n",
    "       u'feature_rooftop_deck', u'feature_rooftop_terrace',\n",
    "       u'feature_s/s_appliances', u'feature_sauna',\n",
    "       u'feature_screening_room', u'feature_separate_kitchen',\n",
    "       u'feature_shared_backyard', u'feature_shared_garden',\n",
    "       u'feature_shares_ok', u'feature_short_term_allowed',\n",
    "       u'feature_simplex', u'feature_skylight', u'feature_skylight_atrium',\n",
    "       u'feature_southern_exposure', u'feature_spa_services',\n",
    "       u'feature_ss_appliances', u'feature_stainless_steel',\n",
    "       u'feature_stainless_steel_appliances',\n",
    "       u'feature_state-of-the-art_fitness_center', u'feature_storage',\n",
    "       u'feature_storage_available',\n",
    "       u'feature_storage_facilities_available', u'feature_storage_room',\n",
    "       u'feature_sublet', u'feature_subway', u'feature_sundeck',\n",
    "       u'feature_swimming_pool', u'feature_tenant_lounge',\n",
    "       u'feature_terrace', u'feature_terraces_/_balconies',\n",
    "       u'feature_tons_of_natural_light', u'feature_valet',\n",
    "       u'feature_valet_parking', u'feature_valet_service',\n",
    "       u'feature_valet_services',\n",
    "       u'feature_valet_services_including_dry_cleaning',\n",
    "       u'feature_video_intercom', u'feature_view',\n",
    "       u'feature_virtual_doorman', u'feature_virtual_tour',\n",
    "       u'feature_walk-in_closet', u'feature_walk-up',\n",
    "       u'feature_walk_in_closet', u'feature_walk_in_closet(s)',\n",
    "       u'feature_washer/dryer', u'feature_washer/dryer_hookup',\n",
    "       u'feature_washer/dryer_in-unit',\n",
    "       u'feature_washer/dryer_in_building',\n",
    "       u'feature_washer/dryer_in_unit', u'feature_washer_&_dryer',\n",
    "       u'feature_washer_in_unit', u'feature_wheelchair_access',\n",
    "       u'feature_wheelchair_ramp', u'feature_wifi', u'feature_wifi_access',\n",
    "       u'feature_wood-burning_fireplace', u'feature_yard',\n",
    "       u'feature_yoga_classes']"
   ]
  },
  {
   "cell_type": "code",
   "execution_count": 28,
   "metadata": {
    "collapsed": false
   },
   "outputs": [
    {
     "name": "stdout",
     "output_type": "stream",
     "text": [
      "(49352, 376)\n",
      "(74659, 376)\n"
     ]
    }
   ],
   "source": [
    "train_X = x_train.merge(X_train[X_train_feature],on='listing_id',how='left')\n",
    "test_X = x_test.merge(X_test[X_train_feature],on='listing_id',how='left')\n",
    "print train_X.shape\n",
    "print test_X.shape"
   ]
  },
  {
   "cell_type": "code",
   "execution_count": 29,
   "metadata": {
    "collapsed": false
   },
   "outputs": [
    {
     "name": "stdout",
     "output_type": "stream",
     "text": [
      "(49352, 322) (74659, 322) (49352L,)\n"
     ]
    }
   ],
   "source": [
    "data_path = \"../input/\"\n",
    "train_X_0322 = pd.read_csv(data_path + 'train_BM_MB_add03052240.csv')\n",
    "test_X_0322 = pd.read_csv(data_path + 'test_BM_MB_add03052240.csv')\n",
    "train_y_0322 = np.ravel(pd.read_csv(data_path + 'labels_BrandenMurray.csv'))\n",
    "sub_id = test_X_0322.listing_id.astype('int32').values\n",
    "# all_features = features_to_use + desc_sparse_cols + feat_sparse_cols\n",
    "print train_X_0322.shape, test_X_0322.shape, train_y_0322.shape"
   ]
  },
  {
   "cell_type": "markdown",
   "metadata": {},
   "source": [
    "train_X_0322.columns.values"
   ]
  },
  {
   "cell_type": "code",
   "execution_count": 30,
   "metadata": {
    "collapsed": true
   },
   "outputs": [],
   "source": [
    "train_X_0322_features = ['building_id_mean_med',\n",
    "       'building_id_mean_high', 'manager_id_mean_med',\n",
    "       'manager_id_mean_high','median_price_bed', 'ratio_bed',\n",
    "#                          'created_month', 'created_hour',\n",
    "       'compound', 'neg', 'neu', 'pos', 'street',\n",
    "       'avenue', 'east', 'west', 'north', 'south', 'other_address',\n",
    "       'top_10_manager', 'top_25_manager', 'top_5_manager',\n",
    "       'top_50_manager', 'top_1_manager', 'top_2_manager',\n",
    "       'top_15_manager', 'top_20_manager', 'top_30_manager',\n",
    "       'Zero_building_id', 'top_10_building', 'top_25_building',\n",
    "       'top_5_building', 'top_50_building', 'top_1_building',\n",
    "       'top_2_building', 'top_15_building', 'top_20_building',\n",
    "       'top_30_building','listing_id']"
   ]
  },
  {
   "cell_type": "code",
   "execution_count": 31,
   "metadata": {
    "collapsed": false
   },
   "outputs": [
    {
     "name": "stdout",
     "output_type": "stream",
     "text": [
      "(49352, 412)\n",
      "(74659, 412)\n"
     ]
    }
   ],
   "source": [
    "train_X_0322 = train_X_0322[train_X_0322_features].merge(train_X,on='listing_id',how='left')\n",
    "test_X_0322 = test_X_0322[train_X_0322_features].merge(test_X,on='listing_id',how='left')\n",
    "\n",
    "print train_X_0322.shape\n",
    "print test_X_0322.shape"
   ]
  },
  {
   "cell_type": "code",
   "execution_count": 33,
   "metadata": {
    "collapsed": false
   },
   "outputs": [
    {
     "name": "stdout",
     "output_type": "stream",
     "text": [
      "(39481, 412)\n",
      "(9871, 412)\n"
     ]
    }
   ],
   "source": [
    "from sklearn.model_selection import train_test_split\n",
    "\n",
    "train_X_new, val_X_new, y_train, y_val = train_test_split(train_X_0322, train_y_0322, train_size=.80, random_state=1234)\n",
    "print train_X_new.shape\n",
    "print val_X_new.shape"
   ]
  },
  {
   "cell_type": "code",
   "execution_count": 34,
   "metadata": {
    "collapsed": false
   },
   "outputs": [
    {
     "name": "stdout",
     "output_type": "stream",
     "text": [
      "[0]\tvalidation_0-mlogloss:1.03163\n",
      "Will train until validation_0-mlogloss hasn't improved in 50 rounds.\n",
      "[25]\tvalidation_0-mlogloss:0.600488\n",
      "[50]\tvalidation_0-mlogloss:0.560549\n",
      "[75]\tvalidation_0-mlogloss:0.548337\n",
      "[100]\tvalidation_0-mlogloss:0.542184\n",
      "[125]\tvalidation_0-mlogloss:0.539399\n",
      "[150]\tvalidation_0-mlogloss:0.537335\n",
      "[175]\tvalidation_0-mlogloss:0.535876\n",
      "[200]\tvalidation_0-mlogloss:0.535486\n",
      "[225]\tvalidation_0-mlogloss:0.535061\n",
      "[250]\tvalidation_0-mlogloss:0.535267\n",
      "[275]\tvalidation_0-mlogloss:0.534973\n",
      "[300]\tvalidation_0-mlogloss:0.535203\n",
      "[325]\tvalidation_0-mlogloss:0.535747\n",
      "Stopping. Best iteration:\n",
      "[276]\tvalidation_0-mlogloss:0.534806\n",
      "\n"
     ]
    },
    {
     "data": {
      "text/plain": [
       "XGBClassifier(base_score=0.5, colsample_bylevel=1, colsample_bytree=1,\n",
       "       gamma=0, learning_rate=0.1, max_delta_step=0, max_depth=6,\n",
       "       min_child_weight=1, missing=None, n_estimators=10000, nthread=-1,\n",
       "       objective='multi:softprob', reg_alpha=0, reg_lambda=1,\n",
       "       scale_pos_weight=1, seed=0, silent=True, subsample=1)"
      ]
     },
     "execution_count": 34,
     "metadata": {},
     "output_type": "execute_result"
    }
   ],
   "source": [
    "import xgboost as xgb\n",
    "\n",
    "rgr = xgb.XGBClassifier(objective = 'multi:softprob',\n",
    "                       learning_rate = 0.1,\n",
    "                       n_estimators = 10000,\n",
    "                       nthread = -1,\n",
    "                       max_depth=6)\n",
    "\n",
    "rgr.fit(train_X_new,y_train,\n",
    "        eval_set=[(val_X_new,y_val)],\n",
    "        eval_metric='mlogloss',\n",
    "#         num_class = 3,\n",
    "        early_stopping_rounds=50,\n",
    "        verbose=25\n",
    "       )"
   ]
  },
  {
   "cell_type": "code",
   "execution_count": null,
   "metadata": {
    "collapsed": true
   },
   "outputs": [],
   "source": [
    "# [271]\tvalidation_0-mlogloss:0.533953"
   ]
  },
  {
   "cell_type": "code",
   "execution_count": 73,
   "metadata": {
    "collapsed": true
   },
   "outputs": [],
   "source": [
    "# [1030]\tvalidation_0-mlogloss:0.534277    394\n",
    "\n",
    "# [915]\tvalidation_0-mlogloss:0.53396  396\n",
    "\n",
    "# [893]\tvalidation_0-mlogloss:0.533652 409"
   ]
  },
  {
   "cell_type": "code",
   "execution_count": 34,
   "metadata": {
    "collapsed": false
   },
   "outputs": [],
   "source": [
    "train_X_0322.to_csv(data_path + 'train_BM_0331.csv',index=False)\n",
    "test_X_0322.to_csv(data_path + 'test_BM_0331.csv',index=False)"
   ]
  },
  {
   "cell_type": "code",
   "execution_count": 36,
   "metadata": {
    "collapsed": false
   },
   "outputs": [
    {
     "data": {
      "text/plain": [
       "array([[  4.65621829e-01,   4.78014857e-01,   5.63633256e-02],\n",
       "       [  9.69607055e-01,   1.60864182e-02,   1.43064726e-02],\n",
       "       [  9.32496428e-01,   6.15736768e-02,   5.92987984e-03],\n",
       "       ..., \n",
       "       [  9.82476592e-01,   1.69446655e-02,   5.78705280e-04],\n",
       "       [  9.67458904e-01,   3.18887234e-02,   6.52391405e-04],\n",
       "       [  6.58273041e-01,   3.22936296e-01,   1.87906120e-02]], dtype=float32)"
      ]
     },
     "execution_count": 36,
     "metadata": {},
     "output_type": "execute_result"
    }
   ],
   "source": [
    "pred_y = rgr.predict_proba(test_X_0322, ntree_limit = rgr.best_iteration)\n",
    "pred_y"
   ]
  },
  {
   "cell_type": "code",
   "execution_count": null,
   "metadata": {
    "collapsed": true
   },
   "outputs": [],
   "source": [
    "test_X_0322.isnull().values.any()"
   ]
  }
 ],
 "metadata": {
  "anaconda-cloud": {},
  "kernelspec": {
   "display_name": "Python [conda root]",
   "language": "python",
   "name": "conda-root-py"
  },
  "language_info": {
   "codemirror_mode": {
    "name": "ipython",
    "version": 2
   },
   "file_extension": ".py",
   "mimetype": "text/x-python",
   "name": "python",
   "nbconvert_exporter": "python",
   "pygments_lexer": "ipython2",
   "version": "2.7.12"
  }
 },
 "nbformat": 4,
 "nbformat_minor": 1
}
