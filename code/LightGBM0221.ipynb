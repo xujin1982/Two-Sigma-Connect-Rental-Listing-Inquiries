{
 "cells": [
  {
   "cell_type": "code",
   "execution_count": 29,
   "metadata": {
    "collapsed": false
   },
   "outputs": [],
   "source": [
    "import pandas as pd\n",
    "import time\n",
    "import numpy as np\n",
    "from sklearn.model_selection import train_test_split, StratifiedKFold, KFold\n",
    "\n",
    "# from sklearn.cross_validation import StratifiedKFold, KFold\n",
    "import random\n",
    "from sklearn import preprocessing\n",
    "import lightgbm as lgb\n",
    "import gc\n",
    "from scipy.stats import skew, boxcox\n",
    "from bayes_opt import BayesianOptimization\n",
    "from scipy import sparse\n",
    "from sklearn.metrics import log_loss\n",
    "from datetime import datetime\n",
    "\n",
    "import matplotlib.pyplot as plt\n",
    "import seaborn as sns\n",
    "%matplotlib inline\n",
    "\n",
    "seed = 2017"
   ]
  },
  {
   "cell_type": "markdown",
   "metadata": {},
   "source": [
    "# Load Data"
   ]
  },
  {
   "cell_type": "code",
   "execution_count": 42,
   "metadata": {
    "collapsed": false
   },
   "outputs": [
    {
     "name": "stdout",
     "output_type": "stream",
     "text": [
      "(49352, 91) (74659, 90)\n"
     ]
    }
   ],
   "source": [
    "train = pd.read_pickle('../input/Data0220/' + 'train_2017-02-20-23-23.pkl')\n",
    "test = pd.read_pickle('../input/Data0220/' + 'test_2017-02-20-23-23.pkl')\n",
    "\n",
    "tr_feat_sparse = pd.read_pickle('../input/Data0220/' + 'tr_feat_sparse_2017-02-20-18-56.pkl')\n",
    "tr_desc_sparse = pd.read_pickle('../input/Data0220/' + 'tr_desc_sparse_2017-02-20-18-56.pkl')\n",
    "te_feat_sparse = pd.read_pickle('../input/Data0220/' + 'te_feat_sparse_2017-02-20-18-56.pkl')\n",
    "te_desc_sparse = pd.read_pickle('../input/Data0220/' + 'te_desc_sparse_2017-02-20-18-56.pkl')\n",
    "\n",
    "feat_sparse_cols = pd.read_pickle('../input/Data0220/' + 'feat_sparse_cols_2017-02-20-18-56.pkl')\n",
    "desc_sparse_cols = pd.read_pickle('../input/Data0220/' + 'desc_sparse_cols_2017-02-20-18-56.pkl')\n",
    "# test_listing = pd.read_pickle('../input/' + 'listing_id.pkl')\n",
    "\n",
    "scaler_cols = pd.read_pickle('../input/Data0220/' + 'scaler_cols_2017-02-20-23-23.pkl')\n",
    "features_to_use = pd.read_pickle('../input/Data0220/' + 'featurestouse_2017-02-20-23-23.pkl')\n",
    "cal_clos = pd.read_pickle('../input/Data0220/' + 'cal_clos_2017-02-20-23-23.pkl')\n",
    "\n",
    "\n",
    "train_y = pd.read_pickle('../input/Data0220/' + 'y_2017-02-20-23-23.pkl') \n",
    "print train.shape, test.shape"
   ]
  },
  {
   "cell_type": "code",
   "execution_count": 43,
   "metadata": {
    "collapsed": false
   },
   "outputs": [],
   "source": [
    "full_data=pd.concat([train,test])\n",
    "\n",
    "SSL = preprocessing.StandardScaler()\n",
    "for col in scaler_cols:\n",
    "    full_data[col], lam = boxcox(full_data[col] - full_data[col].min() + 1)\n",
    "    full_data[col] = SSL.fit_transform(full_data[col].values.reshape(-1,1))    "
   ]
  },
  {
   "cell_type": "code",
   "execution_count": 44,
   "metadata": {
    "collapsed": false
   },
   "outputs": [
    {
     "name": "stdout",
     "output_type": "stream",
     "text": [
      "(49352, 474) (74659, 474)\n"
     ]
    }
   ],
   "source": [
    "# del_cols = ['high_frac', 'low_frac', 'medium_frac', 'manager_skill', 'count']\n",
    "# del_feautres_to_use = list(set(features_to_use) - set(del_cols))\n",
    "\n",
    "# print len(del_feautres_to_use),len(features_to_use)\n",
    "\n",
    "train_size = train_y.shape[0]\n",
    "\n",
    "train_X = np.hstack([full_data[features_to_use][:train_size], tr_desc_sparse.toarray(), tr_feat_sparse.toarray()])\n",
    "test_X = np.hstack([full_data[features_to_use][train_size:], te_desc_sparse.toarray(), te_feat_sparse.toarray()])\n",
    "\n",
    "print train_X.shape, test_X.shape"
   ]
  },
  {
   "cell_type": "code",
   "execution_count": 45,
   "metadata": {
    "collapsed": false,
    "scrolled": true
   },
   "outputs": [],
   "source": [
    "index_low = train[train['interest_level'] == 'low']\n",
    "index_medium = train[train['interest_level'] == 'medium']\n",
    "index_high = train[train['interest_level'] == 'high']"
   ]
  },
  {
   "cell_type": "code",
   "execution_count": 47,
   "metadata": {
    "collapsed": false
   },
   "outputs": [],
   "source": [
    "index_tmp = (list(index_medium.index[:3839])\n",
    "                    +list(index_high.index)\n",
    "                    +list(index_low.index[:3839]))\n",
    "# index_tmp= index_tmp.iloc(np.random.permutation(len(index_tmp)))\n",
    "# index_tmp\n",
    "\n",
    "random.shuffle(index_tmp)"
   ]
  },
  {
   "cell_type": "code",
   "execution_count": 48,
   "metadata": {
    "collapsed": false
   },
   "outputs": [
    {
     "data": {
      "text/plain": [
       "(11517, 474)"
      ]
     },
     "execution_count": 48,
     "metadata": {},
     "output_type": "execute_result"
    }
   ],
   "source": [
    "train_X = train_X[index_tmp,:]\n",
    "train_X.shape"
   ]
  },
  {
   "cell_type": "code",
   "execution_count": 49,
   "metadata": {
    "collapsed": false
   },
   "outputs": [
    {
     "data": {
      "text/plain": [
       "(11517,)"
      ]
     },
     "execution_count": 49,
     "metadata": {},
     "output_type": "execute_result"
    }
   ],
   "source": [
    "\n",
    "y_map = {'low': 2, 'medium': 1, 'high': 0}\n",
    "train_y = train.loc[index_tmp,'interest_level'].apply(lambda x: y_map[x]).values\n",
    "\n",
    "train_y.shape"
   ]
  },
  {
   "cell_type": "code",
   "execution_count": 50,
   "metadata": {
    "collapsed": true
   },
   "outputs": [],
   "source": [
    "cv_dataset = lgb.Dataset(train_X, train_y)"
   ]
  },
  {
   "cell_type": "markdown",
   "metadata": {
    "collapsed": true
   },
   "source": [
    "# Tune LightGBM"
   ]
  },
  {
   "cell_type": "markdown",
   "metadata": {},
   "source": [
    "### num_leaves, default=127, type=int, alias=num_leaf\n",
    "\n",
    "    number of leaves in one tree\n",
    "\n"
   ]
  },
  {
   "cell_type": "code",
   "execution_count": 38,
   "metadata": {
    "collapsed": false,
    "scrolled": true
   },
   "outputs": [
    {
     "name": "stdout",
     "output_type": "stream",
     "text": [
      "8  \t0.40248754561\n",
      "15  \t0.403136003677\n",
      "31  \t0.404238582581\n",
      "63  \t0.407808235517\n",
      "127  \t0.413747282728\n",
      "255  \t0.418215763504\n"
     ]
    }
   ],
   "source": [
    "params = {\n",
    "    'objective': 'multiclass',\n",
    "    'num_class': 3,\n",
    "    'learning_rate': 0.1\n",
    "}\n",
    "params['metrics'] = 'multi_logloss'\n",
    "\n",
    "for x in [8,15,31,63,127,255]:\n",
    "    params['num_leaves'] = x\n",
    "    clf = lgb.cv(params, cv_dataset,\n",
    "                num_boost_round = 100000, nfold =5,\n",
    "#                 metrics = 'multi_logloss',\n",
    "                early_stopping_rounds = 50)\n",
    "\n",
    "\n",
    "    print x, ' \\t', clf.values()[0][-1], len(clf.values()[0])"
   ]
  },
  {
   "cell_type": "code",
   "execution_count": 39,
   "metadata": {
    "collapsed": false
   },
   "outputs": [],
   "source": [
    "params['num_leaves'] = 8"
   ]
  },
  {
   "cell_type": "markdown",
   "metadata": {},
   "source": [
    "### min_child_samples : int, default= 10\n",
    "    Minimum number of data need in a child(leaf)"
   ]
  },
  {
   "cell_type": "code",
   "execution_count": 43,
   "metadata": {
    "collapsed": false
   },
   "outputs": [
    {
     "name": "stdout",
     "output_type": "stream",
     "text": [
      "170  \t0.402026658153\n",
      "180  \t0.402316793701\n",
      "190  \t0.402046150242\n",
      "210  \t0.402081960279\n",
      "220  \t0.402418392348\n",
      "230  \t0.402003675997\n",
      "240  \t0.402353098622\n",
      "260  \t0.403137546434\n",
      "270  \t0.403066734422\n"
     ]
    }
   ],
   "source": [
    "for x in [170,180,190,210,220,230,240,260,270]:\n",
    "#     rgr = lgb.LGBMClassifier(learning_rate=0.1,                             \n",
    "#                              n_estimators=100000,\n",
    "#                              num_leaves=num_leaves,\n",
    "#                              min_child_samples = x)\n",
    "\n",
    "#     rgr.fit(X_train,y_train,\n",
    "#             eval_set=[(X_val,y_val)],\n",
    "#             eval_metric='multi_logloss',\n",
    "#             early_stopping_rounds=50,\n",
    "#             verbose = False)\n",
    "    params['min_child_samples'] = x\n",
    "    clf = lgb.cv(params, cv_dataset,\n",
    "                num_boost_round = 100000, nfold =5,\n",
    "#                 metrics = 'multi_logloss',\n",
    "                early_stopping_rounds = 50)    \n",
    "\n",
    "    print x, ' \\t', clf.values()[0][-1], len(clf.values()[0])"
   ]
  },
  {
   "cell_type": "code",
   "execution_count": 44,
   "metadata": {
    "collapsed": true
   },
   "outputs": [],
   "source": [
    "params['min_child_samples'] = 230\n",
    "# 5    \t0.402637625694\n",
    "# 10  \t0.402637625694\n",
    "# 20  \t0.402637625694\n",
    "# 40  \t0.402533182893\n",
    "# 50  \t0.402753955237\n",
    "# 60  \t0.402259499882\n",
    "# 70  \t0.402136451189\n",
    "# 80  \t0.402399804569\n",
    "# 90  \t0.402513495789\n",
    "# 100  \t0.40248754561\n",
    "# 110  \t0.402281555538\n",
    "# 120  \t0.402461182092\n",
    "# 130  \t0.402056647423\n",
    "# 140  \t0.402437414772\n",
    "# 150  \t0.402321883011\n",
    "# 160  \t0.40264994971\n",
    "# 170  \t0.402026658153\n",
    "# 180  \t0.402316793701\n",
    "# 190  \t0.402046150242\n",
    "# 200  \t0.402114731857\n",
    "# 210  \t0.402081960279\n",
    "# 220  \t0.402418392348\n",
    "# 230  \t0.402003675997\n",
    "# 240  \t0.402353098622\n",
    "# 250  \t0.402856180969\n",
    "# 260  \t0.403137546434\n",
    "# 270  \t0.403066734422"
   ]
  },
  {
   "cell_type": "markdown",
   "metadata": {},
   "source": [
    "### colsample_bytree : float\n",
    "    Subsample ratio of columns when constructing each tree."
   ]
  },
  {
   "cell_type": "code",
   "execution_count": 50,
   "metadata": {
    "collapsed": false
   },
   "outputs": [
    {
     "name": "stdout",
     "output_type": "stream",
     "text": [
      "0.3  \t0.402971847368\n",
      "0.4  \t0.402288144759\n",
      "0.5  \t0.401843532994\n",
      "0.6  \t0.401918978576\n",
      "0.7  \t0.402097982832\n",
      "0.8  \t0.402404102067\n",
      "0.9  \t0.402258495948\n"
     ]
    }
   ],
   "source": [
    "for x in [0.3,0.4,0.5,0.6,0.7,0.8,0.9]:\n",
    "#     rgr = lgb.LGBMClassifier(learning_rate=0.1,                             \n",
    "#                              n_estimators=100000,\n",
    "#                              num_leaves=num_leaves,\n",
    "#                              min_child_samples = min_child_samples,\n",
    "#                              colsample_bytree = x)\n",
    "\n",
    "#     rgr.fit(X_train,y_train,\n",
    "#             eval_set=[(X_val,y_val)],\n",
    "#             eval_metric='multi_logloss',\n",
    "#             early_stopping_rounds=50,\n",
    "#             verbose = False)\n",
    "\n",
    "    params['colsample_bytree'] = x\n",
    "    clf = lgb.cv(params, cv_dataset,\n",
    "                num_boost_round = 100000, nfold =5,\n",
    "#                 metrics = 'multi_logloss',\n",
    "                early_stopping_rounds = 50)    \n",
    "\n",
    "    print x, ' \\t', clf.values()[0][-1], len(clf.values()[0])\n",
    "    "
   ]
  },
  {
   "cell_type": "code",
   "execution_count": 51,
   "metadata": {
    "collapsed": true
   },
   "outputs": [],
   "source": [
    "params['colsample_bytree'] = 0.5"
   ]
  },
  {
   "cell_type": "markdown",
   "metadata": {},
   "source": [
    "### subsample : float\n",
    "    Subsample ratio of the training instance."
   ]
  },
  {
   "cell_type": "code",
   "execution_count": 62,
   "metadata": {
    "collapsed": false
   },
   "outputs": [
    {
     "name": "stdout",
     "output_type": "stream",
     "text": [
      "0.5  \t0.406650096173 409\n",
      "0.6  \t0.405685521077 388\n",
      "0.7  \t0.404601097921 399\n",
      "0.8  \t0.403444443167 456\n",
      "0.9  \t0.402641262952 434\n"
     ]
    }
   ],
   "source": [
    "params['subsample_freq'] = 1\n",
    "for x in [0.5,0.6,0.7,0.8,0.9]:\n",
    "#     rgr = lgb.LGBMClassifier(learning_rate=0.1,                             \n",
    "#                              n_estimators=100000,\n",
    "#                              num_leaves=num_leaves,\n",
    "#                              min_child_samples = min_child_samples,\n",
    "#                              colsample_bytree = colsample_bytree,\n",
    "#                              subsample = x,\n",
    "#                              subsample_freq=1)\n",
    "\n",
    "#     rgr.fit(X_train,y_train,\n",
    "#             eval_set=[(X_val,y_val)],\n",
    "#             eval_metric='multi_logloss',\n",
    "#             early_stopping_rounds=50,\n",
    "#             verbose = False)\n",
    "\n",
    "    params['subsample'] = x\n",
    "    clf = lgb.cv(params, cv_dataset,\n",
    "                num_boost_round = 100000, nfold =5,\n",
    "#                 metrics = 'multi_logloss',\n",
    "                early_stopping_rounds = 50) \n",
    "    \n",
    "\n",
    "    print x, ' \\t', clf.values()[0][-1], len(clf.values()[0])\n",
    "    \n",
    "\n"
   ]
  },
  {
   "cell_type": "code",
   "execution_count": 63,
   "metadata": {
    "collapsed": true
   },
   "outputs": [],
   "source": [
    "params['subsample'] = 1"
   ]
  },
  {
   "cell_type": "markdown",
   "metadata": {},
   "source": [
    "### max_bin : int, required\n",
    "    Max number of discrete bin for features"
   ]
  },
  {
   "cell_type": "code",
   "execution_count": 65,
   "metadata": {
    "collapsed": false
   },
   "outputs": [
    {
     "name": "stdout",
     "output_type": "stream",
     "text": [
      "15  \t0.402199648117 467\n",
      "31  \t0.400999225417 582\n",
      "63  \t0.401839428426 526\n",
      "127  \t0.402102910186 480\n",
      "255  \t0.401843532994 530\n",
      "511  \t0.401728898913 512\n",
      "1023  \t0.402129273337 472\n",
      "2047  \t0.402452236718 482\n"
     ]
    }
   ],
   "source": [
    "for x in [15,31,63, 127, 255, 511, 1023, 2047]:\n",
    "#     rgr = lgb.LGBMClassifier(learning_rate=0.1,                             \n",
    "#                              n_estimators=100000,\n",
    "#                              num_leaves=num_leaves,\n",
    "#                              min_child_samples = min_child_samples,\n",
    "#                              colsample_bytree = colsample_bytree,\n",
    "#                              subsample = subsample,\n",
    "#                              subsample_freq=1,\n",
    "#                              max_bin = x )\n",
    "\n",
    "#     rgr.fit(X_train,y_train,\n",
    "#             eval_set=[(X_val,y_val)],\n",
    "#             eval_metric='multi_logloss',\n",
    "#             early_stopping_rounds=50,\n",
    "#             verbose = False)\n",
    "\n",
    "\n",
    "#     params['max_bin'] = x\n",
    "    cv_dataset = lgb.Dataset(train_X, train_y, max_bin = x)\n",
    "    clf = lgb.cv(params, cv_dataset,\n",
    "                 num_boost_round = 100000, nfold =5,\n",
    "                 early_stopping_rounds = 50)    \n",
    "\n",
    "    print x, ' \\t', clf.values()[0][-1], len(clf.values()[0])\n",
    " "
   ]
  },
  {
   "cell_type": "code",
   "execution_count": 66,
   "metadata": {
    "collapsed": true
   },
   "outputs": [],
   "source": [
    "params['max_bin'] = 582"
   ]
  },
  {
   "cell_type": "code",
   "execution_count": null,
   "metadata": {
    "collapsed": true
   },
   "outputs": [],
   "source": []
  },
  {
   "cell_type": "code",
   "execution_count": 28,
   "metadata": {
    "collapsed": true
   },
   "outputs": [
    {
     "name": "stdout",
     "output_type": "stream",
     "text": [
      "\u001b[31mInitialization\u001b[0m\n",
      "\u001b[94m-----------------------------------------------------------------------------------------------------------------\u001b[0m\n",
      " Step |   Time |      Value |   colsample_bytree |   max_bin |   min_child_samples |   num_leaves |   subsample | \n",
      "    1 | 02m50s | \u001b[35m  -0.53476\u001b[0m | \u001b[32m            0.9494\u001b[0m | \u001b[32m 206.0155\u001b[0m | \u001b[32m           111.6937\u001b[0m | \u001b[32m     53.0017\u001b[0m | \u001b[32m     0.9958\u001b[0m | \n",
      "    2 | 02m11s | \u001b[35m  -0.53134\u001b[0m | \u001b[32m            0.9097\u001b[0m | \u001b[32m 710.0274\u001b[0m | \u001b[32m            99.8716\u001b[0m | \u001b[32m     25.7253\u001b[0m | \u001b[32m     0.8223\u001b[0m | \n",
      "    3 | 01m12s |   -0.53298 |             0.5736 |  508.9968 |            144.0163 |      28.6098 |      0.9377 | \n",
      "    4 | 01m24s |   -0.53490 |             0.8441 |  683.6996 |             99.5012 |      60.9060 |      0.9267 | \n",
      "    5 | 01m06s |   -0.53391 |             0.5226 |  508.3731 |             85.1011 |      36.6520 |      0.8504 | \n",
      "    6 | 01m02s |   -0.53513 |             0.6736 |  319.5854 |            124.2871 |      61.2123 |      0.8560 | \n",
      "    7 | 01m09s |   -0.53263 |             0.6901 |  470.4126 |            136.2148 |      37.3028 |      0.8218 | \n",
      "    8 | 01m13s |   -0.53334 |             0.9346 |  352.0016 |            147.4805 |      39.1799 |      0.9080 | \n",
      "    9 | 01m34s |   -0.53230 |             0.7673 |  347.2218 |            151.3890 |      29.7680 |      0.8735 | \n",
      "   10 | 01m59s |   -0.53209 |             0.8957 |  386.8950 |            133.4809 |      30.6284 |      0.8357 | \n"
     ]
    },
    {
     "name": "stderr",
     "output_type": "stream",
     "text": [
      "/home/xujin/AI/anaconda2/lib/python2.7/site-packages/sklearn/gaussian_process/gpr.py:308: UserWarning: Predicted variances smaller than 0. Setting those variances to 0.\n",
      "  warnings.warn(\"Predicted variances smaller than 0. \"\n",
      "/home/xujin/AI/anaconda2/lib/python2.7/site-packages/bayes_opt/helpers.py:95: RuntimeWarning: divide by zero encountered in true_divide\n",
      "  z = (mean - y_max - xi)/std\n"
     ]
    },
    {
     "name": "stdout",
     "output_type": "stream",
     "text": [
      "\u001b[31mBayesian Optimization\u001b[0m\n",
      "\u001b[94m-----------------------------------------------------------------------------------------------------------------\u001b[0m\n",
      " Step |   Time |      Value |   colsample_bytree |   max_bin |   min_child_samples |   num_leaves |   subsample | \n"
     ]
    },
    {
     "name": "stderr",
     "output_type": "stream",
     "text": [
      "/home/xujin/AI/anaconda2/lib/python2.7/site-packages/sklearn/gaussian_process/gpr.py:427: UserWarning: fmin_l_bfgs_b terminated abnormally with the  state: {'warnflag': 2, 'task': 'ABNORMAL_TERMINATION_IN_LNSRCH', 'grad': array([ 0.00035908]), 'nit': 5, 'funcalls': 51}\n",
      "  \" state: %s\" % convergence_dict)\n"
     ]
    },
    {
     "name": "stdout",
     "output_type": "stream",
     "text": [
      "   11 | 01m42s |   -0.53312 |             0.5305 |  797.2248 |             92.6381 |      25.8138 |      0.8091 | \n"
     ]
    },
    {
     "name": "stderr",
     "output_type": "stream",
     "text": [
      "/home/xujin/AI/anaconda2/lib/python2.7/site-packages/sklearn/gaussian_process/gpr.py:427: UserWarning: fmin_l_bfgs_b terminated abnormally with the  state: {'warnflag': 2, 'task': 'ABNORMAL_TERMINATION_IN_LNSRCH', 'grad': array([ -5.49498158e-05]), 'nit': 4, 'funcalls': 50}\n",
      "  \" state: %s\" % convergence_dict)\n"
     ]
    },
    {
     "name": "stdout",
     "output_type": "stream",
     "text": [
      "   12 | 01m42s | \u001b[35m  -0.53122\u001b[0m | \u001b[32m            0.7626\u001b[0m | \u001b[32m 290.6732\u001b[0m | \u001b[32m           116.4943\u001b[0m | \u001b[32m     15.3131\u001b[0m | \u001b[32m     0.8439\u001b[0m | \n"
     ]
    },
    {
     "name": "stderr",
     "output_type": "stream",
     "text": [
      "/home/xujin/AI/anaconda2/lib/python2.7/site-packages/sklearn/gaussian_process/gpr.py:427: UserWarning: fmin_l_bfgs_b terminated abnormally with the  state: {'warnflag': 2, 'task': 'ABNORMAL_TERMINATION_IN_LNSRCH', 'grad': array([-0.00023937]), 'nit': 6, 'funcalls': 53}\n",
      "  \" state: %s\" % convergence_dict)\n"
     ]
    },
    {
     "name": "stdout",
     "output_type": "stream",
     "text": [
      "   13 | 01m44s |   -0.53166 |             0.7140 |  431.8401 |             98.0688 |      16.3717 |      0.8915 | \n"
     ]
    },
    {
     "name": "stderr",
     "output_type": "stream",
     "text": [
      "/home/xujin/AI/anaconda2/lib/python2.7/site-packages/sklearn/gaussian_process/gpr.py:427: UserWarning: fmin_l_bfgs_b terminated abnormally with the  state: {'warnflag': 2, 'task': 'ABNORMAL_TERMINATION_IN_LNSRCH', 'grad': array([ -2.00377147e-05]), 'nit': 5, 'funcalls': 53}\n",
      "  \" state: %s\" % convergence_dict)\n",
      "/home/xujin/AI/anaconda2/lib/python2.7/site-packages/sklearn/gaussian_process/gpr.py:427: UserWarning: fmin_l_bfgs_b terminated abnormally with the  state: {'warnflag': 2, 'task': 'ABNORMAL_TERMINATION_IN_LNSRCH', 'grad': array([ -2.20073208e-05]), 'nit': 5, 'funcalls': 53}\n",
      "  \" state: %s\" % convergence_dict)\n"
     ]
    },
    {
     "name": "stdout",
     "output_type": "stream",
     "text": [
      "   14 | 03m18s |   -0.53323 |             0.9458 |  704.1814 |            123.2425 |      17.8612 |      0.9948 | \n"
     ]
    },
    {
     "name": "stderr",
     "output_type": "stream",
     "text": [
      "/home/xujin/AI/anaconda2/lib/python2.7/site-packages/sklearn/gaussian_process/gpr.py:427: UserWarning: fmin_l_bfgs_b terminated abnormally with the  state: {'warnflag': 2, 'task': 'ABNORMAL_TERMINATION_IN_LNSRCH', 'grad': array([  1.65901365e-05]), 'nit': 3, 'funcalls': 46}\n",
      "  \" state: %s\" % convergence_dict)\n",
      "/home/xujin/AI/anaconda2/lib/python2.7/site-packages/sklearn/gaussian_process/gpr.py:427: UserWarning: fmin_l_bfgs_b terminated abnormally with the  state: {'warnflag': 2, 'task': 'ABNORMAL_TERMINATION_IN_LNSRCH', 'grad': array([ 0.00016809]), 'nit': 5, 'funcalls': 53}\n",
      "  \" state: %s\" % convergence_dict)\n"
     ]
    },
    {
     "name": "stdout",
     "output_type": "stream",
     "text": [
      "   15 | 01m51s |   -0.53307 |             0.7208 |  773.9992 |             81.2863 |      21.2061 |      0.9746 | \n"
     ]
    },
    {
     "name": "stderr",
     "output_type": "stream",
     "text": [
      "/home/xujin/AI/anaconda2/lib/python2.7/site-packages/sklearn/gaussian_process/gpr.py:427: UserWarning: fmin_l_bfgs_b terminated abnormally with the  state: {'warnflag': 2, 'task': 'ABNORMAL_TERMINATION_IN_LNSRCH', 'grad': array([ -1.66505998e-05]), 'nit': 5, 'funcalls': 53}\n",
      "  \" state: %s\" % convergence_dict)\n"
     ]
    },
    {
     "name": "stdout",
     "output_type": "stream",
     "text": [
      "   16 | 01m56s |   -0.53220 |             0.8672 |  661.9549 |             90.8773 |      17.9356 |      0.9945 | \n"
     ]
    },
    {
     "name": "stderr",
     "output_type": "stream",
     "text": [
      "/home/xujin/AI/anaconda2/lib/python2.7/site-packages/sklearn/gaussian_process/gpr.py:427: UserWarning: fmin_l_bfgs_b terminated abnormally with the  state: {'warnflag': 2, 'task': 'ABNORMAL_TERMINATION_IN_LNSRCH', 'grad': array([ -2.77417712e-05]), 'nit': 4, 'funcalls': 47}\n",
      "  \" state: %s\" % convergence_dict)\n"
     ]
    },
    {
     "name": "stdout",
     "output_type": "stream",
     "text": [
      "   17 | 01m44s |   -0.53238 |             0.9901 |  209.5177 |            154.7229 |      22.2663 |      0.9860 | \n"
     ]
    },
    {
     "name": "stderr",
     "output_type": "stream",
     "text": [
      "/home/xujin/AI/anaconda2/lib/python2.7/site-packages/sklearn/gaussian_process/gpr.py:427: UserWarning: fmin_l_bfgs_b terminated abnormally with the  state: {'warnflag': 2, 'task': 'ABNORMAL_TERMINATION_IN_LNSRCH', 'grad': array([ -1.45074409e-05]), 'nit': 5, 'funcalls': 53}\n",
      "  \" state: %s\" % convergence_dict)\n"
     ]
    },
    {
     "name": "stdout",
     "output_type": "stream",
     "text": [
      "   18 | 01m44s |   -0.53176 |             0.9354 |  275.2759 |            133.4616 |      15.6176 |      0.9118 | \n"
     ]
    },
    {
     "name": "stderr",
     "output_type": "stream",
     "text": [
      "/home/xujin/AI/anaconda2/lib/python2.7/site-packages/sklearn/gaussian_process/gpr.py:427: UserWarning: fmin_l_bfgs_b terminated abnormally with the  state: {'warnflag': 2, 'task': 'ABNORMAL_TERMINATION_IN_LNSRCH', 'grad': array([-0.00075529]), 'nit': 5, 'funcalls': 48}\n",
      "  \" state: %s\" % convergence_dict)\n"
     ]
    },
    {
     "name": "stdout",
     "output_type": "stream",
     "text": [
      "   19 | 02m19s |   -0.53238 |             0.6194 |  423.0654 |            156.2254 |      19.2615 |      0.9731 | \n",
      "   20 | 01m43s |   -0.53149 |             0.8494 |  333.8046 |            124.6656 |      18.1923 |      0.9127 | \n",
      "   21 | 01m41s |   -0.53127 |             0.7548 |  327.3567 |            158.6803 |      18.6545 |      0.9304 | \n"
     ]
    },
    {
     "name": "stderr",
     "output_type": "stream",
     "text": [
      "/home/xujin/AI/anaconda2/lib/python2.7/site-packages/sklearn/gaussian_process/gpr.py:427: UserWarning: fmin_l_bfgs_b terminated abnormally with the  state: {'warnflag': 2, 'task': 'ABNORMAL_TERMINATION_IN_LNSRCH', 'grad': array([-0.00114462]), 'nit': 4, 'funcalls': 51}\n",
      "  \" state: %s\" % convergence_dict)\n",
      "/home/xujin/AI/anaconda2/lib/python2.7/site-packages/sklearn/gaussian_process/gpr.py:427: UserWarning: fmin_l_bfgs_b terminated abnormally with the  state: {'warnflag': 2, 'task': 'ABNORMAL_TERMINATION_IN_LNSRCH', 'grad': array([ 0.0008617]), 'nit': 4, 'funcalls': 50}\n",
      "  \" state: %s\" % convergence_dict)\n"
     ]
    },
    {
     "name": "stdout",
     "output_type": "stream",
     "text": [
      "   22 | 01m44s |   -0.53188 |             0.6976 |  367.2999 |             95.5699 |      16.6479 |      0.9259 | \n",
      "   23 | 01m44s |   -0.53178 |             0.6097 |  712.2395 |             91.5011 |      21.4893 |      0.9545 | \n"
     ]
    },
    {
     "name": "stderr",
     "output_type": "stream",
     "text": [
      "/home/xujin/AI/anaconda2/lib/python2.7/site-packages/sklearn/gaussian_process/gpr.py:427: UserWarning: fmin_l_bfgs_b terminated abnormally with the  state: {'warnflag': 2, 'task': 'ABNORMAL_TERMINATION_IN_LNSRCH', 'grad': array([ 0.00115603]), 'nit': 5, 'funcalls': 54}\n",
      "  \" state: %s\" % convergence_dict)\n"
     ]
    },
    {
     "name": "stdout",
     "output_type": "stream",
     "text": [
      "   24 | 01m41s |   -0.53123 |             0.8706 |  202.2066 |             80.8088 |      16.6911 |      0.8613 | \n"
     ]
    },
    {
     "name": "stderr",
     "output_type": "stream",
     "text": [
      "/home/xujin/AI/anaconda2/lib/python2.7/site-packages/sklearn/gaussian_process/gpr.py:427: UserWarning: fmin_l_bfgs_b terminated abnormally with the  state: {'warnflag': 2, 'task': 'ABNORMAL_TERMINATION_IN_LNSRCH', 'grad': array([-0.00040309]), 'nit': 4, 'funcalls': 51}\n",
      "  \" state: %s\" % convergence_dict)\n",
      "/home/xujin/AI/anaconda2/lib/python2.7/site-packages/sklearn/gaussian_process/gpr.py:427: UserWarning: fmin_l_bfgs_b terminated abnormally with the  state: {'warnflag': 2, 'task': 'ABNORMAL_TERMINATION_IN_LNSRCH', 'grad': array([ -8.14082450e-05]), 'nit': 6, 'funcalls': 58}\n",
      "  \" state: %s\" % convergence_dict)\n"
     ]
    },
    {
     "name": "stdout",
     "output_type": "stream",
     "text": [
      "   25 | 01m55s |   -0.53153 |             0.7534 |  308.8735 |            101.4059 |      15.0581 |      0.9337 | \n",
      "   26 | 01m58s |   -0.53224 |             0.8008 |  387.4367 |            126.0620 |      16.2544 |      0.9734 | \n",
      "   27 | 01m44s |   -0.53484 |             0.7328 |  789.5658 |            141.8161 |      52.6390 |      0.9155 | \n"
     ]
    },
    {
     "name": "stderr",
     "output_type": "stream",
     "text": [
      "/home/xujin/AI/anaconda2/lib/python2.7/site-packages/sklearn/gaussian_process/gpr.py:427: UserWarning: fmin_l_bfgs_b terminated abnormally with the  state: {'warnflag': 2, 'task': 'ABNORMAL_TERMINATION_IN_LNSRCH', 'grad': array([ 0.00021941]), 'nit': 3, 'funcalls': 50}\n",
      "  \" state: %s\" % convergence_dict)\n"
     ]
    },
    {
     "name": "stdout",
     "output_type": "stream",
     "text": [
      "   28 | 01m31s |   -0.53446 |             0.6520 |  431.9204 |             96.2836 |      47.7710 |      0.8855 | \n",
      "   29 | 02m26s |   -0.53192 |             0.5354 |  242.3317 |            100.4000 |      15.9467 |      0.9749 | \n"
     ]
    },
    {
     "name": "stderr",
     "output_type": "stream",
     "text": [
      "/home/xujin/AI/anaconda2/lib/python2.7/site-packages/sklearn/gaussian_process/gpr.py:427: UserWarning: fmin_l_bfgs_b terminated abnormally with the  state: {'warnflag': 2, 'task': 'ABNORMAL_TERMINATION_IN_LNSRCH', 'grad': array([ -4.30197000e-05]), 'nit': 7, 'funcalls': 54}\n",
      "  \" state: %s\" % convergence_dict)\n",
      "/home/xujin/AI/anaconda2/lib/python2.7/site-packages/sklearn/gaussian_process/gpr.py:427: UserWarning: fmin_l_bfgs_b terminated abnormally with the  state: {'warnflag': 2, 'task': 'ABNORMAL_TERMINATION_IN_LNSRCH', 'grad': array([-0.00013341]), 'nit': 4, 'funcalls': 47}\n",
      "  \" state: %s\" % convergence_dict)\n"
     ]
    },
    {
     "name": "stdout",
     "output_type": "stream",
     "text": [
      "   30 | 01m36s |   -0.53204 |             0.6275 |  573.4928 |             87.5118 |      24.2194 |      0.8411 | \n",
      "   31 | 02m25s | \u001b[35m  -0.53102\u001b[0m | \u001b[32m            0.8426\u001b[0m | \u001b[32m 478.6974\u001b[0m | \u001b[32m           117.6221\u001b[0m | \u001b[32m     16.4580\u001b[0m | \u001b[32m     0.8206\u001b[0m | \n"
     ]
    },
    {
     "name": "stderr",
     "output_type": "stream",
     "text": [
      "/home/xujin/AI/anaconda2/lib/python2.7/site-packages/sklearn/gaussian_process/gpr.py:427: UserWarning: fmin_l_bfgs_b terminated abnormally with the  state: {'warnflag': 2, 'task': 'ABNORMAL_TERMINATION_IN_LNSRCH', 'grad': array([ -2.26833237e-05]), 'nit': 5, 'funcalls': 53}\n",
      "  \" state: %s\" % convergence_dict)\n"
     ]
    },
    {
     "name": "stdout",
     "output_type": "stream",
     "text": [
      "   32 | 02m03s |   -0.53494 |             0.7151 |  770.4839 |             99.8584 |      62.7594 |      0.8415 | \n"
     ]
    },
    {
     "name": "stderr",
     "output_type": "stream",
     "text": [
      "/home/xujin/AI/anaconda2/lib/python2.7/site-packages/sklearn/gaussian_process/gpr.py:427: UserWarning: fmin_l_bfgs_b terminated abnormally with the  state: {'warnflag': 2, 'task': 'ABNORMAL_TERMINATION_IN_LNSRCH', 'grad': array([ 0.00010201]), 'nit': 5, 'funcalls': 51}\n",
      "  \" state: %s\" % convergence_dict)\n"
     ]
    },
    {
     "name": "stdout",
     "output_type": "stream",
     "text": [
      "   33 | 01m34s |   -0.53188 |             0.5727 |  616.0457 |            110.8740 |      21.0601 |      0.9422 | \n"
     ]
    },
    {
     "name": "stderr",
     "output_type": "stream",
     "text": [
      "/home/xujin/AI/anaconda2/lib/python2.7/site-packages/sklearn/gaussian_process/gpr.py:427: UserWarning: fmin_l_bfgs_b terminated abnormally with the  state: {'warnflag': 2, 'task': 'ABNORMAL_TERMINATION_IN_LNSRCH', 'grad': array([ -5.09879189e-05]), 'nit': 8, 'funcalls': 54}\n",
      "  \" state: %s\" % convergence_dict)\n"
     ]
    },
    {
     "name": "stdout",
     "output_type": "stream",
     "text": [
      "   34 | 02m07s |   -0.53309 |             0.9948 |  547.5036 |             88.5593 |      17.0859 |      0.9977 | \n",
      "   35 | 01m25s |   -0.53168 |             0.5229 |  204.3560 |            135.1914 |      15.3167 |      0.8876 | \n"
     ]
    },
    {
     "name": "stderr",
     "output_type": "stream",
     "text": [
      "/home/xujin/AI/anaconda2/lib/python2.7/site-packages/sklearn/gaussian_process/gpr.py:427: UserWarning: fmin_l_bfgs_b terminated abnormally with the  state: {'warnflag': 2, 'task': 'ABNORMAL_TERMINATION_IN_LNSRCH', 'grad': array([-0.00010035]), 'nit': 6, 'funcalls': 56}\n",
      "  \" state: %s\" % convergence_dict)\n",
      "/home/xujin/AI/anaconda2/lib/python2.7/site-packages/sklearn/gaussian_process/gpr.py:427: UserWarning: fmin_l_bfgs_b terminated abnormally with the  state: {'warnflag': 2, 'task': 'ABNORMAL_TERMINATION_IN_LNSRCH', 'grad': array([-0.00018057]), 'nit': 5, 'funcalls': 56}\n",
      "  \" state: %s\" % convergence_dict)\n"
     ]
    },
    {
     "name": "stdout",
     "output_type": "stream",
     "text": [
      "   36 | 01m35s |   -0.53194 |             0.5922 |  611.8562 |             86.9664 |      22.1675 |      0.9013 | \n",
      "   37 | 01m40s |   -0.53183 |             0.8796 |  453.9247 |            127.4825 |      23.3588 |      0.8768 | \n",
      "   38 | 01m46s |   -0.53152 |             0.8095 |  578.5334 |            115.9199 |      22.4066 |      0.9495 | \n"
     ]
    },
    {
     "name": "stderr",
     "output_type": "stream",
     "text": [
      "/home/xujin/AI/anaconda2/lib/python2.7/site-packages/sklearn/gaussian_process/gpr.py:427: UserWarning: fmin_l_bfgs_b terminated abnormally with the  state: {'warnflag': 2, 'task': 'ABNORMAL_TERMINATION_IN_LNSRCH', 'grad': array([-0.0001312]), 'nit': 6, 'funcalls': 60}\n",
      "  \" state: %s\" % convergence_dict)\n"
     ]
    },
    {
     "name": "stdout",
     "output_type": "stream",
     "text": [
      "   39 | 01m43s |   -0.53222 |             0.6637 |  588.7522 |            159.7344 |      17.8775 |      0.9793 | \n",
      "   40 | 01m34s |   -0.53259 |             0.5042 |  320.8941 |            150.5419 |      16.5171 |      0.8000 | \n"
     ]
    },
    {
     "name": "stderr",
     "output_type": "stream",
     "text": [
      "/home/xujin/AI/anaconda2/lib/python2.7/site-packages/sklearn/gaussian_process/gpr.py:427: UserWarning: fmin_l_bfgs_b terminated abnormally with the  state: {'warnflag': 2, 'task': 'ABNORMAL_TERMINATION_IN_LNSRCH', 'grad': array([  2.37601344e-05]), 'nit': 5, 'funcalls': 53}\n",
      "  \" state: %s\" % convergence_dict)\n",
      "/home/xujin/AI/anaconda2/lib/python2.7/site-packages/sklearn/gaussian_process/gpr.py:427: UserWarning: fmin_l_bfgs_b terminated abnormally with the  state: {'warnflag': 2, 'task': 'ABNORMAL_TERMINATION_IN_LNSRCH', 'grad': array([-0.00062186]), 'nit': 6, 'funcalls': 49}\n",
      "  \" state: %s\" % convergence_dict)\n"
     ]
    },
    {
     "name": "stdout",
     "output_type": "stream",
     "text": [
      "   41 | 01m36s |   -0.53352 |             0.8728 |  602.1469 |            148.9227 |      42.3492 |      0.8142 | \n"
     ]
    },
    {
     "name": "stderr",
     "output_type": "stream",
     "text": [
      "/home/xujin/AI/anaconda2/lib/python2.7/site-packages/sklearn/gaussian_process/gpr.py:427: UserWarning: fmin_l_bfgs_b terminated abnormally with the  state: {'warnflag': 2, 'task': 'ABNORMAL_TERMINATION_IN_LNSRCH', 'grad': array([ -3.25386391e-05]), 'nit': 4, 'funcalls': 48}\n",
      "  \" state: %s\" % convergence_dict)\n"
     ]
    },
    {
     "name": "stdout",
     "output_type": "stream",
     "text": [
      "   42 | 02m04s |   -0.53225 |             0.9996 |  339.5156 |            157.0639 |      15.0079 |      0.9203 | \n",
      "   43 | 01m34s |   -0.53223 |             0.6486 |  265.7415 |             87.4480 |      18.3331 |      0.8010 | \n",
      "   44 | 01m34s |   -0.53255 |             0.6474 |  286.1596 |            159.6759 |      27.0409 |      0.9674 | \n",
      "   45 | 01m55s |   -0.53185 |             0.7595 |  764.2768 |            116.4333 |      24.4025 |      0.9210 | \n"
     ]
    },
    {
     "name": "stderr",
     "output_type": "stream",
     "text": [
      "/home/xujin/AI/anaconda2/lib/python2.7/site-packages/sklearn/gaussian_process/gpr.py:427: UserWarning: fmin_l_bfgs_b terminated abnormally with the  state: {'warnflag': 2, 'task': 'ABNORMAL_TERMINATION_IN_LNSRCH', 'grad': array([ 0.00079656]), 'nit': 4, 'funcalls': 53}\n",
      "  \" state: %s\" % convergence_dict)\n"
     ]
    },
    {
     "name": "stdout",
     "output_type": "stream",
     "text": [
      "   46 | 01m55s |   -0.53223 |             0.7986 |  790.9825 |            139.1079 |      17.6317 |      0.8300 | \n",
      "   47 | 01m38s |   -0.53181 |             0.5268 |  468.2110 |            100.4549 |      20.0324 |      0.8654 | \n",
      "   48 | 01m55s |   -0.53173 |             0.7773 |  460.9678 |            157.3346 |      15.2557 |      0.9048 | \n"
     ]
    },
    {
     "name": "stderr",
     "output_type": "stream",
     "text": [
      "/home/xujin/AI/anaconda2/lib/python2.7/site-packages/sklearn/gaussian_process/gpr.py:427: UserWarning: fmin_l_bfgs_b terminated abnormally with the  state: {'warnflag': 2, 'task': 'ABNORMAL_TERMINATION_IN_LNSRCH', 'grad': array([-0.0005743]), 'nit': 6, 'funcalls': 49}\n",
      "  \" state: %s\" % convergence_dict)\n"
     ]
    },
    {
     "name": "stdout",
     "output_type": "stream",
     "text": [
      "   49 | 01m42s |   -0.53184 |             0.5113 |  260.9516 |            113.5624 |      15.8408 |      0.8203 | \n"
     ]
    },
    {
     "name": "stderr",
     "output_type": "stream",
     "text": [
      "/home/xujin/AI/anaconda2/lib/python2.7/site-packages/sklearn/gaussian_process/gpr.py:427: UserWarning: fmin_l_bfgs_b terminated abnormally with the  state: {'warnflag': 2, 'task': 'ABNORMAL_TERMINATION_IN_LNSRCH', 'grad': array([ 0.00112517]), 'nit': 3, 'funcalls': 46}\n",
      "  \" state: %s\" % convergence_dict)\n"
     ]
    },
    {
     "name": "stdout",
     "output_type": "stream",
     "text": [
      "   50 | 01m40s |   -0.53239 |             0.7990 |  340.5197 |            105.1115 |      28.4028 |      0.9560 | \n"
     ]
    }
   ],
   "source": [
    "def lgbm_cv(max_bin, num_leaves, min_child_samples, colsample_bytree, subsample, learning_rate=0.1):\n",
    "    skf = list(KFold(len(train_y), 5))\n",
    "    scores=[]\n",
    "    for i, (train, val) in enumerate(skf):\n",
    "        est=lgb.LGBMClassifier(learning_rate=0.1,\n",
    "                               max_bin=int(max_bin),\n",
    "                               num_leaves=int(num_leaves),\n",
    "                               min_child_samples=int(min_child_samples),\n",
    "                               colsample_bytree=colsample_bytree,\n",
    "                               subsample=subsample,\n",
    "                               subsample_freq = 1\n",
    "                              )\n",
    " \n",
    "        train_x_fold = train_X[train]\n",
    "        train_y_fold = train_y[train]\n",
    "        val_x_fold = train_X[val]\n",
    "        val_y_fold = train_y[val]\n",
    "        est.set_params( n_estimators=100000)\n",
    "        est.fit(train_x_fold,\n",
    "                train_y_fold,\n",
    "                eval_set=[(val_x_fold, val_y_fold)],\n",
    "                eval_metric='multi_logloss',\n",
    "                early_stopping_rounds=50,\n",
    "                verbose = False\n",
    "               )\n",
    "        val_y_predict_fold = est.predict_proba(val_x_fold)\n",
    "        score = log_loss(val_y_fold, val_y_predict_fold)\n",
    "        scores.append(score)\n",
    "    return -np.mean(scores)\n",
    "\n",
    "\n",
    "lgbm_BO = BayesianOptimization(lgbm_cv, \n",
    "                               {\n",
    "                                'max_bin': (200,800),\n",
    "                                'num_leaves': (15,63),\n",
    "                                'min_child_samples' :(80,160),\n",
    "                                'colsample_bytree': (0.5,1),\n",
    "                                'subsample' : (0.8,1)})\n",
    "\n",
    "lgbm_BO.maximize(init_points=10, n_iter=40)"
   ]
  },
  {
   "cell_type": "code",
   "execution_count": 30,
   "metadata": {
    "collapsed": false
   },
   "outputs": [
    {
     "data": {
      "text/html": [
       "<div>\n",
       "<table border=\"1\" class=\"dataframe\">\n",
       "  <thead>\n",
       "    <tr style=\"text-align: right;\">\n",
       "      <th></th>\n",
       "      <th>num_leaves</th>\n",
       "      <th>min_child_samples</th>\n",
       "      <th>max_bin</th>\n",
       "      <th>colsample_bytree</th>\n",
       "      <th>subsample</th>\n",
       "      <th>score</th>\n",
       "    </tr>\n",
       "  </thead>\n",
       "  <tbody>\n",
       "    <tr>\n",
       "      <th>20</th>\n",
       "      <td>16.458039</td>\n",
       "      <td>117.622103</td>\n",
       "      <td>478.697403</td>\n",
       "      <td>0.842639</td>\n",
       "      <td>0.820588</td>\n",
       "      <td>-0.531018</td>\n",
       "    </tr>\n",
       "    <tr>\n",
       "      <th>1</th>\n",
       "      <td>15.313144</td>\n",
       "      <td>116.494344</td>\n",
       "      <td>290.673175</td>\n",
       "      <td>0.762613</td>\n",
       "      <td>0.843922</td>\n",
       "      <td>-0.531225</td>\n",
       "    </tr>\n",
       "    <tr>\n",
       "      <th>13</th>\n",
       "      <td>16.691140</td>\n",
       "      <td>80.808810</td>\n",
       "      <td>202.206598</td>\n",
       "      <td>0.870567</td>\n",
       "      <td>0.861266</td>\n",
       "      <td>-0.531231</td>\n",
       "    </tr>\n",
       "    <tr>\n",
       "      <th>10</th>\n",
       "      <td>18.654455</td>\n",
       "      <td>158.680310</td>\n",
       "      <td>327.356657</td>\n",
       "      <td>0.754814</td>\n",
       "      <td>0.930391</td>\n",
       "      <td>-0.531267</td>\n",
       "    </tr>\n",
       "    <tr>\n",
       "      <th>9</th>\n",
       "      <td>18.192282</td>\n",
       "      <td>124.665623</td>\n",
       "      <td>333.804592</td>\n",
       "      <td>0.849373</td>\n",
       "      <td>0.912663</td>\n",
       "      <td>-0.531491</td>\n",
       "    </tr>\n",
       "  </tbody>\n",
       "</table>\n",
       "</div>"
      ],
      "text/plain": [
       "    num_leaves  min_child_samples     max_bin  colsample_bytree  subsample  \\\n",
       "20   16.458039         117.622103  478.697403          0.842639   0.820588   \n",
       "1    15.313144         116.494344  290.673175          0.762613   0.843922   \n",
       "13   16.691140          80.808810  202.206598          0.870567   0.861266   \n",
       "10   18.654455         158.680310  327.356657          0.754814   0.930391   \n",
       "9    18.192282         124.665623  333.804592          0.849373   0.912663   \n",
       "\n",
       "       score  \n",
       "20 -0.531018  \n",
       "1  -0.531225  \n",
       "13 -0.531231  \n",
       "10 -0.531267  \n",
       "9  -0.531491  "
      ]
     },
     "execution_count": 30,
     "metadata": {},
     "output_type": "execute_result"
    }
   ],
   "source": [
    "gbm_bo_scores = pd.DataFrame([[s[0]['num_leaves'],\n",
    "                               s[0]['min_child_samples'],\n",
    "                               s[0]['max_bin'],\n",
    "                               s[0]['colsample_bytree'],\n",
    "                               s[0]['subsample'],\n",
    "                               s[1]] for s in zip(lgbm_BO.res['all']['params'],lgbm_BO.res['all']['values'])],\n",
    "                            columns = ['num_leaves',\n",
    "                                       'min_child_samples',\n",
    "                                       'max_bin',\n",
    "                                       'colsample_bytree',\n",
    "                                       'subsample',\n",
    "                                       'score'])\n",
    "gbm_bo_scores=gbm_bo_scores.sort_values('score',ascending=False)\n",
    "gbm_bo_scores.head()"
   ]
  },
  {
   "cell_type": "code",
   "execution_count": 39,
   "metadata": {
    "collapsed": false
   },
   "outputs": [],
   "source": [
    "def lgbm_blend(params, train_x, train_y, test_x, fold, early_stopping_rounds=0):\n",
    "    N_params = len(params)\n",
    "    print (\"Blend %d estimators for %d folds\" % (N_params, fold))\n",
    "    skf = KFold(n_splits=fold,random_state=seed)\n",
    "    N_class = len(set(train_y))\n",
    "    \n",
    "    train_blend_x = np.zeros((train_x.shape[0], N_class*N_params))\n",
    "    test_blend_x = np.zeros((test_x.shape[0], N_class*N_params))\n",
    "    scores = np.zeros ((fold,N_params))\n",
    "    best_rounds = np.zeros ((N_params))\n",
    "    \n",
    "\n",
    "    \n",
    "    for j, param in enumerate(params):\n",
    "        param['learning_rate']=0.01\n",
    "        param['subsample_freq']=1\n",
    "#         param['metrics'] = 'multi_logloss'  \n",
    "        param['num_class'] = 3\n",
    "        param['objective'] = 'multiclass'\n",
    "        param['subsample_freq'] = 1\n",
    "        \n",
    "        print (\"Model %d:\" %(j+1)) \n",
    "\n",
    "        \n",
    "        cv_dataset = lgb.Dataset(train_x, train_y, max_bin = param['max_bin'])\n",
    "        clf = lgb.cv(param, cv_dataset,\n",
    "                     num_boost_round = 100000, nfold =fold,\n",
    "                     metrics = 'multi_logloss',\n",
    "                     early_stopping_rounds = early_stopping_rounds) \n",
    "      \n",
    "        best_round = len(clf.values()[0])\n",
    "        print 'best_round',best_round\n",
    "        best_rounds[j]=best_round\n",
    "        \n",
    "        all_round = best_round / (1 - 1. / fold)\n",
    "        est_test_blend = lgb.train(param, cv_dataset,num_boost_round=int(all_round))\n",
    "\n",
    "        test_blend_x[:,(j*N_class):(j+1)*N_class] = est_test_blend.predict(test_x)\n",
    "        \n",
    "\n",
    "        for i, (train_index, val_index) in enumerate(skf.split(train_x)):\n",
    "            print (\"Model %d fold %d\" %(j+1,i+1))\n",
    "            fold_start = time.time() \n",
    "            train_x_fold = train_x[train_index]\n",
    "            train_y_fold = train_y[train_index]\n",
    "            val_x_fold = train_x[val_index]\n",
    "            val_y_fold = train_y[val_index]\n",
    "            \n",
    "            data_fold = lgb.Dataset(train_x_fold, train_y_fold, max_bin = param['max_bin'])\n",
    "            est_train_blend = lgb.train(param, data_fold,num_boost_round=best_round)\n",
    "            \n",
    "            val_y_predict_fold = est_train_blend.predict(val_x_fold)\n",
    "            score = log_loss(val_y_fold, val_y_predict_fold)\n",
    "            print (\"Score: \", score)\n",
    "            scores[i,j]=score   \n",
    "            \n",
    "            train_blend_x[val_index, (j*N_class):(j+1)*N_class] = val_y_predict_fold\n",
    "            print (\"Model %d fold %d fitting finished in %0.3fs\" % (j+1,i+1, time.time() - fold_start))            \n",
    "\n",
    "        print (\"Score for model %d is %f\" % (j+1,np.mean(scores[:,j])))\n",
    "    print (\"Score for blended models is %f\" % (np.mean(scores)))\n",
    "    return (train_blend_x, test_blend_x, scores,best_rounds)"
   ]
  },
  {
   "cell_type": "code",
   "execution_count": 52,
   "metadata": {
    "collapsed": false
   },
   "outputs": [
    {
     "name": "stdout",
     "output_type": "stream",
     "text": [
      "Blend 1 estimators for 5 folds\n",
      "Model 1:\n",
      "best_round 1762\n",
      "Model 1 fold 1\n",
      "('Score: ', 0.42060475512970935)\n",
      "Model 1 fold 1 fitting finished in 27.545s\n",
      "Model 1 fold 2\n",
      "('Score: ', 0.43363531834175567)\n",
      "Model 1 fold 2 fitting finished in 27.525s\n",
      "Model 1 fold 3\n",
      "('Score: ', 0.45222319176928)\n",
      "Model 1 fold 3 fitting finished in 27.720s\n",
      "Model 1 fold 4\n",
      "('Score: ', 0.45110224941246674)\n",
      "Model 1 fold 4 fitting finished in 27.795s\n",
      "Model 1 fold 5\n",
      "('Score: ', 0.41711606730175121)\n",
      "Model 1 fold 5 fitting finished in 29.370s\n",
      "Score for model 1 is 0.434936\n",
      "Score for blended models is 0.434936\n"
     ]
    }
   ],
   "source": [
    "lgb_params = [{\n",
    "        'num_leaves': 8,\n",
    "        'min_child_samples': 230,\n",
    "        'colsample_bytree': 0.5,\n",
    "        'subsample': 1,\n",
    "        'max_bin': 582\n",
    "    }]\n",
    "\n",
    "\n",
    "(train_blend_x_gbm,\n",
    " test_blend_x_gbm,\n",
    " blend_scores_gbm,\n",
    " best_rounds_gbm) = lgbm_blend(lgb_params, \n",
    "                               train_X, train_y, \n",
    "                               test_X,\n",
    "                               5,\n",
    "                               500) #as the learning rate decreases the number of stopping rounds need to be increased\n",
    "\n"
   ]
  },
  {
   "cell_type": "code",
   "execution_count": 56,
   "metadata": {
    "collapsed": false
   },
   "outputs": [
    {
     "data": {
      "text/plain": [
       "array([[  4.37822603e-01,   5.25414695e-01,   3.67627023e-02],\n",
       "       [  4.92365984e-01,   1.14699205e-01,   3.92934811e-01],\n",
       "       [  5.36410955e-01,   3.93353677e-01,   7.02353680e-02],\n",
       "       [  1.18684128e-01,   2.85832186e-01,   5.95483686e-01],\n",
       "       [  3.71821146e-01,   4.19582087e-01,   2.08596767e-01],\n",
       "       [  3.71477251e-04,   5.83382437e-03,   9.93794698e-01],\n",
       "       [  1.53800383e-01,   4.68607746e-01,   3.77591871e-01],\n",
       "       [  9.88012978e-01,   1.17017431e-02,   2.85278704e-04],\n",
       "       [  5.30801793e-01,   3.68164446e-01,   1.01033761e-01],\n",
       "       [  1.15524929e-03,   3.80137273e-03,   9.95043378e-01]])"
      ]
     },
     "execution_count": 56,
     "metadata": {},
     "output_type": "execute_result"
    }
   ],
   "source": [
    "train_blend_x_gbm[:10]"
   ]
  },
  {
   "cell_type": "code",
   "execution_count": 55,
   "metadata": {
    "collapsed": false
   },
   "outputs": [
    {
     "data": {
      "text/plain": [
       "array([0, 2, 0, 1, 0, 2, 0, 0, 0, 2])"
      ]
     },
     "execution_count": 55,
     "metadata": {},
     "output_type": "execute_result"
    }
   ],
   "source": [
    "train_y[:10]"
   ]
  },
  {
   "cell_type": "code",
   "execution_count": 38,
   "metadata": {
    "collapsed": false
   },
   "outputs": [
    {
     "name": "stdout",
     "output_type": "stream",
     "text": [
      "[ 0.52918957  0.52911925  0.52882423  0.52958864  0.52949003]\n",
      "[ 5081.6  5483.8  5253.4  4707.8  4640.8]\n"
     ]
    }
   ],
   "source": [
    "\n",
    "now = datetime.now()\n",
    "\n",
    "name_train_blend = '../output/train_blend_LightGBM_' + str(now.strftime(\"%Y-%m-%d-%H-%M\")) + '.csv'\n",
    "name_test_blend = '../output/test_blend_LightGBM_' + str(now.strftime(\"%Y-%m-%d-%H-%M\")) + '.csv'\n",
    "\n",
    "\n",
    "\n",
    "print (np.mean(blend_scores_gbm,axis=0))\n",
    "print (np.mean(best_rounds_gbm,axis=0))\n",
    "np.savetxt(name_train_blend,train_blend_x_gbm, delimiter=\",\")\n",
    "np.savetxt(name_test_blend,test_blend_x_gbm, delimiter=\",\")"
   ]
  },
  {
   "cell_type": "code",
   "execution_count": 45,
   "metadata": {
    "collapsed": false
   },
   "outputs": [],
   "source": [
    "now = datetime.now()\n",
    "df = pd.read_json(open(\"../input/test.json\", \"r\"))\n",
    "labels2idx ={'high': 0, 'low': 2, 'medium': 1}\n",
    "sub_name = '../output/sub_LightGBM_' + str(now.strftime(\"%Y-%m-%d-%H-%M\")) + '.csv'\n",
    "\n",
    "sub = pd.DataFrame()\n",
    "sub[\"listing_id\"] = df[\"listing_id\"]\n",
    "\n",
    "y_test = np.zeros((df.shape[0], 3))\n",
    "\n",
    "for N in range(3):\n",
    "    y_test[:,N] = pd.DataFrame(test_blend_x_gbm).iloc[:,[x for x in range(test_blend_x_gbm.shape[1]) if x%3 == N]].mean(axis=1)\n",
    "    \n",
    "for label in [\"high\", \"medium\", \"low\"]:\n",
    "    sub[label] = y_test[:, labels2idx[label]]\n",
    "sub.to_csv(sub_name, index=False)"
   ]
  },
  {
   "cell_type": "code",
   "execution_count": null,
   "metadata": {
    "collapsed": true
   },
   "outputs": [],
   "source": []
  },
  {
   "cell_type": "code",
   "execution_count": 57,
   "metadata": {
    "collapsed": false
   },
   "outputs": [],
   "source": [
    "now = datetime.now()\n",
    "df = pd.read_json(open(\"../input/test.json\", \"r\"))\n",
    "labels2idx ={'high': 0, 'low': 2, 'medium': 1}\n",
    "sub_name = '../output/sub_LightGBM_' + str(now.strftime(\"%Y-%m-%d-%H-%M\")) + '.csv'\n",
    "\n",
    "sub = pd.DataFrame()\n",
    "sub[\"listing_id\"] = df[\"listing_id\"]\n",
    "\n",
    "for label in [\"high\", \"medium\", \"low\"]:\n",
    "    sub[label] = test_blend_x_gbm[:, labels2idx[label]]\n",
    "sub.to_csv(sub_name, index=False)"
   ]
  },
  {
   "cell_type": "code",
   "execution_count": null,
   "metadata": {
    "collapsed": true
   },
   "outputs": [],
   "source": []
  }
 ],
 "metadata": {
  "anaconda-cloud": {},
  "kernelspec": {
   "display_name": "Python [conda root]",
   "language": "python",
   "name": "conda-root-py"
  },
  "language_info": {
   "codemirror_mode": {
    "name": "ipython",
    "version": 2
   },
   "file_extension": ".py",
   "mimetype": "text/x-python",
   "name": "python",
   "nbconvert_exporter": "python",
   "pygments_lexer": "ipython2",
   "version": "2.7.12"
  }
 },
 "nbformat": 4,
 "nbformat_minor": 1
}
