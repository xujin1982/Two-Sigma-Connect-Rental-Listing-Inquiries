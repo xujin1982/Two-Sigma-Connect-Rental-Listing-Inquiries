{
 "cells": [
  {
   "cell_type": "code",
   "execution_count": 1,
   "metadata": {
    "collapsed": true
   },
   "outputs": [],
   "source": [
    "import time\n",
    "import numpy as np # linear algebra\n",
    "import pandas as pd # data processing, CSV file I/O (e.g. pd.read_csv)\n",
    "from scipy import sparse\n",
    "from scipy.stats.mstats import gmean\n",
    "from sklearn.ensemble import RandomForestClassifier\n",
    "from sklearn.model_selection import train_test_split, cross_val_score\n",
    "from sklearn.metrics import log_loss\n",
    "from datetime import datetime\n",
    "from sklearn.model_selection import train_test_split,StratifiedKFold, KFold\n",
    "from sklearn.model_selection import cross_val_score\n",
    "seed = 1234\n"
   ]
  },
  {
   "cell_type": "markdown",
   "metadata": {},
   "source": [
    "# Load Data"
   ]
  },
  {
   "cell_type": "code",
   "execution_count": 27,
   "metadata": {
    "collapsed": false
   },
   "outputs": [],
   "source": [
    "data_path = \"../input/\"\n",
    "train_X = pd.read_pickle(data_path + 'train_X_0319.pkl')\n",
    "test_X = pd.read_pickle(data_path + 'test_X_0319.pkl')\n",
    "train_y = np.ravel(pd.read_pickle(data_path + 'train_y_0319.pkl'))\n",
    "sub_id = test_X.listing_id.astype('int32').values\n",
    "# all_features = features_to_use + desc_sparse_cols + feat_sparse_cols\n",
    "print train_X.shape, test_X.shape, train_y.shape"
   ]
  },
  {
   "cell_type": "code",
   "execution_count": 29,
   "metadata": {
    "collapsed": true
   },
   "outputs": [
    {
     "data": {
      "text/plain": [
       "array(['listing_id', 'bathrooms', 'bedrooms', 'building_id',\n",
       "       'display_address', 'latitude', 'longitude', 'manager_id', 'price',\n",
       "       'street_address', 'feature_1_month_free', 'feature_24/7_concierge',\n",
       "       'feature_24/7_doorman', 'feature_24/7_doorman_concierge',\n",
       "       'feature_actual_apt._photos', 'feature_air_conditioning',\n",
       "       'feature_all_pets_ok', 'feature_all_utilities_included',\n",
       "       'feature_assigned-parking-space', 'feature_attended_lobby',\n",
       "       'feature_backyard', 'feature_balcony', 'feature_basement_storage',\n",
       "       'feature_basketball_court', 'feature_bike_room',\n",
       "       'feature_bike_storage', 'feature_billiards_room',\n",
       "       'feature_billiards_table_and_wet_bar', 'feature_brand_new',\n",
       "       'feature_breakfast_bar', 'feature_bright', 'feature_brownstone',\n",
       "       'feature_building-common-outdoor-space', 'feature_business_center',\n",
       "       'feature_cable/satellite_tv', 'feature_cable_ready',\n",
       "       'feature_call/text_abraham_caro_@_917-373-0862',\n",
       "       'feature_cats_allowed', 'feature_central_a/c', 'feature_central_ac',\n",
       "       'feature_central_air', 'feature_chefs_kitchen',\n",
       "       \"feature_children's_playroom\", 'feature_childrens_playroom',\n",
       "       'feature_cinema_room', 'feature_city_view',\n",
       "       'feature_close_to_subway', 'feature_closets_galore!',\n",
       "       'feature_club_sun_deck_has_spectacular_city_and_river_views',\n",
       "       'feature_cold_storage', 'feature_common_backyard',\n",
       "       'feature_common_garden', 'feature_common_outdoor_space',\n",
       "       'feature_common_parking/garage', 'feature_common_roof_deck',\n",
       "       'feature_common_storage', 'feature_common_terrace',\n",
       "       'feature_community_recreation_facilities',\n",
       "       'feature_complimentary_sunday_brunch', 'feature_concierge',\n",
       "       'feature_concierge_service', 'feature_condo_finishes',\n",
       "       'feature_courtyard', 'feature_crown_moldings', 'feature_deck',\n",
       "       'feature_deco_brick_wall', 'feature_decorative_fireplace',\n",
       "       'feature_dining_room', 'feature_dishwasher', 'feature_dogs_allowed',\n",
       "       'feature_doorman', 'feature_dry_cleaning_service',\n",
       "       'feature_dryer_in_unit', 'feature_duplex', 'feature_duplex_lounge',\n",
       "       'feature_eat-in_kitchen', 'feature_eat_in_kitchen',\n",
       "       'feature_elegant_glass-enclosed_private_lounge_with_magnificent_river_views',\n",
       "       'feature_elevator', 'feature_exclusive',\n",
       "       'feature_exercise/yoga_studio', 'feature_exposed_brick',\n",
       "       'feature_extra_room', 'feature_fireplace', 'feature_fireplaces',\n",
       "       'feature_fitness_center', 'feature_fitness_room', 'feature_flex-2',\n",
       "       'feature_flex-3', 'feature_free_wifi_in_club_lounge',\n",
       "       'feature_ft_doorman', 'feature_full-time_doorman',\n",
       "       'feature_full_service_garage',\n",
       "       'feature_fully-equipped_club_fitness_center',\n",
       "       'feature_fully__equipped', 'feature_furnished', 'feature_game_room',\n",
       "       'feature_garage', 'feature_garbage_disposal', 'feature_garden',\n",
       "       'feature_garden/patio', 'feature_granite_countertops',\n",
       "       'feature_granite_kitchen', 'feature_green_building',\n",
       "       'feature_guarantors_accepted', 'feature_gut_renovated',\n",
       "       'feature_gym', 'feature_gym/fitness', 'feature_gym_in_building',\n",
       "       'feature_hardwood', 'feature_hardwood_floors',\n",
       "       'feature_health_club', 'feature_hi_rise',\n",
       "       'feature_high-speed_internet', 'feature_high_ceiling',\n",
       "       'feature_high_ceilings', 'feature_high_speed_internet',\n",
       "       'feature_highrise', 'feature_housekeeping_service',\n",
       "       'feature_in-unit_washer/dryer', 'feature_indoor_pool',\n",
       "       'feature_intercom', 'feature_jacuzzi', 'feature_large_living_room',\n",
       "       'feature_laundry', 'feature_laundry_&_housekeeping',\n",
       "       'feature_laundry_in_building', 'feature_laundry_in_unit',\n",
       "       'feature_laundry_on_every_floor', 'feature_laundry_on_floor',\n",
       "       'feature_laundry_room', 'feature_light', 'feature_live-in_super',\n",
       "       'feature_live-in_superintendent', 'feature_live/work',\n",
       "       'feature_live_in_super', 'feature_loft', 'feature_lounge',\n",
       "       'feature_lounge_room', 'feature_lowrise', 'feature_luxury_building',\n",
       "       'feature_magnificent_venetian-style', 'feature_mail_room',\n",
       "       'feature_marble_bath', 'feature_marble_bathroom',\n",
       "       'feature_media_room', 'feature_media_screening_room',\n",
       "       'feature_microwave', 'feature_midrise', 'feature_multi-level',\n",
       "       'feature_new_construction', 'feature_newly_renovated',\n",
       "       'feature_no_fee', 'feature_no_pets', 'feature_on-site_atm_machine',\n",
       "       'feature_on-site_attended_garage', 'feature_on-site_garage',\n",
       "       'feature_on-site_laundry',\n",
       "       'feature_on-site_lifestyle_concierge_by_luxury_attach\\xc3\\xa9',\n",
       "       'feature_on-site_parking', 'feature_on-site_parking_available',\n",
       "       'feature_on-site_parking_lot', 'feature_on-site_super',\n",
       "       'feature_one_month_free', 'feature_outdoor_areas',\n",
       "       'feature_outdoor_entertainment_space', 'feature_outdoor_pool',\n",
       "       'feature_outdoor_roof_deck_overlooking_new_york_harbor_and_battery_park',\n",
       "       'feature_outdoor_space', 'feature_package_room', 'feature_parking',\n",
       "       'feature_parking_available', 'feature_parking_space',\n",
       "       'feature_part-time_doorman', 'feature_party_room', 'feature_patio',\n",
       "       'feature_penthouse', 'feature_pet_friendly', 'feature_pets',\n",
       "       'feature_pets_allowed', 'feature_pets_on_approval',\n",
       "       'feature_playroom', 'feature_playroom/nursery', 'feature_pool',\n",
       "       'feature_post-war', 'feature_post_war', 'feature_pre-war',\n",
       "       'feature_pre_war', 'feature_prewar', 'feature_private-balcony',\n",
       "       'feature_private-outdoor-space', 'feature_private_backyard',\n",
       "       'feature_private_balcony', 'feature_private_deck',\n",
       "       'feature_private_garden',\n",
       "       'feature_private_laundry_room_on_every_floor',\n",
       "       'feature_private_outdoor_space', 'feature_private_parking',\n",
       "       'feature_private_roof_deck', 'feature_private_roofdeck',\n",
       "       'feature_private_terrace', 'feature_publicoutdoor',\n",
       "       'feature_queen_size_bedrooms', 'feature_queen_sized_rooms',\n",
       "       'feature_reduced_fee', 'feature_renovated',\n",
       "       'feature_renovated_kitchen', 'feature_residents_garden',\n",
       "       'feature_residents_lounge', 'feature_roof-deck',\n",
       "       'feature_roof_access', 'feature_roof_deck',\n",
       "       'feature_roof_deck_with_grills', 'feature_roofdeck',\n",
       "       'feature_rooftop_deck', 'feature_rooftop_terrace',\n",
       "       'feature_s/s_appliances', 'feature_sauna', 'feature_screening_room',\n",
       "       'feature_separate_kitchen', 'feature_shared_backyard',\n",
       "       'feature_shared_garden', 'feature_shares_ok',\n",
       "       'feature_short_term_allowed', 'feature_simplex', 'feature_skylight',\n",
       "       'feature_skylight_atrium', 'feature_southern_exposure',\n",
       "       'feature_spa_services', 'feature_ss_appliances',\n",
       "       'feature_stainless_steel', 'feature_stainless_steel_appliances',\n",
       "       'feature_state-of-the-art_fitness_center', 'feature_storage',\n",
       "       'feature_storage_available', 'feature_storage_facilities_available',\n",
       "       'feature_storage_room', 'feature_sublet', 'feature_subway',\n",
       "       'feature_sundeck', 'feature_swimming_pool', 'feature_tenant_lounge',\n",
       "       'feature_terrace', 'feature_terraces_/_balconies',\n",
       "       'feature_tons_of_natural_light', 'feature_valet',\n",
       "       'feature_valet_parking', 'feature_valet_service',\n",
       "       'feature_valet_services',\n",
       "       'feature_valet_services_including_dry_cleaning',\n",
       "       'feature_video_intercom', 'feature_view', 'feature_virtual_doorman',\n",
       "       'feature_virtual_tour', 'feature_walk-in_closet', 'feature_walk-up',\n",
       "       'feature_walk_in_closet', 'feature_walk_in_closet(s)',\n",
       "       'feature_washer/dryer', 'feature_washer/dryer_hookup',\n",
       "       'feature_washer/dryer_in-unit', 'feature_washer/dryer_in_building',\n",
       "       'feature_washer/dryer_in_unit', 'feature_washer_&_dryer',\n",
       "       'feature_washer_in_unit', 'feature_wheelchair_access',\n",
       "       'feature_wheelchair_ramp', 'feature_wifi', 'feature_wifi_access',\n",
       "       'feature_wood-burning_fireplace', 'feature_yard',\n",
       "       'feature_yoga_classes', 'photo_count', 'building_id_mean_med',\n",
       "       'building_id_mean_high', 'manager_id_mean_med',\n",
       "       'manager_id_mean_high', 'desc_wordcount', 'pricePerBed',\n",
       "       'pricePerBath', 'pricePerRoom', 'bedPerBath', 'bedBathDiff',\n",
       "       'bedBathSum', 'bedsPerc', 'median_price_bed', 'ratio_bed',\n",
       "       'num_features', 'created_month', 'created_day', 'created_hour',\n",
       "       'created_weekday', 'compound', 'neg', 'neu', 'pos', 'street',\n",
       "       'avenue', 'east', 'west', 'north', 'south', 'other_address',\n",
       "       'top_10_manager', 'top_25_manager', 'top_5_manager',\n",
       "       'top_50_manager', 'top_1_manager', 'top_2_manager',\n",
       "       'top_15_manager', 'top_20_manager', 'top_30_manager',\n",
       "       'Zero_building_id', 'top_10_building', 'top_25_building',\n",
       "       'top_5_building', 'top_50_building', 'top_1_building',\n",
       "       'top_2_building', 'top_15_building', 'top_20_building',\n",
       "       'top_30_building', 'desc_access', 'desc_allow', 'desc_amaz',\n",
       "       'desc_amen', 'desc_ani', 'desc_apart', 'desc_applianc',\n",
       "       'desc_appoint', 'desc_area', 'desc_art', 'desc_avail', 'desc_away',\n",
       "       'desc_bar', 'desc_bath', 'desc_bathroom', 'desc_beauti', 'desc_bed',\n",
       "       'desc_bedroom', 'desc_best', 'desc_blank', 'desc_block',\n",
       "       'desc_bond', 'desc_br', 'desc_brand', 'desc_brick', 'desc_bright',\n",
       "       'desc_broker', 'desc_build', 'desc_c', 'desc_cabinet', 'desc_ceil',\n",
       "       'desc_center', 'desc_central', 'desc_citi', 'desc_close',\n",
       "       'desc_closet', 'desc_club', 'desc_com', 'desc_come',\n",
       "       'desc_concierg', 'desc_contact', 'desc_conveni', 'desc_counter',\n",
       "       'desc_countertop', 'desc_custom', 'desc_deal', 'desc_deck',\n",
       "       'desc_design', 'desc_dine', 'desc_dishwash', 'desc_doorman',\n",
       "       'desc_dryer', 'desc_e', 'desc_east', 'desc_elev', 'desc_email',\n",
       "       'desc_enjoy', 'desc_equal', 'desc_equip', 'desc_estat',\n",
       "       'desc_everi', 'desc_exclus', 'desc_expos', 'desc_featur',\n",
       "       'desc_fee', 'desc_feel', 'desc_finish', 'desc_fit', 'desc_flex',\n",
       "       'desc_floor', 'desc_free', 'desc_friendli', 'desc_fulli',\n",
       "       'desc_garag', 'desc_gorgeou', 'desc_granit', 'desc_great',\n",
       "       'desc_gym', 'desc_ha', 'desc_hardwood', 'desc_heart', 'desc_heat',\n",
       "       'desc_height', 'desc_high', 'desc_home', 'desc_hour', 'desc_hous',\n",
       "       'desc_href', 'desc_huge', 'desc_includ', 'desc_inform', 'desc_just',\n",
       "       'desc_kagglemanag', 'desc_king', 'desc_kitchen', 'desc_larg',\n",
       "       'desc_laundri', 'desc_layout', 'desc_li', 'desc_light', 'desc_line',\n",
       "       'desc_list', 'desc_live', 'desc_locat', 'desc_look', 'desc_lot',\n",
       "       'desc_loung', 'desc_luxuri', 'desc_m', 'desc_make',\n",
       "       'desc_manhattan', 'desc_mani', 'desc_marbl', 'desc_market',\n",
       "       'desc_microwav', 'desc_midtown', 'desc_minut', 'desc_modern',\n",
       "       'desc_month', 'desc_natur', 'desc_near', 'desc_neighborhood',\n",
       "       'desc_new', 'desc_newli', 'desc_offer', 'desc_onli', 'desc_open',\n",
       "       'desc_opportun', 'desc_outdoor', 'desc_park', 'desc_perfect',\n",
       "       'desc_pet', 'desc_place', 'desc_pleas', 'desc_plenti', 'desc_pool',\n",
       "       'desc_price', 'desc_prime', 'desc_privat', 'desc_queen',\n",
       "       'desc_real', 'desc_renov', 'desc_rent', 'desc_renthop',\n",
       "       'desc_resid', 'desc_restaur', 'desc_river', 'desc_roof',\n",
       "       'desc_rooftop', 'desc_room', 'desc_s', 'desc_schedul', 'desc_separ',\n",
       "       'desc_servic', 'desc_shop', 'desc_site', 'desc_size', 'desc_space',\n",
       "       'desc_spaciou', 'desc_squar', 'desc_st', 'desc_stainless',\n",
       "       'desc_state', 'desc_steel', 'desc_step', 'desc_storag',\n",
       "       'desc_street', 'desc_studio', 'desc_stun', 'desc_subway',\n",
       "       'desc_sun', 'desc_super', 'desc_support', 'desc_t', 'desc_target',\n",
       "       'desc_terrac', 'desc_text', 'desc_th', 'desc_thi', 'desc_tile',\n",
       "       'desc_time', 'desc_today', 'desc_ton', 'desc_train',\n",
       "       'desc_transport', 'desc_ul', 'desc_unit', 'desc_upper',\n",
       "       'desc_valet', 'desc_veri', 'desc_view', 'desc_villag', 'desc_w',\n",
       "       'desc_walk', 'desc_wall', 'desc_washer', 'desc_west', 'desc_window',\n",
       "       'desc_wood', 'desc_york'], dtype=object)"
      ]
     },
     "execution_count": 29,
     "metadata": {},
     "output_type": "execute_result"
    }
   ],
   "source": [
    "train_X_2.columns.values"
   ]
  },
  {
   "cell_type": "code",
   "execution_count": 25,
   "metadata": {
    "collapsed": false
   },
   "outputs": [],
   "source": [
    "def RFC_cv(max_features = 0.5, n_estimators=300, min_samples_leaf  =1):\n",
    "    scores=[]\n",
    "    est=RandomForestClassifier(max_features=max_features,\n",
    "                               n_estimators=int(n_estimators),\n",
    "                               min_samples_leaf =int(min_samples_leaf), \n",
    "                               criterion = 'entropy',\n",
    "                               random_state=seed,\n",
    "                               n_jobs = 6\n",
    "                              )\n",
    "#     est.fit(X_train, y_train)\n",
    "#     y_val_pred = est.predict_proba(X_val)\n",
    "    return cross_val_score(est,train_X,train_y, scoring = 'neg_log_loss', cv = 3).mean()\n",
    "#     return -1*log_loss(y_val, y_val_pred)"
   ]
  },
  {
   "cell_type": "code",
   "execution_count": 26,
   "metadata": {
    "collapsed": false
   },
   "outputs": [
    {
     "name": "stdout",
     "output_type": "stream",
     "text": [
      "max_features: 0.1\tscore: -0.582229439116\n",
      "max_features: 0.2\tscore: -0.580688823867\n"
     ]
    },
    {
     "ename": "KeyboardInterrupt",
     "evalue": "",
     "output_type": "error",
     "traceback": [
      "\u001b[0;31m---------------------------------------------------------------------------\u001b[0m",
      "\u001b[0;31mKeyboardInterrupt\u001b[0m                         Traceback (most recent call last)",
      "\u001b[0;32m<ipython-input-26-554b8be4a469>\u001b[0m in \u001b[0;36m<module>\u001b[0;34m()\u001b[0m\n\u001b[1;32m      1\u001b[0m \u001b[0mcv_score\u001b[0m \u001b[1;33m=\u001b[0m \u001b[1;33m-\u001b[0m\u001b[1;36m1\u001b[0m\u001b[1;33m\u001b[0m\u001b[0m\n\u001b[1;32m      2\u001b[0m \u001b[1;32mfor\u001b[0m \u001b[0mx\u001b[0m \u001b[1;32min\u001b[0m \u001b[1;33m[\u001b[0m\u001b[1;36m0.1\u001b[0m\u001b[1;33m,\u001b[0m\u001b[1;36m0.2\u001b[0m\u001b[1;33m,\u001b[0m\u001b[1;36m0.3\u001b[0m\u001b[1;33m,\u001b[0m\u001b[1;36m0.4\u001b[0m\u001b[1;33m,\u001b[0m\u001b[1;36m0.5\u001b[0m\u001b[1;33m,\u001b[0m\u001b[1;36m0.6\u001b[0m\u001b[1;33m,\u001b[0m\u001b[1;36m0.7\u001b[0m\u001b[1;33m,\u001b[0m\u001b[1;36m0.8\u001b[0m\u001b[1;33m,\u001b[0m\u001b[1;36m0.9\u001b[0m\u001b[1;33m]\u001b[0m\u001b[1;33m:\u001b[0m\u001b[1;31m#\u001b[0m\u001b[1;33m\u001b[0m\u001b[0m\n\u001b[0;32m----> 3\u001b[0;31m     \u001b[0mscore\u001b[0m \u001b[1;33m=\u001b[0m \u001b[0mRFC_cv\u001b[0m\u001b[1;33m(\u001b[0m\u001b[0mmax_features\u001b[0m \u001b[1;33m=\u001b[0m \u001b[0mx\u001b[0m\u001b[1;33m)\u001b[0m\u001b[1;33m\u001b[0m\u001b[0m\n\u001b[0m\u001b[1;32m      4\u001b[0m     \u001b[1;32mif\u001b[0m \u001b[0mscore\u001b[0m \u001b[1;33m>\u001b[0m \u001b[0mcv_score\u001b[0m\u001b[1;33m:\u001b[0m\u001b[1;33m\u001b[0m\u001b[0m\n\u001b[1;32m      5\u001b[0m         \u001b[0mmax_features\u001b[0m \u001b[1;33m=\u001b[0m \u001b[0mx\u001b[0m\u001b[1;33m\u001b[0m\u001b[0m\n",
      "\u001b[0;32m<ipython-input-25-d08545f52e7b>\u001b[0m in \u001b[0;36mRFC_cv\u001b[0;34m(max_features, n_estimators, min_samples_leaf)\u001b[0m\n\u001b[1;32m     10\u001b[0m \u001b[1;31m#     est.fit(X_train, y_train)\u001b[0m\u001b[1;33m\u001b[0m\u001b[1;33m\u001b[0m\u001b[0m\n\u001b[1;32m     11\u001b[0m \u001b[1;31m#     y_val_pred = est.predict_proba(X_val)\u001b[0m\u001b[1;33m\u001b[0m\u001b[1;33m\u001b[0m\u001b[0m\n\u001b[0;32m---> 12\u001b[0;31m     \u001b[1;32mreturn\u001b[0m \u001b[0mcross_val_score\u001b[0m\u001b[1;33m(\u001b[0m\u001b[0mest\u001b[0m\u001b[1;33m,\u001b[0m\u001b[0mtrain_X\u001b[0m\u001b[1;33m,\u001b[0m\u001b[0mtrain_y\u001b[0m\u001b[1;33m,\u001b[0m \u001b[0mscoring\u001b[0m \u001b[1;33m=\u001b[0m \u001b[1;34m'neg_log_loss'\u001b[0m\u001b[1;33m,\u001b[0m \u001b[0mcv\u001b[0m \u001b[1;33m=\u001b[0m \u001b[1;36m3\u001b[0m\u001b[1;33m)\u001b[0m\u001b[1;33m.\u001b[0m\u001b[0mmean\u001b[0m\u001b[1;33m(\u001b[0m\u001b[1;33m)\u001b[0m\u001b[1;33m\u001b[0m\u001b[0m\n\u001b[0m\u001b[1;32m     13\u001b[0m \u001b[1;31m#     return -1*log_loss(y_val, y_val_pred)\u001b[0m\u001b[1;33m\u001b[0m\u001b[1;33m\u001b[0m\u001b[0m\n",
      "\u001b[0;32mD:\\python\\Anaconda2\\lib\\site-packages\\sklearn\\model_selection\\_validation.pyc\u001b[0m in \u001b[0;36mcross_val_score\u001b[0;34m(estimator, X, y, groups, scoring, cv, n_jobs, verbose, fit_params, pre_dispatch)\u001b[0m\n\u001b[1;32m    138\u001b[0m                                               \u001b[0mtrain\u001b[0m\u001b[1;33m,\u001b[0m \u001b[0mtest\u001b[0m\u001b[1;33m,\u001b[0m \u001b[0mverbose\u001b[0m\u001b[1;33m,\u001b[0m \u001b[0mNone\u001b[0m\u001b[1;33m,\u001b[0m\u001b[1;33m\u001b[0m\u001b[0m\n\u001b[1;32m    139\u001b[0m                                               fit_params)\n\u001b[0;32m--> 140\u001b[0;31m                       for train, test in cv_iter)\n\u001b[0m\u001b[1;32m    141\u001b[0m     \u001b[1;32mreturn\u001b[0m \u001b[0mnp\u001b[0m\u001b[1;33m.\u001b[0m\u001b[0marray\u001b[0m\u001b[1;33m(\u001b[0m\u001b[0mscores\u001b[0m\u001b[1;33m)\u001b[0m\u001b[1;33m[\u001b[0m\u001b[1;33m:\u001b[0m\u001b[1;33m,\u001b[0m \u001b[1;36m0\u001b[0m\u001b[1;33m]\u001b[0m\u001b[1;33m\u001b[0m\u001b[0m\n\u001b[1;32m    142\u001b[0m \u001b[1;33m\u001b[0m\u001b[0m\n",
      "\u001b[0;32mD:\\python\\Anaconda2\\lib\\site-packages\\sklearn\\externals\\joblib\\parallel.pyc\u001b[0m in \u001b[0;36m__call__\u001b[0;34m(self, iterable)\u001b[0m\n\u001b[1;32m    756\u001b[0m             \u001b[1;31m# was dispatched. In particular this covers the edge\u001b[0m\u001b[1;33m\u001b[0m\u001b[1;33m\u001b[0m\u001b[0m\n\u001b[1;32m    757\u001b[0m             \u001b[1;31m# case of Parallel used with an exhausted iterator.\u001b[0m\u001b[1;33m\u001b[0m\u001b[1;33m\u001b[0m\u001b[0m\n\u001b[0;32m--> 758\u001b[0;31m             \u001b[1;32mwhile\u001b[0m \u001b[0mself\u001b[0m\u001b[1;33m.\u001b[0m\u001b[0mdispatch_one_batch\u001b[0m\u001b[1;33m(\u001b[0m\u001b[0miterator\u001b[0m\u001b[1;33m)\u001b[0m\u001b[1;33m:\u001b[0m\u001b[1;33m\u001b[0m\u001b[0m\n\u001b[0m\u001b[1;32m    759\u001b[0m                 \u001b[0mself\u001b[0m\u001b[1;33m.\u001b[0m\u001b[0m_iterating\u001b[0m \u001b[1;33m=\u001b[0m \u001b[0mTrue\u001b[0m\u001b[1;33m\u001b[0m\u001b[0m\n\u001b[1;32m    760\u001b[0m             \u001b[1;32melse\u001b[0m\u001b[1;33m:\u001b[0m\u001b[1;33m\u001b[0m\u001b[0m\n",
      "\u001b[0;32mD:\\python\\Anaconda2\\lib\\site-packages\\sklearn\\externals\\joblib\\parallel.pyc\u001b[0m in \u001b[0;36mdispatch_one_batch\u001b[0;34m(self, iterator)\u001b[0m\n\u001b[1;32m    606\u001b[0m                 \u001b[1;32mreturn\u001b[0m \u001b[0mFalse\u001b[0m\u001b[1;33m\u001b[0m\u001b[0m\n\u001b[1;32m    607\u001b[0m             \u001b[1;32melse\u001b[0m\u001b[1;33m:\u001b[0m\u001b[1;33m\u001b[0m\u001b[0m\n\u001b[0;32m--> 608\u001b[0;31m                 \u001b[0mself\u001b[0m\u001b[1;33m.\u001b[0m\u001b[0m_dispatch\u001b[0m\u001b[1;33m(\u001b[0m\u001b[0mtasks\u001b[0m\u001b[1;33m)\u001b[0m\u001b[1;33m\u001b[0m\u001b[0m\n\u001b[0m\u001b[1;32m    609\u001b[0m                 \u001b[1;32mreturn\u001b[0m \u001b[0mTrue\u001b[0m\u001b[1;33m\u001b[0m\u001b[0m\n\u001b[1;32m    610\u001b[0m \u001b[1;33m\u001b[0m\u001b[0m\n",
      "\u001b[0;32mD:\\python\\Anaconda2\\lib\\site-packages\\sklearn\\externals\\joblib\\parallel.pyc\u001b[0m in \u001b[0;36m_dispatch\u001b[0;34m(self, batch)\u001b[0m\n\u001b[1;32m    569\u001b[0m         \u001b[0mdispatch_timestamp\u001b[0m \u001b[1;33m=\u001b[0m \u001b[0mtime\u001b[0m\u001b[1;33m.\u001b[0m\u001b[0mtime\u001b[0m\u001b[1;33m(\u001b[0m\u001b[1;33m)\u001b[0m\u001b[1;33m\u001b[0m\u001b[0m\n\u001b[1;32m    570\u001b[0m         \u001b[0mcb\u001b[0m \u001b[1;33m=\u001b[0m \u001b[0mBatchCompletionCallBack\u001b[0m\u001b[1;33m(\u001b[0m\u001b[0mdispatch_timestamp\u001b[0m\u001b[1;33m,\u001b[0m \u001b[0mlen\u001b[0m\u001b[1;33m(\u001b[0m\u001b[0mbatch\u001b[0m\u001b[1;33m)\u001b[0m\u001b[1;33m,\u001b[0m \u001b[0mself\u001b[0m\u001b[1;33m)\u001b[0m\u001b[1;33m\u001b[0m\u001b[0m\n\u001b[0;32m--> 571\u001b[0;31m         \u001b[0mjob\u001b[0m \u001b[1;33m=\u001b[0m \u001b[0mself\u001b[0m\u001b[1;33m.\u001b[0m\u001b[0m_backend\u001b[0m\u001b[1;33m.\u001b[0m\u001b[0mapply_async\u001b[0m\u001b[1;33m(\u001b[0m\u001b[0mbatch\u001b[0m\u001b[1;33m,\u001b[0m \u001b[0mcallback\u001b[0m\u001b[1;33m=\u001b[0m\u001b[0mcb\u001b[0m\u001b[1;33m)\u001b[0m\u001b[1;33m\u001b[0m\u001b[0m\n\u001b[0m\u001b[1;32m    572\u001b[0m         \u001b[0mself\u001b[0m\u001b[1;33m.\u001b[0m\u001b[0m_jobs\u001b[0m\u001b[1;33m.\u001b[0m\u001b[0mappend\u001b[0m\u001b[1;33m(\u001b[0m\u001b[0mjob\u001b[0m\u001b[1;33m)\u001b[0m\u001b[1;33m\u001b[0m\u001b[0m\n\u001b[1;32m    573\u001b[0m \u001b[1;33m\u001b[0m\u001b[0m\n",
      "\u001b[0;32mD:\\python\\Anaconda2\\lib\\site-packages\\sklearn\\externals\\joblib\\_parallel_backends.pyc\u001b[0m in \u001b[0;36mapply_async\u001b[0;34m(self, func, callback)\u001b[0m\n\u001b[1;32m    107\u001b[0m     \u001b[1;32mdef\u001b[0m \u001b[0mapply_async\u001b[0m\u001b[1;33m(\u001b[0m\u001b[0mself\u001b[0m\u001b[1;33m,\u001b[0m \u001b[0mfunc\u001b[0m\u001b[1;33m,\u001b[0m \u001b[0mcallback\u001b[0m\u001b[1;33m=\u001b[0m\u001b[0mNone\u001b[0m\u001b[1;33m)\u001b[0m\u001b[1;33m:\u001b[0m\u001b[1;33m\u001b[0m\u001b[0m\n\u001b[1;32m    108\u001b[0m         \u001b[1;34m\"\"\"Schedule a func to be run\"\"\"\u001b[0m\u001b[1;33m\u001b[0m\u001b[0m\n\u001b[0;32m--> 109\u001b[0;31m         \u001b[0mresult\u001b[0m \u001b[1;33m=\u001b[0m \u001b[0mImmediateResult\u001b[0m\u001b[1;33m(\u001b[0m\u001b[0mfunc\u001b[0m\u001b[1;33m)\u001b[0m\u001b[1;33m\u001b[0m\u001b[0m\n\u001b[0m\u001b[1;32m    110\u001b[0m         \u001b[1;32mif\u001b[0m \u001b[0mcallback\u001b[0m\u001b[1;33m:\u001b[0m\u001b[1;33m\u001b[0m\u001b[0m\n\u001b[1;32m    111\u001b[0m             \u001b[0mcallback\u001b[0m\u001b[1;33m(\u001b[0m\u001b[0mresult\u001b[0m\u001b[1;33m)\u001b[0m\u001b[1;33m\u001b[0m\u001b[0m\n",
      "\u001b[0;32mD:\\python\\Anaconda2\\lib\\site-packages\\sklearn\\externals\\joblib\\_parallel_backends.pyc\u001b[0m in \u001b[0;36m__init__\u001b[0;34m(self, batch)\u001b[0m\n\u001b[1;32m    324\u001b[0m         \u001b[1;31m# Don't delay the application, to avoid keeping the input\u001b[0m\u001b[1;33m\u001b[0m\u001b[1;33m\u001b[0m\u001b[0m\n\u001b[1;32m    325\u001b[0m         \u001b[1;31m# arguments in memory\u001b[0m\u001b[1;33m\u001b[0m\u001b[1;33m\u001b[0m\u001b[0m\n\u001b[0;32m--> 326\u001b[0;31m         \u001b[0mself\u001b[0m\u001b[1;33m.\u001b[0m\u001b[0mresults\u001b[0m \u001b[1;33m=\u001b[0m \u001b[0mbatch\u001b[0m\u001b[1;33m(\u001b[0m\u001b[1;33m)\u001b[0m\u001b[1;33m\u001b[0m\u001b[0m\n\u001b[0m\u001b[1;32m    327\u001b[0m \u001b[1;33m\u001b[0m\u001b[0m\n\u001b[1;32m    328\u001b[0m     \u001b[1;32mdef\u001b[0m \u001b[0mget\u001b[0m\u001b[1;33m(\u001b[0m\u001b[0mself\u001b[0m\u001b[1;33m)\u001b[0m\u001b[1;33m:\u001b[0m\u001b[1;33m\u001b[0m\u001b[0m\n",
      "\u001b[0;32mD:\\python\\Anaconda2\\lib\\site-packages\\sklearn\\externals\\joblib\\parallel.pyc\u001b[0m in \u001b[0;36m__call__\u001b[0;34m(self)\u001b[0m\n\u001b[1;32m    129\u001b[0m \u001b[1;33m\u001b[0m\u001b[0m\n\u001b[1;32m    130\u001b[0m     \u001b[1;32mdef\u001b[0m \u001b[0m__call__\u001b[0m\u001b[1;33m(\u001b[0m\u001b[0mself\u001b[0m\u001b[1;33m)\u001b[0m\u001b[1;33m:\u001b[0m\u001b[1;33m\u001b[0m\u001b[0m\n\u001b[0;32m--> 131\u001b[0;31m         \u001b[1;32mreturn\u001b[0m \u001b[1;33m[\u001b[0m\u001b[0mfunc\u001b[0m\u001b[1;33m(\u001b[0m\u001b[1;33m*\u001b[0m\u001b[0margs\u001b[0m\u001b[1;33m,\u001b[0m \u001b[1;33m**\u001b[0m\u001b[0mkwargs\u001b[0m\u001b[1;33m)\u001b[0m \u001b[1;32mfor\u001b[0m \u001b[0mfunc\u001b[0m\u001b[1;33m,\u001b[0m \u001b[0margs\u001b[0m\u001b[1;33m,\u001b[0m \u001b[0mkwargs\u001b[0m \u001b[1;32min\u001b[0m \u001b[0mself\u001b[0m\u001b[1;33m.\u001b[0m\u001b[0mitems\u001b[0m\u001b[1;33m]\u001b[0m\u001b[1;33m\u001b[0m\u001b[0m\n\u001b[0m\u001b[1;32m    132\u001b[0m \u001b[1;33m\u001b[0m\u001b[0m\n\u001b[1;32m    133\u001b[0m     \u001b[1;32mdef\u001b[0m \u001b[0m__len__\u001b[0m\u001b[1;33m(\u001b[0m\u001b[0mself\u001b[0m\u001b[1;33m)\u001b[0m\u001b[1;33m:\u001b[0m\u001b[1;33m\u001b[0m\u001b[0m\n",
      "\u001b[0;32mD:\\python\\Anaconda2\\lib\\site-packages\\sklearn\\model_selection\\_validation.pyc\u001b[0m in \u001b[0;36m_fit_and_score\u001b[0;34m(estimator, X, y, scorer, train, test, verbose, parameters, fit_params, return_train_score, return_parameters, return_n_test_samples, return_times, error_score)\u001b[0m\n\u001b[1;32m    236\u001b[0m             \u001b[0mestimator\u001b[0m\u001b[1;33m.\u001b[0m\u001b[0mfit\u001b[0m\u001b[1;33m(\u001b[0m\u001b[0mX_train\u001b[0m\u001b[1;33m,\u001b[0m \u001b[1;33m**\u001b[0m\u001b[0mfit_params\u001b[0m\u001b[1;33m)\u001b[0m\u001b[1;33m\u001b[0m\u001b[0m\n\u001b[1;32m    237\u001b[0m         \u001b[1;32melse\u001b[0m\u001b[1;33m:\u001b[0m\u001b[1;33m\u001b[0m\u001b[0m\n\u001b[0;32m--> 238\u001b[0;31m             \u001b[0mestimator\u001b[0m\u001b[1;33m.\u001b[0m\u001b[0mfit\u001b[0m\u001b[1;33m(\u001b[0m\u001b[0mX_train\u001b[0m\u001b[1;33m,\u001b[0m \u001b[0my_train\u001b[0m\u001b[1;33m,\u001b[0m \u001b[1;33m**\u001b[0m\u001b[0mfit_params\u001b[0m\u001b[1;33m)\u001b[0m\u001b[1;33m\u001b[0m\u001b[0m\n\u001b[0m\u001b[1;32m    239\u001b[0m \u001b[1;33m\u001b[0m\u001b[0m\n\u001b[1;32m    240\u001b[0m     \u001b[1;32mexcept\u001b[0m \u001b[0mException\u001b[0m \u001b[1;32mas\u001b[0m \u001b[0me\u001b[0m\u001b[1;33m:\u001b[0m\u001b[1;33m\u001b[0m\u001b[0m\n",
      "\u001b[0;32mD:\\python\\Anaconda2\\lib\\site-packages\\sklearn\\ensemble\\forest.pyc\u001b[0m in \u001b[0;36mfit\u001b[0;34m(self, X, y, sample_weight)\u001b[0m\n\u001b[1;32m    324\u001b[0m                     \u001b[0mt\u001b[0m\u001b[1;33m,\u001b[0m \u001b[0mself\u001b[0m\u001b[1;33m,\u001b[0m \u001b[0mX\u001b[0m\u001b[1;33m,\u001b[0m \u001b[0my\u001b[0m\u001b[1;33m,\u001b[0m \u001b[0msample_weight\u001b[0m\u001b[1;33m,\u001b[0m \u001b[0mi\u001b[0m\u001b[1;33m,\u001b[0m \u001b[0mlen\u001b[0m\u001b[1;33m(\u001b[0m\u001b[0mtrees\u001b[0m\u001b[1;33m)\u001b[0m\u001b[1;33m,\u001b[0m\u001b[1;33m\u001b[0m\u001b[0m\n\u001b[1;32m    325\u001b[0m                     verbose=self.verbose, class_weight=self.class_weight)\n\u001b[0;32m--> 326\u001b[0;31m                 for i, t in enumerate(trees))\n\u001b[0m\u001b[1;32m    327\u001b[0m \u001b[1;33m\u001b[0m\u001b[0m\n\u001b[1;32m    328\u001b[0m             \u001b[1;31m# Collect newly grown trees\u001b[0m\u001b[1;33m\u001b[0m\u001b[1;33m\u001b[0m\u001b[0m\n",
      "\u001b[0;32mD:\\python\\Anaconda2\\lib\\site-packages\\sklearn\\externals\\joblib\\parallel.pyc\u001b[0m in \u001b[0;36m__call__\u001b[0;34m(self, iterable)\u001b[0m\n\u001b[1;32m    766\u001b[0m                 \u001b[1;31m# consumption.\u001b[0m\u001b[1;33m\u001b[0m\u001b[1;33m\u001b[0m\u001b[0m\n\u001b[1;32m    767\u001b[0m                 \u001b[0mself\u001b[0m\u001b[1;33m.\u001b[0m\u001b[0m_iterating\u001b[0m \u001b[1;33m=\u001b[0m \u001b[0mFalse\u001b[0m\u001b[1;33m\u001b[0m\u001b[0m\n\u001b[0;32m--> 768\u001b[0;31m             \u001b[0mself\u001b[0m\u001b[1;33m.\u001b[0m\u001b[0mretrieve\u001b[0m\u001b[1;33m(\u001b[0m\u001b[1;33m)\u001b[0m\u001b[1;33m\u001b[0m\u001b[0m\n\u001b[0m\u001b[1;32m    769\u001b[0m             \u001b[1;31m# Make sure that we get a last message telling us we are done\u001b[0m\u001b[1;33m\u001b[0m\u001b[1;33m\u001b[0m\u001b[0m\n\u001b[1;32m    770\u001b[0m             \u001b[0melapsed_time\u001b[0m \u001b[1;33m=\u001b[0m \u001b[0mtime\u001b[0m\u001b[1;33m.\u001b[0m\u001b[0mtime\u001b[0m\u001b[1;33m(\u001b[0m\u001b[1;33m)\u001b[0m \u001b[1;33m-\u001b[0m \u001b[0mself\u001b[0m\u001b[1;33m.\u001b[0m\u001b[0m_start_time\u001b[0m\u001b[1;33m\u001b[0m\u001b[0m\n",
      "\u001b[0;32mD:\\python\\Anaconda2\\lib\\site-packages\\sklearn\\externals\\joblib\\parallel.pyc\u001b[0m in \u001b[0;36mretrieve\u001b[0;34m(self)\u001b[0m\n\u001b[1;32m    717\u001b[0m                     \u001b[0mensure_ready\u001b[0m \u001b[1;33m=\u001b[0m \u001b[0mself\u001b[0m\u001b[1;33m.\u001b[0m\u001b[0m_managed_backend\u001b[0m\u001b[1;33m\u001b[0m\u001b[0m\n\u001b[1;32m    718\u001b[0m                     \u001b[0mbackend\u001b[0m\u001b[1;33m.\u001b[0m\u001b[0mabort_everything\u001b[0m\u001b[1;33m(\u001b[0m\u001b[0mensure_ready\u001b[0m\u001b[1;33m=\u001b[0m\u001b[0mensure_ready\u001b[0m\u001b[1;33m)\u001b[0m\u001b[1;33m\u001b[0m\u001b[0m\n\u001b[0;32m--> 719\u001b[0;31m                 \u001b[1;32mraise\u001b[0m \u001b[0mexception\u001b[0m\u001b[1;33m\u001b[0m\u001b[0m\n\u001b[0m\u001b[1;32m    720\u001b[0m \u001b[1;33m\u001b[0m\u001b[0m\n\u001b[1;32m    721\u001b[0m     \u001b[1;32mdef\u001b[0m \u001b[0m__call__\u001b[0m\u001b[1;33m(\u001b[0m\u001b[0mself\u001b[0m\u001b[1;33m,\u001b[0m \u001b[0miterable\u001b[0m\u001b[1;33m)\u001b[0m\u001b[1;33m:\u001b[0m\u001b[1;33m\u001b[0m\u001b[0m\n",
      "\u001b[0;31mKeyboardInterrupt\u001b[0m: "
     ]
    }
   ],
   "source": [
    "cv_score = -1\n",
    "for x in [0.1,0.2,0.3,0.4,0.5,0.6,0.7,0.8,0.9]:#\n",
    "    score = RFC_cv(max_features = x)\n",
    "    if score > cv_score:\n",
    "        max_features = x\n",
    "        cv_score = score\n",
    "    print 'max_features: {0:.1f}\\tscore: {1:.12f}'.format(x,score)"
   ]
  },
  {
   "cell_type": "code",
   "execution_count": 7,
   "metadata": {
    "collapsed": false
   },
   "outputs": [
    {
     "name": "stdout",
     "output_type": "stream",
     "text": [
      "0.2\n"
     ]
    }
   ],
   "source": [
    "print max_features\n",
    "# -0.576001690038"
   ]
  },
  {
   "cell_type": "code",
   "execution_count": 8,
   "metadata": {
    "collapsed": false
   },
   "outputs": [
    {
     "name": "stdout",
     "output_type": "stream",
     "text": [
      "min_samples_leaf: 1.0\tscore: -0.576001690038\n",
      "min_samples_leaf: 2.0\tscore: -0.572683987384\n",
      "min_samples_leaf: 4.0\tscore: -0.572554897002\n",
      "min_samples_leaf: 8.0\tscore: -0.573315740814\n",
      "min_samples_leaf: 16.0\tscore: -0.579171901865\n",
      "min_samples_leaf: 32.0\tscore: -0.585210249999\n"
     ]
    }
   ],
   "source": [
    "for x in [1,2,4,8,16,32]:\n",
    "    score = RFC_cv(max_features = max_features,min_samples_leaf = x)\n",
    "    if score > cv_score:\n",
    "        min_samples_leaf = x\n",
    "        cv_score = score    \n",
    "    print 'min_samples_leaf: {0:.1f}\\tscore: {1:.12f}'.format(x,score)"
   ]
  },
  {
   "cell_type": "code",
   "execution_count": 9,
   "metadata": {
    "collapsed": false
   },
   "outputs": [
    {
     "name": "stdout",
     "output_type": "stream",
     "text": [
      "min_samples_leaf: 3.0\tscore: -0.572017902570\n",
      "min_samples_leaf: 5.0\tscore: -0.572010307343\n",
      "min_samples_leaf: 6.0\tscore: -0.572720035720\n",
      "min_samples_leaf: 7.0\tscore: -0.572281413819\n"
     ]
    }
   ],
   "source": [
    "for x in [3,5,6,7]:\n",
    "    score = RFC_cv(max_features = max_features,min_samples_leaf = x)\n",
    "    if score > cv_score:\n",
    "        min_samples_leaf = x\n",
    "        cv_score = score    \n",
    "    print 'min_samples_leaf: {0:.1f}\\tscore: {1:.12f}'.format(x,score)"
   ]
  },
  {
   "cell_type": "code",
   "execution_count": 10,
   "metadata": {
    "collapsed": false
   },
   "outputs": [
    {
     "name": "stdout",
     "output_type": "stream",
     "text": [
      "5\n"
     ]
    }
   ],
   "source": [
    "print min_samples_leaf"
   ]
  },
  {
   "cell_type": "code",
   "execution_count": 11,
   "metadata": {
    "collapsed": false
   },
   "outputs": [],
   "source": [
    "def RFC_blend(est, train_x, train_y, test_x, fold):\n",
    "    N_params = len(est)\n",
    "    print (\"Blend %d estimators for %d folds\" % (N_params, fold))\n",
    "    skf = KFold(n_splits=fold,random_state=seed)\n",
    "    N_class = len(set(train_y))\n",
    "    \n",
    "    train_blend_x = np.zeros((train_x.shape[0], N_class*N_params))\n",
    "    test_blend_x_mean = np.zeros((test_x.shape[0], N_class*N_params))\n",
    "    test_blend_x_gmean = np.zeros((test_x.shape[0], N_class*N_params))\n",
    "    scores = np.zeros((fold,N_params))\n",
    "    best_rounds = np.zeros((fold, N_params))    \n",
    "    \n",
    "    for j, ester in enumerate(est):\n",
    "        print (\"Model %d:\" %(j+1))\n",
    "        test_blend_x_j = np.zeros((test_x.shape[0], N_class*fold))\n",
    "\n",
    "            \n",
    "        for i, (train_index, val_index) in enumerate(skf.split(train_x)):\n",
    "            print (\"Model %d fold %d\" %(j+1,i+1))\n",
    "            fold_start = time.time() \n",
    "            train_x_fold = train_x.iloc[train_index]\n",
    "            train_y_fold = train_y[train_index]\n",
    "            val_x_fold = train_x.iloc[val_index]\n",
    "            val_y_fold = train_y[val_index]            \n",
    "            \n",
    "\n",
    "            ester.fit(train_x_fold,train_y_fold)\n",
    "            \n",
    "            val_y_predict_fold = ester.predict_proba(val_x_fold)\n",
    "            score = log_loss(val_y_fold, val_y_predict_fold)\n",
    "            print (\"Score: \", score)\n",
    "            scores[i,j]=score            \n",
    "            \n",
    "            train_blend_x[val_index, (j*N_class):(j+1)*N_class] = val_y_predict_fold\n",
    "            test_blend_x_j[:,(i*N_class):(i+1)*N_class] = ester.predict_proba(test_x)\n",
    "            \n",
    "            print (\"Model %d fold %d fitting finished in %0.3fs\" % (j+1,i+1, time.time() - fold_start))            \n",
    "\n",
    "        test_blend_x_mean[:,(j*N_class):(j+1)*N_class] = \\\n",
    "                np.stack([test_blend_x_j[:,range(0,N_class*fold,N_class)].mean(1),\n",
    "                          test_blend_x_j[:,range(1,N_class*fold,N_class)].mean(1),\n",
    "                          test_blend_x_j[:,range(2,N_class*fold,N_class)].mean(1)]).T\n",
    "        \n",
    "        test_blend_x_gmean[:,(j*N_class):(j+1)*N_class] = \\\n",
    "                np.stack([gmean(test_blend_x_j[:,range(0,N_class*fold,N_class)], axis=1),\n",
    "                          gmean(test_blend_x_j[:,range(1,N_class*fold,N_class)], axis=1),\n",
    "                          gmean(test_blend_x_j[:,range(2,N_class*fold,N_class)], axis=1)]).T\n",
    "            \n",
    "        print (\"Score for model %d is %f\" % (j+1,np.mean(scores[:,j])))\n",
    "    print (\"Score for blended models is %f\" % (np.mean(scores)))\n",
    "    return (train_blend_x, test_blend_x_mean, test_blend_x_gmean, scores,best_rounds)"
   ]
  },
  {
   "cell_type": "code",
   "execution_count": 18,
   "metadata": {
    "collapsed": false
   },
   "outputs": [
    {
     "name": "stdout",
     "output_type": "stream",
     "text": [
      "Blend 1 estimators for 10 folds\n",
      "Model 1:\n",
      "Model 1 fold 1\n",
      "('Score: ', 0.5827002039626572)\n",
      "Model 1 fold 1 fitting finished in 586.761s\n",
      "Model 1 fold 2\n"
     ]
    },
    {
     "ename": "KeyboardInterrupt",
     "evalue": "",
     "output_type": "error",
     "traceback": [
      "\u001b[0;31m---------------------------------------------------------------------------\u001b[0m",
      "\u001b[0;31mKeyboardInterrupt\u001b[0m                         Traceback (most recent call last)",
      "\u001b[0;32m<ipython-input-18-1ba89e5464ec>\u001b[0m in \u001b[0;36m<module>\u001b[0;34m()\u001b[0m\n\u001b[1;32m     14\u001b[0m                               \u001b[0mtrain_X\u001b[0m\u001b[1;33m,\u001b[0m\u001b[0mtrain_y\u001b[0m\u001b[1;33m,\u001b[0m\u001b[1;33m\u001b[0m\u001b[0m\n\u001b[1;32m     15\u001b[0m                               \u001b[0mtest_X\u001b[0m\u001b[1;33m,\u001b[0m\u001b[1;33m\u001b[0m\u001b[0m\n\u001b[0;32m---> 16\u001b[0;31m                               10)\n\u001b[0m",
      "\u001b[0;32m<ipython-input-11-2a33d08a04e9>\u001b[0m in \u001b[0;36mRFC_blend\u001b[0;34m(est, train_x, train_y, test_x, fold)\u001b[0m\n\u001b[1;32m     25\u001b[0m \u001b[1;33m\u001b[0m\u001b[0m\n\u001b[1;32m     26\u001b[0m \u001b[1;33m\u001b[0m\u001b[0m\n\u001b[0;32m---> 27\u001b[0;31m             \u001b[0mester\u001b[0m\u001b[1;33m.\u001b[0m\u001b[0mfit\u001b[0m\u001b[1;33m(\u001b[0m\u001b[0mtrain_x_fold\u001b[0m\u001b[1;33m,\u001b[0m\u001b[0mtrain_y_fold\u001b[0m\u001b[1;33m)\u001b[0m\u001b[1;33m\u001b[0m\u001b[0m\n\u001b[0m\u001b[1;32m     28\u001b[0m \u001b[1;33m\u001b[0m\u001b[0m\n\u001b[1;32m     29\u001b[0m             \u001b[0mval_y_predict_fold\u001b[0m \u001b[1;33m=\u001b[0m \u001b[0mester\u001b[0m\u001b[1;33m.\u001b[0m\u001b[0mpredict_proba\u001b[0m\u001b[1;33m(\u001b[0m\u001b[0mval_x_fold\u001b[0m\u001b[1;33m)\u001b[0m\u001b[1;33m\u001b[0m\u001b[0m\n",
      "\u001b[0;32mD:\\python\\Anaconda2\\lib\\site-packages\\sklearn\\ensemble\\forest.pyc\u001b[0m in \u001b[0;36mfit\u001b[0;34m(self, X, y, sample_weight)\u001b[0m\n\u001b[1;32m    324\u001b[0m                     \u001b[0mt\u001b[0m\u001b[1;33m,\u001b[0m \u001b[0mself\u001b[0m\u001b[1;33m,\u001b[0m \u001b[0mX\u001b[0m\u001b[1;33m,\u001b[0m \u001b[0my\u001b[0m\u001b[1;33m,\u001b[0m \u001b[0msample_weight\u001b[0m\u001b[1;33m,\u001b[0m \u001b[0mi\u001b[0m\u001b[1;33m,\u001b[0m \u001b[0mlen\u001b[0m\u001b[1;33m(\u001b[0m\u001b[0mtrees\u001b[0m\u001b[1;33m)\u001b[0m\u001b[1;33m,\u001b[0m\u001b[1;33m\u001b[0m\u001b[0m\n\u001b[1;32m    325\u001b[0m                     verbose=self.verbose, class_weight=self.class_weight)\n\u001b[0;32m--> 326\u001b[0;31m                 for i, t in enumerate(trees))\n\u001b[0m\u001b[1;32m    327\u001b[0m \u001b[1;33m\u001b[0m\u001b[0m\n\u001b[1;32m    328\u001b[0m             \u001b[1;31m# Collect newly grown trees\u001b[0m\u001b[1;33m\u001b[0m\u001b[1;33m\u001b[0m\u001b[0m\n",
      "\u001b[0;32mD:\\python\\Anaconda2\\lib\\site-packages\\sklearn\\externals\\joblib\\parallel.pyc\u001b[0m in \u001b[0;36m__call__\u001b[0;34m(self, iterable)\u001b[0m\n\u001b[1;32m    766\u001b[0m                 \u001b[1;31m# consumption.\u001b[0m\u001b[1;33m\u001b[0m\u001b[1;33m\u001b[0m\u001b[0m\n\u001b[1;32m    767\u001b[0m                 \u001b[0mself\u001b[0m\u001b[1;33m.\u001b[0m\u001b[0m_iterating\u001b[0m \u001b[1;33m=\u001b[0m \u001b[0mFalse\u001b[0m\u001b[1;33m\u001b[0m\u001b[0m\n\u001b[0;32m--> 768\u001b[0;31m             \u001b[0mself\u001b[0m\u001b[1;33m.\u001b[0m\u001b[0mretrieve\u001b[0m\u001b[1;33m(\u001b[0m\u001b[1;33m)\u001b[0m\u001b[1;33m\u001b[0m\u001b[0m\n\u001b[0m\u001b[1;32m    769\u001b[0m             \u001b[1;31m# Make sure that we get a last message telling us we are done\u001b[0m\u001b[1;33m\u001b[0m\u001b[1;33m\u001b[0m\u001b[0m\n\u001b[1;32m    770\u001b[0m             \u001b[0melapsed_time\u001b[0m \u001b[1;33m=\u001b[0m \u001b[0mtime\u001b[0m\u001b[1;33m.\u001b[0m\u001b[0mtime\u001b[0m\u001b[1;33m(\u001b[0m\u001b[1;33m)\u001b[0m \u001b[1;33m-\u001b[0m \u001b[0mself\u001b[0m\u001b[1;33m.\u001b[0m\u001b[0m_start_time\u001b[0m\u001b[1;33m\u001b[0m\u001b[0m\n",
      "\u001b[0;32mD:\\python\\Anaconda2\\lib\\site-packages\\sklearn\\externals\\joblib\\parallel.pyc\u001b[0m in \u001b[0;36mretrieve\u001b[0;34m(self)\u001b[0m\n\u001b[1;32m    717\u001b[0m                     \u001b[0mensure_ready\u001b[0m \u001b[1;33m=\u001b[0m \u001b[0mself\u001b[0m\u001b[1;33m.\u001b[0m\u001b[0m_managed_backend\u001b[0m\u001b[1;33m\u001b[0m\u001b[0m\n\u001b[1;32m    718\u001b[0m                     \u001b[0mbackend\u001b[0m\u001b[1;33m.\u001b[0m\u001b[0mabort_everything\u001b[0m\u001b[1;33m(\u001b[0m\u001b[0mensure_ready\u001b[0m\u001b[1;33m=\u001b[0m\u001b[0mensure_ready\u001b[0m\u001b[1;33m)\u001b[0m\u001b[1;33m\u001b[0m\u001b[0m\n\u001b[0;32m--> 719\u001b[0;31m                 \u001b[1;32mraise\u001b[0m \u001b[0mexception\u001b[0m\u001b[1;33m\u001b[0m\u001b[0m\n\u001b[0m\u001b[1;32m    720\u001b[0m \u001b[1;33m\u001b[0m\u001b[0m\n\u001b[1;32m    721\u001b[0m     \u001b[1;32mdef\u001b[0m \u001b[0m__call__\u001b[0m\u001b[1;33m(\u001b[0m\u001b[0mself\u001b[0m\u001b[1;33m,\u001b[0m \u001b[0miterable\u001b[0m\u001b[1;33m)\u001b[0m\u001b[1;33m:\u001b[0m\u001b[1;33m\u001b[0m\u001b[0m\n",
      "\u001b[0;31mKeyboardInterrupt\u001b[0m: "
     ]
    }
   ],
   "source": [
    "est = [RandomForestClassifier(max_features=max_features,\n",
    "                              n_estimators=1000,\n",
    "                              min_samples_leaf = min_samples_leaf,\n",
    "                              random_state=seed,\n",
    "                              criterion = 'entropy',\n",
    "                              n_jobs = -1\n",
    "                             )]\n",
    "\n",
    "(train_blend_x_RFC,\n",
    " test_blend_x_RFC_mean,\n",
    " test_blend_x_RFC_gmean,\n",
    " blend_scores_RFC,\n",
    " best_rounds_RFC) = RFC_blend(est,\n",
    "                              train_X,train_y,\n",
    "                              test_X,\n",
    "                              5)"
   ]
  },
  {
   "cell_type": "code",
   "execution_count": 13,
   "metadata": {
    "collapsed": false
   },
   "outputs": [
    {
     "data": {
      "text/plain": [
       "array([[ 0.49637808,  0.42607755,  0.07754437],\n",
       "       [ 0.94515239,  0.04412316,  0.01072445],\n",
       "       [ 0.77769542,  0.19479507,  0.02750951],\n",
       "       ..., \n",
       "       [ 0.52137987,  0.36487019,  0.11374994],\n",
       "       [ 0.40766447,  0.40763976,  0.18469578],\n",
       "       [ 0.82629405,  0.1489874 ,  0.02471855]])"
      ]
     },
     "execution_count": 13,
     "metadata": {},
     "output_type": "execute_result"
    }
   ],
   "source": [
    "test_blend_x_RFC_mean"
   ]
  },
  {
   "cell_type": "code",
   "execution_count": 14,
   "metadata": {
    "collapsed": false
   },
   "outputs": [
    {
     "data": {
      "text/plain": [
       "array([[ 0.495858  ,  0.42554749,  0.07735382],\n",
       "       [ 0.94513655,  0.04384463,  0.01057997],\n",
       "       [ 0.77746233,  0.19391488,  0.02702627],\n",
       "       ..., \n",
       "       [ 0.5211564 ,  0.36462256,  0.11357881],\n",
       "       [ 0.40742575,  0.4075852 ,  0.18421182],\n",
       "       [ 0.82624148,  0.14871735,  0.02448697]])"
      ]
     },
     "execution_count": 14,
     "metadata": {},
     "output_type": "execute_result"
    }
   ],
   "source": [
    "test_blend_x_RFC_gmean"
   ]
  },
  {
   "cell_type": "code",
   "execution_count": 15,
   "metadata": {
    "collapsed": false
   },
   "outputs": [
    {
     "name": "stdout",
     "output_type": "stream",
     "text": [
      "[ 0.56446636]\n"
     ]
    }
   ],
   "source": [
    "# now = datetime.now()\n",
    "\n",
    "name_train_blend = '../blend/train_blend_RFC_entropy_data0319_' + str(now.strftime(\"%Y-%m-%d-%H-%M\")) + '.csv'\n",
    "name_test_blend_mean = '../blend/test_blend_RFC_entropy_mean_data0319_' + str(now.strftime(\"%Y-%m-%d-%H-%M\")) + '.csv'\n",
    "name_test_blend_gmean = '../blend/test_blend_RFC_entropy_gmean_data0319_' + str(now.strftime(\"%Y-%m-%d-%H-%M\")) + '.csv'\n",
    "\n",
    "\n",
    "print (np.mean(blend_scores_RFC,axis=0))\n",
    "# print (np.mean(best_rounds_RFC,axis=0))\n",
    "np.savetxt(name_train_blend,train_blend_x_RFC, delimiter=\",\")\n",
    "np.savetxt(name_test_blend_mean,test_blend_x_RFC_mean, delimiter=\",\")\n",
    "np.savetxt(name_test_blend_gmean,test_blend_x_RFC_gmean, delimiter=\",\")"
   ]
  },
  {
   "cell_type": "code",
   "execution_count": null,
   "metadata": {
    "collapsed": true
   },
   "outputs": [],
   "source": []
  },
  {
   "cell_type": "code",
   "execution_count": 17,
   "metadata": {
    "collapsed": false
   },
   "outputs": [],
   "source": [
    "sub_name = '../output/sub_RFC_entropy_gmean_data0319_' + str(now.strftime(\"%Y-%m-%d-%H-%M\")) + '.csv'\n",
    "\n",
    "out_df = pd.DataFrame(test_blend_x_RFC_gmean[:,:3])\n",
    "out_df.columns = [\"low\", \"medium\", \"high\"]\n",
    "out_df[\"listing_id\"] = sub_id\n",
    "out_df.to_csv(sub_name, index=False)"
   ]
  },
  {
   "cell_type": "code",
   "execution_count": null,
   "metadata": {
    "collapsed": true
   },
   "outputs": [],
   "source": []
  },
  {
   "cell_type": "code",
   "execution_count": 20,
   "metadata": {
    "collapsed": true
   },
   "outputs": [],
   "source": [
    "def RFC_cv(max_features = 0.5, n_estimators=300, min_samples_leaf  =1):\n",
    "    scores=[]\n",
    "    est=RandomForestClassifier(max_features=max_features,\n",
    "                               n_estimators=int(n_estimators),\n",
    "                               min_samples_leaf =int(min_samples_leaf), \n",
    "                               criterion = 'gini',\n",
    "                               random_state=seed,\n",
    "                               n_jobs = 6\n",
    "                              )\n",
    "#     est.fit(X_train, y_train)\n",
    "#     y_val_pred = est.predict_proba(X_val)\n",
    "    return cross_val_score(est,train_X,train_y, scoring = 'neg_log_loss', cv = 3).mean()"
   ]
  },
  {
   "cell_type": "code",
   "execution_count": 21,
   "metadata": {
    "collapsed": false
   },
   "outputs": [
    {
     "name": "stdout",
     "output_type": "stream",
     "text": [
      "0.1 \t-0.569883938063\n",
      "0.2 \t-0.568070201511\n",
      "0.3 \t-0.580255504105\n",
      "0.4 \t-0.580217149284\n",
      "0.5 \t-0.578342462823\n",
      "0.6 \t-0.587835546682\n",
      "0.7 \t-0.587667956574\n",
      "0.8 \t-0.586837887517\n",
      "0.9 \t-0.591146951995\n",
      "sqrt \t-0.571892652393\n",
      "log2 \t-0.581505306336\n"
     ]
    }
   ],
   "source": [
    "cv_score = -1\n",
    "for x in [0.1,0.2,0.3,0.4,0.5,0.6,0.7,0.8,0.9,'sqrt','log2']:\n",
    "    score = RFC_cv(max_features = x)\n",
    "    if score > cv_score:\n",
    "        max_features = x\n",
    "        cv_score = score\n",
    "    print x,'\\t', score"
   ]
  },
  {
   "cell_type": "code",
   "execution_count": 22,
   "metadata": {
    "collapsed": false
   },
   "outputs": [
    {
     "name": "stdout",
     "output_type": "stream",
     "text": [
      "0.03 \t-0.584458999291\n",
      "0.06 \t-0.572849586525\n"
     ]
    }
   ],
   "source": [
    "for x in [0.03,0.06]:\n",
    "    score = RFC_cv(max_features = x)\n",
    "    if score > cv_score:\n",
    "        max_features = x\n",
    "        cv_score = score\n",
    "    print x,'\\t', score"
   ]
  },
  {
   "cell_type": "code",
   "execution_count": 23,
   "metadata": {
    "collapsed": false
   },
   "outputs": [
    {
     "name": "stdout",
     "output_type": "stream",
     "text": [
      "0.2\n"
     ]
    }
   ],
   "source": [
    "print max_features"
   ]
  },
  {
   "cell_type": "code",
   "execution_count": 24,
   "metadata": {
    "collapsed": false
   },
   "outputs": [
    {
     "name": "stdout",
     "output_type": "stream",
     "text": [
      "1 \t-0.568070201511\n",
      "2 \t-0.565360951091\n",
      "4 \t-0.565146344834\n",
      "8 \t-0.568557271357\n",
      "16 \t-0.5734925495\n",
      "32 \t-0.580673259122\n"
     ]
    }
   ],
   "source": [
    "for x in [1,2,4,8,16,32]:\n",
    "    score = RFC_cv(max_features = max_features,min_samples_leaf = x)\n",
    "    if score > cv_score:\n",
    "        min_samples_leaf = x\n",
    "        cv_score = score    \n",
    "    print x, '\\t', score"
   ]
  },
  {
   "cell_type": "code",
   "execution_count": 25,
   "metadata": {
    "collapsed": false,
    "scrolled": true
   },
   "outputs": [
    {
     "name": "stdout",
     "output_type": "stream",
     "text": [
      "4\n"
     ]
    }
   ],
   "source": [
    "print min_samples_leaf"
   ]
  },
  {
   "cell_type": "code",
   "execution_count": 26,
   "metadata": {
    "collapsed": false,
    "scrolled": true
   },
   "outputs": [
    {
     "name": "stdout",
     "output_type": "stream",
     "text": [
      "Blend 1 estimators for 10 folds\n",
      "Model 1:\n",
      "Model 1 fold 1\n",
      "('Score: ', 0.5513698824945944)\n",
      "Model 1 fold 1 fitting finished in 144.779s\n",
      "Model 1 fold 2\n",
      "('Score: ', 0.53997090835910089)\n",
      "Model 1 fold 2 fitting finished in 149.119s\n",
      "Model 1 fold 3\n",
      "('Score: ', 0.56048575820075353)\n",
      "Model 1 fold 3 fitting finished in 148.220s\n",
      "Model 1 fold 4\n",
      "('Score: ', 0.53926515109170547)\n",
      "Model 1 fold 4 fitting finished in 149.259s\n",
      "Model 1 fold 5\n",
      "('Score: ', 0.56563756057585568)\n",
      "Model 1 fold 5 fitting finished in 147.023s\n",
      "Model 1 fold 6\n",
      "('Score: ', 0.55302355871567566)\n",
      "Model 1 fold 6 fitting finished in 148.402s\n",
      "Model 1 fold 7\n",
      "('Score: ', 0.56744936754818032)\n",
      "Model 1 fold 7 fitting finished in 148.894s\n",
      "Model 1 fold 8\n",
      "('Score: ', 0.58282378042480076)\n",
      "Model 1 fold 8 fitting finished in 148.924s\n",
      "Model 1 fold 9\n",
      "('Score: ', 0.57826009521767685)\n",
      "Model 1 fold 9 fitting finished in 144.165s\n",
      "Model 1 fold 10\n",
      "('Score: ', 0.56823594580496339)\n",
      "Model 1 fold 10 fitting finished in 145.219s\n",
      "Score for model 1 is 0.560652\n",
      "Score for blended models is 0.560652\n"
     ]
    }
   ],
   "source": [
    "est = [RandomForestClassifier(max_features=max_features,\n",
    "                              n_estimators=1000,\n",
    "                              min_samples_leaf = min_samples_leaf,\n",
    "                              random_state=seed,\n",
    "                              criterion = 'gini',\n",
    "                              n_jobs = -1\n",
    "                             )]\n",
    "\n",
    "(train_blend_x_RFC,\n",
    " test_blend_x_RFC_mean,\n",
    " test_blend_x_RFC_gmean,\n",
    " blend_scores_RFC,\n",
    " best_rounds_RFC) = RFC_blend(est,\n",
    "                              train_X,train_y,\n",
    "                              test_X,\n",
    "                              10)"
   ]
  },
  {
   "cell_type": "code",
   "execution_count": 42,
   "metadata": {
    "collapsed": false
   },
   "outputs": [
    {
     "name": "stdout",
     "output_type": "stream",
     "text": [
      "[ 0.56023491]\n"
     ]
    }
   ],
   "source": [
    "now = datetime.now()\n",
    "\n",
    "name_train_blend = '../blend/train_blend_RFC_gini_data0319_' + str(now.strftime(\"%Y-%m-%d-%H-%M\")) + '.csv'\n",
    "name_test_blend_mean = '../blend/test_blend_RFC_gini_mean_data0319_' + str(now.strftime(\"%Y-%m-%d-%H-%M\")) + '.csv'\n",
    "name_test_blend_gmean = '../blend/test_blend_RFC_gini_gmean_data0319_' + str(now.strftime(\"%Y-%m-%d-%H-%M\")) + '.csv'\n",
    "\n",
    "\n",
    "print (np.mean(blend_scores_RFC,axis=0))\n",
    "# print (np.mean(best_rounds_RFC,axis=0))\n",
    "np.savetxt(name_train_blend,train_blend_x_RFC, delimiter=\",\")\n",
    "np.savetxt(name_test_blend_mean,test_blend_x_RFC_mean, delimiter=\",\")\n",
    "np.savetxt(name_test_blend_gmean,test_blend_x_RFC_gmean, delimiter=\",\")"
   ]
  },
  {
   "cell_type": "code",
   "execution_count": null,
   "metadata": {
    "collapsed": true
   },
   "outputs": [],
   "source": []
  }
 ],
 "metadata": {
  "anaconda-cloud": {},
  "kernelspec": {
   "display_name": "Python [conda root]",
   "language": "python",
   "name": "conda-root-py"
  },
  "language_info": {
   "codemirror_mode": {
    "name": "ipython",
    "version": 2
   },
   "file_extension": ".py",
   "mimetype": "text/x-python",
   "name": "python",
   "nbconvert_exporter": "python",
   "pygments_lexer": "ipython2",
   "version": "2.7.12"
  }
 },
 "nbformat": 4,
 "nbformat_minor": 1
}
