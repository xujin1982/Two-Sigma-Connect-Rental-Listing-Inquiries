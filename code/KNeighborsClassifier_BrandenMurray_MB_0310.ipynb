{
 "cells": [
  {
   "cell_type": "code",
   "execution_count": 9,
   "metadata": {
    "collapsed": false
   },
   "outputs": [],
   "source": [
    "import pandas as pd\n",
    "import time\n",
    "import numpy as np\n",
    "from sklearn.model_selection import train_test_split,cross_val_score, GridSearchCV,StratifiedKFold, KFold\n",
    "from sklearn.feature_extraction.text import TfidfVectorizer, CountVectorizer\n",
    "import random\n",
    "from sklearn import preprocessing\n",
    "from sklearn.neighbors import KNeighborsClassifier\n",
    "import gc\n",
    "from scipy.stats import skew, boxcox\n",
    "from bayes_opt import BayesianOptimization\n",
    "from scipy import sparse\n",
    "from sklearn.metrics import log_loss\n",
    "from datetime import datetime\n",
    "from scipy.stats.mstats import gmean\n",
    "import matplotlib.pyplot as plt\n",
    "import seaborn as sns\n",
    "%matplotlib inline\n",
    "\n",
    "seed = 2017"
   ]
  },
  {
   "cell_type": "markdown",
   "metadata": {},
   "source": [
    "# Load Data"
   ]
  },
  {
   "cell_type": "code",
   "execution_count": 4,
   "metadata": {
    "collapsed": false
   },
   "outputs": [
    {
     "name": "stdout",
     "output_type": "stream",
     "text": [
      "(49352, 323) (74659, 323) (49352L,)\n"
     ]
    }
   ],
   "source": [
    "data_path = \"../input/\"\n",
    "train_X = pd.read_csv(data_path + 'train_BM_MB_add03052240.csv')\n",
    "test_X = pd.read_csv(data_path + 'test_BM_MB_add03052240.csv')\n",
    "train_y = np.ravel(pd.read_csv(data_path + 'labels_BrandenMurray.csv'))\n",
    "ntrain = train_X.shape[0]\n",
    "# all_features = features_to_use + desc_sparse_cols + feat_sparse_cols\n",
    "print train_X.shape, test_X.shape, train_y.shape"
   ]
  },
  {
   "cell_type": "code",
   "execution_count": 5,
   "metadata": {
    "collapsed": false
   },
   "outputs": [
    {
     "name": "stderr",
     "output_type": "stream",
     "text": [
      "D:\\python\\Anaconda2\\lib\\site-packages\\sklearn\\utils\\validation.py:429: DataConversionWarning: Data with input dtype int64 was converted to float64 by StandardScaler.\n",
      "  warnings.warn(msg, _DataConversionWarning)\n"
     ]
    }
   ],
   "source": [
    "full_data=pd.concat([train_X,test_X])\n",
    "features_to_use = train_X.columns.values\n",
    "\n",
    "skewed_cols = full_data[features_to_use].apply(lambda x: skew(x.dropna()))\n",
    "\n",
    "SSL = preprocessing.StandardScaler()\n",
    "skewed_cols = skewed_cols[skewed_cols > 0.25].index.values\n",
    "for skewed_col in skewed_cols:\n",
    "    full_data[skewed_col], lam = boxcox(full_data[skewed_col] - full_data[skewed_col].min() + 1)\n",
    "#     print skewed_col, '\\t', lam\n",
    "for col in features_to_use:\n",
    "    full_data[col] = SSL.fit_transform(full_data[col].values.reshape(-1,1))\n",
    "    train_X[col] = full_data.iloc[:ntrain][col]\n",
    "    test_X[col] = full_data.iloc[ntrain:][col]\n",
    "\n",
    "    \n",
    "del full_data"
   ]
  },
  {
   "cell_type": "code",
   "execution_count": 15,
   "metadata": {
    "collapsed": false
   },
   "outputs": [],
   "source": [
    "X_train, X_val, y_train, y_val = train_test_split(train_X, train_y, test_size=0.20, random_state = seed)"
   ]
  },
  {
   "cell_type": "code",
   "execution_count": 31,
   "metadata": {
    "collapsed": true
   },
   "outputs": [],
   "source": [
    "def KNN_cv(n_neighbors=5, leaf_size=30, min_samples_leaf  =1):\n",
    "    scores=[]\n",
    "    est=KNeighborsClassifier(n_neighbors=n_neighbors,\n",
    "                             weights='uniform',\n",
    "                             algorithm = 'auto', \n",
    "                             leaf_size=30,\n",
    "                             p=2,\n",
    "                             metric='minkowski',\n",
    "                             metric_params=None,\n",
    "                             n_jobs = -1\n",
    "                            )\n",
    "    est.fit(X_train, y_train)\n",
    "    y_val_pred = est.predict_proba(X_val)\n",
    "    return -1*log_loss(y_val, y_val_pred)"
   ]
  },
  {
   "cell_type": "code",
   "execution_count": 32,
   "metadata": {
    "collapsed": false
   },
   "outputs": [
    {
     "name": "stdout",
     "output_type": "stream",
     "text": [
      "2 \t-6.74075858825\n",
      "5 \t-2.8473609329\n",
      "10 \t-1.4300487701\n",
      "15 \t-1.03088565478\n",
      "20 \t-0.857605835315\n",
      "25 \t-0.800844121006\n",
      "30 \t-0.753870491209\n"
     ]
    }
   ],
   "source": [
    "cv_score = -1\n",
    "for x in [2,5,10,15,20,25,30]:\n",
    "    score = KNN_cv(n_neighbors = x)\n",
    "    if score > cv_score:\n",
    "        n_neighbors = x\n",
    "        cv_score = score\n",
    "    print x,'\\t', score"
   ]
  },
  {
   "cell_type": "code",
   "execution_count": 33,
   "metadata": {
    "collapsed": false
   },
   "outputs": [
    {
     "name": "stdout",
     "output_type": "stream",
     "text": [
      "40 \t-0.692130142089\n",
      "50 \t-0.669420108314\n",
      "60 \t-0.660266106804\n",
      "80 \t-0.642593520057\n",
      "100 \t-0.638779158101\n",
      "125 \t-0.638756114019\n",
      "150 \t-0.638112250849\n"
     ]
    }
   ],
   "source": [
    "for x in [40,50,60,80,100,125,150]:\n",
    "    score = KNN_cv(n_neighbors = x)\n",
    "    if score > cv_score:\n",
    "        n_neighbors = x\n",
    "        cv_score = score\n",
    "    print x,'\\t', score"
   ]
  },
  {
   "cell_type": "code",
   "execution_count": 34,
   "metadata": {
    "collapsed": false
   },
   "outputs": [
    {
     "name": "stdout",
     "output_type": "stream",
     "text": [
      "200 \t-0.637699481055\n",
      "250 \t-0.639616668212\n",
      "300 \t-0.64141380651\n",
      "350 \t-0.640513832334\n",
      "400 \t-0.639240453204\n"
     ]
    }
   ],
   "source": [
    "for x in [200,250,300,350,400]:\n",
    "    score = KNN_cv(n_neighbors = x)\n",
    "    if score > cv_score:\n",
    "        n_neighbors = x\n",
    "        cv_score = score\n",
    "    print x,'\\t', score"
   ]
  },
  {
   "cell_type": "code",
   "execution_count": 36,
   "metadata": {
    "collapsed": false
   },
   "outputs": [
    {
     "name": "stdout",
     "output_type": "stream",
     "text": [
      "175 \t-0.639456067079\n",
      "225 \t-0.63878222439\n"
     ]
    }
   ],
   "source": [
    "for x in [175,225]:\n",
    "    score = KNN_cv(n_neighbors = x)\n",
    "    if score > cv_score:\n",
    "        n_neighbors = x\n",
    "        cv_score = score\n",
    "    print x,'\\t', score"
   ]
  },
  {
   "cell_type": "code",
   "execution_count": 6,
   "metadata": {
    "collapsed": false
   },
   "outputs": [
    {
     "name": "stdout",
     "output_type": "stream",
     "text": [
      "200\n"
     ]
    }
   ],
   "source": [
    "print n_neighbors"
   ]
  },
  {
   "cell_type": "code",
   "execution_count": 7,
   "metadata": {
    "collapsed": false
   },
   "outputs": [],
   "source": [
    "def KNN_blend(est, train_x, train_y, test_x, fold):\n",
    "    N_params = len(est)\n",
    "    print \"Blend %d estimators for %d folds\" % (N_params, fold)\n",
    "    skf = KFold(n_splits=fold,random_state=seed)\n",
    "    N_class = len(set(train_y))\n",
    "    \n",
    "    train_blend_x = np.zeros((train_x.shape[0], N_class*N_params))\n",
    "    test_blend_x_mean = np.zeros((test_x.shape[0], N_class*N_params))\n",
    "    test_blend_x_gmean = np.zeros((test_x.shape[0], N_class*N_params))\n",
    "    scores = np.zeros((fold,N_params))\n",
    "    best_rounds = np.zeros((fold, N_params))    \n",
    "    \n",
    "    for j, ester in enumerate(est):\n",
    "        print \"Model %d:\" %(j+1)\n",
    "        test_blend_x_j = np.zeros((test_x.shape[0], N_class*fold))\n",
    "\n",
    "            \n",
    "        for i, (train_index, val_index) in enumerate(skf.split(train_x)):\n",
    "            print \"Model %d fold %d\" %(j+1,i+1)\n",
    "            fold_start = time.time() \n",
    "            train_x_fold = train_x.iloc[train_index]\n",
    "            train_y_fold = train_y[train_index]\n",
    "            val_x_fold = train_x.iloc[val_index]\n",
    "            val_y_fold = train_y[val_index]            \n",
    "            \n",
    "\n",
    "            ester.fit(train_x_fold,train_y_fold)\n",
    "            \n",
    "            val_y_predict_fold = ester.predict_proba(val_x_fold)\n",
    "            score = log_loss(val_y_fold, val_y_predict_fold)\n",
    "            print \"Score: \", score\n",
    "            scores[i,j]=score            \n",
    "            \n",
    "            train_blend_x[val_index, (j*N_class):(j+1)*N_class] = val_y_predict_fold\n",
    "            test_blend_x_j[:,(i*N_class):(i+1)*N_class] = ester.predict_proba(test_x)\n",
    "            \n",
    "            print \"Model %d fold %d fitting finished in %0.3fs\" % (j+1,i+1, time.time() - fold_start)            \n",
    "\n",
    "        test_blend_x_mean[:,(j*N_class):(j+1)*N_class] = \\\n",
    "                np.stack([test_blend_x_j[:,range(0,N_class*fold,N_class)].mean(1),\n",
    "                          test_blend_x_j[:,range(1,N_class*fold,N_class)].mean(1),\n",
    "                          test_blend_x_j[:,range(2,N_class*fold,N_class)].mean(1)]).T\n",
    "        \n",
    "        test_blend_x_gmean[:,(j*N_class):(j+1)*N_class] = \\\n",
    "                np.stack([gmean(test_blend_x_j[:,range(0,N_class*fold,N_class)], axis=1),\n",
    "                          gmean(test_blend_x_j[:,range(1,N_class*fold,N_class)], axis=1),\n",
    "                          gmean(test_blend_x_j[:,range(2,N_class*fold,N_class)], axis=1)]).T\n",
    "            \n",
    "        print \"Score for model %d is %f\" % (j+1,np.mean(scores[:,j]))\n",
    "    print \"Score for blended models is %f\" % (np.mean(scores))\n",
    "    return (train_blend_x, test_blend_x_mean, test_blend_x_gmean, scores,best_rounds)"
   ]
  },
  {
   "cell_type": "code",
   "execution_count": 10,
   "metadata": {
    "collapsed": true
   },
   "outputs": [
    {
     "name": "stdout",
     "output_type": "stream",
     "text": [
      "Blend 1 estimators for 10 folds\n",
      "Model 1:\n",
      "Model 1 fold 1\n",
      "Score:  0.628034841976\n",
      "Model 1 fold 1 fitting finished in 835.954s\n",
      "Model 1 fold 2\n",
      "Score:  0.61348405189\n",
      "Model 1 fold 2 fitting finished in 859.524s\n",
      "Model 1 fold 3\n",
      "Score:  0.638231022269\n",
      "Model 1 fold 3 fitting finished in 865.585s\n",
      "Model 1 fold 4\n",
      "Score:  0.622764265609\n",
      "Model 1 fold 4 fitting finished in 871.011s\n",
      "Model 1 fold 5\n",
      "Score:  0.662210610166\n",
      "Model 1 fold 5 fitting finished in 856.099s\n",
      "Model 1 fold 6\n",
      "Score:  0.622769615323\n",
      "Model 1 fold 6 fitting finished in 856.078s\n",
      "Model 1 fold 7\n",
      "Score:  0.636846582046\n",
      "Model 1 fold 7 fitting finished in 862.739s\n",
      "Model 1 fold 8\n",
      "Score:  0.658806441275\n",
      "Model 1 fold 8 fitting finished in 852.746s\n",
      "Model 1 fold 9\n",
      "Score:  0.638608511221\n",
      "Model 1 fold 9 fitting finished in 855.279s\n",
      "Model 1 fold 10\n",
      "Score:  0.633284293667\n",
      "Model 1 fold 10 fitting finished in 857.436s\n",
      "Score for model 1 is 0.635504\n",
      "Score for blended models is 0.635504\n"
     ]
    }
   ],
   "source": [
    "est = [KNeighborsClassifier(n_neighbors=n_neighbors,\n",
    "                             weights='uniform',\n",
    "                             algorithm = 'auto', \n",
    "                             leaf_size=30,\n",
    "                             p=2,\n",
    "                             metric='minkowski',\n",
    "                             metric_params=None,\n",
    "                             n_jobs = 4\n",
    "                            )]\n",
    "\n",
    "(train_blend_x_KNN,\n",
    " test_blend_x_KNN_mean,\n",
    " test_blend_x_KNN_gmean,\n",
    " blend_scores_KNN,\n",
    " best_rounds_KNN) = KNN_blend(est,\n",
    "                             train_X,train_y,\n",
    "                             test_X,\n",
    "                             10)"
   ]
  },
  {
   "cell_type": "code",
   "execution_count": 11,
   "metadata": {
    "collapsed": false
   },
   "outputs": [
    {
     "name": "stdout",
     "output_type": "stream",
     "text": [
      "[ 0.63550402]\n"
     ]
    }
   ],
   "source": [
    "now = datetime.now()\n",
    "\n",
    "name_train_blend = '../blend/train_blend_KNN_uniform_BM_MB_add03052240_' + str(now.strftime(\"%Y-%m-%d-%H-%M\")) + '.csv'\n",
    "name_test_blend_mean = '../blend/test_blend_KNN_uniform_mean_BM_MB_add03052240_' + str(now.strftime(\"%Y-%m-%d-%H-%M\")) + '.csv'\n",
    "name_test_blend_gmean = '../blend/test_blend_KNN_uniform_gmean_BM_MB_add03052240_' + str(now.strftime(\"%Y-%m-%d-%H-%M\")) + '.csv'\n",
    "\n",
    "\n",
    "print (np.mean(blend_scores_KNN,axis=0))\n",
    "# print (np.mean(best_rounds_RFC,axis=0))\n",
    "np.savetxt(name_train_blend,train_blend_x_KNN, delimiter=\",\")\n",
    "np.savetxt(name_test_blend_mean,test_blend_x_KNN_mean, delimiter=\",\")\n",
    "np.savetxt(name_test_blend_gmean,test_blend_x_KNN_gmean, delimiter=\",\")"
   ]
  },
  {
   "cell_type": "code",
   "execution_count": 12,
   "metadata": {
    "collapsed": false
   },
   "outputs": [],
   "source": [
    "sub_name = '../output/sub_KNN_uniform_gmean_BM_MB_add03052240_' + str(now.strftime(\"%Y-%m-%d-%H-%M\")) + '.csv'\n",
    "\n",
    "out_df = pd.DataFrame(test_blend_x_KNN_gmean[:,:3])\n",
    "out_df.columns = [\"low\", \"medium\", \"high\"]\n",
    "out_df[\"listing_id\"] = test_X.listing_id.values\n",
    "out_df.to_csv(sub_name, index=False)"
   ]
  },
  {
   "cell_type": "code",
   "execution_count": null,
   "metadata": {
    "collapsed": true
   },
   "outputs": [],
   "source": []
  },
  {
   "cell_type": "code",
   "execution_count": 13,
   "metadata": {
    "collapsed": true
   },
   "outputs": [],
   "source": [
    "def KNN_cv(n_neighbors=5, leaf_size=30, min_samples_leaf  =1):\n",
    "    scores=[]\n",
    "    est=KNeighborsClassifier(n_neighbors=n_neighbors,\n",
    "                             weights='distance',\n",
    "                             algorithm = 'auto', \n",
    "                             leaf_size=30,\n",
    "                             p=2,\n",
    "                             metric='minkowski',\n",
    "                             metric_params=None,\n",
    "                             n_jobs = -1\n",
    "                            )\n",
    "    est.fit(X_train, y_train)\n",
    "    y_val_pred = est.predict_proba(X_val)\n",
    "    return -1*log_loss(y_val, y_val_pred)"
   ]
  },
  {
   "cell_type": "code",
   "execution_count": 16,
   "metadata": {
    "collapsed": false
   },
   "outputs": [
    {
     "name": "stdout",
     "output_type": "stream",
     "text": [
      "2 \t-6.74028696187\n",
      "5 \t-2.84410674478\n",
      "10 \t-1.42473827356\n",
      "15 \t-1.02514569526\n",
      "20 \t-0.852458642738\n",
      "25 \t-0.795439441562\n",
      "30 \t-0.748694567391\n"
     ]
    }
   ],
   "source": [
    "cv_score = -1\n",
    "for x in [2,5,10,15,20,25,30]:\n",
    "    score = KNN_cv(n_neighbors = x)\n",
    "    if score > cv_score:\n",
    "        n_neighbors = x\n",
    "        cv_score = score\n",
    "    print x,'\\t', score"
   ]
  },
  {
   "cell_type": "code",
   "execution_count": 17,
   "metadata": {
    "collapsed": false
   },
   "outputs": [
    {
     "name": "stdout",
     "output_type": "stream",
     "text": [
      "40 \t-0.687346768991\n",
      "50 \t-0.664688373783\n",
      "60 \t-0.6557283919\n",
      "80 \t-0.638479123695\n",
      "100 \t-0.63483641848\n",
      "125 \t-0.634912690654\n",
      "150 \t-0.634423405086\n"
     ]
    }
   ],
   "source": [
    "for x in [40,50,60,80,100,125,150]:\n",
    "    score = KNN_cv(n_neighbors = x)\n",
    "    if score > cv_score:\n",
    "        n_neighbors = x\n",
    "        cv_score = score\n",
    "    print x,'\\t', score"
   ]
  },
  {
   "cell_type": "code",
   "execution_count": 18,
   "metadata": {
    "collapsed": false
   },
   "outputs": [
    {
     "name": "stdout",
     "output_type": "stream",
     "text": [
      "200 \t-0.634442797659\n",
      "250 \t-0.636678241098\n",
      "300 \t-0.638700703964\n",
      "350 \t-0.637935333453\n",
      "400 \t-0.636769025963\n"
     ]
    }
   ],
   "source": [
    "for x in [200,250,300,350,400]:\n",
    "    score = KNN_cv(n_neighbors = x)\n",
    "    if score > cv_score:\n",
    "        n_neighbors = x\n",
    "        cv_score = score\n",
    "    print x,'\\t', score"
   ]
  },
  {
   "cell_type": "code",
   "execution_count": 19,
   "metadata": {
    "collapsed": false
   },
   "outputs": [
    {
     "name": "stdout",
     "output_type": "stream",
     "text": [
      "175 \t-0.636009959328\n",
      "225 \t-0.635686166346\n"
     ]
    }
   ],
   "source": [
    "for x in [175,225]:\n",
    "    score = KNN_cv(n_neighbors = x)\n",
    "    if score > cv_score:\n",
    "        n_neighbors = x\n",
    "        cv_score = score\n",
    "    print x,'\\t', score"
   ]
  },
  {
   "cell_type": "code",
   "execution_count": 20,
   "metadata": {
    "collapsed": false
   },
   "outputs": [
    {
     "name": "stdout",
     "output_type": "stream",
     "text": [
      "130 \t-0.635504409\n",
      "140 \t-0.636607688128\n",
      "160 \t-0.634973522827\n"
     ]
    }
   ],
   "source": [
    "for x in [130,140,160]:\n",
    "    score = KNN_cv(n_neighbors = x)\n",
    "    if score > cv_score:\n",
    "        n_neighbors = x\n",
    "        cv_score = score\n",
    "    print x,'\\t', score"
   ]
  },
  {
   "cell_type": "code",
   "execution_count": 21,
   "metadata": {
    "collapsed": false
   },
   "outputs": [
    {
     "name": "stdout",
     "output_type": "stream",
     "text": [
      "150\n"
     ]
    }
   ],
   "source": [
    "print n_neighbors"
   ]
  },
  {
   "cell_type": "code",
   "execution_count": 25,
   "metadata": {
    "collapsed": false
   },
   "outputs": [
    {
     "name": "stdout",
     "output_type": "stream",
     "text": [
      "Blend 1 estimators for 10 folds\n",
      "Model 1:\n",
      "Model 1 fold 1\n",
      "Score:  0.626225858339\n",
      "Model 1 fold 1 fitting finished in 863.262s\n",
      "Model 1 fold 2\n",
      "Score:  0.605701443133\n",
      "Model 1 fold 2 fitting finished in 866.870s\n",
      "Model 1 fold 3\n",
      "Score:  0.632484354495\n",
      "Model 1 fold 3 fitting finished in 860.566s\n",
      "Model 1 fold 4\n",
      "Score:  0.617846318906\n",
      "Model 1 fold 4 fitting finished in 868.687s\n",
      "Model 1 fold 5\n",
      "Score:  0.654827120809\n",
      "Model 1 fold 5 fitting finished in 836.141s\n",
      "Model 1 fold 6\n",
      "Score:  0.617283342053\n",
      "Model 1 fold 6 fitting finished in 857.933s\n",
      "Model 1 fold 7\n",
      "Score:  0.628911226765\n",
      "Model 1 fold 7 fitting finished in 899.805s\n",
      "Model 1 fold 8\n",
      "Score:  0.653199964242\n",
      "Model 1 fold 8 fitting finished in 933.755s\n",
      "Model 1 fold 9\n",
      "Score:  0.633838961135\n",
      "Model 1 fold 9 fitting finished in 910.653s\n",
      "Model 1 fold 10\n",
      "Score:  0.626323160446\n",
      "Model 1 fold 10 fitting finished in 904.483s\n",
      "Score for model 1 is 0.629664\n",
      "Score for blended models is 0.629664\n"
     ]
    }
   ],
   "source": [
    "est = [KNeighborsClassifier(n_neighbors=n_neighbors,\n",
    "                             weights='distance',\n",
    "                             algorithm = 'auto', \n",
    "                             leaf_size=30,\n",
    "                             p=2,\n",
    "                             metric='minkowski',\n",
    "                             metric_params=None,\n",
    "                             n_jobs = 4\n",
    "                            )]\n",
    "\n",
    "(train_blend_x_KNN,\n",
    " test_blend_x_KNN_mean,\n",
    " test_blend_x_KNN_gmean,\n",
    " blend_scores_KNN,\n",
    " best_rounds_KNN) = KNN_blend(est,\n",
    "                             train_X,train_y,\n",
    "                             test_X,\n",
    "                             10)"
   ]
  },
  {
   "cell_type": "code",
   "execution_count": 26,
   "metadata": {
    "collapsed": false
   },
   "outputs": [
    {
     "name": "stdout",
     "output_type": "stream",
     "text": [
      "[ 0.62966418]\n"
     ]
    }
   ],
   "source": [
    "now = datetime.now()\n",
    "\n",
    "name_train_blend = '../blend/train_blend_KNN_distance_BM_MB_add_' + str(now.strftime(\"%Y-%m-%d-%H-%M\")) + '.csv'\n",
    "name_test_blend_mean = '../blend/test_blend_KNN_distance_mean_BM_MB_add_' + str(now.strftime(\"%Y-%m-%d-%H-%M\")) + '.csv'\n",
    "name_test_blend_gmean = '../blend/test_blend_KNN_distance_gmean_BM_MB_add_' + str(now.strftime(\"%Y-%m-%d-%H-%M\")) + '.csv'\n",
    "\n",
    "\n",
    "print (np.mean(blend_scores_KNN,axis=0))\n",
    "# print (np.mean(best_rounds_RFC,axis=0))\n",
    "np.savetxt(name_train_blend,train_blend_x_KNN, delimiter=\",\")\n",
    "np.savetxt(name_test_blend_mean,test_blend_x_KNN_mean, delimiter=\",\")\n",
    "np.savetxt(name_test_blend_gmean,test_blend_x_KNN_gmean, delimiter=\",\")"
   ]
  },
  {
   "cell_type": "code",
   "execution_count": null,
   "metadata": {
    "collapsed": true
   },
   "outputs": [],
   "source": []
  }
 ],
 "metadata": {
  "anaconda-cloud": {},
  "kernelspec": {
   "display_name": "Python [conda root]",
   "language": "python",
   "name": "conda-root-py"
  },
  "language_info": {
   "codemirror_mode": {
    "name": "ipython",
    "version": 2
   },
   "file_extension": ".py",
   "mimetype": "text/x-python",
   "name": "python",
   "nbconvert_exporter": "python",
   "pygments_lexer": "ipython2",
   "version": "2.7.12"
  }
 },
 "nbformat": 4,
 "nbformat_minor": 1
}
