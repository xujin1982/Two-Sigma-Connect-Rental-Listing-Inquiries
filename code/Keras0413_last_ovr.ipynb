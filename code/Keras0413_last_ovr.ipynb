{
 "cells": [
  {
   "cell_type": "code",
   "execution_count": 1,
   "metadata": {
    "collapsed": false
   },
   "outputs": [],
   "source": [
    "import pandas as pd\n",
    "import time\n",
    "import numpy as np\n",
    "from sklearn.model_selection import train_test_split, StratifiedKFold, KFold\n",
    "\n",
    "from sklearn.feature_extraction.text import TfidfVectorizer, CountVectorizer\n",
    "import random\n",
    "from sklearn import preprocessing\n",
    "\n",
    "import gc\n",
    "from scipy.stats import skew, boxcox\n",
    "\n",
    "from scipy import sparse\n",
    "from sklearn.metrics import log_loss\n",
    "from datetime import datetime\n",
    "\n",
    "import matplotlib.pyplot as plt\n",
    "import seaborn as sns\n",
    "%matplotlib inline\n",
    "\n",
    "seed = 2017"
   ]
  },
  {
   "cell_type": "code",
   "execution_count": 2,
   "metadata": {
    "collapsed": false
   },
   "outputs": [
    {
     "name": "stderr",
     "output_type": "stream",
     "text": [
      "Using Theano backend.\n"
     ]
    }
   ],
   "source": [
    "from keras.models import Sequential\n",
    "from keras.layers import Dense, Dropout, Activation\n",
    "from keras.layers.normalization import BatchNormalization\n",
    "from keras.layers.advanced_activations import PReLU,LeakyReLU,ELU,ParametricSoftplus,ThresholdedReLU,SReLU\n",
    "from keras.callbacks import EarlyStopping, ModelCheckpoint\n",
    "from keras import backend as K\n",
    "from keras.optimizers import SGD,Nadam\n",
    "from keras.regularizers import WeightRegularizer, ActivityRegularizer,l2, activity_l2\n",
    "from keras.utils.np_utils import to_categorical"
   ]
  },
  {
   "cell_type": "markdown",
   "metadata": {},
   "source": [
    "# Load Data"
   ]
  },
  {
   "cell_type": "code",
   "execution_count": 13,
   "metadata": {
    "collapsed": false
   },
   "outputs": [
    {
     "name": "stdout",
     "output_type": "stream",
     "text": [
      "(49352, 412) (74659, 412) (49352,)\n"
     ]
    }
   ],
   "source": [
    "data_path = \"../input/\"\n",
    "train_X = pd.read_csv(data_path + 'train_BM_0331.csv')\n",
    "test_X = pd.read_csv(data_path + 'test_BM_0331.csv')\n",
    "\n",
    "ntrain = train_X.shape[0]\n",
    "sub_id = test_X.listing_id.astype('int32').values\n",
    "# all_features = features_to_use + desc_sparse_cols + feat_sparse_cols\n",
    "print train_X.shape, test_X.shape, train_y.shape"
   ]
  },
  {
   "cell_type": "code",
   "execution_count": 14,
   "metadata": {
    "collapsed": true
   },
   "outputs": [],
   "source": [
    "null_ind = test_X.num_loc_price_diff.isnull()\n",
    "test_X['num_loc_price_diff'] = test_X['num_price'] - test_X['num_loc_median_price']\n",
    "# test_X[null_ind][['num_loc_price_diff','num_price','num_loc_median_price']]"
   ]
  },
  {
   "cell_type": "code",
   "execution_count": 15,
   "metadata": {
    "collapsed": false
   },
   "outputs": [
    {
     "name": "stdout",
     "output_type": "stream",
     "text": [
      "(49352, 413)\n",
      "(74659, 413)\n"
     ]
    }
   ],
   "source": [
    "time_feature = pd.read_csv(data_path + 'listing_image_time.csv')\n",
    "time_feature.columns = ['listing_id','time_stamp']\n",
    "train_X = train_X.merge(time_feature,on='listing_id',how='left')\n",
    "test_X = test_X.merge(time_feature,on='listing_id',how='left')\n",
    "\n",
    "print train_X.shape\n",
    "print test_X.shape"
   ]
  },
  {
   "cell_type": "code",
   "execution_count": 16,
   "metadata": {
    "collapsed": false
   },
   "outputs": [
    {
     "name": "stdout",
     "output_type": "stream",
     "text": [
      "(124011, 413)\n"
     ]
    }
   ],
   "source": [
    "full_data = pd.concat([train_X,test_X])\n",
    "print full_data.shape"
   ]
  },
  {
   "cell_type": "code",
   "execution_count": 17,
   "metadata": {
    "collapsed": true
   },
   "outputs": [
    {
     "data": {
      "text/plain": [
       "array(['building_id_mean_med', 'building_id_mean_high',\n",
       "       'manager_id_mean_med', 'manager_id_mean_high', 'median_price_bed',\n",
       "       'ratio_bed', 'compound', 'neg', 'neu', 'pos', 'street', 'avenue',\n",
       "       'east', 'west', 'north', 'south', 'other_address', 'top_10_manager',\n",
       "       'top_25_manager', 'top_5_manager', 'top_50_manager',\n",
       "       'top_1_manager', 'top_2_manager', 'top_15_manager',\n",
       "       'top_20_manager', 'top_30_manager', 'Zero_building_id',\n",
       "       'top_10_building', 'top_25_building', 'top_5_building',\n",
       "       'top_50_building', 'top_1_building', 'top_2_building',\n",
       "       'top_15_building', 'top_20_building', 'top_30_building',\n",
       "       'listing_id', 'num_latitude', 'num_longitude',\n",
       "       'num_dist_from_center', 'num_OutlierAggregated', 'num_pos_density',\n",
       "       'num_building_null', 'num_fbuilding', 'num_fmanager',\n",
       "       'num_created_weekday', 'num_created_weekofyear', 'num_created_day',\n",
       "       'num_created_month', 'num_created_hour', 'num_bathrooms',\n",
       "       'num_bedrooms', 'num_price', 'num_price_q', 'num_priceXroom',\n",
       "       'num_even_bathrooms', 'num_features', 'num_photos',\n",
       "       'num_desc_length', 'num_desc_length_null', 'num_location_6_3',\n",
       "       'num_location_6_1', 'num_location_6_0', 'num_location_6_5',\n",
       "       'num_location_6_4', 'num_location_6_2', 'num_location_40_18',\n",
       "       'num_location_40_31', 'num_location_40_11', 'num_location_40_24',\n",
       "       'num_location_40_14', 'num_location_40_36', 'num_location_40_3',\n",
       "       'num_location_40_7', 'num_location_40_33', 'num_location_40_5',\n",
       "       'num_location_40_37', 'num_location_40_12', 'num_location_40_16',\n",
       "       'num_location_40_2', 'num_location_40_20', 'num_location_40_34',\n",
       "       'num_location_40_9', 'num_location_40_0', 'num_location_40_21',\n",
       "       'num_location_40_26', 'num_location_40_13', 'num_location_40_25',\n",
       "       'num_location_40_32', 'num_location_40_19', 'num_location_40_17',\n",
       "       'num_location_40_4', 'num_location_40_15', 'num_location_40_35',\n",
       "       'num_location_40_22', 'num_location_40_30', 'num_location_40_1',\n",
       "       'num_location_40_23', 'num_location_40_10', 'num_location_40_38',\n",
       "       'num_location_40_28', 'num_location_40_6', 'num_location_40_29',\n",
       "       'num_location_40_27', 'num_location_40_39', 'num_location_40_8',\n",
       "       'num_room_type_0', 'num_room_type_1', 'num_room_type_2',\n",
       "       'num_room_type_3', 'num_room_type_4', 'num_room_type_5',\n",
       "       'num_room_type_6', 'num_room_type_7', 'num_room_type_8',\n",
       "       'num_room_type_9', 'num_room_type_10', 'num_room_type_11',\n",
       "       'num_room_type_12', 'num_room_type_13', 'num_room_type_14',\n",
       "       'num_room_type_15', 'num_room_type_16', 'num_room_type_17',\n",
       "       'num_room_type_18', 'num_room_type_19', 'num_6_median_price',\n",
       "       'num_6_price_ratio', 'num_6_price_diff', 'num_loc_median_price',\n",
       "       'num_loc_price_ratio', 'num_loc_price_diff', 'num_loc_ratio',\n",
       "       'num_loc_diff', 'hcc_pos_pred_1', 'hcc_pos_pred_2', 'building_id',\n",
       "       'display_address', 'manager_id', 'street_address',\n",
       "       'num_pricePerBed', 'num_pricePerBath', 'num_pricePerRoom',\n",
       "       'num_bedPerBath', 'num_bedBathDiff', 'num_bedBathSum',\n",
       "       'num_bedsPerc', 'hcc_building_id_pred_1', 'hcc_building_id_pred_2',\n",
       "       'hcc_manager_id_pred_1', 'hcc_manager_id_pred_2',\n",
       "       'feature_1_month_free', 'feature_24/7_concierge',\n",
       "       'feature_24/7_doorman', 'feature_24/7_doorman_concierge',\n",
       "       'feature_actual_apt._photos', 'feature_air_conditioning',\n",
       "       'feature_all_pets_ok', 'feature_all_utilities_included',\n",
       "       'feature_assigned-parking-space', 'feature_attended_lobby',\n",
       "       'feature_backyard', 'feature_balcony', 'feature_basement_storage',\n",
       "       'feature_basketball_court', 'feature_bike_room',\n",
       "       'feature_bike_storage', 'feature_billiards_room',\n",
       "       'feature_billiards_table_and_wet_bar', 'feature_brand_new',\n",
       "       'feature_breakfast_bar', 'feature_bright', 'feature_brownstone',\n",
       "       'feature_building-common-outdoor-space', 'feature_business_center',\n",
       "       'feature_cable/satellite_tv', 'feature_cable_ready',\n",
       "       'feature_call/text_abraham_caro_@_917-373-0862',\n",
       "       'feature_cats_allowed', 'feature_central_a/c', 'feature_central_ac',\n",
       "       'feature_central_air', 'feature_chefs_kitchen',\n",
       "       \"feature_children's_playroom\", 'feature_childrens_playroom',\n",
       "       'feature_cinema_room', 'feature_city_view',\n",
       "       'feature_close_to_subway', 'feature_closets_galore!',\n",
       "       'feature_club_sun_deck_has_spectacular_city_and_river_views',\n",
       "       'feature_cold_storage', 'feature_common_backyard',\n",
       "       'feature_common_garden', 'feature_common_outdoor_space',\n",
       "       'feature_common_parking/garage', 'feature_common_roof_deck',\n",
       "       'feature_common_storage', 'feature_common_terrace',\n",
       "       'feature_community_recreation_facilities',\n",
       "       'feature_complimentary_sunday_brunch', 'feature_concierge',\n",
       "       'feature_concierge_service', 'feature_condo_finishes',\n",
       "       'feature_courtyard', 'feature_crown_moldings', 'feature_deck',\n",
       "       'feature_deco_brick_wall', 'feature_decorative_fireplace',\n",
       "       'feature_dining_room', 'feature_dishwasher', 'feature_dogs_allowed',\n",
       "       'feature_doorman', 'feature_dry_cleaning_service',\n",
       "       'feature_dryer_in_unit', 'feature_duplex', 'feature_duplex_lounge',\n",
       "       'feature_eat-in_kitchen', 'feature_eat_in_kitchen',\n",
       "       'feature_elegant_glass-enclosed_private_lounge_with_magnificent_river_views',\n",
       "       'feature_elevator', 'feature_exclusive',\n",
       "       'feature_exercise/yoga_studio', 'feature_exposed_brick',\n",
       "       'feature_extra_room', 'feature_fireplace', 'feature_fireplaces',\n",
       "       'feature_fitness_center', 'feature_fitness_room', 'feature_flex-2',\n",
       "       'feature_flex-3', 'feature_free_wifi_in_club_lounge',\n",
       "       'feature_ft_doorman', 'feature_full-time_doorman',\n",
       "       'feature_full_service_garage',\n",
       "       'feature_fully-equipped_club_fitness_center',\n",
       "       'feature_fully__equipped', 'feature_furnished', 'feature_game_room',\n",
       "       'feature_garage', 'feature_garbage_disposal', 'feature_garden',\n",
       "       'feature_garden/patio', 'feature_granite_countertops',\n",
       "       'feature_granite_kitchen', 'feature_green_building',\n",
       "       'feature_guarantors_accepted', 'feature_gut_renovated',\n",
       "       'feature_gym', 'feature_gym/fitness', 'feature_gym_in_building',\n",
       "       'feature_hardwood', 'feature_hardwood_floors',\n",
       "       'feature_health_club', 'feature_hi_rise',\n",
       "       'feature_high-speed_internet', 'feature_high_ceiling',\n",
       "       'feature_high_ceilings', 'feature_high_speed_internet',\n",
       "       'feature_highrise', 'feature_housekeeping_service',\n",
       "       'feature_in-unit_washer/dryer', 'feature_indoor_pool',\n",
       "       'feature_intercom', 'feature_jacuzzi', 'feature_large_living_room',\n",
       "       'feature_laundry', 'feature_laundry_&_housekeeping',\n",
       "       'feature_laundry_in_building', 'feature_laundry_in_unit',\n",
       "       'feature_laundry_on_every_floor', 'feature_laundry_on_floor',\n",
       "       'feature_laundry_room', 'feature_light', 'feature_live-in_super',\n",
       "       'feature_live-in_superintendent', 'feature_live/work',\n",
       "       'feature_live_in_super', 'feature_loft', 'feature_lounge',\n",
       "       'feature_lounge_room', 'feature_lowrise', 'feature_luxury_building',\n",
       "       'feature_magnificent_venetian-style', 'feature_mail_room',\n",
       "       'feature_marble_bath', 'feature_marble_bathroom',\n",
       "       'feature_media_room', 'feature_media_screening_room',\n",
       "       'feature_microwave', 'feature_midrise', 'feature_multi-level',\n",
       "       'feature_new_construction', 'feature_newly_renovated',\n",
       "       'feature_no_fee', 'feature_no_pets', 'feature_on-site_atm_machine',\n",
       "       'feature_on-site_attended_garage', 'feature_on-site_garage',\n",
       "       'feature_on-site_laundry', 'feature_on-site_parking',\n",
       "       'feature_on-site_parking_available', 'feature_on-site_parking_lot',\n",
       "       'feature_on-site_super', 'feature_one_month_free',\n",
       "       'feature_outdoor_areas', 'feature_outdoor_entertainment_space',\n",
       "       'feature_outdoor_pool',\n",
       "       'feature_outdoor_roof_deck_overlooking_new_york_harbor_and_battery_park',\n",
       "       'feature_outdoor_space', 'feature_package_room', 'feature_parking',\n",
       "       'feature_parking_available', 'feature_parking_space',\n",
       "       'feature_part-time_doorman', 'feature_party_room', 'feature_patio',\n",
       "       'feature_penthouse', 'feature_pet_friendly', 'feature_pets',\n",
       "       'feature_pets_allowed', 'feature_pets_on_approval',\n",
       "       'feature_playroom', 'feature_playroom/nursery', 'feature_pool',\n",
       "       'feature_post-war', 'feature_post_war', 'feature_pre-war',\n",
       "       'feature_pre_war', 'feature_prewar', 'feature_private-balcony',\n",
       "       'feature_private-outdoor-space', 'feature_private_backyard',\n",
       "       'feature_private_balcony', 'feature_private_deck',\n",
       "       'feature_private_garden',\n",
       "       'feature_private_laundry_room_on_every_floor',\n",
       "       'feature_private_outdoor_space', 'feature_private_parking',\n",
       "       'feature_private_roof_deck', 'feature_private_roofdeck',\n",
       "       'feature_private_terrace', 'feature_publicoutdoor',\n",
       "       'feature_queen_size_bedrooms', 'feature_queen_sized_rooms',\n",
       "       'feature_reduced_fee', 'feature_renovated',\n",
       "       'feature_renovated_kitchen', 'feature_residents_garden',\n",
       "       'feature_residents_lounge', 'feature_roof-deck',\n",
       "       'feature_roof_access', 'feature_roof_deck',\n",
       "       'feature_roof_deck_with_grills', 'feature_roofdeck',\n",
       "       'feature_rooftop_deck', 'feature_rooftop_terrace',\n",
       "       'feature_s/s_appliances', 'feature_sauna', 'feature_screening_room',\n",
       "       'feature_separate_kitchen', 'feature_shared_backyard',\n",
       "       'feature_shared_garden', 'feature_shares_ok',\n",
       "       'feature_short_term_allowed', 'feature_simplex', 'feature_skylight',\n",
       "       'feature_skylight_atrium', 'feature_southern_exposure',\n",
       "       'feature_spa_services', 'feature_ss_appliances',\n",
       "       'feature_stainless_steel', 'feature_stainless_steel_appliances',\n",
       "       'feature_state-of-the-art_fitness_center', 'feature_storage',\n",
       "       'feature_storage_available', 'feature_storage_facilities_available',\n",
       "       'feature_storage_room', 'feature_sublet', 'feature_subway',\n",
       "       'feature_sundeck', 'feature_swimming_pool', 'feature_tenant_lounge',\n",
       "       'feature_terrace', 'feature_terraces_/_balconies',\n",
       "       'feature_tons_of_natural_light', 'feature_valet',\n",
       "       'feature_valet_parking', 'feature_valet_service',\n",
       "       'feature_valet_services',\n",
       "       'feature_valet_services_including_dry_cleaning',\n",
       "       'feature_video_intercom', 'feature_view', 'feature_virtual_doorman',\n",
       "       'feature_virtual_tour', 'feature_walk-in_closet', 'feature_walk-up',\n",
       "       'feature_walk_in_closet', 'feature_walk_in_closet(s)',\n",
       "       'feature_washer/dryer', 'feature_washer/dryer_hookup',\n",
       "       'feature_washer/dryer_in-unit', 'feature_washer/dryer_in_building',\n",
       "       'feature_washer/dryer_in_unit', 'feature_washer_&_dryer',\n",
       "       'feature_washer_in_unit', 'feature_wheelchair_access',\n",
       "       'feature_wheelchair_ramp', 'feature_wifi', 'feature_wifi_access',\n",
       "       'feature_wood-burning_fireplace', 'feature_yard',\n",
       "       'feature_yoga_classes', 'time_stamp'], dtype=object)"
      ]
     },
     "execution_count": 17,
     "metadata": {},
     "output_type": "execute_result"
    }
   ],
   "source": [
    "full_data.columns.values"
   ]
  },
  {
   "cell_type": "code",
   "execution_count": 18,
   "metadata": {
    "collapsed": true
   },
   "outputs": [],
   "source": [
    "feat_to_use = ['building_id_mean_med', 'building_id_mean_high',\n",
    "       'manager_id_mean_med', 'manager_id_mean_high', 'median_price_bed',\n",
    "       'ratio_bed', 'compound', 'neg', 'neu', 'pos', \n",
    "#                'street', 'avenue',\n",
    "#        'east', 'west', 'north', 'south', 'other_address', 'top_10_manager',\n",
    "#        'top_25_manager', 'top_5_manager', 'top_50_manager',\n",
    "#        'top_1_manager', 'top_2_manager', 'top_15_manager',\n",
    "#        'top_20_manager', 'top_30_manager', 'Zero_building_id',\n",
    "#        'top_10_building', 'top_25_building', 'top_5_building',\n",
    "#        'top_50_building', 'top_1_building', 'top_2_building',\n",
    "#        'top_15_building', 'top_20_building', 'top_30_building',\n",
    "       'listing_id', 'num_latitude', 'num_longitude',\n",
    "       'num_dist_from_center', 'num_OutlierAggregated', 'num_pos_density',\n",
    "       'num_building_null', 'num_fbuilding', 'num_fmanager',\n",
    "       'num_created_weekday', 'num_created_weekofyear', 'num_created_day',\n",
    "       'num_created_month', 'num_created_hour', 'num_bathrooms',\n",
    "       'num_bedrooms', 'num_price', 'num_price_q', 'num_priceXroom',\n",
    "       'num_even_bathrooms', 'num_features', 'num_photos',\n",
    "       'num_desc_length', 'num_desc_length_null', \n",
    "#                'num_location_6_3',\n",
    "#        'num_location_6_1', 'num_location_6_0', 'num_location_6_5',\n",
    "#        'num_location_6_4', 'num_location_6_2', 'num_location_40_18',\n",
    "#        'num_location_40_31', 'num_location_40_11', 'num_location_40_24',\n",
    "#        'num_location_40_14', 'num_location_40_36', 'num_location_40_3',\n",
    "#        'num_location_40_7', 'num_location_40_33', 'num_location_40_5',\n",
    "#        'num_location_40_37', 'num_location_40_12', 'num_location_40_16',\n",
    "#        'num_location_40_2', 'num_location_40_20', 'num_location_40_34',\n",
    "#        'num_location_40_9', 'num_location_40_0', 'num_location_40_21',\n",
    "#        'num_location_40_26', 'num_location_40_13', 'num_location_40_25',\n",
    "#        'num_location_40_32', 'num_location_40_19', 'num_location_40_17',\n",
    "#        'num_location_40_4', 'num_location_40_15', 'num_location_40_35',\n",
    "#        'num_location_40_22', 'num_location_40_30', 'num_location_40_1',\n",
    "#        'num_location_40_23', 'num_location_40_10', 'num_location_40_38',\n",
    "#        'num_location_40_28', 'num_location_40_6', 'num_location_40_29',\n",
    "#        'num_location_40_27', 'num_location_40_39', 'num_location_40_8',\n",
    "#        'num_room_type_0', 'num_room_type_1', 'num_room_type_2',\n",
    "#        'num_room_type_3', 'num_room_type_4', 'num_room_type_5',\n",
    "#        'num_room_type_6', 'num_room_type_7', 'num_room_type_8',\n",
    "#        'num_room_type_9', 'num_room_type_10', 'num_room_type_11',\n",
    "#        'num_room_type_12', 'num_room_type_13', 'num_room_type_14',\n",
    "#        'num_room_type_15', 'num_room_type_16', 'num_room_type_17',\n",
    "#        'num_room_type_18', 'num_room_type_19', \n",
    "               'num_6_median_price',\n",
    "       'num_6_price_ratio', 'num_6_price_diff', 'num_loc_median_price',\n",
    "       'num_loc_price_ratio', 'num_loc_price_diff', 'num_loc_ratio',\n",
    "       'num_loc_diff', 'hcc_pos_pred_1', 'hcc_pos_pred_2', 'building_id',\n",
    "       'display_address', 'manager_id', 'street_address',\n",
    "       'num_pricePerBed', 'num_pricePerBath', 'num_pricePerRoom',\n",
    "       'num_bedPerBath', 'num_bedBathDiff', 'num_bedBathSum',\n",
    "       'num_bedsPerc', \n",
    "#                'hcc_building_id_pred_1', 'hcc_building_id_pred_2',\n",
    "#        'hcc_manager_id_pred_1', 'hcc_manager_id_pred_2',\n",
    "#        'feature_1_month_free', 'feature_24/7_concierge',\n",
    "#        'feature_24/7_doorman', 'feature_24/7_doorman_concierge',\n",
    "#        'feature_actual_apt._photos', 'feature_air_conditioning',\n",
    "#        'feature_all_pets_ok', 'feature_all_utilities_included',\n",
    "#        'feature_assigned-parking-space', 'feature_attended_lobby',\n",
    "#        'feature_backyard', 'feature_balcony', 'feature_basement_storage',\n",
    "#        'feature_basketball_court', 'feature_bike_room',\n",
    "#        'feature_bike_storage', 'feature_billiards_room',\n",
    "#        'feature_billiards_table_and_wet_bar', 'feature_brand_new',\n",
    "#        'feature_breakfast_bar', 'feature_bright', 'feature_brownstone',\n",
    "#        'feature_building-common-outdoor-space', 'feature_business_center',\n",
    "#        'feature_cable/satellite_tv', 'feature_cable_ready',\n",
    "#        'feature_call/text_abraham_caro_@_917-373-0862',\n",
    "#        'feature_cats_allowed', 'feature_central_a/c', 'feature_central_ac',\n",
    "#        'feature_central_air', 'feature_chefs_kitchen',\n",
    "#        \"feature_children's_playroom\", 'feature_childrens_playroom',\n",
    "#        'feature_cinema_room', 'feature_city_view',\n",
    "#        'feature_close_to_subway', 'feature_closets_galore!',\n",
    "#        'feature_club_sun_deck_has_spectacular_city_and_river_views',\n",
    "#        'feature_cold_storage', 'feature_common_backyard',\n",
    "#        'feature_common_garden', 'feature_common_outdoor_space',\n",
    "#        'feature_common_parking/garage', 'feature_common_roof_deck',\n",
    "#        'feature_common_storage', 'feature_common_terrace',\n",
    "#        'feature_community_recreation_facilities',\n",
    "#        'feature_complimentary_sunday_brunch', 'feature_concierge',\n",
    "#        'feature_concierge_service', 'feature_condo_finishes',\n",
    "#        'feature_courtyard', 'feature_crown_moldings', 'feature_deck',\n",
    "#        'feature_deco_brick_wall', 'feature_decorative_fireplace',\n",
    "#        'feature_dining_room', 'feature_dishwasher', 'feature_dogs_allowed',\n",
    "#        'feature_doorman', 'feature_dry_cleaning_service',\n",
    "#        'feature_dryer_in_unit', 'feature_duplex', 'feature_duplex_lounge',\n",
    "#        'feature_eat-in_kitchen', 'feature_eat_in_kitchen',\n",
    "#        'feature_elegant_glass-enclosed_private_lounge_with_magnificent_river_views',\n",
    "#        'feature_elevator', 'feature_exclusive',\n",
    "#        'feature_exercise/yoga_studio', 'feature_exposed_brick',\n",
    "#        'feature_extra_room', 'feature_fireplace', 'feature_fireplaces',\n",
    "#        'feature_fitness_center', 'feature_fitness_room', 'feature_flex-2',\n",
    "#        'feature_flex-3', 'feature_free_wifi_in_club_lounge',\n",
    "#        'feature_ft_doorman', 'feature_full-time_doorman',\n",
    "#        'feature_full_service_garage',\n",
    "#        'feature_fully-equipped_club_fitness_center',\n",
    "#        'feature_fully__equipped', 'feature_furnished', 'feature_game_room',\n",
    "#        'feature_garage', 'feature_garbage_disposal', 'feature_garden',\n",
    "#        'feature_garden/patio', 'feature_granite_countertops',\n",
    "#        'feature_granite_kitchen', 'feature_green_building',\n",
    "#        'feature_guarantors_accepted', 'feature_gut_renovated',\n",
    "#        'feature_gym', 'feature_gym/fitness', 'feature_gym_in_building',\n",
    "#        'feature_hardwood', 'feature_hardwood_floors',\n",
    "#        'feature_health_club', 'feature_hi_rise',\n",
    "#        'feature_high-speed_internet', 'feature_high_ceiling',\n",
    "#        'feature_high_ceilings', 'feature_high_speed_internet',\n",
    "#        'feature_highrise', 'feature_housekeeping_service',\n",
    "#        'feature_in-unit_washer/dryer', 'feature_indoor_pool',\n",
    "#        'feature_intercom', 'feature_jacuzzi', 'feature_large_living_room',\n",
    "#        'feature_laundry', 'feature_laundry_&_housekeeping',\n",
    "#        'feature_laundry_in_building', 'feature_laundry_in_unit',\n",
    "#        'feature_laundry_on_every_floor', 'feature_laundry_on_floor',\n",
    "#        'feature_laundry_room', 'feature_light', 'feature_live-in_super',\n",
    "#        'feature_live-in_superintendent', 'feature_live/work',\n",
    "#        'feature_live_in_super', 'feature_loft', 'feature_lounge',\n",
    "#        'feature_lounge_room', 'feature_lowrise', 'feature_luxury_building',\n",
    "#        'feature_magnificent_venetian-style', 'feature_mail_room',\n",
    "#        'feature_marble_bath', 'feature_marble_bathroom',\n",
    "#        'feature_media_room', 'feature_media_screening_room',\n",
    "#        'feature_microwave', 'feature_midrise', 'feature_multi-level',\n",
    "#        'feature_new_construction', 'feature_newly_renovated',\n",
    "#        'feature_no_fee', 'feature_no_pets', 'feature_on-site_atm_machine',\n",
    "#        'feature_on-site_attended_garage', 'feature_on-site_garage',\n",
    "#        'feature_on-site_laundry', 'feature_on-site_parking',\n",
    "#        'feature_on-site_parking_available', 'feature_on-site_parking_lot',\n",
    "#        'feature_on-site_super', 'feature_one_month_free',\n",
    "#        'feature_outdoor_areas', 'feature_outdoor_entertainment_space',\n",
    "#        'feature_outdoor_pool',\n",
    "#        'feature_outdoor_roof_deck_overlooking_new_york_harbor_and_battery_park',\n",
    "#        'feature_outdoor_space', 'feature_package_room', 'feature_parking',\n",
    "#        'feature_parking_available', 'feature_parking_space',\n",
    "#        'feature_part-time_doorman', 'feature_party_room', 'feature_patio',\n",
    "#        'feature_penthouse', 'feature_pet_friendly', 'feature_pets',\n",
    "#        'feature_pets_allowed', 'feature_pets_on_approval',\n",
    "#        'feature_playroom', 'feature_playroom/nursery', 'feature_pool',\n",
    "#        'feature_post-war', 'feature_post_war', 'feature_pre-war',\n",
    "#        'feature_pre_war', 'feature_prewar', 'feature_private-balcony',\n",
    "#        'feature_private-outdoor-space', 'feature_private_backyard',\n",
    "#        'feature_private_balcony', 'feature_private_deck',\n",
    "#        'feature_private_garden',\n",
    "#        'feature_private_laundry_room_on_every_floor',\n",
    "#        'feature_private_outdoor_space', 'feature_private_parking',\n",
    "#        'feature_private_roof_deck', 'feature_private_roofdeck',\n",
    "#        'feature_private_terrace', 'feature_publicoutdoor',\n",
    "#        'feature_queen_size_bedrooms', 'feature_queen_sized_rooms',\n",
    "#        'feature_reduced_fee', 'feature_renovated',\n",
    "#        'feature_renovated_kitchen', 'feature_residents_garden',\n",
    "#        'feature_residents_lounge', 'feature_roof-deck',\n",
    "#        'feature_roof_access', 'feature_roof_deck',\n",
    "#        'feature_roof_deck_with_grills', 'feature_roofdeck',\n",
    "#        'feature_rooftop_deck', 'feature_rooftop_terrace',\n",
    "#        'feature_s/s_appliances', 'feature_sauna', 'feature_screening_room',\n",
    "#        'feature_separate_kitchen', 'feature_shared_backyard',\n",
    "#        'feature_shared_garden', 'feature_shares_ok',\n",
    "#        'feature_short_term_allowed', 'feature_simplex', 'feature_skylight',\n",
    "#        'feature_skylight_atrium', 'feature_southern_exposure',\n",
    "#        'feature_spa_services', 'feature_ss_appliances',\n",
    "#        'feature_stainless_steel', 'feature_stainless_steel_appliances',\n",
    "#        'feature_state-of-the-art_fitness_center', 'feature_storage',\n",
    "#        'feature_storage_available', 'feature_storage_facilities_available',\n",
    "#        'feature_storage_room', 'feature_sublet', 'feature_subway',\n",
    "#        'feature_sundeck', 'feature_swimming_pool', 'feature_tenant_lounge',\n",
    "#        'feature_terrace', 'feature_terraces_/_balconies',\n",
    "#        'feature_tons_of_natural_light', 'feature_valet',\n",
    "#        'feature_valet_parking', 'feature_valet_service',\n",
    "#        'feature_valet_services',\n",
    "#        'feature_valet_services_including_dry_cleaning',\n",
    "#        'feature_video_intercom', 'feature_view', 'feature_virtual_doorman',\n",
    "#        'feature_virtual_tour', 'feature_walk-in_closet', 'feature_walk-up',\n",
    "#        'feature_walk_in_closet', 'feature_walk_in_closet(s)',\n",
    "#        'feature_washer/dryer', 'feature_washer/dryer_hookup',\n",
    "#        'feature_washer/dryer_in-unit', 'feature_washer/dryer_in_building',\n",
    "#        'feature_washer/dryer_in_unit', 'feature_washer_&_dryer',\n",
    "#        'feature_washer_in_unit', 'feature_wheelchair_access',\n",
    "#        'feature_wheelchair_ramp', 'feature_wifi', 'feature_wifi_access',\n",
    "#        'feature_wood-burning_fireplace', 'feature_yard',\n",
    "#        'feature_yoga_classes', \n",
    "               'time_stamp']"
   ]
  },
  {
   "cell_type": "code",
   "execution_count": 19,
   "metadata": {
    "collapsed": false
   },
   "outputs": [
    {
     "name": "stdout",
     "output_type": "stream",
     "text": [
      "(49352, 413)\n",
      "(74659, 413)\n"
     ]
    }
   ],
   "source": [
    "# full_data = full_data.fillna(0)\n",
    "\n",
    "for col in feat_to_use:\n",
    "    full_data.loc[:,col] = (full_data[col]-full_data[col].mean())/full_data[col].std()\n",
    "train_df_nn = full_data[:ntrain]\n",
    "test_df_nn = full_data[ntrain:]\n",
    "\n",
    "train_df_nn = sparse.csr_matrix(train_df_nn)\n",
    "test_df_nn = sparse.csr_matrix(test_df_nn)\n",
    "\n",
    "\n",
    "print train_df_nn.shape\n",
    "print test_df_nn.shape"
   ]
  },
  {
   "cell_type": "code",
   "execution_count": 20,
   "metadata": {
    "collapsed": false
   },
   "outputs": [
    {
     "data": {
      "text/plain": [
       "False"
      ]
     },
     "execution_count": 20,
     "metadata": {},
     "output_type": "execute_result"
    }
   ],
   "source": [
    "full_data.isnull().values.any()"
   ]
  },
  {
   "cell_type": "code",
   "execution_count": 21,
   "metadata": {
    "collapsed": true
   },
   "outputs": [],
   "source": [
    "def batch_generator(X, y, batch_size, shuffle):\n",
    "    number_of_batches = np.ceil(X.shape[0]/batch_size)\n",
    "    counter = 0\n",
    "    sample_index = np.arange(X.shape[0])\n",
    "    if shuffle:\n",
    "        np.random.shuffle(sample_index)\n",
    "    while True:\n",
    "        batch_index = sample_index[batch_size*counter:batch_size*(counter+1)]\n",
    "        X_batch = X[batch_index,:].toarray()\n",
    "        y_batch = y[batch_index]\n",
    "        counter += 1\n",
    "        yield X_batch, y_batch\n",
    "        if (counter == number_of_batches):\n",
    "            if shuffle:\n",
    "                np.random.shuffle(sample_index)\n",
    "            counter = 0\n",
    "\n",
    "def batch_generatorp(X, batch_size, shuffle):\n",
    "    number_of_batches = X.shape[0] / np.ceil(X.shape[0]/batch_size)\n",
    "    counter = 0\n",
    "    sample_index = np.arange(X.shape[0])\n",
    "    while True:\n",
    "        batch_index = sample_index[batch_size * counter:batch_size * (counter + 1)]\n",
    "        X_batch = X[batch_index, :].toarray()\n",
    "        counter += 1\n",
    "        yield X_batch\n",
    "        if (counter == number_of_batches):\n",
    "            counter = 0"
   ]
  },
  {
   "cell_type": "code",
   "execution_count": null,
   "metadata": {
    "collapsed": true
   },
   "outputs": [],
   "source": []
  },
  {
   "cell_type": "code",
   "execution_count": 22,
   "metadata": {
    "collapsed": true
   },
   "outputs": [],
   "source": [
    "train_y = np.ravel(pd.read_csv(data_path + 'labels_BrandenMurray.csv'))\n",
    "# train_y = to_categorical(train_y)"
   ]
  },
  {
   "cell_type": "markdown",
   "metadata": {},
   "source": [
    "# Low"
   ]
  },
  {
   "cell_type": "code",
   "execution_count": 23,
   "metadata": {
    "collapsed": false
   },
   "outputs": [
    {
     "name": "stdout",
     "output_type": "stream",
     "text": [
      "34284\n"
     ]
    }
   ],
   "source": [
    "y_low =[]\n",
    "for i in range(train_X.shape[0]):\n",
    "    y_low.append(1 if train_y[i] == 0 else 0)\n",
    "    \n",
    "y_low = np.array(y_low)  \n",
    "print np.sum(y_low)\n",
    "y_low = to_categorical(y_low)"
   ]
  },
  {
   "cell_type": "code",
   "execution_count": 25,
   "metadata": {
    "collapsed": false
   },
   "outputs": [],
   "source": [
    "\n",
    "\n",
    "def nn_model(params):\n",
    "    model = Sequential()\n",
    "    init = 'glorot_normal'\n",
    "    \n",
    "    model.add(Dense(params['input_size'], # number of input units: needs to be tuned\n",
    "                    input_dim = params['input_dim'], # fixed length: number of columns of X\n",
    "                    init=init,\n",
    "                   ))\n",
    "    model.add(Activation('sigmoid'))\n",
    "    model.add(PReLU()) # activation function\n",
    "    model.add(BatchNormalization()) # normalization\n",
    "    model.add(Dropout(params['input_drop_out'])) #dropout rate. needs to be tuned\n",
    "        \n",
    "    model.add(Dense(params['hidden_size'],\n",
    "                    init=init)) # number of hidden1 units. needs to be tuned.\n",
    "    model.add(Activation('sigmoid'))\n",
    "    model.add(PReLU())\n",
    "    model.add(BatchNormalization())    \n",
    "    model.add(Dropout(params['hidden_drop_out'])) #dropout rate. needs to be tuned\n",
    "    \n",
    "#     model.add(Dense(20,init=init)) # number of hidden2 units. needs to be tuned.\n",
    "#     model.add(Activation('sigmoid'))\n",
    "#     model.add(PReLU())\n",
    "#     model.add(BatchNormalization())    \n",
    "#     model.add(Dropout(0.5)) #dropout rate. needs to be tuned\n",
    "    \n",
    "    model.add(Dense(2,\n",
    "                    init = init,\n",
    "                    activation = 'softmax')) # 1 for regression \n",
    "    model.compile(loss = 'categorical_crossentropy',\n",
    "                  optimizer = 'adam' # optimizer. you may want to try different ones\n",
    "                 )\n",
    "    return(model)\n",
    "\n",
    "\n",
    "\n",
    "def nn_blend_data(parameters, train_x, train_y, test_x, fold, early_stopping_rounds=0, batch_size=128):\n",
    "    N_params = len(parameters)\n",
    "    print (\"Blend %d estimators for %d folds\" % (len(parameters), fold))\n",
    "    skf = KFold(n_splits=fold,random_state=seed)\n",
    "    N_class = train_y.shape[1]\n",
    "    \n",
    "    train_blend_x = np.zeros((train_x.shape[0], N_class*N_params))\n",
    "    test_blend_x = np.zeros((test_x.shape[0], N_class*N_params))\n",
    "    scores = np.zeros ((fold,N_params))\n",
    "    best_rounds = np.zeros ((fold, N_params))\n",
    "    \n",
    "\n",
    "    \n",
    "    for j, nn_params in enumerate(parameters):\n",
    "        print (\"Model %d: %s\" %(j+1, nn_params))\n",
    "        test_blend_x_j = np.zeros((test_x.shape[0], N_class*fold))\n",
    "        \n",
    "        for i, (train_index, val_index) in enumerate(skf.split(train_x)):\n",
    "            print (\"Model %d fold %d\" %(j+1,i+1))\n",
    "            fold_start = time.time() \n",
    "            train_x_fold = train_x[train_index]\n",
    "            train_y_fold = train_y[train_index]\n",
    "            val_x_fold = train_x[val_index]\n",
    "            val_y_fold = train_y[val_index]\n",
    "            \n",
    "\n",
    "            model = nn_model(nn_params)\n",
    "#             print (model)\n",
    "            fit= model.fit_generator(generator=batch_generator(train_x_fold, train_y_fold, 128, True),\n",
    "                                     nb_epoch=60,\n",
    "                                     samples_per_epoch=train_x_fold.shape[0],\n",
    "                                     validation_data=(val_x_fold.todense(), val_y_fold),\n",
    "                                     verbose = 0,\n",
    "                                     callbacks=[ModelCheckpoint(filepath=\"weights.hdf5\", \n",
    "                                                                monitor='val_loss', \n",
    "                                                                verbose=0, save_best_only=True)]\n",
    "                                    )\n",
    "\n",
    "            best_round=len(fit.epoch)-early_stopping_rounds-1\n",
    "            best_rounds[i,j]=best_round\n",
    "            print (\"best round %d\" % (best_round))\n",
    "            \n",
    "            model.load_weights(\"weights.hdf5\")\n",
    "            # Compile model (required to make predictions)\n",
    "            model.compile(loss = 'categorical_crossentropy',optimizer = 'adam' )\n",
    "            \n",
    "            # print (mean_absolute_error(np.exp(y_val)-200, pred_y))\n",
    "            val_y_predict_fold = model.predict_proba(x=val_x_fold.toarray(),verbose=0)\n",
    "            score = log_loss(val_y_fold, val_y_predict_fold)\n",
    "            print (\"Score: \", score)\n",
    "            scores[i,j]=score   \n",
    "            train_blend_x[val_index, (j*N_class):(j+1)*N_class] = val_y_predict_fold\n",
    "            \n",
    "            model.load_weights(\"weights.hdf5\")\n",
    "            # Compile model (required to make predictions)\n",
    "            model.compile(loss = 'categorical_crossentropy',optimizer = 'adam' )            \n",
    "            test_blend_x_j[:,(i*N_class):(i+1)*N_class] = model.predict_proba(x=test_x.toarray(),verbose=0)\n",
    "            print (\"Model %d fold %d fitting finished in %0.3fs\" % (j+1,i+1, time.time() - fold_start))            \n",
    "            \n",
    "        test_blend_x[:,(j*N_class):(j+1)*N_class] = \\\n",
    "                np.stack([test_blend_x_j[:,range(0,N_class*fold,N_class)].mean(1),\n",
    "                          test_blend_x_j[:,range(1,N_class*fold,N_class)].mean(1)]).T\n",
    "            \n",
    "        print (\"Score for model %d is %f\" % (j+1,np.mean(scores[:,j])))\n",
    "    print (\"Score for blended models is %f\" % (np.mean(scores)))\n",
    "    return (train_blend_x, test_blend_x, scores,best_rounds)"
   ]
  },
  {
   "cell_type": "code",
   "execution_count": 29,
   "metadata": {
    "collapsed": false
   },
   "outputs": [
    {
     "name": "stdout",
     "output_type": "stream",
     "text": [
      "Blend 1 estimators for 5 folds\n",
      "Model 1: {'input_size': 100, 'input_drop_out': 0.4, 'hidden_drop_out': 0.4, 'hidden_size': 30, 'input_dim': 413}\n",
      "Model 1 fold 1\n"
     ]
    },
    {
     "name": "stderr",
     "output_type": "stream",
     "text": [
      "/home/xujin/AI/anaconda2/lib/python2.7/site-packages/keras/engine/training.py:1480: UserWarning: Epoch comprised more than `samples_per_epoch` samples, which might affect learning results. Set `samples_per_epoch` correctly to avoid this warning.\n",
      "  warnings.warn('Epoch comprised more than '\n"
     ]
    },
    {
     "name": "stdout",
     "output_type": "stream",
     "text": [
      "best round 54\n",
      "('Score: ', 0.37421376879215185)\n",
      "Model 1 fold 1 fitting finished in 235.699s\n",
      "Model 1 fold 2\n",
      "best round 54\n",
      "('Score: ', 0.36841183297683294)\n",
      "Model 1 fold 2 fitting finished in 236.860s\n",
      "Model 1 fold 3\n",
      "best round 54\n",
      "('Score: ', 0.38790396247247827)\n",
      "Model 1 fold 3 fitting finished in 213.752s\n",
      "Model 1 fold 4\n",
      "best round 54\n",
      "('Score: ', 0.40022028249241065)\n",
      "Model 1 fold 4 fitting finished in 213.394s\n",
      "Model 1 fold 5\n",
      "best round 54\n",
      "('Score: ', 0.40787803853078575)\n",
      "Model 1 fold 5 fitting finished in 233.945s\n",
      "Score for model 1 is 0.387726\n",
      "Score for blended models is 0.387726\n"
     ]
    }
   ],
   "source": [
    "nn_parameters = [\n",
    "    { 'input_size' :100 ,\n",
    "     'input_dim' : train_X.shape[1],\n",
    "     'input_drop_out' : 0.4 ,\n",
    "     'hidden_size' : 30 ,\n",
    "     'hidden_drop_out' :0.4}\n",
    "]\n",
    "\n",
    "(train_blend_x_low, test_blend_x_low, blend_scores,best_round) = nn_blend_data(nn_parameters, train_df_nn, y_low, test_df_nn,\n",
    "                                                         5,\n",
    "                                                         5)"
   ]
  },
  {
   "cell_type": "code",
   "execution_count": 30,
   "metadata": {
    "collapsed": false
   },
   "outputs": [
    {
     "name": "stdout",
     "output_type": "stream",
     "text": [
      "[ 0.38772558]\n",
      "[ 54.]\n"
     ]
    }
   ],
   "source": [
    "\n",
    "now = datetime.now()\n",
    "\n",
    "name_train_blend = '../output/train_blend_Keras_last_ovr_low_' + str(now.strftime(\"%Y-%m-%d-%H-%M\")) + '.csv'\n",
    "name_test_blend = '../output/test_blend_Keras_last_ovr_low_' + str(now.strftime(\"%Y-%m-%d-%H-%M\")) + '.csv'\n",
    "\n",
    "\n",
    "\n",
    "print (np.mean(blend_scores,axis=0))\n",
    "print (np.mean(best_round,axis=0))\n",
    "np.savetxt(name_train_blend,train_blend_x_low, delimiter=\",\")\n",
    "np.savetxt(name_test_blend,test_blend_x_low, delimiter=\",\")"
   ]
  },
  {
   "cell_type": "markdown",
   "metadata": {
    "collapsed": true
   },
   "source": [
    "# medium"
   ]
  },
  {
   "cell_type": "code",
   "execution_count": 31,
   "metadata": {
    "collapsed": false
   },
   "outputs": [
    {
     "name": "stdout",
     "output_type": "stream",
     "text": [
      "11229\n"
     ]
    }
   ],
   "source": [
    "y_medium =[]\n",
    "for i in range(train_X.shape[0]):\n",
    "    y_medium.append(1 if train_y[i] == 1 else 0)\n",
    "    \n",
    "y_medium = np.array(y_medium)  \n",
    "print np.sum(y_medium)\n",
    "y_medium = to_categorical(y_medium)"
   ]
  },
  {
   "cell_type": "code",
   "execution_count": 32,
   "metadata": {
    "collapsed": false
   },
   "outputs": [
    {
     "name": "stdout",
     "output_type": "stream",
     "text": [
      "Blend 1 estimators for 5 folds\n",
      "Model 1: {'input_size': 100, 'input_drop_out': 0.4, 'hidden_drop_out': 0.4, 'hidden_size': 30, 'input_dim': 413}\n",
      "Model 1 fold 1\n",
      "best round 54\n",
      "('Score: ', 0.41109054657353966)\n",
      "Model 1 fold 1 fitting finished in 227.868s\n",
      "Model 1 fold 2\n",
      "best round 54\n",
      "('Score: ', 0.41109962720917409)\n",
      "Model 1 fold 2 fitting finished in 213.886s\n",
      "Model 1 fold 3\n",
      "best round 54\n",
      "('Score: ', 0.42121349797050278)\n",
      "Model 1 fold 3 fitting finished in 211.931s\n",
      "Model 1 fold 4\n",
      "best round 54\n",
      "('Score: ', 0.43516122966743753)\n",
      "Model 1 fold 4 fitting finished in 212.816s\n",
      "Model 1 fold 5\n",
      "best round 54\n",
      "('Score: ', 0.43336667688648389)\n",
      "Model 1 fold 5 fitting finished in 212.341s\n",
      "Score for model 1 is 0.422386\n",
      "Score for blended models is 0.422386\n"
     ]
    }
   ],
   "source": [
    "nn_parameters = [\n",
    "    { 'input_size' :100 ,\n",
    "     'input_dim' : train_X.shape[1],\n",
    "     'input_drop_out' : 0.4 ,\n",
    "     'hidden_size' : 30 ,\n",
    "     'hidden_drop_out' :0.4}\n",
    "\n",
    "]\n",
    "\n",
    "(train_blend_x_medium , test_blend_x_medium , blend_scores,best_round) = nn_blend_data(nn_parameters,train_df_nn, \n",
    "                                                                                       y_medium , \n",
    "                                                                                       test_df_nn,\n",
    "                                                         5,\n",
    "                                                         5)"
   ]
  },
  {
   "cell_type": "code",
   "execution_count": 33,
   "metadata": {
    "collapsed": false
   },
   "outputs": [
    {
     "name": "stdout",
     "output_type": "stream",
     "text": [
      "[ 0.42238632]\n",
      "[ 54.]\n"
     ]
    }
   ],
   "source": [
    "now = datetime.now()\n",
    "\n",
    "name_train_blend = '../output/train_blend_Keras_last_ovr_medium_' + str(now.strftime(\"%Y-%m-%d-%H-%M\")) + '.csv'\n",
    "name_test_blend = '../output/test_blend_Keras_last_ovr_medium_' + str(now.strftime(\"%Y-%m-%d-%H-%M\")) + '.csv'\n",
    "\n",
    "\n",
    "\n",
    "print (np.mean(blend_scores,axis=0))\n",
    "print (np.mean(best_round,axis=0))\n",
    "np.savetxt(name_train_blend,train_blend_x_medium, delimiter=\",\")\n",
    "np.savetxt(name_test_blend,test_blend_x_medium, delimiter=\",\")"
   ]
  },
  {
   "cell_type": "markdown",
   "metadata": {},
   "source": [
    "# High"
   ]
  },
  {
   "cell_type": "code",
   "execution_count": 34,
   "metadata": {
    "collapsed": false
   },
   "outputs": [
    {
     "name": "stdout",
     "output_type": "stream",
     "text": [
      "3839\n"
     ]
    }
   ],
   "source": [
    "y_high =[]\n",
    "for i in range(train_X.shape[0]):\n",
    "    y_high.append(1 if train_y[i] == 2 else 0)\n",
    "    \n",
    "y_high = np.array(y_high)  \n",
    "print np.sum(y_high)\n",
    "y_high = to_categorical(y_high)"
   ]
  },
  {
   "cell_type": "code",
   "execution_count": 35,
   "metadata": {
    "collapsed": false
   },
   "outputs": [
    {
     "name": "stdout",
     "output_type": "stream",
     "text": [
      "Blend 1 estimators for 5 folds\n",
      "Model 1: {'input_size': 100, 'input_drop_out': 0.4, 'hidden_drop_out': 0.4, 'hidden_size': 30, 'input_dim': 413}\n",
      "Model 1 fold 1\n",
      "best round 54\n",
      "('Score: ', 0.17188711641413681)\n",
      "Model 1 fold 1 fitting finished in 212.458s\n",
      "Model 1 fold 2\n",
      "best round 54\n",
      "('Score: ', 0.17506999335706461)\n",
      "Model 1 fold 2 fitting finished in 224.481s\n",
      "Model 1 fold 3\n",
      "best round 54\n",
      "('Score: ', 0.18049783294262139)\n",
      "Model 1 fold 3 fitting finished in 213.791s\n",
      "Model 1 fold 4\n",
      "best round 54\n",
      "('Score: ', 0.18485708338559365)\n",
      "Model 1 fold 4 fitting finished in 214.936s\n",
      "Model 1 fold 5\n",
      "best round 54\n",
      "('Score: ', 0.1783687703980249)\n",
      "Model 1 fold 5 fitting finished in 215.180s\n",
      "Score for model 1 is 0.178136\n",
      "Score for blended models is 0.178136\n"
     ]
    }
   ],
   "source": [
    "nn_parameters = [\n",
    "    { 'input_size' :100 ,\n",
    "     'input_dim' : train_X.shape[1],\n",
    "     'input_drop_out' : 0.4 ,\n",
    "     'hidden_size' : 30 ,\n",
    "     'hidden_drop_out' :0.4}\n",
    "\n",
    "]\n",
    "\n",
    "(train_blend_x_hihg, test_blend_x_hihg, blend_scores,best_round) = nn_blend_data(nn_parameters,train_df_nn, \n",
    "                                                                                       y_high , \n",
    "                                                                                       test_df_nn,\n",
    "                                                         5,\n",
    "                                                         5)"
   ]
  },
  {
   "cell_type": "code",
   "execution_count": 36,
   "metadata": {
    "collapsed": false
   },
   "outputs": [
    {
     "name": "stdout",
     "output_type": "stream",
     "text": [
      "[ 0.17813616]\n",
      "[ 54.]\n"
     ]
    }
   ],
   "source": [
    "now = datetime.now()\n",
    "\n",
    "name_train_blend = '../output/train_blend_Keras_last_ovr_high_' + str(now.strftime(\"%Y-%m-%d-%H-%M\")) + '.csv'\n",
    "name_test_blend = '../output/test_blend_Keras_last_ovr_high_' + str(now.strftime(\"%Y-%m-%d-%H-%M\")) + '.csv'\n",
    "\n",
    "\n",
    "\n",
    "print (np.mean(blend_scores,axis=0))\n",
    "print (np.mean(best_round,axis=0))\n",
    "np.savetxt(name_train_blend,train_blend_x_hihg, delimiter=\",\")\n",
    "np.savetxt(name_test_blend,test_blend_x_hihg, delimiter=\",\")"
   ]
  },
  {
   "cell_type": "markdown",
   "metadata": {},
   "source": [
    "# combine"
   ]
  },
  {
   "cell_type": "code",
   "execution_count": 41,
   "metadata": {
    "collapsed": false
   },
   "outputs": [
    {
     "data": {
      "text/plain": [
       "(49352, 3)"
      ]
     },
     "execution_count": 41,
     "metadata": {},
     "output_type": "execute_result"
    }
   ],
   "source": [
    "train_blend_x = np.vstack([train_blend_x_low[:,1],train_blend_x_medium[:,1],train_blend_x_hihg[:,1]]).T\n",
    "train_blend_x.shape"
   ]
  },
  {
   "cell_type": "code",
   "execution_count": 42,
   "metadata": {
    "collapsed": false
   },
   "outputs": [
    {
     "data": {
      "text/plain": [
       "(74659, 3)"
      ]
     },
     "execution_count": 42,
     "metadata": {},
     "output_type": "execute_result"
    }
   ],
   "source": [
    "test_blend_x_mean = np.vstack([test_blend_x_low[:,1],test_blend_x_medium[:,1],test_blend_x_hihg[:,1]]).T\n",
    "test_blend_x_mean.shape"
   ]
  },
  {
   "cell_type": "code",
   "execution_count": 43,
   "metadata": {
    "collapsed": true
   },
   "outputs": [],
   "source": [
    "name_train_blend = '../output/train_blend_Keras_ovr_last_' + str(now.strftime(\"%Y-%m-%d-%H-%M\")) + '.csv'\n",
    "name_test_blend_mean = '../output/test_blend_Keras_ovr_last_' + str(now.strftime(\"%Y-%m-%d-%H-%M\")) + '.csv'\n",
    "\n",
    "\n",
    "\n",
    "# print (np.mean(blend_scores_xgb,axis=0))\n",
    "# print (np.mean(best_rounds_xgb,axis=0))\n",
    "np.savetxt(name_train_blend,train_blend_x, delimiter=\",\")\n",
    "np.savetxt(name_test_blend_mean,test_blend_x_mean, delimiter=\",\")\n"
   ]
  },
  {
   "cell_type": "code",
   "execution_count": 45,
   "metadata": {
    "collapsed": false
   },
   "outputs": [],
   "source": [
    "# now = datetime.now()\n",
    "sub_name = '../output/sub_Keras_mean_ovr_last_' + str(now.strftime(\"%Y-%m-%d-%H-%M\")) + '.csv'\n",
    "\n",
    "out_df = pd.DataFrame(test_blend_x_mean[:,:3])\n",
    "out_df.columns = [\"low\", \"medium\", \"high\"]\n",
    "out_df[\"listing_id\"] = test_X.listing_id.values\n",
    "out_df.to_csv(sub_name, index=False)"
   ]
  },
  {
   "cell_type": "code",
   "execution_count": null,
   "metadata": {
    "collapsed": true
   },
   "outputs": [],
   "source": []
  }
 ],
 "metadata": {
  "anaconda-cloud": {},
  "kernelspec": {
   "display_name": "Python [default]",
   "language": "python",
   "name": "python2"
  },
  "language_info": {
   "codemirror_mode": {
    "name": "ipython",
    "version": 2
   },
   "file_extension": ".py",
   "mimetype": "text/x-python",
   "name": "python",
   "nbconvert_exporter": "python",
   "pygments_lexer": "ipython2",
   "version": "2.7.12"
  }
 },
 "nbformat": 4,
 "nbformat_minor": 1
}
