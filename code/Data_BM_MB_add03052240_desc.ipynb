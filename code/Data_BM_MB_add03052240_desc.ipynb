{
 "cells": [
  {
   "cell_type": "code",
   "execution_count": 2,
   "metadata": {
    "collapsed": true
   },
   "outputs": [],
   "source": [
    "import numpy as np\n",
    "import pandas as pd\n",
    "from scipy import sparse"
   ]
  },
  {
   "cell_type": "code",
   "execution_count": 22,
   "metadata": {
    "collapsed": false
   },
   "outputs": [
    {
     "name": "stdout",
     "output_type": "stream",
     "text": [
      "(49352, 287) (74659, 287) (49352,)\n"
     ]
    }
   ],
   "source": [
    "data_path = \"../input/\"\n",
    "train_X = pd.read_csv(data_path + 'train_BrandenMurray_MedianBedroom.csv')\n",
    "test_X = pd.read_csv(data_path + 'test_BrandenMurray_MedianBedroom.csv')\n",
    "train_y = np.ravel(pd.read_csv(data_path + 'labels_BrandenMurray.csv'))\n",
    "ntrain = train_X.shape[0]\n",
    "# all_features = features_to_use + desc_sparse_cols + feat_sparse_cols\n",
    "print train_X.shape, test_X.shape, train_y.shape"
   ]
  },
  {
   "cell_type": "code",
   "execution_count": 4,
   "metadata": {
    "collapsed": false
   },
   "outputs": [
    {
     "name": "stdout",
     "output_type": "stream",
     "text": [
      "['listing_id' 'bathrooms' 'bedrooms' 'building_id' 'display_address'\n",
      " 'latitude' 'longitude' 'manager_id' 'price' 'street_address'\n",
      " 'feature_1_month_free' 'feature_24/7_concierge' 'feature_24/7_doorman'\n",
      " 'feature_24/7_doorman_concierge' 'feature_actual_apt._photos'\n",
      " 'feature_air_conditioning' 'feature_all_pets_ok'\n",
      " 'feature_all_utilities_included' 'feature_assigned-parking-space'\n",
      " 'feature_attended_lobby' 'feature_backyard' 'feature_balcony'\n",
      " 'feature_basement_storage' 'feature_basketball_court' 'feature_bike_room'\n",
      " 'feature_bike_storage' 'feature_billiards_room'\n",
      " 'feature_billiards_table_and_wet_bar' 'feature_brand_new'\n",
      " 'feature_breakfast_bar' 'feature_bright' 'feature_brownstone'\n",
      " 'feature_building-common-outdoor-space' 'feature_business_center'\n",
      " 'feature_cable/satellite_tv' 'feature_cable_ready'\n",
      " 'feature_call/text_abraham_caro_@_917-373-0862' 'feature_cats_allowed'\n",
      " 'feature_central_a/c' 'feature_central_ac' 'feature_central_air'\n",
      " 'feature_chefs_kitchen' \"feature_children's_playroom\"\n",
      " 'feature_childrens_playroom' 'feature_cinema_room' 'feature_city_view'\n",
      " 'feature_close_to_subway' 'feature_closets_galore!'\n",
      " 'feature_club_sun_deck_has_spectacular_city_and_river_views'\n",
      " 'feature_cold_storage' 'feature_common_backyard' 'feature_common_garden'\n",
      " 'feature_common_outdoor_space' 'feature_common_parking/garage'\n",
      " 'feature_common_roof_deck' 'feature_common_storage'\n",
      " 'feature_common_terrace' 'feature_community_recreation_facilities'\n",
      " 'feature_complimentary_sunday_brunch' 'feature_concierge'\n",
      " 'feature_concierge_service' 'feature_condo_finishes' 'feature_courtyard'\n",
      " 'feature_crown_moldings' 'feature_deck' 'feature_deco_brick_wall'\n",
      " 'feature_decorative_fireplace' 'feature_dining_room' 'feature_dishwasher'\n",
      " 'feature_dogs_allowed' 'feature_doorman' 'feature_dry_cleaning_service'\n",
      " 'feature_dryer_in_unit' 'feature_duplex' 'feature_duplex_lounge'\n",
      " 'feature_eat-in_kitchen' 'feature_eat_in_kitchen'\n",
      " 'feature_elegant_glass-enclosed_private_lounge_with_magnificent_river_views'\n",
      " 'feature_elevator' 'feature_exclusive' 'feature_exercise/yoga_studio'\n",
      " 'feature_exposed_brick' 'feature_extra_room' 'feature_fireplace'\n",
      " 'feature_fireplaces' 'feature_fitness_center' 'feature_fitness_room'\n",
      " 'feature_flex-2' 'feature_flex-3' 'feature_free_wifi_in_club_lounge'\n",
      " 'feature_ft_doorman' 'feature_full-time_doorman'\n",
      " 'feature_full_service_garage' 'feature_fully-equipped_club_fitness_center'\n",
      " 'feature_fully__equipped' 'feature_furnished' 'feature_game_room'\n",
      " 'feature_garage' 'feature_garbage_disposal' 'feature_garden'\n",
      " 'feature_garden/patio' 'feature_granite_countertops'\n",
      " 'feature_granite_kitchen' 'feature_green_building'\n",
      " 'feature_guarantors_accepted' 'feature_gut_renovated' 'feature_gym'\n",
      " 'feature_gym/fitness' 'feature_gym_in_building' 'feature_hardwood'\n",
      " 'feature_hardwood_floors' 'feature_health_club' 'feature_hi_rise'\n",
      " 'feature_high-speed_internet' 'feature_high_ceiling'\n",
      " 'feature_high_ceilings' 'feature_high_speed_internet' 'feature_highrise'\n",
      " 'feature_housekeeping_service' 'feature_in-unit_washer/dryer'\n",
      " 'feature_indoor_pool' 'feature_intercom' 'feature_jacuzzi'\n",
      " 'feature_large_living_room' 'feature_laundry'\n",
      " 'feature_laundry_&_housekeeping' 'feature_laundry_in_building'\n",
      " 'feature_laundry_in_unit' 'feature_laundry_on_every_floor'\n",
      " 'feature_laundry_on_floor' 'feature_laundry_room' 'feature_light'\n",
      " 'feature_live-in_super' 'feature_live-in_superintendent'\n",
      " 'feature_live/work' 'feature_live_in_super' 'feature_loft'\n",
      " 'feature_lounge' 'feature_lounge_room' 'feature_lowrise'\n",
      " 'feature_luxury_building' 'feature_magnificent_venetian-style'\n",
      " 'feature_mail_room' 'feature_marble_bath' 'feature_marble_bathroom'\n",
      " 'feature_media_room' 'feature_media_screening_room' 'feature_microwave'\n",
      " 'feature_midrise' 'feature_multi-level' 'feature_new_construction'\n",
      " 'feature_newly_renovated' 'feature_no_fee' 'feature_no_pets'\n",
      " 'feature_on-site_atm_machine' 'feature_on-site_attended_garage'\n",
      " 'feature_on-site_garage' 'feature_on-site_laundry'\n",
      " 'feature_on-site_lifestyle_concierge_by_luxury_attach\\xc3\\xa9'\n",
      " 'feature_on-site_parking' 'feature_on-site_parking_available'\n",
      " 'feature_on-site_parking_lot' 'feature_on-site_super'\n",
      " 'feature_one_month_free' 'feature_outdoor_areas'\n",
      " 'feature_outdoor_entertainment_space' 'feature_outdoor_pool'\n",
      " 'feature_outdoor_roof_deck_overlooking_new_york_harbor_and_battery_park'\n",
      " 'feature_outdoor_space' 'feature_package_room' 'feature_parking'\n",
      " 'feature_parking_available' 'feature_parking_space'\n",
      " 'feature_part-time_doorman' 'feature_party_room' 'feature_patio'\n",
      " 'feature_penthouse' 'feature_pet_friendly' 'feature_pets'\n",
      " 'feature_pets_allowed' 'feature_pets_on_approval' 'feature_playroom'\n",
      " 'feature_playroom/nursery' 'feature_pool' 'feature_post-war'\n",
      " 'feature_post_war' 'feature_pre-war' 'feature_pre_war' 'feature_prewar'\n",
      " 'feature_private-balcony' 'feature_private-outdoor-space'\n",
      " 'feature_private_backyard' 'feature_private_balcony'\n",
      " 'feature_private_deck' 'feature_private_garden'\n",
      " 'feature_private_laundry_room_on_every_floor'\n",
      " 'feature_private_outdoor_space' 'feature_private_parking'\n",
      " 'feature_private_roof_deck' 'feature_private_roofdeck'\n",
      " 'feature_private_terrace' 'feature_publicoutdoor'\n",
      " 'feature_queen_size_bedrooms' 'feature_queen_sized_rooms'\n",
      " 'feature_reduced_fee' 'feature_renovated' 'feature_renovated_kitchen'\n",
      " 'feature_residents_garden' 'feature_residents_lounge' 'feature_roof-deck'\n",
      " 'feature_roof_access' 'feature_roof_deck' 'feature_roof_deck_with_grills'\n",
      " 'feature_roofdeck' 'feature_rooftop_deck' 'feature_rooftop_terrace'\n",
      " 'feature_s/s_appliances' 'feature_sauna' 'feature_screening_room'\n",
      " 'feature_separate_kitchen' 'feature_shared_backyard'\n",
      " 'feature_shared_garden' 'feature_shares_ok' 'feature_short_term_allowed'\n",
      " 'feature_simplex' 'feature_skylight' 'feature_skylight_atrium'\n",
      " 'feature_southern_exposure' 'feature_spa_services' 'feature_ss_appliances'\n",
      " 'feature_stainless_steel' 'feature_stainless_steel_appliances'\n",
      " 'feature_state-of-the-art_fitness_center' 'feature_storage'\n",
      " 'feature_storage_available' 'feature_storage_facilities_available'\n",
      " 'feature_storage_room' 'feature_sublet' 'feature_subway' 'feature_sundeck'\n",
      " 'feature_swimming_pool' 'feature_tenant_lounge' 'feature_terrace'\n",
      " 'feature_terraces_/_balconies' 'feature_tons_of_natural_light'\n",
      " 'feature_valet' 'feature_valet_parking' 'feature_valet_service'\n",
      " 'feature_valet_services' 'feature_valet_services_including_dry_cleaning'\n",
      " 'feature_video_intercom' 'feature_view' 'feature_virtual_doorman'\n",
      " 'feature_virtual_tour' 'feature_walk-in_closet' 'feature_walk-up'\n",
      " 'feature_walk_in_closet' 'feature_walk_in_closet(s)'\n",
      " 'feature_washer/dryer' 'feature_washer/dryer_hookup'\n",
      " 'feature_washer/dryer_in-unit' 'feature_washer/dryer_in_building'\n",
      " 'feature_washer/dryer_in_unit' 'feature_washer_&_dryer'\n",
      " 'feature_washer_in_unit' 'feature_wheelchair_access'\n",
      " 'feature_wheelchair_ramp' 'feature_wifi' 'feature_wifi_access'\n",
      " 'feature_wood-burning_fireplace' 'feature_yard' 'feature_yoga_classes'\n",
      " 'photo_count' 'building_id_mean_med' 'building_id_mean_high'\n",
      " 'manager_id_mean_med' 'manager_id_mean_high' 'desc_wordcount'\n",
      " 'pricePerBed' 'pricePerBath' 'pricePerRoom' 'bedPerBath' 'bedBathDiff'\n",
      " 'bedBathSum' 'bedsPerc' 'median_price_bed' 'ratio_bed']\n"
     ]
    }
   ],
   "source": [
    "print train_X.columns.values"
   ]
  },
  {
   "cell_type": "code",
   "execution_count": 35,
   "metadata": {
    "collapsed": false
   },
   "outputs": [
    {
     "data": {
      "text/html": [
       "<div>\n",
       "<table border=\"1\" class=\"dataframe\">\n",
       "  <thead>\n",
       "    <tr style=\"text-align: right;\">\n",
       "      <th></th>\n",
       "      <th>building_id_mean_med</th>\n",
       "      <th>building_id_mean_high</th>\n",
       "      <th>manager_id_mean_med</th>\n",
       "      <th>manager_id_mean_high</th>\n",
       "    </tr>\n",
       "  </thead>\n",
       "  <tbody>\n",
       "    <tr>\n",
       "      <th>39789</th>\n",
       "      <td>0.058768</td>\n",
       "      <td>0.024161</td>\n",
       "      <td>0.000208</td>\n",
       "      <td>0.000071</td>\n",
       "    </tr>\n",
       "  </tbody>\n",
       "</table>\n",
       "</div>"
      ],
      "text/plain": [
       "       building_id_mean_med  building_id_mean_high  manager_id_mean_med  \\\n",
       "39789              0.058768               0.024161             0.000208   \n",
       "\n",
       "       manager_id_mean_high  \n",
       "39789              0.000071  "
      ]
     },
     "execution_count": 35,
     "metadata": {},
     "output_type": "execute_result"
    }
   ],
   "source": [
    "train_X.loc[train_X.listing_id == 6934781,['building_id_mean_med','building_id_mean_high', 'manager_id_mean_med','manager_id_mean_high']]"
   ]
  },
  {
   "cell_type": "code",
   "execution_count": 3,
   "metadata": {
    "collapsed": false
   },
   "outputs": [
    {
     "name": "stdout",
     "output_type": "stream",
     "text": [
      "(49352, 77)\n",
      "(74659, 76)\n"
     ]
    }
   ],
   "source": [
    "train_df = pd.read_pickle(data_path + 'train_2017-03-05-22-40.pkl')\n",
    "train_y = pd.read_pickle(data_path + 'y_2017-03-05-22-40.pkl')\n",
    "test_df = pd.read_pickle(data_path + 'test_2017-03-05-22-40.pkl')\n",
    "features_to_use = pd.read_pickle(data_path + 'featurestouse_2017-03-05-22-40.pkl')\n",
    "\n",
    "tr_desc_sparse = pd.read_pickle(data_path + 'tr_desc_sparse_2017-03-05-22-40.pkl')\n",
    "tr_feat_sparse = pd.read_pickle(data_path + 'tr_feat_sparse_2017-03-05-22-40.pkl')\n",
    "te_desc_sparse = pd.read_pickle(data_path + 'te_desc_sparse_2017-03-05-22-40.pkl')\n",
    "te_feat_sparse = pd.read_pickle(data_path + 'te_feat_sparse_2017-03-05-22-40.pkl')\n",
    "\n",
    "desc_sparse_cols = pd.read_pickle(data_path + 'desc_sparse_cols_2017-03-05-22-40.pkl')\n",
    "feat_sparse_cols = pd.read_pickle(data_path + 'feat_sparse_cols_2017-03-05-22-40.pkl')\n",
    "\n",
    "print train_df.shape\n",
    "print test_df.shape"
   ]
  },
  {
   "cell_type": "code",
   "execution_count": 5,
   "metadata": {
    "collapsed": true
   },
   "outputs": [],
   "source": [
    "desc_sparse_cols_new = []\n",
    "for x in desc_sparse_cols:\n",
    "    desc_sparse_cols_new.append('desc_' + x)"
   ]
  },
  {
   "cell_type": "code",
   "execution_count": 6,
   "metadata": {
    "collapsed": false
   },
   "outputs": [],
   "source": [
    "train_desc = pd.DataFrame(tr_desc_sparse.toarray(),columns = desc_sparse_cols_new)\n",
    "test_desc = pd.DataFrame(te_desc_sparse.toarray(),columns = desc_sparse_cols_new)"
   ]
  },
  {
   "cell_type": "code",
   "execution_count": 7,
   "metadata": {
    "collapsed": false
   },
   "outputs": [
    {
     "name": "stdout",
     "output_type": "stream",
     "text": [
      "(49352, 277)\n",
      "(74659, 276)\n"
     ]
    }
   ],
   "source": [
    "train_tmp = pd.concat([train_df,train_desc],axis=1)\n",
    "test_tmp = pd.concat([test_df,test_desc],axis=1)\n",
    "print train_tmp.shape\n",
    "print test_tmp.shape"
   ]
  },
  {
   "cell_type": "code",
   "execution_count": 8,
   "metadata": {
    "collapsed": false
   },
   "outputs": [
    {
     "name": "stdout",
     "output_type": "stream",
     "text": [
      "236\n"
     ]
    }
   ],
   "source": [
    "features_to_add =['num_features','created_month','created_day','created_hour','created_weekday',\n",
    "                 'compound','neg','neu','pos','street','avenue','east','west','north','south',\n",
    "                  'other_address','top_10_manager','top_25_manager','top_5_manager','top_50_manager',\n",
    "                  'top_1_manager','top_2_manager','top_15_manager','top_20_manager','top_30_manager',\n",
    "                  'Zero_building_id','top_10_building','top_25_building','top_5_building','top_50_building',\n",
    "                  'top_1_building','top_2_building','top_15_building','top_20_building','top_30_building']\n",
    "features_to_add.append('listing_id')\n",
    "features_to_add.extend(desc_sparse_cols_new)\n",
    "print len(features_to_add)"
   ]
  },
  {
   "cell_type": "code",
   "execution_count": 9,
   "metadata": {
    "collapsed": false
   },
   "outputs": [
    {
     "name": "stderr",
     "output_type": "stream",
     "text": [
      "/home/xujin/AI/anaconda2/lib/python2.7/site-packages/pandas/indexes/base.py:2286: UnicodeWarning: Unicode equal comparison failed to convert both arguments to Unicode - interpreting them as being unequal\n",
      "  indexer = self._engine.get_indexer(target._values)\n",
      "/home/xujin/AI/anaconda2/lib/python2.7/site-packages/pandas/indexes/base.py:1396: UnicodeWarning: Unicode equal comparison failed to convert both arguments to Unicode - interpreting them as being unequal\n",
      "  return key in self._engine\n"
     ]
    },
    {
     "name": "stdout",
     "output_type": "stream",
     "text": [
      "(49352, 522)\n",
      "(74659, 522)\n"
     ]
    }
   ],
   "source": [
    "train_X_add = train_X.merge(train_tmp[features_to_add], on = 'listing_id', how = 'left')\n",
    "test_X_add = test_X.merge(test_tmp[features_to_add], on = 'listing_id', how = 'left')\n",
    "print train_X_add.shape\n",
    "print test_X_add.shape"
   ]
  },
  {
   "cell_type": "code",
   "execution_count": 10,
   "metadata": {
    "collapsed": true
   },
   "outputs": [],
   "source": [
    "train_X_add.to_csv(data_path + 'train_BM_MB_add03052240_desc.csv',index=False)\n",
    "test_X_add.to_csv(data_path + 'test_BM_MB_add03052240_desc.csv',index=False)"
   ]
  },
  {
   "cell_type": "code",
   "execution_count": null,
   "metadata": {
    "collapsed": true
   },
   "outputs": [],
   "source": []
  }
 ],
 "metadata": {
  "anaconda-cloud": {},
  "kernelspec": {
   "display_name": "Python [conda root]",
   "language": "python",
   "name": "conda-root-py"
  },
  "language_info": {
   "codemirror_mode": {
    "name": "ipython",
    "version": 2
   },
   "file_extension": ".py",
   "mimetype": "text/x-python",
   "name": "python",
   "nbconvert_exporter": "python",
   "pygments_lexer": "ipython2",
   "version": "2.7.12"
  }
 },
 "nbformat": 4,
 "nbformat_minor": 1
}
