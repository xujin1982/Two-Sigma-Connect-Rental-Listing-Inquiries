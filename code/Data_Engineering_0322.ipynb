{
 "cells": [
  {
   "cell_type": "code",
   "execution_count": 4,
   "metadata": {
    "collapsed": false
   },
   "outputs": [],
   "source": [
    "import time\n",
    "import numpy as np # linear algebra\n",
    "import pandas as pd # data processing, CSV file I/O (e.g. pd.read_csv)\n",
    "from scipy import sparse\n",
    "from scipy.stats.mstats import gmean\n",
    "from sklearn.ensemble import RandomForestClassifier\n",
    "from sklearn.model_selection import train_test_split, cross_val_score\n",
    "from sklearn.metrics import log_loss\n",
    "from datetime import datetime\n",
    "from sklearn.model_selection import train_test_split,StratifiedKFold, KFold\n",
    "from sklearn.model_selection import cross_val_score\n",
    "seed = 1234\n"
   ]
  },
  {
   "cell_type": "markdown",
   "metadata": {},
   "source": [
    "# Load Data"
   ]
  },
  {
   "cell_type": "code",
   "execution_count": 5,
   "metadata": {
    "collapsed": false
   },
   "outputs": [
    {
     "name": "stdout",
     "output_type": "stream",
     "text": [
      "(49352, 464) (74659, 464) (49352L,)\n"
     ]
    }
   ],
   "source": [
    "data_path = \"../input/\"\n",
    "train_X = pd.read_pickle(data_path + 'train_X_0319.pkl')\n",
    "test_X = pd.read_pickle(data_path + 'test_X_0319.pkl')\n",
    "train_y = np.ravel(pd.read_pickle(data_path + 'train_y_0319.pkl'))\n",
    "sub_id = test_X.listing_id.astype('int32').values\n",
    "# all_features = features_to_use + desc_sparse_cols + feat_sparse_cols\n",
    "print train_X.shape, test_X.shape, train_y.shape"
   ]
  },
  {
   "cell_type": "code",
   "execution_count": 24,
   "metadata": {
    "collapsed": true
   },
   "outputs": [
    {
     "data": {
      "text/plain": [
       "array(['bathrooms', 'bedrooms', 'longitude', 'latitude',\n",
       "       'display_address_lbl', 'manager_id_lbl', 'building_id_lbl',\n",
       "       'street_address_lbl', 'num_photos', 'price', 'pricePerBed',\n",
       "       'pricePerBath', 'bedBathDiff', 'bedBathSum', 'bedsPerc',\n",
       "       'pricePerRoom', 'bedPerBath', 'median_price_bed', 'ratio_bed',\n",
       "       'building_id_mean_medium', 'building_id_mean_high',\n",
       "       'manager_id_mean_medium', 'manager_id_mean_high', 'listing_id',\n",
       "       'num_features', 'created_month', 'created_day', 'created_weekday',\n",
       "       'created_hour', 'created_dayofyear', 'street', 'avenue', 'east',\n",
       "       'west', 'north', 'south', 'other_address', 'top_10_manager',\n",
       "       'top_25_manager', 'top_5_manager', 'top_50_manager',\n",
       "       'top_1_manager', 'top_2_manager', 'top_15_manager',\n",
       "       'top_20_manager', 'top_30_manager', 'top_10_building',\n",
       "       'top_25_building', 'top_5_building', 'top_50_building',\n",
       "       'top_1_building', 'top_2_building', 'top_15_building',\n",
       "       'top_20_building', 'top_30_building', 'feature_upper_perc',\n",
       "       'num_description_sent', 'num_description_words', 'word_sent_desc',\n",
       "       'compound', 'neg', 'neu', 'pos', 'desc_upper_perc', u'feature_actu',\n",
       "       u'feature_airc', u'feature_allu', u'feature_atm', u'feature_ave',\n",
       "       u'feature_balc', u'feature_base', u'feature_baths',\n",
       "       u'feature_bedford', u'feature_bike', u'feature_bldg',\n",
       "       u'feature_blk', u'feature_blks', u'feature_br', u'feature_bran',\n",
       "       u'feature_brick', u'feature_brow', u'feature_busi', u'feature_cabl',\n",
       "       u'feature_cats', u'feature_cent', u'feature_chef', u'feature_chil',\n",
       "       u'feature_city', u'feature_clean', u'feature_clos',\n",
       "       u'feature_closets', u'feature_cmba', u'feature_cmga',\n",
       "       u'feature_cmod', u'feature_cmpk', u'feature_cmro', u'feature_cmte',\n",
       "       u'feature_comm', u'feature_comp', u'feature_cook', u'feature_cour',\n",
       "       u'feature_ctos', u'feature_dcfi', u'feature_deal', u'feature_deck',\n",
       "       u'feature_details', u'feature_dini', u'feature_dish',\n",
       "       u'feature_dishwasher', u'feature_dogs', u'feature_door',\n",
       "       u'feature_dryer', u'feature_dupl', u'feature_eat', u'feature_eati',\n",
       "       u'feature_elev', u'feature_excl', u'feature_expansive',\n",
       "       u'feature_expo', u'feature_exposed', u'feature_fee',\n",
       "       u'feature_fitn', u'feature_flex', u'feature_floor', u'feature_flse',\n",
       "       u'feature_flti', u'feature_flye', u'feature_free', u'feature_ftdo',\n",
       "       u'feature_furn', u'feature_gara', u'feature_gard',\n",
       "       u'feature_gourmet', u'feature_gran', u'feature_great',\n",
       "       u'feature_gree', u'feature_guar', u'feature_gutr', u'feature_hard',\n",
       "       u'feature_heal', u'feature_heart', u'feature_heat', u'feature_hice',\n",
       "       u'feature_hiri', u'feature_hisp', u'feature_home', u'feature_hous',\n",
       "       u'feature_huge', u'feature_indo', u'feature_king',\n",
       "       u'feature_kitchen', u'feature_l', u'feature_larg', u'feature_laun',\n",
       "       u'feature_ligh', u'feature_light', u'feature_live',\n",
       "       u'feature_lndry', u'feature_lobb', u'feature_loft', u'feature_loun',\n",
       "       u'feature_lowr', u'feature_luxu', u'feature_mail',\n",
       "       u'feature_mansion', u'feature_marb', u'feature_massive',\n",
       "       u'feature_medi', u'feature_micr', u'feature_midr',\n",
       "       u'feature_midtown', u'feature_modern', u'feature_mult',\n",
       "       u'feature_natu', u'feature_new', u'feature_newc', u'feature_newl',\n",
       "       u'feature_nofe', u'feature_nope', u'feature_odar', u'feature_oden',\n",
       "       u'feature_odpo', u'feature_odsp', u'feature_ok', u'feature_onem',\n",
       "       u'feature_open', u'feature_ornate', u'feature_oversized',\n",
       "       u'feature_pack', u'feature_park', u'feature_pati',\n",
       "       u'feature_perfect', u'feature_pets', u'feature_pkng',\n",
       "       u'feature_play', u'feature_pool', u'feature_post', u'feature_prew',\n",
       "       u'feature_prewar', u'feature_private', u'feature_publ',\n",
       "       u'feature_pvba', u'feature_pvod', u'feature_pvro', u'feature_pvte',\n",
       "       u'feature_quee', u'feature_real', u'feature_redu', u'feature_reno',\n",
       "       u'feature_renovated', u'feature_renovations', u'feature_rent',\n",
       "       u'feature_resi', u'feature_roof', u'feature_room', u'feature_roomy',\n",
       "       u'feature_s', u'feature_saun', u'feature_share', u'feature_shor',\n",
       "       u'feature_simp', u'feature_skyl', u'feature_spac', u'feature_space',\n",
       "       u'feature_sprawling', u'feature_srok', u'feature_ss',\n",
       "       u'feature_stai', u'feature_steps', u'feature_stop', u'feature_stor',\n",
       "       u'feature_studio', u'feature_stunning', u'feature_subl',\n",
       "       u'feature_subw', u'feature_sund', u'feature_sunfilled',\n",
       "       u'feature_supe', u'feature_super', u'feature_tena', u'feature_terr',\n",
       "       u'feature_terrace', u'feature_tfdo', u'feature_th', u'feature_tons',\n",
       "       u'feature_train', u'feature_true', u'feature_vide', u'feature_view',\n",
       "       u'feature_views', u'feature_village', u'feature_virt',\n",
       "       u'feature_vt', u'feature_vtpk', u'feature_vtse', u'feature_w',\n",
       "       u'feature_walk', u'feature_walls', u'feature_wash',\n",
       "       u'feature_washer', u'feature_whee', u'feature_wifi',\n",
       "       u'feature_windows', u'feature_yoga', u'desc_access', u'desc_allow',\n",
       "       u'desc_amaz', u'desc_amen', u'desc_ani', u'desc_apart',\n",
       "       u'desc_applianc', u'desc_appoint', u'desc_area', u'desc_art',\n",
       "       u'desc_avail', u'desc_away', u'desc_bar', u'desc_bath',\n",
       "       u'desc_bathroom', u'desc_beauti', u'desc_bed', u'desc_bedroom',\n",
       "       u'desc_best', u'desc_blank', u'desc_block', u'desc_bond',\n",
       "       u'desc_br', u'desc_brand', u'desc_brick', u'desc_bright',\n",
       "       u'desc_broker', u'desc_build', u'desc_c', u'desc_cabinet',\n",
       "       u'desc_ceil', u'desc_center', u'desc_central', u'desc_citi',\n",
       "       u'desc_close', u'desc_closet', u'desc_club', u'desc_com',\n",
       "       u'desc_come', u'desc_concierg', u'desc_contact', u'desc_conveni',\n",
       "       u'desc_coopercoop', u'desc_counter', u'desc_countertop',\n",
       "       u'desc_custom', u'desc_deal', u'desc_deck', u'desc_design',\n",
       "       u'desc_dine', u'desc_dishwash', u'desc_doorman', u'desc_dryer',\n",
       "       u'desc_e', u'desc_easi', u'desc_east', u'desc_elev', u'desc_email',\n",
       "       u'desc_enjoy', u'desc_equal', u'desc_equip', u'desc_estat',\n",
       "       u'desc_everi', u'desc_exclus', u'desc_expos', u'desc_featur',\n",
       "       u'desc_fee', u'desc_feel', u'desc_finish', u'desc_fit',\n",
       "       u'desc_flex', u'desc_floor', u'desc_free', u'desc_friendli',\n",
       "       u'desc_fulli', u'desc_garag', u'desc_gorgeou', u'desc_granit',\n",
       "       u'desc_great', u'desc_gym', u'desc_ha', u'desc_hardwood',\n",
       "       u'desc_heart', u'desc_heat', u'desc_high', u'desc_home',\n",
       "       u'desc_hour', u'desc_hous', u'desc_href', u'desc_huge',\n",
       "       u'desc_includ', u'desc_inform', u'desc_just', u'desc_kagglemanag',\n",
       "       u'desc_king', u'desc_kitchen', u'desc_larg', u'desc_laundri',\n",
       "       u'desc_layout', u'desc_light', u'desc_line', u'desc_list',\n",
       "       u'desc_live', u'desc_locat', u'desc_look', u'desc_lot',\n",
       "       u'desc_loung', u'desc_luxuri', u'desc_m', u'desc_make',\n",
       "       u'desc_manhattan', u'desc_mani', u'desc_marbl', u'desc_market',\n",
       "       u'desc_microwav', u'desc_midtown', u'desc_minut', u'desc_modern',\n",
       "       u'desc_month', u'desc_natur', u'desc_near', u'desc_neighborhood',\n",
       "       u'desc_new', u'desc_newli', u'desc_offer', u'desc_onli',\n",
       "       u'desc_open', u'desc_opportun', u'desc_outdoor', u'desc_park',\n",
       "       u'desc_perfect', u'desc_pet', u'desc_place', u'desc_pleas',\n",
       "       u'desc_plenti', u'desc_pool', u'desc_price', u'desc_prime',\n",
       "       u'desc_privat', u'desc_queen', u'desc_real', u'desc_renov',\n",
       "       u'desc_rent', u'desc_renthop', u'desc_resid', u'desc_restaur',\n",
       "       u'desc_river', u'desc_roof', u'desc_rooftop', u'desc_room',\n",
       "       u'desc_s', u'desc_schedul', u'desc_separ', u'desc_servic',\n",
       "       u'desc_shop', u'desc_site', u'desc_size', u'desc_space',\n",
       "       u'desc_spaciou', u'desc_squar', u'desc_st', u'desc_stainless',\n",
       "       u'desc_state', u'desc_steel', u'desc_step', u'desc_storag',\n",
       "       u'desc_street', u'desc_studio', u'desc_stun', u'desc_subway',\n",
       "       u'desc_sun', u'desc_super', u'desc_support', u'desc_t',\n",
       "       u'desc_target', u'desc_terrac', u'desc_text', u'desc_th',\n",
       "       u'desc_thi', u'desc_tile', u'desc_time', u'desc_today', u'desc_ton',\n",
       "       u'desc_train', u'desc_transport', u'desc_unit', u'desc_upper',\n",
       "       u'desc_valet', u'desc_veri', u'desc_view', u'desc_villag',\n",
       "       u'desc_w', u'desc_walk', u'desc_wall', u'desc_washer',\n",
       "       u'desc_water', u'desc_west', u'desc_window', u'desc_wood',\n",
       "       u'desc_york'], dtype=object)"
      ]
     },
     "execution_count": 24,
     "metadata": {},
     "output_type": "execute_result"
    }
   ],
   "source": [
    "train_X.columns.values"
   ]
  },
  {
   "cell_type": "code",
   "execution_count": 26,
   "metadata": {
    "collapsed": false
   },
   "outputs": [],
   "source": [
    "feat_col = [x for x in train_X.columns.values if 'feature_' in x]\n",
    "feat_col.append('desc_upper_perc')\n",
    "feat_col.append('listing_id')"
   ]
  },
  {
   "cell_type": "code",
   "execution_count": 28,
   "metadata": {
    "collapsed": false,
    "scrolled": true
   },
   "outputs": [
    {
     "name": "stdout",
     "output_type": "stream",
     "text": [
      "(49352, 203) (74659, 203)\n"
     ]
    }
   ],
   "source": [
    "train_X = train_X[feat_col]\n",
    "test_X = test_X[feat_col]\n",
    "print train_X.shape, test_X.shape"
   ]
  },
  {
   "cell_type": "code",
   "execution_count": 10,
   "metadata": {
    "collapsed": false
   },
   "outputs": [
    {
     "name": "stdout",
     "output_type": "stream",
     "text": [
      "(49352, 522) (74659, 522) (49352L,)\n"
     ]
    }
   ],
   "source": [
    "data_path = \"../input/\"\n",
    "train_X_pre = pd.read_csv(data_path + 'train_BM_MB_add03052240_desc.csv')\n",
    "test_X_pre = pd.read_csv(data_path + 'test_BM_MB_add03052240_desc.csv')\n",
    "train_y_pre = np.ravel(pd.read_csv(data_path + 'labels_BrandenMurray.csv'))\n",
    "\n",
    "# all_features = features_to_use + desc_sparse_cols + feat_sparse_cols\n",
    "print train_X_pre.shape, test_X_pre.shape, train_y_pre.shape"
   ]
  },
  {
   "cell_type": "code",
   "execution_count": 13,
   "metadata": {
    "collapsed": true
   },
   "outputs": [
    {
     "data": {
      "text/plain": [
       "array(['listing_id', 'bathrooms', 'bedrooms', 'building_id',\n",
       "       'display_address', 'latitude', 'longitude', 'manager_id', 'price',\n",
       "       'street_address', 'feature_1_month_free', 'feature_24/7_concierge',\n",
       "       'feature_24/7_doorman', 'feature_24/7_doorman_concierge',\n",
       "       'feature_actual_apt._photos', 'feature_air_conditioning',\n",
       "       'feature_all_pets_ok', 'feature_all_utilities_included',\n",
       "       'feature_assigned-parking-space', 'feature_attended_lobby',\n",
       "       'feature_backyard', 'feature_balcony', 'feature_basement_storage',\n",
       "       'feature_basketball_court', 'feature_bike_room',\n",
       "       'feature_bike_storage', 'feature_billiards_room',\n",
       "       'feature_billiards_table_and_wet_bar', 'feature_brand_new',\n",
       "       'feature_breakfast_bar', 'feature_bright', 'feature_brownstone',\n",
       "       'feature_building-common-outdoor-space', 'feature_business_center',\n",
       "       'feature_cable/satellite_tv', 'feature_cable_ready',\n",
       "       'feature_call/text_abraham_caro_@_917-373-0862',\n",
       "       'feature_cats_allowed', 'feature_central_a/c', 'feature_central_ac',\n",
       "       'feature_central_air', 'feature_chefs_kitchen',\n",
       "       \"feature_children's_playroom\", 'feature_childrens_playroom',\n",
       "       'feature_cinema_room', 'feature_city_view',\n",
       "       'feature_close_to_subway', 'feature_closets_galore!',\n",
       "       'feature_club_sun_deck_has_spectacular_city_and_river_views',\n",
       "       'feature_cold_storage', 'feature_common_backyard',\n",
       "       'feature_common_garden', 'feature_common_outdoor_space',\n",
       "       'feature_common_parking/garage', 'feature_common_roof_deck',\n",
       "       'feature_common_storage', 'feature_common_terrace',\n",
       "       'feature_community_recreation_facilities',\n",
       "       'feature_complimentary_sunday_brunch', 'feature_concierge',\n",
       "       'feature_concierge_service', 'feature_condo_finishes',\n",
       "       'feature_courtyard', 'feature_crown_moldings', 'feature_deck',\n",
       "       'feature_deco_brick_wall', 'feature_decorative_fireplace',\n",
       "       'feature_dining_room', 'feature_dishwasher', 'feature_dogs_allowed',\n",
       "       'feature_doorman', 'feature_dry_cleaning_service',\n",
       "       'feature_dryer_in_unit', 'feature_duplex', 'feature_duplex_lounge',\n",
       "       'feature_eat-in_kitchen', 'feature_eat_in_kitchen',\n",
       "       'feature_elegant_glass-enclosed_private_lounge_with_magnificent_river_views',\n",
       "       'feature_elevator', 'feature_exclusive',\n",
       "       'feature_exercise/yoga_studio', 'feature_exposed_brick',\n",
       "       'feature_extra_room', 'feature_fireplace', 'feature_fireplaces',\n",
       "       'feature_fitness_center', 'feature_fitness_room', 'feature_flex-2',\n",
       "       'feature_flex-3', 'feature_free_wifi_in_club_lounge',\n",
       "       'feature_ft_doorman', 'feature_full-time_doorman',\n",
       "       'feature_full_service_garage',\n",
       "       'feature_fully-equipped_club_fitness_center',\n",
       "       'feature_fully__equipped', 'feature_furnished', 'feature_game_room',\n",
       "       'feature_garage', 'feature_garbage_disposal', 'feature_garden',\n",
       "       'feature_garden/patio', 'feature_granite_countertops',\n",
       "       'feature_granite_kitchen', 'feature_green_building',\n",
       "       'feature_guarantors_accepted', 'feature_gut_renovated',\n",
       "       'feature_gym', 'feature_gym/fitness', 'feature_gym_in_building',\n",
       "       'feature_hardwood', 'feature_hardwood_floors',\n",
       "       'feature_health_club', 'feature_hi_rise',\n",
       "       'feature_high-speed_internet', 'feature_high_ceiling',\n",
       "       'feature_high_ceilings', 'feature_high_speed_internet',\n",
       "       'feature_highrise', 'feature_housekeeping_service',\n",
       "       'feature_in-unit_washer/dryer', 'feature_indoor_pool',\n",
       "       'feature_intercom', 'feature_jacuzzi', 'feature_large_living_room',\n",
       "       'feature_laundry', 'feature_laundry_&_housekeeping',\n",
       "       'feature_laundry_in_building', 'feature_laundry_in_unit',\n",
       "       'feature_laundry_on_every_floor', 'feature_laundry_on_floor',\n",
       "       'feature_laundry_room', 'feature_light', 'feature_live-in_super',\n",
       "       'feature_live-in_superintendent', 'feature_live/work',\n",
       "       'feature_live_in_super', 'feature_loft', 'feature_lounge',\n",
       "       'feature_lounge_room', 'feature_lowrise', 'feature_luxury_building',\n",
       "       'feature_magnificent_venetian-style', 'feature_mail_room',\n",
       "       'feature_marble_bath', 'feature_marble_bathroom',\n",
       "       'feature_media_room', 'feature_media_screening_room',\n",
       "       'feature_microwave', 'feature_midrise', 'feature_multi-level',\n",
       "       'feature_new_construction', 'feature_newly_renovated',\n",
       "       'feature_no_fee', 'feature_no_pets', 'feature_on-site_atm_machine',\n",
       "       'feature_on-site_attended_garage', 'feature_on-site_garage',\n",
       "       'feature_on-site_laundry',\n",
       "       'feature_on-site_lifestyle_concierge_by_luxury_attach\\xc3\\xa9',\n",
       "       'feature_on-site_parking', 'feature_on-site_parking_available',\n",
       "       'feature_on-site_parking_lot', 'feature_on-site_super',\n",
       "       'feature_one_month_free', 'feature_outdoor_areas',\n",
       "       'feature_outdoor_entertainment_space', 'feature_outdoor_pool',\n",
       "       'feature_outdoor_roof_deck_overlooking_new_york_harbor_and_battery_park',\n",
       "       'feature_outdoor_space', 'feature_package_room', 'feature_parking',\n",
       "       'feature_parking_available', 'feature_parking_space',\n",
       "       'feature_part-time_doorman', 'feature_party_room', 'feature_patio',\n",
       "       'feature_penthouse', 'feature_pet_friendly', 'feature_pets',\n",
       "       'feature_pets_allowed', 'feature_pets_on_approval',\n",
       "       'feature_playroom', 'feature_playroom/nursery', 'feature_pool',\n",
       "       'feature_post-war', 'feature_post_war', 'feature_pre-war',\n",
       "       'feature_pre_war', 'feature_prewar', 'feature_private-balcony',\n",
       "       'feature_private-outdoor-space', 'feature_private_backyard',\n",
       "       'feature_private_balcony', 'feature_private_deck',\n",
       "       'feature_private_garden',\n",
       "       'feature_private_laundry_room_on_every_floor',\n",
       "       'feature_private_outdoor_space', 'feature_private_parking',\n",
       "       'feature_private_roof_deck', 'feature_private_roofdeck',\n",
       "       'feature_private_terrace', 'feature_publicoutdoor',\n",
       "       'feature_queen_size_bedrooms', 'feature_queen_sized_rooms',\n",
       "       'feature_reduced_fee', 'feature_renovated',\n",
       "       'feature_renovated_kitchen', 'feature_residents_garden',\n",
       "       'feature_residents_lounge', 'feature_roof-deck',\n",
       "       'feature_roof_access', 'feature_roof_deck',\n",
       "       'feature_roof_deck_with_grills', 'feature_roofdeck',\n",
       "       'feature_rooftop_deck', 'feature_rooftop_terrace',\n",
       "       'feature_s/s_appliances', 'feature_sauna', 'feature_screening_room',\n",
       "       'feature_separate_kitchen', 'feature_shared_backyard',\n",
       "       'feature_shared_garden', 'feature_shares_ok',\n",
       "       'feature_short_term_allowed', 'feature_simplex', 'feature_skylight',\n",
       "       'feature_skylight_atrium', 'feature_southern_exposure',\n",
       "       'feature_spa_services', 'feature_ss_appliances',\n",
       "       'feature_stainless_steel', 'feature_stainless_steel_appliances',\n",
       "       'feature_state-of-the-art_fitness_center', 'feature_storage',\n",
       "       'feature_storage_available', 'feature_storage_facilities_available',\n",
       "       'feature_storage_room', 'feature_sublet', 'feature_subway',\n",
       "       'feature_sundeck', 'feature_swimming_pool', 'feature_tenant_lounge',\n",
       "       'feature_terrace', 'feature_terraces_/_balconies',\n",
       "       'feature_tons_of_natural_light', 'feature_valet',\n",
       "       'feature_valet_parking', 'feature_valet_service',\n",
       "       'feature_valet_services',\n",
       "       'feature_valet_services_including_dry_cleaning',\n",
       "       'feature_video_intercom', 'feature_view', 'feature_virtual_doorman',\n",
       "       'feature_virtual_tour', 'feature_walk-in_closet', 'feature_walk-up',\n",
       "       'feature_walk_in_closet', 'feature_walk_in_closet(s)',\n",
       "       'feature_washer/dryer', 'feature_washer/dryer_hookup',\n",
       "       'feature_washer/dryer_in-unit', 'feature_washer/dryer_in_building',\n",
       "       'feature_washer/dryer_in_unit', 'feature_washer_&_dryer',\n",
       "       'feature_washer_in_unit', 'feature_wheelchair_access',\n",
       "       'feature_wheelchair_ramp', 'feature_wifi', 'feature_wifi_access',\n",
       "       'feature_wood-burning_fireplace', 'feature_yard',\n",
       "       'feature_yoga_classes', 'photo_count', 'building_id_mean_med',\n",
       "       'building_id_mean_high', 'manager_id_mean_med',\n",
       "       'manager_id_mean_high', 'desc_wordcount', 'pricePerBed',\n",
       "       'pricePerBath', 'pricePerRoom', 'bedPerBath', 'bedBathDiff',\n",
       "       'bedBathSum', 'bedsPerc', 'median_price_bed', 'ratio_bed',\n",
       "       'num_features', 'created_month', 'created_day', 'created_hour',\n",
       "       'created_weekday', 'compound', 'neg', 'neu', 'pos', 'street',\n",
       "       'avenue', 'east', 'west', 'north', 'south', 'other_address',\n",
       "       'top_10_manager', 'top_25_manager', 'top_5_manager',\n",
       "       'top_50_manager', 'top_1_manager', 'top_2_manager',\n",
       "       'top_15_manager', 'top_20_manager', 'top_30_manager',\n",
       "       'Zero_building_id', 'top_10_building', 'top_25_building',\n",
       "       'top_5_building', 'top_50_building', 'top_1_building',\n",
       "       'top_2_building', 'top_15_building', 'top_20_building',\n",
       "       'top_30_building', 'desc_access', 'desc_allow', 'desc_amaz',\n",
       "       'desc_amen', 'desc_ani', 'desc_apart', 'desc_applianc',\n",
       "       'desc_appoint', 'desc_area', 'desc_art', 'desc_avail', 'desc_away',\n",
       "       'desc_bar', 'desc_bath', 'desc_bathroom', 'desc_beauti', 'desc_bed',\n",
       "       'desc_bedroom', 'desc_best', 'desc_blank', 'desc_block',\n",
       "       'desc_bond', 'desc_br', 'desc_brand', 'desc_brick', 'desc_bright',\n",
       "       'desc_broker', 'desc_build', 'desc_c', 'desc_cabinet', 'desc_ceil',\n",
       "       'desc_center', 'desc_central', 'desc_citi', 'desc_close',\n",
       "       'desc_closet', 'desc_club', 'desc_com', 'desc_come',\n",
       "       'desc_concierg', 'desc_contact', 'desc_conveni', 'desc_counter',\n",
       "       'desc_countertop', 'desc_custom', 'desc_deal', 'desc_deck',\n",
       "       'desc_design', 'desc_dine', 'desc_dishwash', 'desc_doorman',\n",
       "       'desc_dryer', 'desc_e', 'desc_east', 'desc_elev', 'desc_email',\n",
       "       'desc_enjoy', 'desc_equal', 'desc_equip', 'desc_estat',\n",
       "       'desc_everi', 'desc_exclus', 'desc_expos', 'desc_featur',\n",
       "       'desc_fee', 'desc_feel', 'desc_finish', 'desc_fit', 'desc_flex',\n",
       "       'desc_floor', 'desc_free', 'desc_friendli', 'desc_fulli',\n",
       "       'desc_garag', 'desc_gorgeou', 'desc_granit', 'desc_great',\n",
       "       'desc_gym', 'desc_ha', 'desc_hardwood', 'desc_heart', 'desc_heat',\n",
       "       'desc_height', 'desc_high', 'desc_home', 'desc_hour', 'desc_hous',\n",
       "       'desc_href', 'desc_huge', 'desc_includ', 'desc_inform', 'desc_just',\n",
       "       'desc_kagglemanag', 'desc_king', 'desc_kitchen', 'desc_larg',\n",
       "       'desc_laundri', 'desc_layout', 'desc_li', 'desc_light', 'desc_line',\n",
       "       'desc_list', 'desc_live', 'desc_locat', 'desc_look', 'desc_lot',\n",
       "       'desc_loung', 'desc_luxuri', 'desc_m', 'desc_make',\n",
       "       'desc_manhattan', 'desc_mani', 'desc_marbl', 'desc_market',\n",
       "       'desc_microwav', 'desc_midtown', 'desc_minut', 'desc_modern',\n",
       "       'desc_month', 'desc_natur', 'desc_near', 'desc_neighborhood',\n",
       "       'desc_new', 'desc_newli', 'desc_offer', 'desc_onli', 'desc_open',\n",
       "       'desc_opportun', 'desc_outdoor', 'desc_park', 'desc_perfect',\n",
       "       'desc_pet', 'desc_place', 'desc_pleas', 'desc_plenti', 'desc_pool',\n",
       "       'desc_price', 'desc_prime', 'desc_privat', 'desc_queen',\n",
       "       'desc_real', 'desc_renov', 'desc_rent', 'desc_renthop',\n",
       "       'desc_resid', 'desc_restaur', 'desc_river', 'desc_roof',\n",
       "       'desc_rooftop', 'desc_room', 'desc_s', 'desc_schedul', 'desc_separ',\n",
       "       'desc_servic', 'desc_shop', 'desc_site', 'desc_size', 'desc_space',\n",
       "       'desc_spaciou', 'desc_squar', 'desc_st', 'desc_stainless',\n",
       "       'desc_state', 'desc_steel', 'desc_step', 'desc_storag',\n",
       "       'desc_street', 'desc_studio', 'desc_stun', 'desc_subway',\n",
       "       'desc_sun', 'desc_super', 'desc_support', 'desc_t', 'desc_target',\n",
       "       'desc_terrac', 'desc_text', 'desc_th', 'desc_thi', 'desc_tile',\n",
       "       'desc_time', 'desc_today', 'desc_ton', 'desc_train',\n",
       "       'desc_transport', 'desc_ul', 'desc_unit', 'desc_upper',\n",
       "       'desc_valet', 'desc_veri', 'desc_view', 'desc_villag', 'desc_w',\n",
       "       'desc_walk', 'desc_wall', 'desc_washer', 'desc_west', 'desc_window',\n",
       "       'desc_wood', 'desc_york'], dtype=object)"
      ]
     },
     "execution_count": 13,
     "metadata": {},
     "output_type": "execute_result"
    }
   ],
   "source": [
    "train_X_pre.columns.values"
   ]
  },
  {
   "cell_type": "code",
   "execution_count": 14,
   "metadata": {
    "collapsed": true
   },
   "outputs": [],
   "source": [
    "new_col = [x for x in train_X_pre.columns.values if 'feature_' not in x]"
   ]
  },
  {
   "cell_type": "code",
   "execution_count": 18,
   "metadata": {
    "collapsed": false
   },
   "outputs": [
    {
     "name": "stdout",
     "output_type": "stream",
     "text": [
      "(49352, 260) (74659, 260)\n"
     ]
    }
   ],
   "source": [
    "train_X_pre = train_X_pre[new_col]\n",
    "test_X_pre = test_X_pre[new_col]\n",
    "print train_X_pre.shape, test_X_pre.shape"
   ]
  },
  {
   "cell_type": "code",
   "execution_count": 36,
   "metadata": {
    "collapsed": false
   },
   "outputs": [],
   "source": [
    "train_X_0322 = train_X_pre.merge(train_X, on='listing_id', how='left')\n",
    "test_X_0322 = test_X_pre.merge(test_X, on='listing_id', how='left')\n",
    "\n",
    "print train_X_0322.shape,  test_X_0322.shape"
   ]
  },
  {
   "cell_type": "code",
   "execution_count": 40,
   "metadata": {
    "collapsed": true
   },
   "outputs": [],
   "source": [
    "train_X_0322.to_csv(data_path + 'train_BM_0322.csv',index=False)\n",
    "test_X_0322.to_csv(data_path + 'test_BM_0322.csv',index=False)"
   ]
  },
  {
   "cell_type": "code",
   "execution_count": null,
   "metadata": {
    "collapsed": true
   },
   "outputs": [],
   "source": []
  }
 ],
 "metadata": {
  "anaconda-cloud": {},
  "kernelspec": {
   "display_name": "Python [conda root]",
   "language": "python",
   "name": "conda-root-py"
  },
  "language_info": {
   "codemirror_mode": {
    "name": "ipython",
    "version": 2
   },
   "file_extension": ".py",
   "mimetype": "text/x-python",
   "name": "python",
   "nbconvert_exporter": "python",
   "pygments_lexer": "ipython2",
   "version": "2.7.12"
  }
 },
 "nbformat": 4,
 "nbformat_minor": 1
}
