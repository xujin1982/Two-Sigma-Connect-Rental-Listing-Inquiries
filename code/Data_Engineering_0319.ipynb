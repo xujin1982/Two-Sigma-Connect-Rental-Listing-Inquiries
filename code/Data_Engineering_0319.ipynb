{
 "cells": [
  {
   "cell_type": "code",
   "execution_count": 1,
   "metadata": {
    "collapsed": false
   },
   "outputs": [
    {
     "name": "stderr",
     "output_type": "stream",
     "text": [
      "/home/xujin/AI/anaconda2/lib/python2.7/site-packages/nltk/twitter/__init__.py:20: UserWarning: The twython library has not been installed. Some functionality from the twitter package will not be available.\n",
      "  warnings.warn(\"The twython library has not been installed. \"\n"
     ]
    }
   ],
   "source": [
    "import numpy as np\n",
    "import pandas as pd\n",
    "from scipy import sparse\n",
    "import re, nltk      \n",
    "from nltk.stem.porter import PorterStemmer\n",
    "from nltk.tokenize import sent_tokenize\n",
    "from nltk.sentiment.vader import SentimentIntensityAnalyzer\n",
    "import geocoder\n",
    "from collections import defaultdict, Counter\n",
    "import copy\n",
    "from sklearn.feature_extraction.text import TfidfVectorizer, CountVectorizer\n",
    "from sklearn import preprocessing\n",
    "from sklearn.model_selection import StratifiedKFold\n",
    "from math import exp\n",
    "import re\n",
    "import matplotlib.pyplot as plt\n",
    "import seaborn as sns\n",
    "%matplotlib inline\n",
    "\n",
    "import warnings\n",
    "warnings.filterwarnings('ignore')"
   ]
  },
  {
   "cell_type": "code",
   "execution_count": 2,
   "metadata": {
    "collapsed": true
   },
   "outputs": [],
   "source": [
    "#######\n",
    "# based on http://www.cs.duke.edu/courses/spring14/compsci290/assignments/lab02.html\n",
    "stemmer = PorterStemmer()\n",
    "def stem_tokens(tokens, stemmer):\n",
    "    stemmed = []\n",
    "    for item in tokens:\n",
    "        stemmed.append(stemmer.stem(item))\n",
    "    return stemmed\n",
    "\n",
    "def tokenize(text):\n",
    "    # remove non letters\n",
    "    text = re.sub(\"[^a-zA-Z]\", \" \", text)\n",
    "    # tokenize\n",
    "    tokens = nltk.word_tokenize(text)\n",
    "    # stem\n",
    "    stems = stem_tokens(tokens, stemmer)\n",
    "    return stems\n",
    "######## \n",
    "\n",
    "\n",
    "def description_sentiment(sentences):\n",
    "    analyzer = SentimentIntensityAnalyzer()\n",
    "    result = []\n",
    "    for sentence in sentences:\n",
    "        vs = analyzer.polarity_scores(sentence)\n",
    "        result.append(vs)\n",
    "    return pd.DataFrame(result).mean()"
   ]
  },
  {
   "cell_type": "code",
   "execution_count": 3,
   "metadata": {
    "collapsed": false
   },
   "outputs": [
    {
     "name": "stdout",
     "output_type": "stream",
     "text": [
      "(49352, 15) (74659, 14) 49352\n"
     ]
    }
   ],
   "source": [
    "data_path = \"../input/\"\n",
    "train_file = data_path + \"train.json\"\n",
    "test_file = data_path + \"test.json\"\n",
    "train_X = pd.read_json(train_file).reset_index(drop = True)\n",
    "test_X = pd.read_json(test_file).reset_index(drop = True)\n",
    "ntrain = train_X.shape[0]\n",
    "print train_X.shape, test_X.shape, ntrain"
   ]
  },
  {
   "cell_type": "code",
   "execution_count": 4,
   "metadata": {
    "collapsed": false
   },
   "outputs": [
    {
     "name": "stdout",
     "output_type": "stream",
     "text": [
      "(49352,)\n"
     ]
    }
   ],
   "source": [
    "interest_level_map = {'low': 0, 'medium': 1, 'high': 2}\n",
    "train_y = train_X['interest_level'].apply(lambda x: interest_level_map[x]).values\n",
    "print train_y.shape"
   ]
  },
  {
   "cell_type": "code",
   "execution_count": 5,
   "metadata": {
    "collapsed": false
   },
   "outputs": [
    {
     "name": "stdout",
     "output_type": "stream",
     "text": [
      "(124011, 15)\n"
     ]
    }
   ],
   "source": [
    "train_test = pd.concat([train_X, test_X], 0).reset_index(drop = True)\n",
    "print train_test.shape"
   ]
  },
  {
   "cell_type": "code",
   "execution_count": 6,
   "metadata": {
    "collapsed": true
   },
   "outputs": [],
   "source": [
    "# all features for train\n",
    "feature_to_use = []\n",
    "# features normalized by dividing max\n",
    "norm_by_max = []\n",
    "# features normalized by log\n",
    "norm_by_log = []\n",
    "# featuresnormalized by scaler\n",
    "norm_by_scaler = []\n",
    "# binary features\n",
    "binary_features = []\n",
    "# categorical feature\n",
    "# cal_clos"
   ]
  },
  {
   "cell_type": "code",
   "execution_count": 7,
   "metadata": {
    "collapsed": false
   },
   "outputs": [
    {
     "data": {
      "image/png": "[encoded data removed]",
      "text/plain": [
       "<matplotlib.figure.Figure at 0x7f5378f99190>"
      ]
     },
     "metadata": {},
     "output_type": "display_data"
    }
   ],
   "source": [
    "# bathrooms\n",
    "train_test.loc[train_test.bathrooms == 10,['bathrooms']] = 1\n",
    "train_test.loc[train_test.bathrooms == 20,['bathrooms']] = 2\n",
    "train_test.loc[train_test.bathrooms == 112,['bathrooms']] = 1.5  \n",
    "# train_test.loc[:,['bathrooms']] = train_test.loc[:,['bathrooms']] / train_test.loc[:,['bathrooms']].max()\n",
    "train_test.bathrooms.hist(bins =100)\n",
    "\n",
    "feature_to_use.append('bathrooms')\n",
    "norm_by_max.append('bathrooms')"
   ]
  },
  {
   "cell_type": "code",
   "execution_count": 8,
   "metadata": {
    "collapsed": false,
    "scrolled": true
   },
   "outputs": [
    {
     "data": {
      "image/png": "[encoded data removed]",
      "text/plain": [
       "<matplotlib.figure.Figure at 0x7f536a8bdd10>"
      ]
     },
     "metadata": {},
     "output_type": "display_data"
    }
   ],
   "source": [
    "# bedrooms\n",
    "# train_test.loc[:,['bedrooms']] = train_test.loc[:,['bedrooms']] / train_test.loc[:,['bedrooms']].max()\n",
    "train_test.bedrooms.hist(bins =100)\n",
    "\n",
    "feature_to_use.append('bedrooms')\n",
    "norm_by_max.append('bedrooms')"
   ]
  },
  {
   "cell_type": "code",
   "execution_count": 9,
   "metadata": {
    "collapsed": false
   },
   "outputs": [
    {
     "name": "stdout",
     "output_type": "stream",
     "text": [
      "Done!\n"
     ]
    }
   ],
   "source": [
    "# latitude longitude\n",
    "train_test.loc[37395,'street_address'] = '452 E 78th St'\n",
    "train_test.loc[87513,'street_address'] = '455 W 34th St'\n",
    "\n",
    "missingCoords = train_test[(np.absolute(train_test.latitude - 41) > 3) | (np.absolute(train_test.longitude - -74) > 3)].index\n",
    "# print missingCoords\n",
    "missingGeoms = (train_test.loc[missingCoords, 'street_address'] + ', New York').apply(geocoder.google)\n",
    "train_test.loc[missingCoords, 'longitude'] = missingGeoms.apply(lambda x: x.lng)\n",
    "train_test.loc[missingCoords, 'latitude'] = missingGeoms.apply(lambda x: x.lat)\n",
    "\n",
    "while (train_test.longitude.isnull().values.any() & train_test.latitude.isnull().values.any()):\n",
    "    missingCoords = train_test[train_test.longitude.isnull() | train_test.latitude.isnull()].index\n",
    "    print missingCoords\n",
    "    missingGeoms = (train_test.loc[missingCoords, 'street_address'] + ', New York').apply(geocoder.google)\n",
    "    train_test.loc[missingCoords, 'longitude'] = missingGeoms.apply(lambda x: x.lng)\n",
    "    train_test.loc[missingCoords, 'latitude'] = missingGeoms.apply(lambda x: x.lat)\n",
    "    \n",
    "feature_to_use.extend(['longitude','latitude'])\n",
    "norm_by_scaler.extend(['longitude','latitude'])\n",
    "print 'Done!'"
   ]
  },
  {
   "cell_type": "code",
   "execution_count": 10,
   "metadata": {
    "collapsed": false
   },
   "outputs": [
    {
     "data": {
      "text/plain": [
       "<matplotlib.axes._subplots.AxesSubplot at 0x7f53c0a68350>"
      ]
     },
     "execution_count": 10,
     "metadata": {},
     "output_type": "execute_result"
    },
    {
     "data": {
      "image/png": "[encoded data removed]",
      "text/plain": [
       "<matplotlib.figure.Figure at 0x7f535aef6dd0>"
      ]
     },
     "metadata": {},
     "output_type": "display_data"
    }
   ],
   "source": [
    "train_test.longitude.hist(bins = 100)"
   ]
  },
  {
   "cell_type": "code",
   "execution_count": 11,
   "metadata": {
    "collapsed": false
   },
   "outputs": [
    {
     "data": {
      "text/plain": [
       "<matplotlib.axes._subplots.AxesSubplot at 0x7f536becfe50>"
      ]
     },
     "execution_count": 11,
     "metadata": {},
     "output_type": "execute_result"
    },
    {
     "data": {
      "image/png": "[encoded data removed]",
      "text/plain": [
       "<matplotlib.figure.Figure at 0x7f536be48590>"
      ]
     },
     "metadata": {},
     "output_type": "display_data"
    }
   ],
   "source": [
    "train_test.latitude.hist(bins = 100)"
   ]
  },
  {
   "cell_type": "code",
   "execution_count": 12,
   "metadata": {
    "collapsed": false
   },
   "outputs": [],
   "source": [
    "# building_id\n",
    "# deal with '0'\n",
    "train_test.loc[train_test['building_id'] == '0', 'building_id'] = \\\n",
    "    train_test.loc[train_test['building_id'] == '0', 'latitude'].astype(str) + \\\n",
    "    train_test.loc[train_test['building_id'] == '0', 'longitude'].astype(str)\n",
    "\n",
    "lbl = preprocessing.LabelEncoder()\n",
    "categorical = [\"display_address\", \"manager_id\", \"building_id\", \"street_address\"]\n",
    "for f in categorical:\n",
    "        if train_test[f].dtype=='object':\n",
    "            train_test[f+'_lbl'] = lbl.fit_transform(train_test[f].values)\n",
    "            feature_to_use.append(f+'_lbl')\n",
    "\n",
    "\n",
    "cal_clos = ['display_address_lbl', 'manager_id_lbl', 'building_id_lbl', 'street_address_lbl']"
   ]
  },
  {
   "cell_type": "code",
   "execution_count": 13,
   "metadata": {
    "collapsed": false
   },
   "outputs": [
    {
     "data": {
      "image/png": "[encoded data removed]",
      "text/plain": [
       "<matplotlib.figure.Figure at 0x7f536c776f90>"
      ]
     },
     "metadata": {},
     "output_type": "display_data"
    }
   ],
   "source": [
    "# count of photos #\n",
    "train_test[\"num_photos\"] = train_test[\"photos\"].apply(len)\n",
    "train_test.num_photos.hist(bins =100)\n",
    "\n",
    "feature_to_use.append('num_photos')\n",
    "norm_by_log = ['num_photos']"
   ]
  },
  {
   "cell_type": "code",
   "execution_count": 14,
   "metadata": {
    "collapsed": false
   },
   "outputs": [
    {
     "data": {
      "image/png": "[encoded data removed]",
      "text/plain": [
       "<matplotlib.figure.Figure at 0x7f536aab9cd0>"
      ]
     },
     "metadata": {},
     "output_type": "display_data"
    }
   ],
   "source": [
    "# price\n",
    "train_test.loc[25538,'price'] = 1111.11\n",
    "train_test.loc[(train_test.price >40000),'price'] = 40000\n",
    "train_test.price.hist(bins =100)\n",
    "\n",
    "feature_to_use.append('price')\n",
    "norm_by_log.append('price')"
   ]
  },
  {
   "cell_type": "code",
   "execution_count": 15,
   "metadata": {
    "collapsed": false
   },
   "outputs": [
    {
     "data": {
      "image/png": "[encoded data removed]",
      "text/plain": [
       "<matplotlib.figure.Figure at 0x7f536a6d9290>"
      ]
     },
     "metadata": {},
     "output_type": "display_data"
    }
   ],
   "source": [
    "# pricePerBed\n",
    "train_test['pricePerBed'] = (train_test['price'] / train_test['bedrooms'])\\\n",
    "    .apply(lambda x: -1 if (np.isinf(x) | np.isnan(x)) else x)\n",
    "    \n",
    "train_test.pricePerBed.hist(bins =100)\n",
    "\n",
    "feature_to_use.append('pricePerBed')\n",
    "norm_by_log.append('pricePerBed')"
   ]
  },
  {
   "cell_type": "code",
   "execution_count": 16,
   "metadata": {
    "collapsed": false
   },
   "outputs": [
    {
     "data": {
      "image/png": "[encoded data removed]",
      "text/plain": [
       "<matplotlib.figure.Figure at 0x7f536c20ff50>"
      ]
     },
     "metadata": {},
     "output_type": "display_data"
    }
   ],
   "source": [
    "# pricePerBath\n",
    "train_test['pricePerBath'] = (train_test['price'] / train_test['bathrooms'])\\\n",
    "    .apply(lambda x: -1 if (np.isinf(x) | np.isnan(x)) else x)\n",
    "    \n",
    "train_test.pricePerBath.hist(bins =100)\n",
    "\n",
    "feature_to_use.append('pricePerBath')\n",
    "norm_by_log.append('pricePerBath')"
   ]
  },
  {
   "cell_type": "code",
   "execution_count": 17,
   "metadata": {
    "collapsed": false
   },
   "outputs": [
    {
     "data": {
      "image/png": "[encoded data removed]",
      "text/plain": [
       "<matplotlib.figure.Figure at 0x7f536bb14090>"
      ]
     },
     "metadata": {},
     "output_type": "display_data"
    }
   ],
   "source": [
    "# bedBathDiff\n",
    "train_test['bedBathDiff'] = (train_test['bedrooms'] - train_test['bathrooms'])\n",
    "\n",
    "train_test.bedBathDiff.hist(bins =100)\n",
    "\n",
    "feature_to_use.append('bedBathDiff')\n",
    "norm_by_scaler.append('bedBathDiff')"
   ]
  },
  {
   "cell_type": "code",
   "execution_count": 18,
   "metadata": {
    "collapsed": false
   },
   "outputs": [
    {
     "data": {
      "image/png": "[encoded data removed]",
      "text/plain": [
       "<matplotlib.figure.Figure at 0x7f536bb28b90>"
      ]
     },
     "metadata": {},
     "output_type": "display_data"
    }
   ],
   "source": [
    "# bedBathSum\n",
    "train_test['bedBathSum'] = (train_test['bedrooms'] + train_test['bathrooms'])\n",
    "train_test.bedBathSum.hist(bins =100)\n",
    "\n",
    "feature_to_use.append('bedBathSum')\n",
    "norm_by_max.append('bedBathSum')"
   ]
  },
  {
   "cell_type": "code",
   "execution_count": 19,
   "metadata": {
    "collapsed": false
   },
   "outputs": [
    {
     "data": {
      "image/png": "[encoded data removed]",
      "text/plain": [
       "<matplotlib.figure.Figure at 0x7f536c23dfd0>"
      ]
     },
     "metadata": {},
     "output_type": "display_data"
    }
   ],
   "source": [
    "# bedsPerc\n",
    "train_test['bedsPerc'] = (train_test['bedrooms'] / train_test['bedBathSum'])\\\n",
    "    .apply(lambda x: -1 if (np.isinf(x) | np.isnan(x)) else x)\n",
    "    \n",
    "train_test.bedsPerc.hist(bins =100)\n",
    "feature_to_use.append('bedsPerc')\n",
    "norm_by_scaler.append('bedsPerc')"
   ]
  },
  {
   "cell_type": "code",
   "execution_count": 20,
   "metadata": {
    "collapsed": false
   },
   "outputs": [
    {
     "data": {
      "image/png": "[encoded data removed]",
      "text/plain": [
       "<matplotlib.figure.Figure at 0x7f53577d0c90>"
      ]
     },
     "metadata": {},
     "output_type": "display_data"
    }
   ],
   "source": [
    "# pricePerRoom\n",
    "train_test['pricePerRoom'] = (train_test['price'] / train_test['bedBathSum'])\\\n",
    "    .apply(lambda x: -1 if (np.isinf(x) | np.isnan(x)) else x)\n",
    "\n",
    "train_test.pricePerRoom.hist(bins =100)\n",
    "\n",
    "feature_to_use.append('pricePerRoom')\n",
    "norm_by_log.append('pricePerRoom')"
   ]
  },
  {
   "cell_type": "code",
   "execution_count": 21,
   "metadata": {
    "collapsed": false
   },
   "outputs": [
    {
     "data": {
      "image/png": "[encoded data removed]",
      "text/plain": [
       "<matplotlib.figure.Figure at 0x7f536c249490>"
      ]
     },
     "metadata": {},
     "output_type": "display_data"
    }
   ],
   "source": [
    "# bedPerBath\n",
    "train_test['bedPerBath'] = (train_test['bedrooms'] / train_test['bathrooms'])\\\n",
    "    .apply(lambda x: -1 if (np.isinf(x) | np.isnan(x)) else x)\n",
    "    \n",
    "train_test.bedPerBath.hist(bins =100)\n",
    "feature_to_use.append('bedPerBath')\n",
    "norm_by_scaler.append('bedPerBath')"
   ]
  },
  {
   "cell_type": "code",
   "execution_count": 22,
   "metadata": {
    "collapsed": false
   },
   "outputs": [],
   "source": [
    "# Median price for bedroom \n",
    "\n",
    "def add_median_price(key=None, suffix=\"\", train_test_df=None):\n",
    "    # Set features to be used\n",
    "    median_features = copy.copy(key)\n",
    "    median_features.append('price')\n",
    "    # Concat train and test to find median prices over whole dataset\n",
    "    median_prices = train_test_df[median_features]\n",
    "    # Group data by key to compute median prices\n",
    "    medians_by_key = median_prices.groupby(by=key)['price'].median().reset_index()\n",
    "    # Rename median column with provided suffix\n",
    "    medians_by_key.rename(columns={'price': 'median_price_' + suffix}, inplace=True)\n",
    "    # Update data frames, note that merge seems to reset the index\n",
    "    # that's why I reset first and set again the index\n",
    "    train_test_df = train_test_df.merge(medians_by_key, on=key, how='left')\n",
    "    train_test_df['ratio_' + suffix] = train_test_df['price'] /train_test_df['median_price_' + suffix]\n",
    "\n",
    "    return train_test_df\n",
    "\n",
    "train_test = add_median_price(key=['bedrooms'],\n",
    "                              suffix=\"bed\",\n",
    "                              train_test_df=train_test)\n",
    "\n",
    "feature_to_use.extend(['median_price_bed','ratio_bed'])\n",
    "norm_by_max.append('median_price_bed')\n",
    "norm_by_log.append('ratio_bed')"
   ]
  },
  {
   "cell_type": "code",
   "execution_count": 23,
   "metadata": {
    "collapsed": false
   },
   "outputs": [
    {
     "data": {
      "text/plain": [
       "<matplotlib.axes._subplots.AxesSubplot at 0x7f536b826dd0>"
      ]
     },
     "execution_count": 23,
     "metadata": {},
     "output_type": "execute_result"
    },
    {
     "data": {
      "image/png": "[encoded data removed]",
      "text/plain": [
       "<matplotlib.figure.Figure at 0x7f535b775a90>"
      ]
     },
     "metadata": {},
     "output_type": "display_data"
    }
   ],
   "source": [
    "train_test.median_price_bed.hist(bins =100)"
   ]
  },
  {
   "cell_type": "code",
   "execution_count": 24,
   "metadata": {
    "collapsed": false
   },
   "outputs": [
    {
     "data": {
      "text/plain": [
       "<matplotlib.axes._subplots.AxesSubplot at 0x7f536b808610>"
      ]
     },
     "execution_count": 24,
     "metadata": {},
     "output_type": "execute_result"
    },
    {
     "data": {
      "image/png": "[encoded data removed]",
      "text/plain": [
       "<matplotlib.figure.Figure at 0x7f536c3c2690>"
      ]
     },
     "metadata": {},
     "output_type": "display_data"
    }
   ],
   "source": [
    "train_test.ratio_bed.hist(bins =100)"
   ]
  },
  {
   "cell_type": "code",
   "execution_count": 25,
   "metadata": {
    "collapsed": false
   },
   "outputs": [
    {
     "name": "stdout",
     "output_type": "stream",
     "text": [
      "Starting transformations\n",
      "Normalizing high cordiality data...\n",
      "Merge data...\n",
      "Done!\n"
     ]
    }
   ],
   "source": [
    "# It is lit by Branden\n",
    "\n",
    "X_train = train_test[:ntrain]\n",
    "X_test = train_test[ntrain:]\n",
    "\n",
    "interest_level_map = {'low': 0, 'medium': 1, 'high': 2}\n",
    "X_train['interest_level'] = X_train['interest_level'].apply(lambda x: interest_level_map[x])\n",
    "X_test['interest_level'] = -1\n",
    "\n",
    "\n",
    "low_count = len(X_train[X_train['interest_level'] == 0])\n",
    "medium_count = len(X_train[X_train['interest_level'] == 1])\n",
    "high_count = len(X_train[X_train['interest_level'] == 2])\n",
    "\n",
    "def find_objects_with_only_one_record(feature_name):\n",
    "    temp = pd.concat([X_train[feature_name].reset_index(), \n",
    "                      X_test[feature_name].reset_index()])\n",
    "    temp = temp.groupby(feature_name, as_index = False).count()\n",
    "    return temp[temp['index'] == 1]\n",
    "\n",
    "managers_with_one_lot = find_objects_with_only_one_record('manager_id')\n",
    "buildings_with_one_lot = find_objects_with_only_one_record('building_id')\n",
    "addresses_with_one_lot = find_objects_with_only_one_record('display_address')\n",
    "\n",
    "lambda_val = None\n",
    "k=5.0\n",
    "f=1.0\n",
    "r_k=0.01 \n",
    "g = 1.0\n",
    "\n",
    "def categorical_average(variable, y, pred_0, feature_name):\n",
    "    def calculate_average(sub1, sub2):\n",
    "        s = pd.DataFrame(data = {\n",
    "                                 variable: sub1.groupby(variable, as_index = False).count()[variable],                              \n",
    "                                 'sumy': sub1.groupby(variable, as_index = False).sum()['y'],\n",
    "                                 'avgY': sub1.groupby(variable, as_index = False).mean()['y'],\n",
    "                                 'cnt': sub1.groupby(variable, as_index = False).count()['y']\n",
    "                                 })\n",
    "                                 \n",
    "        tmp = sub2.merge(s.reset_index(), how='left', left_on=variable, right_on=variable) \n",
    "        del tmp['index']                       \n",
    "        tmp.loc[pd.isnull(tmp['cnt']), 'cnt'] = 0.0\n",
    "        tmp.loc[pd.isnull(tmp['cnt']), 'sumy'] = 0.0\n",
    "\n",
    "        def compute_beta(row):\n",
    "            cnt = row['cnt'] if row['cnt'] < 200 else float('inf')\n",
    "            return 1.0 / (g + exp((cnt - k) / f))\n",
    "            \n",
    "        if lambda_val is not None:\n",
    "            tmp['beta'] = lambda_val\n",
    "        else:\n",
    "            tmp['beta'] = tmp.apply(compute_beta, axis = 1)\n",
    "            \n",
    "        tmp['adj_avg'] = tmp.apply(lambda row: (1.0 - row['beta']) * row['avgY'] + row['beta'] * row['pred_0'],\n",
    "                                   axis = 1)\n",
    "                                   \n",
    "        tmp.loc[pd.isnull(tmp['avgY']), 'avgY'] = tmp.loc[pd.isnull(tmp['avgY']), 'pred_0']\n",
    "        tmp.loc[pd.isnull(tmp['adj_avg']), 'adj_avg'] = tmp.loc[pd.isnull(tmp['adj_avg']), 'pred_0']\n",
    "        tmp['random'] = np.random.uniform(size = len(tmp))\n",
    "        tmp['adj_avg'] = tmp.apply(lambda row: row['adj_avg'] *(1 + (row['random'] - 0.5) * r_k),\n",
    "                                   axis = 1)\n",
    "    \n",
    "        return tmp['adj_avg'].ravel()\n",
    "     \n",
    "    #cv for training set \n",
    "    k_fold = StratifiedKFold(5)\n",
    "    X_train[feature_name] = -999 \n",
    "    for (train_index, cv_index) in k_fold.split(np.zeros(len(X_train)),\n",
    "                                                X_train['interest_level'].ravel()):\n",
    "        sub = pd.DataFrame(data = {variable: X_train[variable],\n",
    "                                   'y': X_train[y],\n",
    "                                   'pred_0': X_train[pred_0]})\n",
    "            \n",
    "        sub1 = sub.iloc[train_index]        \n",
    "        sub2 = sub.iloc[cv_index]\n",
    "        \n",
    "        X_train.loc[cv_index, feature_name] = calculate_average(sub1, sub2)\n",
    "    \n",
    "    #for test set\n",
    "    sub1 = pd.DataFrame(data = {variable: X_train[variable],\n",
    "                                'y': X_train[y],\n",
    "                                'pred_0': X_train[pred_0]})\n",
    "    sub2 = pd.DataFrame(data = {variable: X_test[variable],\n",
    "                                'y': X_test[y],\n",
    "                                'pred_0': X_test[pred_0]})\n",
    "    X_test.loc[:, feature_name] = calculate_average(sub1, sub2)                               \n",
    "\n",
    "def transform_data(X):\n",
    "  \n",
    "    X['low'] = 0\n",
    "    X.loc[X['interest_level'] == 0, 'low'] = 1\n",
    "    X['medium'] = 0\n",
    "    X.loc[X['interest_level'] == 1, 'medium'] = 1\n",
    "    X['high'] = 0\n",
    "    X.loc[X['interest_level'] == 2, 'high'] = 1\n",
    "    \n",
    "    X['pred0_low'] = low_count * 1.0 / ntrain\n",
    "    X['pred0_medium'] = medium_count * 1.0 / ntrain\n",
    "    X['pred0_high'] = high_count * 1.0 / ntrain\n",
    "    \n",
    "    X.loc[X['manager_id'].isin(managers_with_one_lot['manager_id'].ravel()), \n",
    "          'manager_id'] = \"-1\"\n",
    "    X.loc[X['building_id'].isin(buildings_with_one_lot['building_id'].ravel()), \n",
    "          'building_id'] = \"-1\"\n",
    "    X.loc[X['display_address'].isin(addresses_with_one_lot['display_address'].ravel()), \n",
    "          'display_address'] = \"-1\"\n",
    "          \n",
    "    return X\n",
    "\n",
    "def normalize_high_cordiality_data():\n",
    "    high_cardinality = [\"building_id\", \"manager_id\"]\n",
    "    for c in high_cardinality:\n",
    "        categorical_average(c, \"medium\", \"pred0_medium\", c + \"_mean_medium\")\n",
    "        categorical_average(c, \"high\", \"pred0_high\", c + \"_mean_high\")\n",
    "\n",
    "print \"Starting transformations\"         \n",
    "X_train = transform_data(X_train)    \n",
    "X_test = transform_data(X_test) \n",
    "\n",
    "print \"Normalizing high cordiality data...\" \n",
    "normalize_high_cordiality_data()\n",
    "\n",
    "\n",
    "print \"Merge data...\" \n",
    "feature_high_cordianlity = ['building_id_mean_medium','building_id_mean_high', \n",
    "                            'manager_id_mean_medium','manager_id_mean_high','listing_id']\n",
    "train_test_high_cordianlity = pd.concat([X_train[feature_high_cordianlity], X_test[feature_high_cordianlity]], 0)\n",
    "train_test = train_test.merge(train_test_high_cordianlity, on = 'listing_id', how = 'left')\n",
    "del X_train,X_test\n",
    "print 'Done!'\n",
    "\n",
    "feature_to_use.extend(feature_high_cordianlity)\n",
    "norm_by_scaler.extend(['building_id_mean_medium','building_id_mean_high', \n",
    "                            'manager_id_mean_medium','manager_id_mean_high'])\n",
    "cal_clos.append('listing_id')"
   ]
  },
  {
   "cell_type": "code",
   "execution_count": 26,
   "metadata": {
    "collapsed": false
   },
   "outputs": [
    {
     "data": {
      "image/png": "[encoded data removed]",
      "text/plain": [
       "<matplotlib.figure.Figure at 0x7f536c354610>"
      ]
     },
     "metadata": {},
     "output_type": "display_data"
    }
   ],
   "source": [
    "# count of \"features\" #\n",
    "train_test[\"num_features\"] = train_test[\"features\"].apply(len)\n",
    "train_test.num_features.hist(bins =100)\n",
    "\n",
    "feature_to_use.append('num_features')\n",
    "norm_by_log.append('num_features')"
   ]
  },
  {
   "cell_type": "code",
   "execution_count": 27,
   "metadata": {
    "collapsed": false
   },
   "outputs": [],
   "source": [
    "# created date\n",
    "# convert the created column to datetime object so as to extract more features \n",
    "train_test[\"created\"] = pd.to_datetime(train_test[\"created\"])\n",
    "\n",
    "# Let us extract some features like weekday, month, day, hour from date columns #\n",
    "train_test[\"created_month\"] = train_test[\"created\"].dt.month\n",
    "train_test[\"created_day\"] = train_test[\"created\"].dt.day\n",
    "train_test[\"created_weekday\"] = train_test[\"created\"].dt.weekday\n",
    "train_test[\"created_hour\"] = train_test[\"created\"].dt.hour\n",
    "train_test[\"created_dayofyear\"] = train_test[\"created\"].dt.dayofyear\n",
    "feature_to_use.extend(['created_month','created_day','created_weekday','created_hour',\"created_dayofyear\"])\n",
    "norm_by_scaler.extend(['created_month','created_day','created_weekday','created_hour',\"created_dayofyear\"])"
   ]
  },
  {
   "cell_type": "code",
   "execution_count": 28,
   "metadata": {
    "collapsed": false
   },
   "outputs": [
    {
     "name": "stdout",
     "output_type": "stream",
     "text": [
      "Done!\n"
     ]
    }
   ],
   "source": [
    "# address\n",
    "import string\n",
    "\n",
    "train_test['address1'] = train_test['display_address']\n",
    "train_test['address1'] = train_test['address1'].apply(lambda x: x.lower())\n",
    "\n",
    "address_map = {\n",
    "    'w': 'west',\n",
    "    'st.': 'street',\n",
    "    'ave': 'avenue',\n",
    "    'st': 'street',\n",
    "    'e': 'east',\n",
    "    'n': 'north',\n",
    "    's': 'south'\n",
    "}\n",
    "\n",
    "\n",
    "def address_map_func(s):\n",
    "    s = s.split(' ')\n",
    "    out = []\n",
    "    for x in s:\n",
    "        if x in address_map:\n",
    "            out.append(address_map[x])\n",
    "        else:\n",
    "            out.append(x)\n",
    "    return ' '.join(out)\n",
    "\n",
    "string.punctuation.__add__('!!')\n",
    "string.punctuation.__add__('(')\n",
    "string.punctuation.__add__(')')\n",
    "\n",
    "remove_punct_map = dict.fromkeys(map(ord, string.punctuation))\n",
    "\n",
    "\n",
    "train_test['address1'] = train_test['address1'].apply(lambda x: x.translate(remove_punct_map))\n",
    "train_test['address1'] = train_test['address1'].apply(lambda x: address_map_func(x))\n",
    "\n",
    "new_cols = ['street', 'avenue', 'east', 'west', 'north', 'south']\n",
    "\n",
    "for col in new_cols:\n",
    "    train_test[col] = train_test['address1'].apply(lambda x: 1 if col in x else 0)\n",
    "\n",
    "train_test['other_address'] = train_test[new_cols].apply(lambda x: 1 if x.sum() == 0 else 0, axis=1)\n",
    "\n",
    "\n",
    "feature_to_use.extend(['street', 'avenue', 'east', 'west', 'north', 'south','other_address'])\n",
    "binary_features.extend(['street', 'avenue', 'east', 'west', 'north', 'south','other_address'])\n",
    "print 'Done!'"
   ]
  },
  {
   "cell_type": "code",
   "execution_count": 29,
   "metadata": {
    "collapsed": false
   },
   "outputs": [],
   "source": [
    "managers_count = train_test['manager_id_lbl'].value_counts()\n",
    "\n",
    "train_test['top_10_manager'] = train_test['manager_id_lbl'].apply(lambda x: 1 if x in managers_count.index.values[\n",
    "    managers_count.values >= np.percentile(managers_count.values, 90)] else 0)\n",
    "train_test['top_25_manager'] = train_test['manager_id_lbl'].apply(lambda x: 1 if x in managers_count.index.values[\n",
    "    managers_count.values >= np.percentile(managers_count.values, 75)] else 0)\n",
    "train_test['top_5_manager'] = train_test['manager_id_lbl'].apply(lambda x: 1 if x in managers_count.index.values[\n",
    "    managers_count.values >= np.percentile(managers_count.values, 95)] else 0)\n",
    "train_test['top_50_manager'] = train_test['manager_id_lbl'].apply(lambda x: 1 if x in managers_count.index.values[\n",
    "    managers_count.values >= np.percentile(managers_count.values, 50)] else 0)\n",
    "train_test['top_1_manager'] = train_test['manager_id_lbl'].apply(lambda x: 1 if x in managers_count.index.values[\n",
    "    managers_count.values >= np.percentile(managers_count.values, 99)] else 0)\n",
    "train_test['top_2_manager'] = train_test['manager_id_lbl'].apply(lambda x: 1 if x in managers_count.index.values[\n",
    "    managers_count.values >= np.percentile(managers_count.values, 98)] else 0)\n",
    "train_test['top_15_manager'] = train_test['manager_id_lbl'].apply(lambda x: 1 if x in managers_count.index.values[\n",
    "    managers_count.values >= np.percentile(managers_count.values, 85)] else 0)\n",
    "train_test['top_20_manager'] = train_test['manager_id_lbl'].apply(lambda x: 1 if x in managers_count.index.values[\n",
    "    managers_count.values >= np.percentile(managers_count.values, 80)] else 0)\n",
    "train_test['top_30_manager'] = train_test['manager_id_lbl'].apply(lambda x: 1 if x in managers_count.index.values[\n",
    "    managers_count.values >= np.percentile(managers_count.values, 70)] else 0)\n",
    "\n",
    "feature_to_use.extend(['top_10_manager','top_25_manager','top_5_manager','top_50_manager','top_1_manager',\n",
    "                       'top_2_manager','top_15_manager','top_20_manager','top_30_manager'])\n",
    "\n",
    "binary_features.extend(['top_10_manager','top_25_manager','top_5_manager','top_50_manager','top_1_manager',\n",
    "                       'top_2_manager','top_15_manager','top_20_manager','top_30_manager'])"
   ]
  },
  {
   "cell_type": "code",
   "execution_count": 30,
   "metadata": {
    "collapsed": true
   },
   "outputs": [],
   "source": [
    "buildings_count = train_test['building_id_lbl'].value_counts()\n",
    "\n",
    "train_test['top_10_building'] = train_test['building_id_lbl'].apply(lambda x: 1 if x in buildings_count.index.values[\n",
    "    buildings_count.values >= np.percentile(buildings_count.values, 90)] else 0)\n",
    "train_test['top_25_building'] = train_test['building_id_lbl'].apply(lambda x: 1 if x in buildings_count.index.values[\n",
    "    buildings_count.values >= np.percentile(buildings_count.values, 75)] else 0)\n",
    "train_test['top_5_building'] = train_test['building_id_lbl'].apply(lambda x: 1 if x in buildings_count.index.values[\n",
    "    buildings_count.values >= np.percentile(buildings_count.values, 95)] else 0)\n",
    "train_test['top_50_building'] = train_test['building_id_lbl'].apply(lambda x: 1 if x in buildings_count.index.values[\n",
    "    buildings_count.values >= np.percentile(buildings_count.values, 50)] else 0)\n",
    "train_test['top_1_building'] = train_test['building_id_lbl'].apply(lambda x: 1 if x in buildings_count.index.values[\n",
    "    buildings_count.values >= np.percentile(buildings_count.values, 99)] else 0)\n",
    "train_test['top_2_building'] = train_test['building_id_lbl'].apply(lambda x: 1 if x in buildings_count.index.values[\n",
    "    buildings_count.values >= np.percentile(buildings_count.values, 98)] else 0)\n",
    "train_test['top_15_building'] = train_test['building_id_lbl'].apply(lambda x: 1 if x in buildings_count.index.values[\n",
    "    buildings_count.values >= np.percentile(buildings_count.values, 85)] else 0)\n",
    "train_test['top_20_building'] = train_test['building_id_lbl'].apply(lambda x: 1 if x in buildings_count.index.values[\n",
    "    buildings_count.values >= np.percentile(buildings_count.values, 80)] else 0)\n",
    "train_test['top_30_building'] = train_test['building_id_lbl'].apply(lambda x: 1 if x in buildings_count.index.values[\n",
    "    buildings_count.values >= np.percentile(buildings_count.values, 70)] else 0)\n",
    "\n",
    "feature_to_use.extend(['top_10_building','top_25_building','top_5_building','top_50_building','top_1_building',\n",
    "                       'top_2_building','top_15_building','top_20_building','top_30_building'])\n",
    "binary_features.extend(['top_10_building','top_25_building','top_5_building','top_50_building','top_1_building',\n",
    "                       'top_2_building','top_15_building','top_20_building','top_30_building'])"
   ]
  },
  {
   "cell_type": "code",
   "execution_count": 31,
   "metadata": {
    "collapsed": false
   },
   "outputs": [],
   "source": [
    "# sparse features\n",
    "\n",
    "train_test['clean_features'] = train_test['features'].apply(lambda x: [t.replace('*', ', ') for t in x])\n",
    "train_test['clean_features'] = train_test['clean_features'].apply(lambda x: [t.replace('!', ', ') for t in x])\n",
    "train_test['clean_features'] = train_test['clean_features'].apply(lambda x: [t.replace('&', ', ') for t in x])\n",
    "train_test['clean_features'] = train_test['clean_features'].apply(lambda x: [t.replace(', ,', ', ') for t in x])\n",
    "\n",
    "features = train_test[\"clean_features\"].apply(lambda x: [i.lower() for i in x])\n",
    "\n",
    "# count features and drop features with less than n counts\n",
    "n = 5\n",
    "feature_counts = Counter()\n",
    "for feature in features.values:\n",
    "    feature_counts.update(feature)\n",
    "feature = sorted([k for (k,v) in feature_counts.items() if v > n])\n",
    "\n",
    "def clean(s):\n",
    "    x = s.replace(\"-\", \"\")\n",
    "    x = x.replace(\" \", \"\")\n",
    "    x = x.replace(\"*\", \"\")\n",
    "    x = x.replace(\"1monthfree\", \"onemonthfree\")\n",
    "    x = x.replace(\"2fullbaths\", \"wfba\")\n",
    "    x = x.replace(\"$250\", \"wfty\")\n",
    "    x = x.replace(\"twentyfourhour\", \"tf\")\n",
    "    x = x.replace(\"24/7\", \"tf\")\n",
    "    x = x.replace(\"24hr\", \"tf\")\n",
    "    x = x.replace(\"24-hour\", \"tf\")\n",
    "    x = x.replace(\"24hour\", \"tf\")\n",
    "    x = x.replace(\"24 hour\", \"tf\")\n",
    "    x = x.replace(\"attended\", \"\")\n",
    "    x = x.replace(\"assigned\", \"\")\n",
    "    x = x.replace(\"buildingcommon\", \"\")\n",
    "    x = x.replace(\"a/c\", \"ac\")\n",
    "    x = x.replace(\"children's\", \"childrens\")\n",
    "    x = x.replace(\"common\", \"cm\")\n",
    "    x = x.replace(\"concierge\", \"doorman\")\n",
    "    x = x.replace(\"bicycle\", \"bike\")\n",
    "    x = x.replace(\"private\", \"pv\")\n",
    "    x = x.replace(\"decorative\", \"dc\")\n",
    "    x = x.replace(\"deco\", \"dc\")    \n",
    "    x = x.replace(\"fireplaces\", \"fireplace\")\n",
    "    x = x.replace(\"gym\", \"fitness\")\n",
    "    x = x.replace(\"inunit\", \"\") \n",
    "    x = x.replace(\"dryer\", \"washer\")       \n",
    "    x = x.replace(\"onsite\", \"\")\n",
    "    x = x.replace(\"outdoor\", \"od\")\n",
    "    x = x.replace(\"ssappliances\", \"stainless\")\n",
    "    x = x.replace(\"s/sappliances\", \"stainless\")\n",
    "    x = x.replace(\"full\", \"fl\")\n",
    "    x = x.replace(\"fully\", \"fl\")\n",
    "    x = x.replace(\"high\", \"hi\")    \n",
    "    x = x.replace(\"parking\", \"pkng\")\n",
    "    x = x.replace(\"shares\", \"share\")\n",
    "    x = x.replace(\"share\", \"sr\")\n",
    "    x = x.replace(\"stateoftheart\", \"\")\n",
    "    x = x.replace(\"tonsof\", \"\")\n",
    "    x = x.replace(\"petfriendly\", \"pets\")\n",
    "    x = x.replace(\"allpetsok\", \"pets\")\n",
    "    x = x.replace(\"atmmachine\", \"atm\")\n",
    "    x = x.replace(\"party\", \"pty\")\n",
    "    x = x.replace(\"swimming\", \"\")\n",
    "    x = x.replace(\"valet\", \"vt\")\n",
    "    x = x.replace(\"closeto\", \"cto\")\n",
    "\n",
    "    return x\n",
    "\n",
    "key2original = defaultdict(list)\n",
    "k = 4\n",
    "for f in feature:\n",
    "    cleaned = clean(f)\n",
    "    key = cleaned[:k].strip()\n",
    "    key2original[key].append(f)\n",
    "\n",
    "def clean_feature(y):\n",
    "    key = clean(y)[:k].strip()\n",
    "#     print key\n",
    "    if key in key2original.keys():\n",
    "        return key\n",
    "    else:\n",
    "        return y   \n",
    "\n",
    "train_test[\"clean_features\"] = features.apply(lambda x: [clean_feature(i) for i in x]) #203 features\n",
    "\n"
   ]
  },
  {
   "cell_type": "code",
   "execution_count": 48,
   "metadata": {
    "collapsed": false
   },
   "outputs": [
    {
     "name": "stdout",
     "output_type": "stream",
     "text": [
      "Counting Vectorizer...\n",
      "Done!\n"
     ]
    }
   ],
   "source": [
    "print 'Counting Vectorizer...'\n",
    "\n",
    "def tokenize1(text):\n",
    "    # remove non letters\n",
    "    text = re.sub(\"[^a-zA-Z]\", \" \", text)\n",
    "    # tokenize\n",
    "    tokens = nltk.word_tokenize(text)\n",
    "#     # stem\n",
    "#     stems = stem_tokens(tokens, stemmer)\n",
    "\n",
    "    stems = tokens\n",
    "    return stems\n",
    "\n",
    "vectorizer = CountVectorizer(\n",
    "    analyzer = 'word',\n",
    "    tokenizer = tokenize1,\n",
    "    lowercase = True,\n",
    "    stop_words = 'english',\n",
    "    max_features = 200\n",
    ")\n",
    "\n",
    "tmp = train_test.clean_features.apply(lambda x: \" \".join([\"_\".join(i.split(\" \")) for i in x]))\n",
    "feat_sparse = vectorizer.fit_transform(tmp)\n",
    "feature_sparse_cols = ['feature_' + x for x in vectorizer.get_feature_names()]\n",
    "print 'Done!'"
   ]
  },
  {
   "cell_type": "code",
   "execution_count": 50,
   "metadata": {
    "collapsed": false
   },
   "outputs": [],
   "source": [
    "train_test['feature_upper_perc'] = train_test[\"features\"]\\\n",
    "    .apply(lambda x: \" \".join([\" \".join(i.split(\" \")) for i in x]))\\\n",
    "    .apply(lambda x: -1 if (sum(1 for c in x if c.isalpha()) == 0) \\\n",
    "           else sum(1.0 for c in x if c.isupper()) / sum(1.0 for c in x if c.isalpha()))\n",
    "    \n",
    "feature_to_use.append('feature_upper_perc')\n",
    "norm_by_scaler.append('feature_upper_perc')"
   ]
  },
  {
   "cell_type": "code",
   "execution_count": 51,
   "metadata": {
    "collapsed": false
   },
   "outputs": [
    {
     "name": "stdout",
     "output_type": "stream",
     "text": [
      "Done!\n"
     ]
    }
   ],
   "source": [
    "# count of words present in description column #\n",
    "train_test['clean_description'] = train_test['description'].apply(lambda x: x.replace('<p>', ' '))\n",
    "train_test['clean_description'] = train_test['clean_description'].apply(lambda x: x.replace('<a', ' '))\n",
    "train_test['clean_description'] = train_test['clean_description'].apply(lambda x: x.replace('website_redacted', ' ')) \n",
    "train_test['clean_description'] = train_test['clean_description'].apply(lambda x: x.replace(u\"\\u2022\", '.'))\n",
    "train_test['clean_description'] = train_test['clean_description'].apply(lambda x: x.replace('<br />', ' '))\n",
    "train_test['clean_description'] = train_test['clean_description'].apply(lambda x: x.replace('<br/>', ' '))\n",
    "train_test['clean_description'] = train_test['clean_description'].apply(lambda x: x.replace('&amp;', ' '))\n",
    "train_test['clean_description'] = train_test['clean_description'].apply(lambda x: x.replace('*', ' '))\n",
    "\n",
    "train_test['clean_description'] = train_test['clean_description'].apply(lambda x: x.replace('</p>', ' '))\n",
    "train_test['clean_description'] = train_test['clean_description'].apply(lambda x: x.replace('<div>', ' ')) \n",
    "train_test['clean_description'] = train_test['clean_description'].apply(lambda x: x.replace('</div>', ' '))\n",
    "train_test['clean_description'] = train_test['clean_description'].apply(lambda x: x.replace('<u>', ' '))\n",
    "train_test['clean_description'] = train_test['clean_description'].apply(lambda x: x.replace('</u>', ' '))\n",
    "train_test['clean_description'] = train_test['clean_description'].apply(lambda x: x.replace('<ul>', ' '))\n",
    "train_test['clean_description'] = train_test['clean_description'].apply(lambda x: x.replace('</ul>', ' '))\n",
    "train_test['clean_description'] = train_test['clean_description'].apply(lambda x: x.replace('<li>', ' ')) \n",
    "train_test['clean_description'] = train_test['clean_description'].apply(lambda x: x.replace('</li>', '.'))\n",
    "train_test['clean_description'] = train_test['clean_description']\\\n",
    "    .apply(lambda x: x.replace('<span style=\"color: rgb(255, 0, 0); \">', ' '))\n",
    "train_test['clean_description'] = train_test['clean_description'].apply(lambda x: x.replace('<span>', ' '))\n",
    "train_test['clean_description'] = train_test['clean_description'].apply(lambda x: x.replace('</span>', ' '))\n",
    "train_test['clean_description'] = train_test['clean_description'].apply(lambda x: x.replace('</strong>', ' '))\n",
    "train_test['clean_description'] = train_test['clean_description'].apply(lambda x: x.replace('<strong>', ' '))\n",
    "train_test['clean_description'] = train_test['clean_description'].apply(lambda x: x.replace('nbsp;', ' '))\n",
    "train_test['clean_description'] = train_test['clean_description'].apply(lambda x: x.replace('</BR>', ' '))\n",
    "train_test['clean_description'] = train_test['clean_description'].apply(lambda x: x.replace('<BR>', ' '))\n",
    "train_test['clean_description'] = train_test['clean_description'].apply(lambda x: x.replace('</em>', ' '))\n",
    "train_test['clean_description'] = train_test['clean_description'].apply(lambda x: x.replace('<em>', ' '))\n",
    "train_test['clean_description'] = train_test['clean_description'].apply(lambda x: x.replace('--', ' '))\n",
    "train_test['clean_description'] = train_test['clean_description'].apply(lambda x: x.replace('\\r', '.'))\n",
    "train_test['clean_description'] = train_test['clean_description'].apply(lambda x: x.replace('-', ' '))\n",
    "train_test['clean_description'] = train_test['clean_description']\\\n",
    "    .apply(lambda x: x.replace('<img src= \"   width=\"1\" height=\"1\" />', ' '))\n",
    "train_test['clean_description'] = train_test['clean_description'].apply(lambda x: x.replace(';', '.'))\n",
    "train_test['clean_description'] = train_test['clean_description'].apply(lambda x: x.replace('.', '. '))\n",
    "\n",
    "\n",
    "#==============================\n",
    "train_test['description_tokens'] = train_test['clean_description'].apply(sent_tokenize)\n",
    "train_test['num_description_sent'] = train_test['description_tokens'].apply(len)\n",
    "\n",
    "\n",
    "train_test['num_description_words'] = train_test['clean_description']\\\n",
    "                                        .apply(lambda x: 0 if len(x.strip()) == 0 else len(x.split(' ')))\n",
    "\n",
    "\n",
    "train_test['word_sent_desc'] = train_test['num_description_words'] / train_test['num_description_sent']\n",
    "\n",
    "\n",
    "train_test = pd.concat([train_test,train_test['description_tokens']\\\n",
    "                      .apply(description_sentiment)],axis=1)\n",
    "train_test.fillna(-1, inplace=True)\n",
    "\n",
    "train_test['desc_upper_perc'] = train_test.clean_description\\\n",
    "    .apply(lambda x: -1 if (sum(1 for c in x if c.isalpha()) == 0) \\\n",
    "           else sum(1.0 for c in x if c.isupper()) / sum(1.0 for c in x if c.isalpha()))\n",
    "\n",
    "feature_to_use.extend(['num_description_sent','num_description_words',\n",
    "                       'word_sent_desc', 'compound', 'neg', 'neu', 'pos', 'desc_upper_perc'])\n",
    "norm_by_log.extend(['num_description_sent','num_description_words','word_sent_desc'])\n",
    "norm_by_scaler.extend(['compound', 'neg', 'neu', 'pos','desc_upper_perc'])\n",
    "\n",
    "print 'Done!'"
   ]
  },
  {
   "cell_type": "code",
   "execution_count": 52,
   "metadata": {
    "collapsed": false
   },
   "outputs": [
    {
     "name": "stdout",
     "output_type": "stream",
     "text": [
      "Done!\n"
     ]
    }
   ],
   "source": [
    "vectorizer = CountVectorizer(\n",
    "    analyzer = 'word',\n",
    "    tokenizer = tokenize,\n",
    "    lowercase = True,\n",
    "    stop_words = 'english',\n",
    "    max_features = 200\n",
    ")\n",
    "\n",
    "tmp = train_test.clean_description\n",
    "desc_sparse = vectorizer.fit_transform(tmp)\n",
    "desc_sparse_cols = ['desc_' + x for x in vectorizer.get_feature_names()]\n",
    "print 'Done!'"
   ]
  },
  {
   "cell_type": "code",
   "execution_count": 72,
   "metadata": {
    "collapsed": false
   },
   "outputs": [],
   "source": [
    "feat_dense = pd.DataFrame(feat_sparse.toarray(), columns=feature_sparse_cols)\n",
    "desc_dense = pd.DataFrame(desc_sparse.toarray(), columns=desc_sparse_cols)"
   ]
  },
  {
   "cell_type": "code",
   "execution_count": 73,
   "metadata": {
    "collapsed": false
   },
   "outputs": [],
   "source": [
    "full_data = pd.DataFrame(np.hstack([train_test[feature_to_use],feat_dense,desc_dense]),columns=[feature_to_use + feature_sparse_cols + desc_sparse_cols])"
   ]
  },
  {
   "cell_type": "code",
   "execution_count": 74,
   "metadata": {
    "collapsed": false
   },
   "outputs": [
    {
     "name": "stdout",
     "output_type": "stream",
     "text": [
      "(49352, 464)\n",
      "(74659, 464)\n"
     ]
    }
   ],
   "source": [
    "train_X = full_data[:ntrain]\n",
    "test_X = full_data[ntrain:]\n",
    "print train_X.shape\n",
    "print test_X.shape"
   ]
  },
  {
   "cell_type": "code",
   "execution_count": 75,
   "metadata": {
    "collapsed": false
   },
   "outputs": [],
   "source": [
    "train_X.to_pickle(data_path + 'train_X_0319.pkl')\n",
    "test_X.to_pickle(data_path + 'test_X_0319.pkl')\n",
    "pd.DataFrame(train_y).to_pickle(data_path + 'train_y_0319.pkl')"
   ]
  },
  {
   "cell_type": "code",
   "execution_count": 3,
   "metadata": {
    "collapsed": false
   },
   "outputs": [],
   "source": [
    "data_path = \"../input/\"\n",
    "re_train_X = pd.read_pickle(data_path + 'train_X_0319.pkl')\n",
    "re_test_X = pd.read_pickle(data_path + 'test_X_0319.pkl')"
   ]
  },
  {
   "cell_type": "code",
   "execution_count": 86,
   "metadata": {
    "collapsed": false
   },
   "outputs": [
    {
     "name": "stdout",
     "output_type": "stream",
     "text": [
      "(124011, 464)\n"
     ]
    }
   ],
   "source": [
    "re_full_data = pd.concat([train_X,test_X])\n",
    "print re_full_data.shape"
   ]
  },
  {
   "cell_type": "code",
   "execution_count": 89,
   "metadata": {
    "collapsed": false
   },
   "outputs": [
    {
     "data": {
      "text/plain": [
       "['bathrooms', 'bedrooms', 'bedBathSum', 'median_price_bed']"
      ]
     },
     "execution_count": 89,
     "metadata": {},
     "output_type": "execute_result"
    }
   ],
   "source": [
    "# features normalized by dividing max\n",
    "norm_by_max\n",
    "# 4"
   ]
  },
  {
   "cell_type": "code",
   "execution_count": 90,
   "metadata": {
    "collapsed": false
   },
   "outputs": [
    {
     "name": "stdout",
     "output_type": "stream",
     "text": [
      "7.5\n",
      "8.0\n",
      "13.5\n",
      "12750.0\n"
     ]
    }
   ],
   "source": [
    "for col in norm_by_max:\n",
    "    print re_full_data[col].max()\n",
    "    re_full_data[col] = re_full_data[col] / re_full_data[col].max()"
   ]
  },
  {
   "cell_type": "code",
   "execution_count": 91,
   "metadata": {
    "collapsed": false
   },
   "outputs": [
    {
     "data": {
      "text/plain": [
       "['num_photos',\n",
       " 'price',\n",
       " 'pricePerBed',\n",
       " 'pricePerBath',\n",
       " 'pricePerRoom',\n",
       " 'ratio_bed',\n",
       " 'num_features',\n",
       " 'num_description_sent',\n",
       " 'num_description_words',\n",
       " 'word_sent_desc']"
      ]
     },
     "execution_count": 91,
     "metadata": {},
     "output_type": "execute_result"
    }
   ],
   "source": [
    "# features normalized by log\n",
    "norm_by_log\n",
    "# 10"
   ]
  },
  {
   "cell_type": "code",
   "execution_count": 92,
   "metadata": {
    "collapsed": false
   },
   "outputs": [
    {
     "name": "stdout",
     "output_type": "stream",
     "text": [
      "num_photos\n",
      "price\n",
      "pricePerBed\n",
      "pricePerBath\n",
      "pricePerRoom\n",
      "ratio_bed\n",
      "num_features\n",
      "num_description_sent\n",
      "num_description_words\n",
      "word_sent_desc\n"
     ]
    }
   ],
   "source": [
    "scaler = preprocessing.StandardScaler()\n",
    "for col in norm_by_log:\n",
    "    print col\n",
    "    re_full_data[col] = np.log(re_full_data[col].values+3)\n",
    "    re_full_data[col] = scaler.fit_transform(re_full_data[col])"
   ]
  },
  {
   "cell_type": "code",
   "execution_count": 93,
   "metadata": {
    "collapsed": false
   },
   "outputs": [
    {
     "data": {
      "text/plain": [
       "['longitude',\n",
       " 'latitude',\n",
       " 'bedBathDiff',\n",
       " 'bedsPerc',\n",
       " 'bedPerBath',\n",
       " 'building_id_mean_medium',\n",
       " 'building_id_mean_high',\n",
       " 'manager_id_mean_medium',\n",
       " 'manager_id_mean_high',\n",
       " 'created_month',\n",
       " 'created_day',\n",
       " 'created_weekday',\n",
       " 'created_hour',\n",
       " 'created_dayofyear',\n",
       " 'feature_upper_perc',\n",
       " 'compound',\n",
       " 'neg',\n",
       " 'neu',\n",
       " 'pos',\n",
       " 'desc_upper_perc']"
      ]
     },
     "execution_count": 93,
     "metadata": {},
     "output_type": "execute_result"
    }
   ],
   "source": [
    "# featuresnormalized by scaler\n",
    "norm_by_scaler \n",
    "# 20"
   ]
  },
  {
   "cell_type": "code",
   "execution_count": 94,
   "metadata": {
    "collapsed": false
   },
   "outputs": [
    {
     "name": "stdout",
     "output_type": "stream",
     "text": [
      "longitude\n",
      "latitude\n",
      "bedBathDiff\n",
      "bedsPerc\n",
      "bedPerBath\n",
      "building_id_mean_medium\n",
      "building_id_mean_high\n",
      "manager_id_mean_medium\n",
      "manager_id_mean_high\n",
      "created_month\n",
      "created_day\n",
      "created_weekday\n",
      "created_hour\n",
      "created_dayofyear\n",
      "feature_upper_perc\n",
      "compound\n",
      "neg\n",
      "neu\n",
      "pos\n",
      "desc_upper_perc\n"
     ]
    }
   ],
   "source": [
    "for col in norm_by_scaler:\n",
    "    print col\n",
    "    re_full_data[col] = scaler.fit_transform(re_full_data[col])"
   ]
  },
  {
   "cell_type": "code",
   "execution_count": 95,
   "metadata": {
    "collapsed": false
   },
   "outputs": [],
   "source": [
    "for col in feature_sparse_cols:\n",
    "#     print col, re_full_data[col].max()\n",
    "    re_full_data[col] = (re_full_data[col] / re_full_data[col].max())\\\n",
    "        .apply(lambda x: 0 if (np.isinf(x) | np.isnan(x)) else x)"
   ]
  },
  {
   "cell_type": "code",
   "execution_count": 96,
   "metadata": {
    "collapsed": true
   },
   "outputs": [],
   "source": [
    "for col in desc_sparse_cols:\n",
    "#     print col, re_full_data[col].max()\n",
    "    re_full_data[col] = (re_full_data[col] / re_full_data[col].max())\\\n",
    "        .apply(lambda x: 0 if (np.isinf(x) | np.isnan(x)) else x)"
   ]
  },
  {
   "cell_type": "code",
   "execution_count": 97,
   "metadata": {
    "collapsed": false
   },
   "outputs": [
    {
     "data": {
      "text/plain": [
       "['street',\n",
       " 'avenue',\n",
       " 'east',\n",
       " 'west',\n",
       " 'north',\n",
       " 'south',\n",
       " 'other_address',\n",
       " 'top_10_manager',\n",
       " 'top_25_manager',\n",
       " 'top_5_manager',\n",
       " 'top_50_manager',\n",
       " 'top_1_manager',\n",
       " 'top_2_manager',\n",
       " 'top_15_manager',\n",
       " 'top_20_manager',\n",
       " 'top_30_manager',\n",
       " 'top_10_building',\n",
       " 'top_25_building',\n",
       " 'top_5_building',\n",
       " 'top_50_building',\n",
       " 'top_1_building',\n",
       " 'top_2_building',\n",
       " 'top_15_building',\n",
       " 'top_20_building',\n",
       " 'top_30_building']"
      ]
     },
     "execution_count": 97,
     "metadata": {},
     "output_type": "execute_result"
    }
   ],
   "source": [
    "# binary features\n",
    "binary_features\n",
    "# 25"
   ]
  },
  {
   "cell_type": "code",
   "execution_count": 98,
   "metadata": {
    "collapsed": false
   },
   "outputs": [
    {
     "data": {
      "text/plain": [
       "['display_address_lbl',\n",
       " 'manager_id_lbl',\n",
       " 'building_id_lbl',\n",
       " 'street_address_lbl',\n",
       " 'listing_id']"
      ]
     },
     "execution_count": 98,
     "metadata": {},
     "output_type": "execute_result"
    }
   ],
   "source": [
    "cal_clos\n",
    "# 5"
   ]
  },
  {
   "cell_type": "code",
   "execution_count": 99,
   "metadata": {
    "collapsed": true
   },
   "outputs": [],
   "source": [
    "UniqueID = re_full_data.listing_id.values"
   ]
  },
  {
   "cell_type": "code",
   "execution_count": 100,
   "metadata": {
    "collapsed": false
   },
   "outputs": [
    {
     "data": {
      "text/plain": [
       "array([ 7211212.,  7150865.,  6887163., ...,  6882352.,  6884758.,\n",
       "        6924212.])"
      ]
     },
     "execution_count": 100,
     "metadata": {},
     "output_type": "execute_result"
    }
   ],
   "source": [
    "UniqueID"
   ]
  },
  {
   "cell_type": "code",
   "execution_count": 101,
   "metadata": {
    "collapsed": true
   },
   "outputs": [],
   "source": [
    "for col in cal_clos:\n",
    "#     print col, re_full_data[col].max()\n",
    "    re_full_data[col] = scaler.fit_transform(re_full_data[col])"
   ]
  },
  {
   "cell_type": "code",
   "execution_count": 102,
   "metadata": {
    "collapsed": false
   },
   "outputs": [
    {
     "name": "stdout",
     "output_type": "stream",
     "text": [
      "(49352, 464)\n",
      "(74659, 464)\n",
      "(49352, 1)\n",
      "(74659, 1)\n"
     ]
    }
   ],
   "source": [
    "train_X = re_full_data[:ntrain]\n",
    "test_X = re_full_data[ntrain:]\n",
    "train_id = pd.DataFrame(UniqueID[:ntrain])\n",
    "test_id = pd.DataFrame(UniqueID[ntrain:])\n",
    "print train_X.shape\n",
    "print test_X.shape\n",
    "print train_id.shape\n",
    "print test_id.shape\n",
    "\n",
    "train_X.to_pickle(data_path + 'train_X_norm_0319.pkl')\n",
    "test_X.to_pickle(data_path + 'test_X_norm_0319.pkl')\n",
    "train_id.to_pickle(data_path + 'train_id_0319.pkl')\n",
    "test_id.to_pickle(data_path + 'test_id_0319.pkl')"
   ]
  },
  {
   "cell_type": "code",
   "execution_count": null,
   "metadata": {
    "collapsed": true
   },
   "outputs": [],
   "source": []
  }
 ],
 "metadata": {
  "anaconda-cloud": {},
  "kernelspec": {
   "display_name": "Python [conda root]",
   "language": "python",
   "name": "conda-root-py"
  },
  "language_info": {
   "codemirror_mode": {
    "name": "ipython",
    "version": 2
   },
   "file_extension": ".py",
   "mimetype": "text/x-python",
   "name": "python",
   "nbconvert_exporter": "python",
   "pygments_lexer": "ipython2",
   "version": "2.7.12"
  }
 },
 "nbformat": 4,
 "nbformat_minor": 1
}
