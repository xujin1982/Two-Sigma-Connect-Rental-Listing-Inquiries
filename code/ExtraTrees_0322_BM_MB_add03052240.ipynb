{
 "cells": [
  {
   "cell_type": "code",
   "execution_count": 2,
   "metadata": {
    "collapsed": true
   },
   "outputs": [],
   "source": [
    "import time\n",
    "import numpy as np # linear algebra\n",
    "import pandas as pd # data processing, CSV file I/O (e.g. pd.read_csv)\n",
    "from scipy import sparse\n",
    "from scipy.stats.mstats import gmean\n",
    "from sklearn.ensemble import ExtraTreesClassifier\n",
    "from sklearn.model_selection import train_test_split\n",
    "from sklearn.metrics import log_loss\n",
    "from datetime import datetime\n",
    "from sklearn.model_selection import train_test_split,StratifiedKFold, KFold\n",
    "from sklearn.model_selection import cross_val_score\n",
    "seed = 1234\n"
   ]
  },
  {
   "cell_type": "markdown",
   "metadata": {},
   "source": [
    "# Load Data"
   ]
  },
  {
   "cell_type": "code",
   "execution_count": 3,
   "metadata": {
    "collapsed": false
   },
   "outputs": [
    {
     "name": "stdout",
     "output_type": "stream",
     "text": [
      "(49352, 322) (74659, 322) (49352L,)\n"
     ]
    }
   ],
   "source": [
    "data_path = \"../input/\"\n",
    "train_X = pd.read_csv(data_path + 'train_BM_MB_add03052240.csv')\n",
    "test_X = pd.read_csv(data_path + 'test_BM_MB_add03052240.csv')\n",
    "train_y = np.ravel(pd.read_csv(data_path + 'labels_BrandenMurray.csv'))\n",
    "ntrain = train_X.shape[0]\n",
    "sub_id = test_X.listing_id.values\n",
    "# all_features = features_to_use + desc_sparse_cols + feat_sparse_cols\n",
    "print train_X.shape, test_X.shape, train_y.shape"
   ]
  },
  {
   "cell_type": "code",
   "execution_count": 4,
   "metadata": {
    "collapsed": false
   },
   "outputs": [],
   "source": [
    "def ET_cv(max_features = 0.5, n_estimators=300, min_samples_leaf  =1):\n",
    "    est=ExtraTreesClassifier(max_features=max_features,\n",
    "                             n_estimators=int(n_estimators),\n",
    "                             min_samples_leaf =int(min_samples_leaf), \n",
    "                             criterion = 'entropy',\n",
    "                             random_state=seed,\n",
    "                             n_jobs = 6\n",
    "                            )\n",
    "\n",
    "    return cross_val_score(est,train_X,train_y, scoring = 'neg_log_loss', cv = 3).mean()"
   ]
  },
  {
   "cell_type": "code",
   "execution_count": 5,
   "metadata": {
    "collapsed": false
   },
   "outputs": [
    {
     "name": "stdout",
     "output_type": "stream",
     "text": [
      "0.1 \t-0.606145850928\n",
      "0.2 \t-0.598976213009\n",
      "0.3 \t-0.596018278121\n",
      "0.4 \t-0.594810806938\n",
      "0.5 \t-0.591151809197\n",
      "0.6 \t-0.593804569906\n",
      "0.7 \t-0.594340507518\n",
      "0.8 \t-0.594383725642\n",
      "0.9 \t-0.594736579705\n",
      "1 \t-0.642873927547\n"
     ]
    }
   ],
   "source": [
    "cv_score = -1\n",
    "for x in [0.1,0.2,0.3,0.4,0.5,0.6,0.7,0.8,0.9,1]:\n",
    "    score = ET_cv(max_features = x)\n",
    "    if score > cv_score:\n",
    "        max_features = x\n",
    "        cv_score = score\n",
    "    print x,'\\t', score"
   ]
  },
  {
   "cell_type": "code",
   "execution_count": 6,
   "metadata": {
    "collapsed": false
   },
   "outputs": [
    {
     "name": "stdout",
     "output_type": "stream",
     "text": [
      "0.5\n"
     ]
    }
   ],
   "source": [
    "print max_features"
   ]
  },
  {
   "cell_type": "code",
   "execution_count": 7,
   "metadata": {
    "collapsed": false
   },
   "outputs": [
    {
     "name": "stdout",
     "output_type": "stream",
     "text": [
      "1 \t-0.591151809197\n",
      "2 \t-0.583280831735\n",
      "4 \t-0.577758058787\n",
      "8 \t-0.578656786087\n",
      "16 \t-0.584061718777\n",
      "32 \t-0.592266411972\n",
      "64 \t-0.602040922509\n",
      "128 \t-0.612803007464\n"
     ]
    }
   ],
   "source": [
    "for x in [1,2,4,8,16,32,64,128]:\n",
    "    score = ET_cv(max_features = max_features,min_samples_leaf = x)\n",
    "    if score > cv_score:\n",
    "        min_samples_leaf = x\n",
    "        cv_score = score    \n",
    "    print x, '\\t', score"
   ]
  },
  {
   "cell_type": "code",
   "execution_count": 8,
   "metadata": {
    "collapsed": false
   },
   "outputs": [
    {
     "name": "stdout",
     "output_type": "stream",
     "text": [
      "3 \t-0.578292154103\n",
      "5 \t-0.576917152211\n",
      "6 \t-0.576789848408\n",
      "7 \t-0.577561868746\n"
     ]
    }
   ],
   "source": [
    "for x in [3,5,6,7]:\n",
    "    score = ET_cv(max_features = max_features,min_samples_leaf = x)\n",
    "    if score > cv_score:\n",
    "        min_samples_leaf = x\n",
    "        cv_score = score    \n",
    "    print x, '\\t', score"
   ]
  },
  {
   "cell_type": "code",
   "execution_count": 9,
   "metadata": {
    "collapsed": false
   },
   "outputs": [
    {
     "name": "stdout",
     "output_type": "stream",
     "text": [
      "6\n"
     ]
    }
   ],
   "source": [
    "print min_samples_leaf"
   ]
  },
  {
   "cell_type": "code",
   "execution_count": 10,
   "metadata": {
    "collapsed": false
   },
   "outputs": [],
   "source": [
    "def ET_blend(est, train_x, train_y, test_x, fold):\n",
    "    N_params = len(est)\n",
    "    print \"Blend %d estimators for %d folds\" % (N_params, fold)\n",
    "    skf = KFold(n_splits=fold,random_state=seed)\n",
    "    N_class = len(set(train_y))\n",
    "    \n",
    "    train_blend_x = np.zeros((train_x.shape[0], N_class*N_params))\n",
    "    test_blend_x_mean = np.zeros((test_x.shape[0], N_class*N_params))\n",
    "    test_blend_x_gmean = np.zeros((test_x.shape[0], N_class*N_params))\n",
    "    scores = np.zeros((fold,N_params))\n",
    "    best_rounds = np.zeros((fold, N_params))    \n",
    "    \n",
    "    for j, ester in enumerate(est):\n",
    "        print \"Model %d:\" %(j+1)\n",
    "        test_blend_x_j = np.zeros((test_x.shape[0], N_class*fold))\n",
    "\n",
    "            \n",
    "        for i, (train_index, val_index) in enumerate(skf.split(train_x)):\n",
    "            print \"Model %d fold %d\" %(j+1,i+1)\n",
    "            fold_start = time.time() \n",
    "            train_x_fold = train_x.iloc[train_index]\n",
    "            train_y_fold = train_y[train_index]\n",
    "            val_x_fold = train_x.iloc[val_index]\n",
    "            val_y_fold = train_y[val_index]            \n",
    "            \n",
    "\n",
    "            ester.fit(train_x_fold,train_y_fold)\n",
    "            \n",
    "            val_y_predict_fold = ester.predict_proba(val_x_fold)\n",
    "            score = log_loss(val_y_fold, val_y_predict_fold)\n",
    "            print \"Score: \", score\n",
    "            scores[i,j]=score            \n",
    "            \n",
    "            train_blend_x[val_index, (j*N_class):(j+1)*N_class] = val_y_predict_fold\n",
    "            test_blend_x_j[:,(i*N_class):(i+1)*N_class] = ester.predict_proba(test_x)\n",
    "            \n",
    "            print \"Model %d fold %d fitting finished in %0.3fs\" % (j+1,i+1, time.time() - fold_start)            \n",
    "\n",
    "        test_blend_x_mean[:,(j*N_class):(j+1)*N_class] = \\\n",
    "                np.stack([test_blend_x_j[:,range(0,N_class*fold,N_class)].mean(1),\n",
    "                          test_blend_x_j[:,range(1,N_class*fold,N_class)].mean(1),\n",
    "                          test_blend_x_j[:,range(2,N_class*fold,N_class)].mean(1)]).T\n",
    "        \n",
    "        test_blend_x_gmean[:,(j*N_class):(j+1)*N_class] = \\\n",
    "                np.stack([gmean(test_blend_x_j[:,range(0,N_class*fold,N_class)], axis=1),\n",
    "                          gmean(test_blend_x_j[:,range(1,N_class*fold,N_class)], axis=1),\n",
    "                          gmean(test_blend_x_j[:,range(2,N_class*fold,N_class)], axis=1)]).T\n",
    "            \n",
    "        print \"Score for model %d is %f\" % (j+1,np.mean(scores[:,j]))\n",
    "    print \"Score for blended models is %f\" % (np.mean(scores))\n",
    "    return (train_blend_x, test_blend_x_mean, test_blend_x_gmean, scores,best_rounds)"
   ]
  },
  {
   "cell_type": "code",
   "execution_count": 11,
   "metadata": {
    "collapsed": false
   },
   "outputs": [
    {
     "name": "stdout",
     "output_type": "stream",
     "text": [
      "Blend 1 estimators for 10 folds\n",
      "Model 1:\n",
      "Model 1 fold 1\n",
      "Score:  0.556161701043\n",
      "Model 1 fold 1 fitting finished in 325.352s\n",
      "Model 1 fold 2\n",
      "Score:  0.542124875793\n",
      "Model 1 fold 2 fitting finished in 341.401s\n",
      "Model 1 fold 3\n",
      "Score:  0.564869260906\n",
      "Model 1 fold 3 fitting finished in 347.870s\n",
      "Model 1 fold 4\n",
      "Score:  0.546396369297\n",
      "Model 1 fold 4 fitting finished in 358.871s\n",
      "Model 1 fold 5\n",
      "Score:  0.568791604466\n",
      "Model 1 fold 5 fitting finished in 360.665s\n",
      "Model 1 fold 6\n",
      "Score:  0.559385475422\n",
      "Model 1 fold 6 fitting finished in 366.037s\n",
      "Model 1 fold 7\n",
      "Score:  0.572073103473\n",
      "Model 1 fold 7 fitting finished in 401.628s\n",
      "Model 1 fold 8\n",
      "Score:  0.584279045041\n",
      "Model 1 fold 8 fitting finished in 399.332s\n",
      "Model 1 fold 9\n",
      "Score:  0.58056300491\n",
      "Model 1 fold 9 fitting finished in 374.735s\n",
      "Model 1 fold 10\n",
      "Score:  0.566028800812\n",
      "Model 1 fold 10 fitting finished in 381.840s\n",
      "Score for model 1 is 0.564067\n",
      "Score for blended models is 0.564067\n"
     ]
    }
   ],
   "source": [
    "est = [ExtraTreesClassifier(max_features=max_features,\n",
    "                            n_estimators=1000,\n",
    "                            min_samples_leaf = min_samples_leaf,\n",
    "                            random_state=seed,\n",
    "                            criterion = 'entropy',\n",
    "                            n_jobs = 6\n",
    "                           )]\n",
    "\n",
    "(train_blend_x_RFC,\n",
    " test_blend_x_RFC_mean,\n",
    " test_blend_x_RFC_gmean,\n",
    " blend_scores_RFC,\n",
    " best_rounds_RFC) = ET_blend(est,\n",
    "                             train_X,train_y,\n",
    "                             test_X,\n",
    "                             10)"
   ]
  },
  {
   "cell_type": "code",
   "execution_count": 12,
   "metadata": {
    "collapsed": false
   },
   "outputs": [
    {
     "name": "stdout",
     "output_type": "stream",
     "text": [
      "[ 0.56406732]\n"
     ]
    }
   ],
   "source": [
    "now = datetime.now()\n",
    "\n",
    "name_train_blend = '../blend/train_blend_ET_entropy_BM_0322_' + str(now.strftime(\"%Y-%m-%d-%H-%M\")) + '.csv'\n",
    "name_test_blend_mean = '../blend/test_blend_ET_entropy_mean_BM_0322_' + str(now.strftime(\"%Y-%m-%d-%H-%M\")) + '.csv'\n",
    "name_test_blend_gmean = '../blend/test_blend_ET_entropy_gmean_BM_0322_' + str(now.strftime(\"%Y-%m-%d-%H-%M\")) + '.csv'\n",
    "\n",
    "\n",
    "print (np.mean(blend_scores_RFC,axis=0))\n",
    "# print (np.mean(best_rounds_RFC,axis=0))\n",
    "np.savetxt(name_train_blend,train_blend_x_RFC, delimiter=\",\")\n",
    "np.savetxt(name_test_blend_mean,test_blend_x_RFC_mean, delimiter=\",\")\n",
    "np.savetxt(name_test_blend_gmean,test_blend_x_RFC_gmean, delimiter=\",\")"
   ]
  },
  {
   "cell_type": "code",
   "execution_count": null,
   "metadata": {
    "collapsed": true
   },
   "outputs": [],
   "source": []
  },
  {
   "cell_type": "code",
   "execution_count": 13,
   "metadata": {
    "collapsed": true
   },
   "outputs": [],
   "source": [
    "def ET_cv(max_features = 0.5, n_estimators=300, min_samples_leaf  =1):\n",
    "    est=ExtraTreesClassifier(max_features=max_features,\n",
    "                             n_estimators=int(n_estimators),\n",
    "                             min_samples_leaf =int(min_samples_leaf), \n",
    "                             criterion = 'gini',\n",
    "                             random_state=seed,\n",
    "                             n_jobs = 6\n",
    "                            )\n",
    "    return cross_val_score(est,train_X,train_y, scoring = 'neg_log_loss', cv = 3).mean()"
   ]
  },
  {
   "cell_type": "code",
   "execution_count": 14,
   "metadata": {
    "collapsed": false
   },
   "outputs": [
    {
     "name": "stdout",
     "output_type": "stream",
     "text": [
      "0.1 \t-0.612052632788\n",
      "0.2 \t-0.604165834253\n",
      "0.3 \t-0.603461005474\n",
      "0.4 \t-0.602285482056\n",
      "0.5 \t-0.601341062993\n",
      "0.6 \t-0.602959221223\n",
      "0.7 \t-0.607538019436\n",
      "0.8 \t-0.605593609964\n",
      "0.9 \t-0.60469466488\n"
     ]
    }
   ],
   "source": [
    "cv_score = -1\n",
    "for x in [0.1,0.2,0.3,0.4,0.5,0.6,0.7,0.8,0.9]:\n",
    "    score = ET_cv(max_features = x)\n",
    "    if score > cv_score:\n",
    "        max_features = x\n",
    "        cv_score = score\n",
    "    print x,'\\t', score"
   ]
  },
  {
   "cell_type": "code",
   "execution_count": 15,
   "metadata": {
    "collapsed": false
   },
   "outputs": [
    {
     "name": "stdout",
     "output_type": "stream",
     "text": [
      "0.5\n"
     ]
    }
   ],
   "source": [
    "print max_features"
   ]
  },
  {
   "cell_type": "code",
   "execution_count": 16,
   "metadata": {
    "collapsed": false
   },
   "outputs": [
    {
     "name": "stdout",
     "output_type": "stream",
     "text": [
      "1 \t-0.601341062993\n",
      "2 \t-0.586324223833\n",
      "4 \t-0.579769353193\n",
      "8 \t-0.579132526203\n",
      "12 \t-0.582447661746\n",
      "16 \t-0.585585005619\n",
      "20 \t-0.587480969893\n",
      "24 \t-0.590039070743\n"
     ]
    }
   ],
   "source": [
    "for x in [1,2,4,8,12,16,20,24]:\n",
    "    score = ET_cv(max_features = max_features,min_samples_leaf = x)\n",
    "    if score > cv_score:\n",
    "        min_samples_leaf = x\n",
    "        cv_score = score    \n",
    "    print x, '\\t', score"
   ]
  },
  {
   "cell_type": "code",
   "execution_count": 17,
   "metadata": {
    "collapsed": false
   },
   "outputs": [
    {
     "name": "stdout",
     "output_type": "stream",
     "text": [
      "5 \t-0.579156368162\n",
      "6 \t-0.578568367824\n",
      "7 \t-0.578673505398\n",
      "9 \t-0.580514684195\n",
      "10 \t-0.581001651326\n",
      "11 \t-0.581541582001\n"
     ]
    }
   ],
   "source": [
    "for x in [5,6,7,9,10,11]:\n",
    "    score = ET_cv(max_features = max_features,min_samples_leaf = x)\n",
    "    if score > cv_score:\n",
    "        min_samples_leaf = x\n",
    "        cv_score = score    \n",
    "    print x, '\\t', score"
   ]
  },
  {
   "cell_type": "code",
   "execution_count": 18,
   "metadata": {
    "collapsed": false
   },
   "outputs": [
    {
     "name": "stdout",
     "output_type": "stream",
     "text": [
      "6\n"
     ]
    }
   ],
   "source": [
    "print min_samples_leaf"
   ]
  },
  {
   "cell_type": "code",
   "execution_count": 19,
   "metadata": {
    "collapsed": false
   },
   "outputs": [
    {
     "name": "stdout",
     "output_type": "stream",
     "text": [
      "Blend 1 estimators for 10 folds\n",
      "Model 1:\n",
      "Model 1 fold 1\n",
      "Score:  0.558474651054\n",
      "Model 1 fold 1 fitting finished in 336.085s\n",
      "Model 1 fold 2\n",
      "Score:  0.544352585031\n",
      "Model 1 fold 2 fitting finished in 342.855s\n",
      "Model 1 fold 3\n",
      "Score:  0.565533127364\n",
      "Model 1 fold 3 fitting finished in 335.727s\n",
      "Model 1 fold 4\n",
      "Score:  0.553325991806\n",
      "Model 1 fold 4 fitting finished in 341.101s\n",
      "Model 1 fold 5\n",
      "Score:  0.570063770407\n",
      "Model 1 fold 5 fitting finished in 334.438s\n",
      "Model 1 fold 6\n",
      "Score:  0.559893594053\n",
      "Model 1 fold 6 fitting finished in 340.051s\n",
      "Model 1 fold 7\n",
      "Score:  0.574254170202\n",
      "Model 1 fold 7 fitting finished in 340.110s\n",
      "Model 1 fold 8\n",
      "Score:  0.586023329822\n",
      "Model 1 fold 8 fitting finished in 334.625s\n",
      "Model 1 fold 9\n",
      "Score:  0.582437586067\n",
      "Model 1 fold 9 fitting finished in 342.305s\n",
      "Model 1 fold 10\n",
      "Score:  0.568207713545\n",
      "Model 1 fold 10 fitting finished in 370.251s\n",
      "Score for model 1 is 0.566257\n",
      "Score for blended models is 0.566257\n"
     ]
    }
   ],
   "source": [
    "est = [ExtraTreesClassifier(max_features=max_features,\n",
    "                              n_estimators=1000,\n",
    "                              min_samples_leaf = min_samples_leaf,\n",
    "                              random_state=seed,\n",
    "                              criterion = 'gini',\n",
    "                              n_jobs = 6\n",
    "                             )]\n",
    "\n",
    "(train_blend_x_RFC,\n",
    " test_blend_x_RFC_mean,\n",
    " test_blend_x_RFC_gmean,\n",
    " blend_scores_RFC,\n",
    " best_rounds_RFC) = ET_blend(est,\n",
    "                              train_X,train_y,\n",
    "                              test_X,\n",
    "                              10)"
   ]
  },
  {
   "cell_type": "code",
   "execution_count": 20,
   "metadata": {
    "collapsed": false
   },
   "outputs": [
    {
     "name": "stdout",
     "output_type": "stream",
     "text": [
      "[ 0.56625665]\n"
     ]
    }
   ],
   "source": [
    "now = datetime.now()\n",
    "\n",
    "name_train_blend = '../blend/train_blend_ET_gini_BM_0322_' + str(now.strftime(\"%Y-%m-%d-%H-%M\")) + '.csv'\n",
    "name_test_blend_mean = '../blend/test_blend_ET_gini_mean_BM_0322_' + str(now.strftime(\"%Y-%m-%d-%H-%M\")) + '.csv'\n",
    "name_test_blend_gmean = '../blend/test_blend_ET_gini_gmean_BM_0322_' + str(now.strftime(\"%Y-%m-%d-%H-%M\")) + '.csv'\n",
    "\n",
    "\n",
    "print (np.mean(blend_scores_RFC,axis=0))\n",
    "# print (np.mean(best_rounds_RFC,axis=0))\n",
    "np.savetxt(name_train_blend,train_blend_x_RFC, delimiter=\",\")\n",
    "np.savetxt(name_test_blend_mean,test_blend_x_RFC_mean, delimiter=\",\")\n",
    "np.savetxt(name_test_blend_gmean,test_blend_x_RFC_gmean, delimiter=\",\")"
   ]
  },
  {
   "cell_type": "code",
   "execution_count": null,
   "metadata": {
    "collapsed": true
   },
   "outputs": [],
   "source": []
  },
  {
   "cell_type": "code",
   "execution_count": 40,
   "metadata": {
    "collapsed": false
   },
   "outputs": [],
   "source": [
    "sub_name = '../output/sub_ET_gini_gmean_BM_0322_' + str(now.strftime(\"%Y-%m-%d-%H-%M\")) + '.csv'\n",
    "\n",
    "out_df = pd.DataFrame(test_blend_x_RFC_gmean[:,:3])\n",
    "out_df.columns = [\"low\", \"medium\", \"high\"]\n",
    "out_df[\"listing_id\"] = test_X.listing_id.values\n",
    "out_df.to_csv(sub_name, index=False)"
   ]
  },
  {
   "cell_type": "code",
   "execution_count": null,
   "metadata": {
    "collapsed": true
   },
   "outputs": [],
   "source": []
  }
 ],
 "metadata": {
  "anaconda-cloud": {},
  "kernelspec": {
   "display_name": "Python [conda root]",
   "language": "python",
   "name": "conda-root-py"
  },
  "language_info": {
   "codemirror_mode": {
    "name": "ipython",
    "version": 2
   },
   "file_extension": ".py",
   "mimetype": "text/x-python",
   "name": "python",
   "nbconvert_exporter": "python",
   "pygments_lexer": "ipython2",
   "version": "2.7.12"
  }
 },
 "nbformat": 4,
 "nbformat_minor": 1
}
