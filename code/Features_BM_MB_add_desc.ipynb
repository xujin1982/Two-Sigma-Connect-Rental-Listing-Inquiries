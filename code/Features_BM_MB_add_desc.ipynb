{
 "cells": [
  {
   "cell_type": "code",
   "execution_count": 1,
   "metadata": {
    "collapsed": true
   },
   "outputs": [],
   "source": [
    "import pandas as pd\n",
    "import time\n",
    "import numpy as np\n",
    "from sklearn.model_selection import train_test_split,cross_val_score, GridSearchCV,StratifiedKFold, KFold\n",
    "from sklearn.feature_extraction.text import TfidfVectorizer, CountVectorizer\n",
    "import random\n",
    "from sklearn import preprocessing\n",
    "import gc\n",
    "from scipy.stats import skew, boxcox\n",
    "from bayes_opt import BayesianOptimization\n",
    "from scipy import sparse\n",
    "from sklearn.metrics import log_loss\n",
    "from datetime import datetime\n",
    "\n",
    "import matplotlib.pyplot as plt\n",
    "import seaborn as sns\n",
    "%matplotlib inline\n",
    "\n",
    "seed = 2017"
   ]
  },
  {
   "cell_type": "code",
   "execution_count": 2,
   "metadata": {
    "collapsed": false
   },
   "outputs": [
    {
     "name": "stdout",
     "output_type": "stream",
     "text": [
      "(49352, 287) (74659, 287) (49352L,)\n"
     ]
    }
   ],
   "source": [
    "data_path = \"../input/\"\n",
    "train_X = pd.read_csv(data_path + 'train_BrandenMurray_MedianBedroom.csv')\n",
    "test_X = pd.read_csv(data_path + 'test_BrandenMurray_MedianBedroom.csv')\n",
    "train_y = np.ravel(pd.read_csv(data_path + 'labels_BrandenMurray.csv'))\n",
    "ntrain = train_X.shape[0]\n",
    "# all_features = features_to_use + desc_sparse_cols + feat_sparse_cols\n",
    "print train_X.shape, test_X.shape, train_y.shape"
   ]
  },
  {
   "cell_type": "code",
   "execution_count": 3,
   "metadata": {
    "collapsed": true
   },
   "outputs": [],
   "source": [
    "data_path = \"../input/\"\n",
    "\n",
    "train_df = pd.read_pickle(data_path + 'train_2017-03-05-22-40.pkl')\n",
    "train_y = pd.read_pickle(data_path + 'y_2017-03-05-22-40.pkl')\n",
    "test_df = pd.read_pickle(data_path + 'test_2017-03-05-22-40.pkl')\n",
    "features_to_use = pd.read_pickle(data_path + 'featurestouse_2017-03-05-22-40.pkl')\n",
    "\n",
    "tr_desc_sparse = pd.read_pickle(data_path + 'tr_desc_sparse_2017-03-05-22-40.pkl')\n",
    "tr_feat_sparse = pd.read_pickle(data_path + 'tr_feat_sparse_2017-03-05-22-40.pkl')\n",
    "te_desc_sparse = pd.read_pickle(data_path + 'te_desc_sparse_2017-03-05-22-40.pkl')\n",
    "te_feat_sparse = pd.read_pickle(data_path + 'te_feat_sparse_2017-03-05-22-40.pkl')\n",
    "\n",
    "desc_sparse_cols = pd.read_pickle(data_path + 'desc_sparse_cols_2017-03-05-22-40.pkl')\n",
    "feat_sparse_cols = pd.read_pickle(data_path + 'feat_sparse_cols_2017-03-05-22-40.pkl')"
   ]
  },
  {
   "cell_type": "code",
   "execution_count": 7,
   "metadata": {
    "collapsed": true
   },
   "outputs": [
    {
     "data": {
      "text/plain": [
       "['sc_price',\n",
       " 'sc_ba_price',\n",
       " 'sc_be_price',\n",
       " 'sc_bathrooms',\n",
       " 'sc_bedrooms',\n",
       " 'sc_babe',\n",
       " 'sc_longitude',\n",
       " 'sc_latitude',\n",
       " 'num_photos',\n",
       " 'num_features',\n",
       " 'created_month',\n",
       " 'created_day',\n",
       " 'created_hour',\n",
       " 'created_weekday',\n",
       " 'num_description_words',\n",
       " 'num_description_sent',\n",
       " 'compound',\n",
       " 'neg',\n",
       " 'neu',\n",
       " 'pos',\n",
       " 'display_address_lbl',\n",
       " 'manager_id_lbl',\n",
       " 'building_id_lbl',\n",
       " 'street_address_lbl',\n",
       " 'price_outlier',\n",
       " 'bedrooms0',\n",
       " 'bathrooms0',\n",
       " 'bathrooms_outlier',\n",
       " 'bedrooms_outlier',\n",
       " 'latitude_outlier',\n",
       " 'longitude_outlier',\n",
       " 'street',\n",
       " 'avenue',\n",
       " 'east',\n",
       " 'west',\n",
       " 'north',\n",
       " 'south',\n",
       " 'other_address',\n",
       " 'top_10_manager',\n",
       " 'top_25_manager',\n",
       " 'top_5_manager',\n",
       " 'top_50_manager',\n",
       " 'top_1_manager',\n",
       " 'top_2_manager',\n",
       " 'top_15_manager',\n",
       " 'top_20_manager',\n",
       " 'top_30_manager',\n",
       " 'Zero_building_id',\n",
       " 'top_10_building',\n",
       " 'top_25_building',\n",
       " 'top_5_building',\n",
       " 'top_50_building',\n",
       " 'top_1_building',\n",
       " 'top_2_building',\n",
       " 'top_15_building',\n",
       " 'top_20_building',\n",
       " 'top_30_building']"
      ]
     },
     "execution_count": 7,
     "metadata": {},
     "output_type": "execute_result"
    }
   ],
   "source": [
    "features_to_use"
   ]
  },
  {
   "cell_type": "code",
   "execution_count": 5,
   "metadata": {
    "collapsed": false
   },
   "outputs": [],
   "source": [
    "features_to_add =['num_features','created_month','created_day','created_hour','created_weekday',\n",
    "                 'compound','neg','neu','pos','street','avenue','east','west','north','south',\n",
    "                  'other_address','top_10_manager','top_25_manager','top_5_manager','top_50_manager',\n",
    "                  'top_1_manager','top_2_manager','top_15_manager','top_20_manager','top_30_manager',\n",
    "                  'Zero_building_id','top_10_building','top_25_building','top_5_building','top_50_building',\n",
    "                  'top_1_building','top_2_building','top_15_building','top_20_building','top_30_building']\n",
    "features_to_add.append('listing_id')"
   ]
  },
  {
   "cell_type": "code",
   "execution_count": 6,
   "metadata": {
    "collapsed": false
   },
   "outputs": [],
   "source": [
    "train_X_add = train_X.merge(train_df[features_to_add], on = 'listing_id', how = 'left')\n",
    "test_X_add = test_X.merge(test_df[features_to_add], on = 'listing_id', how = 'left')"
   ]
  },
  {
   "cell_type": "code",
   "execution_count": 8,
   "metadata": {
    "collapsed": false
   },
   "outputs": [
    {
     "data": {
      "text/html": [
       "<div>\n",
       "<table border=\"1\" class=\"dataframe\">\n",
       "  <thead>\n",
       "    <tr style=\"text-align: right;\">\n",
       "      <th></th>\n",
       "      <th>listing_id</th>\n",
       "      <th>bathrooms</th>\n",
       "      <th>bedrooms</th>\n",
       "      <th>building_id</th>\n",
       "      <th>display_address</th>\n",
       "      <th>latitude</th>\n",
       "      <th>longitude</th>\n",
       "      <th>manager_id</th>\n",
       "      <th>price</th>\n",
       "      <th>street_address</th>\n",
       "      <th>...</th>\n",
       "      <th>desc_wordcount</th>\n",
       "      <th>pricePerBed</th>\n",
       "      <th>pricePerBath</th>\n",
       "      <th>pricePerRoom</th>\n",
       "      <th>bedPerBath</th>\n",
       "      <th>bedBathDiff</th>\n",
       "      <th>bedBathSum</th>\n",
       "      <th>bedsPerc</th>\n",
       "      <th>median_price_bed</th>\n",
       "      <th>ratio_bed</th>\n",
       "    </tr>\n",
       "  </thead>\n",
       "  <tbody>\n",
       "    <tr>\n",
       "      <th>0</th>\n",
       "      <td>7170325</td>\n",
       "      <td>1.0</td>\n",
       "      <td>1</td>\n",
       "      <td>3387</td>\n",
       "      <td>281</td>\n",
       "      <td>40.7108</td>\n",
       "      <td>-73.9539</td>\n",
       "      <td>2104</td>\n",
       "      <td>2400.0</td>\n",
       "      <td>2947</td>\n",
       "      <td>...</td>\n",
       "      <td>553</td>\n",
       "      <td>2400.0</td>\n",
       "      <td>2400.0</td>\n",
       "      <td>1200.000000</td>\n",
       "      <td>2400.0</td>\n",
       "      <td>0.0</td>\n",
       "      <td>2.0</td>\n",
       "      <td>0.500000</td>\n",
       "      <td>2900.0</td>\n",
       "      <td>0.827586</td>\n",
       "    </tr>\n",
       "    <tr>\n",
       "      <th>1</th>\n",
       "      <td>7092344</td>\n",
       "      <td>1.0</td>\n",
       "      <td>2</td>\n",
       "      <td>4758</td>\n",
       "      <td>3434</td>\n",
       "      <td>40.7513</td>\n",
       "      <td>-73.9722</td>\n",
       "      <td>1964</td>\n",
       "      <td>3800.0</td>\n",
       "      <td>8215</td>\n",
       "      <td>...</td>\n",
       "      <td>827</td>\n",
       "      <td>1900.0</td>\n",
       "      <td>3800.0</td>\n",
       "      <td>1266.666667</td>\n",
       "      <td>3800.0</td>\n",
       "      <td>1.0</td>\n",
       "      <td>3.0</td>\n",
       "      <td>0.666667</td>\n",
       "      <td>3350.0</td>\n",
       "      <td>1.134328</td>\n",
       "    </tr>\n",
       "    <tr>\n",
       "      <th>2</th>\n",
       "      <td>7158677</td>\n",
       "      <td>1.0</td>\n",
       "      <td>2</td>\n",
       "      <td>5289</td>\n",
       "      <td>3457</td>\n",
       "      <td>40.7575</td>\n",
       "      <td>-73.9625</td>\n",
       "      <td>2627</td>\n",
       "      <td>3495.0</td>\n",
       "      <td>15314</td>\n",
       "      <td>...</td>\n",
       "      <td>799</td>\n",
       "      <td>1747.5</td>\n",
       "      <td>3495.0</td>\n",
       "      <td>1165.000000</td>\n",
       "      <td>3495.0</td>\n",
       "      <td>1.0</td>\n",
       "      <td>3.0</td>\n",
       "      <td>0.666667</td>\n",
       "      <td>3350.0</td>\n",
       "      <td>1.043284</td>\n",
       "    </tr>\n",
       "    <tr>\n",
       "      <th>3</th>\n",
       "      <td>7211212</td>\n",
       "      <td>1.5</td>\n",
       "      <td>3</td>\n",
       "      <td>2104</td>\n",
       "      <td>4018</td>\n",
       "      <td>40.7145</td>\n",
       "      <td>-73.9425</td>\n",
       "      <td>1204</td>\n",
       "      <td>3000.0</td>\n",
       "      <td>21701</td>\n",
       "      <td>...</td>\n",
       "      <td>588</td>\n",
       "      <td>1000.0</td>\n",
       "      <td>2000.0</td>\n",
       "      <td>666.666667</td>\n",
       "      <td>2000.0</td>\n",
       "      <td>1.5</td>\n",
       "      <td>4.5</td>\n",
       "      <td>0.666667</td>\n",
       "      <td>4500.0</td>\n",
       "      <td>0.666667</td>\n",
       "    </tr>\n",
       "    <tr>\n",
       "      <th>4</th>\n",
       "      <td>7225292</td>\n",
       "      <td>1.0</td>\n",
       "      <td>0</td>\n",
       "      <td>4930</td>\n",
       "      <td>3411</td>\n",
       "      <td>40.7439</td>\n",
       "      <td>-73.9743</td>\n",
       "      <td>610</td>\n",
       "      <td>2795.0</td>\n",
       "      <td>13511</td>\n",
       "      <td>...</td>\n",
       "      <td>344</td>\n",
       "      <td>-1.0</td>\n",
       "      <td>2795.0</td>\n",
       "      <td>2795.000000</td>\n",
       "      <td>2795.0</td>\n",
       "      <td>-1.0</td>\n",
       "      <td>1.0</td>\n",
       "      <td>0.000000</td>\n",
       "      <td>2400.0</td>\n",
       "      <td>1.164583</td>\n",
       "    </tr>\n",
       "  </tbody>\n",
       "</table>\n",
       "<p>5 rows × 287 columns</p>\n",
       "</div>"
      ],
      "text/plain": [
       "   listing_id  bathrooms  bedrooms  building_id  display_address  latitude  \\\n",
       "0     7170325        1.0         1         3387              281   40.7108   \n",
       "1     7092344        1.0         2         4758             3434   40.7513   \n",
       "2     7158677        1.0         2         5289             3457   40.7575   \n",
       "3     7211212        1.5         3         2104             4018   40.7145   \n",
       "4     7225292        1.0         0         4930             3411   40.7439   \n",
       "\n",
       "   longitude  manager_id   price  street_address    ...      desc_wordcount  \\\n",
       "0   -73.9539        2104  2400.0            2947    ...                 553   \n",
       "1   -73.9722        1964  3800.0            8215    ...                 827   \n",
       "2   -73.9625        2627  3495.0           15314    ...                 799   \n",
       "3   -73.9425        1204  3000.0           21701    ...                 588   \n",
       "4   -73.9743         610  2795.0           13511    ...                 344   \n",
       "\n",
       "   pricePerBed  pricePerBath  pricePerRoom  bedPerBath  bedBathDiff  \\\n",
       "0       2400.0        2400.0   1200.000000      2400.0          0.0   \n",
       "1       1900.0        3800.0   1266.666667      3800.0          1.0   \n",
       "2       1747.5        3495.0   1165.000000      3495.0          1.0   \n",
       "3       1000.0        2000.0    666.666667      2000.0          1.5   \n",
       "4         -1.0        2795.0   2795.000000      2795.0         -1.0   \n",
       "\n",
       "   bedBathSum  bedsPerc  median_price_bed  ratio_bed  \n",
       "0         2.0  0.500000            2900.0   0.827586  \n",
       "1         3.0  0.666667            3350.0   1.134328  \n",
       "2         3.0  0.666667            3350.0   1.043284  \n",
       "3         4.5  0.666667            4500.0   0.666667  \n",
       "4         1.0  0.000000            2400.0   1.164583  \n",
       "\n",
       "[5 rows x 287 columns]"
      ]
     },
     "execution_count": 8,
     "metadata": {},
     "output_type": "execute_result"
    }
   ],
   "source": [
    "train_X.head()"
   ]
  },
  {
   "cell_type": "code",
   "execution_count": 9,
   "metadata": {
    "collapsed": false
   },
   "outputs": [
    {
     "name": "stdout",
     "output_type": "stream",
     "text": [
      "['num_features', 'created_month', 'created_day', 'created_hour', 'created_weekday', 'compound', 'neg', 'neu', 'pos', 'listing_id']\n"
     ]
    }
   ],
   "source": [
    "tmp_feature = features_to_add[:9]\n",
    "tmp_feature.append('listing_id')\n",
    "print tmp_feature"
   ]
  },
  {
   "cell_type": "code",
   "execution_count": 10,
   "metadata": {
    "collapsed": false
   },
   "outputs": [
    {
     "data": {
      "text/html": [
       "<div>\n",
       "<table border=\"1\" class=\"dataframe\">\n",
       "  <thead>\n",
       "    <tr style=\"text-align: right;\">\n",
       "      <th></th>\n",
       "      <th>num_features</th>\n",
       "      <th>created_month</th>\n",
       "      <th>created_day</th>\n",
       "      <th>created_hour</th>\n",
       "      <th>created_weekday</th>\n",
       "      <th>compound</th>\n",
       "      <th>neg</th>\n",
       "      <th>neu</th>\n",
       "      <th>pos</th>\n",
       "      <th>listing_id</th>\n",
       "    </tr>\n",
       "  </thead>\n",
       "  <tbody>\n",
       "    <tr>\n",
       "      <th>0</th>\n",
       "      <td>0.339694</td>\n",
       "      <td>1.193093</td>\n",
       "      <td>-0.505312</td>\n",
       "      <td>0.498371</td>\n",
       "      <td>1.159588</td>\n",
       "      <td>-1.569938</td>\n",
       "      <td>1.635868</td>\n",
       "      <td>0.045259</td>\n",
       "      <td>0.477879</td>\n",
       "      <td>7142618</td>\n",
       "    </tr>\n",
       "    <tr>\n",
       "      <th>1</th>\n",
       "      <td>-0.489211</td>\n",
       "      <td>1.193093</td>\n",
       "      <td>1.068638</td>\n",
       "      <td>0.739991</td>\n",
       "      <td>0.598349</td>\n",
       "      <td>-1.340780</td>\n",
       "      <td>-0.779948</td>\n",
       "      <td>0.993037</td>\n",
       "      <td>-1.653623</td>\n",
       "      <td>7210040</td>\n",
       "    </tr>\n",
       "    <tr>\n",
       "      <th>2</th>\n",
       "      <td>-0.489211</td>\n",
       "      <td>1.193093</td>\n",
       "      <td>0.221126</td>\n",
       "      <td>-1.716515</td>\n",
       "      <td>0.598349</td>\n",
       "      <td>-0.071426</td>\n",
       "      <td>-0.779948</td>\n",
       "      <td>0.208093</td>\n",
       "      <td>0.653913</td>\n",
       "      <td>7174566</td>\n",
       "    </tr>\n",
       "    <tr>\n",
       "      <th>3</th>\n",
       "      <td>-0.489211</td>\n",
       "      <td>1.193093</td>\n",
       "      <td>0.705419</td>\n",
       "      <td>0.498371</td>\n",
       "      <td>-1.085366</td>\n",
       "      <td>1.283644</td>\n",
       "      <td>-0.779948</td>\n",
       "      <td>-0.155152</td>\n",
       "      <td>1.375685</td>\n",
       "      <td>7191391</td>\n",
       "    </tr>\n",
       "    <tr>\n",
       "      <th>4</th>\n",
       "      <td>1.142222</td>\n",
       "      <td>1.193093</td>\n",
       "      <td>0.100053</td>\n",
       "      <td>0.937869</td>\n",
       "      <td>0.037111</td>\n",
       "      <td>0.878496</td>\n",
       "      <td>1.452939</td>\n",
       "      <td>0.004898</td>\n",
       "      <td>0.681640</td>\n",
       "      <td>7171695</td>\n",
       "    </tr>\n",
       "  </tbody>\n",
       "</table>\n",
       "</div>"
      ],
      "text/plain": [
       "   num_features  created_month  created_day  created_hour  created_weekday  \\\n",
       "0      0.339694       1.193093    -0.505312      0.498371         1.159588   \n",
       "1     -0.489211       1.193093     1.068638      0.739991         0.598349   \n",
       "2     -0.489211       1.193093     0.221126     -1.716515         0.598349   \n",
       "3     -0.489211       1.193093     0.705419      0.498371        -1.085366   \n",
       "4      1.142222       1.193093     0.100053      0.937869         0.037111   \n",
       "\n",
       "   compound       neg       neu       pos  listing_id  \n",
       "0 -1.569938  1.635868  0.045259  0.477879     7142618  \n",
       "1 -1.340780 -0.779948  0.993037 -1.653623     7210040  \n",
       "2 -0.071426 -0.779948  0.208093  0.653913     7174566  \n",
       "3  1.283644 -0.779948 -0.155152  1.375685     7191391  \n",
       "4  0.878496  1.452939  0.004898  0.681640     7171695  "
      ]
     },
     "execution_count": 10,
     "metadata": {},
     "output_type": "execute_result"
    }
   ],
   "source": [
    "test_X_add[tmp_feature].head()"
   ]
  },
  {
   "cell_type": "code",
   "execution_count": 11,
   "metadata": {
    "collapsed": false
   },
   "outputs": [
    {
     "data": {
      "text/html": [
       "<div>\n",
       "<table border=\"1\" class=\"dataframe\">\n",
       "  <thead>\n",
       "    <tr style=\"text-align: right;\">\n",
       "      <th></th>\n",
       "      <th>num_features</th>\n",
       "      <th>created_month</th>\n",
       "      <th>created_day</th>\n",
       "      <th>created_hour</th>\n",
       "      <th>created_weekday</th>\n",
       "      <th>compound</th>\n",
       "      <th>neg</th>\n",
       "      <th>neu</th>\n",
       "      <th>pos</th>\n",
       "      <th>listing_id</th>\n",
       "    </tr>\n",
       "  </thead>\n",
       "  <tbody>\n",
       "    <tr>\n",
       "      <th>21140</th>\n",
       "      <td>-0.489211</td>\n",
       "      <td>1.193093</td>\n",
       "      <td>0.221126</td>\n",
       "      <td>-1.716515</td>\n",
       "      <td>0.598349</td>\n",
       "      <td>-0.071426</td>\n",
       "      <td>-0.779948</td>\n",
       "      <td>0.208093</td>\n",
       "      <td>0.653913</td>\n",
       "      <td>7174566</td>\n",
       "    </tr>\n",
       "  </tbody>\n",
       "</table>\n",
       "</div>"
      ],
      "text/plain": [
       "       num_features  created_month  created_day  created_hour  \\\n",
       "21140     -0.489211       1.193093     0.221126     -1.716515   \n",
       "\n",
       "       created_weekday  compound       neg       neu       pos  listing_id  \n",
       "21140         0.598349 -0.071426 -0.779948  0.208093  0.653913     7174566  "
      ]
     },
     "execution_count": 11,
     "metadata": {},
     "output_type": "execute_result"
    }
   ],
   "source": [
    "test_df[test_df.listing_id == 7174566][tmp_feature]"
   ]
  },
  {
   "cell_type": "code",
   "execution_count": 12,
   "metadata": {
    "collapsed": false
   },
   "outputs": [],
   "source": [
    "train_X_add.to_csv(data_path + 'train_BM_MB_add03052240.csv', index = False)\n",
    "test_X_add.to_csv(data_path + 'test_BM_MB_add03052240.csv', index = False)"
   ]
  },
  {
   "cell_type": "code",
   "execution_count": null,
   "metadata": {
    "collapsed": true
   },
   "outputs": [],
   "source": []
  }
 ],
 "metadata": {
  "anaconda-cloud": {},
  "kernelspec": {
   "display_name": "Python [conda root]",
   "language": "python",
   "name": "conda-root-py"
  },
  "language_info": {
   "codemirror_mode": {
    "name": "ipython",
    "version": 2
   },
   "file_extension": ".py",
   "mimetype": "text/x-python",
   "name": "python",
   "nbconvert_exporter": "python",
   "pygments_lexer": "ipython2",
   "version": "2.7.12"
  }
 },
 "nbformat": 4,
 "nbformat_minor": 1
}
